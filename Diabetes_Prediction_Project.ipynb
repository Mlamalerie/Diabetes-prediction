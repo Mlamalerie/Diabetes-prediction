{
  "nbformat": 4,
  "nbformat_minor": 0,
  "metadata": {
    "colab": {
      "provenance": [],
      "authorship_tag": "ABX9TyM+1wgdgePuYYiCaoB21/MN",
      "include_colab_link": true
    },
    "kernelspec": {
      "name": "python3",
      "display_name": "Python 3"
    },
    "language_info": {
      "name": "python"
    }
  },
  "cells": [
    {
      "cell_type": "markdown",
      "metadata": {
        "id": "view-in-github",
        "colab_type": "text"
      },
      "source": [
        "<a href=\"https://colab.research.google.com/github/Mlamalerie/Diabetes-prediction/blob/main/Diabetes_Prediction_Project.ipynb\" target=\"_parent\"><img src=\"https://colab.research.google.com/assets/colab-badge.svg\" alt=\"Open In Colab\"/></a>"
      ]
    },
    {
      "cell_type": "code",
      "execution_count": 292,
      "metadata": {
        "colab": {
          "base_uri": "https://localhost:8080/"
        },
        "id": "IXUUu2gvKKbm",
        "outputId": "fd4dbe50-6afd-4315-bbb5-6d045a3aee61"
      },
      "outputs": [
        {
          "output_type": "stream",
          "name": "stdout",
          "text": [
            "Drive already mounted at /content/gdrive; to attempt to forcibly remount, call drive.mount(\"/content/gdrive\", force_remount=True).\n"
          ]
        }
      ],
      "source": [
        "from google.colab import drive\n",
        "drive.mount('/content/gdrive')"
      ]
    },
    {
      "cell_type": "code",
      "source": [
        "WORKSPACE_PATH = \"/content/gdrive/Shareddrives/ING3 (2022-23) Mlamali/22 • Big Data/Project Evaluation ML\""
      ],
      "metadata": {
        "id": "ni0WhRvRMOQy"
      },
      "execution_count": 293,
      "outputs": []
    },
    {
      "cell_type": "markdown",
      "source": [
        "# Diabetes Prediction\n",
        "\n",
        "> Diabetes is a disease that occurs when your blood glucose, also called blood sugar, is too high. Blood glucose is your main source of energy and comes from the food you eat. Insulin, a hormone made by the pancreas, helps glucose from food get into your cells to be used for energy. Sometimes your body doesn’t make enough—or any—insulin or doesn’t use insulin well. Glucose then stays in your blood and doesn’t reach your cells.\n",
        "\n",
        "\n",
        "Can you build a machine learning model to accurately **predict whether or not the patients in the dataset have diabetes or not?**\n"
      ],
      "metadata": {
        "id": "k1yIiVX6O8e6"
      }
    },
    {
      "cell_type": "markdown",
      "source": [
        "## Import librairies"
      ],
      "metadata": {
        "id": "AjL3TorHq48i"
      }
    },
    {
      "cell_type": "code",
      "source": [
        "import pandas as pd \n",
        "import numpy as np\n",
        "\n",
        "import seaborn as sns # library for visualization\n",
        "import matplotlib.pyplot as plt # library for visualization\n",
        "%matplotlib inline\n",
        "\n",
        "import warnings\n",
        "import plotly.express as px\n",
        "import plotly.io as pio\n",
        "import plotly.graph_objects as go\n",
        "from plotly.subplots import make_subplots\n",
        "warnings.filterwarnings(\"ignore\")"
      ],
      "metadata": {
        "id": "pOvPx1ZFq4HF"
      },
      "execution_count": 368,
      "outputs": []
    },
    {
      "cell_type": "markdown",
      "source": [
        "## The Dataset\n",
        "\n",
        "This dataset is originally from the National Institute of Diabetes and Digestive and Kidney Diseases. The objective of the dataset is to diagnostically predict whether or not a patient has diabetes, based on certain diagnostic measurements included in the dataset. Several constraints were placed on the selection of these instances from a larger database. In particular, all patients here are females at least 21 years old of Pima Indian heritage.\n",
        "\n",
        "The dataset consists of several medical predictor variables and one target variable, Outcome. Predictor variables include the number of pregnancies the patient has had, their BMI, insulin level, age, and so on."
      ],
      "metadata": {
        "id": "EQUZCdubZM8z"
      }
    },
    {
      "cell_type": "markdown",
      "source": [
        "### Read\n",
        "load diabetes.csv"
      ],
      "metadata": {
        "id": "-NTkkmP0RbMq"
      }
    },
    {
      "cell_type": "code",
      "source": [
        "df_diabetes = pd.read_csv(f\"{WORKSPACE_PATH}/diabetes.csv\")\n",
        "df_diabetes.head()"
      ],
      "metadata": {
        "colab": {
          "base_uri": "https://localhost:8080/",
          "height": 206
        },
        "id": "P6hinXpAOeKj",
        "outputId": "8db4e141-a1d8-4953-db84-8db0f9bf5f50"
      },
      "execution_count": 295,
      "outputs": [
        {
          "output_type": "execute_result",
          "data": {
            "text/plain": [
              "   Pregnancies  Glucose  BloodPressure  SkinThickness  Insulin   BMI  \\\n",
              "0            6      148             72             35        0  33.6   \n",
              "1            1       85             66             29        0  26.6   \n",
              "2            8      183             64              0        0  23.3   \n",
              "3            1       89             66             23       94  28.1   \n",
              "4            0      137             40             35      168  43.1   \n",
              "\n",
              "   DiabetesPedigreeFunction  Age  Outcome  \n",
              "0                     0.627   50        1  \n",
              "1                     0.351   31        0  \n",
              "2                     0.672   32        1  \n",
              "3                     0.167   21        0  \n",
              "4                     2.288   33        1  "
            ],
            "text/html": [
              "\n",
              "  <div id=\"df-aa05e94b-db49-4045-abe1-00bee8eb0205\">\n",
              "    <div class=\"colab-df-container\">\n",
              "      <div>\n",
              "<style scoped>\n",
              "    .dataframe tbody tr th:only-of-type {\n",
              "        vertical-align: middle;\n",
              "    }\n",
              "\n",
              "    .dataframe tbody tr th {\n",
              "        vertical-align: top;\n",
              "    }\n",
              "\n",
              "    .dataframe thead th {\n",
              "        text-align: right;\n",
              "    }\n",
              "</style>\n",
              "<table border=\"1\" class=\"dataframe\">\n",
              "  <thead>\n",
              "    <tr style=\"text-align: right;\">\n",
              "      <th></th>\n",
              "      <th>Pregnancies</th>\n",
              "      <th>Glucose</th>\n",
              "      <th>BloodPressure</th>\n",
              "      <th>SkinThickness</th>\n",
              "      <th>Insulin</th>\n",
              "      <th>BMI</th>\n",
              "      <th>DiabetesPedigreeFunction</th>\n",
              "      <th>Age</th>\n",
              "      <th>Outcome</th>\n",
              "    </tr>\n",
              "  </thead>\n",
              "  <tbody>\n",
              "    <tr>\n",
              "      <th>0</th>\n",
              "      <td>6</td>\n",
              "      <td>148</td>\n",
              "      <td>72</td>\n",
              "      <td>35</td>\n",
              "      <td>0</td>\n",
              "      <td>33.6</td>\n",
              "      <td>0.627</td>\n",
              "      <td>50</td>\n",
              "      <td>1</td>\n",
              "    </tr>\n",
              "    <tr>\n",
              "      <th>1</th>\n",
              "      <td>1</td>\n",
              "      <td>85</td>\n",
              "      <td>66</td>\n",
              "      <td>29</td>\n",
              "      <td>0</td>\n",
              "      <td>26.6</td>\n",
              "      <td>0.351</td>\n",
              "      <td>31</td>\n",
              "      <td>0</td>\n",
              "    </tr>\n",
              "    <tr>\n",
              "      <th>2</th>\n",
              "      <td>8</td>\n",
              "      <td>183</td>\n",
              "      <td>64</td>\n",
              "      <td>0</td>\n",
              "      <td>0</td>\n",
              "      <td>23.3</td>\n",
              "      <td>0.672</td>\n",
              "      <td>32</td>\n",
              "      <td>1</td>\n",
              "    </tr>\n",
              "    <tr>\n",
              "      <th>3</th>\n",
              "      <td>1</td>\n",
              "      <td>89</td>\n",
              "      <td>66</td>\n",
              "      <td>23</td>\n",
              "      <td>94</td>\n",
              "      <td>28.1</td>\n",
              "      <td>0.167</td>\n",
              "      <td>21</td>\n",
              "      <td>0</td>\n",
              "    </tr>\n",
              "    <tr>\n",
              "      <th>4</th>\n",
              "      <td>0</td>\n",
              "      <td>137</td>\n",
              "      <td>40</td>\n",
              "      <td>35</td>\n",
              "      <td>168</td>\n",
              "      <td>43.1</td>\n",
              "      <td>2.288</td>\n",
              "      <td>33</td>\n",
              "      <td>1</td>\n",
              "    </tr>\n",
              "  </tbody>\n",
              "</table>\n",
              "</div>\n",
              "      <button class=\"colab-df-convert\" onclick=\"convertToInteractive('df-aa05e94b-db49-4045-abe1-00bee8eb0205')\"\n",
              "              title=\"Convert this dataframe to an interactive table.\"\n",
              "              style=\"display:none;\">\n",
              "        \n",
              "  <svg xmlns=\"http://www.w3.org/2000/svg\" height=\"24px\"viewBox=\"0 0 24 24\"\n",
              "       width=\"24px\">\n",
              "    <path d=\"M0 0h24v24H0V0z\" fill=\"none\"/>\n",
              "    <path d=\"M18.56 5.44l.94 2.06.94-2.06 2.06-.94-2.06-.94-.94-2.06-.94 2.06-2.06.94zm-11 1L8.5 8.5l.94-2.06 2.06-.94-2.06-.94L8.5 2.5l-.94 2.06-2.06.94zm10 10l.94 2.06.94-2.06 2.06-.94-2.06-.94-.94-2.06-.94 2.06-2.06.94z\"/><path d=\"M17.41 7.96l-1.37-1.37c-.4-.4-.92-.59-1.43-.59-.52 0-1.04.2-1.43.59L10.3 9.45l-7.72 7.72c-.78.78-.78 2.05 0 2.83L4 21.41c.39.39.9.59 1.41.59.51 0 1.02-.2 1.41-.59l7.78-7.78 2.81-2.81c.8-.78.8-2.07 0-2.86zM5.41 20L4 18.59l7.72-7.72 1.47 1.35L5.41 20z\"/>\n",
              "  </svg>\n",
              "      </button>\n",
              "      \n",
              "  <style>\n",
              "    .colab-df-container {\n",
              "      display:flex;\n",
              "      flex-wrap:wrap;\n",
              "      gap: 12px;\n",
              "    }\n",
              "\n",
              "    .colab-df-convert {\n",
              "      background-color: #E8F0FE;\n",
              "      border: none;\n",
              "      border-radius: 50%;\n",
              "      cursor: pointer;\n",
              "      display: none;\n",
              "      fill: #1967D2;\n",
              "      height: 32px;\n",
              "      padding: 0 0 0 0;\n",
              "      width: 32px;\n",
              "    }\n",
              "\n",
              "    .colab-df-convert:hover {\n",
              "      background-color: #E2EBFA;\n",
              "      box-shadow: 0px 1px 2px rgba(60, 64, 67, 0.3), 0px 1px 3px 1px rgba(60, 64, 67, 0.15);\n",
              "      fill: #174EA6;\n",
              "    }\n",
              "\n",
              "    [theme=dark] .colab-df-convert {\n",
              "      background-color: #3B4455;\n",
              "      fill: #D2E3FC;\n",
              "    }\n",
              "\n",
              "    [theme=dark] .colab-df-convert:hover {\n",
              "      background-color: #434B5C;\n",
              "      box-shadow: 0px 1px 3px 1px rgba(0, 0, 0, 0.15);\n",
              "      filter: drop-shadow(0px 1px 2px rgba(0, 0, 0, 0.3));\n",
              "      fill: #FFFFFF;\n",
              "    }\n",
              "  </style>\n",
              "\n",
              "      <script>\n",
              "        const buttonEl =\n",
              "          document.querySelector('#df-aa05e94b-db49-4045-abe1-00bee8eb0205 button.colab-df-convert');\n",
              "        buttonEl.style.display =\n",
              "          google.colab.kernel.accessAllowed ? 'block' : 'none';\n",
              "\n",
              "        async function convertToInteractive(key) {\n",
              "          const element = document.querySelector('#df-aa05e94b-db49-4045-abe1-00bee8eb0205');\n",
              "          const dataTable =\n",
              "            await google.colab.kernel.invokeFunction('convertToInteractive',\n",
              "                                                     [key], {});\n",
              "          if (!dataTable) return;\n",
              "\n",
              "          const docLinkHtml = 'Like what you see? Visit the ' +\n",
              "            '<a target=\"_blank\" href=https://colab.research.google.com/notebooks/data_table.ipynb>data table notebook</a>'\n",
              "            + ' to learn more about interactive tables.';\n",
              "          element.innerHTML = '';\n",
              "          dataTable['output_type'] = 'display_data';\n",
              "          await google.colab.output.renderOutput(dataTable, element);\n",
              "          const docLink = document.createElement('div');\n",
              "          docLink.innerHTML = docLinkHtml;\n",
              "          element.appendChild(docLink);\n",
              "        }\n",
              "      </script>\n",
              "    </div>\n",
              "  </div>\n",
              "  "
            ]
          },
          "metadata": {},
          "execution_count": 295
        }
      ]
    },
    {
      "cell_type": "markdown",
      "source": [
        "### Infos"
      ],
      "metadata": {
        "id": "xdyXRYwwY3G1"
      }
    },
    {
      "cell_type": "code",
      "source": [
        "df_diabetes.shape"
      ],
      "metadata": {
        "colab": {
          "base_uri": "https://localhost:8080/"
        },
        "id": "TPcCyokoR_6V",
        "outputId": "20148df6-948b-40db-867c-8dc738d796c2"
      },
      "execution_count": 296,
      "outputs": [
        {
          "output_type": "execute_result",
          "data": {
            "text/plain": [
              "(768, 9)"
            ]
          },
          "metadata": {},
          "execution_count": 296
        }
      ]
    },
    {
      "cell_type": "code",
      "source": [
        "df_diabetes.columns"
      ],
      "metadata": {
        "colab": {
          "base_uri": "https://localhost:8080/"
        },
        "id": "LXxr0ujvR84U",
        "outputId": "d0595331-7c0f-4276-a497-fceb0f8c30fa"
      },
      "execution_count": 297,
      "outputs": [
        {
          "output_type": "execute_result",
          "data": {
            "text/plain": [
              "Index(['Pregnancies', 'Glucose', 'BloodPressure', 'SkinThickness', 'Insulin',\n",
              "       'BMI', 'DiabetesPedigreeFunction', 'Age', 'Outcome'],\n",
              "      dtype='object')"
            ]
          },
          "metadata": {},
          "execution_count": 297
        }
      ]
    },
    {
      "cell_type": "markdown",
      "source": [
        "Les colonnes incluses dans ce jeu de données sont les suivantes :\n",
        "\n",
        "1. Pregnancies : Nombre de grossesses\n",
        "2. Glucose : Taux de glucose plasmatique à 2 heures dans un test de tolerance au glucose\n",
        "3. BloodPressure : Pression sanguine (mm Hg)\n",
        "4. SkinThickness : Épaisseur cutanée (mm)\n",
        "5. Insulin : Taux sérique d'insuline (mu U/ml)\n",
        "6. BMI : Indice de masse corporelle (poids en kg / (taille en m)^2)\n",
        "7. DiabetesPedigreeFunction : Fonction de pedigree de diabète\n",
        "8. Age : Âge (années)\n",
        "9. Outcome : Résultat du test de diabète (0 = pas de diabète, 1 = diabète)"
      ],
      "metadata": {
        "id": "jr1YPTyGRqh1"
      }
    },
    {
      "cell_type": "code",
      "source": [
        "df_diabetes.info()"
      ],
      "metadata": {
        "colab": {
          "base_uri": "https://localhost:8080/"
        },
        "id": "GgMNHhYESGdc",
        "outputId": "c977e236-1958-4b68-b648-54eb3a171e39"
      },
      "execution_count": 298,
      "outputs": [
        {
          "output_type": "stream",
          "name": "stdout",
          "text": [
            "<class 'pandas.core.frame.DataFrame'>\n",
            "RangeIndex: 768 entries, 0 to 767\n",
            "Data columns (total 9 columns):\n",
            " #   Column                    Non-Null Count  Dtype  \n",
            "---  ------                    --------------  -----  \n",
            " 0   Pregnancies               768 non-null    int64  \n",
            " 1   Glucose                   768 non-null    int64  \n",
            " 2   BloodPressure             768 non-null    int64  \n",
            " 3   SkinThickness             768 non-null    int64  \n",
            " 4   Insulin                   768 non-null    int64  \n",
            " 5   BMI                       768 non-null    float64\n",
            " 6   DiabetesPedigreeFunction  768 non-null    float64\n",
            " 7   Age                       768 non-null    int64  \n",
            " 8   Outcome                   768 non-null    int64  \n",
            "dtypes: float64(2), int64(7)\n",
            "memory usage: 54.1 KB\n"
          ]
        }
      ]
    },
    {
      "cell_type": "markdown",
      "source": [
        "### Missing Values"
      ],
      "metadata": {
        "id": "edW2DHrMY62e"
      }
    },
    {
      "cell_type": "markdown",
      "source": [
        "Now let us check for missing values."
      ],
      "metadata": {
        "id": "ofMwBh71S5WB"
      }
    },
    {
      "cell_type": "code",
      "source": [
        "df_diabetes.isnull().any()"
      ],
      "metadata": {
        "colab": {
          "base_uri": "https://localhost:8080/"
        },
        "id": "weVhFqdXS01H",
        "outputId": "51870ece-bc33-4e0c-f643-9e75807bb508"
      },
      "execution_count": 299,
      "outputs": [
        {
          "output_type": "execute_result",
          "data": {
            "text/plain": [
              "Pregnancies                 False\n",
              "Glucose                     False\n",
              "BloodPressure               False\n",
              "SkinThickness               False\n",
              "Insulin                     False\n",
              "BMI                         False\n",
              "DiabetesPedigreeFunction    False\n",
              "Age                         False\n",
              "Outcome                     False\n",
              "dtype: bool"
            ]
          },
          "metadata": {},
          "execution_count": 299
        }
      ]
    },
    {
      "cell_type": "code",
      "source": [
        "df_diabetes.describe()"
      ],
      "metadata": {
        "colab": {
          "base_uri": "https://localhost:8080/",
          "height": 300
        },
        "id": "OT8E9QDsSN0c",
        "outputId": "bee58d7c-d248-431d-cdb9-a1ac89015a68"
      },
      "execution_count": 300,
      "outputs": [
        {
          "output_type": "execute_result",
          "data": {
            "text/plain": [
              "       Pregnancies     Glucose  BloodPressure  SkinThickness     Insulin  \\\n",
              "count   768.000000  768.000000     768.000000     768.000000  768.000000   \n",
              "mean      3.845052  120.894531      69.105469      20.536458   79.799479   \n",
              "std       3.369578   31.972618      19.355807      15.952218  115.244002   \n",
              "min       0.000000    0.000000       0.000000       0.000000    0.000000   \n",
              "25%       1.000000   99.000000      62.000000       0.000000    0.000000   \n",
              "50%       3.000000  117.000000      72.000000      23.000000   30.500000   \n",
              "75%       6.000000  140.250000      80.000000      32.000000  127.250000   \n",
              "max      17.000000  199.000000     122.000000      99.000000  846.000000   \n",
              "\n",
              "              BMI  DiabetesPedigreeFunction         Age     Outcome  \n",
              "count  768.000000                768.000000  768.000000  768.000000  \n",
              "mean    31.992578                  0.471876   33.240885    0.348958  \n",
              "std      7.884160                  0.331329   11.760232    0.476951  \n",
              "min      0.000000                  0.078000   21.000000    0.000000  \n",
              "25%     27.300000                  0.243750   24.000000    0.000000  \n",
              "50%     32.000000                  0.372500   29.000000    0.000000  \n",
              "75%     36.600000                  0.626250   41.000000    1.000000  \n",
              "max     67.100000                  2.420000   81.000000    1.000000  "
            ],
            "text/html": [
              "\n",
              "  <div id=\"df-89d5f67b-2792-414c-a89f-2f9ed96a3acc\">\n",
              "    <div class=\"colab-df-container\">\n",
              "      <div>\n",
              "<style scoped>\n",
              "    .dataframe tbody tr th:only-of-type {\n",
              "        vertical-align: middle;\n",
              "    }\n",
              "\n",
              "    .dataframe tbody tr th {\n",
              "        vertical-align: top;\n",
              "    }\n",
              "\n",
              "    .dataframe thead th {\n",
              "        text-align: right;\n",
              "    }\n",
              "</style>\n",
              "<table border=\"1\" class=\"dataframe\">\n",
              "  <thead>\n",
              "    <tr style=\"text-align: right;\">\n",
              "      <th></th>\n",
              "      <th>Pregnancies</th>\n",
              "      <th>Glucose</th>\n",
              "      <th>BloodPressure</th>\n",
              "      <th>SkinThickness</th>\n",
              "      <th>Insulin</th>\n",
              "      <th>BMI</th>\n",
              "      <th>DiabetesPedigreeFunction</th>\n",
              "      <th>Age</th>\n",
              "      <th>Outcome</th>\n",
              "    </tr>\n",
              "  </thead>\n",
              "  <tbody>\n",
              "    <tr>\n",
              "      <th>count</th>\n",
              "      <td>768.000000</td>\n",
              "      <td>768.000000</td>\n",
              "      <td>768.000000</td>\n",
              "      <td>768.000000</td>\n",
              "      <td>768.000000</td>\n",
              "      <td>768.000000</td>\n",
              "      <td>768.000000</td>\n",
              "      <td>768.000000</td>\n",
              "      <td>768.000000</td>\n",
              "    </tr>\n",
              "    <tr>\n",
              "      <th>mean</th>\n",
              "      <td>3.845052</td>\n",
              "      <td>120.894531</td>\n",
              "      <td>69.105469</td>\n",
              "      <td>20.536458</td>\n",
              "      <td>79.799479</td>\n",
              "      <td>31.992578</td>\n",
              "      <td>0.471876</td>\n",
              "      <td>33.240885</td>\n",
              "      <td>0.348958</td>\n",
              "    </tr>\n",
              "    <tr>\n",
              "      <th>std</th>\n",
              "      <td>3.369578</td>\n",
              "      <td>31.972618</td>\n",
              "      <td>19.355807</td>\n",
              "      <td>15.952218</td>\n",
              "      <td>115.244002</td>\n",
              "      <td>7.884160</td>\n",
              "      <td>0.331329</td>\n",
              "      <td>11.760232</td>\n",
              "      <td>0.476951</td>\n",
              "    </tr>\n",
              "    <tr>\n",
              "      <th>min</th>\n",
              "      <td>0.000000</td>\n",
              "      <td>0.000000</td>\n",
              "      <td>0.000000</td>\n",
              "      <td>0.000000</td>\n",
              "      <td>0.000000</td>\n",
              "      <td>0.000000</td>\n",
              "      <td>0.078000</td>\n",
              "      <td>21.000000</td>\n",
              "      <td>0.000000</td>\n",
              "    </tr>\n",
              "    <tr>\n",
              "      <th>25%</th>\n",
              "      <td>1.000000</td>\n",
              "      <td>99.000000</td>\n",
              "      <td>62.000000</td>\n",
              "      <td>0.000000</td>\n",
              "      <td>0.000000</td>\n",
              "      <td>27.300000</td>\n",
              "      <td>0.243750</td>\n",
              "      <td>24.000000</td>\n",
              "      <td>0.000000</td>\n",
              "    </tr>\n",
              "    <tr>\n",
              "      <th>50%</th>\n",
              "      <td>3.000000</td>\n",
              "      <td>117.000000</td>\n",
              "      <td>72.000000</td>\n",
              "      <td>23.000000</td>\n",
              "      <td>30.500000</td>\n",
              "      <td>32.000000</td>\n",
              "      <td>0.372500</td>\n",
              "      <td>29.000000</td>\n",
              "      <td>0.000000</td>\n",
              "    </tr>\n",
              "    <tr>\n",
              "      <th>75%</th>\n",
              "      <td>6.000000</td>\n",
              "      <td>140.250000</td>\n",
              "      <td>80.000000</td>\n",
              "      <td>32.000000</td>\n",
              "      <td>127.250000</td>\n",
              "      <td>36.600000</td>\n",
              "      <td>0.626250</td>\n",
              "      <td>41.000000</td>\n",
              "      <td>1.000000</td>\n",
              "    </tr>\n",
              "    <tr>\n",
              "      <th>max</th>\n",
              "      <td>17.000000</td>\n",
              "      <td>199.000000</td>\n",
              "      <td>122.000000</td>\n",
              "      <td>99.000000</td>\n",
              "      <td>846.000000</td>\n",
              "      <td>67.100000</td>\n",
              "      <td>2.420000</td>\n",
              "      <td>81.000000</td>\n",
              "      <td>1.000000</td>\n",
              "    </tr>\n",
              "  </tbody>\n",
              "</table>\n",
              "</div>\n",
              "      <button class=\"colab-df-convert\" onclick=\"convertToInteractive('df-89d5f67b-2792-414c-a89f-2f9ed96a3acc')\"\n",
              "              title=\"Convert this dataframe to an interactive table.\"\n",
              "              style=\"display:none;\">\n",
              "        \n",
              "  <svg xmlns=\"http://www.w3.org/2000/svg\" height=\"24px\"viewBox=\"0 0 24 24\"\n",
              "       width=\"24px\">\n",
              "    <path d=\"M0 0h24v24H0V0z\" fill=\"none\"/>\n",
              "    <path d=\"M18.56 5.44l.94 2.06.94-2.06 2.06-.94-2.06-.94-.94-2.06-.94 2.06-2.06.94zm-11 1L8.5 8.5l.94-2.06 2.06-.94-2.06-.94L8.5 2.5l-.94 2.06-2.06.94zm10 10l.94 2.06.94-2.06 2.06-.94-2.06-.94-.94-2.06-.94 2.06-2.06.94z\"/><path d=\"M17.41 7.96l-1.37-1.37c-.4-.4-.92-.59-1.43-.59-.52 0-1.04.2-1.43.59L10.3 9.45l-7.72 7.72c-.78.78-.78 2.05 0 2.83L4 21.41c.39.39.9.59 1.41.59.51 0 1.02-.2 1.41-.59l7.78-7.78 2.81-2.81c.8-.78.8-2.07 0-2.86zM5.41 20L4 18.59l7.72-7.72 1.47 1.35L5.41 20z\"/>\n",
              "  </svg>\n",
              "      </button>\n",
              "      \n",
              "  <style>\n",
              "    .colab-df-container {\n",
              "      display:flex;\n",
              "      flex-wrap:wrap;\n",
              "      gap: 12px;\n",
              "    }\n",
              "\n",
              "    .colab-df-convert {\n",
              "      background-color: #E8F0FE;\n",
              "      border: none;\n",
              "      border-radius: 50%;\n",
              "      cursor: pointer;\n",
              "      display: none;\n",
              "      fill: #1967D2;\n",
              "      height: 32px;\n",
              "      padding: 0 0 0 0;\n",
              "      width: 32px;\n",
              "    }\n",
              "\n",
              "    .colab-df-convert:hover {\n",
              "      background-color: #E2EBFA;\n",
              "      box-shadow: 0px 1px 2px rgba(60, 64, 67, 0.3), 0px 1px 3px 1px rgba(60, 64, 67, 0.15);\n",
              "      fill: #174EA6;\n",
              "    }\n",
              "\n",
              "    [theme=dark] .colab-df-convert {\n",
              "      background-color: #3B4455;\n",
              "      fill: #D2E3FC;\n",
              "    }\n",
              "\n",
              "    [theme=dark] .colab-df-convert:hover {\n",
              "      background-color: #434B5C;\n",
              "      box-shadow: 0px 1px 3px 1px rgba(0, 0, 0, 0.15);\n",
              "      filter: drop-shadow(0px 1px 2px rgba(0, 0, 0, 0.3));\n",
              "      fill: #FFFFFF;\n",
              "    }\n",
              "  </style>\n",
              "\n",
              "      <script>\n",
              "        const buttonEl =\n",
              "          document.querySelector('#df-89d5f67b-2792-414c-a89f-2f9ed96a3acc button.colab-df-convert');\n",
              "        buttonEl.style.display =\n",
              "          google.colab.kernel.accessAllowed ? 'block' : 'none';\n",
              "\n",
              "        async function convertToInteractive(key) {\n",
              "          const element = document.querySelector('#df-89d5f67b-2792-414c-a89f-2f9ed96a3acc');\n",
              "          const dataTable =\n",
              "            await google.colab.kernel.invokeFunction('convertToInteractive',\n",
              "                                                     [key], {});\n",
              "          if (!dataTable) return;\n",
              "\n",
              "          const docLinkHtml = 'Like what you see? Visit the ' +\n",
              "            '<a target=\"_blank\" href=https://colab.research.google.com/notebooks/data_table.ipynb>data table notebook</a>'\n",
              "            + ' to learn more about interactive tables.';\n",
              "          element.innerHTML = '';\n",
              "          dataTable['output_type'] = 'display_data';\n",
              "          await google.colab.output.renderOutput(dataTable, element);\n",
              "          const docLink = document.createElement('div');\n",
              "          docLink.innerHTML = docLinkHtml;\n",
              "          element.appendChild(docLink);\n",
              "        }\n",
              "      </script>\n",
              "    </div>\n",
              "  </div>\n",
              "  "
            ]
          },
          "metadata": {},
          "execution_count": 300
        }
      ]
    },
    {
      "cell_type": "markdown",
      "source": [
        "On remarque des valeurs nulle (=0), c'est illogique."
      ],
      "metadata": {
        "id": "_SNSTmKkXBt0"
      }
    },
    {
      "cell_type": "markdown",
      "source": [
        "However the dataset shows some of the features having minimum value as 0 like insulin,BMI,glucose which is not logical and can be considered missing values"
      ],
      "metadata": {
        "id": "GCkHSxxmUpU9"
      }
    },
    {
      "cell_type": "code",
      "source": [
        "columns_with_missing_vals = []\n",
        "for column in df_diabetes.columns[:-1]:\n",
        "    ms_vals = len(df_diabetes.loc[df_diabetes[column]==0])\n",
        "    print(f\"Missing values for {column :>25} : {ms_vals:>3}\")\n",
        "    if ms_vals > 0:\n",
        "        columns_with_missing_vals.append(column)\n"
      ],
      "metadata": {
        "colab": {
          "base_uri": "https://localhost:8080/"
        },
        "id": "QigR0F-5VK2P",
        "outputId": "b568b36f-41a5-4a9b-deb2-d14c916bd35b"
      },
      "execution_count": 301,
      "outputs": [
        {
          "output_type": "stream",
          "name": "stdout",
          "text": [
            "Missing values for               Pregnancies : 111\n",
            "Missing values for                   Glucose :   5\n",
            "Missing values for             BloodPressure :  35\n",
            "Missing values for             SkinThickness : 227\n",
            "Missing values for                   Insulin : 374\n",
            "Missing values for                       BMI :  11\n",
            "Missing values for  DiabetesPedigreeFunction :   0\n",
            "Missing values for                       Age :   0\n"
          ]
        }
      ]
    },
    {
      "cell_type": "markdown",
      "source": [
        "we will be imputing these missing values with the mean with help of sklearn imputer"
      ],
      "metadata": {
        "id": "_wyWSaBRWCoq"
      }
    },
    {
      "cell_type": "code",
      "source": [
        "from sklearn.impute import SimpleImputer\n",
        "impute = SimpleImputer(missing_values=0, strategy=\"mean\")\n",
        "df_diabetes.loc[:,columns_with_missing_vals]= impute.fit_transform(df_diabetes.loc[:,columns_with_missing_vals])\n",
        "df_diabetes.describe()"
      ],
      "metadata": {
        "colab": {
          "base_uri": "https://localhost:8080/",
          "height": 300
        },
        "id": "vK08-9L8WJHm",
        "outputId": "66f1676c-197a-4738-bb56-c0419b76386d"
      },
      "execution_count": 302,
      "outputs": [
        {
          "output_type": "execute_result",
          "data": {
            "text/plain": [
              "       Pregnancies     Glucose  BloodPressure  SkinThickness     Insulin  \\\n",
              "count   768.000000  768.000000     768.000000     768.000000  768.000000   \n",
              "mean      4.494673  121.686763      72.405184      29.153420  155.548223   \n",
              "std       2.975395   30.435949      12.096346       8.790942   85.021108   \n",
              "min       1.000000   44.000000      24.000000       7.000000   14.000000   \n",
              "25%       2.000000   99.750000      64.000000      25.000000  121.500000   \n",
              "50%       4.494673  117.000000      72.202592      29.153420  155.548223   \n",
              "75%       6.000000  140.250000      80.000000      32.000000  155.548223   \n",
              "max      17.000000  199.000000     122.000000      99.000000  846.000000   \n",
              "\n",
              "              BMI  DiabetesPedigreeFunction         Age     Outcome  \n",
              "count  768.000000                768.000000  768.000000  768.000000  \n",
              "mean    32.457464                  0.471876   33.240885    0.348958  \n",
              "std      6.875151                  0.331329   11.760232    0.476951  \n",
              "min     18.200000                  0.078000   21.000000    0.000000  \n",
              "25%     27.500000                  0.243750   24.000000    0.000000  \n",
              "50%     32.400000                  0.372500   29.000000    0.000000  \n",
              "75%     36.600000                  0.626250   41.000000    1.000000  \n",
              "max     67.100000                  2.420000   81.000000    1.000000  "
            ],
            "text/html": [
              "\n",
              "  <div id=\"df-c46f1e99-65f7-4ddf-96a4-a4e977e93270\">\n",
              "    <div class=\"colab-df-container\">\n",
              "      <div>\n",
              "<style scoped>\n",
              "    .dataframe tbody tr th:only-of-type {\n",
              "        vertical-align: middle;\n",
              "    }\n",
              "\n",
              "    .dataframe tbody tr th {\n",
              "        vertical-align: top;\n",
              "    }\n",
              "\n",
              "    .dataframe thead th {\n",
              "        text-align: right;\n",
              "    }\n",
              "</style>\n",
              "<table border=\"1\" class=\"dataframe\">\n",
              "  <thead>\n",
              "    <tr style=\"text-align: right;\">\n",
              "      <th></th>\n",
              "      <th>Pregnancies</th>\n",
              "      <th>Glucose</th>\n",
              "      <th>BloodPressure</th>\n",
              "      <th>SkinThickness</th>\n",
              "      <th>Insulin</th>\n",
              "      <th>BMI</th>\n",
              "      <th>DiabetesPedigreeFunction</th>\n",
              "      <th>Age</th>\n",
              "      <th>Outcome</th>\n",
              "    </tr>\n",
              "  </thead>\n",
              "  <tbody>\n",
              "    <tr>\n",
              "      <th>count</th>\n",
              "      <td>768.000000</td>\n",
              "      <td>768.000000</td>\n",
              "      <td>768.000000</td>\n",
              "      <td>768.000000</td>\n",
              "      <td>768.000000</td>\n",
              "      <td>768.000000</td>\n",
              "      <td>768.000000</td>\n",
              "      <td>768.000000</td>\n",
              "      <td>768.000000</td>\n",
              "    </tr>\n",
              "    <tr>\n",
              "      <th>mean</th>\n",
              "      <td>4.494673</td>\n",
              "      <td>121.686763</td>\n",
              "      <td>72.405184</td>\n",
              "      <td>29.153420</td>\n",
              "      <td>155.548223</td>\n",
              "      <td>32.457464</td>\n",
              "      <td>0.471876</td>\n",
              "      <td>33.240885</td>\n",
              "      <td>0.348958</td>\n",
              "    </tr>\n",
              "    <tr>\n",
              "      <th>std</th>\n",
              "      <td>2.975395</td>\n",
              "      <td>30.435949</td>\n",
              "      <td>12.096346</td>\n",
              "      <td>8.790942</td>\n",
              "      <td>85.021108</td>\n",
              "      <td>6.875151</td>\n",
              "      <td>0.331329</td>\n",
              "      <td>11.760232</td>\n",
              "      <td>0.476951</td>\n",
              "    </tr>\n",
              "    <tr>\n",
              "      <th>min</th>\n",
              "      <td>1.000000</td>\n",
              "      <td>44.000000</td>\n",
              "      <td>24.000000</td>\n",
              "      <td>7.000000</td>\n",
              "      <td>14.000000</td>\n",
              "      <td>18.200000</td>\n",
              "      <td>0.078000</td>\n",
              "      <td>21.000000</td>\n",
              "      <td>0.000000</td>\n",
              "    </tr>\n",
              "    <tr>\n",
              "      <th>25%</th>\n",
              "      <td>2.000000</td>\n",
              "      <td>99.750000</td>\n",
              "      <td>64.000000</td>\n",
              "      <td>25.000000</td>\n",
              "      <td>121.500000</td>\n",
              "      <td>27.500000</td>\n",
              "      <td>0.243750</td>\n",
              "      <td>24.000000</td>\n",
              "      <td>0.000000</td>\n",
              "    </tr>\n",
              "    <tr>\n",
              "      <th>50%</th>\n",
              "      <td>4.494673</td>\n",
              "      <td>117.000000</td>\n",
              "      <td>72.202592</td>\n",
              "      <td>29.153420</td>\n",
              "      <td>155.548223</td>\n",
              "      <td>32.400000</td>\n",
              "      <td>0.372500</td>\n",
              "      <td>29.000000</td>\n",
              "      <td>0.000000</td>\n",
              "    </tr>\n",
              "    <tr>\n",
              "      <th>75%</th>\n",
              "      <td>6.000000</td>\n",
              "      <td>140.250000</td>\n",
              "      <td>80.000000</td>\n",
              "      <td>32.000000</td>\n",
              "      <td>155.548223</td>\n",
              "      <td>36.600000</td>\n",
              "      <td>0.626250</td>\n",
              "      <td>41.000000</td>\n",
              "      <td>1.000000</td>\n",
              "    </tr>\n",
              "    <tr>\n",
              "      <th>max</th>\n",
              "      <td>17.000000</td>\n",
              "      <td>199.000000</td>\n",
              "      <td>122.000000</td>\n",
              "      <td>99.000000</td>\n",
              "      <td>846.000000</td>\n",
              "      <td>67.100000</td>\n",
              "      <td>2.420000</td>\n",
              "      <td>81.000000</td>\n",
              "      <td>1.000000</td>\n",
              "    </tr>\n",
              "  </tbody>\n",
              "</table>\n",
              "</div>\n",
              "      <button class=\"colab-df-convert\" onclick=\"convertToInteractive('df-c46f1e99-65f7-4ddf-96a4-a4e977e93270')\"\n",
              "              title=\"Convert this dataframe to an interactive table.\"\n",
              "              style=\"display:none;\">\n",
              "        \n",
              "  <svg xmlns=\"http://www.w3.org/2000/svg\" height=\"24px\"viewBox=\"0 0 24 24\"\n",
              "       width=\"24px\">\n",
              "    <path d=\"M0 0h24v24H0V0z\" fill=\"none\"/>\n",
              "    <path d=\"M18.56 5.44l.94 2.06.94-2.06 2.06-.94-2.06-.94-.94-2.06-.94 2.06-2.06.94zm-11 1L8.5 8.5l.94-2.06 2.06-.94-2.06-.94L8.5 2.5l-.94 2.06-2.06.94zm10 10l.94 2.06.94-2.06 2.06-.94-2.06-.94-.94-2.06-.94 2.06-2.06.94z\"/><path d=\"M17.41 7.96l-1.37-1.37c-.4-.4-.92-.59-1.43-.59-.52 0-1.04.2-1.43.59L10.3 9.45l-7.72 7.72c-.78.78-.78 2.05 0 2.83L4 21.41c.39.39.9.59 1.41.59.51 0 1.02-.2 1.41-.59l7.78-7.78 2.81-2.81c.8-.78.8-2.07 0-2.86zM5.41 20L4 18.59l7.72-7.72 1.47 1.35L5.41 20z\"/>\n",
              "  </svg>\n",
              "      </button>\n",
              "      \n",
              "  <style>\n",
              "    .colab-df-container {\n",
              "      display:flex;\n",
              "      flex-wrap:wrap;\n",
              "      gap: 12px;\n",
              "    }\n",
              "\n",
              "    .colab-df-convert {\n",
              "      background-color: #E8F0FE;\n",
              "      border: none;\n",
              "      border-radius: 50%;\n",
              "      cursor: pointer;\n",
              "      display: none;\n",
              "      fill: #1967D2;\n",
              "      height: 32px;\n",
              "      padding: 0 0 0 0;\n",
              "      width: 32px;\n",
              "    }\n",
              "\n",
              "    .colab-df-convert:hover {\n",
              "      background-color: #E2EBFA;\n",
              "      box-shadow: 0px 1px 2px rgba(60, 64, 67, 0.3), 0px 1px 3px 1px rgba(60, 64, 67, 0.15);\n",
              "      fill: #174EA6;\n",
              "    }\n",
              "\n",
              "    [theme=dark] .colab-df-convert {\n",
              "      background-color: #3B4455;\n",
              "      fill: #D2E3FC;\n",
              "    }\n",
              "\n",
              "    [theme=dark] .colab-df-convert:hover {\n",
              "      background-color: #434B5C;\n",
              "      box-shadow: 0px 1px 3px 1px rgba(0, 0, 0, 0.15);\n",
              "      filter: drop-shadow(0px 1px 2px rgba(0, 0, 0, 0.3));\n",
              "      fill: #FFFFFF;\n",
              "    }\n",
              "  </style>\n",
              "\n",
              "      <script>\n",
              "        const buttonEl =\n",
              "          document.querySelector('#df-c46f1e99-65f7-4ddf-96a4-a4e977e93270 button.colab-df-convert');\n",
              "        buttonEl.style.display =\n",
              "          google.colab.kernel.accessAllowed ? 'block' : 'none';\n",
              "\n",
              "        async function convertToInteractive(key) {\n",
              "          const element = document.querySelector('#df-c46f1e99-65f7-4ddf-96a4-a4e977e93270');\n",
              "          const dataTable =\n",
              "            await google.colab.kernel.invokeFunction('convertToInteractive',\n",
              "                                                     [key], {});\n",
              "          if (!dataTable) return;\n",
              "\n",
              "          const docLinkHtml = 'Like what you see? Visit the ' +\n",
              "            '<a target=\"_blank\" href=https://colab.research.google.com/notebooks/data_table.ipynb>data table notebook</a>'\n",
              "            + ' to learn more about interactive tables.';\n",
              "          element.innerHTML = '';\n",
              "          dataTable['output_type'] = 'display_data';\n",
              "          await google.colab.output.renderOutput(dataTable, element);\n",
              "          const docLink = document.createElement('div');\n",
              "          docLink.innerHTML = docLinkHtml;\n",
              "          element.appendChild(docLink);\n",
              "        }\n",
              "      </script>\n",
              "    </div>\n",
              "  </div>\n",
              "  "
            ]
          },
          "metadata": {},
          "execution_count": 302
        }
      ]
    },
    {
      "cell_type": "markdown",
      "source": [
        "All the zero values have been imputed"
      ],
      "metadata": {
        "id": "oM8SK3D_XbSp"
      }
    },
    {
      "cell_type": "markdown",
      "source": [
        "## EDA\n",
        "\n",
        "In statistics, exploratory data analysis (EDA) is an approach of analyzing data sets to summarize their main characteristics, often using statistical graphics and other data visualization methods"
      ],
      "metadata": {
        "id": "oMqqhxLyXeee"
      }
    },
    {
      "cell_type": "markdown",
      "source": [
        "### Correlation "
      ],
      "metadata": {
        "id": "Is1tIaGAX456"
      }
    },
    {
      "cell_type": "code",
      "source": [
        "plt.figure(figsize= (13,8))\n",
        "sns.set_style(\"darkgrid\")\n",
        "sns.heatmap(df_diabetes.corr(),annot= True)\n",
        "plt.show()"
      ],
      "metadata": {
        "colab": {
          "base_uri": "https://localhost:8080/",
          "height": 607
        },
        "id": "5TJqLX6bYKjC",
        "outputId": "085d58b5-f98b-4358-d60c-1a31ad42450d"
      },
      "execution_count": 303,
      "outputs": [
        {
          "output_type": "display_data",
          "data": {
            "text/plain": [
              "<Figure size 936x576 with 2 Axes>"
            ],
            "image/png": "[encoded data removed]"
          },
          "metadata": {
            "needs_background": "light"
          }
        }
      ]
    },
    {
      "cell_type": "markdown",
      "source": [
        "### Age Distribution\n",
        "\n",
        "lets see the distribution of age across dataset"
      ],
      "metadata": {
        "id": "Dwg-VgwsZX33"
      }
    },
    {
      "cell_type": "code",
      "source": [
        "ax= px.histogram(df_diabetes,x= \"Age\",color= \"Outcome\",title='Age distribution')\n",
        "ax.show()"
      ],
      "metadata": {
        "colab": {
          "base_uri": "https://localhost:8080/",
          "height": 542
        },
        "id": "kS4JmMzEZXN_",
        "outputId": "0a496fba-ef1d-4973-c720-566caf6e04ae"
      },
      "execution_count": 304,
      "outputs": [
        {
          "output_type": "display_data",
          "data": {
            "text/html": [
              "<html>\n",
              "<head><meta charset=\"utf-8\" /></head>\n",
              "<body>\n",
              "    <div>            <script src=\"https://cdnjs.cloudflare.com/ajax/libs/mathjax/2.7.5/MathJax.js?config=TeX-AMS-MML_SVG\"></script><script type=\"text/javascript\">if (window.MathJax) {MathJax.Hub.Config({SVG: {font: \"STIX-Web\"}});}</script>                <script type=\"text/javascript\">window.PlotlyConfig = {MathJaxConfig: 'local'};</script>\n",
              "        <script src=\"https://cdn.plot.ly/plotly-2.8.3.min.js\"></script>                <div id=\"9c71d2ef-e21d-4348-b21e-73f8dcc5796b\" class=\"plotly-graph-div\" style=\"height:525px; width:100%;\"></div>            <script type=\"text/javascript\">                                    window.PLOTLYENV=window.PLOTLYENV || {};                                    if (document.getElementById(\"9c71d2ef-e21d-4348-b21e-73f8dcc5796b\")) {                    Plotly.newPlot(                        \"9c71d2ef-e21d-4348-b21e-73f8dcc5796b\",                        [{\"alignmentgroup\":\"True\",\"bingroup\":\"x\",\"hovertemplate\":\"Outcome=1<br>Age=%{x}<br>count=%{y}<extra></extra>\",\"legendgroup\":\"1\",\"marker\":{\"color\":\"#636efa\",\"pattern\":{\"shape\":\"\"}},\"name\":\"1\",\"offsetgroup\":\"1\",\"orientation\":\"v\",\"showlegend\":true,\"x\":[50,32,33,26,53,54,34,59,51,32,31,31,32,41,29,51,41,43,28,46,27,56,54,25,31,58,41,39,42,38,28,42,26,37,43,60,31,33,24,24,46,39,61,38,25,23,26,40,62,33,33,30,42,42,43,36,47,32,41,36,29,36,26,37,41,60,33,31,25,36,40,29,23,26,29,57,52,41,24,36,38,25,32,41,21,66,24,22,46,26,51,23,32,22,33,49,44,21,51,27,35,25,28,38,29,28,47,52,29,25,31,24,29,46,30,25,28,47,25,30,27,43,29,59,25,36,43,30,23,41,44,33,41,37,49,28,44,29,29,67,29,45,25,58,32,35,45,58,27,31,22,25,31,35,41,46,39,28,21,22,37,28,36,31,38,43,29,41,33,30,25,22,23,38,51,38,29,35,31,24,45,55,41,35,46,28,53,45,23,32,43,27,56,37,53,54,28,33,21,62,21,52,41,52,45,44,22,38,54,36,22,36,40,50,50,24,34,38,32,50,33,22,42,25,27,22,43,40,40,70,40,31,53,25,26,27,46,44,43,43,31,49,52,30,45,23,38,34,31,52,42,34,22,24,42,48,45,27,36,50,22,26,45,37,52,66,43,47],\"xaxis\":\"x\",\"yaxis\":\"y\",\"type\":\"histogram\"},{\"alignmentgroup\":\"True\",\"bingroup\":\"x\",\"hovertemplate\":\"Outcome=0<br>Age=%{x}<br>count=%{y}<extra></extra>\",\"legendgroup\":\"0\",\"marker\":{\"color\":\"#EF553B\",\"pattern\":{\"shape\":\"\"}},\"name\":\"0\",\"offsetgroup\":\"0\",\"orientation\":\"v\",\"showlegend\":true,\"x\":[31,21,30,29,30,57,33,27,50,22,57,38,60,22,28,45,33,35,26,37,48,40,29,22,24,22,26,30,42,21,31,44,22,21,36,24,32,54,25,27,26,23,22,22,41,27,24,22,22,36,22,27,45,26,24,21,34,42,21,40,24,22,23,22,21,24,27,21,27,37,25,23,25,25,22,21,24,23,69,30,23,39,26,31,21,22,29,28,55,38,22,23,21,41,34,65,22,24,37,23,21,23,22,36,45,27,21,22,34,29,29,25,23,33,42,47,32,23,21,27,40,21,40,42,21,21,28,32,27,55,27,21,25,24,60,32,37,61,26,22,26,31,24,22,29,23,27,21,22,29,41,23,34,23,42,27,24,25,30,25,24,34,24,63,43,24,21,21,40,21,52,25,23,57,22,39,37,51,34,26,33,21,65,28,24,58,35,37,29,21,41,22,25,26,30,28,31,21,24,37,37,46,25,44,22,26,44,22,36,22,33,57,49,22,23,26,29,30,46,24,21,48,63,65,30,30,21,22,21,21,25,28,22,22,35,24,22,21,25,25,24,28,42,21,37,25,39,25,55,38,26,25,28,25,22,21,22,27,26,21,21,21,25,26,23,38,22,29,36,41,28,21,31,22,24,28,26,26,23,25,72,24,62,24,81,48,26,39,37,34,21,22,25,27,28,22,22,50,24,59,31,39,63,29,28,23,21,58,28,67,24,42,33,22,66,30,25,39,21,28,41,40,38,21,21,64,21,58,22,24,51,41,60,25,26,26,24,21,21,24,22,31,22,24,29,31,24,46,67,23,25,29,28,50,37,21,25,66,23,28,37,30,58,42,35,24,32,27,22,21,46,37,39,21,22,22,23,25,35,36,27,62,42,22,29,25,24,25,34,46,21,26,24,28,30,21,25,27,23,24,26,27,30,23,28,28,45,21,21,29,21,21,45,21,24,23,22,31,48,23,28,27,24,31,27,30,23,23,27,28,27,22,22,41,51,54,24,43,45,49,21,47,22,68,25,23,22,22,69,25,22,29,23,34,23,25,22,28,26,26,41,27,28,22,24,40,21,32,56,24,34,21,42,45,38,25,22,22,22,22,53,28,21,42,21,26,22,39,46,32,28,25,39,26,22,33,63,27,30,23],\"xaxis\":\"x\",\"yaxis\":\"y\",\"type\":\"histogram\"}],                        {\"template\":{\"data\":{\"bar\":[{\"error_x\":{\"color\":\"#2a3f5f\"},\"error_y\":{\"color\":\"#2a3f5f\"},\"marker\":{\"line\":{\"color\":\"#E5ECF6\",\"width\":0.5},\"pattern\":{\"fillmode\":\"overlay\",\"size\":10,\"solidity\":0.2}},\"type\":\"bar\"}],\"barpolar\":[{\"marker\":{\"line\":{\"color\":\"#E5ECF6\",\"width\":0.5},\"pattern\":{\"fillmode\":\"overlay\",\"size\":10,\"solidity\":0.2}},\"type\":\"barpolar\"}],\"carpet\":[{\"aaxis\":{\"endlinecolor\":\"#2a3f5f\",\"gridcolor\":\"white\",\"linecolor\":\"white\",\"minorgridcolor\":\"white\",\"startlinecolor\":\"#2a3f5f\"},\"baxis\":{\"endlinecolor\":\"#2a3f5f\",\"gridcolor\":\"white\",\"linecolor\":\"white\",\"minorgridcolor\":\"white\",\"startlinecolor\":\"#2a3f5f\"},\"type\":\"carpet\"}],\"choropleth\":[{\"colorbar\":{\"outlinewidth\":0,\"ticks\":\"\"},\"type\":\"choropleth\"}],\"contour\":[{\"colorbar\":{\"outlinewidth\":0,\"ticks\":\"\"},\"colorscale\":[[0.0,\"#0d0887\"],[0.1111111111111111,\"#46039f\"],[0.2222222222222222,\"#7201a8\"],[0.3333333333333333,\"#9c179e\"],[0.4444444444444444,\"#bd3786\"],[0.5555555555555556,\"#d8576b\"],[0.6666666666666666,\"#ed7953\"],[0.7777777777777778,\"#fb9f3a\"],[0.8888888888888888,\"#fdca26\"],[1.0,\"#f0f921\"]],\"type\":\"contour\"}],\"contourcarpet\":[{\"colorbar\":{\"outlinewidth\":0,\"ticks\":\"\"},\"type\":\"contourcarpet\"}],\"heatmap\":[{\"colorbar\":{\"outlinewidth\":0,\"ticks\":\"\"},\"colorscale\":[[0.0,\"#0d0887\"],[0.1111111111111111,\"#46039f\"],[0.2222222222222222,\"#7201a8\"],[0.3333333333333333,\"#9c179e\"],[0.4444444444444444,\"#bd3786\"],[0.5555555555555556,\"#d8576b\"],[0.6666666666666666,\"#ed7953\"],[0.7777777777777778,\"#fb9f3a\"],[0.8888888888888888,\"#fdca26\"],[1.0,\"#f0f921\"]],\"type\":\"heatmap\"}],\"heatmapgl\":[{\"colorbar\":{\"outlinewidth\":0,\"ticks\":\"\"},\"colorscale\":[[0.0,\"#0d0887\"],[0.1111111111111111,\"#46039f\"],[0.2222222222222222,\"#7201a8\"],[0.3333333333333333,\"#9c179e\"],[0.4444444444444444,\"#bd3786\"],[0.5555555555555556,\"#d8576b\"],[0.6666666666666666,\"#ed7953\"],[0.7777777777777778,\"#fb9f3a\"],[0.8888888888888888,\"#fdca26\"],[1.0,\"#f0f921\"]],\"type\":\"heatmapgl\"}],\"histogram\":[{\"marker\":{\"pattern\":{\"fillmode\":\"overlay\",\"size\":10,\"solidity\":0.2}},\"type\":\"histogram\"}],\"histogram2d\":[{\"colorbar\":{\"outlinewidth\":0,\"ticks\":\"\"},\"colorscale\":[[0.0,\"#0d0887\"],[0.1111111111111111,\"#46039f\"],[0.2222222222222222,\"#7201a8\"],[0.3333333333333333,\"#9c179e\"],[0.4444444444444444,\"#bd3786\"],[0.5555555555555556,\"#d8576b\"],[0.6666666666666666,\"#ed7953\"],[0.7777777777777778,\"#fb9f3a\"],[0.8888888888888888,\"#fdca26\"],[1.0,\"#f0f921\"]],\"type\":\"histogram2d\"}],\"histogram2dcontour\":[{\"colorbar\":{\"outlinewidth\":0,\"ticks\":\"\"},\"colorscale\":[[0.0,\"#0d0887\"],[0.1111111111111111,\"#46039f\"],[0.2222222222222222,\"#7201a8\"],[0.3333333333333333,\"#9c179e\"],[0.4444444444444444,\"#bd3786\"],[0.5555555555555556,\"#d8576b\"],[0.6666666666666666,\"#ed7953\"],[0.7777777777777778,\"#fb9f3a\"],[0.8888888888888888,\"#fdca26\"],[1.0,\"#f0f921\"]],\"type\":\"histogram2dcontour\"}],\"mesh3d\":[{\"colorbar\":{\"outlinewidth\":0,\"ticks\":\"\"},\"type\":\"mesh3d\"}],\"parcoords\":[{\"line\":{\"colorbar\":{\"outlinewidth\":0,\"ticks\":\"\"}},\"type\":\"parcoords\"}],\"pie\":[{\"automargin\":true,\"type\":\"pie\"}],\"scatter\":[{\"marker\":{\"colorbar\":{\"outlinewidth\":0,\"ticks\":\"\"}},\"type\":\"scatter\"}],\"scatter3d\":[{\"line\":{\"colorbar\":{\"outlinewidth\":0,\"ticks\":\"\"}},\"marker\":{\"colorbar\":{\"outlinewidth\":0,\"ticks\":\"\"}},\"type\":\"scatter3d\"}],\"scattercarpet\":[{\"marker\":{\"colorbar\":{\"outlinewidth\":0,\"ticks\":\"\"}},\"type\":\"scattercarpet\"}],\"scattergeo\":[{\"marker\":{\"colorbar\":{\"outlinewidth\":0,\"ticks\":\"\"}},\"type\":\"scattergeo\"}],\"scattergl\":[{\"marker\":{\"colorbar\":{\"outlinewidth\":0,\"ticks\":\"\"}},\"type\":\"scattergl\"}],\"scattermapbox\":[{\"marker\":{\"colorbar\":{\"outlinewidth\":0,\"ticks\":\"\"}},\"type\":\"scattermapbox\"}],\"scatterpolar\":[{\"marker\":{\"colorbar\":{\"outlinewidth\":0,\"ticks\":\"\"}},\"type\":\"scatterpolar\"}],\"scatterpolargl\":[{\"marker\":{\"colorbar\":{\"outlinewidth\":0,\"ticks\":\"\"}},\"type\":\"scatterpolargl\"}],\"scatterternary\":[{\"marker\":{\"colorbar\":{\"outlinewidth\":0,\"ticks\":\"\"}},\"type\":\"scatterternary\"}],\"surface\":[{\"colorbar\":{\"outlinewidth\":0,\"ticks\":\"\"},\"colorscale\":[[0.0,\"#0d0887\"],[0.1111111111111111,\"#46039f\"],[0.2222222222222222,\"#7201a8\"],[0.3333333333333333,\"#9c179e\"],[0.4444444444444444,\"#bd3786\"],[0.5555555555555556,\"#d8576b\"],[0.6666666666666666,\"#ed7953\"],[0.7777777777777778,\"#fb9f3a\"],[0.8888888888888888,\"#fdca26\"],[1.0,\"#f0f921\"]],\"type\":\"surface\"}],\"table\":[{\"cells\":{\"fill\":{\"color\":\"#EBF0F8\"},\"line\":{\"color\":\"white\"}},\"header\":{\"fill\":{\"color\":\"#C8D4E3\"},\"line\":{\"color\":\"white\"}},\"type\":\"table\"}]},\"layout\":{\"annotationdefaults\":{\"arrowcolor\":\"#2a3f5f\",\"arrowhead\":0,\"arrowwidth\":1},\"autotypenumbers\":\"strict\",\"coloraxis\":{\"colorbar\":{\"outlinewidth\":0,\"ticks\":\"\"}},\"colorscale\":{\"diverging\":[[0,\"#8e0152\"],[0.1,\"#c51b7d\"],[0.2,\"#de77ae\"],[0.3,\"#f1b6da\"],[0.4,\"#fde0ef\"],[0.5,\"#f7f7f7\"],[0.6,\"#e6f5d0\"],[0.7,\"#b8e186\"],[0.8,\"#7fbc41\"],[0.9,\"#4d9221\"],[1,\"#276419\"]],\"sequential\":[[0.0,\"#0d0887\"],[0.1111111111111111,\"#46039f\"],[0.2222222222222222,\"#7201a8\"],[0.3333333333333333,\"#9c179e\"],[0.4444444444444444,\"#bd3786\"],[0.5555555555555556,\"#d8576b\"],[0.6666666666666666,\"#ed7953\"],[0.7777777777777778,\"#fb9f3a\"],[0.8888888888888888,\"#fdca26\"],[1.0,\"#f0f921\"]],\"sequentialminus\":[[0.0,\"#0d0887\"],[0.1111111111111111,\"#46039f\"],[0.2222222222222222,\"#7201a8\"],[0.3333333333333333,\"#9c179e\"],[0.4444444444444444,\"#bd3786\"],[0.5555555555555556,\"#d8576b\"],[0.6666666666666666,\"#ed7953\"],[0.7777777777777778,\"#fb9f3a\"],[0.8888888888888888,\"#fdca26\"],[1.0,\"#f0f921\"]]},\"colorway\":[\"#636efa\",\"#EF553B\",\"#00cc96\",\"#ab63fa\",\"#FFA15A\",\"#19d3f3\",\"#FF6692\",\"#B6E880\",\"#FF97FF\",\"#FECB52\"],\"font\":{\"color\":\"#2a3f5f\"},\"geo\":{\"bgcolor\":\"white\",\"lakecolor\":\"white\",\"landcolor\":\"#E5ECF6\",\"showlakes\":true,\"showland\":true,\"subunitcolor\":\"white\"},\"hoverlabel\":{\"align\":\"left\"},\"hovermode\":\"closest\",\"mapbox\":{\"style\":\"light\"},\"paper_bgcolor\":\"white\",\"plot_bgcolor\":\"#E5ECF6\",\"polar\":{\"angularaxis\":{\"gridcolor\":\"white\",\"linecolor\":\"white\",\"ticks\":\"\"},\"bgcolor\":\"#E5ECF6\",\"radialaxis\":{\"gridcolor\":\"white\",\"linecolor\":\"white\",\"ticks\":\"\"}},\"scene\":{\"xaxis\":{\"backgroundcolor\":\"#E5ECF6\",\"gridcolor\":\"white\",\"gridwidth\":2,\"linecolor\":\"white\",\"showbackground\":true,\"ticks\":\"\",\"zerolinecolor\":\"white\"},\"yaxis\":{\"backgroundcolor\":\"#E5ECF6\",\"gridcolor\":\"white\",\"gridwidth\":2,\"linecolor\":\"white\",\"showbackground\":true,\"ticks\":\"\",\"zerolinecolor\":\"white\"},\"zaxis\":{\"backgroundcolor\":\"#E5ECF6\",\"gridcolor\":\"white\",\"gridwidth\":2,\"linecolor\":\"white\",\"showbackground\":true,\"ticks\":\"\",\"zerolinecolor\":\"white\"}},\"shapedefaults\":{\"line\":{\"color\":\"#2a3f5f\"}},\"ternary\":{\"aaxis\":{\"gridcolor\":\"white\",\"linecolor\":\"white\",\"ticks\":\"\"},\"baxis\":{\"gridcolor\":\"white\",\"linecolor\":\"white\",\"ticks\":\"\"},\"bgcolor\":\"#E5ECF6\",\"caxis\":{\"gridcolor\":\"white\",\"linecolor\":\"white\",\"ticks\":\"\"}},\"title\":{\"x\":0.05},\"xaxis\":{\"automargin\":true,\"gridcolor\":\"white\",\"linecolor\":\"white\",\"ticks\":\"\",\"title\":{\"standoff\":15},\"zerolinecolor\":\"white\",\"zerolinewidth\":2},\"yaxis\":{\"automargin\":true,\"gridcolor\":\"white\",\"linecolor\":\"white\",\"ticks\":\"\",\"title\":{\"standoff\":15},\"zerolinecolor\":\"white\",\"zerolinewidth\":2}}},\"xaxis\":{\"anchor\":\"y\",\"domain\":[0.0,1.0],\"title\":{\"text\":\"Age\"}},\"yaxis\":{\"anchor\":\"x\",\"domain\":[0.0,1.0],\"title\":{\"text\":\"count\"}},\"legend\":{\"title\":{\"text\":\"Outcome\"},\"tracegroupgap\":0},\"title\":{\"text\":\"Age distribution\"},\"barmode\":\"relative\"},                        {\"responsive\": true}                    ).then(function(){\n",
              "                            \n",
              "var gd = document.getElementById('9c71d2ef-e21d-4348-b21e-73f8dcc5796b');\n",
              "var x = new MutationObserver(function (mutations, observer) {{\n",
              "        var display = window.getComputedStyle(gd).display;\n",
              "        if (!display || display === 'none') {{\n",
              "            console.log([gd, 'removed!']);\n",
              "            Plotly.purge(gd);\n",
              "            observer.disconnect();\n",
              "        }}\n",
              "}});\n",
              "\n",
              "// Listen for the removal of the full notebook cells\n",
              "var notebookContainer = gd.closest('#notebook-container');\n",
              "if (notebookContainer) {{\n",
              "    x.observe(notebookContainer, {childList: true});\n",
              "}}\n",
              "\n",
              "// Listen for the clearing of the current output cell\n",
              "var outputEl = gd.closest('.output');\n",
              "if (outputEl) {{\n",
              "    x.observe(outputEl, {childList: true});\n",
              "}}\n",
              "\n",
              "                        })                };                            </script>        </div>\n",
              "</body>\n",
              "</html>"
            ]
          },
          "metadata": {}
        }
      ]
    },
    {
      "cell_type": "code",
      "source": [
        "fig, ax=plt.subplots(1,figsize=(8,6))\n",
        "sns.boxplot(x='Outcome',y='Age', data=df_diabetes)\n",
        "#ax.set_ylim(0,300)\n",
        "plt.title(\"Outcome vs Age\")\n",
        "plt.show()"
      ],
      "metadata": {
        "colab": {
          "base_uri": "https://localhost:8080/",
          "height": 404
        },
        "id": "Z7d5RoAUJ2B0",
        "outputId": "80e94d62-a99b-40c5-cc1c-c205957e37ca"
      },
      "execution_count": 305,
      "outputs": [
        {
          "output_type": "display_data",
          "data": {
            "text/plain": [
              "<Figure size 576x432 with 1 Axes>"
            ],
            "image/png": "[encoded data removed]"
          },
          "metadata": {}
        }
      ]
    },
    {
      "cell_type": "markdown",
      "source": [
        "### Outcome Distribution\n",
        "lets see the distribution of Outcome(diabetes or not)"
      ],
      "metadata": {
        "id": "byWQkBIXaeLO"
      }
    },
    {
      "cell_type": "code",
      "source": [
        "sns.countplot(x='Outcome', data=df_diabetes)\n",
        "plt.title(\"Count of Outcome (diabetes or not)\")\n",
        "plt.show()"
      ],
      "metadata": {
        "colab": {
          "base_uri": "https://localhost:8080/",
          "height": 295
        },
        "id": "xi9iIGfKrS1Z",
        "outputId": "f3f9909f-26fb-48e2-cf21-d796c74f8e4e"
      },
      "execution_count": 306,
      "outputs": [
        {
          "output_type": "display_data",
          "data": {
            "text/plain": [
              "<Figure size 432x288 with 1 Axes>"
            ],
            "image/png": "[encoded data removed]"
          },
          "metadata": {}
        }
      ]
    },
    {
      "cell_type": "code",
      "source": [
        "ax= px.pie(df_diabetes, names= \"Outcome\",title= \"Distribution of Diabetes\",hole= 0.65)\n",
        "ax.show()"
      ],
      "metadata": {
        "colab": {
          "base_uri": "https://localhost:8080/",
          "height": 542
        },
        "id": "77ZhkBDwbhB0",
        "outputId": "584bbfd6-45f6-4a91-ab37-dedb2900623d"
      },
      "execution_count": 307,
      "outputs": [
        {
          "output_type": "display_data",
          "data": {
            "text/html": [
              "<html>\n",
              "<head><meta charset=\"utf-8\" /></head>\n",
              "<body>\n",
              "    <div>            <script src=\"https://cdnjs.cloudflare.com/ajax/libs/mathjax/2.7.5/MathJax.js?config=TeX-AMS-MML_SVG\"></script><script type=\"text/javascript\">if (window.MathJax) {MathJax.Hub.Config({SVG: {font: \"STIX-Web\"}});}</script>                <script type=\"text/javascript\">window.PlotlyConfig = {MathJaxConfig: 'local'};</script>\n",
              "        <script src=\"https://cdn.plot.ly/plotly-2.8.3.min.js\"></script>                <div id=\"50006b3f-5ffd-4dca-912d-74e95e9b32d7\" class=\"plotly-graph-div\" style=\"height:525px; width:100%;\"></div>            <script type=\"text/javascript\">                                    window.PLOTLYENV=window.PLOTLYENV || {};                                    if (document.getElementById(\"50006b3f-5ffd-4dca-912d-74e95e9b32d7\")) {                    Plotly.newPlot(                        \"50006b3f-5ffd-4dca-912d-74e95e9b32d7\",                        [{\"domain\":{\"x\":[0.0,1.0],\"y\":[0.0,1.0]},\"hole\":0.65,\"hovertemplate\":\"Outcome=%{label}<extra></extra>\",\"labels\":[1,0,1,0,1,0,1,0,1,1,0,1,0,1,1,1,1,1,0,1,0,0,1,1,1,1,1,0,0,0,0,1,0,0,0,0,0,1,1,1,0,0,0,1,0,1,0,0,1,0,0,0,0,1,0,0,1,0,0,0,0,1,0,0,1,0,1,0,0,0,1,0,1,0,0,0,0,0,1,0,0,0,0,0,1,0,0,0,1,0,0,0,0,1,0,0,0,0,0,1,1,0,0,0,0,0,0,0,0,1,1,1,0,0,1,1,1,0,0,0,1,0,0,0,1,1,0,0,1,1,1,1,1,0,0,0,0,0,0,0,0,0,0,1,0,0,0,0,0,0,0,0,1,0,1,1,0,0,0,1,0,0,0,0,1,1,0,0,0,0,1,1,0,0,0,1,0,1,0,1,0,0,0,0,0,1,1,1,1,1,0,0,1,1,0,1,0,1,1,1,0,0,0,0,0,0,1,1,0,1,0,0,0,1,1,1,1,0,1,1,1,1,0,0,0,0,0,1,0,0,1,1,0,0,0,1,1,1,1,0,0,0,1,1,0,1,0,0,0,0,0,0,0,0,1,1,0,0,0,1,0,1,0,0,1,0,1,0,0,1,1,0,0,0,0,0,1,0,0,0,1,0,0,1,1,0,0,1,0,0,0,1,1,1,0,0,1,0,1,0,1,1,0,1,0,0,1,0,1,1,0,0,1,0,1,0,0,1,0,1,0,1,1,1,0,0,1,0,1,0,0,0,1,0,0,0,0,1,1,1,0,0,0,0,0,0,0,0,0,1,0,0,0,0,0,1,1,1,0,1,1,0,0,1,0,0,1,0,0,1,1,0,0,0,0,1,0,0,1,0,0,0,0,0,0,0,1,1,1,0,0,1,0,0,1,0,0,1,0,1,1,0,1,0,1,0,1,0,1,1,0,0,0,0,1,1,0,1,0,1,0,0,0,0,1,1,0,1,0,1,0,0,0,0,0,1,0,0,0,0,1,0,0,1,1,1,0,0,1,0,0,1,0,0,0,1,0,0,1,0,0,0,0,0,0,0,0,0,1,0,0,0,0,0,0,0,1,0,0,0,1,0,0,0,1,1,0,0,0,0,0,0,0,1,0,0,0,0,1,0,0,0,1,0,0,0,1,0,0,0,1,0,0,0,0,1,1,0,0,0,0,0,0,1,0,0,0,0,0,0,0,0,0,0,0,1,0,0,0,1,1,1,1,0,0,1,1,0,0,0,0,0,0,0,0,0,0,0,0,0,1,1,0,0,0,0,0,0,0,1,0,0,0,0,0,0,0,1,0,1,1,0,0,0,1,0,1,0,1,0,1,0,1,0,0,1,0,0,1,0,0,0,0,1,1,0,1,0,0,0,0,1,1,0,1,0,0,0,1,1,0,0,0,0,0,0,0,0,0,0,1,0,0,0,0,1,0,0,1,0,0,0,1,0,0,0,1,1,1,0,0,0,0,0,0,1,0,0,0,1,0,1,1,1,1,0,1,1,0,0,0,0,0,0,0,1,1,0,1,0,0,1,0,1,0,0,0,0,0,1,0,1,0,1,0,1,1,0,0,0,0,1,1,0,0,0,1,0,1,1,0,0,1,0,0,1,1,0,0,1,0,0,1,0,0,0,0,0,0,0,1,1,1,0,0,0,0,0,0,1,1,0,0,1,0,0,1,0,1,1,1,0,0,1,1,1,0,1,0,1,0,1,0,0,0,0,1,0],\"legendgroup\":\"\",\"name\":\"\",\"showlegend\":true,\"type\":\"pie\"}],                        {\"template\":{\"data\":{\"bar\":[{\"error_x\":{\"color\":\"#2a3f5f\"},\"error_y\":{\"color\":\"#2a3f5f\"},\"marker\":{\"line\":{\"color\":\"#E5ECF6\",\"width\":0.5},\"pattern\":{\"fillmode\":\"overlay\",\"size\":10,\"solidity\":0.2}},\"type\":\"bar\"}],\"barpolar\":[{\"marker\":{\"line\":{\"color\":\"#E5ECF6\",\"width\":0.5},\"pattern\":{\"fillmode\":\"overlay\",\"size\":10,\"solidity\":0.2}},\"type\":\"barpolar\"}],\"carpet\":[{\"aaxis\":{\"endlinecolor\":\"#2a3f5f\",\"gridcolor\":\"white\",\"linecolor\":\"white\",\"minorgridcolor\":\"white\",\"startlinecolor\":\"#2a3f5f\"},\"baxis\":{\"endlinecolor\":\"#2a3f5f\",\"gridcolor\":\"white\",\"linecolor\":\"white\",\"minorgridcolor\":\"white\",\"startlinecolor\":\"#2a3f5f\"},\"type\":\"carpet\"}],\"choropleth\":[{\"colorbar\":{\"outlinewidth\":0,\"ticks\":\"\"},\"type\":\"choropleth\"}],\"contour\":[{\"colorbar\":{\"outlinewidth\":0,\"ticks\":\"\"},\"colorscale\":[[0.0,\"#0d0887\"],[0.1111111111111111,\"#46039f\"],[0.2222222222222222,\"#7201a8\"],[0.3333333333333333,\"#9c179e\"],[0.4444444444444444,\"#bd3786\"],[0.5555555555555556,\"#d8576b\"],[0.6666666666666666,\"#ed7953\"],[0.7777777777777778,\"#fb9f3a\"],[0.8888888888888888,\"#fdca26\"],[1.0,\"#f0f921\"]],\"type\":\"contour\"}],\"contourcarpet\":[{\"colorbar\":{\"outlinewidth\":0,\"ticks\":\"\"},\"type\":\"contourcarpet\"}],\"heatmap\":[{\"colorbar\":{\"outlinewidth\":0,\"ticks\":\"\"},\"colorscale\":[[0.0,\"#0d0887\"],[0.1111111111111111,\"#46039f\"],[0.2222222222222222,\"#7201a8\"],[0.3333333333333333,\"#9c179e\"],[0.4444444444444444,\"#bd3786\"],[0.5555555555555556,\"#d8576b\"],[0.6666666666666666,\"#ed7953\"],[0.7777777777777778,\"#fb9f3a\"],[0.8888888888888888,\"#fdca26\"],[1.0,\"#f0f921\"]],\"type\":\"heatmap\"}],\"heatmapgl\":[{\"colorbar\":{\"outlinewidth\":0,\"ticks\":\"\"},\"colorscale\":[[0.0,\"#0d0887\"],[0.1111111111111111,\"#46039f\"],[0.2222222222222222,\"#7201a8\"],[0.3333333333333333,\"#9c179e\"],[0.4444444444444444,\"#bd3786\"],[0.5555555555555556,\"#d8576b\"],[0.6666666666666666,\"#ed7953\"],[0.7777777777777778,\"#fb9f3a\"],[0.8888888888888888,\"#fdca26\"],[1.0,\"#f0f921\"]],\"type\":\"heatmapgl\"}],\"histogram\":[{\"marker\":{\"pattern\":{\"fillmode\":\"overlay\",\"size\":10,\"solidity\":0.2}},\"type\":\"histogram\"}],\"histogram2d\":[{\"colorbar\":{\"outlinewidth\":0,\"ticks\":\"\"},\"colorscale\":[[0.0,\"#0d0887\"],[0.1111111111111111,\"#46039f\"],[0.2222222222222222,\"#7201a8\"],[0.3333333333333333,\"#9c179e\"],[0.4444444444444444,\"#bd3786\"],[0.5555555555555556,\"#d8576b\"],[0.6666666666666666,\"#ed7953\"],[0.7777777777777778,\"#fb9f3a\"],[0.8888888888888888,\"#fdca26\"],[1.0,\"#f0f921\"]],\"type\":\"histogram2d\"}],\"histogram2dcontour\":[{\"colorbar\":{\"outlinewidth\":0,\"ticks\":\"\"},\"colorscale\":[[0.0,\"#0d0887\"],[0.1111111111111111,\"#46039f\"],[0.2222222222222222,\"#7201a8\"],[0.3333333333333333,\"#9c179e\"],[0.4444444444444444,\"#bd3786\"],[0.5555555555555556,\"#d8576b\"],[0.6666666666666666,\"#ed7953\"],[0.7777777777777778,\"#fb9f3a\"],[0.8888888888888888,\"#fdca26\"],[1.0,\"#f0f921\"]],\"type\":\"histogram2dcontour\"}],\"mesh3d\":[{\"colorbar\":{\"outlinewidth\":0,\"ticks\":\"\"},\"type\":\"mesh3d\"}],\"parcoords\":[{\"line\":{\"colorbar\":{\"outlinewidth\":0,\"ticks\":\"\"}},\"type\":\"parcoords\"}],\"pie\":[{\"automargin\":true,\"type\":\"pie\"}],\"scatter\":[{\"marker\":{\"colorbar\":{\"outlinewidth\":0,\"ticks\":\"\"}},\"type\":\"scatter\"}],\"scatter3d\":[{\"line\":{\"colorbar\":{\"outlinewidth\":0,\"ticks\":\"\"}},\"marker\":{\"colorbar\":{\"outlinewidth\":0,\"ticks\":\"\"}},\"type\":\"scatter3d\"}],\"scattercarpet\":[{\"marker\":{\"colorbar\":{\"outlinewidth\":0,\"ticks\":\"\"}},\"type\":\"scattercarpet\"}],\"scattergeo\":[{\"marker\":{\"colorbar\":{\"outlinewidth\":0,\"ticks\":\"\"}},\"type\":\"scattergeo\"}],\"scattergl\":[{\"marker\":{\"colorbar\":{\"outlinewidth\":0,\"ticks\":\"\"}},\"type\":\"scattergl\"}],\"scattermapbox\":[{\"marker\":{\"colorbar\":{\"outlinewidth\":0,\"ticks\":\"\"}},\"type\":\"scattermapbox\"}],\"scatterpolar\":[{\"marker\":{\"colorbar\":{\"outlinewidth\":0,\"ticks\":\"\"}},\"type\":\"scatterpolar\"}],\"scatterpolargl\":[{\"marker\":{\"colorbar\":{\"outlinewidth\":0,\"ticks\":\"\"}},\"type\":\"scatterpolargl\"}],\"scatterternary\":[{\"marker\":{\"colorbar\":{\"outlinewidth\":0,\"ticks\":\"\"}},\"type\":\"scatterternary\"}],\"surface\":[{\"colorbar\":{\"outlinewidth\":0,\"ticks\":\"\"},\"colorscale\":[[0.0,\"#0d0887\"],[0.1111111111111111,\"#46039f\"],[0.2222222222222222,\"#7201a8\"],[0.3333333333333333,\"#9c179e\"],[0.4444444444444444,\"#bd3786\"],[0.5555555555555556,\"#d8576b\"],[0.6666666666666666,\"#ed7953\"],[0.7777777777777778,\"#fb9f3a\"],[0.8888888888888888,\"#fdca26\"],[1.0,\"#f0f921\"]],\"type\":\"surface\"}],\"table\":[{\"cells\":{\"fill\":{\"color\":\"#EBF0F8\"},\"line\":{\"color\":\"white\"}},\"header\":{\"fill\":{\"color\":\"#C8D4E3\"},\"line\":{\"color\":\"white\"}},\"type\":\"table\"}]},\"layout\":{\"annotationdefaults\":{\"arrowcolor\":\"#2a3f5f\",\"arrowhead\":0,\"arrowwidth\":1},\"autotypenumbers\":\"strict\",\"coloraxis\":{\"colorbar\":{\"outlinewidth\":0,\"ticks\":\"\"}},\"colorscale\":{\"diverging\":[[0,\"#8e0152\"],[0.1,\"#c51b7d\"],[0.2,\"#de77ae\"],[0.3,\"#f1b6da\"],[0.4,\"#fde0ef\"],[0.5,\"#f7f7f7\"],[0.6,\"#e6f5d0\"],[0.7,\"#b8e186\"],[0.8,\"#7fbc41\"],[0.9,\"#4d9221\"],[1,\"#276419\"]],\"sequential\":[[0.0,\"#0d0887\"],[0.1111111111111111,\"#46039f\"],[0.2222222222222222,\"#7201a8\"],[0.3333333333333333,\"#9c179e\"],[0.4444444444444444,\"#bd3786\"],[0.5555555555555556,\"#d8576b\"],[0.6666666666666666,\"#ed7953\"],[0.7777777777777778,\"#fb9f3a\"],[0.8888888888888888,\"#fdca26\"],[1.0,\"#f0f921\"]],\"sequentialminus\":[[0.0,\"#0d0887\"],[0.1111111111111111,\"#46039f\"],[0.2222222222222222,\"#7201a8\"],[0.3333333333333333,\"#9c179e\"],[0.4444444444444444,\"#bd3786\"],[0.5555555555555556,\"#d8576b\"],[0.6666666666666666,\"#ed7953\"],[0.7777777777777778,\"#fb9f3a\"],[0.8888888888888888,\"#fdca26\"],[1.0,\"#f0f921\"]]},\"colorway\":[\"#636efa\",\"#EF553B\",\"#00cc96\",\"#ab63fa\",\"#FFA15A\",\"#19d3f3\",\"#FF6692\",\"#B6E880\",\"#FF97FF\",\"#FECB52\"],\"font\":{\"color\":\"#2a3f5f\"},\"geo\":{\"bgcolor\":\"white\",\"lakecolor\":\"white\",\"landcolor\":\"#E5ECF6\",\"showlakes\":true,\"showland\":true,\"subunitcolor\":\"white\"},\"hoverlabel\":{\"align\":\"left\"},\"hovermode\":\"closest\",\"mapbox\":{\"style\":\"light\"},\"paper_bgcolor\":\"white\",\"plot_bgcolor\":\"#E5ECF6\",\"polar\":{\"angularaxis\":{\"gridcolor\":\"white\",\"linecolor\":\"white\",\"ticks\":\"\"},\"bgcolor\":\"#E5ECF6\",\"radialaxis\":{\"gridcolor\":\"white\",\"linecolor\":\"white\",\"ticks\":\"\"}},\"scene\":{\"xaxis\":{\"backgroundcolor\":\"#E5ECF6\",\"gridcolor\":\"white\",\"gridwidth\":2,\"linecolor\":\"white\",\"showbackground\":true,\"ticks\":\"\",\"zerolinecolor\":\"white\"},\"yaxis\":{\"backgroundcolor\":\"#E5ECF6\",\"gridcolor\":\"white\",\"gridwidth\":2,\"linecolor\":\"white\",\"showbackground\":true,\"ticks\":\"\",\"zerolinecolor\":\"white\"},\"zaxis\":{\"backgroundcolor\":\"#E5ECF6\",\"gridcolor\":\"white\",\"gridwidth\":2,\"linecolor\":\"white\",\"showbackground\":true,\"ticks\":\"\",\"zerolinecolor\":\"white\"}},\"shapedefaults\":{\"line\":{\"color\":\"#2a3f5f\"}},\"ternary\":{\"aaxis\":{\"gridcolor\":\"white\",\"linecolor\":\"white\",\"ticks\":\"\"},\"baxis\":{\"gridcolor\":\"white\",\"linecolor\":\"white\",\"ticks\":\"\"},\"bgcolor\":\"#E5ECF6\",\"caxis\":{\"gridcolor\":\"white\",\"linecolor\":\"white\",\"ticks\":\"\"}},\"title\":{\"x\":0.05},\"xaxis\":{\"automargin\":true,\"gridcolor\":\"white\",\"linecolor\":\"white\",\"ticks\":\"\",\"title\":{\"standoff\":15},\"zerolinecolor\":\"white\",\"zerolinewidth\":2},\"yaxis\":{\"automargin\":true,\"gridcolor\":\"white\",\"linecolor\":\"white\",\"ticks\":\"\",\"title\":{\"standoff\":15},\"zerolinecolor\":\"white\",\"zerolinewidth\":2}}},\"legend\":{\"tracegroupgap\":0},\"title\":{\"text\":\"Distribution of Diabetes\"}},                        {\"responsive\": true}                    ).then(function(){\n",
              "                            \n",
              "var gd = document.getElementById('50006b3f-5ffd-4dca-912d-74e95e9b32d7');\n",
              "var x = new MutationObserver(function (mutations, observer) {{\n",
              "        var display = window.getComputedStyle(gd).display;\n",
              "        if (!display || display === 'none') {{\n",
              "            console.log([gd, 'removed!']);\n",
              "            Plotly.purge(gd);\n",
              "            observer.disconnect();\n",
              "        }}\n",
              "}});\n",
              "\n",
              "// Listen for the removal of the full notebook cells\n",
              "var notebookContainer = gd.closest('#notebook-container');\n",
              "if (notebookContainer) {{\n",
              "    x.observe(notebookContainer, {childList: true});\n",
              "}}\n",
              "\n",
              "// Listen for the clearing of the current output cell\n",
              "var outputEl = gd.closest('.output');\n",
              "if (outputEl) {{\n",
              "    x.observe(outputEl, {childList: true});\n",
              "}}\n",
              "\n",
              "                        })                };                            </script>        </div>\n",
              "</body>\n",
              "</html>"
            ]
          },
          "metadata": {}
        }
      ]
    },
    {
      "cell_type": "markdown",
      "source": [
        "The dataset is slightly imbalanced wrt to outcome as 65% of patients have low of diabetes and only 34% patients have high chance"
      ],
      "metadata": {
        "id": "aBDWDy9_bOss"
      }
    },
    {
      "cell_type": "markdown",
      "source": [
        "- [ ] https://machinelearningmastery.com/tactics-to-combat-imbalanced-classes-in-your-machine-learning-dataset \n",
        "\n",
        "1. Enlever des donnée de personnes 0 \n",
        "2. Créer des nouvelles données (data augmentation) à partir de celle sdéjà existantes (en altérant légérement)"
      ],
      "metadata": {
        "id": "ut4HqdztrzwM"
      }
    },
    {
      "cell_type": "markdown",
      "source": [
        "### Glucode + Age\n",
        "\n",
        "Glucose and age correlation/ distribution across target variable"
      ],
      "metadata": {
        "id": "-3gMn_7kbt8W"
      }
    },
    {
      "cell_type": "code",
      "source": [
        "ax= px.scatter(df_diabetes,x= \"Glucose\",y= \"Age\",marginal_x='histogram', marginal_y='histogram',size=\"Age\", size_max=8,color= \"Outcome\",title=\"Age and Glucose correlation\")\n",
        "ax.show()"
      ],
      "metadata": {
        "colab": {
          "base_uri": "https://localhost:8080/",
          "height": 542
        },
        "id": "h3m-wdXFb0_i",
        "outputId": "0f46278a-d698-4b43-fb9f-8deeb7def4cf"
      },
      "execution_count": 308,
      "outputs": [
        {
          "output_type": "display_data",
          "data": {
            "text/html": [
              "<html>\n",
              "<head><meta charset=\"utf-8\" /></head>\n",
              "<body>\n",
              "    <div>            <script src=\"https://cdnjs.cloudflare.com/ajax/libs/mathjax/2.7.5/MathJax.js?config=TeX-AMS-MML_SVG\"></script><script type=\"text/javascript\">if (window.MathJax) {MathJax.Hub.Config({SVG: {font: \"STIX-Web\"}});}</script>                <script type=\"text/javascript\">window.PlotlyConfig = {MathJaxConfig: 'local'};</script>\n",
              "        <script src=\"https://cdn.plot.ly/plotly-2.8.3.min.js\"></script>                <div id=\"d9577351-894f-46a6-88f7-5c05a6861ee9\" class=\"plotly-graph-div\" style=\"height:525px; width:100%;\"></div>            <script type=\"text/javascript\">                                    window.PLOTLYENV=window.PLOTLYENV || {};                                    if (document.getElementById(\"d9577351-894f-46a6-88f7-5c05a6861ee9\")) {                    Plotly.newPlot(                        \"d9577351-894f-46a6-88f7-5c05a6861ee9\",                        [{\"hovertemplate\":\"Glucose=%{x}<br>Age=%{marker.size}<br>Outcome=%{marker.color}<extra></extra>\",\"legendgroup\":\"\",\"marker\":{\"color\":[1,0,1,0,1,0,1,0,1,1,0,1,0,1,1,1,1,1,0,1,0,0,1,1,1,1,1,0,0,0,0,1,0,0,0,0,0,1,1,1,0,0,0,1,0,1,0,0,1,0,0,0,0,1,0,0,1,0,0,0,0,1,0,0,1,0,1,0,0,0,1,0,1,0,0,0,0,0,1,0,0,0,0,0,1,0,0,0,1,0,0,0,0,1,0,0,0,0,0,1,1,0,0,0,0,0,0,0,0,1,1,1,0,0,1,1,1,0,0,0,1,0,0,0,1,1,0,0,1,1,1,1,1,0,0,0,0,0,0,0,0,0,0,1,0,0,0,0,0,0,0,0,1,0,1,1,0,0,0,1,0,0,0,0,1,1,0,0,0,0,1,1,0,0,0,1,0,1,0,1,0,0,0,0,0,1,1,1,1,1,0,0,1,1,0,1,0,1,1,1,0,0,0,0,0,0,1,1,0,1,0,0,0,1,1,1,1,0,1,1,1,1,0,0,0,0,0,1,0,0,1,1,0,0,0,1,1,1,1,0,0,0,1,1,0,1,0,0,0,0,0,0,0,0,1,1,0,0,0,1,0,1,0,0,1,0,1,0,0,1,1,0,0,0,0,0,1,0,0,0,1,0,0,1,1,0,0,1,0,0,0,1,1,1,0,0,1,0,1,0,1,1,0,1,0,0,1,0,1,1,0,0,1,0,1,0,0,1,0,1,0,1,1,1,0,0,1,0,1,0,0,0,1,0,0,0,0,1,1,1,0,0,0,0,0,0,0,0,0,1,0,0,0,0,0,1,1,1,0,1,1,0,0,1,0,0,1,0,0,1,1,0,0,0,0,1,0,0,1,0,0,0,0,0,0,0,1,1,1,0,0,1,0,0,1,0,0,1,0,1,1,0,1,0,1,0,1,0,1,1,0,0,0,0,1,1,0,1,0,1,0,0,0,0,1,1,0,1,0,1,0,0,0,0,0,1,0,0,0,0,1,0,0,1,1,1,0,0,1,0,0,1,0,0,0,1,0,0,1,0,0,0,0,0,0,0,0,0,1,0,0,0,0,0,0,0,1,0,0,0,1,0,0,0,1,1,0,0,0,0,0,0,0,1,0,0,0,0,1,0,0,0,1,0,0,0,1,0,0,0,1,0,0,0,0,1,1,0,0,0,0,0,0,1,0,0,0,0,0,0,0,0,0,0,0,1,0,0,0,1,1,1,1,0,0,1,1,0,0,0,0,0,0,0,0,0,0,0,0,0,1,1,0,0,0,0,0,0,0,1,0,0,0,0,0,0,0,1,0,1,1,0,0,0,1,0,1,0,1,0,1,0,1,0,0,1,0,0,1,0,0,0,0,1,1,0,1,0,0,0,0,1,1,0,1,0,0,0,1,1,0,0,0,0,0,0,0,0,0,0,1,0,0,0,0,1,0,0,1,0,0,0,1,0,0,0,1,1,1,0,0,0,0,0,0,1,0,0,0,1,0,1,1,1,1,0,1,1,0,0,0,0,0,0,0,1,1,0,1,0,0,1,0,1,0,0,0,0,0,1,0,1,0,1,0,1,1,0,0,0,0,1,1,0,0,0,1,0,1,1,0,0,1,0,0,1,1,0,0,1,0,0,1,0,0,0,0,0,0,0,1,1,1,0,0,0,0,0,0,1,1,0,0,1,0,0,1,0,1,1,1,0,0,1,1,1,0,1,0,1,0,1,0,0,0,0,1,0],\"coloraxis\":\"coloraxis\",\"size\":[50,31,32,21,33,30,26,29,53,54,30,34,57,59,51,32,31,31,33,32,27,50,41,29,51,41,43,22,57,38,60,28,22,28,45,33,35,46,27,56,26,37,48,54,40,25,29,22,31,24,22,26,30,58,42,21,41,31,44,22,21,39,36,24,42,32,38,54,25,27,28,26,42,23,22,22,41,27,26,24,22,22,36,22,37,27,45,26,43,24,21,34,42,60,21,40,24,22,23,31,33,22,21,24,27,21,27,37,25,24,24,46,23,25,39,61,38,25,22,21,25,24,23,69,23,26,30,23,40,62,33,33,30,39,26,31,21,22,29,28,55,38,22,42,23,21,41,34,65,22,24,37,42,23,43,36,21,23,22,47,36,45,27,21,32,41,22,34,29,29,36,29,25,23,33,36,42,26,47,37,32,23,21,27,40,41,60,33,31,25,21,40,36,40,42,29,21,23,26,29,21,28,32,27,55,27,57,52,21,41,25,24,60,24,36,38,25,32,32,41,21,66,37,61,26,22,26,24,31,24,22,46,22,29,23,26,51,23,32,27,21,22,22,33,29,49,41,23,34,23,42,27,24,25,44,21,30,25,24,51,34,27,24,63,35,43,25,24,21,28,38,21,40,21,52,25,29,23,57,22,28,39,37,47,52,51,34,29,26,33,21,25,31,24,65,28,29,24,46,58,30,25,35,28,37,29,47,21,25,30,41,22,27,25,43,26,30,29,28,59,31,25,36,43,21,24,30,37,23,37,46,25,41,44,22,26,44,44,33,41,22,36,22,33,57,49,22,23,26,37,29,30,46,24,21,49,28,44,48,29,29,63,65,67,30,30,29,21,22,45,25,21,21,25,28,58,22,22,32,35,24,22,21,25,25,24,35,45,58,28,42,27,21,37,31,25,39,22,25,25,31,55,35,38,41,26,46,25,39,28,28,25,22,21,21,22,22,37,27,28,26,21,21,21,36,31,25,38,26,43,23,38,22,29,36,29,41,28,21,31,41,22,24,33,30,25,28,26,22,26,23,23,25,72,24,38,62,24,51,81,48,26,39,37,34,21,22,25,38,27,28,22,22,50,24,59,29,31,39,63,35,29,28,23,31,24,21,58,28,67,24,42,33,45,22,66,30,25,55,39,21,28,41,41,40,38,35,21,21,64,46,21,58,22,24,28,53,51,41,60,25,26,26,45,24,21,21,24,22,31,22,24,29,31,24,23,46,67,23,32,43,27,56,25,29,37,53,28,50,37,21,25,66,23,28,37,30,58,42,35,54,28,24,32,27,22,21,46,37,33,39,21,22,22,23,25,35,21,36,62,21,27,62,42,52,22,41,29,52,25,45,24,44,25,34,22,46,21,38,26,24,28,30,54,36,21,22,25,27,23,24,36,40,26,50,27,30,23,50,24,28,28,45,21,21,29,21,21,45,21,34,24,23,22,31,38,48,23,32,28,27,24,50,31,27,30,33,22,42,23,23,27,28,27,22,25,22,41,51,27,54,22,43,40,40,24,70,40,43,45,49,21,47,22,68,31,53,25,25,23,22,26,22,27,69,25,22,29,23,46,34,44,23,43,25,43,31,22,28,26,26,49,52,41,27,28,30,22,45,23,24,40,38,21,32,34,31,56,24,52,34,21,42,42,45,38,25,22,22,22,34,22,24,22,53,28,21,42,21,42,48,26,22,45,39,46,27,32,36,50,22,28,25,26,45,37,39,52,26,66,22,43,33,63,27,30,47,23],\"sizemode\":\"area\",\"sizeref\":1.265625,\"symbol\":\"circle\"},\"mode\":\"markers\",\"name\":\"\",\"orientation\":\"v\",\"showlegend\":false,\"x\":[148.0,85.0,183.0,89.0,137.0,116.0,78.0,115.0,197.0,125.0,110.0,168.0,139.0,189.0,166.0,100.0,118.0,107.0,103.0,115.0,126.0,99.0,196.0,119.0,143.0,125.0,147.0,97.0,145.0,117.0,109.0,158.0,88.0,92.0,122.0,103.0,138.0,102.0,90.0,111.0,180.0,133.0,106.0,171.0,159.0,180.0,146.0,71.0,103.0,105.0,103.0,101.0,88.0,176.0,150.0,73.0,187.0,100.0,146.0,105.0,84.0,133.0,44.0,141.0,114.0,99.0,109.0,109.0,95.0,146.0,100.0,139.0,126.0,129.0,79.0,121.6867627785059,62.0,95.0,131.0,112.0,113.0,74.0,83.0,101.0,137.0,110.0,106.0,100.0,136.0,107.0,80.0,123.0,81.0,134.0,142.0,144.0,92.0,71.0,93.0,122.0,163.0,151.0,125.0,81.0,85.0,126.0,96.0,144.0,83.0,95.0,171.0,155.0,89.0,76.0,160.0,146.0,124.0,78.0,97.0,99.0,162.0,111.0,107.0,132.0,113.0,88.0,120.0,118.0,117.0,105.0,173.0,122.0,170.0,84.0,96.0,125.0,100.0,93.0,129.0,105.0,128.0,106.0,108.0,108.0,154.0,102.0,57.0,106.0,147.0,90.0,136.0,114.0,156.0,153.0,188.0,152.0,99.0,109.0,88.0,163.0,151.0,102.0,114.0,100.0,131.0,104.0,148.0,120.0,110.0,111.0,102.0,134.0,87.0,79.0,75.0,179.0,85.0,129.0,143.0,130.0,87.0,119.0,121.6867627785059,73.0,141.0,194.0,181.0,128.0,109.0,139.0,111.0,123.0,159.0,135.0,85.0,158.0,105.0,107.0,109.0,148.0,113.0,138.0,108.0,99.0,103.0,111.0,196.0,162.0,96.0,184.0,81.0,147.0,179.0,140.0,112.0,151.0,109.0,125.0,85.0,112.0,177.0,158.0,119.0,142.0,100.0,87.0,101.0,162.0,197.0,117.0,142.0,134.0,79.0,122.0,74.0,171.0,181.0,179.0,164.0,104.0,91.0,91.0,139.0,119.0,146.0,184.0,122.0,165.0,124.0,111.0,106.0,129.0,90.0,86.0,92.0,113.0,111.0,114.0,193.0,155.0,191.0,141.0,95.0,142.0,123.0,96.0,138.0,128.0,102.0,146.0,101.0,108.0,122.0,71.0,106.0,100.0,106.0,104.0,114.0,108.0,146.0,129.0,133.0,161.0,108.0,136.0,155.0,119.0,96.0,108.0,78.0,107.0,128.0,128.0,161.0,151.0,146.0,126.0,100.0,112.0,167.0,144.0,77.0,115.0,150.0,120.0,161.0,137.0,128.0,124.0,80.0,106.0,155.0,113.0,109.0,112.0,99.0,182.0,115.0,194.0,129.0,112.0,124.0,152.0,112.0,157.0,122.0,179.0,102.0,105.0,118.0,87.0,180.0,106.0,95.0,165.0,117.0,115.0,152.0,178.0,130.0,95.0,121.6867627785059,122.0,95.0,126.0,139.0,116.0,99.0,121.6867627785059,92.0,137.0,61.0,90.0,90.0,165.0,125.0,129.0,88.0,196.0,189.0,158.0,103.0,146.0,147.0,99.0,124.0,101.0,81.0,133.0,173.0,118.0,84.0,105.0,122.0,140.0,98.0,87.0,156.0,93.0,107.0,105.0,109.0,90.0,125.0,119.0,116.0,105.0,144.0,100.0,100.0,166.0,131.0,116.0,158.0,127.0,96.0,131.0,82.0,193.0,95.0,137.0,136.0,72.0,168.0,123.0,115.0,101.0,197.0,172.0,102.0,112.0,143.0,143.0,138.0,173.0,97.0,144.0,83.0,129.0,119.0,94.0,102.0,115.0,151.0,184.0,94.0,181.0,135.0,95.0,99.0,89.0,80.0,139.0,90.0,141.0,140.0,147.0,97.0,107.0,189.0,83.0,117.0,108.0,117.0,180.0,100.0,95.0,104.0,120.0,82.0,134.0,91.0,119.0,100.0,175.0,135.0,86.0,148.0,134.0,120.0,71.0,74.0,88.0,115.0,124.0,74.0,97.0,120.0,154.0,144.0,137.0,119.0,136.0,114.0,137.0,105.0,114.0,126.0,132.0,158.0,123.0,85.0,84.0,145.0,135.0,139.0,173.0,99.0,194.0,83.0,89.0,99.0,125.0,80.0,166.0,110.0,81.0,195.0,154.0,117.0,84.0,121.6867627785059,94.0,96.0,75.0,180.0,130.0,84.0,120.0,84.0,139.0,91.0,91.0,99.0,163.0,145.0,125.0,76.0,129.0,68.0,124.0,114.0,130.0,125.0,87.0,97.0,116.0,117.0,111.0,122.0,107.0,86.0,91.0,77.0,132.0,105.0,57.0,127.0,129.0,100.0,128.0,90.0,84.0,88.0,186.0,187.0,131.0,164.0,189.0,116.0,84.0,114.0,88.0,84.0,124.0,97.0,110.0,103.0,85.0,125.0,198.0,87.0,99.0,91.0,95.0,99.0,92.0,154.0,121.0,78.0,130.0,111.0,98.0,143.0,119.0,108.0,118.0,133.0,197.0,151.0,109.0,121.0,100.0,124.0,93.0,143.0,103.0,176.0,73.0,111.0,112.0,132.0,82.0,123.0,188.0,67.0,89.0,173.0,109.0,108.0,96.0,124.0,150.0,183.0,124.0,181.0,92.0,152.0,111.0,106.0,174.0,168.0,105.0,138.0,106.0,117.0,68.0,112.0,119.0,112.0,92.0,183.0,94.0,108.0,90.0,125.0,132.0,128.0,94.0,114.0,102.0,111.0,128.0,92.0,104.0,104.0,94.0,97.0,100.0,102.0,128.0,147.0,90.0,103.0,157.0,167.0,179.0,136.0,107.0,91.0,117.0,123.0,120.0,106.0,155.0,101.0,120.0,127.0,80.0,162.0,199.0,167.0,145.0,115.0,112.0,145.0,111.0,98.0,154.0,165.0,99.0,68.0,123.0,91.0,195.0,156.0,93.0,121.0,101.0,56.0,162.0,95.0,125.0,136.0,129.0,130.0,107.0,140.0,144.0,107.0,158.0,121.0,129.0,90.0,142.0,169.0,99.0,127.0,118.0,122.0,125.0,168.0,129.0,110.0,80.0,115.0,127.0,164.0,93.0,158.0,126.0,129.0,134.0,102.0,187.0,173.0,94.0,108.0,97.0,83.0,114.0,149.0,117.0,111.0,112.0,116.0,141.0,175.0,92.0,130.0,120.0,174.0,106.0,105.0,95.0,126.0,65.0,99.0,102.0,120.0,102.0,109.0,140.0,153.0,100.0,147.0,81.0,187.0,162.0,136.0,121.0,108.0,181.0,154.0,128.0,137.0,123.0,106.0,190.0,88.0,170.0,89.0,101.0,122.0,121.0,126.0,93.0],\"xaxis\":\"x\",\"y\":[50,31,32,21,33,30,26,29,53,54,30,34,57,59,51,32,31,31,33,32,27,50,41,29,51,41,43,22,57,38,60,28,22,28,45,33,35,46,27,56,26,37,48,54,40,25,29,22,31,24,22,26,30,58,42,21,41,31,44,22,21,39,36,24,42,32,38,54,25,27,28,26,42,23,22,22,41,27,26,24,22,22,36,22,37,27,45,26,43,24,21,34,42,60,21,40,24,22,23,31,33,22,21,24,27,21,27,37,25,24,24,46,23,25,39,61,38,25,22,21,25,24,23,69,23,26,30,23,40,62,33,33,30,39,26,31,21,22,29,28,55,38,22,42,23,21,41,34,65,22,24,37,42,23,43,36,21,23,22,47,36,45,27,21,32,41,22,34,29,29,36,29,25,23,33,36,42,26,47,37,32,23,21,27,40,41,60,33,31,25,21,40,36,40,42,29,21,23,26,29,21,28,32,27,55,27,57,52,21,41,25,24,60,24,36,38,25,32,32,41,21,66,37,61,26,22,26,24,31,24,22,46,22,29,23,26,51,23,32,27,21,22,22,33,29,49,41,23,34,23,42,27,24,25,44,21,30,25,24,51,34,27,24,63,35,43,25,24,21,28,38,21,40,21,52,25,29,23,57,22,28,39,37,47,52,51,34,29,26,33,21,25,31,24,65,28,29,24,46,58,30,25,35,28,37,29,47,21,25,30,41,22,27,25,43,26,30,29,28,59,31,25,36,43,21,24,30,37,23,37,46,25,41,44,22,26,44,44,33,41,22,36,22,33,57,49,22,23,26,37,29,30,46,24,21,49,28,44,48,29,29,63,65,67,30,30,29,21,22,45,25,21,21,25,28,58,22,22,32,35,24,22,21,25,25,24,35,45,58,28,42,27,21,37,31,25,39,22,25,25,31,55,35,38,41,26,46,25,39,28,28,25,22,21,21,22,22,37,27,28,26,21,21,21,36,31,25,38,26,43,23,38,22,29,36,29,41,28,21,31,41,22,24,33,30,25,28,26,22,26,23,23,25,72,24,38,62,24,51,81,48,26,39,37,34,21,22,25,38,27,28,22,22,50,24,59,29,31,39,63,35,29,28,23,31,24,21,58,28,67,24,42,33,45,22,66,30,25,55,39,21,28,41,41,40,38,35,21,21,64,46,21,58,22,24,28,53,51,41,60,25,26,26,45,24,21,21,24,22,31,22,24,29,31,24,23,46,67,23,32,43,27,56,25,29,37,53,28,50,37,21,25,66,23,28,37,30,58,42,35,54,28,24,32,27,22,21,46,37,33,39,21,22,22,23,25,35,21,36,62,21,27,62,42,52,22,41,29,52,25,45,24,44,25,34,22,46,21,38,26,24,28,30,54,36,21,22,25,27,23,24,36,40,26,50,27,30,23,50,24,28,28,45,21,21,29,21,21,45,21,34,24,23,22,31,38,48,23,32,28,27,24,50,31,27,30,33,22,42,23,23,27,28,27,22,25,22,41,51,27,54,22,43,40,40,24,70,40,43,45,49,21,47,22,68,31,53,25,25,23,22,26,22,27,69,25,22,29,23,46,34,44,23,43,25,43,31,22,28,26,26,49,52,41,27,28,30,22,45,23,24,40,38,21,32,34,31,56,24,52,34,21,42,42,45,38,25,22,22,22,34,22,24,22,53,28,21,42,21,42,48,26,22,45,39,46,27,32,36,50,22,28,25,26,45,37,39,52,26,66,22,43,33,63,27,30,47,23],\"yaxis\":\"y\",\"type\":\"scatter\"},{\"alignmentgroup\":\"True\",\"bingroup\":\"x\",\"hovertemplate\":\"Glucose=%{x}<br>count=%{y}<extra></extra>\",\"legendgroup\":\"\",\"marker\":{\"color\":\"#0d0887\"},\"name\":\"\",\"offsetgroup\":\"\",\"opacity\":0.5,\"showlegend\":false,\"x\":[148.0,85.0,183.0,89.0,137.0,116.0,78.0,115.0,197.0,125.0,110.0,168.0,139.0,189.0,166.0,100.0,118.0,107.0,103.0,115.0,126.0,99.0,196.0,119.0,143.0,125.0,147.0,97.0,145.0,117.0,109.0,158.0,88.0,92.0,122.0,103.0,138.0,102.0,90.0,111.0,180.0,133.0,106.0,171.0,159.0,180.0,146.0,71.0,103.0,105.0,103.0,101.0,88.0,176.0,150.0,73.0,187.0,100.0,146.0,105.0,84.0,133.0,44.0,141.0,114.0,99.0,109.0,109.0,95.0,146.0,100.0,139.0,126.0,129.0,79.0,121.6867627785059,62.0,95.0,131.0,112.0,113.0,74.0,83.0,101.0,137.0,110.0,106.0,100.0,136.0,107.0,80.0,123.0,81.0,134.0,142.0,144.0,92.0,71.0,93.0,122.0,163.0,151.0,125.0,81.0,85.0,126.0,96.0,144.0,83.0,95.0,171.0,155.0,89.0,76.0,160.0,146.0,124.0,78.0,97.0,99.0,162.0,111.0,107.0,132.0,113.0,88.0,120.0,118.0,117.0,105.0,173.0,122.0,170.0,84.0,96.0,125.0,100.0,93.0,129.0,105.0,128.0,106.0,108.0,108.0,154.0,102.0,57.0,106.0,147.0,90.0,136.0,114.0,156.0,153.0,188.0,152.0,99.0,109.0,88.0,163.0,151.0,102.0,114.0,100.0,131.0,104.0,148.0,120.0,110.0,111.0,102.0,134.0,87.0,79.0,75.0,179.0,85.0,129.0,143.0,130.0,87.0,119.0,121.6867627785059,73.0,141.0,194.0,181.0,128.0,109.0,139.0,111.0,123.0,159.0,135.0,85.0,158.0,105.0,107.0,109.0,148.0,113.0,138.0,108.0,99.0,103.0,111.0,196.0,162.0,96.0,184.0,81.0,147.0,179.0,140.0,112.0,151.0,109.0,125.0,85.0,112.0,177.0,158.0,119.0,142.0,100.0,87.0,101.0,162.0,197.0,117.0,142.0,134.0,79.0,122.0,74.0,171.0,181.0,179.0,164.0,104.0,91.0,91.0,139.0,119.0,146.0,184.0,122.0,165.0,124.0,111.0,106.0,129.0,90.0,86.0,92.0,113.0,111.0,114.0,193.0,155.0,191.0,141.0,95.0,142.0,123.0,96.0,138.0,128.0,102.0,146.0,101.0,108.0,122.0,71.0,106.0,100.0,106.0,104.0,114.0,108.0,146.0,129.0,133.0,161.0,108.0,136.0,155.0,119.0,96.0,108.0,78.0,107.0,128.0,128.0,161.0,151.0,146.0,126.0,100.0,112.0,167.0,144.0,77.0,115.0,150.0,120.0,161.0,137.0,128.0,124.0,80.0,106.0,155.0,113.0,109.0,112.0,99.0,182.0,115.0,194.0,129.0,112.0,124.0,152.0,112.0,157.0,122.0,179.0,102.0,105.0,118.0,87.0,180.0,106.0,95.0,165.0,117.0,115.0,152.0,178.0,130.0,95.0,121.6867627785059,122.0,95.0,126.0,139.0,116.0,99.0,121.6867627785059,92.0,137.0,61.0,90.0,90.0,165.0,125.0,129.0,88.0,196.0,189.0,158.0,103.0,146.0,147.0,99.0,124.0,101.0,81.0,133.0,173.0,118.0,84.0,105.0,122.0,140.0,98.0,87.0,156.0,93.0,107.0,105.0,109.0,90.0,125.0,119.0,116.0,105.0,144.0,100.0,100.0,166.0,131.0,116.0,158.0,127.0,96.0,131.0,82.0,193.0,95.0,137.0,136.0,72.0,168.0,123.0,115.0,101.0,197.0,172.0,102.0,112.0,143.0,143.0,138.0,173.0,97.0,144.0,83.0,129.0,119.0,94.0,102.0,115.0,151.0,184.0,94.0,181.0,135.0,95.0,99.0,89.0,80.0,139.0,90.0,141.0,140.0,147.0,97.0,107.0,189.0,83.0,117.0,108.0,117.0,180.0,100.0,95.0,104.0,120.0,82.0,134.0,91.0,119.0,100.0,175.0,135.0,86.0,148.0,134.0,120.0,71.0,74.0,88.0,115.0,124.0,74.0,97.0,120.0,154.0,144.0,137.0,119.0,136.0,114.0,137.0,105.0,114.0,126.0,132.0,158.0,123.0,85.0,84.0,145.0,135.0,139.0,173.0,99.0,194.0,83.0,89.0,99.0,125.0,80.0,166.0,110.0,81.0,195.0,154.0,117.0,84.0,121.6867627785059,94.0,96.0,75.0,180.0,130.0,84.0,120.0,84.0,139.0,91.0,91.0,99.0,163.0,145.0,125.0,76.0,129.0,68.0,124.0,114.0,130.0,125.0,87.0,97.0,116.0,117.0,111.0,122.0,107.0,86.0,91.0,77.0,132.0,105.0,57.0,127.0,129.0,100.0,128.0,90.0,84.0,88.0,186.0,187.0,131.0,164.0,189.0,116.0,84.0,114.0,88.0,84.0,124.0,97.0,110.0,103.0,85.0,125.0,198.0,87.0,99.0,91.0,95.0,99.0,92.0,154.0,121.0,78.0,130.0,111.0,98.0,143.0,119.0,108.0,118.0,133.0,197.0,151.0,109.0,121.0,100.0,124.0,93.0,143.0,103.0,176.0,73.0,111.0,112.0,132.0,82.0,123.0,188.0,67.0,89.0,173.0,109.0,108.0,96.0,124.0,150.0,183.0,124.0,181.0,92.0,152.0,111.0,106.0,174.0,168.0,105.0,138.0,106.0,117.0,68.0,112.0,119.0,112.0,92.0,183.0,94.0,108.0,90.0,125.0,132.0,128.0,94.0,114.0,102.0,111.0,128.0,92.0,104.0,104.0,94.0,97.0,100.0,102.0,128.0,147.0,90.0,103.0,157.0,167.0,179.0,136.0,107.0,91.0,117.0,123.0,120.0,106.0,155.0,101.0,120.0,127.0,80.0,162.0,199.0,167.0,145.0,115.0,112.0,145.0,111.0,98.0,154.0,165.0,99.0,68.0,123.0,91.0,195.0,156.0,93.0,121.0,101.0,56.0,162.0,95.0,125.0,136.0,129.0,130.0,107.0,140.0,144.0,107.0,158.0,121.0,129.0,90.0,142.0,169.0,99.0,127.0,118.0,122.0,125.0,168.0,129.0,110.0,80.0,115.0,127.0,164.0,93.0,158.0,126.0,129.0,134.0,102.0,187.0,173.0,94.0,108.0,97.0,83.0,114.0,149.0,117.0,111.0,112.0,116.0,141.0,175.0,92.0,130.0,120.0,174.0,106.0,105.0,95.0,126.0,65.0,99.0,102.0,120.0,102.0,109.0,140.0,153.0,100.0,147.0,81.0,187.0,162.0,136.0,121.0,108.0,181.0,154.0,128.0,137.0,123.0,106.0,190.0,88.0,170.0,89.0,101.0,122.0,121.0,126.0,93.0],\"xaxis\":\"x3\",\"yaxis\":\"y3\",\"type\":\"histogram\"},{\"alignmentgroup\":\"True\",\"bingroup\":\"y\",\"hovertemplate\":\"Age=%{y}<br>count=%{x}<extra></extra>\",\"legendgroup\":\"\",\"marker\":{\"color\":\"#0d0887\"},\"name\":\"\",\"offsetgroup\":\"\",\"opacity\":0.5,\"showlegend\":false,\"xaxis\":\"x2\",\"y\":[50,31,32,21,33,30,26,29,53,54,30,34,57,59,51,32,31,31,33,32,27,50,41,29,51,41,43,22,57,38,60,28,22,28,45,33,35,46,27,56,26,37,48,54,40,25,29,22,31,24,22,26,30,58,42,21,41,31,44,22,21,39,36,24,42,32,38,54,25,27,28,26,42,23,22,22,41,27,26,24,22,22,36,22,37,27,45,26,43,24,21,34,42,60,21,40,24,22,23,31,33,22,21,24,27,21,27,37,25,24,24,46,23,25,39,61,38,25,22,21,25,24,23,69,23,26,30,23,40,62,33,33,30,39,26,31,21,22,29,28,55,38,22,42,23,21,41,34,65,22,24,37,42,23,43,36,21,23,22,47,36,45,27,21,32,41,22,34,29,29,36,29,25,23,33,36,42,26,47,37,32,23,21,27,40,41,60,33,31,25,21,40,36,40,42,29,21,23,26,29,21,28,32,27,55,27,57,52,21,41,25,24,60,24,36,38,25,32,32,41,21,66,37,61,26,22,26,24,31,24,22,46,22,29,23,26,51,23,32,27,21,22,22,33,29,49,41,23,34,23,42,27,24,25,44,21,30,25,24,51,34,27,24,63,35,43,25,24,21,28,38,21,40,21,52,25,29,23,57,22,28,39,37,47,52,51,34,29,26,33,21,25,31,24,65,28,29,24,46,58,30,25,35,28,37,29,47,21,25,30,41,22,27,25,43,26,30,29,28,59,31,25,36,43,21,24,30,37,23,37,46,25,41,44,22,26,44,44,33,41,22,36,22,33,57,49,22,23,26,37,29,30,46,24,21,49,28,44,48,29,29,63,65,67,30,30,29,21,22,45,25,21,21,25,28,58,22,22,32,35,24,22,21,25,25,24,35,45,58,28,42,27,21,37,31,25,39,22,25,25,31,55,35,38,41,26,46,25,39,28,28,25,22,21,21,22,22,37,27,28,26,21,21,21,36,31,25,38,26,43,23,38,22,29,36,29,41,28,21,31,41,22,24,33,30,25,28,26,22,26,23,23,25,72,24,38,62,24,51,81,48,26,39,37,34,21,22,25,38,27,28,22,22,50,24,59,29,31,39,63,35,29,28,23,31,24,21,58,28,67,24,42,33,45,22,66,30,25,55,39,21,28,41,41,40,38,35,21,21,64,46,21,58,22,24,28,53,51,41,60,25,26,26,45,24,21,21,24,22,31,22,24,29,31,24,23,46,67,23,32,43,27,56,25,29,37,53,28,50,37,21,25,66,23,28,37,30,58,42,35,54,28,24,32,27,22,21,46,37,33,39,21,22,22,23,25,35,21,36,62,21,27,62,42,52,22,41,29,52,25,45,24,44,25,34,22,46,21,38,26,24,28,30,54,36,21,22,25,27,23,24,36,40,26,50,27,30,23,50,24,28,28,45,21,21,29,21,21,45,21,34,24,23,22,31,38,48,23,32,28,27,24,50,31,27,30,33,22,42,23,23,27,28,27,22,25,22,41,51,27,54,22,43,40,40,24,70,40,43,45,49,21,47,22,68,31,53,25,25,23,22,26,22,27,69,25,22,29,23,46,34,44,23,43,25,43,31,22,28,26,26,49,52,41,27,28,30,22,45,23,24,40,38,21,32,34,31,56,24,52,34,21,42,42,45,38,25,22,22,22,34,22,24,22,53,28,21,42,21,42,48,26,22,45,39,46,27,32,36,50,22,28,25,26,45,37,39,52,26,66,22,43,33,63,27,30,47,23],\"yaxis\":\"y2\",\"type\":\"histogram\"}],                        {\"template\":{\"data\":{\"bar\":[{\"error_x\":{\"color\":\"#2a3f5f\"},\"error_y\":{\"color\":\"#2a3f5f\"},\"marker\":{\"line\":{\"color\":\"#E5ECF6\",\"width\":0.5},\"pattern\":{\"fillmode\":\"overlay\",\"size\":10,\"solidity\":0.2}},\"type\":\"bar\"}],\"barpolar\":[{\"marker\":{\"line\":{\"color\":\"#E5ECF6\",\"width\":0.5},\"pattern\":{\"fillmode\":\"overlay\",\"size\":10,\"solidity\":0.2}},\"type\":\"barpolar\"}],\"carpet\":[{\"aaxis\":{\"endlinecolor\":\"#2a3f5f\",\"gridcolor\":\"white\",\"linecolor\":\"white\",\"minorgridcolor\":\"white\",\"startlinecolor\":\"#2a3f5f\"},\"baxis\":{\"endlinecolor\":\"#2a3f5f\",\"gridcolor\":\"white\",\"linecolor\":\"white\",\"minorgridcolor\":\"white\",\"startlinecolor\":\"#2a3f5f\"},\"type\":\"carpet\"}],\"choropleth\":[{\"colorbar\":{\"outlinewidth\":0,\"ticks\":\"\"},\"type\":\"choropleth\"}],\"contour\":[{\"colorbar\":{\"outlinewidth\":0,\"ticks\":\"\"},\"colorscale\":[[0.0,\"#0d0887\"],[0.1111111111111111,\"#46039f\"],[0.2222222222222222,\"#7201a8\"],[0.3333333333333333,\"#9c179e\"],[0.4444444444444444,\"#bd3786\"],[0.5555555555555556,\"#d8576b\"],[0.6666666666666666,\"#ed7953\"],[0.7777777777777778,\"#fb9f3a\"],[0.8888888888888888,\"#fdca26\"],[1.0,\"#f0f921\"]],\"type\":\"contour\"}],\"contourcarpet\":[{\"colorbar\":{\"outlinewidth\":0,\"ticks\":\"\"},\"type\":\"contourcarpet\"}],\"heatmap\":[{\"colorbar\":{\"outlinewidth\":0,\"ticks\":\"\"},\"colorscale\":[[0.0,\"#0d0887\"],[0.1111111111111111,\"#46039f\"],[0.2222222222222222,\"#7201a8\"],[0.3333333333333333,\"#9c179e\"],[0.4444444444444444,\"#bd3786\"],[0.5555555555555556,\"#d8576b\"],[0.6666666666666666,\"#ed7953\"],[0.7777777777777778,\"#fb9f3a\"],[0.8888888888888888,\"#fdca26\"],[1.0,\"#f0f921\"]],\"type\":\"heatmap\"}],\"heatmapgl\":[{\"colorbar\":{\"outlinewidth\":0,\"ticks\":\"\"},\"colorscale\":[[0.0,\"#0d0887\"],[0.1111111111111111,\"#46039f\"],[0.2222222222222222,\"#7201a8\"],[0.3333333333333333,\"#9c179e\"],[0.4444444444444444,\"#bd3786\"],[0.5555555555555556,\"#d8576b\"],[0.6666666666666666,\"#ed7953\"],[0.7777777777777778,\"#fb9f3a\"],[0.8888888888888888,\"#fdca26\"],[1.0,\"#f0f921\"]],\"type\":\"heatmapgl\"}],\"histogram\":[{\"marker\":{\"pattern\":{\"fillmode\":\"overlay\",\"size\":10,\"solidity\":0.2}},\"type\":\"histogram\"}],\"histogram2d\":[{\"colorbar\":{\"outlinewidth\":0,\"ticks\":\"\"},\"colorscale\":[[0.0,\"#0d0887\"],[0.1111111111111111,\"#46039f\"],[0.2222222222222222,\"#7201a8\"],[0.3333333333333333,\"#9c179e\"],[0.4444444444444444,\"#bd3786\"],[0.5555555555555556,\"#d8576b\"],[0.6666666666666666,\"#ed7953\"],[0.7777777777777778,\"#fb9f3a\"],[0.8888888888888888,\"#fdca26\"],[1.0,\"#f0f921\"]],\"type\":\"histogram2d\"}],\"histogram2dcontour\":[{\"colorbar\":{\"outlinewidth\":0,\"ticks\":\"\"},\"colorscale\":[[0.0,\"#0d0887\"],[0.1111111111111111,\"#46039f\"],[0.2222222222222222,\"#7201a8\"],[0.3333333333333333,\"#9c179e\"],[0.4444444444444444,\"#bd3786\"],[0.5555555555555556,\"#d8576b\"],[0.6666666666666666,\"#ed7953\"],[0.7777777777777778,\"#fb9f3a\"],[0.8888888888888888,\"#fdca26\"],[1.0,\"#f0f921\"]],\"type\":\"histogram2dcontour\"}],\"mesh3d\":[{\"colorbar\":{\"outlinewidth\":0,\"ticks\":\"\"},\"type\":\"mesh3d\"}],\"parcoords\":[{\"line\":{\"colorbar\":{\"outlinewidth\":0,\"ticks\":\"\"}},\"type\":\"parcoords\"}],\"pie\":[{\"automargin\":true,\"type\":\"pie\"}],\"scatter\":[{\"marker\":{\"colorbar\":{\"outlinewidth\":0,\"ticks\":\"\"}},\"type\":\"scatter\"}],\"scatter3d\":[{\"line\":{\"colorbar\":{\"outlinewidth\":0,\"ticks\":\"\"}},\"marker\":{\"colorbar\":{\"outlinewidth\":0,\"ticks\":\"\"}},\"type\":\"scatter3d\"}],\"scattercarpet\":[{\"marker\":{\"colorbar\":{\"outlinewidth\":0,\"ticks\":\"\"}},\"type\":\"scattercarpet\"}],\"scattergeo\":[{\"marker\":{\"colorbar\":{\"outlinewidth\":0,\"ticks\":\"\"}},\"type\":\"scattergeo\"}],\"scattergl\":[{\"marker\":{\"colorbar\":{\"outlinewidth\":0,\"ticks\":\"\"}},\"type\":\"scattergl\"}],\"scattermapbox\":[{\"marker\":{\"colorbar\":{\"outlinewidth\":0,\"ticks\":\"\"}},\"type\":\"scattermapbox\"}],\"scatterpolar\":[{\"marker\":{\"colorbar\":{\"outlinewidth\":0,\"ticks\":\"\"}},\"type\":\"scatterpolar\"}],\"scatterpolargl\":[{\"marker\":{\"colorbar\":{\"outlinewidth\":0,\"ticks\":\"\"}},\"type\":\"scatterpolargl\"}],\"scatterternary\":[{\"marker\":{\"colorbar\":{\"outlinewidth\":0,\"ticks\":\"\"}},\"type\":\"scatterternary\"}],\"surface\":[{\"colorbar\":{\"outlinewidth\":0,\"ticks\":\"\"},\"colorscale\":[[0.0,\"#0d0887\"],[0.1111111111111111,\"#46039f\"],[0.2222222222222222,\"#7201a8\"],[0.3333333333333333,\"#9c179e\"],[0.4444444444444444,\"#bd3786\"],[0.5555555555555556,\"#d8576b\"],[0.6666666666666666,\"#ed7953\"],[0.7777777777777778,\"#fb9f3a\"],[0.8888888888888888,\"#fdca26\"],[1.0,\"#f0f921\"]],\"type\":\"surface\"}],\"table\":[{\"cells\":{\"fill\":{\"color\":\"#EBF0F8\"},\"line\":{\"color\":\"white\"}},\"header\":{\"fill\":{\"color\":\"#C8D4E3\"},\"line\":{\"color\":\"white\"}},\"type\":\"table\"}]},\"layout\":{\"annotationdefaults\":{\"arrowcolor\":\"#2a3f5f\",\"arrowhead\":0,\"arrowwidth\":1},\"autotypenumbers\":\"strict\",\"coloraxis\":{\"colorbar\":{\"outlinewidth\":0,\"ticks\":\"\"}},\"colorscale\":{\"diverging\":[[0,\"#8e0152\"],[0.1,\"#c51b7d\"],[0.2,\"#de77ae\"],[0.3,\"#f1b6da\"],[0.4,\"#fde0ef\"],[0.5,\"#f7f7f7\"],[0.6,\"#e6f5d0\"],[0.7,\"#b8e186\"],[0.8,\"#7fbc41\"],[0.9,\"#4d9221\"],[1,\"#276419\"]],\"sequential\":[[0.0,\"#0d0887\"],[0.1111111111111111,\"#46039f\"],[0.2222222222222222,\"#7201a8\"],[0.3333333333333333,\"#9c179e\"],[0.4444444444444444,\"#bd3786\"],[0.5555555555555556,\"#d8576b\"],[0.6666666666666666,\"#ed7953\"],[0.7777777777777778,\"#fb9f3a\"],[0.8888888888888888,\"#fdca26\"],[1.0,\"#f0f921\"]],\"sequentialminus\":[[0.0,\"#0d0887\"],[0.1111111111111111,\"#46039f\"],[0.2222222222222222,\"#7201a8\"],[0.3333333333333333,\"#9c179e\"],[0.4444444444444444,\"#bd3786\"],[0.5555555555555556,\"#d8576b\"],[0.6666666666666666,\"#ed7953\"],[0.7777777777777778,\"#fb9f3a\"],[0.8888888888888888,\"#fdca26\"],[1.0,\"#f0f921\"]]},\"colorway\":[\"#636efa\",\"#EF553B\",\"#00cc96\",\"#ab63fa\",\"#FFA15A\",\"#19d3f3\",\"#FF6692\",\"#B6E880\",\"#FF97FF\",\"#FECB52\"],\"font\":{\"color\":\"#2a3f5f\"},\"geo\":{\"bgcolor\":\"white\",\"lakecolor\":\"white\",\"landcolor\":\"#E5ECF6\",\"showlakes\":true,\"showland\":true,\"subunitcolor\":\"white\"},\"hoverlabel\":{\"align\":\"left\"},\"hovermode\":\"closest\",\"mapbox\":{\"style\":\"light\"},\"paper_bgcolor\":\"white\",\"plot_bgcolor\":\"#E5ECF6\",\"polar\":{\"angularaxis\":{\"gridcolor\":\"white\",\"linecolor\":\"white\",\"ticks\":\"\"},\"bgcolor\":\"#E5ECF6\",\"radialaxis\":{\"gridcolor\":\"white\",\"linecolor\":\"white\",\"ticks\":\"\"}},\"scene\":{\"xaxis\":{\"backgroundcolor\":\"#E5ECF6\",\"gridcolor\":\"white\",\"gridwidth\":2,\"linecolor\":\"white\",\"showbackground\":true,\"ticks\":\"\",\"zerolinecolor\":\"white\"},\"yaxis\":{\"backgroundcolor\":\"#E5ECF6\",\"gridcolor\":\"white\",\"gridwidth\":2,\"linecolor\":\"white\",\"showbackground\":true,\"ticks\":\"\",\"zerolinecolor\":\"white\"},\"zaxis\":{\"backgroundcolor\":\"#E5ECF6\",\"gridcolor\":\"white\",\"gridwidth\":2,\"linecolor\":\"white\",\"showbackground\":true,\"ticks\":\"\",\"zerolinecolor\":\"white\"}},\"shapedefaults\":{\"line\":{\"color\":\"#2a3f5f\"}},\"ternary\":{\"aaxis\":{\"gridcolor\":\"white\",\"linecolor\":\"white\",\"ticks\":\"\"},\"baxis\":{\"gridcolor\":\"white\",\"linecolor\":\"white\",\"ticks\":\"\"},\"bgcolor\":\"#E5ECF6\",\"caxis\":{\"gridcolor\":\"white\",\"linecolor\":\"white\",\"ticks\":\"\"}},\"title\":{\"x\":0.05},\"xaxis\":{\"automargin\":true,\"gridcolor\":\"white\",\"linecolor\":\"white\",\"ticks\":\"\",\"title\":{\"standoff\":15},\"zerolinecolor\":\"white\",\"zerolinewidth\":2},\"yaxis\":{\"automargin\":true,\"gridcolor\":\"white\",\"linecolor\":\"white\",\"ticks\":\"\",\"title\":{\"standoff\":15},\"zerolinecolor\":\"white\",\"zerolinewidth\":2}}},\"xaxis\":{\"anchor\":\"y\",\"domain\":[0.0,0.7363],\"title\":{\"text\":\"Glucose\"}},\"yaxis\":{\"anchor\":\"x\",\"domain\":[0.0,0.7326],\"title\":{\"text\":\"Age\"}},\"xaxis2\":{\"anchor\":\"y2\",\"domain\":[0.7413,1.0],\"matches\":\"x2\",\"showticklabels\":false,\"showline\":false,\"ticks\":\"\",\"showgrid\":true},\"yaxis2\":{\"anchor\":\"x2\",\"domain\":[0.0,0.7326],\"matches\":\"y\",\"showticklabels\":false,\"showgrid\":true},\"xaxis3\":{\"anchor\":\"y3\",\"domain\":[0.0,0.7363],\"matches\":\"x\",\"showticklabels\":false,\"showgrid\":true},\"yaxis3\":{\"anchor\":\"x3\",\"domain\":[0.7426,1.0],\"matches\":\"y3\",\"showticklabels\":false,\"showline\":false,\"ticks\":\"\",\"showgrid\":true},\"xaxis4\":{\"anchor\":\"y4\",\"domain\":[0.7413,1.0],\"matches\":\"x2\",\"showticklabels\":false,\"showgrid\":true,\"showline\":false,\"ticks\":\"\"},\"yaxis4\":{\"anchor\":\"x4\",\"domain\":[0.7426,1.0],\"matches\":\"y3\",\"showticklabels\":false,\"showline\":false,\"ticks\":\"\",\"showgrid\":true},\"coloraxis\":{\"colorbar\":{\"title\":{\"text\":\"Outcome\"}},\"colorscale\":[[0.0,\"#0d0887\"],[0.1111111111111111,\"#46039f\"],[0.2222222222222222,\"#7201a8\"],[0.3333333333333333,\"#9c179e\"],[0.4444444444444444,\"#bd3786\"],[0.5555555555555556,\"#d8576b\"],[0.6666666666666666,\"#ed7953\"],[0.7777777777777778,\"#fb9f3a\"],[0.8888888888888888,\"#fdca26\"],[1.0,\"#f0f921\"]]},\"legend\":{\"tracegroupgap\":0,\"itemsizing\":\"constant\"},\"title\":{\"text\":\"Age and Glucose correlation\"},\"barmode\":\"overlay\"},                        {\"responsive\": true}                    ).then(function(){\n",
              "                            \n",
              "var gd = document.getElementById('d9577351-894f-46a6-88f7-5c05a6861ee9');\n",
              "var x = new MutationObserver(function (mutations, observer) {{\n",
              "        var display = window.getComputedStyle(gd).display;\n",
              "        if (!display || display === 'none') {{\n",
              "            console.log([gd, 'removed!']);\n",
              "            Plotly.purge(gd);\n",
              "            observer.disconnect();\n",
              "        }}\n",
              "}});\n",
              "\n",
              "// Listen for the removal of the full notebook cells\n",
              "var notebookContainer = gd.closest('#notebook-container');\n",
              "if (notebookContainer) {{\n",
              "    x.observe(notebookContainer, {childList: true});\n",
              "}}\n",
              "\n",
              "// Listen for the clearing of the current output cell\n",
              "var outputEl = gd.closest('.output');\n",
              "if (outputEl) {{\n",
              "    x.observe(outputEl, {childList: true});\n",
              "}}\n",
              "\n",
              "                        })                };                            </script>        </div>\n",
              "</body>\n",
              "</html>"
            ]
          },
          "metadata": {}
        }
      ]
    },
    {
      "cell_type": "markdown",
      "source": [
        "### Blood pressure + Age \n",
        "blood pressure and age correlation/ distribution across target variable"
      ],
      "metadata": {
        "id": "lHhObcpbcMOz"
      }
    },
    {
      "cell_type": "code",
      "source": [
        "ax= px.scatter(df_diabetes,x= \"BloodPressure\",y= \"Age\",marginal_x='histogram', marginal_y='histogram',size=\"Age\", size_max=8,color= \"Outcome\",title=\"Age and Glucose correlation\")\n",
        "ax.show()"
      ],
      "metadata": {
        "colab": {
          "base_uri": "https://localhost:8080/",
          "height": 542
        },
        "id": "LK3VxUh6cYt6",
        "outputId": "a3439925-ad69-4d45-b832-44239b2b3556"
      },
      "execution_count": 309,
      "outputs": [
        {
          "output_type": "display_data",
          "data": {
            "text/html": [
              "<html>\n",
              "<head><meta charset=\"utf-8\" /></head>\n",
              "<body>\n",
              "    <div>            <script src=\"https://cdnjs.cloudflare.com/ajax/libs/mathjax/2.7.5/MathJax.js?config=TeX-AMS-MML_SVG\"></script><script type=\"text/javascript\">if (window.MathJax) {MathJax.Hub.Config({SVG: {font: \"STIX-Web\"}});}</script>                <script type=\"text/javascript\">window.PlotlyConfig = {MathJaxConfig: 'local'};</script>\n",
              "        <script src=\"https://cdn.plot.ly/plotly-2.8.3.min.js\"></script>                <div id=\"4ee5f0cc-7f7b-4a00-8d7d-f2a1df9b6476\" class=\"plotly-graph-div\" style=\"height:525px; width:100%;\"></div>            <script type=\"text/javascript\">                                    window.PLOTLYENV=window.PLOTLYENV || {};                                    if (document.getElementById(\"4ee5f0cc-7f7b-4a00-8d7d-f2a1df9b6476\")) {                    Plotly.newPlot(                        \"4ee5f0cc-7f7b-4a00-8d7d-f2a1df9b6476\",                        [{\"hovertemplate\":\"BloodPressure=%{x}<br>Age=%{marker.size}<br>Outcome=%{marker.color}<extra></extra>\",\"legendgroup\":\"\",\"marker\":{\"color\":[1,0,1,0,1,0,1,0,1,1,0,1,0,1,1,1,1,1,0,1,0,0,1,1,1,1,1,0,0,0,0,1,0,0,0,0,0,1,1,1,0,0,0,1,0,1,0,0,1,0,0,0,0,1,0,0,1,0,0,0,0,1,0,0,1,0,1,0,0,0,1,0,1,0,0,0,0,0,1,0,0,0,0,0,1,0,0,0,1,0,0,0,0,1,0,0,0,0,0,1,1,0,0,0,0,0,0,0,0,1,1,1,0,0,1,1,1,0,0,0,1,0,0,0,1,1,0,0,1,1,1,1,1,0,0,0,0,0,0,0,0,0,0,1,0,0,0,0,0,0,0,0,1,0,1,1,0,0,0,1,0,0,0,0,1,1,0,0,0,0,1,1,0,0,0,1,0,1,0,1,0,0,0,0,0,1,1,1,1,1,0,0,1,1,0,1,0,1,1,1,0,0,0,0,0,0,1,1,0,1,0,0,0,1,1,1,1,0,1,1,1,1,0,0,0,0,0,1,0,0,1,1,0,0,0,1,1,1,1,0,0,0,1,1,0,1,0,0,0,0,0,0,0,0,1,1,0,0,0,1,0,1,0,0,1,0,1,0,0,1,1,0,0,0,0,0,1,0,0,0,1,0,0,1,1,0,0,1,0,0,0,1,1,1,0,0,1,0,1,0,1,1,0,1,0,0,1,0,1,1,0,0,1,0,1,0,0,1,0,1,0,1,1,1,0,0,1,0,1,0,0,0,1,0,0,0,0,1,1,1,0,0,0,0,0,0,0,0,0,1,0,0,0,0,0,1,1,1,0,1,1,0,0,1,0,0,1,0,0,1,1,0,0,0,0,1,0,0,1,0,0,0,0,0,0,0,1,1,1,0,0,1,0,0,1,0,0,1,0,1,1,0,1,0,1,0,1,0,1,1,0,0,0,0,1,1,0,1,0,1,0,0,0,0,1,1,0,1,0,1,0,0,0,0,0,1,0,0,0,0,1,0,0,1,1,1,0,0,1,0,0,1,0,0,0,1,0,0,1,0,0,0,0,0,0,0,0,0,1,0,0,0,0,0,0,0,1,0,0,0,1,0,0,0,1,1,0,0,0,0,0,0,0,1,0,0,0,0,1,0,0,0,1,0,0,0,1,0,0,0,1,0,0,0,0,1,1,0,0,0,0,0,0,1,0,0,0,0,0,0,0,0,0,0,0,1,0,0,0,1,1,1,1,0,0,1,1,0,0,0,0,0,0,0,0,0,0,0,0,0,1,1,0,0,0,0,0,0,0,1,0,0,0,0,0,0,0,1,0,1,1,0,0,0,1,0,1,0,1,0,1,0,1,0,0,1,0,0,1,0,0,0,0,1,1,0,1,0,0,0,0,1,1,0,1,0,0,0,1,1,0,0,0,0,0,0,0,0,0,0,1,0,0,0,0,1,0,0,1,0,0,0,1,0,0,0,1,1,1,0,0,0,0,0,0,1,0,0,0,1,0,1,1,1,1,0,1,1,0,0,0,0,0,0,0,1,1,0,1,0,0,1,0,1,0,0,0,0,0,1,0,1,0,1,0,1,1,0,0,0,0,1,1,0,0,0,1,0,1,1,0,0,1,0,0,1,1,0,0,1,0,0,1,0,0,0,0,0,0,0,1,1,1,0,0,0,0,0,0,1,1,0,0,1,0,0,1,0,1,1,1,0,0,1,1,1,0,1,0,1,0,1,0,0,0,0,1,0],\"coloraxis\":\"coloraxis\",\"size\":[50,31,32,21,33,30,26,29,53,54,30,34,57,59,51,32,31,31,33,32,27,50,41,29,51,41,43,22,57,38,60,28,22,28,45,33,35,46,27,56,26,37,48,54,40,25,29,22,31,24,22,26,30,58,42,21,41,31,44,22,21,39,36,24,42,32,38,54,25,27,28,26,42,23,22,22,41,27,26,24,22,22,36,22,37,27,45,26,43,24,21,34,42,60,21,40,24,22,23,31,33,22,21,24,27,21,27,37,25,24,24,46,23,25,39,61,38,25,22,21,25,24,23,69,23,26,30,23,40,62,33,33,30,39,26,31,21,22,29,28,55,38,22,42,23,21,41,34,65,22,24,37,42,23,43,36,21,23,22,47,36,45,27,21,32,41,22,34,29,29,36,29,25,23,33,36,42,26,47,37,32,23,21,27,40,41,60,33,31,25,21,40,36,40,42,29,21,23,26,29,21,28,32,27,55,27,57,52,21,41,25,24,60,24,36,38,25,32,32,41,21,66,37,61,26,22,26,24,31,24,22,46,22,29,23,26,51,23,32,27,21,22,22,33,29,49,41,23,34,23,42,27,24,25,44,21,30,25,24,51,34,27,24,63,35,43,25,24,21,28,38,21,40,21,52,25,29,23,57,22,28,39,37,47,52,51,34,29,26,33,21,25,31,24,65,28,29,24,46,58,30,25,35,28,37,29,47,21,25,30,41,22,27,25,43,26,30,29,28,59,31,25,36,43,21,24,30,37,23,37,46,25,41,44,22,26,44,44,33,41,22,36,22,33,57,49,22,23,26,37,29,30,46,24,21,49,28,44,48,29,29,63,65,67,30,30,29,21,22,45,25,21,21,25,28,58,22,22,32,35,24,22,21,25,25,24,35,45,58,28,42,27,21,37,31,25,39,22,25,25,31,55,35,38,41,26,46,25,39,28,28,25,22,21,21,22,22,37,27,28,26,21,21,21,36,31,25,38,26,43,23,38,22,29,36,29,41,28,21,31,41,22,24,33,30,25,28,26,22,26,23,23,25,72,24,38,62,24,51,81,48,26,39,37,34,21,22,25,38,27,28,22,22,50,24,59,29,31,39,63,35,29,28,23,31,24,21,58,28,67,24,42,33,45,22,66,30,25,55,39,21,28,41,41,40,38,35,21,21,64,46,21,58,22,24,28,53,51,41,60,25,26,26,45,24,21,21,24,22,31,22,24,29,31,24,23,46,67,23,32,43,27,56,25,29,37,53,28,50,37,21,25,66,23,28,37,30,58,42,35,54,28,24,32,27,22,21,46,37,33,39,21,22,22,23,25,35,21,36,62,21,27,62,42,52,22,41,29,52,25,45,24,44,25,34,22,46,21,38,26,24,28,30,54,36,21,22,25,27,23,24,36,40,26,50,27,30,23,50,24,28,28,45,21,21,29,21,21,45,21,34,24,23,22,31,38,48,23,32,28,27,24,50,31,27,30,33,22,42,23,23,27,28,27,22,25,22,41,51,27,54,22,43,40,40,24,70,40,43,45,49,21,47,22,68,31,53,25,25,23,22,26,22,27,69,25,22,29,23,46,34,44,23,43,25,43,31,22,28,26,26,49,52,41,27,28,30,22,45,23,24,40,38,21,32,34,31,56,24,52,34,21,42,42,45,38,25,22,22,22,34,22,24,22,53,28,21,42,21,42,48,26,22,45,39,46,27,32,36,50,22,28,25,26,45,37,39,52,26,66,22,43,33,63,27,30,47,23],\"sizemode\":\"area\",\"sizeref\":1.265625,\"symbol\":\"circle\"},\"mode\":\"markers\",\"name\":\"\",\"orientation\":\"v\",\"showlegend\":false,\"x\":[72.0,66.0,64.0,66.0,40.0,74.0,50.0,72.40518417462484,70.0,96.0,92.0,74.0,80.0,60.0,72.0,72.40518417462484,84.0,74.0,30.0,70.0,88.0,84.0,90.0,80.0,94.0,70.0,76.0,66.0,82.0,92.0,75.0,76.0,58.0,92.0,78.0,60.0,76.0,76.0,68.0,72.0,64.0,84.0,92.0,110.0,64.0,66.0,56.0,70.0,66.0,72.40518417462484,80.0,50.0,66.0,90.0,66.0,50.0,68.0,88.0,82.0,64.0,72.40518417462484,72.0,62.0,58.0,66.0,74.0,88.0,92.0,66.0,85.0,66.0,64.0,90.0,86.0,75.0,48.0,78.0,72.0,72.40518417462484,66.0,44.0,72.40518417462484,78.0,65.0,108.0,74.0,72.0,68.0,70.0,68.0,55.0,80.0,78.0,72.0,82.0,72.0,62.0,48.0,50.0,90.0,72.0,60.0,96.0,72.0,65.0,56.0,122.0,58.0,58.0,85.0,72.0,62.0,76.0,62.0,54.0,92.0,74.0,48.0,60.0,76.0,76.0,64.0,74.0,80.0,76.0,30.0,70.0,58.0,88.0,84.0,70.0,56.0,64.0,74.0,68.0,60.0,70.0,60.0,80.0,72.0,78.0,82.0,52.0,66.0,62.0,75.0,80.0,64.0,78.0,70.0,74.0,65.0,86.0,82.0,78.0,88.0,52.0,56.0,74.0,72.0,90.0,74.0,80.0,64.0,88.0,74.0,66.0,68.0,66.0,90.0,82.0,70.0,72.40518417462484,60.0,64.0,72.0,78.0,110.0,78.0,82.0,80.0,64.0,74.0,60.0,74.0,68.0,68.0,98.0,76.0,80.0,62.0,70.0,66.0,72.40518417462484,55.0,84.0,58.0,62.0,64.0,60.0,80.0,82.0,68.0,70.0,72.0,72.0,76.0,104.0,64.0,84.0,60.0,85.0,95.0,65.0,82.0,70.0,62.0,68.0,74.0,66.0,60.0,90.0,72.40518417462484,60.0,66.0,78.0,76.0,52.0,70.0,80.0,86.0,80.0,80.0,68.0,68.0,72.0,84.0,90.0,84.0,76.0,64.0,70.0,54.0,50.0,76.0,85.0,68.0,90.0,70.0,86.0,52.0,84.0,80.0,68.0,62.0,64.0,56.0,68.0,50.0,76.0,68.0,72.40518417462484,70.0,80.0,62.0,74.0,72.40518417462484,64.0,52.0,72.40518417462484,86.0,62.0,78.0,78.0,70.0,70.0,60.0,64.0,74.0,62.0,70.0,76.0,88.0,86.0,80.0,74.0,84.0,86.0,56.0,72.0,88.0,62.0,78.0,48.0,50.0,62.0,70.0,84.0,78.0,72.0,72.40518417462484,58.0,82.0,98.0,76.0,76.0,68.0,68.0,68.0,68.0,66.0,70.0,74.0,50.0,80.0,68.0,80.0,74.0,66.0,78.0,60.0,74.0,70.0,90.0,75.0,72.0,64.0,70.0,86.0,70.0,72.0,58.0,72.40518417462484,80.0,60.0,76.0,72.40518417462484,76.0,78.0,84.0,70.0,74.0,68.0,86.0,72.0,88.0,46.0,72.40518417462484,62.0,80.0,80.0,84.0,82.0,62.0,78.0,88.0,50.0,72.40518417462484,74.0,76.0,64.0,70.0,108.0,78.0,74.0,54.0,72.0,64.0,86.0,102.0,82.0,64.0,64.0,58.0,52.0,82.0,82.0,60.0,75.0,100.0,72.0,68.0,60.0,62.0,70.0,54.0,74.0,100.0,82.0,68.0,66.0,76.0,64.0,72.0,78.0,58.0,56.0,66.0,70.0,70.0,64.0,61.0,84.0,78.0,64.0,48.0,72.0,62.0,74.0,68.0,90.0,72.0,84.0,74.0,60.0,84.0,68.0,82.0,68.0,64.0,88.0,68.0,64.0,64.0,78.0,78.0,72.40518417462484,64.0,94.0,82.0,72.40518417462484,74.0,74.0,75.0,68.0,72.40518417462484,85.0,75.0,70.0,88.0,104.0,66.0,64.0,70.0,62.0,78.0,72.0,80.0,64.0,74.0,64.0,70.0,68.0,72.40518417462484,54.0,62.0,54.0,68.0,84.0,74.0,72.0,62.0,70.0,78.0,98.0,56.0,52.0,64.0,72.40518417462484,78.0,82.0,70.0,66.0,90.0,64.0,84.0,80.0,76.0,74.0,86.0,70.0,88.0,58.0,82.0,72.40518417462484,68.0,62.0,78.0,72.0,80.0,65.0,90.0,68.0,70.0,72.40518417462484,74.0,68.0,72.0,70.0,74.0,90.0,72.0,68.0,64.0,78.0,82.0,90.0,60.0,50.0,78.0,72.0,62.0,68.0,62.0,54.0,70.0,88.0,86.0,60.0,90.0,70.0,80.0,72.40518417462484,70.0,58.0,60.0,64.0,74.0,66.0,65.0,60.0,76.0,66.0,72.40518417462484,56.0,72.40518417462484,90.0,60.0,80.0,92.0,74.0,72.0,85.0,90.0,78.0,90.0,76.0,68.0,82.0,110.0,70.0,68.0,88.0,62.0,64.0,70.0,70.0,76.0,68.0,74.0,76.0,66.0,68.0,60.0,80.0,54.0,72.0,62.0,72.0,66.0,70.0,96.0,58.0,60.0,86.0,44.0,44.0,80.0,68.0,70.0,90.0,60.0,78.0,76.0,76.0,56.0,66.0,66.0,86.0,72.40518417462484,84.0,78.0,80.0,52.0,72.0,82.0,76.0,24.0,74.0,38.0,88.0,72.40518417462484,74.0,78.0,72.40518417462484,60.0,78.0,62.0,82.0,62.0,54.0,58.0,88.0,80.0,74.0,72.0,96.0,62.0,82.0,72.40518417462484,86.0,76.0,94.0,70.0,64.0,88.0,68.0,78.0,80.0,65.0,64.0,78.0,60.0,82.0,62.0,72.0,74.0,76.0,76.0,74.0,86.0,70.0,80.0,72.40518417462484,72.0,74.0,74.0,50.0,84.0,60.0,54.0,60.0,74.0,54.0,70.0,52.0,58.0,80.0,106.0,82.0,84.0,76.0,106.0,80.0,60.0,80.0,82.0,70.0,58.0,78.0,68.0,58.0,106.0,100.0,82.0,70.0,86.0,60.0,52.0,58.0,56.0,76.0,64.0,80.0,82.0,74.0,64.0,50.0,74.0,82.0,80.0,114.0,70.0,68.0,60.0,90.0,74.0,72.40518417462484,88.0,70.0,76.0,78.0,88.0,72.40518417462484,76.0,80.0,72.40518417462484,46.0,78.0,64.0,64.0,78.0,62.0,58.0,74.0,50.0,78.0,72.0,60.0,76.0,86.0,66.0,68.0,86.0,94.0,78.0,78.0,84.0,88.0,52.0,78.0,86.0,88.0,56.0,75.0,60.0,86.0,72.0,60.0,74.0,80.0,44.0,58.0,94.0,88.0,84.0,94.0,74.0,70.0,62.0,70.0,78.0,62.0,88.0,78.0,88.0,90.0,72.0,76.0,92.0,58.0,74.0,62.0,76.0,70.0,72.0,60.0,70.0],\"xaxis\":\"x\",\"y\":[50,31,32,21,33,30,26,29,53,54,30,34,57,59,51,32,31,31,33,32,27,50,41,29,51,41,43,22,57,38,60,28,22,28,45,33,35,46,27,56,26,37,48,54,40,25,29,22,31,24,22,26,30,58,42,21,41,31,44,22,21,39,36,24,42,32,38,54,25,27,28,26,42,23,22,22,41,27,26,24,22,22,36,22,37,27,45,26,43,24,21,34,42,60,21,40,24,22,23,31,33,22,21,24,27,21,27,37,25,24,24,46,23,25,39,61,38,25,22,21,25,24,23,69,23,26,30,23,40,62,33,33,30,39,26,31,21,22,29,28,55,38,22,42,23,21,41,34,65,22,24,37,42,23,43,36,21,23,22,47,36,45,27,21,32,41,22,34,29,29,36,29,25,23,33,36,42,26,47,37,32,23,21,27,40,41,60,33,31,25,21,40,36,40,42,29,21,23,26,29,21,28,32,27,55,27,57,52,21,41,25,24,60,24,36,38,25,32,32,41,21,66,37,61,26,22,26,24,31,24,22,46,22,29,23,26,51,23,32,27,21,22,22,33,29,49,41,23,34,23,42,27,24,25,44,21,30,25,24,51,34,27,24,63,35,43,25,24,21,28,38,21,40,21,52,25,29,23,57,22,28,39,37,47,52,51,34,29,26,33,21,25,31,24,65,28,29,24,46,58,30,25,35,28,37,29,47,21,25,30,41,22,27,25,43,26,30,29,28,59,31,25,36,43,21,24,30,37,23,37,46,25,41,44,22,26,44,44,33,41,22,36,22,33,57,49,22,23,26,37,29,30,46,24,21,49,28,44,48,29,29,63,65,67,30,30,29,21,22,45,25,21,21,25,28,58,22,22,32,35,24,22,21,25,25,24,35,45,58,28,42,27,21,37,31,25,39,22,25,25,31,55,35,38,41,26,46,25,39,28,28,25,22,21,21,22,22,37,27,28,26,21,21,21,36,31,25,38,26,43,23,38,22,29,36,29,41,28,21,31,41,22,24,33,30,25,28,26,22,26,23,23,25,72,24,38,62,24,51,81,48,26,39,37,34,21,22,25,38,27,28,22,22,50,24,59,29,31,39,63,35,29,28,23,31,24,21,58,28,67,24,42,33,45,22,66,30,25,55,39,21,28,41,41,40,38,35,21,21,64,46,21,58,22,24,28,53,51,41,60,25,26,26,45,24,21,21,24,22,31,22,24,29,31,24,23,46,67,23,32,43,27,56,25,29,37,53,28,50,37,21,25,66,23,28,37,30,58,42,35,54,28,24,32,27,22,21,46,37,33,39,21,22,22,23,25,35,21,36,62,21,27,62,42,52,22,41,29,52,25,45,24,44,25,34,22,46,21,38,26,24,28,30,54,36,21,22,25,27,23,24,36,40,26,50,27,30,23,50,24,28,28,45,21,21,29,21,21,45,21,34,24,23,22,31,38,48,23,32,28,27,24,50,31,27,30,33,22,42,23,23,27,28,27,22,25,22,41,51,27,54,22,43,40,40,24,70,40,43,45,49,21,47,22,68,31,53,25,25,23,22,26,22,27,69,25,22,29,23,46,34,44,23,43,25,43,31,22,28,26,26,49,52,41,27,28,30,22,45,23,24,40,38,21,32,34,31,56,24,52,34,21,42,42,45,38,25,22,22,22,34,22,24,22,53,28,21,42,21,42,48,26,22,45,39,46,27,32,36,50,22,28,25,26,45,37,39,52,26,66,22,43,33,63,27,30,47,23],\"yaxis\":\"y\",\"type\":\"scatter\"},{\"alignmentgroup\":\"True\",\"bingroup\":\"x\",\"hovertemplate\":\"BloodPressure=%{x}<br>count=%{y}<extra></extra>\",\"legendgroup\":\"\",\"marker\":{\"color\":\"#0d0887\"},\"name\":\"\",\"offsetgroup\":\"\",\"opacity\":0.5,\"showlegend\":false,\"x\":[72.0,66.0,64.0,66.0,40.0,74.0,50.0,72.40518417462484,70.0,96.0,92.0,74.0,80.0,60.0,72.0,72.40518417462484,84.0,74.0,30.0,70.0,88.0,84.0,90.0,80.0,94.0,70.0,76.0,66.0,82.0,92.0,75.0,76.0,58.0,92.0,78.0,60.0,76.0,76.0,68.0,72.0,64.0,84.0,92.0,110.0,64.0,66.0,56.0,70.0,66.0,72.40518417462484,80.0,50.0,66.0,90.0,66.0,50.0,68.0,88.0,82.0,64.0,72.40518417462484,72.0,62.0,58.0,66.0,74.0,88.0,92.0,66.0,85.0,66.0,64.0,90.0,86.0,75.0,48.0,78.0,72.0,72.40518417462484,66.0,44.0,72.40518417462484,78.0,65.0,108.0,74.0,72.0,68.0,70.0,68.0,55.0,80.0,78.0,72.0,82.0,72.0,62.0,48.0,50.0,90.0,72.0,60.0,96.0,72.0,65.0,56.0,122.0,58.0,58.0,85.0,72.0,62.0,76.0,62.0,54.0,92.0,74.0,48.0,60.0,76.0,76.0,64.0,74.0,80.0,76.0,30.0,70.0,58.0,88.0,84.0,70.0,56.0,64.0,74.0,68.0,60.0,70.0,60.0,80.0,72.0,78.0,82.0,52.0,66.0,62.0,75.0,80.0,64.0,78.0,70.0,74.0,65.0,86.0,82.0,78.0,88.0,52.0,56.0,74.0,72.0,90.0,74.0,80.0,64.0,88.0,74.0,66.0,68.0,66.0,90.0,82.0,70.0,72.40518417462484,60.0,64.0,72.0,78.0,110.0,78.0,82.0,80.0,64.0,74.0,60.0,74.0,68.0,68.0,98.0,76.0,80.0,62.0,70.0,66.0,72.40518417462484,55.0,84.0,58.0,62.0,64.0,60.0,80.0,82.0,68.0,70.0,72.0,72.0,76.0,104.0,64.0,84.0,60.0,85.0,95.0,65.0,82.0,70.0,62.0,68.0,74.0,66.0,60.0,90.0,72.40518417462484,60.0,66.0,78.0,76.0,52.0,70.0,80.0,86.0,80.0,80.0,68.0,68.0,72.0,84.0,90.0,84.0,76.0,64.0,70.0,54.0,50.0,76.0,85.0,68.0,90.0,70.0,86.0,52.0,84.0,80.0,68.0,62.0,64.0,56.0,68.0,50.0,76.0,68.0,72.40518417462484,70.0,80.0,62.0,74.0,72.40518417462484,64.0,52.0,72.40518417462484,86.0,62.0,78.0,78.0,70.0,70.0,60.0,64.0,74.0,62.0,70.0,76.0,88.0,86.0,80.0,74.0,84.0,86.0,56.0,72.0,88.0,62.0,78.0,48.0,50.0,62.0,70.0,84.0,78.0,72.0,72.40518417462484,58.0,82.0,98.0,76.0,76.0,68.0,68.0,68.0,68.0,66.0,70.0,74.0,50.0,80.0,68.0,80.0,74.0,66.0,78.0,60.0,74.0,70.0,90.0,75.0,72.0,64.0,70.0,86.0,70.0,72.0,58.0,72.40518417462484,80.0,60.0,76.0,72.40518417462484,76.0,78.0,84.0,70.0,74.0,68.0,86.0,72.0,88.0,46.0,72.40518417462484,62.0,80.0,80.0,84.0,82.0,62.0,78.0,88.0,50.0,72.40518417462484,74.0,76.0,64.0,70.0,108.0,78.0,74.0,54.0,72.0,64.0,86.0,102.0,82.0,64.0,64.0,58.0,52.0,82.0,82.0,60.0,75.0,100.0,72.0,68.0,60.0,62.0,70.0,54.0,74.0,100.0,82.0,68.0,66.0,76.0,64.0,72.0,78.0,58.0,56.0,66.0,70.0,70.0,64.0,61.0,84.0,78.0,64.0,48.0,72.0,62.0,74.0,68.0,90.0,72.0,84.0,74.0,60.0,84.0,68.0,82.0,68.0,64.0,88.0,68.0,64.0,64.0,78.0,78.0,72.40518417462484,64.0,94.0,82.0,72.40518417462484,74.0,74.0,75.0,68.0,72.40518417462484,85.0,75.0,70.0,88.0,104.0,66.0,64.0,70.0,62.0,78.0,72.0,80.0,64.0,74.0,64.0,70.0,68.0,72.40518417462484,54.0,62.0,54.0,68.0,84.0,74.0,72.0,62.0,70.0,78.0,98.0,56.0,52.0,64.0,72.40518417462484,78.0,82.0,70.0,66.0,90.0,64.0,84.0,80.0,76.0,74.0,86.0,70.0,88.0,58.0,82.0,72.40518417462484,68.0,62.0,78.0,72.0,80.0,65.0,90.0,68.0,70.0,72.40518417462484,74.0,68.0,72.0,70.0,74.0,90.0,72.0,68.0,64.0,78.0,82.0,90.0,60.0,50.0,78.0,72.0,62.0,68.0,62.0,54.0,70.0,88.0,86.0,60.0,90.0,70.0,80.0,72.40518417462484,70.0,58.0,60.0,64.0,74.0,66.0,65.0,60.0,76.0,66.0,72.40518417462484,56.0,72.40518417462484,90.0,60.0,80.0,92.0,74.0,72.0,85.0,90.0,78.0,90.0,76.0,68.0,82.0,110.0,70.0,68.0,88.0,62.0,64.0,70.0,70.0,76.0,68.0,74.0,76.0,66.0,68.0,60.0,80.0,54.0,72.0,62.0,72.0,66.0,70.0,96.0,58.0,60.0,86.0,44.0,44.0,80.0,68.0,70.0,90.0,60.0,78.0,76.0,76.0,56.0,66.0,66.0,86.0,72.40518417462484,84.0,78.0,80.0,52.0,72.0,82.0,76.0,24.0,74.0,38.0,88.0,72.40518417462484,74.0,78.0,72.40518417462484,60.0,78.0,62.0,82.0,62.0,54.0,58.0,88.0,80.0,74.0,72.0,96.0,62.0,82.0,72.40518417462484,86.0,76.0,94.0,70.0,64.0,88.0,68.0,78.0,80.0,65.0,64.0,78.0,60.0,82.0,62.0,72.0,74.0,76.0,76.0,74.0,86.0,70.0,80.0,72.40518417462484,72.0,74.0,74.0,50.0,84.0,60.0,54.0,60.0,74.0,54.0,70.0,52.0,58.0,80.0,106.0,82.0,84.0,76.0,106.0,80.0,60.0,80.0,82.0,70.0,58.0,78.0,68.0,58.0,106.0,100.0,82.0,70.0,86.0,60.0,52.0,58.0,56.0,76.0,64.0,80.0,82.0,74.0,64.0,50.0,74.0,82.0,80.0,114.0,70.0,68.0,60.0,90.0,74.0,72.40518417462484,88.0,70.0,76.0,78.0,88.0,72.40518417462484,76.0,80.0,72.40518417462484,46.0,78.0,64.0,64.0,78.0,62.0,58.0,74.0,50.0,78.0,72.0,60.0,76.0,86.0,66.0,68.0,86.0,94.0,78.0,78.0,84.0,88.0,52.0,78.0,86.0,88.0,56.0,75.0,60.0,86.0,72.0,60.0,74.0,80.0,44.0,58.0,94.0,88.0,84.0,94.0,74.0,70.0,62.0,70.0,78.0,62.0,88.0,78.0,88.0,90.0,72.0,76.0,92.0,58.0,74.0,62.0,76.0,70.0,72.0,60.0,70.0],\"xaxis\":\"x3\",\"yaxis\":\"y3\",\"type\":\"histogram\"},{\"alignmentgroup\":\"True\",\"bingroup\":\"y\",\"hovertemplate\":\"Age=%{y}<br>count=%{x}<extra></extra>\",\"legendgroup\":\"\",\"marker\":{\"color\":\"#0d0887\"},\"name\":\"\",\"offsetgroup\":\"\",\"opacity\":0.5,\"showlegend\":false,\"xaxis\":\"x2\",\"y\":[50,31,32,21,33,30,26,29,53,54,30,34,57,59,51,32,31,31,33,32,27,50,41,29,51,41,43,22,57,38,60,28,22,28,45,33,35,46,27,56,26,37,48,54,40,25,29,22,31,24,22,26,30,58,42,21,41,31,44,22,21,39,36,24,42,32,38,54,25,27,28,26,42,23,22,22,41,27,26,24,22,22,36,22,37,27,45,26,43,24,21,34,42,60,21,40,24,22,23,31,33,22,21,24,27,21,27,37,25,24,24,46,23,25,39,61,38,25,22,21,25,24,23,69,23,26,30,23,40,62,33,33,30,39,26,31,21,22,29,28,55,38,22,42,23,21,41,34,65,22,24,37,42,23,43,36,21,23,22,47,36,45,27,21,32,41,22,34,29,29,36,29,25,23,33,36,42,26,47,37,32,23,21,27,40,41,60,33,31,25,21,40,36,40,42,29,21,23,26,29,21,28,32,27,55,27,57,52,21,41,25,24,60,24,36,38,25,32,32,41,21,66,37,61,26,22,26,24,31,24,22,46,22,29,23,26,51,23,32,27,21,22,22,33,29,49,41,23,34,23,42,27,24,25,44,21,30,25,24,51,34,27,24,63,35,43,25,24,21,28,38,21,40,21,52,25,29,23,57,22,28,39,37,47,52,51,34,29,26,33,21,25,31,24,65,28,29,24,46,58,30,25,35,28,37,29,47,21,25,30,41,22,27,25,43,26,30,29,28,59,31,25,36,43,21,24,30,37,23,37,46,25,41,44,22,26,44,44,33,41,22,36,22,33,57,49,22,23,26,37,29,30,46,24,21,49,28,44,48,29,29,63,65,67,30,30,29,21,22,45,25,21,21,25,28,58,22,22,32,35,24,22,21,25,25,24,35,45,58,28,42,27,21,37,31,25,39,22,25,25,31,55,35,38,41,26,46,25,39,28,28,25,22,21,21,22,22,37,27,28,26,21,21,21,36,31,25,38,26,43,23,38,22,29,36,29,41,28,21,31,41,22,24,33,30,25,28,26,22,26,23,23,25,72,24,38,62,24,51,81,48,26,39,37,34,21,22,25,38,27,28,22,22,50,24,59,29,31,39,63,35,29,28,23,31,24,21,58,28,67,24,42,33,45,22,66,30,25,55,39,21,28,41,41,40,38,35,21,21,64,46,21,58,22,24,28,53,51,41,60,25,26,26,45,24,21,21,24,22,31,22,24,29,31,24,23,46,67,23,32,43,27,56,25,29,37,53,28,50,37,21,25,66,23,28,37,30,58,42,35,54,28,24,32,27,22,21,46,37,33,39,21,22,22,23,25,35,21,36,62,21,27,62,42,52,22,41,29,52,25,45,24,44,25,34,22,46,21,38,26,24,28,30,54,36,21,22,25,27,23,24,36,40,26,50,27,30,23,50,24,28,28,45,21,21,29,21,21,45,21,34,24,23,22,31,38,48,23,32,28,27,24,50,31,27,30,33,22,42,23,23,27,28,27,22,25,22,41,51,27,54,22,43,40,40,24,70,40,43,45,49,21,47,22,68,31,53,25,25,23,22,26,22,27,69,25,22,29,23,46,34,44,23,43,25,43,31,22,28,26,26,49,52,41,27,28,30,22,45,23,24,40,38,21,32,34,31,56,24,52,34,21,42,42,45,38,25,22,22,22,34,22,24,22,53,28,21,42,21,42,48,26,22,45,39,46,27,32,36,50,22,28,25,26,45,37,39,52,26,66,22,43,33,63,27,30,47,23],\"yaxis\":\"y2\",\"type\":\"histogram\"}],                        {\"template\":{\"data\":{\"bar\":[{\"error_x\":{\"color\":\"#2a3f5f\"},\"error_y\":{\"color\":\"#2a3f5f\"},\"marker\":{\"line\":{\"color\":\"#E5ECF6\",\"width\":0.5},\"pattern\":{\"fillmode\":\"overlay\",\"size\":10,\"solidity\":0.2}},\"type\":\"bar\"}],\"barpolar\":[{\"marker\":{\"line\":{\"color\":\"#E5ECF6\",\"width\":0.5},\"pattern\":{\"fillmode\":\"overlay\",\"size\":10,\"solidity\":0.2}},\"type\":\"barpolar\"}],\"carpet\":[{\"aaxis\":{\"endlinecolor\":\"#2a3f5f\",\"gridcolor\":\"white\",\"linecolor\":\"white\",\"minorgridcolor\":\"white\",\"startlinecolor\":\"#2a3f5f\"},\"baxis\":{\"endlinecolor\":\"#2a3f5f\",\"gridcolor\":\"white\",\"linecolor\":\"white\",\"minorgridcolor\":\"white\",\"startlinecolor\":\"#2a3f5f\"},\"type\":\"carpet\"}],\"choropleth\":[{\"colorbar\":{\"outlinewidth\":0,\"ticks\":\"\"},\"type\":\"choropleth\"}],\"contour\":[{\"colorbar\":{\"outlinewidth\":0,\"ticks\":\"\"},\"colorscale\":[[0.0,\"#0d0887\"],[0.1111111111111111,\"#46039f\"],[0.2222222222222222,\"#7201a8\"],[0.3333333333333333,\"#9c179e\"],[0.4444444444444444,\"#bd3786\"],[0.5555555555555556,\"#d8576b\"],[0.6666666666666666,\"#ed7953\"],[0.7777777777777778,\"#fb9f3a\"],[0.8888888888888888,\"#fdca26\"],[1.0,\"#f0f921\"]],\"type\":\"contour\"}],\"contourcarpet\":[{\"colorbar\":{\"outlinewidth\":0,\"ticks\":\"\"},\"type\":\"contourcarpet\"}],\"heatmap\":[{\"colorbar\":{\"outlinewidth\":0,\"ticks\":\"\"},\"colorscale\":[[0.0,\"#0d0887\"],[0.1111111111111111,\"#46039f\"],[0.2222222222222222,\"#7201a8\"],[0.3333333333333333,\"#9c179e\"],[0.4444444444444444,\"#bd3786\"],[0.5555555555555556,\"#d8576b\"],[0.6666666666666666,\"#ed7953\"],[0.7777777777777778,\"#fb9f3a\"],[0.8888888888888888,\"#fdca26\"],[1.0,\"#f0f921\"]],\"type\":\"heatmap\"}],\"heatmapgl\":[{\"colorbar\":{\"outlinewidth\":0,\"ticks\":\"\"},\"colorscale\":[[0.0,\"#0d0887\"],[0.1111111111111111,\"#46039f\"],[0.2222222222222222,\"#7201a8\"],[0.3333333333333333,\"#9c179e\"],[0.4444444444444444,\"#bd3786\"],[0.5555555555555556,\"#d8576b\"],[0.6666666666666666,\"#ed7953\"],[0.7777777777777778,\"#fb9f3a\"],[0.8888888888888888,\"#fdca26\"],[1.0,\"#f0f921\"]],\"type\":\"heatmapgl\"}],\"histogram\":[{\"marker\":{\"pattern\":{\"fillmode\":\"overlay\",\"size\":10,\"solidity\":0.2}},\"type\":\"histogram\"}],\"histogram2d\":[{\"colorbar\":{\"outlinewidth\":0,\"ticks\":\"\"},\"colorscale\":[[0.0,\"#0d0887\"],[0.1111111111111111,\"#46039f\"],[0.2222222222222222,\"#7201a8\"],[0.3333333333333333,\"#9c179e\"],[0.4444444444444444,\"#bd3786\"],[0.5555555555555556,\"#d8576b\"],[0.6666666666666666,\"#ed7953\"],[0.7777777777777778,\"#fb9f3a\"],[0.8888888888888888,\"#fdca26\"],[1.0,\"#f0f921\"]],\"type\":\"histogram2d\"}],\"histogram2dcontour\":[{\"colorbar\":{\"outlinewidth\":0,\"ticks\":\"\"},\"colorscale\":[[0.0,\"#0d0887\"],[0.1111111111111111,\"#46039f\"],[0.2222222222222222,\"#7201a8\"],[0.3333333333333333,\"#9c179e\"],[0.4444444444444444,\"#bd3786\"],[0.5555555555555556,\"#d8576b\"],[0.6666666666666666,\"#ed7953\"],[0.7777777777777778,\"#fb9f3a\"],[0.8888888888888888,\"#fdca26\"],[1.0,\"#f0f921\"]],\"type\":\"histogram2dcontour\"}],\"mesh3d\":[{\"colorbar\":{\"outlinewidth\":0,\"ticks\":\"\"},\"type\":\"mesh3d\"}],\"parcoords\":[{\"line\":{\"colorbar\":{\"outlinewidth\":0,\"ticks\":\"\"}},\"type\":\"parcoords\"}],\"pie\":[{\"automargin\":true,\"type\":\"pie\"}],\"scatter\":[{\"marker\":{\"colorbar\":{\"outlinewidth\":0,\"ticks\":\"\"}},\"type\":\"scatter\"}],\"scatter3d\":[{\"line\":{\"colorbar\":{\"outlinewidth\":0,\"ticks\":\"\"}},\"marker\":{\"colorbar\":{\"outlinewidth\":0,\"ticks\":\"\"}},\"type\":\"scatter3d\"}],\"scattercarpet\":[{\"marker\":{\"colorbar\":{\"outlinewidth\":0,\"ticks\":\"\"}},\"type\":\"scattercarpet\"}],\"scattergeo\":[{\"marker\":{\"colorbar\":{\"outlinewidth\":0,\"ticks\":\"\"}},\"type\":\"scattergeo\"}],\"scattergl\":[{\"marker\":{\"colorbar\":{\"outlinewidth\":0,\"ticks\":\"\"}},\"type\":\"scattergl\"}],\"scattermapbox\":[{\"marker\":{\"colorbar\":{\"outlinewidth\":0,\"ticks\":\"\"}},\"type\":\"scattermapbox\"}],\"scatterpolar\":[{\"marker\":{\"colorbar\":{\"outlinewidth\":0,\"ticks\":\"\"}},\"type\":\"scatterpolar\"}],\"scatterpolargl\":[{\"marker\":{\"colorbar\":{\"outlinewidth\":0,\"ticks\":\"\"}},\"type\":\"scatterpolargl\"}],\"scatterternary\":[{\"marker\":{\"colorbar\":{\"outlinewidth\":0,\"ticks\":\"\"}},\"type\":\"scatterternary\"}],\"surface\":[{\"colorbar\":{\"outlinewidth\":0,\"ticks\":\"\"},\"colorscale\":[[0.0,\"#0d0887\"],[0.1111111111111111,\"#46039f\"],[0.2222222222222222,\"#7201a8\"],[0.3333333333333333,\"#9c179e\"],[0.4444444444444444,\"#bd3786\"],[0.5555555555555556,\"#d8576b\"],[0.6666666666666666,\"#ed7953\"],[0.7777777777777778,\"#fb9f3a\"],[0.8888888888888888,\"#fdca26\"],[1.0,\"#f0f921\"]],\"type\":\"surface\"}],\"table\":[{\"cells\":{\"fill\":{\"color\":\"#EBF0F8\"},\"line\":{\"color\":\"white\"}},\"header\":{\"fill\":{\"color\":\"#C8D4E3\"},\"line\":{\"color\":\"white\"}},\"type\":\"table\"}]},\"layout\":{\"annotationdefaults\":{\"arrowcolor\":\"#2a3f5f\",\"arrowhead\":0,\"arrowwidth\":1},\"autotypenumbers\":\"strict\",\"coloraxis\":{\"colorbar\":{\"outlinewidth\":0,\"ticks\":\"\"}},\"colorscale\":{\"diverging\":[[0,\"#8e0152\"],[0.1,\"#c51b7d\"],[0.2,\"#de77ae\"],[0.3,\"#f1b6da\"],[0.4,\"#fde0ef\"],[0.5,\"#f7f7f7\"],[0.6,\"#e6f5d0\"],[0.7,\"#b8e186\"],[0.8,\"#7fbc41\"],[0.9,\"#4d9221\"],[1,\"#276419\"]],\"sequential\":[[0.0,\"#0d0887\"],[0.1111111111111111,\"#46039f\"],[0.2222222222222222,\"#7201a8\"],[0.3333333333333333,\"#9c179e\"],[0.4444444444444444,\"#bd3786\"],[0.5555555555555556,\"#d8576b\"],[0.6666666666666666,\"#ed7953\"],[0.7777777777777778,\"#fb9f3a\"],[0.8888888888888888,\"#fdca26\"],[1.0,\"#f0f921\"]],\"sequentialminus\":[[0.0,\"#0d0887\"],[0.1111111111111111,\"#46039f\"],[0.2222222222222222,\"#7201a8\"],[0.3333333333333333,\"#9c179e\"],[0.4444444444444444,\"#bd3786\"],[0.5555555555555556,\"#d8576b\"],[0.6666666666666666,\"#ed7953\"],[0.7777777777777778,\"#fb9f3a\"],[0.8888888888888888,\"#fdca26\"],[1.0,\"#f0f921\"]]},\"colorway\":[\"#636efa\",\"#EF553B\",\"#00cc96\",\"#ab63fa\",\"#FFA15A\",\"#19d3f3\",\"#FF6692\",\"#B6E880\",\"#FF97FF\",\"#FECB52\"],\"font\":{\"color\":\"#2a3f5f\"},\"geo\":{\"bgcolor\":\"white\",\"lakecolor\":\"white\",\"landcolor\":\"#E5ECF6\",\"showlakes\":true,\"showland\":true,\"subunitcolor\":\"white\"},\"hoverlabel\":{\"align\":\"left\"},\"hovermode\":\"closest\",\"mapbox\":{\"style\":\"light\"},\"paper_bgcolor\":\"white\",\"plot_bgcolor\":\"#E5ECF6\",\"polar\":{\"angularaxis\":{\"gridcolor\":\"white\",\"linecolor\":\"white\",\"ticks\":\"\"},\"bgcolor\":\"#E5ECF6\",\"radialaxis\":{\"gridcolor\":\"white\",\"linecolor\":\"white\",\"ticks\":\"\"}},\"scene\":{\"xaxis\":{\"backgroundcolor\":\"#E5ECF6\",\"gridcolor\":\"white\",\"gridwidth\":2,\"linecolor\":\"white\",\"showbackground\":true,\"ticks\":\"\",\"zerolinecolor\":\"white\"},\"yaxis\":{\"backgroundcolor\":\"#E5ECF6\",\"gridcolor\":\"white\",\"gridwidth\":2,\"linecolor\":\"white\",\"showbackground\":true,\"ticks\":\"\",\"zerolinecolor\":\"white\"},\"zaxis\":{\"backgroundcolor\":\"#E5ECF6\",\"gridcolor\":\"white\",\"gridwidth\":2,\"linecolor\":\"white\",\"showbackground\":true,\"ticks\":\"\",\"zerolinecolor\":\"white\"}},\"shapedefaults\":{\"line\":{\"color\":\"#2a3f5f\"}},\"ternary\":{\"aaxis\":{\"gridcolor\":\"white\",\"linecolor\":\"white\",\"ticks\":\"\"},\"baxis\":{\"gridcolor\":\"white\",\"linecolor\":\"white\",\"ticks\":\"\"},\"bgcolor\":\"#E5ECF6\",\"caxis\":{\"gridcolor\":\"white\",\"linecolor\":\"white\",\"ticks\":\"\"}},\"title\":{\"x\":0.05},\"xaxis\":{\"automargin\":true,\"gridcolor\":\"white\",\"linecolor\":\"white\",\"ticks\":\"\",\"title\":{\"standoff\":15},\"zerolinecolor\":\"white\",\"zerolinewidth\":2},\"yaxis\":{\"automargin\":true,\"gridcolor\":\"white\",\"linecolor\":\"white\",\"ticks\":\"\",\"title\":{\"standoff\":15},\"zerolinecolor\":\"white\",\"zerolinewidth\":2}}},\"xaxis\":{\"anchor\":\"y\",\"domain\":[0.0,0.7363],\"title\":{\"text\":\"BloodPressure\"}},\"yaxis\":{\"anchor\":\"x\",\"domain\":[0.0,0.7326],\"title\":{\"text\":\"Age\"}},\"xaxis2\":{\"anchor\":\"y2\",\"domain\":[0.7413,1.0],\"matches\":\"x2\",\"showticklabels\":false,\"showline\":false,\"ticks\":\"\",\"showgrid\":true},\"yaxis2\":{\"anchor\":\"x2\",\"domain\":[0.0,0.7326],\"matches\":\"y\",\"showticklabels\":false,\"showgrid\":true},\"xaxis3\":{\"anchor\":\"y3\",\"domain\":[0.0,0.7363],\"matches\":\"x\",\"showticklabels\":false,\"showgrid\":true},\"yaxis3\":{\"anchor\":\"x3\",\"domain\":[0.7426,1.0],\"matches\":\"y3\",\"showticklabels\":false,\"showline\":false,\"ticks\":\"\",\"showgrid\":true},\"xaxis4\":{\"anchor\":\"y4\",\"domain\":[0.7413,1.0],\"matches\":\"x2\",\"showticklabels\":false,\"showgrid\":true,\"showline\":false,\"ticks\":\"\"},\"yaxis4\":{\"anchor\":\"x4\",\"domain\":[0.7426,1.0],\"matches\":\"y3\",\"showticklabels\":false,\"showline\":false,\"ticks\":\"\",\"showgrid\":true},\"coloraxis\":{\"colorbar\":{\"title\":{\"text\":\"Outcome\"}},\"colorscale\":[[0.0,\"#0d0887\"],[0.1111111111111111,\"#46039f\"],[0.2222222222222222,\"#7201a8\"],[0.3333333333333333,\"#9c179e\"],[0.4444444444444444,\"#bd3786\"],[0.5555555555555556,\"#d8576b\"],[0.6666666666666666,\"#ed7953\"],[0.7777777777777778,\"#fb9f3a\"],[0.8888888888888888,\"#fdca26\"],[1.0,\"#f0f921\"]]},\"legend\":{\"tracegroupgap\":0,\"itemsizing\":\"constant\"},\"title\":{\"text\":\"Age and Glucose correlation\"},\"barmode\":\"overlay\"},                        {\"responsive\": true}                    ).then(function(){\n",
              "                            \n",
              "var gd = document.getElementById('4ee5f0cc-7f7b-4a00-8d7d-f2a1df9b6476');\n",
              "var x = new MutationObserver(function (mutations, observer) {{\n",
              "        var display = window.getComputedStyle(gd).display;\n",
              "        if (!display || display === 'none') {{\n",
              "            console.log([gd, 'removed!']);\n",
              "            Plotly.purge(gd);\n",
              "            observer.disconnect();\n",
              "        }}\n",
              "}});\n",
              "\n",
              "// Listen for the removal of the full notebook cells\n",
              "var notebookContainer = gd.closest('#notebook-container');\n",
              "if (notebookContainer) {{\n",
              "    x.observe(notebookContainer, {childList: true});\n",
              "}}\n",
              "\n",
              "// Listen for the clearing of the current output cell\n",
              "var outputEl = gd.closest('.output');\n",
              "if (outputEl) {{\n",
              "    x.observe(outputEl, {childList: true});\n",
              "}}\n",
              "\n",
              "                        })                };                            </script>        </div>\n",
              "</body>\n",
              "</html>"
            ]
          },
          "metadata": {}
        }
      ]
    },
    {
      "cell_type": "markdown",
      "source": [
        "### Insuline + Age\n",
        "\n",
        "Insulin and age correlation/ distribution across target variable"
      ],
      "metadata": {
        "id": "w2ExJqObct3X"
      }
    },
    {
      "cell_type": "code",
      "source": [
        "ax= px.scatter(df_diabetes,x= \"Insulin\",y= \"Age\",marginal_x='histogram', marginal_y='histogram',size=\"Age\", size_max=8,color= \"Outcome\",title=\"Age and Glucose correlation\")\n",
        "ax.show()"
      ],
      "metadata": {
        "colab": {
          "base_uri": "https://localhost:8080/",
          "height": 542
        },
        "id": "0vKx9DL0c0Jt",
        "outputId": "98aebb11-6725-4bc4-fad2-04abfe728154"
      },
      "execution_count": 310,
      "outputs": [
        {
          "output_type": "display_data",
          "data": {
            "text/html": [
              "<html>\n",
              "<head><meta charset=\"utf-8\" /></head>\n",
              "<body>\n",
              "    <div>            <script src=\"https://cdnjs.cloudflare.com/ajax/libs/mathjax/2.7.5/MathJax.js?config=TeX-AMS-MML_SVG\"></script><script type=\"text/javascript\">if (window.MathJax) {MathJax.Hub.Config({SVG: {font: \"STIX-Web\"}});}</script>                <script type=\"text/javascript\">window.PlotlyConfig = {MathJaxConfig: 'local'};</script>\n",
              "        <script src=\"https://cdn.plot.ly/plotly-2.8.3.min.js\"></script>                <div id=\"46e8f522-4dc4-4d91-b4b3-e5d90ceafff4\" class=\"plotly-graph-div\" style=\"height:525px; width:100%;\"></div>            <script type=\"text/javascript\">                                    window.PLOTLYENV=window.PLOTLYENV || {};                                    if (document.getElementById(\"46e8f522-4dc4-4d91-b4b3-e5d90ceafff4\")) {                    Plotly.newPlot(                        \"46e8f522-4dc4-4d91-b4b3-e5d90ceafff4\",                        [{\"hovertemplate\":\"Insulin=%{x}<br>Age=%{marker.size}<br>Outcome=%{marker.color}<extra></extra>\",\"legendgroup\":\"\",\"marker\":{\"color\":[1,0,1,0,1,0,1,0,1,1,0,1,0,1,1,1,1,1,0,1,0,0,1,1,1,1,1,0,0,0,0,1,0,0,0,0,0,1,1,1,0,0,0,1,0,1,0,0,1,0,0,0,0,1,0,0,1,0,0,0,0,1,0,0,1,0,1,0,0,0,1,0,1,0,0,0,0,0,1,0,0,0,0,0,1,0,0,0,1,0,0,0,0,1,0,0,0,0,0,1,1,0,0,0,0,0,0,0,0,1,1,1,0,0,1,1,1,0,0,0,1,0,0,0,1,1,0,0,1,1,1,1,1,0,0,0,0,0,0,0,0,0,0,1,0,0,0,0,0,0,0,0,1,0,1,1,0,0,0,1,0,0,0,0,1,1,0,0,0,0,1,1,0,0,0,1,0,1,0,1,0,0,0,0,0,1,1,1,1,1,0,0,1,1,0,1,0,1,1,1,0,0,0,0,0,0,1,1,0,1,0,0,0,1,1,1,1,0,1,1,1,1,0,0,0,0,0,1,0,0,1,1,0,0,0,1,1,1,1,0,0,0,1,1,0,1,0,0,0,0,0,0,0,0,1,1,0,0,0,1,0,1,0,0,1,0,1,0,0,1,1,0,0,0,0,0,1,0,0,0,1,0,0,1,1,0,0,1,0,0,0,1,1,1,0,0,1,0,1,0,1,1,0,1,0,0,1,0,1,1,0,0,1,0,1,0,0,1,0,1,0,1,1,1,0,0,1,0,1,0,0,0,1,0,0,0,0,1,1,1,0,0,0,0,0,0,0,0,0,1,0,0,0,0,0,1,1,1,0,1,1,0,0,1,0,0,1,0,0,1,1,0,0,0,0,1,0,0,1,0,0,0,0,0,0,0,1,1,1,0,0,1,0,0,1,0,0,1,0,1,1,0,1,0,1,0,1,0,1,1,0,0,0,0,1,1,0,1,0,1,0,0,0,0,1,1,0,1,0,1,0,0,0,0,0,1,0,0,0,0,1,0,0,1,1,1,0,0,1,0,0,1,0,0,0,1,0,0,1,0,0,0,0,0,0,0,0,0,1,0,0,0,0,0,0,0,1,0,0,0,1,0,0,0,1,1,0,0,0,0,0,0,0,1,0,0,0,0,1,0,0,0,1,0,0,0,1,0,0,0,1,0,0,0,0,1,1,0,0,0,0,0,0,1,0,0,0,0,0,0,0,0,0,0,0,1,0,0,0,1,1,1,1,0,0,1,1,0,0,0,0,0,0,0,0,0,0,0,0,0,1,1,0,0,0,0,0,0,0,1,0,0,0,0,0,0,0,1,0,1,1,0,0,0,1,0,1,0,1,0,1,0,1,0,0,1,0,0,1,0,0,0,0,1,1,0,1,0,0,0,0,1,1,0,1,0,0,0,1,1,0,0,0,0,0,0,0,0,0,0,1,0,0,0,0,1,0,0,1,0,0,0,1,0,0,0,1,1,1,0,0,0,0,0,0,1,0,0,0,1,0,1,1,1,1,0,1,1,0,0,0,0,0,0,0,1,1,0,1,0,0,1,0,1,0,0,0,0,0,1,0,1,0,1,0,1,1,0,0,0,0,1,1,0,0,0,1,0,1,1,0,0,1,0,0,1,1,0,0,1,0,0,1,0,0,0,0,0,0,0,1,1,1,0,0,0,0,0,0,1,1,0,0,1,0,0,1,0,1,1,1,0,0,1,1,1,0,1,0,1,0,1,0,0,0,0,1,0],\"coloraxis\":\"coloraxis\",\"size\":[50,31,32,21,33,30,26,29,53,54,30,34,57,59,51,32,31,31,33,32,27,50,41,29,51,41,43,22,57,38,60,28,22,28,45,33,35,46,27,56,26,37,48,54,40,25,29,22,31,24,22,26,30,58,42,21,41,31,44,22,21,39,36,24,42,32,38,54,25,27,28,26,42,23,22,22,41,27,26,24,22,22,36,22,37,27,45,26,43,24,21,34,42,60,21,40,24,22,23,31,33,22,21,24,27,21,27,37,25,24,24,46,23,25,39,61,38,25,22,21,25,24,23,69,23,26,30,23,40,62,33,33,30,39,26,31,21,22,29,28,55,38,22,42,23,21,41,34,65,22,24,37,42,23,43,36,21,23,22,47,36,45,27,21,32,41,22,34,29,29,36,29,25,23,33,36,42,26,47,37,32,23,21,27,40,41,60,33,31,25,21,40,36,40,42,29,21,23,26,29,21,28,32,27,55,27,57,52,21,41,25,24,60,24,36,38,25,32,32,41,21,66,37,61,26,22,26,24,31,24,22,46,22,29,23,26,51,23,32,27,21,22,22,33,29,49,41,23,34,23,42,27,24,25,44,21,30,25,24,51,34,27,24,63,35,43,25,24,21,28,38,21,40,21,52,25,29,23,57,22,28,39,37,47,52,51,34,29,26,33,21,25,31,24,65,28,29,24,46,58,30,25,35,28,37,29,47,21,25,30,41,22,27,25,43,26,30,29,28,59,31,25,36,43,21,24,30,37,23,37,46,25,41,44,22,26,44,44,33,41,22,36,22,33,57,49,22,23,26,37,29,30,46,24,21,49,28,44,48,29,29,63,65,67,30,30,29,21,22,45,25,21,21,25,28,58,22,22,32,35,24,22,21,25,25,24,35,45,58,28,42,27,21,37,31,25,39,22,25,25,31,55,35,38,41,26,46,25,39,28,28,25,22,21,21,22,22,37,27,28,26,21,21,21,36,31,25,38,26,43,23,38,22,29,36,29,41,28,21,31,41,22,24,33,30,25,28,26,22,26,23,23,25,72,24,38,62,24,51,81,48,26,39,37,34,21,22,25,38,27,28,22,22,50,24,59,29,31,39,63,35,29,28,23,31,24,21,58,28,67,24,42,33,45,22,66,30,25,55,39,21,28,41,41,40,38,35,21,21,64,46,21,58,22,24,28,53,51,41,60,25,26,26,45,24,21,21,24,22,31,22,24,29,31,24,23,46,67,23,32,43,27,56,25,29,37,53,28,50,37,21,25,66,23,28,37,30,58,42,35,54,28,24,32,27,22,21,46,37,33,39,21,22,22,23,25,35,21,36,62,21,27,62,42,52,22,41,29,52,25,45,24,44,25,34,22,46,21,38,26,24,28,30,54,36,21,22,25,27,23,24,36,40,26,50,27,30,23,50,24,28,28,45,21,21,29,21,21,45,21,34,24,23,22,31,38,48,23,32,28,27,24,50,31,27,30,33,22,42,23,23,27,28,27,22,25,22,41,51,27,54,22,43,40,40,24,70,40,43,45,49,21,47,22,68,31,53,25,25,23,22,26,22,27,69,25,22,29,23,46,34,44,23,43,25,43,31,22,28,26,26,49,52,41,27,28,30,22,45,23,24,40,38,21,32,34,31,56,24,52,34,21,42,42,45,38,25,22,22,22,34,22,24,22,53,28,21,42,21,42,48,26,22,45,39,46,27,32,36,50,22,28,25,26,45,37,39,52,26,66,22,43,33,63,27,30,47,23],\"sizemode\":\"area\",\"sizeref\":1.265625,\"symbol\":\"circle\"},\"mode\":\"markers\",\"name\":\"\",\"orientation\":\"v\",\"showlegend\":false,\"x\":[155.5482233502538,155.5482233502538,155.5482233502538,94.0,168.0,155.5482233502538,88.0,155.5482233502538,543.0,155.5482233502538,155.5482233502538,155.5482233502538,155.5482233502538,846.0,175.0,155.5482233502538,230.0,155.5482233502538,83.0,96.0,235.0,155.5482233502538,155.5482233502538,155.5482233502538,146.0,115.0,155.5482233502538,140.0,110.0,155.5482233502538,155.5482233502538,245.0,54.0,155.5482233502538,155.5482233502538,192.0,155.5482233502538,155.5482233502538,155.5482233502538,207.0,70.0,155.5482233502538,155.5482233502538,240.0,155.5482233502538,155.5482233502538,155.5482233502538,155.5482233502538,155.5482233502538,155.5482233502538,82.0,36.0,23.0,300.0,342.0,155.5482233502538,304.0,110.0,155.5482233502538,142.0,155.5482233502538,155.5482233502538,155.5482233502538,128.0,155.5482233502538,155.5482233502538,155.5482233502538,155.5482233502538,38.0,100.0,90.0,140.0,155.5482233502538,270.0,155.5482233502538,155.5482233502538,155.5482233502538,155.5482233502538,155.5482233502538,155.5482233502538,155.5482233502538,155.5482233502538,71.0,155.5482233502538,155.5482233502538,125.0,155.5482233502538,71.0,110.0,155.5482233502538,155.5482233502538,176.0,48.0,155.5482233502538,64.0,228.0,155.5482233502538,76.0,64.0,220.0,155.5482233502538,155.5482233502538,155.5482233502538,40.0,155.5482233502538,152.0,155.5482233502538,140.0,18.0,36.0,135.0,495.0,37.0,155.5482233502538,175.0,155.5482233502538,155.5482233502538,155.5482233502538,155.5482233502538,51.0,100.0,155.5482233502538,100.0,155.5482233502538,155.5482233502538,99.0,135.0,94.0,145.0,155.5482233502538,168.0,155.5482233502538,225.0,155.5482233502538,49.0,140.0,50.0,92.0,155.5482233502538,325.0,155.5482233502538,155.5482233502538,63.0,155.5482233502538,284.0,155.5482233502538,155.5482233502538,119.0,155.5482233502538,155.5482233502538,204.0,155.5482233502538,155.0,485.0,155.5482233502538,155.5482233502538,94.0,135.0,53.0,114.0,155.5482233502538,105.0,285.0,155.5482233502538,155.5482233502538,156.0,155.5482233502538,155.5482233502538,155.5482233502538,78.0,155.5482233502538,130.0,155.5482233502538,48.0,55.0,130.0,155.5482233502538,130.0,155.5482233502538,155.5482233502538,155.5482233502538,92.0,23.0,155.5482233502538,155.5482233502538,155.5482233502538,495.0,58.0,114.0,160.0,155.5482233502538,94.0,155.5482233502538,155.5482233502538,155.5482233502538,210.0,155.5482233502538,48.0,99.0,318.0,155.5482233502538,155.5482233502538,155.5482233502538,44.0,190.0,155.5482233502538,280.0,155.5482233502538,87.0,155.5482233502538,155.5482233502538,155.5482233502538,155.5482233502538,130.0,175.0,271.0,129.0,120.0,155.5482233502538,155.5482233502538,478.0,155.5482233502538,155.5482233502538,190.0,56.0,32.0,155.5482233502538,155.5482233502538,744.0,53.0,155.5482233502538,370.0,37.0,155.5482233502538,45.0,155.5482233502538,192.0,155.5482233502538,155.5482233502538,155.5482233502538,155.5482233502538,88.0,155.5482233502538,176.0,194.0,155.5482233502538,155.5482233502538,680.0,402.0,155.5482233502538,155.5482233502538,155.5482233502538,55.0,155.5482233502538,258.0,155.5482233502538,155.5482233502538,155.5482233502538,375.0,150.0,130.0,155.5482233502538,155.5482233502538,155.5482233502538,155.5482233502538,67.0,155.5482233502538,155.5482233502538,155.5482233502538,155.5482233502538,155.5482233502538,56.0,155.5482233502538,45.0,155.5482233502538,57.0,155.5482233502538,116.0,155.5482233502538,278.0,155.5482233502538,122.0,155.0,155.5482233502538,155.5482233502538,135.0,545.0,220.0,49.0,75.0,40.0,74.0,182.0,194.0,155.5482233502538,120.0,360.0,215.0,184.0,155.5482233502538,155.5482233502538,135.0,42.0,155.5482233502538,155.5482233502538,105.0,132.0,148.0,180.0,205.0,155.5482233502538,148.0,96.0,85.0,155.5482233502538,94.0,64.0,155.5482233502538,140.0,155.5482233502538,231.0,155.5482233502538,155.5482233502538,29.0,155.5482233502538,168.0,156.0,155.5482233502538,120.0,68.0,155.5482233502538,52.0,155.5482233502538,155.5482233502538,58.0,255.0,155.5482233502538,155.5482233502538,171.0,155.5482233502538,105.0,73.0,155.5482233502538,155.5482233502538,155.5482233502538,108.0,83.0,155.5482233502538,74.0,155.5482233502538,155.5482233502538,155.5482233502538,155.5482233502538,43.0,155.5482233502538,155.5482233502538,167.0,155.5482233502538,54.0,249.0,325.0,155.5482233502538,155.5482233502538,155.5482233502538,293.0,83.0,155.5482233502538,155.5482233502538,66.0,140.0,465.0,89.0,66.0,94.0,158.0,325.0,84.0,75.0,155.5482233502538,72.0,82.0,155.5482233502538,182.0,59.0,110.0,50.0,155.5482233502538,155.5482233502538,285.0,81.0,196.0,155.5482233502538,415.0,87.0,155.5482233502538,275.0,115.0,155.5482233502538,155.5482233502538,155.5482233502538,155.5482233502538,155.5482233502538,88.0,155.5482233502538,155.5482233502538,165.0,155.5482233502538,155.5482233502538,155.5482233502538,579.0,155.5482233502538,176.0,310.0,61.0,167.0,474.0,155.5482233502538,155.5482233502538,155.5482233502538,115.0,170.0,76.0,78.0,155.5482233502538,210.0,277.0,155.5482233502538,180.0,145.0,180.0,155.5482233502538,85.0,60.0,155.5482233502538,155.5482233502538,155.5482233502538,155.5482233502538,155.5482233502538,155.5482233502538,155.5482233502538,155.5482233502538,50.0,120.0,155.5482233502538,155.5482233502538,14.0,70.0,92.0,64.0,63.0,95.0,155.5482233502538,210.0,155.5482233502538,105.0,155.5482233502538,155.5482233502538,71.0,237.0,60.0,56.0,155.5482233502538,49.0,155.5482233502538,155.5482233502538,105.0,36.0,100.0,155.5482233502538,140.0,155.5482233502538,155.5482233502538,155.5482233502538,155.5482233502538,155.5482233502538,155.5482233502538,191.0,110.0,75.0,155.5482233502538,328.0,155.5482233502538,49.0,125.0,155.5482233502538,250.0,480.0,265.0,155.5482233502538,155.5482233502538,66.0,155.5482233502538,155.5482233502538,122.0,155.5482233502538,155.5482233502538,155.5482233502538,76.0,145.0,193.0,71.0,155.5482233502538,155.5482233502538,79.0,155.5482233502538,155.5482233502538,90.0,170.0,76.0,155.5482233502538,155.5482233502538,210.0,155.5482233502538,155.5482233502538,86.0,105.0,165.0,155.5482233502538,155.5482233502538,326.0,66.0,130.0,155.5482233502538,155.5482233502538,155.5482233502538,155.5482233502538,82.0,105.0,188.0,155.5482233502538,106.0,155.5482233502538,65.0,155.5482233502538,56.0,155.5482233502538,155.5482233502538,155.5482233502538,210.0,155.0,215.0,190.0,155.5482233502538,56.0,76.0,225.0,207.0,166.0,67.0,155.5482233502538,155.5482233502538,106.0,155.5482233502538,44.0,115.0,215.0,155.5482233502538,155.5482233502538,155.5482233502538,155.5482233502538,155.5482233502538,274.0,77.0,54.0,155.5482233502538,88.0,18.0,126.0,126.0,165.0,155.5482233502538,155.5482233502538,44.0,120.0,330.0,63.0,130.0,155.5482233502538,155.5482233502538,155.5482233502538,155.5482233502538,155.5482233502538,155.5482233502538,155.5482233502538,600.0,155.5482233502538,155.5482233502538,155.5482233502538,156.0,155.5482233502538,155.5482233502538,140.0,155.5482233502538,115.0,230.0,185.0,155.5482233502538,25.0,155.5482233502538,120.0,155.5482233502538,155.5482233502538,155.5482233502538,126.0,155.5482233502538,155.5482233502538,293.0,41.0,272.0,182.0,158.0,194.0,321.0,155.5482233502538,144.0,155.5482233502538,155.5482233502538,15.0,155.5482233502538,155.5482233502538,160.0,155.5482233502538,155.5482233502538,115.0,155.5482233502538,54.0,155.5482233502538,155.5482233502538,155.5482233502538,155.5482233502538,155.5482233502538,90.0,155.5482233502538,183.0,155.5482233502538,155.5482233502538,155.5482233502538,66.0,91.0,46.0,105.0,155.5482233502538,155.5482233502538,155.5482233502538,152.0,440.0,144.0,159.0,130.0,155.5482233502538,100.0,106.0,77.0,155.5482233502538,135.0,540.0,90.0,200.0,155.5482233502538,70.0,155.5482233502538,155.5482233502538,231.0,130.0,155.5482233502538,132.0,155.5482233502538,155.5482233502538,190.0,100.0,168.0,155.5482233502538,49.0,240.0,155.5482233502538,155.5482233502538,155.5482233502538,155.5482233502538,155.5482233502538,265.0,45.0,155.5482233502538,105.0,155.5482233502538,155.5482233502538,205.0,155.5482233502538,155.5482233502538,180.0,180.0,155.5482233502538,155.5482233502538,95.0,125.0,155.5482233502538,480.0,125.0,155.5482233502538,155.0,155.5482233502538,200.0,155.5482233502538,155.5482233502538,155.5482233502538,100.0,155.5482233502538,155.5482233502538,335.0,155.5482233502538,160.0,387.0,22.0,155.5482233502538,291.0,155.5482233502538,392.0,185.0,155.5482233502538,178.0,155.5482233502538,155.5482233502538,200.0,127.0,105.0,155.5482233502538,155.5482233502538,180.0,155.5482233502538,155.5482233502538,155.5482233502538,79.0,155.5482233502538,120.0,165.0,155.5482233502538,155.5482233502538,120.0,155.5482233502538,160.0,155.5482233502538,150.0,94.0,116.0,155.5482233502538,140.0,105.0,155.5482233502538,57.0,200.0,155.5482233502538,155.5482233502538,74.0,155.5482233502538,510.0,155.5482233502538,110.0,155.5482233502538,155.5482233502538,155.5482233502538,155.5482233502538,16.0,155.5482233502538,155.5482233502538,180.0,155.5482233502538,112.0,155.5482233502538,155.5482233502538],\"xaxis\":\"x\",\"y\":[50,31,32,21,33,30,26,29,53,54,30,34,57,59,51,32,31,31,33,32,27,50,41,29,51,41,43,22,57,38,60,28,22,28,45,33,35,46,27,56,26,37,48,54,40,25,29,22,31,24,22,26,30,58,42,21,41,31,44,22,21,39,36,24,42,32,38,54,25,27,28,26,42,23,22,22,41,27,26,24,22,22,36,22,37,27,45,26,43,24,21,34,42,60,21,40,24,22,23,31,33,22,21,24,27,21,27,37,25,24,24,46,23,25,39,61,38,25,22,21,25,24,23,69,23,26,30,23,40,62,33,33,30,39,26,31,21,22,29,28,55,38,22,42,23,21,41,34,65,22,24,37,42,23,43,36,21,23,22,47,36,45,27,21,32,41,22,34,29,29,36,29,25,23,33,36,42,26,47,37,32,23,21,27,40,41,60,33,31,25,21,40,36,40,42,29,21,23,26,29,21,28,32,27,55,27,57,52,21,41,25,24,60,24,36,38,25,32,32,41,21,66,37,61,26,22,26,24,31,24,22,46,22,29,23,26,51,23,32,27,21,22,22,33,29,49,41,23,34,23,42,27,24,25,44,21,30,25,24,51,34,27,24,63,35,43,25,24,21,28,38,21,40,21,52,25,29,23,57,22,28,39,37,47,52,51,34,29,26,33,21,25,31,24,65,28,29,24,46,58,30,25,35,28,37,29,47,21,25,30,41,22,27,25,43,26,30,29,28,59,31,25,36,43,21,24,30,37,23,37,46,25,41,44,22,26,44,44,33,41,22,36,22,33,57,49,22,23,26,37,29,30,46,24,21,49,28,44,48,29,29,63,65,67,30,30,29,21,22,45,25,21,21,25,28,58,22,22,32,35,24,22,21,25,25,24,35,45,58,28,42,27,21,37,31,25,39,22,25,25,31,55,35,38,41,26,46,25,39,28,28,25,22,21,21,22,22,37,27,28,26,21,21,21,36,31,25,38,26,43,23,38,22,29,36,29,41,28,21,31,41,22,24,33,30,25,28,26,22,26,23,23,25,72,24,38,62,24,51,81,48,26,39,37,34,21,22,25,38,27,28,22,22,50,24,59,29,31,39,63,35,29,28,23,31,24,21,58,28,67,24,42,33,45,22,66,30,25,55,39,21,28,41,41,40,38,35,21,21,64,46,21,58,22,24,28,53,51,41,60,25,26,26,45,24,21,21,24,22,31,22,24,29,31,24,23,46,67,23,32,43,27,56,25,29,37,53,28,50,37,21,25,66,23,28,37,30,58,42,35,54,28,24,32,27,22,21,46,37,33,39,21,22,22,23,25,35,21,36,62,21,27,62,42,52,22,41,29,52,25,45,24,44,25,34,22,46,21,38,26,24,28,30,54,36,21,22,25,27,23,24,36,40,26,50,27,30,23,50,24,28,28,45,21,21,29,21,21,45,21,34,24,23,22,31,38,48,23,32,28,27,24,50,31,27,30,33,22,42,23,23,27,28,27,22,25,22,41,51,27,54,22,43,40,40,24,70,40,43,45,49,21,47,22,68,31,53,25,25,23,22,26,22,27,69,25,22,29,23,46,34,44,23,43,25,43,31,22,28,26,26,49,52,41,27,28,30,22,45,23,24,40,38,21,32,34,31,56,24,52,34,21,42,42,45,38,25,22,22,22,34,22,24,22,53,28,21,42,21,42,48,26,22,45,39,46,27,32,36,50,22,28,25,26,45,37,39,52,26,66,22,43,33,63,27,30,47,23],\"yaxis\":\"y\",\"type\":\"scatter\"},{\"alignmentgroup\":\"True\",\"bingroup\":\"x\",\"hovertemplate\":\"Insulin=%{x}<br>count=%{y}<extra></extra>\",\"legendgroup\":\"\",\"marker\":{\"color\":\"#0d0887\"},\"name\":\"\",\"offsetgroup\":\"\",\"opacity\":0.5,\"showlegend\":false,\"x\":[155.5482233502538,155.5482233502538,155.5482233502538,94.0,168.0,155.5482233502538,88.0,155.5482233502538,543.0,155.5482233502538,155.5482233502538,155.5482233502538,155.5482233502538,846.0,175.0,155.5482233502538,230.0,155.5482233502538,83.0,96.0,235.0,155.5482233502538,155.5482233502538,155.5482233502538,146.0,115.0,155.5482233502538,140.0,110.0,155.5482233502538,155.5482233502538,245.0,54.0,155.5482233502538,155.5482233502538,192.0,155.5482233502538,155.5482233502538,155.5482233502538,207.0,70.0,155.5482233502538,155.5482233502538,240.0,155.5482233502538,155.5482233502538,155.5482233502538,155.5482233502538,155.5482233502538,155.5482233502538,82.0,36.0,23.0,300.0,342.0,155.5482233502538,304.0,110.0,155.5482233502538,142.0,155.5482233502538,155.5482233502538,155.5482233502538,128.0,155.5482233502538,155.5482233502538,155.5482233502538,155.5482233502538,38.0,100.0,90.0,140.0,155.5482233502538,270.0,155.5482233502538,155.5482233502538,155.5482233502538,155.5482233502538,155.5482233502538,155.5482233502538,155.5482233502538,155.5482233502538,71.0,155.5482233502538,155.5482233502538,125.0,155.5482233502538,71.0,110.0,155.5482233502538,155.5482233502538,176.0,48.0,155.5482233502538,64.0,228.0,155.5482233502538,76.0,64.0,220.0,155.5482233502538,155.5482233502538,155.5482233502538,40.0,155.5482233502538,152.0,155.5482233502538,140.0,18.0,36.0,135.0,495.0,37.0,155.5482233502538,175.0,155.5482233502538,155.5482233502538,155.5482233502538,155.5482233502538,51.0,100.0,155.5482233502538,100.0,155.5482233502538,155.5482233502538,99.0,135.0,94.0,145.0,155.5482233502538,168.0,155.5482233502538,225.0,155.5482233502538,49.0,140.0,50.0,92.0,155.5482233502538,325.0,155.5482233502538,155.5482233502538,63.0,155.5482233502538,284.0,155.5482233502538,155.5482233502538,119.0,155.5482233502538,155.5482233502538,204.0,155.5482233502538,155.0,485.0,155.5482233502538,155.5482233502538,94.0,135.0,53.0,114.0,155.5482233502538,105.0,285.0,155.5482233502538,155.5482233502538,156.0,155.5482233502538,155.5482233502538,155.5482233502538,78.0,155.5482233502538,130.0,155.5482233502538,48.0,55.0,130.0,155.5482233502538,130.0,155.5482233502538,155.5482233502538,155.5482233502538,92.0,23.0,155.5482233502538,155.5482233502538,155.5482233502538,495.0,58.0,114.0,160.0,155.5482233502538,94.0,155.5482233502538,155.5482233502538,155.5482233502538,210.0,155.5482233502538,48.0,99.0,318.0,155.5482233502538,155.5482233502538,155.5482233502538,44.0,190.0,155.5482233502538,280.0,155.5482233502538,87.0,155.5482233502538,155.5482233502538,155.5482233502538,155.5482233502538,130.0,175.0,271.0,129.0,120.0,155.5482233502538,155.5482233502538,478.0,155.5482233502538,155.5482233502538,190.0,56.0,32.0,155.5482233502538,155.5482233502538,744.0,53.0,155.5482233502538,370.0,37.0,155.5482233502538,45.0,155.5482233502538,192.0,155.5482233502538,155.5482233502538,155.5482233502538,155.5482233502538,88.0,155.5482233502538,176.0,194.0,155.5482233502538,155.5482233502538,680.0,402.0,155.5482233502538,155.5482233502538,155.5482233502538,55.0,155.5482233502538,258.0,155.5482233502538,155.5482233502538,155.5482233502538,375.0,150.0,130.0,155.5482233502538,155.5482233502538,155.5482233502538,155.5482233502538,67.0,155.5482233502538,155.5482233502538,155.5482233502538,155.5482233502538,155.5482233502538,56.0,155.5482233502538,45.0,155.5482233502538,57.0,155.5482233502538,116.0,155.5482233502538,278.0,155.5482233502538,122.0,155.0,155.5482233502538,155.5482233502538,135.0,545.0,220.0,49.0,75.0,40.0,74.0,182.0,194.0,155.5482233502538,120.0,360.0,215.0,184.0,155.5482233502538,155.5482233502538,135.0,42.0,155.5482233502538,155.5482233502538,105.0,132.0,148.0,180.0,205.0,155.5482233502538,148.0,96.0,85.0,155.5482233502538,94.0,64.0,155.5482233502538,140.0,155.5482233502538,231.0,155.5482233502538,155.5482233502538,29.0,155.5482233502538,168.0,156.0,155.5482233502538,120.0,68.0,155.5482233502538,52.0,155.5482233502538,155.5482233502538,58.0,255.0,155.5482233502538,155.5482233502538,171.0,155.5482233502538,105.0,73.0,155.5482233502538,155.5482233502538,155.5482233502538,108.0,83.0,155.5482233502538,74.0,155.5482233502538,155.5482233502538,155.5482233502538,155.5482233502538,43.0,155.5482233502538,155.5482233502538,167.0,155.5482233502538,54.0,249.0,325.0,155.5482233502538,155.5482233502538,155.5482233502538,293.0,83.0,155.5482233502538,155.5482233502538,66.0,140.0,465.0,89.0,66.0,94.0,158.0,325.0,84.0,75.0,155.5482233502538,72.0,82.0,155.5482233502538,182.0,59.0,110.0,50.0,155.5482233502538,155.5482233502538,285.0,81.0,196.0,155.5482233502538,415.0,87.0,155.5482233502538,275.0,115.0,155.5482233502538,155.5482233502538,155.5482233502538,155.5482233502538,155.5482233502538,88.0,155.5482233502538,155.5482233502538,165.0,155.5482233502538,155.5482233502538,155.5482233502538,579.0,155.5482233502538,176.0,310.0,61.0,167.0,474.0,155.5482233502538,155.5482233502538,155.5482233502538,115.0,170.0,76.0,78.0,155.5482233502538,210.0,277.0,155.5482233502538,180.0,145.0,180.0,155.5482233502538,85.0,60.0,155.5482233502538,155.5482233502538,155.5482233502538,155.5482233502538,155.5482233502538,155.5482233502538,155.5482233502538,155.5482233502538,50.0,120.0,155.5482233502538,155.5482233502538,14.0,70.0,92.0,64.0,63.0,95.0,155.5482233502538,210.0,155.5482233502538,105.0,155.5482233502538,155.5482233502538,71.0,237.0,60.0,56.0,155.5482233502538,49.0,155.5482233502538,155.5482233502538,105.0,36.0,100.0,155.5482233502538,140.0,155.5482233502538,155.5482233502538,155.5482233502538,155.5482233502538,155.5482233502538,155.5482233502538,191.0,110.0,75.0,155.5482233502538,328.0,155.5482233502538,49.0,125.0,155.5482233502538,250.0,480.0,265.0,155.5482233502538,155.5482233502538,66.0,155.5482233502538,155.5482233502538,122.0,155.5482233502538,155.5482233502538,155.5482233502538,76.0,145.0,193.0,71.0,155.5482233502538,155.5482233502538,79.0,155.5482233502538,155.5482233502538,90.0,170.0,76.0,155.5482233502538,155.5482233502538,210.0,155.5482233502538,155.5482233502538,86.0,105.0,165.0,155.5482233502538,155.5482233502538,326.0,66.0,130.0,155.5482233502538,155.5482233502538,155.5482233502538,155.5482233502538,82.0,105.0,188.0,155.5482233502538,106.0,155.5482233502538,65.0,155.5482233502538,56.0,155.5482233502538,155.5482233502538,155.5482233502538,210.0,155.0,215.0,190.0,155.5482233502538,56.0,76.0,225.0,207.0,166.0,67.0,155.5482233502538,155.5482233502538,106.0,155.5482233502538,44.0,115.0,215.0,155.5482233502538,155.5482233502538,155.5482233502538,155.5482233502538,155.5482233502538,274.0,77.0,54.0,155.5482233502538,88.0,18.0,126.0,126.0,165.0,155.5482233502538,155.5482233502538,44.0,120.0,330.0,63.0,130.0,155.5482233502538,155.5482233502538,155.5482233502538,155.5482233502538,155.5482233502538,155.5482233502538,155.5482233502538,600.0,155.5482233502538,155.5482233502538,155.5482233502538,156.0,155.5482233502538,155.5482233502538,140.0,155.5482233502538,115.0,230.0,185.0,155.5482233502538,25.0,155.5482233502538,120.0,155.5482233502538,155.5482233502538,155.5482233502538,126.0,155.5482233502538,155.5482233502538,293.0,41.0,272.0,182.0,158.0,194.0,321.0,155.5482233502538,144.0,155.5482233502538,155.5482233502538,15.0,155.5482233502538,155.5482233502538,160.0,155.5482233502538,155.5482233502538,115.0,155.5482233502538,54.0,155.5482233502538,155.5482233502538,155.5482233502538,155.5482233502538,155.5482233502538,90.0,155.5482233502538,183.0,155.5482233502538,155.5482233502538,155.5482233502538,66.0,91.0,46.0,105.0,155.5482233502538,155.5482233502538,155.5482233502538,152.0,440.0,144.0,159.0,130.0,155.5482233502538,100.0,106.0,77.0,155.5482233502538,135.0,540.0,90.0,200.0,155.5482233502538,70.0,155.5482233502538,155.5482233502538,231.0,130.0,155.5482233502538,132.0,155.5482233502538,155.5482233502538,190.0,100.0,168.0,155.5482233502538,49.0,240.0,155.5482233502538,155.5482233502538,155.5482233502538,155.5482233502538,155.5482233502538,265.0,45.0,155.5482233502538,105.0,155.5482233502538,155.5482233502538,205.0,155.5482233502538,155.5482233502538,180.0,180.0,155.5482233502538,155.5482233502538,95.0,125.0,155.5482233502538,480.0,125.0,155.5482233502538,155.0,155.5482233502538,200.0,155.5482233502538,155.5482233502538,155.5482233502538,100.0,155.5482233502538,155.5482233502538,335.0,155.5482233502538,160.0,387.0,22.0,155.5482233502538,291.0,155.5482233502538,392.0,185.0,155.5482233502538,178.0,155.5482233502538,155.5482233502538,200.0,127.0,105.0,155.5482233502538,155.5482233502538,180.0,155.5482233502538,155.5482233502538,155.5482233502538,79.0,155.5482233502538,120.0,165.0,155.5482233502538,155.5482233502538,120.0,155.5482233502538,160.0,155.5482233502538,150.0,94.0,116.0,155.5482233502538,140.0,105.0,155.5482233502538,57.0,200.0,155.5482233502538,155.5482233502538,74.0,155.5482233502538,510.0,155.5482233502538,110.0,155.5482233502538,155.5482233502538,155.5482233502538,155.5482233502538,16.0,155.5482233502538,155.5482233502538,180.0,155.5482233502538,112.0,155.5482233502538,155.5482233502538],\"xaxis\":\"x3\",\"yaxis\":\"y3\",\"type\":\"histogram\"},{\"alignmentgroup\":\"True\",\"bingroup\":\"y\",\"hovertemplate\":\"Age=%{y}<br>count=%{x}<extra></extra>\",\"legendgroup\":\"\",\"marker\":{\"color\":\"#0d0887\"},\"name\":\"\",\"offsetgroup\":\"\",\"opacity\":0.5,\"showlegend\":false,\"xaxis\":\"x2\",\"y\":[50,31,32,21,33,30,26,29,53,54,30,34,57,59,51,32,31,31,33,32,27,50,41,29,51,41,43,22,57,38,60,28,22,28,45,33,35,46,27,56,26,37,48,54,40,25,29,22,31,24,22,26,30,58,42,21,41,31,44,22,21,39,36,24,42,32,38,54,25,27,28,26,42,23,22,22,41,27,26,24,22,22,36,22,37,27,45,26,43,24,21,34,42,60,21,40,24,22,23,31,33,22,21,24,27,21,27,37,25,24,24,46,23,25,39,61,38,25,22,21,25,24,23,69,23,26,30,23,40,62,33,33,30,39,26,31,21,22,29,28,55,38,22,42,23,21,41,34,65,22,24,37,42,23,43,36,21,23,22,47,36,45,27,21,32,41,22,34,29,29,36,29,25,23,33,36,42,26,47,37,32,23,21,27,40,41,60,33,31,25,21,40,36,40,42,29,21,23,26,29,21,28,32,27,55,27,57,52,21,41,25,24,60,24,36,38,25,32,32,41,21,66,37,61,26,22,26,24,31,24,22,46,22,29,23,26,51,23,32,27,21,22,22,33,29,49,41,23,34,23,42,27,24,25,44,21,30,25,24,51,34,27,24,63,35,43,25,24,21,28,38,21,40,21,52,25,29,23,57,22,28,39,37,47,52,51,34,29,26,33,21,25,31,24,65,28,29,24,46,58,30,25,35,28,37,29,47,21,25,30,41,22,27,25,43,26,30,29,28,59,31,25,36,43,21,24,30,37,23,37,46,25,41,44,22,26,44,44,33,41,22,36,22,33,57,49,22,23,26,37,29,30,46,24,21,49,28,44,48,29,29,63,65,67,30,30,29,21,22,45,25,21,21,25,28,58,22,22,32,35,24,22,21,25,25,24,35,45,58,28,42,27,21,37,31,25,39,22,25,25,31,55,35,38,41,26,46,25,39,28,28,25,22,21,21,22,22,37,27,28,26,21,21,21,36,31,25,38,26,43,23,38,22,29,36,29,41,28,21,31,41,22,24,33,30,25,28,26,22,26,23,23,25,72,24,38,62,24,51,81,48,26,39,37,34,21,22,25,38,27,28,22,22,50,24,59,29,31,39,63,35,29,28,23,31,24,21,58,28,67,24,42,33,45,22,66,30,25,55,39,21,28,41,41,40,38,35,21,21,64,46,21,58,22,24,28,53,51,41,60,25,26,26,45,24,21,21,24,22,31,22,24,29,31,24,23,46,67,23,32,43,27,56,25,29,37,53,28,50,37,21,25,66,23,28,37,30,58,42,35,54,28,24,32,27,22,21,46,37,33,39,21,22,22,23,25,35,21,36,62,21,27,62,42,52,22,41,29,52,25,45,24,44,25,34,22,46,21,38,26,24,28,30,54,36,21,22,25,27,23,24,36,40,26,50,27,30,23,50,24,28,28,45,21,21,29,21,21,45,21,34,24,23,22,31,38,48,23,32,28,27,24,50,31,27,30,33,22,42,23,23,27,28,27,22,25,22,41,51,27,54,22,43,40,40,24,70,40,43,45,49,21,47,22,68,31,53,25,25,23,22,26,22,27,69,25,22,29,23,46,34,44,23,43,25,43,31,22,28,26,26,49,52,41,27,28,30,22,45,23,24,40,38,21,32,34,31,56,24,52,34,21,42,42,45,38,25,22,22,22,34,22,24,22,53,28,21,42,21,42,48,26,22,45,39,46,27,32,36,50,22,28,25,26,45,37,39,52,26,66,22,43,33,63,27,30,47,23],\"yaxis\":\"y2\",\"type\":\"histogram\"}],                        {\"template\":{\"data\":{\"bar\":[{\"error_x\":{\"color\":\"#2a3f5f\"},\"error_y\":{\"color\":\"#2a3f5f\"},\"marker\":{\"line\":{\"color\":\"#E5ECF6\",\"width\":0.5},\"pattern\":{\"fillmode\":\"overlay\",\"size\":10,\"solidity\":0.2}},\"type\":\"bar\"}],\"barpolar\":[{\"marker\":{\"line\":{\"color\":\"#E5ECF6\",\"width\":0.5},\"pattern\":{\"fillmode\":\"overlay\",\"size\":10,\"solidity\":0.2}},\"type\":\"barpolar\"}],\"carpet\":[{\"aaxis\":{\"endlinecolor\":\"#2a3f5f\",\"gridcolor\":\"white\",\"linecolor\":\"white\",\"minorgridcolor\":\"white\",\"startlinecolor\":\"#2a3f5f\"},\"baxis\":{\"endlinecolor\":\"#2a3f5f\",\"gridcolor\":\"white\",\"linecolor\":\"white\",\"minorgridcolor\":\"white\",\"startlinecolor\":\"#2a3f5f\"},\"type\":\"carpet\"}],\"choropleth\":[{\"colorbar\":{\"outlinewidth\":0,\"ticks\":\"\"},\"type\":\"choropleth\"}],\"contour\":[{\"colorbar\":{\"outlinewidth\":0,\"ticks\":\"\"},\"colorscale\":[[0.0,\"#0d0887\"],[0.1111111111111111,\"#46039f\"],[0.2222222222222222,\"#7201a8\"],[0.3333333333333333,\"#9c179e\"],[0.4444444444444444,\"#bd3786\"],[0.5555555555555556,\"#d8576b\"],[0.6666666666666666,\"#ed7953\"],[0.7777777777777778,\"#fb9f3a\"],[0.8888888888888888,\"#fdca26\"],[1.0,\"#f0f921\"]],\"type\":\"contour\"}],\"contourcarpet\":[{\"colorbar\":{\"outlinewidth\":0,\"ticks\":\"\"},\"type\":\"contourcarpet\"}],\"heatmap\":[{\"colorbar\":{\"outlinewidth\":0,\"ticks\":\"\"},\"colorscale\":[[0.0,\"#0d0887\"],[0.1111111111111111,\"#46039f\"],[0.2222222222222222,\"#7201a8\"],[0.3333333333333333,\"#9c179e\"],[0.4444444444444444,\"#bd3786\"],[0.5555555555555556,\"#d8576b\"],[0.6666666666666666,\"#ed7953\"],[0.7777777777777778,\"#fb9f3a\"],[0.8888888888888888,\"#fdca26\"],[1.0,\"#f0f921\"]],\"type\":\"heatmap\"}],\"heatmapgl\":[{\"colorbar\":{\"outlinewidth\":0,\"ticks\":\"\"},\"colorscale\":[[0.0,\"#0d0887\"],[0.1111111111111111,\"#46039f\"],[0.2222222222222222,\"#7201a8\"],[0.3333333333333333,\"#9c179e\"],[0.4444444444444444,\"#bd3786\"],[0.5555555555555556,\"#d8576b\"],[0.6666666666666666,\"#ed7953\"],[0.7777777777777778,\"#fb9f3a\"],[0.8888888888888888,\"#fdca26\"],[1.0,\"#f0f921\"]],\"type\":\"heatmapgl\"}],\"histogram\":[{\"marker\":{\"pattern\":{\"fillmode\":\"overlay\",\"size\":10,\"solidity\":0.2}},\"type\":\"histogram\"}],\"histogram2d\":[{\"colorbar\":{\"outlinewidth\":0,\"ticks\":\"\"},\"colorscale\":[[0.0,\"#0d0887\"],[0.1111111111111111,\"#46039f\"],[0.2222222222222222,\"#7201a8\"],[0.3333333333333333,\"#9c179e\"],[0.4444444444444444,\"#bd3786\"],[0.5555555555555556,\"#d8576b\"],[0.6666666666666666,\"#ed7953\"],[0.7777777777777778,\"#fb9f3a\"],[0.8888888888888888,\"#fdca26\"],[1.0,\"#f0f921\"]],\"type\":\"histogram2d\"}],\"histogram2dcontour\":[{\"colorbar\":{\"outlinewidth\":0,\"ticks\":\"\"},\"colorscale\":[[0.0,\"#0d0887\"],[0.1111111111111111,\"#46039f\"],[0.2222222222222222,\"#7201a8\"],[0.3333333333333333,\"#9c179e\"],[0.4444444444444444,\"#bd3786\"],[0.5555555555555556,\"#d8576b\"],[0.6666666666666666,\"#ed7953\"],[0.7777777777777778,\"#fb9f3a\"],[0.8888888888888888,\"#fdca26\"],[1.0,\"#f0f921\"]],\"type\":\"histogram2dcontour\"}],\"mesh3d\":[{\"colorbar\":{\"outlinewidth\":0,\"ticks\":\"\"},\"type\":\"mesh3d\"}],\"parcoords\":[{\"line\":{\"colorbar\":{\"outlinewidth\":0,\"ticks\":\"\"}},\"type\":\"parcoords\"}],\"pie\":[{\"automargin\":true,\"type\":\"pie\"}],\"scatter\":[{\"marker\":{\"colorbar\":{\"outlinewidth\":0,\"ticks\":\"\"}},\"type\":\"scatter\"}],\"scatter3d\":[{\"line\":{\"colorbar\":{\"outlinewidth\":0,\"ticks\":\"\"}},\"marker\":{\"colorbar\":{\"outlinewidth\":0,\"ticks\":\"\"}},\"type\":\"scatter3d\"}],\"scattercarpet\":[{\"marker\":{\"colorbar\":{\"outlinewidth\":0,\"ticks\":\"\"}},\"type\":\"scattercarpet\"}],\"scattergeo\":[{\"marker\":{\"colorbar\":{\"outlinewidth\":0,\"ticks\":\"\"}},\"type\":\"scattergeo\"}],\"scattergl\":[{\"marker\":{\"colorbar\":{\"outlinewidth\":0,\"ticks\":\"\"}},\"type\":\"scattergl\"}],\"scattermapbox\":[{\"marker\":{\"colorbar\":{\"outlinewidth\":0,\"ticks\":\"\"}},\"type\":\"scattermapbox\"}],\"scatterpolar\":[{\"marker\":{\"colorbar\":{\"outlinewidth\":0,\"ticks\":\"\"}},\"type\":\"scatterpolar\"}],\"scatterpolargl\":[{\"marker\":{\"colorbar\":{\"outlinewidth\":0,\"ticks\":\"\"}},\"type\":\"scatterpolargl\"}],\"scatterternary\":[{\"marker\":{\"colorbar\":{\"outlinewidth\":0,\"ticks\":\"\"}},\"type\":\"scatterternary\"}],\"surface\":[{\"colorbar\":{\"outlinewidth\":0,\"ticks\":\"\"},\"colorscale\":[[0.0,\"#0d0887\"],[0.1111111111111111,\"#46039f\"],[0.2222222222222222,\"#7201a8\"],[0.3333333333333333,\"#9c179e\"],[0.4444444444444444,\"#bd3786\"],[0.5555555555555556,\"#d8576b\"],[0.6666666666666666,\"#ed7953\"],[0.7777777777777778,\"#fb9f3a\"],[0.8888888888888888,\"#fdca26\"],[1.0,\"#f0f921\"]],\"type\":\"surface\"}],\"table\":[{\"cells\":{\"fill\":{\"color\":\"#EBF0F8\"},\"line\":{\"color\":\"white\"}},\"header\":{\"fill\":{\"color\":\"#C8D4E3\"},\"line\":{\"color\":\"white\"}},\"type\":\"table\"}]},\"layout\":{\"annotationdefaults\":{\"arrowcolor\":\"#2a3f5f\",\"arrowhead\":0,\"arrowwidth\":1},\"autotypenumbers\":\"strict\",\"coloraxis\":{\"colorbar\":{\"outlinewidth\":0,\"ticks\":\"\"}},\"colorscale\":{\"diverging\":[[0,\"#8e0152\"],[0.1,\"#c51b7d\"],[0.2,\"#de77ae\"],[0.3,\"#f1b6da\"],[0.4,\"#fde0ef\"],[0.5,\"#f7f7f7\"],[0.6,\"#e6f5d0\"],[0.7,\"#b8e186\"],[0.8,\"#7fbc41\"],[0.9,\"#4d9221\"],[1,\"#276419\"]],\"sequential\":[[0.0,\"#0d0887\"],[0.1111111111111111,\"#46039f\"],[0.2222222222222222,\"#7201a8\"],[0.3333333333333333,\"#9c179e\"],[0.4444444444444444,\"#bd3786\"],[0.5555555555555556,\"#d8576b\"],[0.6666666666666666,\"#ed7953\"],[0.7777777777777778,\"#fb9f3a\"],[0.8888888888888888,\"#fdca26\"],[1.0,\"#f0f921\"]],\"sequentialminus\":[[0.0,\"#0d0887\"],[0.1111111111111111,\"#46039f\"],[0.2222222222222222,\"#7201a8\"],[0.3333333333333333,\"#9c179e\"],[0.4444444444444444,\"#bd3786\"],[0.5555555555555556,\"#d8576b\"],[0.6666666666666666,\"#ed7953\"],[0.7777777777777778,\"#fb9f3a\"],[0.8888888888888888,\"#fdca26\"],[1.0,\"#f0f921\"]]},\"colorway\":[\"#636efa\",\"#EF553B\",\"#00cc96\",\"#ab63fa\",\"#FFA15A\",\"#19d3f3\",\"#FF6692\",\"#B6E880\",\"#FF97FF\",\"#FECB52\"],\"font\":{\"color\":\"#2a3f5f\"},\"geo\":{\"bgcolor\":\"white\",\"lakecolor\":\"white\",\"landcolor\":\"#E5ECF6\",\"showlakes\":true,\"showland\":true,\"subunitcolor\":\"white\"},\"hoverlabel\":{\"align\":\"left\"},\"hovermode\":\"closest\",\"mapbox\":{\"style\":\"light\"},\"paper_bgcolor\":\"white\",\"plot_bgcolor\":\"#E5ECF6\",\"polar\":{\"angularaxis\":{\"gridcolor\":\"white\",\"linecolor\":\"white\",\"ticks\":\"\"},\"bgcolor\":\"#E5ECF6\",\"radialaxis\":{\"gridcolor\":\"white\",\"linecolor\":\"white\",\"ticks\":\"\"}},\"scene\":{\"xaxis\":{\"backgroundcolor\":\"#E5ECF6\",\"gridcolor\":\"white\",\"gridwidth\":2,\"linecolor\":\"white\",\"showbackground\":true,\"ticks\":\"\",\"zerolinecolor\":\"white\"},\"yaxis\":{\"backgroundcolor\":\"#E5ECF6\",\"gridcolor\":\"white\",\"gridwidth\":2,\"linecolor\":\"white\",\"showbackground\":true,\"ticks\":\"\",\"zerolinecolor\":\"white\"},\"zaxis\":{\"backgroundcolor\":\"#E5ECF6\",\"gridcolor\":\"white\",\"gridwidth\":2,\"linecolor\":\"white\",\"showbackground\":true,\"ticks\":\"\",\"zerolinecolor\":\"white\"}},\"shapedefaults\":{\"line\":{\"color\":\"#2a3f5f\"}},\"ternary\":{\"aaxis\":{\"gridcolor\":\"white\",\"linecolor\":\"white\",\"ticks\":\"\"},\"baxis\":{\"gridcolor\":\"white\",\"linecolor\":\"white\",\"ticks\":\"\"},\"bgcolor\":\"#E5ECF6\",\"caxis\":{\"gridcolor\":\"white\",\"linecolor\":\"white\",\"ticks\":\"\"}},\"title\":{\"x\":0.05},\"xaxis\":{\"automargin\":true,\"gridcolor\":\"white\",\"linecolor\":\"white\",\"ticks\":\"\",\"title\":{\"standoff\":15},\"zerolinecolor\":\"white\",\"zerolinewidth\":2},\"yaxis\":{\"automargin\":true,\"gridcolor\":\"white\",\"linecolor\":\"white\",\"ticks\":\"\",\"title\":{\"standoff\":15},\"zerolinecolor\":\"white\",\"zerolinewidth\":2}}},\"xaxis\":{\"anchor\":\"y\",\"domain\":[0.0,0.7363],\"title\":{\"text\":\"Insulin\"}},\"yaxis\":{\"anchor\":\"x\",\"domain\":[0.0,0.7326],\"title\":{\"text\":\"Age\"}},\"xaxis2\":{\"anchor\":\"y2\",\"domain\":[0.7413,1.0],\"matches\":\"x2\",\"showticklabels\":false,\"showline\":false,\"ticks\":\"\",\"showgrid\":true},\"yaxis2\":{\"anchor\":\"x2\",\"domain\":[0.0,0.7326],\"matches\":\"y\",\"showticklabels\":false,\"showgrid\":true},\"xaxis3\":{\"anchor\":\"y3\",\"domain\":[0.0,0.7363],\"matches\":\"x\",\"showticklabels\":false,\"showgrid\":true},\"yaxis3\":{\"anchor\":\"x3\",\"domain\":[0.7426,1.0],\"matches\":\"y3\",\"showticklabels\":false,\"showline\":false,\"ticks\":\"\",\"showgrid\":true},\"xaxis4\":{\"anchor\":\"y4\",\"domain\":[0.7413,1.0],\"matches\":\"x2\",\"showticklabels\":false,\"showgrid\":true,\"showline\":false,\"ticks\":\"\"},\"yaxis4\":{\"anchor\":\"x4\",\"domain\":[0.7426,1.0],\"matches\":\"y3\",\"showticklabels\":false,\"showline\":false,\"ticks\":\"\",\"showgrid\":true},\"coloraxis\":{\"colorbar\":{\"title\":{\"text\":\"Outcome\"}},\"colorscale\":[[0.0,\"#0d0887\"],[0.1111111111111111,\"#46039f\"],[0.2222222222222222,\"#7201a8\"],[0.3333333333333333,\"#9c179e\"],[0.4444444444444444,\"#bd3786\"],[0.5555555555555556,\"#d8576b\"],[0.6666666666666666,\"#ed7953\"],[0.7777777777777778,\"#fb9f3a\"],[0.8888888888888888,\"#fdca26\"],[1.0,\"#f0f921\"]]},\"legend\":{\"tracegroupgap\":0,\"itemsizing\":\"constant\"},\"title\":{\"text\":\"Age and Glucose correlation\"},\"barmode\":\"overlay\"},                        {\"responsive\": true}                    ).then(function(){\n",
              "                            \n",
              "var gd = document.getElementById('46e8f522-4dc4-4d91-b4b3-e5d90ceafff4');\n",
              "var x = new MutationObserver(function (mutations, observer) {{\n",
              "        var display = window.getComputedStyle(gd).display;\n",
              "        if (!display || display === 'none') {{\n",
              "            console.log([gd, 'removed!']);\n",
              "            Plotly.purge(gd);\n",
              "            observer.disconnect();\n",
              "        }}\n",
              "}});\n",
              "\n",
              "// Listen for the removal of the full notebook cells\n",
              "var notebookContainer = gd.closest('#notebook-container');\n",
              "if (notebookContainer) {{\n",
              "    x.observe(notebookContainer, {childList: true});\n",
              "}}\n",
              "\n",
              "// Listen for the clearing of the current output cell\n",
              "var outputEl = gd.closest('.output');\n",
              "if (outputEl) {{\n",
              "    x.observe(outputEl, {childList: true});\n",
              "}}\n",
              "\n",
              "                        })                };                            </script>        </div>\n",
              "</body>\n",
              "</html>"
            ]
          },
          "metadata": {}
        }
      ]
    },
    {
      "cell_type": "markdown",
      "source": [
        "### Insulin  + Glucose + Age"
      ],
      "metadata": {
        "id": "N-To58iUdAwM"
      }
    },
    {
      "cell_type": "markdown",
      "source": [
        "3D scatterplot showing correlation between insulin and glucose across ages and it impacts the target variable"
      ],
      "metadata": {
        "id": "4Pi_EEUDdHv8"
      }
    },
    {
      "cell_type": "code",
      "source": [
        "ax = px.scatter_3d(df_diabetes, x=\"Age\", y=\"Glucose\", z=\"Insulin\",template= \"plotly_dark\",color=\"Outcome\")\n",
        "ax.show()"
      ],
      "metadata": {
        "colab": {
          "base_uri": "https://localhost:8080/",
          "height": 542
        },
        "id": "8fsQ566WdFe-",
        "outputId": "8071ac02-f0c6-4680-bb42-7d5b96006027"
      },
      "execution_count": 311,
      "outputs": [
        {
          "output_type": "display_data",
          "data": {
            "text/html": [
              "<html>\n",
              "<head><meta charset=\"utf-8\" /></head>\n",
              "<body>\n",
              "    <div>            <script src=\"https://cdnjs.cloudflare.com/ajax/libs/mathjax/2.7.5/MathJax.js?config=TeX-AMS-MML_SVG\"></script><script type=\"text/javascript\">if (window.MathJax) {MathJax.Hub.Config({SVG: {font: \"STIX-Web\"}});}</script>                <script type=\"text/javascript\">window.PlotlyConfig = {MathJaxConfig: 'local'};</script>\n",
              "        <script src=\"https://cdn.plot.ly/plotly-2.8.3.min.js\"></script>                <div id=\"46816c0d-60c2-462f-8ed3-92849de150ca\" class=\"plotly-graph-div\" style=\"height:525px; width:100%;\"></div>            <script type=\"text/javascript\">                                    window.PLOTLYENV=window.PLOTLYENV || {};                                    if (document.getElementById(\"46816c0d-60c2-462f-8ed3-92849de150ca\")) {                    Plotly.newPlot(                        \"46816c0d-60c2-462f-8ed3-92849de150ca\",                        [{\"hovertemplate\":\"Age=%{x}<br>Glucose=%{y}<br>Insulin=%{z}<br>Outcome=%{marker.color}<extra></extra>\",\"legendgroup\":\"\",\"marker\":{\"color\":[1,0,1,0,1,0,1,0,1,1,0,1,0,1,1,1,1,1,0,1,0,0,1,1,1,1,1,0,0,0,0,1,0,0,0,0,0,1,1,1,0,0,0,1,0,1,0,0,1,0,0,0,0,1,0,0,1,0,0,0,0,1,0,0,1,0,1,0,0,0,1,0,1,0,0,0,0,0,1,0,0,0,0,0,1,0,0,0,1,0,0,0,0,1,0,0,0,0,0,1,1,0,0,0,0,0,0,0,0,1,1,1,0,0,1,1,1,0,0,0,1,0,0,0,1,1,0,0,1,1,1,1,1,0,0,0,0,0,0,0,0,0,0,1,0,0,0,0,0,0,0,0,1,0,1,1,0,0,0,1,0,0,0,0,1,1,0,0,0,0,1,1,0,0,0,1,0,1,0,1,0,0,0,0,0,1,1,1,1,1,0,0,1,1,0,1,0,1,1,1,0,0,0,0,0,0,1,1,0,1,0,0,0,1,1,1,1,0,1,1,1,1,0,0,0,0,0,1,0,0,1,1,0,0,0,1,1,1,1,0,0,0,1,1,0,1,0,0,0,0,0,0,0,0,1,1,0,0,0,1,0,1,0,0,1,0,1,0,0,1,1,0,0,0,0,0,1,0,0,0,1,0,0,1,1,0,0,1,0,0,0,1,1,1,0,0,1,0,1,0,1,1,0,1,0,0,1,0,1,1,0,0,1,0,1,0,0,1,0,1,0,1,1,1,0,0,1,0,1,0,0,0,1,0,0,0,0,1,1,1,0,0,0,0,0,0,0,0,0,1,0,0,0,0,0,1,1,1,0,1,1,0,0,1,0,0,1,0,0,1,1,0,0,0,0,1,0,0,1,0,0,0,0,0,0,0,1,1,1,0,0,1,0,0,1,0,0,1,0,1,1,0,1,0,1,0,1,0,1,1,0,0,0,0,1,1,0,1,0,1,0,0,0,0,1,1,0,1,0,1,0,0,0,0,0,1,0,0,0,0,1,0,0,1,1,1,0,0,1,0,0,1,0,0,0,1,0,0,1,0,0,0,0,0,0,0,0,0,1,0,0,0,0,0,0,0,1,0,0,0,1,0,0,0,1,1,0,0,0,0,0,0,0,1,0,0,0,0,1,0,0,0,1,0,0,0,1,0,0,0,1,0,0,0,0,1,1,0,0,0,0,0,0,1,0,0,0,0,0,0,0,0,0,0,0,1,0,0,0,1,1,1,1,0,0,1,1,0,0,0,0,0,0,0,0,0,0,0,0,0,1,1,0,0,0,0,0,0,0,1,0,0,0,0,0,0,0,1,0,1,1,0,0,0,1,0,1,0,1,0,1,0,1,0,0,1,0,0,1,0,0,0,0,1,1,0,1,0,0,0,0,1,1,0,1,0,0,0,1,1,0,0,0,0,0,0,0,0,0,0,1,0,0,0,0,1,0,0,1,0,0,0,1,0,0,0,1,1,1,0,0,0,0,0,0,1,0,0,0,1,0,1,1,1,1,0,1,1,0,0,0,0,0,0,0,1,1,0,1,0,0,1,0,1,0,0,0,0,0,1,0,1,0,1,0,1,1,0,0,0,0,1,1,0,0,0,1,0,1,1,0,0,1,0,0,1,1,0,0,1,0,0,1,0,0,0,0,0,0,0,1,1,1,0,0,0,0,0,0,1,1,0,0,1,0,0,1,0,1,1,1,0,0,1,1,1,0,1,0,1,0,1,0,0,0,0,1,0],\"coloraxis\":\"coloraxis\",\"symbol\":\"circle\"},\"mode\":\"markers\",\"name\":\"\",\"scene\":\"scene\",\"showlegend\":false,\"x\":[50,31,32,21,33,30,26,29,53,54,30,34,57,59,51,32,31,31,33,32,27,50,41,29,51,41,43,22,57,38,60,28,22,28,45,33,35,46,27,56,26,37,48,54,40,25,29,22,31,24,22,26,30,58,42,21,41,31,44,22,21,39,36,24,42,32,38,54,25,27,28,26,42,23,22,22,41,27,26,24,22,22,36,22,37,27,45,26,43,24,21,34,42,60,21,40,24,22,23,31,33,22,21,24,27,21,27,37,25,24,24,46,23,25,39,61,38,25,22,21,25,24,23,69,23,26,30,23,40,62,33,33,30,39,26,31,21,22,29,28,55,38,22,42,23,21,41,34,65,22,24,37,42,23,43,36,21,23,22,47,36,45,27,21,32,41,22,34,29,29,36,29,25,23,33,36,42,26,47,37,32,23,21,27,40,41,60,33,31,25,21,40,36,40,42,29,21,23,26,29,21,28,32,27,55,27,57,52,21,41,25,24,60,24,36,38,25,32,32,41,21,66,37,61,26,22,26,24,31,24,22,46,22,29,23,26,51,23,32,27,21,22,22,33,29,49,41,23,34,23,42,27,24,25,44,21,30,25,24,51,34,27,24,63,35,43,25,24,21,28,38,21,40,21,52,25,29,23,57,22,28,39,37,47,52,51,34,29,26,33,21,25,31,24,65,28,29,24,46,58,30,25,35,28,37,29,47,21,25,30,41,22,27,25,43,26,30,29,28,59,31,25,36,43,21,24,30,37,23,37,46,25,41,44,22,26,44,44,33,41,22,36,22,33,57,49,22,23,26,37,29,30,46,24,21,49,28,44,48,29,29,63,65,67,30,30,29,21,22,45,25,21,21,25,28,58,22,22,32,35,24,22,21,25,25,24,35,45,58,28,42,27,21,37,31,25,39,22,25,25,31,55,35,38,41,26,46,25,39,28,28,25,22,21,21,22,22,37,27,28,26,21,21,21,36,31,25,38,26,43,23,38,22,29,36,29,41,28,21,31,41,22,24,33,30,25,28,26,22,26,23,23,25,72,24,38,62,24,51,81,48,26,39,37,34,21,22,25,38,27,28,22,22,50,24,59,29,31,39,63,35,29,28,23,31,24,21,58,28,67,24,42,33,45,22,66,30,25,55,39,21,28,41,41,40,38,35,21,21,64,46,21,58,22,24,28,53,51,41,60,25,26,26,45,24,21,21,24,22,31,22,24,29,31,24,23,46,67,23,32,43,27,56,25,29,37,53,28,50,37,21,25,66,23,28,37,30,58,42,35,54,28,24,32,27,22,21,46,37,33,39,21,22,22,23,25,35,21,36,62,21,27,62,42,52,22,41,29,52,25,45,24,44,25,34,22,46,21,38,26,24,28,30,54,36,21,22,25,27,23,24,36,40,26,50,27,30,23,50,24,28,28,45,21,21,29,21,21,45,21,34,24,23,22,31,38,48,23,32,28,27,24,50,31,27,30,33,22,42,23,23,27,28,27,22,25,22,41,51,27,54,22,43,40,40,24,70,40,43,45,49,21,47,22,68,31,53,25,25,23,22,26,22,27,69,25,22,29,23,46,34,44,23,43,25,43,31,22,28,26,26,49,52,41,27,28,30,22,45,23,24,40,38,21,32,34,31,56,24,52,34,21,42,42,45,38,25,22,22,22,34,22,24,22,53,28,21,42,21,42,48,26,22,45,39,46,27,32,36,50,22,28,25,26,45,37,39,52,26,66,22,43,33,63,27,30,47,23],\"y\":[148.0,85.0,183.0,89.0,137.0,116.0,78.0,115.0,197.0,125.0,110.0,168.0,139.0,189.0,166.0,100.0,118.0,107.0,103.0,115.0,126.0,99.0,196.0,119.0,143.0,125.0,147.0,97.0,145.0,117.0,109.0,158.0,88.0,92.0,122.0,103.0,138.0,102.0,90.0,111.0,180.0,133.0,106.0,171.0,159.0,180.0,146.0,71.0,103.0,105.0,103.0,101.0,88.0,176.0,150.0,73.0,187.0,100.0,146.0,105.0,84.0,133.0,44.0,141.0,114.0,99.0,109.0,109.0,95.0,146.0,100.0,139.0,126.0,129.0,79.0,121.6867627785059,62.0,95.0,131.0,112.0,113.0,74.0,83.0,101.0,137.0,110.0,106.0,100.0,136.0,107.0,80.0,123.0,81.0,134.0,142.0,144.0,92.0,71.0,93.0,122.0,163.0,151.0,125.0,81.0,85.0,126.0,96.0,144.0,83.0,95.0,171.0,155.0,89.0,76.0,160.0,146.0,124.0,78.0,97.0,99.0,162.0,111.0,107.0,132.0,113.0,88.0,120.0,118.0,117.0,105.0,173.0,122.0,170.0,84.0,96.0,125.0,100.0,93.0,129.0,105.0,128.0,106.0,108.0,108.0,154.0,102.0,57.0,106.0,147.0,90.0,136.0,114.0,156.0,153.0,188.0,152.0,99.0,109.0,88.0,163.0,151.0,102.0,114.0,100.0,131.0,104.0,148.0,120.0,110.0,111.0,102.0,134.0,87.0,79.0,75.0,179.0,85.0,129.0,143.0,130.0,87.0,119.0,121.6867627785059,73.0,141.0,194.0,181.0,128.0,109.0,139.0,111.0,123.0,159.0,135.0,85.0,158.0,105.0,107.0,109.0,148.0,113.0,138.0,108.0,99.0,103.0,111.0,196.0,162.0,96.0,184.0,81.0,147.0,179.0,140.0,112.0,151.0,109.0,125.0,85.0,112.0,177.0,158.0,119.0,142.0,100.0,87.0,101.0,162.0,197.0,117.0,142.0,134.0,79.0,122.0,74.0,171.0,181.0,179.0,164.0,104.0,91.0,91.0,139.0,119.0,146.0,184.0,122.0,165.0,124.0,111.0,106.0,129.0,90.0,86.0,92.0,113.0,111.0,114.0,193.0,155.0,191.0,141.0,95.0,142.0,123.0,96.0,138.0,128.0,102.0,146.0,101.0,108.0,122.0,71.0,106.0,100.0,106.0,104.0,114.0,108.0,146.0,129.0,133.0,161.0,108.0,136.0,155.0,119.0,96.0,108.0,78.0,107.0,128.0,128.0,161.0,151.0,146.0,126.0,100.0,112.0,167.0,144.0,77.0,115.0,150.0,120.0,161.0,137.0,128.0,124.0,80.0,106.0,155.0,113.0,109.0,112.0,99.0,182.0,115.0,194.0,129.0,112.0,124.0,152.0,112.0,157.0,122.0,179.0,102.0,105.0,118.0,87.0,180.0,106.0,95.0,165.0,117.0,115.0,152.0,178.0,130.0,95.0,121.6867627785059,122.0,95.0,126.0,139.0,116.0,99.0,121.6867627785059,92.0,137.0,61.0,90.0,90.0,165.0,125.0,129.0,88.0,196.0,189.0,158.0,103.0,146.0,147.0,99.0,124.0,101.0,81.0,133.0,173.0,118.0,84.0,105.0,122.0,140.0,98.0,87.0,156.0,93.0,107.0,105.0,109.0,90.0,125.0,119.0,116.0,105.0,144.0,100.0,100.0,166.0,131.0,116.0,158.0,127.0,96.0,131.0,82.0,193.0,95.0,137.0,136.0,72.0,168.0,123.0,115.0,101.0,197.0,172.0,102.0,112.0,143.0,143.0,138.0,173.0,97.0,144.0,83.0,129.0,119.0,94.0,102.0,115.0,151.0,184.0,94.0,181.0,135.0,95.0,99.0,89.0,80.0,139.0,90.0,141.0,140.0,147.0,97.0,107.0,189.0,83.0,117.0,108.0,117.0,180.0,100.0,95.0,104.0,120.0,82.0,134.0,91.0,119.0,100.0,175.0,135.0,86.0,148.0,134.0,120.0,71.0,74.0,88.0,115.0,124.0,74.0,97.0,120.0,154.0,144.0,137.0,119.0,136.0,114.0,137.0,105.0,114.0,126.0,132.0,158.0,123.0,85.0,84.0,145.0,135.0,139.0,173.0,99.0,194.0,83.0,89.0,99.0,125.0,80.0,166.0,110.0,81.0,195.0,154.0,117.0,84.0,121.6867627785059,94.0,96.0,75.0,180.0,130.0,84.0,120.0,84.0,139.0,91.0,91.0,99.0,163.0,145.0,125.0,76.0,129.0,68.0,124.0,114.0,130.0,125.0,87.0,97.0,116.0,117.0,111.0,122.0,107.0,86.0,91.0,77.0,132.0,105.0,57.0,127.0,129.0,100.0,128.0,90.0,84.0,88.0,186.0,187.0,131.0,164.0,189.0,116.0,84.0,114.0,88.0,84.0,124.0,97.0,110.0,103.0,85.0,125.0,198.0,87.0,99.0,91.0,95.0,99.0,92.0,154.0,121.0,78.0,130.0,111.0,98.0,143.0,119.0,108.0,118.0,133.0,197.0,151.0,109.0,121.0,100.0,124.0,93.0,143.0,103.0,176.0,73.0,111.0,112.0,132.0,82.0,123.0,188.0,67.0,89.0,173.0,109.0,108.0,96.0,124.0,150.0,183.0,124.0,181.0,92.0,152.0,111.0,106.0,174.0,168.0,105.0,138.0,106.0,117.0,68.0,112.0,119.0,112.0,92.0,183.0,94.0,108.0,90.0,125.0,132.0,128.0,94.0,114.0,102.0,111.0,128.0,92.0,104.0,104.0,94.0,97.0,100.0,102.0,128.0,147.0,90.0,103.0,157.0,167.0,179.0,136.0,107.0,91.0,117.0,123.0,120.0,106.0,155.0,101.0,120.0,127.0,80.0,162.0,199.0,167.0,145.0,115.0,112.0,145.0,111.0,98.0,154.0,165.0,99.0,68.0,123.0,91.0,195.0,156.0,93.0,121.0,101.0,56.0,162.0,95.0,125.0,136.0,129.0,130.0,107.0,140.0,144.0,107.0,158.0,121.0,129.0,90.0,142.0,169.0,99.0,127.0,118.0,122.0,125.0,168.0,129.0,110.0,80.0,115.0,127.0,164.0,93.0,158.0,126.0,129.0,134.0,102.0,187.0,173.0,94.0,108.0,97.0,83.0,114.0,149.0,117.0,111.0,112.0,116.0,141.0,175.0,92.0,130.0,120.0,174.0,106.0,105.0,95.0,126.0,65.0,99.0,102.0,120.0,102.0,109.0,140.0,153.0,100.0,147.0,81.0,187.0,162.0,136.0,121.0,108.0,181.0,154.0,128.0,137.0,123.0,106.0,190.0,88.0,170.0,89.0,101.0,122.0,121.0,126.0,93.0],\"z\":[155.5482233502538,155.5482233502538,155.5482233502538,94.0,168.0,155.5482233502538,88.0,155.5482233502538,543.0,155.5482233502538,155.5482233502538,155.5482233502538,155.5482233502538,846.0,175.0,155.5482233502538,230.0,155.5482233502538,83.0,96.0,235.0,155.5482233502538,155.5482233502538,155.5482233502538,146.0,115.0,155.5482233502538,140.0,110.0,155.5482233502538,155.5482233502538,245.0,54.0,155.5482233502538,155.5482233502538,192.0,155.5482233502538,155.5482233502538,155.5482233502538,207.0,70.0,155.5482233502538,155.5482233502538,240.0,155.5482233502538,155.5482233502538,155.5482233502538,155.5482233502538,155.5482233502538,155.5482233502538,82.0,36.0,23.0,300.0,342.0,155.5482233502538,304.0,110.0,155.5482233502538,142.0,155.5482233502538,155.5482233502538,155.5482233502538,128.0,155.5482233502538,155.5482233502538,155.5482233502538,155.5482233502538,38.0,100.0,90.0,140.0,155.5482233502538,270.0,155.5482233502538,155.5482233502538,155.5482233502538,155.5482233502538,155.5482233502538,155.5482233502538,155.5482233502538,155.5482233502538,71.0,155.5482233502538,155.5482233502538,125.0,155.5482233502538,71.0,110.0,155.5482233502538,155.5482233502538,176.0,48.0,155.5482233502538,64.0,228.0,155.5482233502538,76.0,64.0,220.0,155.5482233502538,155.5482233502538,155.5482233502538,40.0,155.5482233502538,152.0,155.5482233502538,140.0,18.0,36.0,135.0,495.0,37.0,155.5482233502538,175.0,155.5482233502538,155.5482233502538,155.5482233502538,155.5482233502538,51.0,100.0,155.5482233502538,100.0,155.5482233502538,155.5482233502538,99.0,135.0,94.0,145.0,155.5482233502538,168.0,155.5482233502538,225.0,155.5482233502538,49.0,140.0,50.0,92.0,155.5482233502538,325.0,155.5482233502538,155.5482233502538,63.0,155.5482233502538,284.0,155.5482233502538,155.5482233502538,119.0,155.5482233502538,155.5482233502538,204.0,155.5482233502538,155.0,485.0,155.5482233502538,155.5482233502538,94.0,135.0,53.0,114.0,155.5482233502538,105.0,285.0,155.5482233502538,155.5482233502538,156.0,155.5482233502538,155.5482233502538,155.5482233502538,78.0,155.5482233502538,130.0,155.5482233502538,48.0,55.0,130.0,155.5482233502538,130.0,155.5482233502538,155.5482233502538,155.5482233502538,92.0,23.0,155.5482233502538,155.5482233502538,155.5482233502538,495.0,58.0,114.0,160.0,155.5482233502538,94.0,155.5482233502538,155.5482233502538,155.5482233502538,210.0,155.5482233502538,48.0,99.0,318.0,155.5482233502538,155.5482233502538,155.5482233502538,44.0,190.0,155.5482233502538,280.0,155.5482233502538,87.0,155.5482233502538,155.5482233502538,155.5482233502538,155.5482233502538,130.0,175.0,271.0,129.0,120.0,155.5482233502538,155.5482233502538,478.0,155.5482233502538,155.5482233502538,190.0,56.0,32.0,155.5482233502538,155.5482233502538,744.0,53.0,155.5482233502538,370.0,37.0,155.5482233502538,45.0,155.5482233502538,192.0,155.5482233502538,155.5482233502538,155.5482233502538,155.5482233502538,88.0,155.5482233502538,176.0,194.0,155.5482233502538,155.5482233502538,680.0,402.0,155.5482233502538,155.5482233502538,155.5482233502538,55.0,155.5482233502538,258.0,155.5482233502538,155.5482233502538,155.5482233502538,375.0,150.0,130.0,155.5482233502538,155.5482233502538,155.5482233502538,155.5482233502538,67.0,155.5482233502538,155.5482233502538,155.5482233502538,155.5482233502538,155.5482233502538,56.0,155.5482233502538,45.0,155.5482233502538,57.0,155.5482233502538,116.0,155.5482233502538,278.0,155.5482233502538,122.0,155.0,155.5482233502538,155.5482233502538,135.0,545.0,220.0,49.0,75.0,40.0,74.0,182.0,194.0,155.5482233502538,120.0,360.0,215.0,184.0,155.5482233502538,155.5482233502538,135.0,42.0,155.5482233502538,155.5482233502538,105.0,132.0,148.0,180.0,205.0,155.5482233502538,148.0,96.0,85.0,155.5482233502538,94.0,64.0,155.5482233502538,140.0,155.5482233502538,231.0,155.5482233502538,155.5482233502538,29.0,155.5482233502538,168.0,156.0,155.5482233502538,120.0,68.0,155.5482233502538,52.0,155.5482233502538,155.5482233502538,58.0,255.0,155.5482233502538,155.5482233502538,171.0,155.5482233502538,105.0,73.0,155.5482233502538,155.5482233502538,155.5482233502538,108.0,83.0,155.5482233502538,74.0,155.5482233502538,155.5482233502538,155.5482233502538,155.5482233502538,43.0,155.5482233502538,155.5482233502538,167.0,155.5482233502538,54.0,249.0,325.0,155.5482233502538,155.5482233502538,155.5482233502538,293.0,83.0,155.5482233502538,155.5482233502538,66.0,140.0,465.0,89.0,66.0,94.0,158.0,325.0,84.0,75.0,155.5482233502538,72.0,82.0,155.5482233502538,182.0,59.0,110.0,50.0,155.5482233502538,155.5482233502538,285.0,81.0,196.0,155.5482233502538,415.0,87.0,155.5482233502538,275.0,115.0,155.5482233502538,155.5482233502538,155.5482233502538,155.5482233502538,155.5482233502538,88.0,155.5482233502538,155.5482233502538,165.0,155.5482233502538,155.5482233502538,155.5482233502538,579.0,155.5482233502538,176.0,310.0,61.0,167.0,474.0,155.5482233502538,155.5482233502538,155.5482233502538,115.0,170.0,76.0,78.0,155.5482233502538,210.0,277.0,155.5482233502538,180.0,145.0,180.0,155.5482233502538,85.0,60.0,155.5482233502538,155.5482233502538,155.5482233502538,155.5482233502538,155.5482233502538,155.5482233502538,155.5482233502538,155.5482233502538,50.0,120.0,155.5482233502538,155.5482233502538,14.0,70.0,92.0,64.0,63.0,95.0,155.5482233502538,210.0,155.5482233502538,105.0,155.5482233502538,155.5482233502538,71.0,237.0,60.0,56.0,155.5482233502538,49.0,155.5482233502538,155.5482233502538,105.0,36.0,100.0,155.5482233502538,140.0,155.5482233502538,155.5482233502538,155.5482233502538,155.5482233502538,155.5482233502538,155.5482233502538,191.0,110.0,75.0,155.5482233502538,328.0,155.5482233502538,49.0,125.0,155.5482233502538,250.0,480.0,265.0,155.5482233502538,155.5482233502538,66.0,155.5482233502538,155.5482233502538,122.0,155.5482233502538,155.5482233502538,155.5482233502538,76.0,145.0,193.0,71.0,155.5482233502538,155.5482233502538,79.0,155.5482233502538,155.5482233502538,90.0,170.0,76.0,155.5482233502538,155.5482233502538,210.0,155.5482233502538,155.5482233502538,86.0,105.0,165.0,155.5482233502538,155.5482233502538,326.0,66.0,130.0,155.5482233502538,155.5482233502538,155.5482233502538,155.5482233502538,82.0,105.0,188.0,155.5482233502538,106.0,155.5482233502538,65.0,155.5482233502538,56.0,155.5482233502538,155.5482233502538,155.5482233502538,210.0,155.0,215.0,190.0,155.5482233502538,56.0,76.0,225.0,207.0,166.0,67.0,155.5482233502538,155.5482233502538,106.0,155.5482233502538,44.0,115.0,215.0,155.5482233502538,155.5482233502538,155.5482233502538,155.5482233502538,155.5482233502538,274.0,77.0,54.0,155.5482233502538,88.0,18.0,126.0,126.0,165.0,155.5482233502538,155.5482233502538,44.0,120.0,330.0,63.0,130.0,155.5482233502538,155.5482233502538,155.5482233502538,155.5482233502538,155.5482233502538,155.5482233502538,155.5482233502538,600.0,155.5482233502538,155.5482233502538,155.5482233502538,156.0,155.5482233502538,155.5482233502538,140.0,155.5482233502538,115.0,230.0,185.0,155.5482233502538,25.0,155.5482233502538,120.0,155.5482233502538,155.5482233502538,155.5482233502538,126.0,155.5482233502538,155.5482233502538,293.0,41.0,272.0,182.0,158.0,194.0,321.0,155.5482233502538,144.0,155.5482233502538,155.5482233502538,15.0,155.5482233502538,155.5482233502538,160.0,155.5482233502538,155.5482233502538,115.0,155.5482233502538,54.0,155.5482233502538,155.5482233502538,155.5482233502538,155.5482233502538,155.5482233502538,90.0,155.5482233502538,183.0,155.5482233502538,155.5482233502538,155.5482233502538,66.0,91.0,46.0,105.0,155.5482233502538,155.5482233502538,155.5482233502538,152.0,440.0,144.0,159.0,130.0,155.5482233502538,100.0,106.0,77.0,155.5482233502538,135.0,540.0,90.0,200.0,155.5482233502538,70.0,155.5482233502538,155.5482233502538,231.0,130.0,155.5482233502538,132.0,155.5482233502538,155.5482233502538,190.0,100.0,168.0,155.5482233502538,49.0,240.0,155.5482233502538,155.5482233502538,155.5482233502538,155.5482233502538,155.5482233502538,265.0,45.0,155.5482233502538,105.0,155.5482233502538,155.5482233502538,205.0,155.5482233502538,155.5482233502538,180.0,180.0,155.5482233502538,155.5482233502538,95.0,125.0,155.5482233502538,480.0,125.0,155.5482233502538,155.0,155.5482233502538,200.0,155.5482233502538,155.5482233502538,155.5482233502538,100.0,155.5482233502538,155.5482233502538,335.0,155.5482233502538,160.0,387.0,22.0,155.5482233502538,291.0,155.5482233502538,392.0,185.0,155.5482233502538,178.0,155.5482233502538,155.5482233502538,200.0,127.0,105.0,155.5482233502538,155.5482233502538,180.0,155.5482233502538,155.5482233502538,155.5482233502538,79.0,155.5482233502538,120.0,165.0,155.5482233502538,155.5482233502538,120.0,155.5482233502538,160.0,155.5482233502538,150.0,94.0,116.0,155.5482233502538,140.0,105.0,155.5482233502538,57.0,200.0,155.5482233502538,155.5482233502538,74.0,155.5482233502538,510.0,155.5482233502538,110.0,155.5482233502538,155.5482233502538,155.5482233502538,155.5482233502538,16.0,155.5482233502538,155.5482233502538,180.0,155.5482233502538,112.0,155.5482233502538,155.5482233502538],\"type\":\"scatter3d\"}],                        {\"template\":{\"data\":{\"barpolar\":[{\"marker\":{\"line\":{\"color\":\"rgb(17,17,17)\",\"width\":0.5},\"pattern\":{\"fillmode\":\"overlay\",\"size\":10,\"solidity\":0.2}},\"type\":\"barpolar\"}],\"bar\":[{\"error_x\":{\"color\":\"#f2f5fa\"},\"error_y\":{\"color\":\"#f2f5fa\"},\"marker\":{\"line\":{\"color\":\"rgb(17,17,17)\",\"width\":0.5},\"pattern\":{\"fillmode\":\"overlay\",\"size\":10,\"solidity\":0.2}},\"type\":\"bar\"}],\"carpet\":[{\"aaxis\":{\"endlinecolor\":\"#A2B1C6\",\"gridcolor\":\"#506784\",\"linecolor\":\"#506784\",\"minorgridcolor\":\"#506784\",\"startlinecolor\":\"#A2B1C6\"},\"baxis\":{\"endlinecolor\":\"#A2B1C6\",\"gridcolor\":\"#506784\",\"linecolor\":\"#506784\",\"minorgridcolor\":\"#506784\",\"startlinecolor\":\"#A2B1C6\"},\"type\":\"carpet\"}],\"choropleth\":[{\"colorbar\":{\"outlinewidth\":0,\"ticks\":\"\"},\"type\":\"choropleth\"}],\"contourcarpet\":[{\"colorbar\":{\"outlinewidth\":0,\"ticks\":\"\"},\"type\":\"contourcarpet\"}],\"contour\":[{\"colorbar\":{\"outlinewidth\":0,\"ticks\":\"\"},\"colorscale\":[[0.0,\"#0d0887\"],[0.1111111111111111,\"#46039f\"],[0.2222222222222222,\"#7201a8\"],[0.3333333333333333,\"#9c179e\"],[0.4444444444444444,\"#bd3786\"],[0.5555555555555556,\"#d8576b\"],[0.6666666666666666,\"#ed7953\"],[0.7777777777777778,\"#fb9f3a\"],[0.8888888888888888,\"#fdca26\"],[1.0,\"#f0f921\"]],\"type\":\"contour\"}],\"heatmapgl\":[{\"colorbar\":{\"outlinewidth\":0,\"ticks\":\"\"},\"colorscale\":[[0.0,\"#0d0887\"],[0.1111111111111111,\"#46039f\"],[0.2222222222222222,\"#7201a8\"],[0.3333333333333333,\"#9c179e\"],[0.4444444444444444,\"#bd3786\"],[0.5555555555555556,\"#d8576b\"],[0.6666666666666666,\"#ed7953\"],[0.7777777777777778,\"#fb9f3a\"],[0.8888888888888888,\"#fdca26\"],[1.0,\"#f0f921\"]],\"type\":\"heatmapgl\"}],\"heatmap\":[{\"colorbar\":{\"outlinewidth\":0,\"ticks\":\"\"},\"colorscale\":[[0.0,\"#0d0887\"],[0.1111111111111111,\"#46039f\"],[0.2222222222222222,\"#7201a8\"],[0.3333333333333333,\"#9c179e\"],[0.4444444444444444,\"#bd3786\"],[0.5555555555555556,\"#d8576b\"],[0.6666666666666666,\"#ed7953\"],[0.7777777777777778,\"#fb9f3a\"],[0.8888888888888888,\"#fdca26\"],[1.0,\"#f0f921\"]],\"type\":\"heatmap\"}],\"histogram2dcontour\":[{\"colorbar\":{\"outlinewidth\":0,\"ticks\":\"\"},\"colorscale\":[[0.0,\"#0d0887\"],[0.1111111111111111,\"#46039f\"],[0.2222222222222222,\"#7201a8\"],[0.3333333333333333,\"#9c179e\"],[0.4444444444444444,\"#bd3786\"],[0.5555555555555556,\"#d8576b\"],[0.6666666666666666,\"#ed7953\"],[0.7777777777777778,\"#fb9f3a\"],[0.8888888888888888,\"#fdca26\"],[1.0,\"#f0f921\"]],\"type\":\"histogram2dcontour\"}],\"histogram2d\":[{\"colorbar\":{\"outlinewidth\":0,\"ticks\":\"\"},\"colorscale\":[[0.0,\"#0d0887\"],[0.1111111111111111,\"#46039f\"],[0.2222222222222222,\"#7201a8\"],[0.3333333333333333,\"#9c179e\"],[0.4444444444444444,\"#bd3786\"],[0.5555555555555556,\"#d8576b\"],[0.6666666666666666,\"#ed7953\"],[0.7777777777777778,\"#fb9f3a\"],[0.8888888888888888,\"#fdca26\"],[1.0,\"#f0f921\"]],\"type\":\"histogram2d\"}],\"histogram\":[{\"marker\":{\"pattern\":{\"fillmode\":\"overlay\",\"size\":10,\"solidity\":0.2}},\"type\":\"histogram\"}],\"mesh3d\":[{\"colorbar\":{\"outlinewidth\":0,\"ticks\":\"\"},\"type\":\"mesh3d\"}],\"parcoords\":[{\"line\":{\"colorbar\":{\"outlinewidth\":0,\"ticks\":\"\"}},\"type\":\"parcoords\"}],\"pie\":[{\"automargin\":true,\"type\":\"pie\"}],\"scatter3d\":[{\"line\":{\"colorbar\":{\"outlinewidth\":0,\"ticks\":\"\"}},\"marker\":{\"colorbar\":{\"outlinewidth\":0,\"ticks\":\"\"}},\"type\":\"scatter3d\"}],\"scattercarpet\":[{\"marker\":{\"colorbar\":{\"outlinewidth\":0,\"ticks\":\"\"}},\"type\":\"scattercarpet\"}],\"scattergeo\":[{\"marker\":{\"colorbar\":{\"outlinewidth\":0,\"ticks\":\"\"}},\"type\":\"scattergeo\"}],\"scattergl\":[{\"marker\":{\"line\":{\"color\":\"#283442\"}},\"type\":\"scattergl\"}],\"scattermapbox\":[{\"marker\":{\"colorbar\":{\"outlinewidth\":0,\"ticks\":\"\"}},\"type\":\"scattermapbox\"}],\"scatterpolargl\":[{\"marker\":{\"colorbar\":{\"outlinewidth\":0,\"ticks\":\"\"}},\"type\":\"scatterpolargl\"}],\"scatterpolar\":[{\"marker\":{\"colorbar\":{\"outlinewidth\":0,\"ticks\":\"\"}},\"type\":\"scatterpolar\"}],\"scatter\":[{\"marker\":{\"line\":{\"color\":\"#283442\"}},\"type\":\"scatter\"}],\"scatterternary\":[{\"marker\":{\"colorbar\":{\"outlinewidth\":0,\"ticks\":\"\"}},\"type\":\"scatterternary\"}],\"surface\":[{\"colorbar\":{\"outlinewidth\":0,\"ticks\":\"\"},\"colorscale\":[[0.0,\"#0d0887\"],[0.1111111111111111,\"#46039f\"],[0.2222222222222222,\"#7201a8\"],[0.3333333333333333,\"#9c179e\"],[0.4444444444444444,\"#bd3786\"],[0.5555555555555556,\"#d8576b\"],[0.6666666666666666,\"#ed7953\"],[0.7777777777777778,\"#fb9f3a\"],[0.8888888888888888,\"#fdca26\"],[1.0,\"#f0f921\"]],\"type\":\"surface\"}],\"table\":[{\"cells\":{\"fill\":{\"color\":\"#506784\"},\"line\":{\"color\":\"rgb(17,17,17)\"}},\"header\":{\"fill\":{\"color\":\"#2a3f5f\"},\"line\":{\"color\":\"rgb(17,17,17)\"}},\"type\":\"table\"}]},\"layout\":{\"annotationdefaults\":{\"arrowcolor\":\"#f2f5fa\",\"arrowhead\":0,\"arrowwidth\":1},\"autotypenumbers\":\"strict\",\"coloraxis\":{\"colorbar\":{\"outlinewidth\":0,\"ticks\":\"\"}},\"colorscale\":{\"diverging\":[[0,\"#8e0152\"],[0.1,\"#c51b7d\"],[0.2,\"#de77ae\"],[0.3,\"#f1b6da\"],[0.4,\"#fde0ef\"],[0.5,\"#f7f7f7\"],[0.6,\"#e6f5d0\"],[0.7,\"#b8e186\"],[0.8,\"#7fbc41\"],[0.9,\"#4d9221\"],[1,\"#276419\"]],\"sequential\":[[0.0,\"#0d0887\"],[0.1111111111111111,\"#46039f\"],[0.2222222222222222,\"#7201a8\"],[0.3333333333333333,\"#9c179e\"],[0.4444444444444444,\"#bd3786\"],[0.5555555555555556,\"#d8576b\"],[0.6666666666666666,\"#ed7953\"],[0.7777777777777778,\"#fb9f3a\"],[0.8888888888888888,\"#fdca26\"],[1.0,\"#f0f921\"]],\"sequentialminus\":[[0.0,\"#0d0887\"],[0.1111111111111111,\"#46039f\"],[0.2222222222222222,\"#7201a8\"],[0.3333333333333333,\"#9c179e\"],[0.4444444444444444,\"#bd3786\"],[0.5555555555555556,\"#d8576b\"],[0.6666666666666666,\"#ed7953\"],[0.7777777777777778,\"#fb9f3a\"],[0.8888888888888888,\"#fdca26\"],[1.0,\"#f0f921\"]]},\"colorway\":[\"#636efa\",\"#EF553B\",\"#00cc96\",\"#ab63fa\",\"#FFA15A\",\"#19d3f3\",\"#FF6692\",\"#B6E880\",\"#FF97FF\",\"#FECB52\"],\"font\":{\"color\":\"#f2f5fa\"},\"geo\":{\"bgcolor\":\"rgb(17,17,17)\",\"lakecolor\":\"rgb(17,17,17)\",\"landcolor\":\"rgb(17,17,17)\",\"showlakes\":true,\"showland\":true,\"subunitcolor\":\"#506784\"},\"hoverlabel\":{\"align\":\"left\"},\"hovermode\":\"closest\",\"mapbox\":{\"style\":\"dark\"},\"paper_bgcolor\":\"rgb(17,17,17)\",\"plot_bgcolor\":\"rgb(17,17,17)\",\"polar\":{\"angularaxis\":{\"gridcolor\":\"#506784\",\"linecolor\":\"#506784\",\"ticks\":\"\"},\"bgcolor\":\"rgb(17,17,17)\",\"radialaxis\":{\"gridcolor\":\"#506784\",\"linecolor\":\"#506784\",\"ticks\":\"\"}},\"scene\":{\"xaxis\":{\"backgroundcolor\":\"rgb(17,17,17)\",\"gridcolor\":\"#506784\",\"gridwidth\":2,\"linecolor\":\"#506784\",\"showbackground\":true,\"ticks\":\"\",\"zerolinecolor\":\"#C8D4E3\"},\"yaxis\":{\"backgroundcolor\":\"rgb(17,17,17)\",\"gridcolor\":\"#506784\",\"gridwidth\":2,\"linecolor\":\"#506784\",\"showbackground\":true,\"ticks\":\"\",\"zerolinecolor\":\"#C8D4E3\"},\"zaxis\":{\"backgroundcolor\":\"rgb(17,17,17)\",\"gridcolor\":\"#506784\",\"gridwidth\":2,\"linecolor\":\"#506784\",\"showbackground\":true,\"ticks\":\"\",\"zerolinecolor\":\"#C8D4E3\"}},\"shapedefaults\":{\"line\":{\"color\":\"#f2f5fa\"}},\"sliderdefaults\":{\"bgcolor\":\"#C8D4E3\",\"bordercolor\":\"rgb(17,17,17)\",\"borderwidth\":1,\"tickwidth\":0},\"ternary\":{\"aaxis\":{\"gridcolor\":\"#506784\",\"linecolor\":\"#506784\",\"ticks\":\"\"},\"baxis\":{\"gridcolor\":\"#506784\",\"linecolor\":\"#506784\",\"ticks\":\"\"},\"bgcolor\":\"rgb(17,17,17)\",\"caxis\":{\"gridcolor\":\"#506784\",\"linecolor\":\"#506784\",\"ticks\":\"\"}},\"title\":{\"x\":0.05},\"updatemenudefaults\":{\"bgcolor\":\"#506784\",\"borderwidth\":0},\"xaxis\":{\"automargin\":true,\"gridcolor\":\"#283442\",\"linecolor\":\"#506784\",\"ticks\":\"\",\"title\":{\"standoff\":15},\"zerolinecolor\":\"#283442\",\"zerolinewidth\":2},\"yaxis\":{\"automargin\":true,\"gridcolor\":\"#283442\",\"linecolor\":\"#506784\",\"ticks\":\"\",\"title\":{\"standoff\":15},\"zerolinecolor\":\"#283442\",\"zerolinewidth\":2}}},\"scene\":{\"domain\":{\"x\":[0.0,1.0],\"y\":[0.0,1.0]},\"xaxis\":{\"title\":{\"text\":\"Age\"}},\"yaxis\":{\"title\":{\"text\":\"Glucose\"}},\"zaxis\":{\"title\":{\"text\":\"Insulin\"}}},\"coloraxis\":{\"colorbar\":{\"title\":{\"text\":\"Outcome\"}},\"colorscale\":[[0.0,\"#0d0887\"],[0.1111111111111111,\"#46039f\"],[0.2222222222222222,\"#7201a8\"],[0.3333333333333333,\"#9c179e\"],[0.4444444444444444,\"#bd3786\"],[0.5555555555555556,\"#d8576b\"],[0.6666666666666666,\"#ed7953\"],[0.7777777777777778,\"#fb9f3a\"],[0.8888888888888888,\"#fdca26\"],[1.0,\"#f0f921\"]]},\"legend\":{\"tracegroupgap\":0},\"margin\":{\"t\":60}},                        {\"responsive\": true}                    ).then(function(){\n",
              "                            \n",
              "var gd = document.getElementById('46816c0d-60c2-462f-8ed3-92849de150ca');\n",
              "var x = new MutationObserver(function (mutations, observer) {{\n",
              "        var display = window.getComputedStyle(gd).display;\n",
              "        if (!display || display === 'none') {{\n",
              "            console.log([gd, 'removed!']);\n",
              "            Plotly.purge(gd);\n",
              "            observer.disconnect();\n",
              "        }}\n",
              "}});\n",
              "\n",
              "// Listen for the removal of the full notebook cells\n",
              "var notebookContainer = gd.closest('#notebook-container');\n",
              "if (notebookContainer) {{\n",
              "    x.observe(notebookContainer, {childList: true});\n",
              "}}\n",
              "\n",
              "// Listen for the clearing of the current output cell\n",
              "var outputEl = gd.closest('.output');\n",
              "if (outputEl) {{\n",
              "    x.observe(outputEl, {childList: true});\n",
              "}}\n",
              "\n",
              "                        })                };                            </script>        </div>\n",
              "</body>\n",
              "</html>"
            ]
          },
          "metadata": {}
        }
      ]
    },
    {
      "cell_type": "code",
      "source": [
        "ax= px.parallel_coordinates(dt, color=\"Outcome\",template= \"plotly_dark\")\n",
        "ax.show()"
      ],
      "metadata": {
        "colab": {
          "base_uri": "https://localhost:8080/",
          "height": 542
        },
        "id": "Rm5okLSQdiij",
        "outputId": "11ef5f7f-151c-4d42-976b-61df5124c56a"
      },
      "execution_count": 312,
      "outputs": [
        {
          "output_type": "display_data",
          "data": {
            "text/html": [
              "<html>\n",
              "<head><meta charset=\"utf-8\" /></head>\n",
              "<body>\n",
              "    <div>            <script src=\"https://cdnjs.cloudflare.com/ajax/libs/mathjax/2.7.5/MathJax.js?config=TeX-AMS-MML_SVG\"></script><script type=\"text/javascript\">if (window.MathJax) {MathJax.Hub.Config({SVG: {font: \"STIX-Web\"}});}</script>                <script type=\"text/javascript\">window.PlotlyConfig = {MathJaxConfig: 'local'};</script>\n",
              "        <script src=\"https://cdn.plot.ly/plotly-2.8.3.min.js\"></script>                <div id=\"04767e39-a493-4860-ac6b-f21eceea98fe\" class=\"plotly-graph-div\" style=\"height:525px; width:100%;\"></div>            <script type=\"text/javascript\">                                    window.PLOTLYENV=window.PLOTLYENV || {};                                    if (document.getElementById(\"04767e39-a493-4860-ac6b-f21eceea98fe\")) {                    Plotly.newPlot(                        \"04767e39-a493-4860-ac6b-f21eceea98fe\",                        [{\"dimensions\":[{\"label\":\"BMI\",\"values\":[33.6,26.6,23.3,28.1,43.1,25.6,31.0,35.3,30.5,32.457463672391015,37.6,38.0,27.1,30.1,25.8,30.0,45.8,29.6,43.3,34.6,39.3,35.4,39.8,29.0,36.6,31.1,39.4,23.2,22.2,34.1,36.0,31.6,24.8,19.9,27.6,24.0,33.2,32.9,38.2,37.1,34.0,40.2,22.7,45.4,27.4,42.0,29.7,28.0,39.1,32.457463672391015,19.4,24.2,24.4,33.7,34.7,23.0,37.7,46.8,40.5,41.5,32.457463672391015,32.9,25.0,25.4,32.8,29.0,32.5,42.7,19.6,28.9,32.9,28.6,43.4,35.1,32.0,24.7,32.6,37.7,43.2,25.0,22.4,32.457463672391015,29.3,24.6,48.8,32.4,36.6,38.5,37.1,26.5,19.1,32.0,46.7,23.8,24.7,33.9,31.6,20.4,28.7,49.7,39.0,26.1,22.5,26.6,39.6,28.7,22.4,29.5,34.3,37.4,33.3,34.0,31.2,34.0,30.5,31.2,34.0,33.7,28.2,23.2,53.2,34.2,33.6,26.8,33.3,55.0,42.9,33.3,34.5,27.9,29.7,33.3,34.5,38.3,21.1,33.8,30.8,28.7,31.2,36.9,21.1,39.5,32.5,32.4,32.8,32.457463672391015,32.8,30.5,33.7,27.3,37.4,21.9,34.3,40.6,47.9,50.0,24.6,25.2,29.0,40.9,29.7,37.2,44.2,29.7,31.6,29.9,32.5,29.6,31.9,28.4,30.8,35.4,28.9,43.5,29.7,32.7,31.2,67.1,45.0,39.1,23.2,34.9,27.7,26.8,27.6,35.9,30.1,32.0,27.9,31.6,22.6,33.1,30.4,52.3,24.4,39.4,24.3,22.9,34.8,30.9,31.0,40.1,27.3,20.4,37.7,23.9,37.5,37.7,33.2,35.5,27.7,42.8,34.2,42.6,34.2,41.8,35.8,30.0,29.0,37.8,34.6,31.6,25.2,28.8,23.6,34.6,35.7,37.2,36.7,45.2,44.0,46.2,25.4,35.0,29.7,43.6,35.9,44.1,30.8,18.4,29.2,33.1,25.6,27.1,38.2,30.0,31.2,52.3,35.4,30.1,31.2,28.0,24.4,35.8,27.6,33.6,30.1,28.7,25.9,33.3,30.9,30.0,32.1,32.4,32.0,33.6,36.3,40.0,25.1,27.5,45.6,25.2,23.0,33.2,34.2,40.5,26.5,27.8,24.9,25.3,37.9,35.9,32.4,30.4,27.0,26.0,38.7,45.6,20.8,36.1,36.9,36.6,43.3,40.5,21.9,35.5,28.0,30.7,36.6,23.6,32.3,31.6,35.8,52.9,21.0,39.7,25.5,24.8,30.5,32.9,26.2,39.4,26.6,29.5,35.9,34.1,19.3,30.5,38.1,23.5,27.5,31.6,27.4,26.8,35.7,25.6,35.1,35.1,45.5,30.8,23.1,32.7,43.3,23.6,23.9,47.9,33.8,31.2,34.2,39.9,25.9,25.9,32.0,34.7,36.8,38.5,28.7,23.5,21.8,41.0,42.2,31.2,34.4,27.2,42.7,30.4,33.3,39.9,35.3,36.5,31.2,29.8,39.2,38.5,34.9,34.0,27.6,21.0,27.5,32.8,38.4,32.457463672391015,35.8,34.9,36.2,39.2,25.2,37.2,48.3,43.4,30.8,20.0,25.4,25.1,24.3,22.3,32.3,43.3,32.0,31.6,32.0,45.7,23.7,22.1,32.9,27.7,24.7,34.3,21.1,34.9,32.0,24.2,35.0,31.6,32.9,42.1,28.9,21.9,25.9,42.4,35.7,34.4,42.4,26.2,34.6,35.7,27.2,38.5,18.2,26.4,45.3,26.0,40.6,30.8,42.9,37.0,32.457463672391015,34.1,40.6,35.0,22.2,30.4,30.0,25.6,24.5,42.4,37.4,29.9,18.2,36.8,34.3,32.2,33.2,30.5,29.7,59.4,25.3,36.5,33.6,30.5,21.2,28.9,39.9,19.6,37.8,33.6,26.7,30.2,37.6,25.9,20.8,21.8,35.3,27.6,24.0,21.8,27.8,36.8,30.0,46.1,41.3,33.2,38.8,29.9,28.9,27.3,33.7,23.8,25.9,28.0,35.5,35.2,27.8,38.2,44.2,42.3,40.7,46.5,25.6,26.1,36.8,33.5,32.8,28.9,32.457463672391015,26.6,26.0,30.1,25.1,29.3,25.2,37.2,39.0,33.3,37.3,33.3,36.5,28.6,30.4,25.0,29.7,22.1,24.2,27.3,25.6,31.6,30.3,37.6,32.8,19.6,25.0,33.2,32.457463672391015,34.2,31.6,21.8,18.2,26.3,30.8,24.6,29.8,45.3,41.3,29.8,33.3,32.9,29.6,21.7,36.3,36.4,39.4,32.4,34.9,39.5,32.0,34.5,43.6,33.1,32.8,28.5,27.4,31.9,27.8,29.9,36.9,25.5,38.1,27.8,46.2,30.1,33.8,41.3,37.6,26.9,32.4,26.1,38.6,32.0,31.3,34.3,32.5,22.6,29.5,34.7,30.1,35.5,24.0,42.9,27.0,34.7,42.1,25.0,26.5,38.7,28.7,22.5,34.9,24.3,33.3,21.1,46.8,39.4,34.4,28.5,33.6,32.0,45.3,27.8,36.8,23.1,27.1,23.7,27.8,35.2,28.4,35.8,40.0,19.5,41.5,24.0,30.9,32.9,38.2,32.5,36.1,25.8,28.7,20.1,28.2,32.4,38.4,24.2,40.8,43.5,30.8,37.7,24.7,32.4,34.6,24.7,27.4,34.5,26.2,27.5,25.9,31.2,28.8,31.6,40.9,19.5,29.3,34.3,29.5,28.0,27.6,39.4,23.4,37.8,28.3,26.4,25.2,33.8,34.1,26.8,34.2,38.7,21.8,38.9,39.0,34.2,27.7,42.9,37.6,37.9,33.7,34.8,32.5,27.5,34.0,30.9,33.6,25.4,35.5,57.3,35.6,30.9,24.8,35.3,36.0,24.2,24.2,49.6,44.6,32.3,32.457463672391015,33.2,23.1,28.3,24.1,46.1,24.6,42.3,39.1,38.5,23.5,30.4,29.9,25.0,34.5,44.5,35.9,27.6,35.0,38.5,28.4,39.8,32.457463672391015,34.4,32.8,38.0,31.2,29.6,41.2,26.4,29.5,33.9,33.8,23.1,35.5,35.6,29.3,38.1,29.3,39.1,32.8,39.4,36.1,32.4,22.9,30.1,28.4,28.4,44.5,29.0,23.3,35.4,27.4,32.0,36.6,39.5,42.3,30.8,28.5,32.7,40.6,30.0,49.3,46.3,36.4,24.3,31.2,39.0,26.0,43.3,32.4,36.5,32.0,36.3,37.5,35.5,28.4,44.0,22.5,32.9,36.8,26.2,30.1,30.4]},{\"label\":\"DiabetesPedigreeFunction\",\"values\":[0.627,0.351,0.672,0.167,2.288,0.201,0.248,0.134,0.158,0.232,0.191,0.537,1.441,0.398,0.587,0.484,0.551,0.254,0.183,0.529,0.704,0.388,0.451,0.263,0.254,0.205,0.257,0.487,0.245,0.337,0.546,0.851,0.267,0.188,0.512,0.966,0.42,0.665,0.503,1.39,0.271,0.696,0.235,0.721,0.294,1.893,0.564,0.586,0.344,0.305,0.491,0.526,0.342,0.467,0.718,0.248,0.254,0.962,1.781,0.173,0.304,0.27,0.587,0.699,0.258,0.203,0.855,0.845,0.334,0.189,0.867,0.411,0.583,0.231,0.396,0.14,0.391,0.37,0.27,0.307,0.14,0.102,0.767,0.237,0.227,0.698,0.178,0.324,0.153,0.165,0.258,0.443,0.261,0.277,0.761,0.255,0.13,0.323,0.356,0.325,1.222,0.179,0.262,0.283,0.93,0.801,0.207,0.287,0.336,0.247,0.199,0.543,0.192,0.391,0.588,0.539,0.22,0.654,0.443,0.223,0.759,0.26,0.404,0.186,0.278,0.496,0.452,0.261,0.403,0.741,0.361,1.114,0.356,0.457,0.647,0.088,0.597,0.532,0.703,0.159,0.268,0.286,0.318,0.272,0.237,0.572,0.096,1.4,0.218,0.085,0.399,0.432,1.189,0.687,0.137,0.337,0.637,0.833,0.229,0.817,0.294,0.204,0.167,0.368,0.743,0.722,0.256,0.709,0.471,0.495,0.18,0.542,0.773,0.678,0.37,0.719,0.382,0.319,0.19,0.956,0.084,0.725,0.299,0.268,0.244,0.745,0.615,1.321,0.64,0.361,0.142,0.374,0.383,0.578,0.136,0.395,0.187,0.678,0.905,0.15,0.874,0.236,0.787,0.235,0.324,0.407,0.605,0.151,0.289,0.355,0.29,0.375,0.164,0.431,0.26,0.742,0.514,0.464,1.224,0.261,1.072,0.805,0.209,0.687,0.666,0.101,0.198,0.652,2.329,0.089,0.645,0.238,0.583,0.394,0.293,0.479,0.586,0.686,0.831,0.582,0.192,0.446,0.402,1.318,0.329,1.213,0.258,0.427,0.282,0.143,0.38,0.284,0.249,0.238,0.926,0.543,0.557,0.092,0.655,1.353,0.299,0.761,0.612,0.2,0.226,0.997,0.933,1.101,0.078,0.24,1.136,0.128,0.254,0.422,0.251,0.677,0.296,0.454,0.744,0.881,0.334,0.28,0.262,0.165,0.259,0.647,0.619,0.808,0.34,0.263,0.434,0.757,1.224,0.613,0.254,0.692,0.337,0.52,0.412,0.84,0.839,0.422,0.156,0.209,0.207,0.215,0.326,0.143,1.391,0.875,0.313,0.605,0.433,0.626,1.127,0.315,0.284,0.345,0.15,0.129,0.527,0.197,0.254,0.731,0.148,0.123,0.692,0.2,0.127,0.122,1.476,0.166,0.282,0.137,0.26,0.259,0.932,0.343,0.893,0.331,0.472,0.673,0.389,0.29,0.485,0.349,0.654,0.187,0.279,0.346,0.237,0.252,0.243,0.58,0.559,0.302,0.962,0.569,0.378,0.875,0.583,0.207,0.305,0.52,0.385,0.499,0.368,0.252,0.306,0.234,2.137,1.731,0.545,0.225,0.816,0.528,0.299,0.509,0.238,1.021,0.821,0.236,0.947,1.268,0.221,0.205,0.66,0.239,0.452,0.949,0.444,0.34,0.389,0.463,0.803,1.6,0.944,0.196,0.389,0.241,0.161,0.151,0.286,0.28,0.135,0.52,0.376,0.336,1.191,0.702,0.674,0.528,1.076,0.256,0.534,0.258,1.095,0.554,0.624,0.219,0.507,0.561,0.496,0.421,0.516,0.264,0.256,0.328,0.284,0.233,0.108,0.551,0.527,0.167,1.138,0.205,0.244,0.434,0.147,0.727,0.435,0.497,0.23,0.955,0.38,2.42,0.658,0.33,0.51,0.285,0.415,0.542,0.381,0.832,0.498,0.212,0.687,0.364,1.001,0.46,0.733,0.416,0.705,0.258,1.022,0.452,0.269,0.6,0.183,0.571,0.607,0.17,0.259,0.21,0.126,0.231,0.711,0.466,0.162,0.419,0.344,0.197,0.306,0.233,0.63,0.365,0.536,1.159,0.294,0.551,0.629,0.292,0.145,1.144,0.174,0.304,0.292,0.547,0.163,0.839,0.313,0.267,0.727,0.738,0.238,0.263,0.314,0.692,0.968,0.409,0.297,0.207,0.2,0.525,0.154,0.268,0.771,0.304,0.18,0.582,0.187,0.305,0.189,0.652,0.151,0.444,0.299,0.107,0.493,0.66,0.717,0.686,0.917,0.501,1.251,0.302,0.197,0.735,0.804,0.968,0.661,0.549,0.825,0.159,0.365,0.423,1.034,0.16,0.341,0.68,0.204,0.591,0.247,0.422,0.471,0.161,0.218,0.237,0.126,0.3,0.121,0.502,0.401,0.497,0.601,0.748,0.412,0.085,0.338,0.203,0.27,0.268,0.43,0.198,0.892,0.28,0.813,0.693,0.245,0.575,0.371,0.206,0.259,0.19,0.687,0.417,0.129,0.249,1.154,0.342,0.925,0.175,0.402,1.699,0.733,0.682,0.194,0.559,0.088,0.407,0.4,0.19,0.1,0.692,0.212,0.514,1.258,0.482,0.27,0.138,0.292,0.593,0.787,0.878,0.557,0.207,0.157,0.257,1.282,0.141,0.246,1.698,1.461,0.347,0.158,0.362,0.206,0.393,0.144,0.148,0.732,0.238,0.343,0.115,0.167,0.465,0.153,0.649,0.871,0.149,0.695,0.303,0.178,0.61,0.73,0.134,0.447,0.455,0.26,0.133,0.234,0.466,0.269,0.455,0.142,0.24,0.155,1.162,0.19,1.292,0.182,1.394,0.165,0.637,0.245,0.217,0.235,0.141,0.43,0.164,0.631,0.551,0.285,0.88,0.587,0.328,0.23,0.263,0.127,0.614,0.332,0.364,0.366,0.536,0.64,0.591,0.314,0.181,0.828,0.335,0.856,0.257,0.886,0.439,0.191,0.128,0.268,0.253,0.598,0.904,0.483,0.565,0.905,0.304,0.118,0.177,0.261,0.176,0.148,0.674,0.295,0.439,0.441,0.352,0.121,0.826,0.97,0.595,0.415,0.378,0.317,0.289,0.349,0.251,0.265,0.236,0.496,0.433,0.326,0.141,0.323,0.259,0.646,0.426,0.56,0.284,0.515,0.6,0.453,0.293,0.785,0.4,0.219,0.734,1.174,0.488,0.358,1.096,0.408,0.178,1.182,0.261,0.223,0.222,0.443,1.057,0.391,0.258,0.197,0.278,0.766,0.403,0.142,0.171,0.34,0.245,0.349,0.315]},{\"label\":\"Outcome\",\"values\":[1,0,1,0,1,0,1,0,1,1,0,1,0,1,1,1,1,1,0,1,0,0,1,1,1,1,1,0,0,0,0,1,0,0,0,0,0,1,1,1,0,0,0,1,0,1,0,0,1,0,0,0,0,1,0,0,1,0,0,0,0,1,0,0,1,0,1,0,0,0,1,0,1,0,0,0,0,0,1,0,0,0,0,0,1,0,0,0,1,0,0,0,0,1,0,0,0,0,0,1,1,0,0,0,0,0,0,0,0,1,1,1,0,0,1,1,1,0,0,0,1,0,0,0,1,1,0,0,1,1,1,1,1,0,0,0,0,0,0,0,0,0,0,1,0,0,0,0,0,0,0,0,1,0,1,1,0,0,0,1,0,0,0,0,1,1,0,0,0,0,1,1,0,0,0,1,0,1,0,1,0,0,0,0,0,1,1,1,1,1,0,0,1,1,0,1,0,1,1,1,0,0,0,0,0,0,1,1,0,1,0,0,0,1,1,1,1,0,1,1,1,1,0,0,0,0,0,1,0,0,1,1,0,0,0,1,1,1,1,0,0,0,1,1,0,1,0,0,0,0,0,0,0,0,1,1,0,0,0,1,0,1,0,0,1,0,1,0,0,1,1,0,0,0,0,0,1,0,0,0,1,0,0,1,1,0,0,1,0,0,0,1,1,1,0,0,1,0,1,0,1,1,0,1,0,0,1,0,1,1,0,0,1,0,1,0,0,1,0,1,0,1,1,1,0,0,1,0,1,0,0,0,1,0,0,0,0,1,1,1,0,0,0,0,0,0,0,0,0,1,0,0,0,0,0,1,1,1,0,1,1,0,0,1,0,0,1,0,0,1,1,0,0,0,0,1,0,0,1,0,0,0,0,0,0,0,1,1,1,0,0,1,0,0,1,0,0,1,0,1,1,0,1,0,1,0,1,0,1,1,0,0,0,0,1,1,0,1,0,1,0,0,0,0,1,1,0,1,0,1,0,0,0,0,0,1,0,0,0,0,1,0,0,1,1,1,0,0,1,0,0,1,0,0,0,1,0,0,1,0,0,0,0,0,0,0,0,0,1,0,0,0,0,0,0,0,1,0,0,0,1,0,0,0,1,1,0,0,0,0,0,0,0,1,0,0,0,0,1,0,0,0,1,0,0,0,1,0,0,0,1,0,0,0,0,1,1,0,0,0,0,0,0,1,0,0,0,0,0,0,0,0,0,0,0,1,0,0,0,1,1,1,1,0,0,1,1,0,0,0,0,0,0,0,0,0,0,0,0,0,1,1,0,0,0,0,0,0,0,1,0,0,0,0,0,0,0,1,0,1,1,0,0,0,1,0,1,0,1,0,1,0,1,0,0,1,0,0,1,0,0,0,0,1,1,0,1,0,0,0,0,1,1,0,1,0,0,0,1,1,0,0,0,0,0,0,0,0,0,0,1,0,0,0,0,1,0,0,1,0,0,0,1,0,0,0,1,1,1,0,0,0,0,0,0,1,0,0,0,1,0,1,1,1,1,0,1,1,0,0,0,0,0,0,0,1,1,0,1,0,0,1,0,1,0,0,0,0,0,1,0,1,0,1,0,1,1,0,0,0,0,1,1,0,0,0,1,0,1,1,0,0,1,0,0,1,1,0,0,1,0,0,1,0,0,0,0,0,0,0,1,1,1,0,0,0,0,0,0,1,1,0,0,1,0,0,1,0,1,1,1,0,0,1,1,1,0,1,0,1,0,1,0,0,0,0,1,0]}],\"domain\":{\"x\":[0.0,1.0],\"y\":[0.0,1.0]},\"line\":{\"color\":[1,0,1,0,1,0,1,0,1,1,0,1,0,1,1,1,1,1,0,1,0,0,1,1,1,1,1,0,0,0,0,1,0,0,0,0,0,1,1,1,0,0,0,1,0,1,0,0,1,0,0,0,0,1,0,0,1,0,0,0,0,1,0,0,1,0,1,0,0,0,1,0,1,0,0,0,0,0,1,0,0,0,0,0,1,0,0,0,1,0,0,0,0,1,0,0,0,0,0,1,1,0,0,0,0,0,0,0,0,1,1,1,0,0,1,1,1,0,0,0,1,0,0,0,1,1,0,0,1,1,1,1,1,0,0,0,0,0,0,0,0,0,0,1,0,0,0,0,0,0,0,0,1,0,1,1,0,0,0,1,0,0,0,0,1,1,0,0,0,0,1,1,0,0,0,1,0,1,0,1,0,0,0,0,0,1,1,1,1,1,0,0,1,1,0,1,0,1,1,1,0,0,0,0,0,0,1,1,0,1,0,0,0,1,1,1,1,0,1,1,1,1,0,0,0,0,0,1,0,0,1,1,0,0,0,1,1,1,1,0,0,0,1,1,0,1,0,0,0,0,0,0,0,0,1,1,0,0,0,1,0,1,0,0,1,0,1,0,0,1,1,0,0,0,0,0,1,0,0,0,1,0,0,1,1,0,0,1,0,0,0,1,1,1,0,0,1,0,1,0,1,1,0,1,0,0,1,0,1,1,0,0,1,0,1,0,0,1,0,1,0,1,1,1,0,0,1,0,1,0,0,0,1,0,0,0,0,1,1,1,0,0,0,0,0,0,0,0,0,1,0,0,0,0,0,1,1,1,0,1,1,0,0,1,0,0,1,0,0,1,1,0,0,0,0,1,0,0,1,0,0,0,0,0,0,0,1,1,1,0,0,1,0,0,1,0,0,1,0,1,1,0,1,0,1,0,1,0,1,1,0,0,0,0,1,1,0,1,0,1,0,0,0,0,1,1,0,1,0,1,0,0,0,0,0,1,0,0,0,0,1,0,0,1,1,1,0,0,1,0,0,1,0,0,0,1,0,0,1,0,0,0,0,0,0,0,0,0,1,0,0,0,0,0,0,0,1,0,0,0,1,0,0,0,1,1,0,0,0,0,0,0,0,1,0,0,0,0,1,0,0,0,1,0,0,0,1,0,0,0,1,0,0,0,0,1,1,0,0,0,0,0,0,1,0,0,0,0,0,0,0,0,0,0,0,1,0,0,0,1,1,1,1,0,0,1,1,0,0,0,0,0,0,0,0,0,0,0,0,0,1,1,0,0,0,0,0,0,0,1,0,0,0,0,0,0,0,1,0,1,1,0,0,0,1,0,1,0,1,0,1,0,1,0,0,1,0,0,1,0,0,0,0,1,1,0,1,0,0,0,0,1,1,0,1,0,0,0,1,1,0,0,0,0,0,0,0,0,0,0,1,0,0,0,0,1,0,0,1,0,0,0,1,0,0,0,1,1,1,0,0,0,0,0,0,1,0,0,0,1,0,1,1,1,1,0,1,1,0,0,0,0,0,0,0,1,1,0,1,0,0,1,0,1,0,0,0,0,0,1,0,1,0,1,0,1,1,0,0,0,0,1,1,0,0,0,1,0,1,1,0,0,1,0,0,1,1,0,0,1,0,0,1,0,0,0,0,0,0,0,1,1,1,0,0,0,0,0,0,1,1,0,0,1,0,0,1,0,1,1,1,0,0,1,1,1,0,1,0,1,0,1,0,0,0,0,1,0],\"coloraxis\":\"coloraxis\"},\"name\":\"\",\"type\":\"parcoords\"}],                        {\"template\":{\"data\":{\"barpolar\":[{\"marker\":{\"line\":{\"color\":\"rgb(17,17,17)\",\"width\":0.5},\"pattern\":{\"fillmode\":\"overlay\",\"size\":10,\"solidity\":0.2}},\"type\":\"barpolar\"}],\"bar\":[{\"error_x\":{\"color\":\"#f2f5fa\"},\"error_y\":{\"color\":\"#f2f5fa\"},\"marker\":{\"line\":{\"color\":\"rgb(17,17,17)\",\"width\":0.5},\"pattern\":{\"fillmode\":\"overlay\",\"size\":10,\"solidity\":0.2}},\"type\":\"bar\"}],\"carpet\":[{\"aaxis\":{\"endlinecolor\":\"#A2B1C6\",\"gridcolor\":\"#506784\",\"linecolor\":\"#506784\",\"minorgridcolor\":\"#506784\",\"startlinecolor\":\"#A2B1C6\"},\"baxis\":{\"endlinecolor\":\"#A2B1C6\",\"gridcolor\":\"#506784\",\"linecolor\":\"#506784\",\"minorgridcolor\":\"#506784\",\"startlinecolor\":\"#A2B1C6\"},\"type\":\"carpet\"}],\"choropleth\":[{\"colorbar\":{\"outlinewidth\":0,\"ticks\":\"\"},\"type\":\"choropleth\"}],\"contourcarpet\":[{\"colorbar\":{\"outlinewidth\":0,\"ticks\":\"\"},\"type\":\"contourcarpet\"}],\"contour\":[{\"colorbar\":{\"outlinewidth\":0,\"ticks\":\"\"},\"colorscale\":[[0.0,\"#0d0887\"],[0.1111111111111111,\"#46039f\"],[0.2222222222222222,\"#7201a8\"],[0.3333333333333333,\"#9c179e\"],[0.4444444444444444,\"#bd3786\"],[0.5555555555555556,\"#d8576b\"],[0.6666666666666666,\"#ed7953\"],[0.7777777777777778,\"#fb9f3a\"],[0.8888888888888888,\"#fdca26\"],[1.0,\"#f0f921\"]],\"type\":\"contour\"}],\"heatmapgl\":[{\"colorbar\":{\"outlinewidth\":0,\"ticks\":\"\"},\"colorscale\":[[0.0,\"#0d0887\"],[0.1111111111111111,\"#46039f\"],[0.2222222222222222,\"#7201a8\"],[0.3333333333333333,\"#9c179e\"],[0.4444444444444444,\"#bd3786\"],[0.5555555555555556,\"#d8576b\"],[0.6666666666666666,\"#ed7953\"],[0.7777777777777778,\"#fb9f3a\"],[0.8888888888888888,\"#fdca26\"],[1.0,\"#f0f921\"]],\"type\":\"heatmapgl\"}],\"heatmap\":[{\"colorbar\":{\"outlinewidth\":0,\"ticks\":\"\"},\"colorscale\":[[0.0,\"#0d0887\"],[0.1111111111111111,\"#46039f\"],[0.2222222222222222,\"#7201a8\"],[0.3333333333333333,\"#9c179e\"],[0.4444444444444444,\"#bd3786\"],[0.5555555555555556,\"#d8576b\"],[0.6666666666666666,\"#ed7953\"],[0.7777777777777778,\"#fb9f3a\"],[0.8888888888888888,\"#fdca26\"],[1.0,\"#f0f921\"]],\"type\":\"heatmap\"}],\"histogram2dcontour\":[{\"colorbar\":{\"outlinewidth\":0,\"ticks\":\"\"},\"colorscale\":[[0.0,\"#0d0887\"],[0.1111111111111111,\"#46039f\"],[0.2222222222222222,\"#7201a8\"],[0.3333333333333333,\"#9c179e\"],[0.4444444444444444,\"#bd3786\"],[0.5555555555555556,\"#d8576b\"],[0.6666666666666666,\"#ed7953\"],[0.7777777777777778,\"#fb9f3a\"],[0.8888888888888888,\"#fdca26\"],[1.0,\"#f0f921\"]],\"type\":\"histogram2dcontour\"}],\"histogram2d\":[{\"colorbar\":{\"outlinewidth\":0,\"ticks\":\"\"},\"colorscale\":[[0.0,\"#0d0887\"],[0.1111111111111111,\"#46039f\"],[0.2222222222222222,\"#7201a8\"],[0.3333333333333333,\"#9c179e\"],[0.4444444444444444,\"#bd3786\"],[0.5555555555555556,\"#d8576b\"],[0.6666666666666666,\"#ed7953\"],[0.7777777777777778,\"#fb9f3a\"],[0.8888888888888888,\"#fdca26\"],[1.0,\"#f0f921\"]],\"type\":\"histogram2d\"}],\"histogram\":[{\"marker\":{\"pattern\":{\"fillmode\":\"overlay\",\"size\":10,\"solidity\":0.2}},\"type\":\"histogram\"}],\"mesh3d\":[{\"colorbar\":{\"outlinewidth\":0,\"ticks\":\"\"},\"type\":\"mesh3d\"}],\"parcoords\":[{\"line\":{\"colorbar\":{\"outlinewidth\":0,\"ticks\":\"\"}},\"type\":\"parcoords\"}],\"pie\":[{\"automargin\":true,\"type\":\"pie\"}],\"scatter3d\":[{\"line\":{\"colorbar\":{\"outlinewidth\":0,\"ticks\":\"\"}},\"marker\":{\"colorbar\":{\"outlinewidth\":0,\"ticks\":\"\"}},\"type\":\"scatter3d\"}],\"scattercarpet\":[{\"marker\":{\"colorbar\":{\"outlinewidth\":0,\"ticks\":\"\"}},\"type\":\"scattercarpet\"}],\"scattergeo\":[{\"marker\":{\"colorbar\":{\"outlinewidth\":0,\"ticks\":\"\"}},\"type\":\"scattergeo\"}],\"scattergl\":[{\"marker\":{\"line\":{\"color\":\"#283442\"}},\"type\":\"scattergl\"}],\"scattermapbox\":[{\"marker\":{\"colorbar\":{\"outlinewidth\":0,\"ticks\":\"\"}},\"type\":\"scattermapbox\"}],\"scatterpolargl\":[{\"marker\":{\"colorbar\":{\"outlinewidth\":0,\"ticks\":\"\"}},\"type\":\"scatterpolargl\"}],\"scatterpolar\":[{\"marker\":{\"colorbar\":{\"outlinewidth\":0,\"ticks\":\"\"}},\"type\":\"scatterpolar\"}],\"scatter\":[{\"marker\":{\"line\":{\"color\":\"#283442\"}},\"type\":\"scatter\"}],\"scatterternary\":[{\"marker\":{\"colorbar\":{\"outlinewidth\":0,\"ticks\":\"\"}},\"type\":\"scatterternary\"}],\"surface\":[{\"colorbar\":{\"outlinewidth\":0,\"ticks\":\"\"},\"colorscale\":[[0.0,\"#0d0887\"],[0.1111111111111111,\"#46039f\"],[0.2222222222222222,\"#7201a8\"],[0.3333333333333333,\"#9c179e\"],[0.4444444444444444,\"#bd3786\"],[0.5555555555555556,\"#d8576b\"],[0.6666666666666666,\"#ed7953\"],[0.7777777777777778,\"#fb9f3a\"],[0.8888888888888888,\"#fdca26\"],[1.0,\"#f0f921\"]],\"type\":\"surface\"}],\"table\":[{\"cells\":{\"fill\":{\"color\":\"#506784\"},\"line\":{\"color\":\"rgb(17,17,17)\"}},\"header\":{\"fill\":{\"color\":\"#2a3f5f\"},\"line\":{\"color\":\"rgb(17,17,17)\"}},\"type\":\"table\"}]},\"layout\":{\"annotationdefaults\":{\"arrowcolor\":\"#f2f5fa\",\"arrowhead\":0,\"arrowwidth\":1},\"autotypenumbers\":\"strict\",\"coloraxis\":{\"colorbar\":{\"outlinewidth\":0,\"ticks\":\"\"}},\"colorscale\":{\"diverging\":[[0,\"#8e0152\"],[0.1,\"#c51b7d\"],[0.2,\"#de77ae\"],[0.3,\"#f1b6da\"],[0.4,\"#fde0ef\"],[0.5,\"#f7f7f7\"],[0.6,\"#e6f5d0\"],[0.7,\"#b8e186\"],[0.8,\"#7fbc41\"],[0.9,\"#4d9221\"],[1,\"#276419\"]],\"sequential\":[[0.0,\"#0d0887\"],[0.1111111111111111,\"#46039f\"],[0.2222222222222222,\"#7201a8\"],[0.3333333333333333,\"#9c179e\"],[0.4444444444444444,\"#bd3786\"],[0.5555555555555556,\"#d8576b\"],[0.6666666666666666,\"#ed7953\"],[0.7777777777777778,\"#fb9f3a\"],[0.8888888888888888,\"#fdca26\"],[1.0,\"#f0f921\"]],\"sequentialminus\":[[0.0,\"#0d0887\"],[0.1111111111111111,\"#46039f\"],[0.2222222222222222,\"#7201a8\"],[0.3333333333333333,\"#9c179e\"],[0.4444444444444444,\"#bd3786\"],[0.5555555555555556,\"#d8576b\"],[0.6666666666666666,\"#ed7953\"],[0.7777777777777778,\"#fb9f3a\"],[0.8888888888888888,\"#fdca26\"],[1.0,\"#f0f921\"]]},\"colorway\":[\"#636efa\",\"#EF553B\",\"#00cc96\",\"#ab63fa\",\"#FFA15A\",\"#19d3f3\",\"#FF6692\",\"#B6E880\",\"#FF97FF\",\"#FECB52\"],\"font\":{\"color\":\"#f2f5fa\"},\"geo\":{\"bgcolor\":\"rgb(17,17,17)\",\"lakecolor\":\"rgb(17,17,17)\",\"landcolor\":\"rgb(17,17,17)\",\"showlakes\":true,\"showland\":true,\"subunitcolor\":\"#506784\"},\"hoverlabel\":{\"align\":\"left\"},\"hovermode\":\"closest\",\"mapbox\":{\"style\":\"dark\"},\"paper_bgcolor\":\"rgb(17,17,17)\",\"plot_bgcolor\":\"rgb(17,17,17)\",\"polar\":{\"angularaxis\":{\"gridcolor\":\"#506784\",\"linecolor\":\"#506784\",\"ticks\":\"\"},\"bgcolor\":\"rgb(17,17,17)\",\"radialaxis\":{\"gridcolor\":\"#506784\",\"linecolor\":\"#506784\",\"ticks\":\"\"}},\"scene\":{\"xaxis\":{\"backgroundcolor\":\"rgb(17,17,17)\",\"gridcolor\":\"#506784\",\"gridwidth\":2,\"linecolor\":\"#506784\",\"showbackground\":true,\"ticks\":\"\",\"zerolinecolor\":\"#C8D4E3\"},\"yaxis\":{\"backgroundcolor\":\"rgb(17,17,17)\",\"gridcolor\":\"#506784\",\"gridwidth\":2,\"linecolor\":\"#506784\",\"showbackground\":true,\"ticks\":\"\",\"zerolinecolor\":\"#C8D4E3\"},\"zaxis\":{\"backgroundcolor\":\"rgb(17,17,17)\",\"gridcolor\":\"#506784\",\"gridwidth\":2,\"linecolor\":\"#506784\",\"showbackground\":true,\"ticks\":\"\",\"zerolinecolor\":\"#C8D4E3\"}},\"shapedefaults\":{\"line\":{\"color\":\"#f2f5fa\"}},\"sliderdefaults\":{\"bgcolor\":\"#C8D4E3\",\"bordercolor\":\"rgb(17,17,17)\",\"borderwidth\":1,\"tickwidth\":0},\"ternary\":{\"aaxis\":{\"gridcolor\":\"#506784\",\"linecolor\":\"#506784\",\"ticks\":\"\"},\"baxis\":{\"gridcolor\":\"#506784\",\"linecolor\":\"#506784\",\"ticks\":\"\"},\"bgcolor\":\"rgb(17,17,17)\",\"caxis\":{\"gridcolor\":\"#506784\",\"linecolor\":\"#506784\",\"ticks\":\"\"}},\"title\":{\"x\":0.05},\"updatemenudefaults\":{\"bgcolor\":\"#506784\",\"borderwidth\":0},\"xaxis\":{\"automargin\":true,\"gridcolor\":\"#283442\",\"linecolor\":\"#506784\",\"ticks\":\"\",\"title\":{\"standoff\":15},\"zerolinecolor\":\"#283442\",\"zerolinewidth\":2},\"yaxis\":{\"automargin\":true,\"gridcolor\":\"#283442\",\"linecolor\":\"#506784\",\"ticks\":\"\",\"title\":{\"standoff\":15},\"zerolinecolor\":\"#283442\",\"zerolinewidth\":2}}},\"coloraxis\":{\"colorbar\":{\"title\":{\"text\":\"Outcome\"}},\"colorscale\":[[0.0,\"#0d0887\"],[0.1111111111111111,\"#46039f\"],[0.2222222222222222,\"#7201a8\"],[0.3333333333333333,\"#9c179e\"],[0.4444444444444444,\"#bd3786\"],[0.5555555555555556,\"#d8576b\"],[0.6666666666666666,\"#ed7953\"],[0.7777777777777778,\"#fb9f3a\"],[0.8888888888888888,\"#fdca26\"],[1.0,\"#f0f921\"]]},\"legend\":{\"tracegroupgap\":0},\"margin\":{\"t\":60}},                        {\"responsive\": true}                    ).then(function(){\n",
              "                            \n",
              "var gd = document.getElementById('04767e39-a493-4860-ac6b-f21eceea98fe');\n",
              "var x = new MutationObserver(function (mutations, observer) {{\n",
              "        var display = window.getComputedStyle(gd).display;\n",
              "        if (!display || display === 'none') {{\n",
              "            console.log([gd, 'removed!']);\n",
              "            Plotly.purge(gd);\n",
              "            observer.disconnect();\n",
              "        }}\n",
              "}});\n",
              "\n",
              "// Listen for the removal of the full notebook cells\n",
              "var notebookContainer = gd.closest('#notebook-container');\n",
              "if (notebookContainer) {{\n",
              "    x.observe(notebookContainer, {childList: true});\n",
              "}}\n",
              "\n",
              "// Listen for the clearing of the current output cell\n",
              "var outputEl = gd.closest('.output');\n",
              "if (outputEl) {{\n",
              "    x.observe(outputEl, {childList: true});\n",
              "}}\n",
              "\n",
              "                        })                };                            </script>        </div>\n",
              "</body>\n",
              "</html>"
            ]
          },
          "metadata": {}
        }
      ]
    },
    {
      "cell_type": "markdown",
      "source": [
        "### BMI + Diabetes pedigree function\n",
        "\n",
        "Visualizing the BMI and diabetes pedigree function\n"
      ],
      "metadata": {
        "id": "IaBfh0cldtyB"
      }
    },
    {
      "cell_type": "code",
      "source": [
        "fig = px.area(df_diabetes, x=\"Age\", y=\"BMI\", color=\"Outcome\")\n",
        "fig.show()"
      ],
      "metadata": {
        "colab": {
          "base_uri": "https://localhost:8080/",
          "height": 542
        },
        "id": "GiTUudWueq9Z",
        "outputId": "4ba2a861-8f6c-42d9-cd4f-d73221fb5141"
      },
      "execution_count": 313,
      "outputs": [
        {
          "output_type": "display_data",
          "data": {
            "text/html": [
              "<html>\n",
              "<head><meta charset=\"utf-8\" /></head>\n",
              "<body>\n",
              "    <div>            <script src=\"https://cdnjs.cloudflare.com/ajax/libs/mathjax/2.7.5/MathJax.js?config=TeX-AMS-MML_SVG\"></script><script type=\"text/javascript\">if (window.MathJax) {MathJax.Hub.Config({SVG: {font: \"STIX-Web\"}});}</script>                <script type=\"text/javascript\">window.PlotlyConfig = {MathJaxConfig: 'local'};</script>\n",
              "        <script src=\"https://cdn.plot.ly/plotly-2.8.3.min.js\"></script>                <div id=\"5480c7c6-2527-4236-906f-5da5d5ee3d93\" class=\"plotly-graph-div\" style=\"height:525px; width:100%;\"></div>            <script type=\"text/javascript\">                                    window.PLOTLYENV=window.PLOTLYENV || {};                                    if (document.getElementById(\"5480c7c6-2527-4236-906f-5da5d5ee3d93\")) {                    Plotly.newPlot(                        \"5480c7c6-2527-4236-906f-5da5d5ee3d93\",                        [{\"hovertemplate\":\"Outcome=1<br>Age=%{x}<br>BMI=%{y}<extra></extra>\",\"legendgroup\":\"1\",\"line\":{\"color\":\"#636efa\"},\"marker\":{\"symbol\":\"circle\"},\"mode\":\"lines\",\"name\":\"1\",\"orientation\":\"v\",\"showlegend\":true,\"stackgroup\":\"1\",\"x\":[50,32,33,26,53,54,34,59,51,32,31,31,32,41,29,51,41,43,28,46,27,56,54,25,31,58,41,39,42,38,28,42,26,37,43,60,31,33,24,24,46,39,61,38,25,23,26,40,62,33,33,30,42,42,43,36,47,32,41,36,29,36,26,37,41,60,33,31,25,36,40,29,23,26,29,57,52,41,24,36,38,25,32,41,21,66,24,22,46,26,51,23,32,22,33,49,44,21,51,27,35,25,28,38,29,28,47,52,29,25,31,24,29,46,30,25,28,47,25,30,27,43,29,59,25,36,43,30,23,41,44,33,41,37,49,28,44,29,29,67,29,45,25,58,32,35,45,58,27,31,22,25,31,35,41,46,39,28,21,22,37,28,36,31,38,43,29,41,33,30,25,22,23,38,51,38,29,35,31,24,45,55,41,35,46,28,53,45,23,32,43,27,56,37,53,54,28,33,21,62,21,52,41,52,45,44,22,38,54,36,22,36,40,50,50,24,34,38,32,50,33,22,42,25,27,22,43,40,40,70,40,31,53,25,26,27,46,44,43,43,31,49,52,30,45,23,38,34,31,52,42,34,22,24,42,48,45,27,36,50,22,26,45,37,52,66,43,47],\"xaxis\":\"x\",\"y\":[33.6,23.3,43.1,31.0,30.5,32.457463672391015,38.0,30.1,25.8,30.0,45.8,29.6,34.6,39.8,29.0,36.6,31.1,39.4,31.6,32.9,38.2,37.1,45.4,42.0,39.1,33.7,37.7,32.9,32.8,32.5,32.9,43.4,43.2,48.8,37.1,23.8,49.7,39.0,37.4,33.3,34.0,30.5,31.2,34.0,53.2,33.3,55.0,34.5,27.9,29.7,33.3,34.5,32.4,34.3,47.9,50.0,40.9,31.6,29.9,30.8,35.4,32.7,67.1,39.1,35.9,30.1,32.0,27.9,31.6,30.4,52.3,39.4,22.9,34.8,30.9,37.5,37.7,35.5,42.6,34.2,41.8,35.8,29.0,37.8,34.6,31.6,37.2,44.0,46.2,43.6,35.9,44.1,30.8,25.6,27.1,30.0,27.6,33.6,33.3,30.0,32.0,36.3,27.5,45.6,26.5,37.9,30.4,27.0,45.6,36.6,43.3,40.5,28.0,36.6,32.3,31.6,52.9,25.5,30.5,32.9,26.6,35.9,30.5,23.5,31.6,27.4,26.8,35.1,45.5,43.3,31.2,34.2,39.9,41.0,30.4,33.3,39.9,36.5,31.2,38.5,27.6,32.8,38.4,39.2,48.3,32.3,43.3,32.0,45.7,32.9,34.3,34.9,32.0,35.0,32.9,28.9,25.9,42.4,34.6,35.7,38.5,26.4,42.9,37.0,34.1,35.0,42.4,34.3,30.5,29.7,59.4,33.6,28.9,33.6,37.6,30.0,33.7,35.5,44.2,42.3,28.9,25.1,39.0,36.5,29.7,31.6,30.3,34.2,32.9,36.4,39.4,32.4,34.9,34.5,43.6,33.8,41.3,34.3,42.9,34.7,42.1,28.7,34.9,33.3,46.8,34.4,32.0,36.8,35.2,28.4,40.0,32.9,38.2,36.1,28.2,32.4,27.4,31.2,40.9,29.5,23.4,37.8,28.3,38.7,34.2,42.9,37.6,37.9,33.7,32.5,27.5,30.9,24.8,36.0,49.6,32.3,46.1,42.3,38.5,30.4,29.9,27.6,35.0,32.457463672391015,32.8,38.0,41.2,33.9,33.8,35.6,29.3,28.4,28.4,44.5,39.5,42.3,32.7,49.3,36.4,24.3,31.2,43.3,32.4,36.5,36.3,35.5,44.0,30.1],\"yaxis\":\"y\",\"type\":\"scatter\"},{\"hovertemplate\":\"Outcome=0<br>Age=%{x}<br>BMI=%{y}<extra></extra>\",\"legendgroup\":\"0\",\"line\":{\"color\":\"#EF553B\"},\"marker\":{\"symbol\":\"circle\"},\"mode\":\"lines\",\"name\":\"0\",\"orientation\":\"v\",\"showlegend\":true,\"stackgroup\":\"1\",\"x\":[31,21,30,29,30,57,33,27,50,22,57,38,60,22,28,45,33,35,26,37,48,40,29,22,24,22,26,30,42,21,31,44,22,21,36,24,32,54,25,27,26,23,22,22,41,27,24,22,22,36,22,27,45,26,24,21,34,42,21,40,24,22,23,22,21,24,27,21,27,37,25,23,25,25,22,21,24,23,69,30,23,39,26,31,21,22,29,28,55,38,22,23,21,41,34,65,22,24,37,23,21,23,22,36,45,27,21,22,34,29,29,25,23,33,42,47,32,23,21,27,40,21,40,42,21,21,28,32,27,55,27,21,25,24,60,32,37,61,26,22,26,31,24,22,29,23,27,21,22,29,41,23,34,23,42,27,24,25,30,25,24,34,24,63,43,24,21,21,40,21,52,25,23,57,22,39,37,51,34,26,33,21,65,28,24,58,35,37,29,21,41,22,25,26,30,28,31,21,24,37,37,46,25,44,22,26,44,22,36,22,33,57,49,22,23,26,29,30,46,24,21,48,63,65,30,30,21,22,21,21,25,28,22,22,35,24,22,21,25,25,24,28,42,21,37,25,39,25,55,38,26,25,28,25,22,21,22,27,26,21,21,21,25,26,23,38,22,29,36,41,28,21,31,22,24,28,26,26,23,25,72,24,62,24,81,48,26,39,37,34,21,22,25,27,28,22,22,50,24,59,31,39,63,29,28,23,21,58,28,67,24,42,33,22,66,30,25,39,21,28,41,40,38,21,21,64,21,58,22,24,51,41,60,25,26,26,24,21,21,24,22,31,22,24,29,31,24,46,67,23,25,29,28,50,37,21,25,66,23,28,37,30,58,42,35,24,32,27,22,21,46,37,39,21,22,22,23,25,35,36,27,62,42,22,29,25,24,25,34,46,21,26,24,28,30,21,25,27,23,24,26,27,30,23,28,28,45,21,21,29,21,21,45,21,24,23,22,31,48,23,28,27,24,31,27,30,23,23,27,28,27,22,22,41,51,54,24,43,45,49,21,47,22,68,25,23,22,22,69,25,22,29,23,34,23,25,22,28,26,26,41,27,28,22,24,40,21,32,56,24,34,21,42,45,38,25,22,22,22,22,53,28,21,42,21,26,22,39,46,32,28,25,39,26,22,33,63,27,30,23],\"xaxis\":\"x\",\"y\":[26.6,28.1,25.6,35.3,37.6,27.1,43.3,39.3,35.4,23.2,22.2,34.1,36.0,24.8,19.9,27.6,24.0,33.2,34.0,40.2,22.7,27.4,29.7,28.0,32.457463672391015,19.4,24.2,24.4,34.7,23.0,46.8,40.5,41.5,32.457463672391015,25.0,25.4,29.0,42.7,19.6,28.9,28.6,35.1,32.0,24.7,32.6,37.7,25.0,22.4,32.457463672391015,29.3,24.6,32.4,36.6,38.5,26.5,19.1,32.0,46.7,24.7,33.9,31.6,20.4,28.7,26.1,22.5,26.6,39.6,28.7,22.4,29.5,34.3,31.2,34.0,33.7,28.2,23.2,34.2,33.6,26.8,42.9,33.3,38.3,21.1,33.8,30.8,28.7,31.2,36.9,21.1,39.5,32.5,32.8,32.457463672391015,32.8,30.5,33.7,27.3,37.4,21.9,40.6,24.6,25.2,29.0,29.7,37.2,44.2,29.7,32.5,29.6,31.9,28.4,28.9,43.5,29.7,31.2,45.0,23.2,34.9,27.7,26.8,27.6,22.6,33.1,24.4,24.3,31.0,40.1,27.3,20.4,37.7,23.9,33.2,27.7,42.8,34.2,30.0,25.2,28.8,23.6,34.6,35.7,36.7,45.2,25.4,35.0,29.7,18.4,29.2,33.1,38.2,31.2,52.3,35.4,30.1,31.2,28.0,24.4,35.8,30.1,28.7,25.9,30.9,32.1,32.4,33.6,40.0,25.1,25.2,23.0,33.2,34.2,40.5,27.8,24.9,25.3,35.9,32.4,26.0,38.7,20.8,36.1,36.9,21.9,35.5,30.7,23.6,35.8,21.0,39.7,24.8,26.2,39.4,29.5,34.1,19.3,38.1,27.5,35.7,25.6,35.1,30.8,23.1,32.7,23.6,23.9,47.9,33.8,25.9,25.9,32.0,34.7,36.8,38.5,28.7,23.5,21.8,42.2,31.2,34.4,27.2,42.7,35.3,29.8,39.2,34.9,34.0,21.0,27.5,32.457463672391015,35.8,34.9,36.2,25.2,37.2,43.4,30.8,20.0,25.4,25.1,24.3,22.3,31.6,32.0,23.7,22.1,27.7,24.7,21.1,24.2,31.6,42.1,21.9,35.7,34.4,42.4,26.2,27.2,18.2,45.3,26.0,40.6,30.8,32.457463672391015,40.6,22.2,30.4,30.0,25.6,24.5,37.4,29.9,18.2,36.8,32.2,33.2,25.3,36.5,30.5,21.2,39.9,19.6,37.8,26.7,30.2,25.9,20.8,21.8,35.3,27.6,24.0,21.8,27.8,36.8,46.1,41.3,33.2,38.8,29.9,28.9,27.3,23.8,25.9,28.0,35.2,27.8,38.2,40.7,46.5,25.6,26.1,36.8,33.5,32.8,32.457463672391015,26.6,26.0,30.1,29.3,25.2,37.2,33.3,37.3,33.3,28.6,30.4,25.0,22.1,24.2,27.3,25.6,37.6,32.8,19.6,25.0,33.2,32.457463672391015,31.6,21.8,18.2,26.3,30.8,24.6,29.8,45.3,41.3,29.8,33.3,29.6,21.7,36.3,39.5,32.0,33.1,32.8,28.5,27.4,31.9,27.8,29.9,36.9,25.5,38.1,27.8,46.2,30.1,37.6,26.9,32.4,26.1,38.6,32.0,31.3,32.5,22.6,29.5,34.7,30.1,35.5,24.0,27.0,25.0,26.5,38.7,22.5,24.3,21.1,39.4,28.5,33.6,45.3,27.8,23.1,27.1,23.7,27.8,35.8,19.5,41.5,24.0,30.9,32.5,25.8,28.7,20.1,38.4,24.2,40.8,43.5,30.8,37.7,24.7,32.4,34.6,24.7,34.5,26.2,27.5,25.9,28.8,31.6,19.5,29.3,34.3,28.0,27.6,39.4,26.4,25.2,33.8,34.1,26.8,34.2,21.8,38.9,39.0,27.7,34.8,34.0,30.9,33.6,25.4,35.5,57.3,35.6,35.3,24.2,24.2,44.6,32.457463672391015,33.2,23.1,28.3,24.1,24.6,39.1,23.5,25.0,34.5,44.5,35.9,38.5,28.4,39.8,34.4,31.2,29.6,26.4,29.5,23.1,35.5,29.3,38.1,39.1,32.8,39.4,36.1,32.4,22.9,30.1,29.0,23.3,35.4,27.4,32.0,36.6,30.8,28.5,40.6,30.0,46.3,39.0,26.0,32.0,37.5,28.4,22.5,32.9,36.8,26.2,30.4],\"yaxis\":\"y\",\"type\":\"scatter\"}],                        {\"template\":{\"data\":{\"bar\":[{\"error_x\":{\"color\":\"#2a3f5f\"},\"error_y\":{\"color\":\"#2a3f5f\"},\"marker\":{\"line\":{\"color\":\"#E5ECF6\",\"width\":0.5},\"pattern\":{\"fillmode\":\"overlay\",\"size\":10,\"solidity\":0.2}},\"type\":\"bar\"}],\"barpolar\":[{\"marker\":{\"line\":{\"color\":\"#E5ECF6\",\"width\":0.5},\"pattern\":{\"fillmode\":\"overlay\",\"size\":10,\"solidity\":0.2}},\"type\":\"barpolar\"}],\"carpet\":[{\"aaxis\":{\"endlinecolor\":\"#2a3f5f\",\"gridcolor\":\"white\",\"linecolor\":\"white\",\"minorgridcolor\":\"white\",\"startlinecolor\":\"#2a3f5f\"},\"baxis\":{\"endlinecolor\":\"#2a3f5f\",\"gridcolor\":\"white\",\"linecolor\":\"white\",\"minorgridcolor\":\"white\",\"startlinecolor\":\"#2a3f5f\"},\"type\":\"carpet\"}],\"choropleth\":[{\"colorbar\":{\"outlinewidth\":0,\"ticks\":\"\"},\"type\":\"choropleth\"}],\"contour\":[{\"colorbar\":{\"outlinewidth\":0,\"ticks\":\"\"},\"colorscale\":[[0.0,\"#0d0887\"],[0.1111111111111111,\"#46039f\"],[0.2222222222222222,\"#7201a8\"],[0.3333333333333333,\"#9c179e\"],[0.4444444444444444,\"#bd3786\"],[0.5555555555555556,\"#d8576b\"],[0.6666666666666666,\"#ed7953\"],[0.7777777777777778,\"#fb9f3a\"],[0.8888888888888888,\"#fdca26\"],[1.0,\"#f0f921\"]],\"type\":\"contour\"}],\"contourcarpet\":[{\"colorbar\":{\"outlinewidth\":0,\"ticks\":\"\"},\"type\":\"contourcarpet\"}],\"heatmap\":[{\"colorbar\":{\"outlinewidth\":0,\"ticks\":\"\"},\"colorscale\":[[0.0,\"#0d0887\"],[0.1111111111111111,\"#46039f\"],[0.2222222222222222,\"#7201a8\"],[0.3333333333333333,\"#9c179e\"],[0.4444444444444444,\"#bd3786\"],[0.5555555555555556,\"#d8576b\"],[0.6666666666666666,\"#ed7953\"],[0.7777777777777778,\"#fb9f3a\"],[0.8888888888888888,\"#fdca26\"],[1.0,\"#f0f921\"]],\"type\":\"heatmap\"}],\"heatmapgl\":[{\"colorbar\":{\"outlinewidth\":0,\"ticks\":\"\"},\"colorscale\":[[0.0,\"#0d0887\"],[0.1111111111111111,\"#46039f\"],[0.2222222222222222,\"#7201a8\"],[0.3333333333333333,\"#9c179e\"],[0.4444444444444444,\"#bd3786\"],[0.5555555555555556,\"#d8576b\"],[0.6666666666666666,\"#ed7953\"],[0.7777777777777778,\"#fb9f3a\"],[0.8888888888888888,\"#fdca26\"],[1.0,\"#f0f921\"]],\"type\":\"heatmapgl\"}],\"histogram\":[{\"marker\":{\"pattern\":{\"fillmode\":\"overlay\",\"size\":10,\"solidity\":0.2}},\"type\":\"histogram\"}],\"histogram2d\":[{\"colorbar\":{\"outlinewidth\":0,\"ticks\":\"\"},\"colorscale\":[[0.0,\"#0d0887\"],[0.1111111111111111,\"#46039f\"],[0.2222222222222222,\"#7201a8\"],[0.3333333333333333,\"#9c179e\"],[0.4444444444444444,\"#bd3786\"],[0.5555555555555556,\"#d8576b\"],[0.6666666666666666,\"#ed7953\"],[0.7777777777777778,\"#fb9f3a\"],[0.8888888888888888,\"#fdca26\"],[1.0,\"#f0f921\"]],\"type\":\"histogram2d\"}],\"histogram2dcontour\":[{\"colorbar\":{\"outlinewidth\":0,\"ticks\":\"\"},\"colorscale\":[[0.0,\"#0d0887\"],[0.1111111111111111,\"#46039f\"],[0.2222222222222222,\"#7201a8\"],[0.3333333333333333,\"#9c179e\"],[0.4444444444444444,\"#bd3786\"],[0.5555555555555556,\"#d8576b\"],[0.6666666666666666,\"#ed7953\"],[0.7777777777777778,\"#fb9f3a\"],[0.8888888888888888,\"#fdca26\"],[1.0,\"#f0f921\"]],\"type\":\"histogram2dcontour\"}],\"mesh3d\":[{\"colorbar\":{\"outlinewidth\":0,\"ticks\":\"\"},\"type\":\"mesh3d\"}],\"parcoords\":[{\"line\":{\"colorbar\":{\"outlinewidth\":0,\"ticks\":\"\"}},\"type\":\"parcoords\"}],\"pie\":[{\"automargin\":true,\"type\":\"pie\"}],\"scatter\":[{\"marker\":{\"colorbar\":{\"outlinewidth\":0,\"ticks\":\"\"}},\"type\":\"scatter\"}],\"scatter3d\":[{\"line\":{\"colorbar\":{\"outlinewidth\":0,\"ticks\":\"\"}},\"marker\":{\"colorbar\":{\"outlinewidth\":0,\"ticks\":\"\"}},\"type\":\"scatter3d\"}],\"scattercarpet\":[{\"marker\":{\"colorbar\":{\"outlinewidth\":0,\"ticks\":\"\"}},\"type\":\"scattercarpet\"}],\"scattergeo\":[{\"marker\":{\"colorbar\":{\"outlinewidth\":0,\"ticks\":\"\"}},\"type\":\"scattergeo\"}],\"scattergl\":[{\"marker\":{\"colorbar\":{\"outlinewidth\":0,\"ticks\":\"\"}},\"type\":\"scattergl\"}],\"scattermapbox\":[{\"marker\":{\"colorbar\":{\"outlinewidth\":0,\"ticks\":\"\"}},\"type\":\"scattermapbox\"}],\"scatterpolar\":[{\"marker\":{\"colorbar\":{\"outlinewidth\":0,\"ticks\":\"\"}},\"type\":\"scatterpolar\"}],\"scatterpolargl\":[{\"marker\":{\"colorbar\":{\"outlinewidth\":0,\"ticks\":\"\"}},\"type\":\"scatterpolargl\"}],\"scatterternary\":[{\"marker\":{\"colorbar\":{\"outlinewidth\":0,\"ticks\":\"\"}},\"type\":\"scatterternary\"}],\"surface\":[{\"colorbar\":{\"outlinewidth\":0,\"ticks\":\"\"},\"colorscale\":[[0.0,\"#0d0887\"],[0.1111111111111111,\"#46039f\"],[0.2222222222222222,\"#7201a8\"],[0.3333333333333333,\"#9c179e\"],[0.4444444444444444,\"#bd3786\"],[0.5555555555555556,\"#d8576b\"],[0.6666666666666666,\"#ed7953\"],[0.7777777777777778,\"#fb9f3a\"],[0.8888888888888888,\"#fdca26\"],[1.0,\"#f0f921\"]],\"type\":\"surface\"}],\"table\":[{\"cells\":{\"fill\":{\"color\":\"#EBF0F8\"},\"line\":{\"color\":\"white\"}},\"header\":{\"fill\":{\"color\":\"#C8D4E3\"},\"line\":{\"color\":\"white\"}},\"type\":\"table\"}]},\"layout\":{\"annotationdefaults\":{\"arrowcolor\":\"#2a3f5f\",\"arrowhead\":0,\"arrowwidth\":1},\"autotypenumbers\":\"strict\",\"coloraxis\":{\"colorbar\":{\"outlinewidth\":0,\"ticks\":\"\"}},\"colorscale\":{\"diverging\":[[0,\"#8e0152\"],[0.1,\"#c51b7d\"],[0.2,\"#de77ae\"],[0.3,\"#f1b6da\"],[0.4,\"#fde0ef\"],[0.5,\"#f7f7f7\"],[0.6,\"#e6f5d0\"],[0.7,\"#b8e186\"],[0.8,\"#7fbc41\"],[0.9,\"#4d9221\"],[1,\"#276419\"]],\"sequential\":[[0.0,\"#0d0887\"],[0.1111111111111111,\"#46039f\"],[0.2222222222222222,\"#7201a8\"],[0.3333333333333333,\"#9c179e\"],[0.4444444444444444,\"#bd3786\"],[0.5555555555555556,\"#d8576b\"],[0.6666666666666666,\"#ed7953\"],[0.7777777777777778,\"#fb9f3a\"],[0.8888888888888888,\"#fdca26\"],[1.0,\"#f0f921\"]],\"sequentialminus\":[[0.0,\"#0d0887\"],[0.1111111111111111,\"#46039f\"],[0.2222222222222222,\"#7201a8\"],[0.3333333333333333,\"#9c179e\"],[0.4444444444444444,\"#bd3786\"],[0.5555555555555556,\"#d8576b\"],[0.6666666666666666,\"#ed7953\"],[0.7777777777777778,\"#fb9f3a\"],[0.8888888888888888,\"#fdca26\"],[1.0,\"#f0f921\"]]},\"colorway\":[\"#636efa\",\"#EF553B\",\"#00cc96\",\"#ab63fa\",\"#FFA15A\",\"#19d3f3\",\"#FF6692\",\"#B6E880\",\"#FF97FF\",\"#FECB52\"],\"font\":{\"color\":\"#2a3f5f\"},\"geo\":{\"bgcolor\":\"white\",\"lakecolor\":\"white\",\"landcolor\":\"#E5ECF6\",\"showlakes\":true,\"showland\":true,\"subunitcolor\":\"white\"},\"hoverlabel\":{\"align\":\"left\"},\"hovermode\":\"closest\",\"mapbox\":{\"style\":\"light\"},\"paper_bgcolor\":\"white\",\"plot_bgcolor\":\"#E5ECF6\",\"polar\":{\"angularaxis\":{\"gridcolor\":\"white\",\"linecolor\":\"white\",\"ticks\":\"\"},\"bgcolor\":\"#E5ECF6\",\"radialaxis\":{\"gridcolor\":\"white\",\"linecolor\":\"white\",\"ticks\":\"\"}},\"scene\":{\"xaxis\":{\"backgroundcolor\":\"#E5ECF6\",\"gridcolor\":\"white\",\"gridwidth\":2,\"linecolor\":\"white\",\"showbackground\":true,\"ticks\":\"\",\"zerolinecolor\":\"white\"},\"yaxis\":{\"backgroundcolor\":\"#E5ECF6\",\"gridcolor\":\"white\",\"gridwidth\":2,\"linecolor\":\"white\",\"showbackground\":true,\"ticks\":\"\",\"zerolinecolor\":\"white\"},\"zaxis\":{\"backgroundcolor\":\"#E5ECF6\",\"gridcolor\":\"white\",\"gridwidth\":2,\"linecolor\":\"white\",\"showbackground\":true,\"ticks\":\"\",\"zerolinecolor\":\"white\"}},\"shapedefaults\":{\"line\":{\"color\":\"#2a3f5f\"}},\"ternary\":{\"aaxis\":{\"gridcolor\":\"white\",\"linecolor\":\"white\",\"ticks\":\"\"},\"baxis\":{\"gridcolor\":\"white\",\"linecolor\":\"white\",\"ticks\":\"\"},\"bgcolor\":\"#E5ECF6\",\"caxis\":{\"gridcolor\":\"white\",\"linecolor\":\"white\",\"ticks\":\"\"}},\"title\":{\"x\":0.05},\"xaxis\":{\"automargin\":true,\"gridcolor\":\"white\",\"linecolor\":\"white\",\"ticks\":\"\",\"title\":{\"standoff\":15},\"zerolinecolor\":\"white\",\"zerolinewidth\":2},\"yaxis\":{\"automargin\":true,\"gridcolor\":\"white\",\"linecolor\":\"white\",\"ticks\":\"\",\"title\":{\"standoff\":15},\"zerolinecolor\":\"white\",\"zerolinewidth\":2}}},\"xaxis\":{\"anchor\":\"y\",\"domain\":[0.0,1.0],\"title\":{\"text\":\"Age\"}},\"yaxis\":{\"anchor\":\"x\",\"domain\":[0.0,1.0],\"title\":{\"text\":\"BMI\"}},\"legend\":{\"title\":{\"text\":\"Outcome\"},\"tracegroupgap\":0},\"margin\":{\"t\":60}},                        {\"responsive\": true}                    ).then(function(){\n",
              "                            \n",
              "var gd = document.getElementById('5480c7c6-2527-4236-906f-5da5d5ee3d93');\n",
              "var x = new MutationObserver(function (mutations, observer) {{\n",
              "        var display = window.getComputedStyle(gd).display;\n",
              "        if (!display || display === 'none') {{\n",
              "            console.log([gd, 'removed!']);\n",
              "            Plotly.purge(gd);\n",
              "            observer.disconnect();\n",
              "        }}\n",
              "}});\n",
              "\n",
              "// Listen for the removal of the full notebook cells\n",
              "var notebookContainer = gd.closest('#notebook-container');\n",
              "if (notebookContainer) {{\n",
              "    x.observe(notebookContainer, {childList: true});\n",
              "}}\n",
              "\n",
              "// Listen for the clearing of the current output cell\n",
              "var outputEl = gd.closest('.output');\n",
              "if (outputEl) {{\n",
              "    x.observe(outputEl, {childList: true});\n",
              "}}\n",
              "\n",
              "                        })                };                            </script>        </div>\n",
              "</body>\n",
              "</html>"
            ]
          },
          "metadata": {}
        }
      ]
    },
    {
      "cell_type": "code",
      "source": [
        "df_diabetes.columns"
      ],
      "metadata": {
        "colab": {
          "base_uri": "https://localhost:8080/"
        },
        "id": "IuVpKZ6xeEUX",
        "outputId": "3a556c37-61ff-4d2e-9e6e-a0efaf6f6a9f"
      },
      "execution_count": 314,
      "outputs": [
        {
          "output_type": "execute_result",
          "data": {
            "text/plain": [
              "Index(['Pregnancies', 'Glucose', 'BloodPressure', 'SkinThickness', 'Insulin',\n",
              "       'BMI', 'DiabetesPedigreeFunction', 'Age', 'Outcome'],\n",
              "      dtype='object')"
            ]
          },
          "metadata": {},
          "execution_count": 314
        }
      ]
    },
    {
      "cell_type": "code",
      "source": [
        "ax = px.box(df_diabetes.iloc[:,1:-1],template= \"plotly_dark\")\n",
        "ax.show()"
      ],
      "metadata": {
        "colab": {
          "base_uri": "https://localhost:8080/",
          "height": 542
        },
        "id": "ubpmsH3Qe1Yh",
        "outputId": "98da76db-eb49-4238-8514-9d8323a97698"
      },
      "execution_count": 315,
      "outputs": [
        {
          "output_type": "display_data",
          "data": {
            "text/html": [
              "<html>\n",
              "<head><meta charset=\"utf-8\" /></head>\n",
              "<body>\n",
              "    <div>            <script src=\"https://cdnjs.cloudflare.com/ajax/libs/mathjax/2.7.5/MathJax.js?config=TeX-AMS-MML_SVG\"></script><script type=\"text/javascript\">if (window.MathJax) {MathJax.Hub.Config({SVG: {font: \"STIX-Web\"}});}</script>                <script type=\"text/javascript\">window.PlotlyConfig = {MathJaxConfig: 'local'};</script>\n",
              "        <script src=\"https://cdn.plot.ly/plotly-2.8.3.min.js\"></script>                <div id=\"17f476cf-d9f3-439c-bef5-6e252aed0199\" class=\"plotly-graph-div\" style=\"height:525px; width:100%;\"></div>            <script type=\"text/javascript\">                                    window.PLOTLYENV=window.PLOTLYENV || {};                                    if (document.getElementById(\"17f476cf-d9f3-439c-bef5-6e252aed0199\")) {                    Plotly.newPlot(                        \"17f476cf-d9f3-439c-bef5-6e252aed0199\",                        [{\"alignmentgroup\":\"True\",\"hovertemplate\":\"variable=%{x}<br>value=%{y}<extra></extra>\",\"legendgroup\":\"\",\"marker\":{\"color\":\"#636efa\"},\"name\":\"\",\"notched\":false,\"offsetgroup\":\"\",\"orientation\":\"v\",\"showlegend\":false,\"x\":[\"Glucose\",\"Glucose\",\"Glucose\",\"Glucose\",\"Glucose\",\"Glucose\",\"Glucose\",\"Glucose\",\"Glucose\",\"Glucose\",\"Glucose\",\"Glucose\",\"Glucose\",\"Glucose\",\"Glucose\",\"Glucose\",\"Glucose\",\"Glucose\",\"Glucose\",\"Glucose\",\"Glucose\",\"Glucose\",\"Glucose\",\"Glucose\",\"Glucose\",\"Glucose\",\"Glucose\",\"Glucose\",\"Glucose\",\"Glucose\",\"Glucose\",\"Glucose\",\"Glucose\",\"Glucose\",\"Glucose\",\"Glucose\",\"Glucose\",\"Glucose\",\"Glucose\",\"Glucose\",\"Glucose\",\"Glucose\",\"Glucose\",\"Glucose\",\"Glucose\",\"Glucose\",\"Glucose\",\"Glucose\",\"Glucose\",\"Glucose\",\"Glucose\",\"Glucose\",\"Glucose\",\"Glucose\",\"Glucose\",\"Glucose\",\"Glucose\",\"Glucose\",\"Glucose\",\"Glucose\",\"Glucose\",\"Glucose\",\"Glucose\",\"Glucose\",\"Glucose\",\"Glucose\",\"Glucose\",\"Glucose\",\"Glucose\",\"Glucose\",\"Glucose\",\"Glucose\",\"Glucose\",\"Glucose\",\"Glucose\",\"Glucose\",\"Glucose\",\"Glucose\",\"Glucose\",\"Glucose\",\"Glucose\",\"Glucose\",\"Glucose\",\"Glucose\",\"Glucose\",\"Glucose\",\"Glucose\",\"Glucose\",\"Glucose\",\"Glucose\",\"Glucose\",\"Glucose\",\"Glucose\",\"Glucose\",\"Glucose\",\"Glucose\",\"Glucose\",\"Glucose\",\"Glucose\",\"Glucose\",\"Glucose\",\"Glucose\",\"Glucose\",\"Glucose\",\"Glucose\",\"Glucose\",\"Glucose\",\"Glucose\",\"Glucose\",\"Glucose\",\"Glucose\",\"Glucose\",\"Glucose\",\"Glucose\",\"Glucose\",\"Glucose\",\"Glucose\",\"Glucose\",\"Glucose\",\"Glucose\",\"Glucose\",\"Glucose\",\"Glucose\",\"Glucose\",\"Glucose\",\"Glucose\",\"Glucose\",\"Glucose\",\"Glucose\",\"Glucose\",\"Glucose\",\"Glucose\",\"Glucose\",\"Glucose\",\"Glucose\",\"Glucose\",\"Glucose\",\"Glucose\",\"Glucose\",\"Glucose\",\"Glucose\",\"Glucose\",\"Glucose\",\"Glucose\",\"Glucose\",\"Glucose\",\"Glucose\",\"Glucose\",\"Glucose\",\"Glucose\",\"Glucose\",\"Glucose\",\"Glucose\",\"Glucose\",\"Glucose\",\"Glucose\",\"Glucose\",\"Glucose\",\"Glucose\",\"Glucose\",\"Glucose\",\"Glucose\",\"Glucose\",\"Glucose\",\"Glucose\",\"Glucose\",\"Glucose\",\"Glucose\",\"Glucose\",\"Glucose\",\"Glucose\",\"Glucose\",\"Glucose\",\"Glucose\",\"Glucose\",\"Glucose\",\"Glucose\",\"Glucose\",\"Glucose\",\"Glucose\",\"Glucose\",\"Glucose\",\"Glucose\",\"Glucose\",\"Glucose\",\"Glucose\",\"Glucose\",\"Glucose\",\"Glucose\",\"Glucose\",\"Glucose\",\"Glucose\",\"Glucose\",\"Glucose\",\"Glucose\",\"Glucose\",\"Glucose\",\"Glucose\",\"Glucose\",\"Glucose\",\"Glucose\",\"Glucose\",\"Glucose\",\"Glucose\",\"Glucose\",\"Glucose\",\"Glucose\",\"Glucose\",\"Glucose\",\"Glucose\",\"Glucose\",\"Glucose\",\"Glucose\",\"Glucose\",\"Glucose\",\"Glucose\",\"Glucose\",\"Glucose\",\"Glucose\",\"Glucose\",\"Glucose\",\"Glucose\",\"Glucose\",\"Glucose\",\"Glucose\",\"Glucose\",\"Glucose\",\"Glucose\",\"Glucose\",\"Glucose\",\"Glucose\",\"Glucose\",\"Glucose\",\"Glucose\",\"Glucose\",\"Glucose\",\"Glucose\",\"Glucose\",\"Glucose\",\"Glucose\",\"Glucose\",\"Glucose\",\"Glucose\",\"Glucose\",\"Glucose\",\"Glucose\",\"Glucose\",\"Glucose\",\"Glucose\",\"Glucose\",\"Glucose\",\"Glucose\",\"Glucose\",\"Glucose\",\"Glucose\",\"Glucose\",\"Glucose\",\"Glucose\",\"Glucose\",\"Glucose\",\"Glucose\",\"Glucose\",\"Glucose\",\"Glucose\",\"Glucose\",\"Glucose\",\"Glucose\",\"Glucose\",\"Glucose\",\"Glucose\",\"Glucose\",\"Glucose\",\"Glucose\",\"Glucose\",\"Glucose\",\"Glucose\",\"Glucose\",\"Glucose\",\"Glucose\",\"Glucose\",\"Glucose\",\"Glucose\",\"Glucose\",\"Glucose\",\"Glucose\",\"Glucose\",\"Glucose\",\"Glucose\",\"Glucose\",\"Glucose\",\"Glucose\",\"Glucose\",\"Glucose\",\"Glucose\",\"Glucose\",\"Glucose\",\"Glucose\",\"Glucose\",\"Glucose\",\"Glucose\",\"Glucose\",\"Glucose\",\"Glucose\",\"Glucose\",\"Glucose\",\"Glucose\",\"Glucose\",\"Glucose\",\"Glucose\",\"Glucose\",\"Glucose\",\"Glucose\",\"Glucose\",\"Glucose\",\"Glucose\",\"Glucose\",\"Glucose\",\"Glucose\",\"Glucose\",\"Glucose\",\"Glucose\",\"Glucose\",\"Glucose\",\"Glucose\",\"Glucose\",\"Glucose\",\"Glucose\",\"Glucose\",\"Glucose\",\"Glucose\",\"Glucose\",\"Glucose\",\"Glucose\",\"Glucose\",\"Glucose\",\"Glucose\",\"Glucose\",\"Glucose\",\"Glucose\",\"Glucose\",\"Glucose\",\"Glucose\",\"Glucose\",\"Glucose\",\"Glucose\",\"Glucose\",\"Glucose\",\"Glucose\",\"Glucose\",\"Glucose\",\"Glucose\",\"Glucose\",\"Glucose\",\"Glucose\",\"Glucose\",\"Glucose\",\"Glucose\",\"Glucose\",\"Glucose\",\"Glucose\",\"Glucose\",\"Glucose\",\"Glucose\",\"Glucose\",\"Glucose\",\"Glucose\",\"Glucose\",\"Glucose\",\"Glucose\",\"Glucose\",\"Glucose\",\"Glucose\",\"Glucose\",\"Glucose\",\"Glucose\",\"Glucose\",\"Glucose\",\"Glucose\",\"Glucose\",\"Glucose\",\"Glucose\",\"Glucose\",\"Glucose\",\"Glucose\",\"Glucose\",\"Glucose\",\"Glucose\",\"Glucose\",\"Glucose\",\"Glucose\",\"Glucose\",\"Glucose\",\"Glucose\",\"Glucose\",\"Glucose\",\"Glucose\",\"Glucose\",\"Glucose\",\"Glucose\",\"Glucose\",\"Glucose\",\"Glucose\",\"Glucose\",\"Glucose\",\"Glucose\",\"Glucose\",\"Glucose\",\"Glucose\",\"Glucose\",\"Glucose\",\"Glucose\",\"Glucose\",\"Glucose\",\"Glucose\",\"Glucose\",\"Glucose\",\"Glucose\",\"Glucose\",\"Glucose\",\"Glucose\",\"Glucose\",\"Glucose\",\"Glucose\",\"Glucose\",\"Glucose\",\"Glucose\",\"Glucose\",\"Glucose\",\"Glucose\",\"Glucose\",\"Glucose\",\"Glucose\",\"Glucose\",\"Glucose\",\"Glucose\",\"Glucose\",\"Glucose\",\"Glucose\",\"Glucose\",\"Glucose\",\"Glucose\",\"Glucose\",\"Glucose\",\"Glucose\",\"Glucose\",\"Glucose\",\"Glucose\",\"Glucose\",\"Glucose\",\"Glucose\",\"Glucose\",\"Glucose\",\"Glucose\",\"Glucose\",\"Glucose\",\"Glucose\",\"Glucose\",\"Glucose\",\"Glucose\",\"Glucose\",\"Glucose\",\"Glucose\",\"Glucose\",\"Glucose\",\"Glucose\",\"Glucose\",\"Glucose\",\"Glucose\",\"Glucose\",\"Glucose\",\"Glucose\",\"Glucose\",\"Glucose\",\"Glucose\",\"Glucose\",\"Glucose\",\"Glucose\",\"Glucose\",\"Glucose\",\"Glucose\",\"Glucose\",\"Glucose\",\"Glucose\",\"Glucose\",\"Glucose\",\"Glucose\",\"Glucose\",\"Glucose\",\"Glucose\",\"Glucose\",\"Glucose\",\"Glucose\",\"Glucose\",\"Glucose\",\"Glucose\",\"Glucose\",\"Glucose\",\"Glucose\",\"Glucose\",\"Glucose\",\"Glucose\",\"Glucose\",\"Glucose\",\"Glucose\",\"Glucose\",\"Glucose\",\"Glucose\",\"Glucose\",\"Glucose\",\"Glucose\",\"Glucose\",\"Glucose\",\"Glucose\",\"Glucose\",\"Glucose\",\"Glucose\",\"Glucose\",\"Glucose\",\"Glucose\",\"Glucose\",\"Glucose\",\"Glucose\",\"Glucose\",\"Glucose\",\"Glucose\",\"Glucose\",\"Glucose\",\"Glucose\",\"Glucose\",\"Glucose\",\"Glucose\",\"Glucose\",\"Glucose\",\"Glucose\",\"Glucose\",\"Glucose\",\"Glucose\",\"Glucose\",\"Glucose\",\"Glucose\",\"Glucose\",\"Glucose\",\"Glucose\",\"Glucose\",\"Glucose\",\"Glucose\",\"Glucose\",\"Glucose\",\"Glucose\",\"Glucose\",\"Glucose\",\"Glucose\",\"Glucose\",\"Glucose\",\"Glucose\",\"Glucose\",\"Glucose\",\"Glucose\",\"Glucose\",\"Glucose\",\"Glucose\",\"Glucose\",\"Glucose\",\"Glucose\",\"Glucose\",\"Glucose\",\"Glucose\",\"Glucose\",\"Glucose\",\"Glucose\",\"Glucose\",\"Glucose\",\"Glucose\",\"Glucose\",\"Glucose\",\"Glucose\",\"Glucose\",\"Glucose\",\"Glucose\",\"Glucose\",\"Glucose\",\"Glucose\",\"Glucose\",\"Glucose\",\"Glucose\",\"Glucose\",\"Glucose\",\"Glucose\",\"Glucose\",\"Glucose\",\"Glucose\",\"Glucose\",\"Glucose\",\"Glucose\",\"Glucose\",\"Glucose\",\"Glucose\",\"Glucose\",\"Glucose\",\"Glucose\",\"Glucose\",\"Glucose\",\"Glucose\",\"Glucose\",\"Glucose\",\"Glucose\",\"Glucose\",\"Glucose\",\"Glucose\",\"Glucose\",\"Glucose\",\"Glucose\",\"Glucose\",\"Glucose\",\"Glucose\",\"Glucose\",\"Glucose\",\"Glucose\",\"Glucose\",\"Glucose\",\"Glucose\",\"Glucose\",\"Glucose\",\"Glucose\",\"Glucose\",\"Glucose\",\"Glucose\",\"Glucose\",\"Glucose\",\"Glucose\",\"Glucose\",\"Glucose\",\"Glucose\",\"Glucose\",\"Glucose\",\"Glucose\",\"Glucose\",\"Glucose\",\"Glucose\",\"Glucose\",\"Glucose\",\"Glucose\",\"Glucose\",\"Glucose\",\"Glucose\",\"Glucose\",\"Glucose\",\"Glucose\",\"Glucose\",\"Glucose\",\"Glucose\",\"Glucose\",\"Glucose\",\"Glucose\",\"Glucose\",\"Glucose\",\"Glucose\",\"Glucose\",\"Glucose\",\"Glucose\",\"Glucose\",\"Glucose\",\"Glucose\",\"Glucose\",\"Glucose\",\"Glucose\",\"Glucose\",\"Glucose\",\"Glucose\",\"Glucose\",\"Glucose\",\"Glucose\",\"Glucose\",\"Glucose\",\"Glucose\",\"Glucose\",\"Glucose\",\"Glucose\",\"Glucose\",\"Glucose\",\"Glucose\",\"Glucose\",\"Glucose\",\"Glucose\",\"Glucose\",\"Glucose\",\"Glucose\",\"Glucose\",\"Glucose\",\"Glucose\",\"Glucose\",\"Glucose\",\"Glucose\",\"Glucose\",\"Glucose\",\"Glucose\",\"Glucose\",\"Glucose\",\"Glucose\",\"Glucose\",\"Glucose\",\"Glucose\",\"Glucose\",\"Glucose\",\"Glucose\",\"Glucose\",\"Glucose\",\"Glucose\",\"Glucose\",\"Glucose\",\"Glucose\",\"Glucose\",\"Glucose\",\"Glucose\",\"Glucose\",\"Glucose\",\"Glucose\",\"Glucose\",\"Glucose\",\"Glucose\",\"Glucose\",\"Glucose\",\"Glucose\",\"Glucose\",\"Glucose\",\"Glucose\",\"Glucose\",\"Glucose\",\"Glucose\",\"Glucose\",\"Glucose\",\"Glucose\",\"Glucose\",\"Glucose\",\"Glucose\",\"Glucose\",\"Glucose\",\"Glucose\",\"Glucose\",\"Glucose\",\"Glucose\",\"Glucose\",\"Glucose\",\"Glucose\",\"Glucose\",\"Glucose\",\"Glucose\",\"Glucose\",\"Glucose\",\"Glucose\",\"Glucose\",\"Glucose\",\"Glucose\",\"Glucose\",\"Glucose\",\"Glucose\",\"Glucose\",\"Glucose\",\"Glucose\",\"Glucose\",\"Glucose\",\"Glucose\",\"Glucose\",\"Glucose\",\"Glucose\",\"Glucose\",\"Glucose\",\"Glucose\",\"BloodPressure\",\"BloodPressure\",\"BloodPressure\",\"BloodPressure\",\"BloodPressure\",\"BloodPressure\",\"BloodPressure\",\"BloodPressure\",\"BloodPressure\",\"BloodPressure\",\"BloodPressure\",\"BloodPressure\",\"BloodPressure\",\"BloodPressure\",\"BloodPressure\",\"BloodPressure\",\"BloodPressure\",\"BloodPressure\",\"BloodPressure\",\"BloodPressure\",\"BloodPressure\",\"BloodPressure\",\"BloodPressure\",\"BloodPressure\",\"BloodPressure\",\"BloodPressure\",\"BloodPressure\",\"BloodPressure\",\"BloodPressure\",\"BloodPressure\",\"BloodPressure\",\"BloodPressure\",\"BloodPressure\",\"BloodPressure\",\"BloodPressure\",\"BloodPressure\",\"BloodPressure\",\"BloodPressure\",\"BloodPressure\",\"BloodPressure\",\"BloodPressure\",\"BloodPressure\",\"BloodPressure\",\"BloodPressure\",\"BloodPressure\",\"BloodPressure\",\"BloodPressure\",\"BloodPressure\",\"BloodPressure\",\"BloodPressure\",\"BloodPressure\",\"BloodPressure\",\"BloodPressure\",\"BloodPressure\",\"BloodPressure\",\"BloodPressure\",\"BloodPressure\",\"BloodPressure\",\"BloodPressure\",\"BloodPressure\",\"BloodPressure\",\"BloodPressure\",\"BloodPressure\",\"BloodPressure\",\"BloodPressure\",\"BloodPressure\",\"BloodPressure\",\"BloodPressure\",\"BloodPressure\",\"BloodPressure\",\"BloodPressure\",\"BloodPressure\",\"BloodPressure\",\"BloodPressure\",\"BloodPressure\",\"BloodPressure\",\"BloodPressure\",\"BloodPressure\",\"BloodPressure\",\"BloodPressure\",\"BloodPressure\",\"BloodPressure\",\"BloodPressure\",\"BloodPressure\",\"BloodPressure\",\"BloodPressure\",\"BloodPressure\",\"BloodPressure\",\"BloodPressure\",\"BloodPressure\",\"BloodPressure\",\"BloodPressure\",\"BloodPressure\",\"BloodPressure\",\"BloodPressure\",\"BloodPressure\",\"BloodPressure\",\"BloodPressure\",\"BloodPressure\",\"BloodPressure\",\"BloodPressure\",\"BloodPressure\",\"BloodPressure\",\"BloodPressure\",\"BloodPressure\",\"BloodPressure\",\"BloodPressure\",\"BloodPressure\",\"BloodPressure\",\"BloodPressure\",\"BloodPressure\",\"BloodPressure\",\"BloodPressure\",\"BloodPressure\",\"BloodPressure\",\"BloodPressure\",\"BloodPressure\",\"BloodPressure\",\"BloodPressure\",\"BloodPressure\",\"BloodPressure\",\"BloodPressure\",\"BloodPressure\",\"BloodPressure\",\"BloodPressure\",\"BloodPressure\",\"BloodPressure\",\"BloodPressure\",\"BloodPressure\",\"BloodPressure\",\"BloodPressure\",\"BloodPressure\",\"BloodPressure\",\"BloodPressure\",\"BloodPressure\",\"BloodPressure\",\"BloodPressure\",\"BloodPressure\",\"BloodPressure\",\"BloodPressure\",\"BloodPressure\",\"BloodPressure\",\"BloodPressure\",\"BloodPressure\",\"BloodPressure\",\"BloodPressure\",\"BloodPressure\",\"BloodPressure\",\"BloodPressure\",\"BloodPressure\",\"BloodPressure\",\"BloodPressure\",\"BloodPressure\",\"BloodPressure\",\"BloodPressure\",\"BloodPressure\",\"BloodPressure\",\"BloodPressure\",\"BloodPressure\",\"BloodPressure\",\"BloodPressure\",\"BloodPressure\",\"BloodPressure\",\"BloodPressure\",\"BloodPressure\",\"BloodPressure\",\"BloodPressure\",\"BloodPressure\",\"BloodPressure\",\"BloodPressure\",\"BloodPressure\",\"BloodPressure\",\"BloodPressure\",\"BloodPressure\",\"BloodPressure\",\"BloodPressure\",\"BloodPressure\",\"BloodPressure\",\"BloodPressure\",\"BloodPressure\",\"BloodPressure\",\"BloodPressure\",\"BloodPressure\",\"BloodPressure\",\"BloodPressure\",\"BloodPressure\",\"BloodPressure\",\"BloodPressure\",\"BloodPressure\",\"BloodPressure\",\"BloodPressure\",\"BloodPressure\",\"BloodPressure\",\"BloodPressure\",\"BloodPressure\",\"BloodPressure\",\"BloodPressure\",\"BloodPressure\",\"BloodPressure\",\"BloodPressure\",\"BloodPressure\",\"BloodPressure\",\"BloodPressure\",\"BloodPressure\",\"BloodPressure\",\"BloodPressure\",\"BloodPressure\",\"BloodPressure\",\"BloodPressure\",\"BloodPressure\",\"BloodPressure\",\"BloodPressure\",\"BloodPressure\",\"BloodPressure\",\"BloodPressure\",\"BloodPressure\",\"BloodPressure\",\"BloodPressure\",\"BloodPressure\",\"BloodPressure\",\"BloodPressure\",\"BloodPressure\",\"BloodPressure\",\"BloodPressure\",\"BloodPressure\",\"BloodPressure\",\"BloodPressure\",\"BloodPressure\",\"BloodPressure\",\"BloodPressure\",\"BloodPressure\",\"BloodPressure\",\"BloodPressure\",\"BloodPressure\",\"BloodPressure\",\"BloodPressure\",\"BloodPressure\",\"BloodPressure\",\"BloodPressure\",\"BloodPressure\",\"BloodPressure\",\"BloodPressure\",\"BloodPressure\",\"BloodPressure\",\"BloodPressure\",\"BloodPressure\",\"BloodPressure\",\"BloodPressure\",\"BloodPressure\",\"BloodPressure\",\"BloodPressure\",\"BloodPressure\",\"BloodPressure\",\"BloodPressure\",\"BloodPressure\",\"BloodPressure\",\"BloodPressure\",\"BloodPressure\",\"BloodPressure\",\"BloodPressure\",\"BloodPressure\",\"BloodPressure\",\"BloodPressure\",\"BloodPressure\",\"BloodPressure\",\"BloodPressure\",\"BloodPressure\",\"BloodPressure\",\"BloodPressure\",\"BloodPressure\",\"BloodPressure\",\"BloodPressure\",\"BloodPressure\",\"BloodPressure\",\"BloodPressure\",\"BloodPressure\",\"BloodPressure\",\"BloodPressure\",\"BloodPressure\",\"BloodPressure\",\"BloodPressure\",\"BloodPressure\",\"BloodPressure\",\"BloodPressure\",\"BloodPressure\",\"BloodPressure\",\"BloodPressure\",\"BloodPressure\",\"BloodPressure\",\"BloodPressure\",\"BloodPressure\",\"BloodPressure\",\"BloodPressure\",\"BloodPressure\",\"BloodPressure\",\"BloodPressure\",\"BloodPressure\",\"BloodPressure\",\"BloodPressure\",\"BloodPressure\",\"BloodPressure\",\"BloodPressure\",\"BloodPressure\",\"BloodPressure\",\"BloodPressure\",\"BloodPressure\",\"BloodPressure\",\"BloodPressure\",\"BloodPressure\",\"BloodPressure\",\"BloodPressure\",\"BloodPressure\",\"BloodPressure\",\"BloodPressure\",\"BloodPressure\",\"BloodPressure\",\"BloodPressure\",\"BloodPressure\",\"BloodPressure\",\"BloodPressure\",\"BloodPressure\",\"BloodPressure\",\"BloodPressure\",\"BloodPressure\",\"BloodPressure\",\"BloodPressure\",\"BloodPressure\",\"BloodPressure\",\"BloodPressure\",\"BloodPressure\",\"BloodPressure\",\"BloodPressure\",\"BloodPressure\",\"BloodPressure\",\"BloodPressure\",\"BloodPressure\",\"BloodPressure\",\"BloodPressure\",\"BloodPressure\",\"BloodPressure\",\"BloodPressure\",\"BloodPressure\",\"BloodPressure\",\"BloodPressure\",\"BloodPressure\",\"BloodPressure\",\"BloodPressure\",\"BloodPressure\",\"BloodPressure\",\"BloodPressure\",\"BloodPressure\",\"BloodPressure\",\"BloodPressure\",\"BloodPressure\",\"BloodPressure\",\"BloodPressure\",\"BloodPressure\",\"BloodPressure\",\"BloodPressure\",\"BloodPressure\",\"BloodPressure\",\"BloodPressure\",\"BloodPressure\",\"BloodPressure\",\"BloodPressure\",\"BloodPressure\",\"BloodPressure\",\"BloodPressure\",\"BloodPressure\",\"BloodPressure\",\"BloodPressure\",\"BloodPressure\",\"BloodPressure\",\"BloodPressure\",\"BloodPressure\",\"BloodPressure\",\"BloodPressure\",\"BloodPressure\",\"BloodPressure\",\"BloodPressure\",\"BloodPressure\",\"BloodPressure\",\"BloodPressure\",\"BloodPressure\",\"BloodPressure\",\"BloodPressure\",\"BloodPressure\",\"BloodPressure\",\"BloodPressure\",\"BloodPressure\",\"BloodPressure\",\"BloodPressure\",\"BloodPressure\",\"BloodPressure\",\"BloodPressure\",\"BloodPressure\",\"BloodPressure\",\"BloodPressure\",\"BloodPressure\",\"BloodPressure\",\"BloodPressure\",\"BloodPressure\",\"BloodPressure\",\"BloodPressure\",\"BloodPressure\",\"BloodPressure\",\"BloodPressure\",\"BloodPressure\",\"BloodPressure\",\"BloodPressure\",\"BloodPressure\",\"BloodPressure\",\"BloodPressure\",\"BloodPressure\",\"BloodPressure\",\"BloodPressure\",\"BloodPressure\",\"BloodPressure\",\"BloodPressure\",\"BloodPressure\",\"BloodPressure\",\"BloodPressure\",\"BloodPressure\",\"BloodPressure\",\"BloodPressure\",\"BloodPressure\",\"BloodPressure\",\"BloodPressure\",\"BloodPressure\",\"BloodPressure\",\"BloodPressure\",\"BloodPressure\",\"BloodPressure\",\"BloodPressure\",\"BloodPressure\",\"BloodPressure\",\"BloodPressure\",\"BloodPressure\",\"BloodPressure\",\"BloodPressure\",\"BloodPressure\",\"BloodPressure\",\"BloodPressure\",\"BloodPressure\",\"BloodPressure\",\"BloodPressure\",\"BloodPressure\",\"BloodPressure\",\"BloodPressure\",\"BloodPressure\",\"BloodPressure\",\"BloodPressure\",\"BloodPressure\",\"BloodPressure\",\"BloodPressure\",\"BloodPressure\",\"BloodPressure\",\"BloodPressure\",\"BloodPressure\",\"BloodPressure\",\"BloodPressure\",\"BloodPressure\",\"BloodPressure\",\"BloodPressure\",\"BloodPressure\",\"BloodPressure\",\"BloodPressure\",\"BloodPressure\",\"BloodPressure\",\"BloodPressure\",\"BloodPressure\",\"BloodPressure\",\"BloodPressure\",\"BloodPressure\",\"BloodPressure\",\"BloodPressure\",\"BloodPressure\",\"BloodPressure\",\"BloodPressure\",\"BloodPressure\",\"BloodPressure\",\"BloodPressure\",\"BloodPressure\",\"BloodPressure\",\"BloodPressure\",\"BloodPressure\",\"BloodPressure\",\"BloodPressure\",\"BloodPressure\",\"BloodPressure\",\"BloodPressure\",\"BloodPressure\",\"BloodPressure\",\"BloodPressure\",\"BloodPressure\",\"BloodPressure\",\"BloodPressure\",\"BloodPressure\",\"BloodPressure\",\"BloodPressure\",\"BloodPressure\",\"BloodPressure\",\"BloodPressure\",\"BloodPressure\",\"BloodPressure\",\"BloodPressure\",\"BloodPressure\",\"BloodPressure\",\"BloodPressure\",\"BloodPressure\",\"BloodPressure\",\"BloodPressure\",\"BloodPressure\",\"BloodPressure\",\"BloodPressure\",\"BloodPressure\",\"BloodPressure\",\"BloodPressure\",\"BloodPressure\",\"BloodPressure\",\"BloodPressure\",\"BloodPressure\",\"BloodPressure\",\"BloodPressure\",\"BloodPressure\",\"BloodPressure\",\"BloodPressure\",\"BloodPressure\",\"BloodPressure\",\"BloodPressure\",\"BloodPressure\",\"BloodPressure\",\"BloodPressure\",\"BloodPressure\",\"BloodPressure\",\"BloodPressure\",\"BloodPressure\",\"BloodPressure\",\"BloodPressure\",\"BloodPressure\",\"BloodPressure\",\"BloodPressure\",\"BloodPressure\",\"BloodPressure\",\"BloodPressure\",\"BloodPressure\",\"BloodPressure\",\"BloodPressure\",\"BloodPressure\",\"BloodPressure\",\"BloodPressure\",\"BloodPressure\",\"BloodPressure\",\"BloodPressure\",\"BloodPressure\",\"BloodPressure\",\"BloodPressure\",\"BloodPressure\",\"BloodPressure\",\"BloodPressure\",\"BloodPressure\",\"BloodPressure\",\"BloodPressure\",\"BloodPressure\",\"BloodPressure\",\"BloodPressure\",\"BloodPressure\",\"BloodPressure\",\"BloodPressure\",\"BloodPressure\",\"BloodPressure\",\"BloodPressure\",\"BloodPressure\",\"BloodPressure\",\"BloodPressure\",\"BloodPressure\",\"BloodPressure\",\"BloodPressure\",\"BloodPressure\",\"BloodPressure\",\"BloodPressure\",\"BloodPressure\",\"BloodPressure\",\"BloodPressure\",\"BloodPressure\",\"BloodPressure\",\"BloodPressure\",\"BloodPressure\",\"BloodPressure\",\"BloodPressure\",\"BloodPressure\",\"BloodPressure\",\"BloodPressure\",\"BloodPressure\",\"BloodPressure\",\"BloodPressure\",\"BloodPressure\",\"BloodPressure\",\"BloodPressure\",\"BloodPressure\",\"BloodPressure\",\"BloodPressure\",\"BloodPressure\",\"BloodPressure\",\"BloodPressure\",\"BloodPressure\",\"BloodPressure\",\"BloodPressure\",\"BloodPressure\",\"BloodPressure\",\"BloodPressure\",\"BloodPressure\",\"BloodPressure\",\"BloodPressure\",\"BloodPressure\",\"BloodPressure\",\"BloodPressure\",\"BloodPressure\",\"BloodPressure\",\"BloodPressure\",\"BloodPressure\",\"BloodPressure\",\"BloodPressure\",\"BloodPressure\",\"BloodPressure\",\"BloodPressure\",\"BloodPressure\",\"BloodPressure\",\"BloodPressure\",\"BloodPressure\",\"BloodPressure\",\"BloodPressure\",\"BloodPressure\",\"BloodPressure\",\"BloodPressure\",\"BloodPressure\",\"BloodPressure\",\"BloodPressure\",\"BloodPressure\",\"BloodPressure\",\"BloodPressure\",\"BloodPressure\",\"BloodPressure\",\"BloodPressure\",\"BloodPressure\",\"BloodPressure\",\"BloodPressure\",\"BloodPressure\",\"BloodPressure\",\"BloodPressure\",\"BloodPressure\",\"BloodPressure\",\"BloodPressure\",\"BloodPressure\",\"BloodPressure\",\"BloodPressure\",\"BloodPressure\",\"BloodPressure\",\"BloodPressure\",\"BloodPressure\",\"BloodPressure\",\"BloodPressure\",\"BloodPressure\",\"BloodPressure\",\"BloodPressure\",\"BloodPressure\",\"BloodPressure\",\"BloodPressure\",\"BloodPressure\",\"BloodPressure\",\"BloodPressure\",\"BloodPressure\",\"BloodPressure\",\"BloodPressure\",\"BloodPressure\",\"BloodPressure\",\"BloodPressure\",\"BloodPressure\",\"BloodPressure\",\"BloodPressure\",\"BloodPressure\",\"BloodPressure\",\"BloodPressure\",\"BloodPressure\",\"BloodPressure\",\"BloodPressure\",\"BloodPressure\",\"BloodPressure\",\"BloodPressure\",\"BloodPressure\",\"BloodPressure\",\"BloodPressure\",\"BloodPressure\",\"BloodPressure\",\"BloodPressure\",\"BloodPressure\",\"BloodPressure\",\"BloodPressure\",\"BloodPressure\",\"BloodPressure\",\"BloodPressure\",\"BloodPressure\",\"BloodPressure\",\"BloodPressure\",\"BloodPressure\",\"BloodPressure\",\"BloodPressure\",\"BloodPressure\",\"BloodPressure\",\"BloodPressure\",\"BloodPressure\",\"BloodPressure\",\"BloodPressure\",\"BloodPressure\",\"BloodPressure\",\"BloodPressure\",\"BloodPressure\",\"BloodPressure\",\"BloodPressure\",\"BloodPressure\",\"BloodPressure\",\"BloodPressure\",\"BloodPressure\",\"BloodPressure\",\"BloodPressure\",\"BloodPressure\",\"BloodPressure\",\"BloodPressure\",\"BloodPressure\",\"BloodPressure\",\"BloodPressure\",\"BloodPressure\",\"BloodPressure\",\"BloodPressure\",\"BloodPressure\",\"BloodPressure\",\"BloodPressure\",\"BloodPressure\",\"BloodPressure\",\"BloodPressure\",\"BloodPressure\",\"BloodPressure\",\"BloodPressure\",\"BloodPressure\",\"BloodPressure\",\"BloodPressure\",\"BloodPressure\",\"BloodPressure\",\"BloodPressure\",\"BloodPressure\",\"BloodPressure\",\"BloodPressure\",\"BloodPressure\",\"BloodPressure\",\"BloodPressure\",\"BloodPressure\",\"BloodPressure\",\"BloodPressure\",\"BloodPressure\",\"BloodPressure\",\"BloodPressure\",\"BloodPressure\",\"BloodPressure\",\"BloodPressure\",\"BloodPressure\",\"BloodPressure\",\"BloodPressure\",\"BloodPressure\",\"SkinThickness\",\"SkinThickness\",\"SkinThickness\",\"SkinThickness\",\"SkinThickness\",\"SkinThickness\",\"SkinThickness\",\"SkinThickness\",\"SkinThickness\",\"SkinThickness\",\"SkinThickness\",\"SkinThickness\",\"SkinThickness\",\"SkinThickness\",\"SkinThickness\",\"SkinThickness\",\"SkinThickness\",\"SkinThickness\",\"SkinThickness\",\"SkinThickness\",\"SkinThickness\",\"SkinThickness\",\"SkinThickness\",\"SkinThickness\",\"SkinThickness\",\"SkinThickness\",\"SkinThickness\",\"SkinThickness\",\"SkinThickness\",\"SkinThickness\",\"SkinThickness\",\"SkinThickness\",\"SkinThickness\",\"SkinThickness\",\"SkinThickness\",\"SkinThickness\",\"SkinThickness\",\"SkinThickness\",\"SkinThickness\",\"SkinThickness\",\"SkinThickness\",\"SkinThickness\",\"SkinThickness\",\"SkinThickness\",\"SkinThickness\",\"SkinThickness\",\"SkinThickness\",\"SkinThickness\",\"SkinThickness\",\"SkinThickness\",\"SkinThickness\",\"SkinThickness\",\"SkinThickness\",\"SkinThickness\",\"SkinThickness\",\"SkinThickness\",\"SkinThickness\",\"SkinThickness\",\"SkinThickness\",\"SkinThickness\",\"SkinThickness\",\"SkinThickness\",\"SkinThickness\",\"SkinThickness\",\"SkinThickness\",\"SkinThickness\",\"SkinThickness\",\"SkinThickness\",\"SkinThickness\",\"SkinThickness\",\"SkinThickness\",\"SkinThickness\",\"SkinThickness\",\"SkinThickness\",\"SkinThickness\",\"SkinThickness\",\"SkinThickness\",\"SkinThickness\",\"SkinThickness\",\"SkinThickness\",\"SkinThickness\",\"SkinThickness\",\"SkinThickness\",\"SkinThickness\",\"SkinThickness\",\"SkinThickness\",\"SkinThickness\",\"SkinThickness\",\"SkinThickness\",\"SkinThickness\",\"SkinThickness\",\"SkinThickness\",\"SkinThickness\",\"SkinThickness\",\"SkinThickness\",\"SkinThickness\",\"SkinThickness\",\"SkinThickness\",\"SkinThickness\",\"SkinThickness\",\"SkinThickness\",\"SkinThickness\",\"SkinThickness\",\"SkinThickness\",\"SkinThickness\",\"SkinThickness\",\"SkinThickness\",\"SkinThickness\",\"SkinThickness\",\"SkinThickness\",\"SkinThickness\",\"SkinThickness\",\"SkinThickness\",\"SkinThickness\",\"SkinThickness\",\"SkinThickness\",\"SkinThickness\",\"SkinThickness\",\"SkinThickness\",\"SkinThickness\",\"SkinThickness\",\"SkinThickness\",\"SkinThickness\",\"SkinThickness\",\"SkinThickness\",\"SkinThickness\",\"SkinThickness\",\"SkinThickness\",\"SkinThickness\",\"SkinThickness\",\"SkinThickness\",\"SkinThickness\",\"SkinThickness\",\"SkinThickness\",\"SkinThickness\",\"SkinThickness\",\"SkinThickness\",\"SkinThickness\",\"SkinThickness\",\"SkinThickness\",\"SkinThickness\",\"SkinThickness\",\"SkinThickness\",\"SkinThickness\",\"SkinThickness\",\"SkinThickness\",\"SkinThickness\",\"SkinThickness\",\"SkinThickness\",\"SkinThickness\",\"SkinThickness\",\"SkinThickness\",\"SkinThickness\",\"SkinThickness\",\"SkinThickness\",\"SkinThickness\",\"SkinThickness\",\"SkinThickness\",\"SkinThickness\",\"SkinThickness\",\"SkinThickness\",\"SkinThickness\",\"SkinThickness\",\"SkinThickness\",\"SkinThickness\",\"SkinThickness\",\"SkinThickness\",\"SkinThickness\",\"SkinThickness\",\"SkinThickness\",\"SkinThickness\",\"SkinThickness\",\"SkinThickness\",\"SkinThickness\",\"SkinThickness\",\"SkinThickness\",\"SkinThickness\",\"SkinThickness\",\"SkinThickness\",\"SkinThickness\",\"SkinThickness\",\"SkinThickness\",\"SkinThickness\",\"SkinThickness\",\"SkinThickness\",\"SkinThickness\",\"SkinThickness\",\"SkinThickness\",\"SkinThickness\",\"SkinThickness\",\"SkinThickness\",\"SkinThickness\",\"SkinThickness\",\"SkinThickness\",\"SkinThickness\",\"SkinThickness\",\"SkinThickness\",\"SkinThickness\",\"SkinThickness\",\"SkinThickness\",\"SkinThickness\",\"SkinThickness\",\"SkinThickness\",\"SkinThickness\",\"SkinThickness\",\"SkinThickness\",\"SkinThickness\",\"SkinThickness\",\"SkinThickness\",\"SkinThickness\",\"SkinThickness\",\"SkinThickness\",\"SkinThickness\",\"SkinThickness\",\"SkinThickness\",\"SkinThickness\",\"SkinThickness\",\"SkinThickness\",\"SkinThickness\",\"SkinThickness\",\"SkinThickness\",\"SkinThickness\",\"SkinThickness\",\"SkinThickness\",\"SkinThickness\",\"SkinThickness\",\"SkinThickness\",\"SkinThickness\",\"SkinThickness\",\"SkinThickness\",\"SkinThickness\",\"SkinThickness\",\"SkinThickness\",\"SkinThickness\",\"SkinThickness\",\"SkinThickness\",\"SkinThickness\",\"SkinThickness\",\"SkinThickness\",\"SkinThickness\",\"SkinThickness\",\"SkinThickness\",\"SkinThickness\",\"SkinThickness\",\"SkinThickness\",\"SkinThickness\",\"SkinThickness\",\"SkinThickness\",\"SkinThickness\",\"SkinThickness\",\"SkinThickness\",\"SkinThickness\",\"SkinThickness\",\"SkinThickness\",\"SkinThickness\",\"SkinThickness\",\"SkinThickness\",\"SkinThickness\",\"SkinThickness\",\"SkinThickness\",\"SkinThickness\",\"SkinThickness\",\"SkinThickness\",\"SkinThickness\",\"SkinThickness\",\"SkinThickness\",\"SkinThickness\",\"SkinThickness\",\"SkinThickness\",\"SkinThickness\",\"SkinThickness\",\"SkinThickness\",\"SkinThickness\",\"SkinThickness\",\"SkinThickness\",\"SkinThickness\",\"SkinThickness\",\"SkinThickness\",\"SkinThickness\",\"SkinThickness\",\"SkinThickness\",\"SkinThickness\",\"SkinThickness\",\"SkinThickness\",\"SkinThickness\",\"SkinThickness\",\"SkinThickness\",\"SkinThickness\",\"SkinThickness\",\"SkinThickness\",\"SkinThickness\",\"SkinThickness\",\"SkinThickness\",\"SkinThickness\",\"SkinThickness\",\"SkinThickness\",\"SkinThickness\",\"SkinThickness\",\"SkinThickness\",\"SkinThickness\",\"SkinThickness\",\"SkinThickness\",\"SkinThickness\",\"SkinThickness\",\"SkinThickness\",\"SkinThickness\",\"SkinThickness\",\"SkinThickness\",\"SkinThickness\",\"SkinThickness\",\"SkinThickness\",\"SkinThickness\",\"SkinThickness\",\"SkinThickness\",\"SkinThickness\",\"SkinThickness\",\"SkinThickness\",\"SkinThickness\",\"SkinThickness\",\"SkinThickness\",\"SkinThickness\",\"SkinThickness\",\"SkinThickness\",\"SkinThickness\",\"SkinThickness\",\"SkinThickness\",\"SkinThickness\",\"SkinThickness\",\"SkinThickness\",\"SkinThickness\",\"SkinThickness\",\"SkinThickness\",\"SkinThickness\",\"SkinThickness\",\"SkinThickness\",\"SkinThickness\",\"SkinThickness\",\"SkinThickness\",\"SkinThickness\",\"SkinThickness\",\"SkinThickness\",\"SkinThickness\",\"SkinThickness\",\"SkinThickness\",\"SkinThickness\",\"SkinThickness\",\"SkinThickness\",\"SkinThickness\",\"SkinThickness\",\"SkinThickness\",\"SkinThickness\",\"SkinThickness\",\"SkinThickness\",\"SkinThickness\",\"SkinThickness\",\"SkinThickness\",\"SkinThickness\",\"SkinThickness\",\"SkinThickness\",\"SkinThickness\",\"SkinThickness\",\"SkinThickness\",\"SkinThickness\",\"SkinThickness\",\"SkinThickness\",\"SkinThickness\",\"SkinThickness\",\"SkinThickness\",\"SkinThickness\",\"SkinThickness\",\"SkinThickness\",\"SkinThickness\",\"SkinThickness\",\"SkinThickness\",\"SkinThickness\",\"SkinThickness\",\"SkinThickness\",\"SkinThickness\",\"SkinThickness\",\"SkinThickness\",\"SkinThickness\",\"SkinThickness\",\"SkinThickness\",\"SkinThickness\",\"SkinThickness\",\"SkinThickness\",\"SkinThickness\",\"SkinThickness\",\"SkinThickness\",\"SkinThickness\",\"SkinThickness\",\"SkinThickness\",\"SkinThickness\",\"SkinThickness\",\"SkinThickness\",\"SkinThickness\",\"SkinThickness\",\"SkinThickness\",\"SkinThickness\",\"SkinThickness\",\"SkinThickness\",\"SkinThickness\",\"SkinThickness\",\"SkinThickness\",\"SkinThickness\",\"SkinThickness\",\"SkinThickness\",\"SkinThickness\",\"SkinThickness\",\"SkinThickness\",\"SkinThickness\",\"SkinThickness\",\"SkinThickness\",\"SkinThickness\",\"SkinThickness\",\"SkinThickness\",\"SkinThickness\",\"SkinThickness\",\"SkinThickness\",\"SkinThickness\",\"SkinThickness\",\"SkinThickness\",\"SkinThickness\",\"SkinThickness\",\"SkinThickness\",\"SkinThickness\",\"SkinThickness\",\"SkinThickness\",\"SkinThickness\",\"SkinThickness\",\"SkinThickness\",\"SkinThickness\",\"SkinThickness\",\"SkinThickness\",\"SkinThickness\",\"SkinThickness\",\"SkinThickness\",\"SkinThickness\",\"SkinThickness\",\"SkinThickness\",\"SkinThickness\",\"SkinThickness\",\"SkinThickness\",\"SkinThickness\",\"SkinThickness\",\"SkinThickness\",\"SkinThickness\",\"SkinThickness\",\"SkinThickness\",\"SkinThickness\",\"SkinThickness\",\"SkinThickness\",\"SkinThickness\",\"SkinThickness\",\"SkinThickness\",\"SkinThickness\",\"SkinThickness\",\"SkinThickness\",\"SkinThickness\",\"SkinThickness\",\"SkinThickness\",\"SkinThickness\",\"SkinThickness\",\"SkinThickness\",\"SkinThickness\",\"SkinThickness\",\"SkinThickness\",\"SkinThickness\",\"SkinThickness\",\"SkinThickness\",\"SkinThickness\",\"SkinThickness\",\"SkinThickness\",\"SkinThickness\",\"SkinThickness\",\"SkinThickness\",\"SkinThickness\",\"SkinThickness\",\"SkinThickness\",\"SkinThickness\",\"SkinThickness\",\"SkinThickness\",\"SkinThickness\",\"SkinThickness\",\"SkinThickness\",\"SkinThickness\",\"SkinThickness\",\"SkinThickness\",\"SkinThickness\",\"SkinThickness\",\"SkinThickness\",\"SkinThickness\",\"SkinThickness\",\"SkinThickness\",\"SkinThickness\",\"SkinThickness\",\"SkinThickness\",\"SkinThickness\",\"SkinThickness\",\"SkinThickness\",\"SkinThickness\",\"SkinThickness\",\"SkinThickness\",\"SkinThickness\",\"SkinThickness\",\"SkinThickness\",\"SkinThickness\",\"SkinThickness\",\"SkinThickness\",\"SkinThickness\",\"SkinThickness\",\"SkinThickness\",\"SkinThickness\",\"SkinThickness\",\"SkinThickness\",\"SkinThickness\",\"SkinThickness\",\"SkinThickness\",\"SkinThickness\",\"SkinThickness\",\"SkinThickness\",\"SkinThickness\",\"SkinThickness\",\"SkinThickness\",\"SkinThickness\",\"SkinThickness\",\"SkinThickness\",\"SkinThickness\",\"SkinThickness\",\"SkinThickness\",\"SkinThickness\",\"SkinThickness\",\"SkinThickness\",\"SkinThickness\",\"SkinThickness\",\"SkinThickness\",\"SkinThickness\",\"SkinThickness\",\"SkinThickness\",\"SkinThickness\",\"SkinThickness\",\"SkinThickness\",\"SkinThickness\",\"SkinThickness\",\"SkinThickness\",\"SkinThickness\",\"SkinThickness\",\"SkinThickness\",\"SkinThickness\",\"SkinThickness\",\"SkinThickness\",\"SkinThickness\",\"SkinThickness\",\"SkinThickness\",\"SkinThickness\",\"SkinThickness\",\"SkinThickness\",\"SkinThickness\",\"SkinThickness\",\"SkinThickness\",\"SkinThickness\",\"SkinThickness\",\"SkinThickness\",\"SkinThickness\",\"SkinThickness\",\"SkinThickness\",\"SkinThickness\",\"SkinThickness\",\"SkinThickness\",\"SkinThickness\",\"SkinThickness\",\"SkinThickness\",\"SkinThickness\",\"SkinThickness\",\"SkinThickness\",\"SkinThickness\",\"SkinThickness\",\"SkinThickness\",\"SkinThickness\",\"SkinThickness\",\"SkinThickness\",\"SkinThickness\",\"SkinThickness\",\"SkinThickness\",\"SkinThickness\",\"SkinThickness\",\"SkinThickness\",\"SkinThickness\",\"SkinThickness\",\"SkinThickness\",\"SkinThickness\",\"SkinThickness\",\"SkinThickness\",\"SkinThickness\",\"SkinThickness\",\"SkinThickness\",\"SkinThickness\",\"SkinThickness\",\"SkinThickness\",\"SkinThickness\",\"SkinThickness\",\"SkinThickness\",\"SkinThickness\",\"SkinThickness\",\"SkinThickness\",\"SkinThickness\",\"SkinThickness\",\"SkinThickness\",\"SkinThickness\",\"SkinThickness\",\"SkinThickness\",\"SkinThickness\",\"SkinThickness\",\"SkinThickness\",\"SkinThickness\",\"SkinThickness\",\"SkinThickness\",\"SkinThickness\",\"SkinThickness\",\"SkinThickness\",\"SkinThickness\",\"SkinThickness\",\"SkinThickness\",\"SkinThickness\",\"SkinThickness\",\"SkinThickness\",\"SkinThickness\",\"SkinThickness\",\"SkinThickness\",\"SkinThickness\",\"SkinThickness\",\"SkinThickness\",\"SkinThickness\",\"SkinThickness\",\"SkinThickness\",\"SkinThickness\",\"SkinThickness\",\"SkinThickness\",\"SkinThickness\",\"SkinThickness\",\"SkinThickness\",\"SkinThickness\",\"SkinThickness\",\"SkinThickness\",\"SkinThickness\",\"SkinThickness\",\"SkinThickness\",\"SkinThickness\",\"SkinThickness\",\"SkinThickness\",\"SkinThickness\",\"SkinThickness\",\"SkinThickness\",\"SkinThickness\",\"SkinThickness\",\"SkinThickness\",\"SkinThickness\",\"SkinThickness\",\"SkinThickness\",\"SkinThickness\",\"SkinThickness\",\"SkinThickness\",\"SkinThickness\",\"SkinThickness\",\"SkinThickness\",\"SkinThickness\",\"SkinThickness\",\"SkinThickness\",\"SkinThickness\",\"SkinThickness\",\"SkinThickness\",\"SkinThickness\",\"SkinThickness\",\"SkinThickness\",\"SkinThickness\",\"SkinThickness\",\"SkinThickness\",\"SkinThickness\",\"SkinThickness\",\"SkinThickness\",\"SkinThickness\",\"SkinThickness\",\"SkinThickness\",\"SkinThickness\",\"SkinThickness\",\"SkinThickness\",\"SkinThickness\",\"SkinThickness\",\"SkinThickness\",\"SkinThickness\",\"SkinThickness\",\"SkinThickness\",\"SkinThickness\",\"SkinThickness\",\"SkinThickness\",\"SkinThickness\",\"SkinThickness\",\"SkinThickness\",\"SkinThickness\",\"SkinThickness\",\"SkinThickness\",\"SkinThickness\",\"SkinThickness\",\"SkinThickness\",\"SkinThickness\",\"SkinThickness\",\"SkinThickness\",\"SkinThickness\",\"SkinThickness\",\"SkinThickness\",\"SkinThickness\",\"SkinThickness\",\"SkinThickness\",\"SkinThickness\",\"SkinThickness\",\"SkinThickness\",\"SkinThickness\",\"SkinThickness\",\"SkinThickness\",\"SkinThickness\",\"SkinThickness\",\"SkinThickness\",\"SkinThickness\",\"SkinThickness\",\"SkinThickness\",\"SkinThickness\",\"SkinThickness\",\"SkinThickness\",\"SkinThickness\",\"SkinThickness\",\"SkinThickness\",\"SkinThickness\",\"SkinThickness\",\"SkinThickness\",\"SkinThickness\",\"SkinThickness\",\"SkinThickness\",\"SkinThickness\",\"SkinThickness\",\"SkinThickness\",\"SkinThickness\",\"SkinThickness\",\"SkinThickness\",\"SkinThickness\",\"SkinThickness\",\"SkinThickness\",\"SkinThickness\",\"SkinThickness\",\"SkinThickness\",\"SkinThickness\",\"SkinThickness\",\"SkinThickness\",\"SkinThickness\",\"SkinThickness\",\"SkinThickness\",\"SkinThickness\",\"SkinThickness\",\"SkinThickness\",\"SkinThickness\",\"SkinThickness\",\"SkinThickness\",\"SkinThickness\",\"SkinThickness\",\"SkinThickness\",\"SkinThickness\",\"SkinThickness\",\"SkinThickness\",\"SkinThickness\",\"Insulin\",\"Insulin\",\"Insulin\",\"Insulin\",\"Insulin\",\"Insulin\",\"Insulin\",\"Insulin\",\"Insulin\",\"Insulin\",\"Insulin\",\"Insulin\",\"Insulin\",\"Insulin\",\"Insulin\",\"Insulin\",\"Insulin\",\"Insulin\",\"Insulin\",\"Insulin\",\"Insulin\",\"Insulin\",\"Insulin\",\"Insulin\",\"Insulin\",\"Insulin\",\"Insulin\",\"Insulin\",\"Insulin\",\"Insulin\",\"Insulin\",\"Insulin\",\"Insulin\",\"Insulin\",\"Insulin\",\"Insulin\",\"Insulin\",\"Insulin\",\"Insulin\",\"Insulin\",\"Insulin\",\"Insulin\",\"Insulin\",\"Insulin\",\"Insulin\",\"Insulin\",\"Insulin\",\"Insulin\",\"Insulin\",\"Insulin\",\"Insulin\",\"Insulin\",\"Insulin\",\"Insulin\",\"Insulin\",\"Insulin\",\"Insulin\",\"Insulin\",\"Insulin\",\"Insulin\",\"Insulin\",\"Insulin\",\"Insulin\",\"Insulin\",\"Insulin\",\"Insulin\",\"Insulin\",\"Insulin\",\"Insulin\",\"Insulin\",\"Insulin\",\"Insulin\",\"Insulin\",\"Insulin\",\"Insulin\",\"Insulin\",\"Insulin\",\"Insulin\",\"Insulin\",\"Insulin\",\"Insulin\",\"Insulin\",\"Insulin\",\"Insulin\",\"Insulin\",\"Insulin\",\"Insulin\",\"Insulin\",\"Insulin\",\"Insulin\",\"Insulin\",\"Insulin\",\"Insulin\",\"Insulin\",\"Insulin\",\"Insulin\",\"Insulin\",\"Insulin\",\"Insulin\",\"Insulin\",\"Insulin\",\"Insulin\",\"Insulin\",\"Insulin\",\"Insulin\",\"Insulin\",\"Insulin\",\"Insulin\",\"Insulin\",\"Insulin\",\"Insulin\",\"Insulin\",\"Insulin\",\"Insulin\",\"Insulin\",\"Insulin\",\"Insulin\",\"Insulin\",\"Insulin\",\"Insulin\",\"Insulin\",\"Insulin\",\"Insulin\",\"Insulin\",\"Insulin\",\"Insulin\",\"Insulin\",\"Insulin\",\"Insulin\",\"Insulin\",\"Insulin\",\"Insulin\",\"Insulin\",\"Insulin\",\"Insulin\",\"Insulin\",\"Insulin\",\"Insulin\",\"Insulin\",\"Insulin\",\"Insulin\",\"Insulin\",\"Insulin\",\"Insulin\",\"Insulin\",\"Insulin\",\"Insulin\",\"Insulin\",\"Insulin\",\"Insulin\",\"Insulin\",\"Insulin\",\"Insulin\",\"Insulin\",\"Insulin\",\"Insulin\",\"Insulin\",\"Insulin\",\"Insulin\",\"Insulin\",\"Insulin\",\"Insulin\",\"Insulin\",\"Insulin\",\"Insulin\",\"Insulin\",\"Insulin\",\"Insulin\",\"Insulin\",\"Insulin\",\"Insulin\",\"Insulin\",\"Insulin\",\"Insulin\",\"Insulin\",\"Insulin\",\"Insulin\",\"Insulin\",\"Insulin\",\"Insulin\",\"Insulin\",\"Insulin\",\"Insulin\",\"Insulin\",\"Insulin\",\"Insulin\",\"Insulin\",\"Insulin\",\"Insulin\",\"Insulin\",\"Insulin\",\"Insulin\",\"Insulin\",\"Insulin\",\"Insulin\",\"Insulin\",\"Insulin\",\"Insulin\",\"Insulin\",\"Insulin\",\"Insulin\",\"Insulin\",\"Insulin\",\"Insulin\",\"Insulin\",\"Insulin\",\"Insulin\",\"Insulin\",\"Insulin\",\"Insulin\",\"Insulin\",\"Insulin\",\"Insulin\",\"Insulin\",\"Insulin\",\"Insulin\",\"Insulin\",\"Insulin\",\"Insulin\",\"Insulin\",\"Insulin\",\"Insulin\",\"Insulin\",\"Insulin\",\"Insulin\",\"Insulin\",\"Insulin\",\"Insulin\",\"Insulin\",\"Insulin\",\"Insulin\",\"Insulin\",\"Insulin\",\"Insulin\",\"Insulin\",\"Insulin\",\"Insulin\",\"Insulin\",\"Insulin\",\"Insulin\",\"Insulin\",\"Insulin\",\"Insulin\",\"Insulin\",\"Insulin\",\"Insulin\",\"Insulin\",\"Insulin\",\"Insulin\",\"Insulin\",\"Insulin\",\"Insulin\",\"Insulin\",\"Insulin\",\"Insulin\",\"Insulin\",\"Insulin\",\"Insulin\",\"Insulin\",\"Insulin\",\"Insulin\",\"Insulin\",\"Insulin\",\"Insulin\",\"Insulin\",\"Insulin\",\"Insulin\",\"Insulin\",\"Insulin\",\"Insulin\",\"Insulin\",\"Insulin\",\"Insulin\",\"Insulin\",\"Insulin\",\"Insulin\",\"Insulin\",\"Insulin\",\"Insulin\",\"Insulin\",\"Insulin\",\"Insulin\",\"Insulin\",\"Insulin\",\"Insulin\",\"Insulin\",\"Insulin\",\"Insulin\",\"Insulin\",\"Insulin\",\"Insulin\",\"Insulin\",\"Insulin\",\"Insulin\",\"Insulin\",\"Insulin\",\"Insulin\",\"Insulin\",\"Insulin\",\"Insulin\",\"Insulin\",\"Insulin\",\"Insulin\",\"Insulin\",\"Insulin\",\"Insulin\",\"Insulin\",\"Insulin\",\"Insulin\",\"Insulin\",\"Insulin\",\"Insulin\",\"Insulin\",\"Insulin\",\"Insulin\",\"Insulin\",\"Insulin\",\"Insulin\",\"Insulin\",\"Insulin\",\"Insulin\",\"Insulin\",\"Insulin\",\"Insulin\",\"Insulin\",\"Insulin\",\"Insulin\",\"Insulin\",\"Insulin\",\"Insulin\",\"Insulin\",\"Insulin\",\"Insulin\",\"Insulin\",\"Insulin\",\"Insulin\",\"Insulin\",\"Insulin\",\"Insulin\",\"Insulin\",\"Insulin\",\"Insulin\",\"Insulin\",\"Insulin\",\"Insulin\",\"Insulin\",\"Insulin\",\"Insulin\",\"Insulin\",\"Insulin\",\"Insulin\",\"Insulin\",\"Insulin\",\"Insulin\",\"Insulin\",\"Insulin\",\"Insulin\",\"Insulin\",\"Insulin\",\"Insulin\",\"Insulin\",\"Insulin\",\"Insulin\",\"Insulin\",\"Insulin\",\"Insulin\",\"Insulin\",\"Insulin\",\"Insulin\",\"Insulin\",\"Insulin\",\"Insulin\",\"Insulin\",\"Insulin\",\"Insulin\",\"Insulin\",\"Insulin\",\"Insulin\",\"Insulin\",\"Insulin\",\"Insulin\",\"Insulin\",\"Insulin\",\"Insulin\",\"Insulin\",\"Insulin\",\"Insulin\",\"Insulin\",\"Insulin\",\"Insulin\",\"Insulin\",\"Insulin\",\"Insulin\",\"Insulin\",\"Insulin\",\"Insulin\",\"Insulin\",\"Insulin\",\"Insulin\",\"Insulin\",\"Insulin\",\"Insulin\",\"Insulin\",\"Insulin\",\"Insulin\",\"Insulin\",\"Insulin\",\"Insulin\",\"Insulin\",\"Insulin\",\"Insulin\",\"Insulin\",\"Insulin\",\"Insulin\",\"Insulin\",\"Insulin\",\"Insulin\",\"Insulin\",\"Insulin\",\"Insulin\",\"Insulin\",\"Insulin\",\"Insulin\",\"Insulin\",\"Insulin\",\"Insulin\",\"Insulin\",\"Insulin\",\"Insulin\",\"Insulin\",\"Insulin\",\"Insulin\",\"Insulin\",\"Insulin\",\"Insulin\",\"Insulin\",\"Insulin\",\"Insulin\",\"Insulin\",\"Insulin\",\"Insulin\",\"Insulin\",\"Insulin\",\"Insulin\",\"Insulin\",\"Insulin\",\"Insulin\",\"Insulin\",\"Insulin\",\"Insulin\",\"Insulin\",\"Insulin\",\"Insulin\",\"Insulin\",\"Insulin\",\"Insulin\",\"Insulin\",\"Insulin\",\"Insulin\",\"Insulin\",\"Insulin\",\"Insulin\",\"Insulin\",\"Insulin\",\"Insulin\",\"Insulin\",\"Insulin\",\"Insulin\",\"Insulin\",\"Insulin\",\"Insulin\",\"Insulin\",\"Insulin\",\"Insulin\",\"Insulin\",\"Insulin\",\"Insulin\",\"Insulin\",\"Insulin\",\"Insulin\",\"Insulin\",\"Insulin\",\"Insulin\",\"Insulin\",\"Insulin\",\"Insulin\",\"Insulin\",\"Insulin\",\"Insulin\",\"Insulin\",\"Insulin\",\"Insulin\",\"Insulin\",\"Insulin\",\"Insulin\",\"Insulin\",\"Insulin\",\"Insulin\",\"Insulin\",\"Insulin\",\"Insulin\",\"Insulin\",\"Insulin\",\"Insulin\",\"Insulin\",\"Insulin\",\"Insulin\",\"Insulin\",\"Insulin\",\"Insulin\",\"Insulin\",\"Insulin\",\"Insulin\",\"Insulin\",\"Insulin\",\"Insulin\",\"Insulin\",\"Insulin\",\"Insulin\",\"Insulin\",\"Insulin\",\"Insulin\",\"Insulin\",\"Insulin\",\"Insulin\",\"Insulin\",\"Insulin\",\"Insulin\",\"Insulin\",\"Insulin\",\"Insulin\",\"Insulin\",\"Insulin\",\"Insulin\",\"Insulin\",\"Insulin\",\"Insulin\",\"Insulin\",\"Insulin\",\"Insulin\",\"Insulin\",\"Insulin\",\"Insulin\",\"Insulin\",\"Insulin\",\"Insulin\",\"Insulin\",\"Insulin\",\"Insulin\",\"Insulin\",\"Insulin\",\"Insulin\",\"Insulin\",\"Insulin\",\"Insulin\",\"Insulin\",\"Insulin\",\"Insulin\",\"Insulin\",\"Insulin\",\"Insulin\",\"Insulin\",\"Insulin\",\"Insulin\",\"Insulin\",\"Insulin\",\"Insulin\",\"Insulin\",\"Insulin\",\"Insulin\",\"Insulin\",\"Insulin\",\"Insulin\",\"Insulin\",\"Insulin\",\"Insulin\",\"Insulin\",\"Insulin\",\"Insulin\",\"Insulin\",\"Insulin\",\"Insulin\",\"Insulin\",\"Insulin\",\"Insulin\",\"Insulin\",\"Insulin\",\"Insulin\",\"Insulin\",\"Insulin\",\"Insulin\",\"Insulin\",\"Insulin\",\"Insulin\",\"Insulin\",\"Insulin\",\"Insulin\",\"Insulin\",\"Insulin\",\"Insulin\",\"Insulin\",\"Insulin\",\"Insulin\",\"Insulin\",\"Insulin\",\"Insulin\",\"Insulin\",\"Insulin\",\"Insulin\",\"Insulin\",\"Insulin\",\"Insulin\",\"Insulin\",\"Insulin\",\"Insulin\",\"Insulin\",\"Insulin\",\"Insulin\",\"Insulin\",\"Insulin\",\"Insulin\",\"Insulin\",\"Insulin\",\"Insulin\",\"Insulin\",\"Insulin\",\"Insulin\",\"Insulin\",\"Insulin\",\"Insulin\",\"Insulin\",\"Insulin\",\"Insulin\",\"Insulin\",\"Insulin\",\"Insulin\",\"Insulin\",\"Insulin\",\"Insulin\",\"Insulin\",\"Insulin\",\"Insulin\",\"Insulin\",\"Insulin\",\"Insulin\",\"Insulin\",\"Insulin\",\"Insulin\",\"Insulin\",\"Insulin\",\"Insulin\",\"Insulin\",\"Insulin\",\"Insulin\",\"Insulin\",\"Insulin\",\"Insulin\",\"Insulin\",\"Insulin\",\"Insulin\",\"Insulin\",\"Insulin\",\"Insulin\",\"Insulin\",\"Insulin\",\"Insulin\",\"Insulin\",\"Insulin\",\"Insulin\",\"Insulin\",\"Insulin\",\"Insulin\",\"Insulin\",\"Insulin\",\"Insulin\",\"Insulin\",\"Insulin\",\"Insulin\",\"Insulin\",\"Insulin\",\"Insulin\",\"Insulin\",\"Insulin\",\"Insulin\",\"Insulin\",\"Insulin\",\"Insulin\",\"Insulin\",\"Insulin\",\"Insulin\",\"Insulin\",\"Insulin\",\"Insulin\",\"Insulin\",\"Insulin\",\"Insulin\",\"Insulin\",\"Insulin\",\"Insulin\",\"Insulin\",\"Insulin\",\"Insulin\",\"Insulin\",\"Insulin\",\"Insulin\",\"Insulin\",\"Insulin\",\"Insulin\",\"Insulin\",\"Insulin\",\"Insulin\",\"Insulin\",\"Insulin\",\"Insulin\",\"Insulin\",\"Insulin\",\"Insulin\",\"Insulin\",\"Insulin\",\"Insulin\",\"Insulin\",\"Insulin\",\"Insulin\",\"Insulin\",\"Insulin\",\"Insulin\",\"Insulin\",\"Insulin\",\"Insulin\",\"Insulin\",\"Insulin\",\"Insulin\",\"Insulin\",\"Insulin\",\"Insulin\",\"Insulin\",\"Insulin\",\"Insulin\",\"Insulin\",\"Insulin\",\"Insulin\",\"Insulin\",\"Insulin\",\"Insulin\",\"Insulin\",\"Insulin\",\"Insulin\",\"Insulin\",\"Insulin\",\"Insulin\",\"Insulin\",\"Insulin\",\"Insulin\",\"Insulin\",\"Insulin\",\"Insulin\",\"Insulin\",\"Insulin\",\"Insulin\",\"Insulin\",\"Insulin\",\"Insulin\",\"Insulin\",\"Insulin\",\"Insulin\",\"Insulin\",\"Insulin\",\"Insulin\",\"BMI\",\"BMI\",\"BMI\",\"BMI\",\"BMI\",\"BMI\",\"BMI\",\"BMI\",\"BMI\",\"BMI\",\"BMI\",\"BMI\",\"BMI\",\"BMI\",\"BMI\",\"BMI\",\"BMI\",\"BMI\",\"BMI\",\"BMI\",\"BMI\",\"BMI\",\"BMI\",\"BMI\",\"BMI\",\"BMI\",\"BMI\",\"BMI\",\"BMI\",\"BMI\",\"BMI\",\"BMI\",\"BMI\",\"BMI\",\"BMI\",\"BMI\",\"BMI\",\"BMI\",\"BMI\",\"BMI\",\"BMI\",\"BMI\",\"BMI\",\"BMI\",\"BMI\",\"BMI\",\"BMI\",\"BMI\",\"BMI\",\"BMI\",\"BMI\",\"BMI\",\"BMI\",\"BMI\",\"BMI\",\"BMI\",\"BMI\",\"BMI\",\"BMI\",\"BMI\",\"BMI\",\"BMI\",\"BMI\",\"BMI\",\"BMI\",\"BMI\",\"BMI\",\"BMI\",\"BMI\",\"BMI\",\"BMI\",\"BMI\",\"BMI\",\"BMI\",\"BMI\",\"BMI\",\"BMI\",\"BMI\",\"BMI\",\"BMI\",\"BMI\",\"BMI\",\"BMI\",\"BMI\",\"BMI\",\"BMI\",\"BMI\",\"BMI\",\"BMI\",\"BMI\",\"BMI\",\"BMI\",\"BMI\",\"BMI\",\"BMI\",\"BMI\",\"BMI\",\"BMI\",\"BMI\",\"BMI\",\"BMI\",\"BMI\",\"BMI\",\"BMI\",\"BMI\",\"BMI\",\"BMI\",\"BMI\",\"BMI\",\"BMI\",\"BMI\",\"BMI\",\"BMI\",\"BMI\",\"BMI\",\"BMI\",\"BMI\",\"BMI\",\"BMI\",\"BMI\",\"BMI\",\"BMI\",\"BMI\",\"BMI\",\"BMI\",\"BMI\",\"BMI\",\"BMI\",\"BMI\",\"BMI\",\"BMI\",\"BMI\",\"BMI\",\"BMI\",\"BMI\",\"BMI\",\"BMI\",\"BMI\",\"BMI\",\"BMI\",\"BMI\",\"BMI\",\"BMI\",\"BMI\",\"BMI\",\"BMI\",\"BMI\",\"BMI\",\"BMI\",\"BMI\",\"BMI\",\"BMI\",\"BMI\",\"BMI\",\"BMI\",\"BMI\",\"BMI\",\"BMI\",\"BMI\",\"BMI\",\"BMI\",\"BMI\",\"BMI\",\"BMI\",\"BMI\",\"BMI\",\"BMI\",\"BMI\",\"BMI\",\"BMI\",\"BMI\",\"BMI\",\"BMI\",\"BMI\",\"BMI\",\"BMI\",\"BMI\",\"BMI\",\"BMI\",\"BMI\",\"BMI\",\"BMI\",\"BMI\",\"BMI\",\"BMI\",\"BMI\",\"BMI\",\"BMI\",\"BMI\",\"BMI\",\"BMI\",\"BMI\",\"BMI\",\"BMI\",\"BMI\",\"BMI\",\"BMI\",\"BMI\",\"BMI\",\"BMI\",\"BMI\",\"BMI\",\"BMI\",\"BMI\",\"BMI\",\"BMI\",\"BMI\",\"BMI\",\"BMI\",\"BMI\",\"BMI\",\"BMI\",\"BMI\",\"BMI\",\"BMI\",\"BMI\",\"BMI\",\"BMI\",\"BMI\",\"BMI\",\"BMI\",\"BMI\",\"BMI\",\"BMI\",\"BMI\",\"BMI\",\"BMI\",\"BMI\",\"BMI\",\"BMI\",\"BMI\",\"BMI\",\"BMI\",\"BMI\",\"BMI\",\"BMI\",\"BMI\",\"BMI\",\"BMI\",\"BMI\",\"BMI\",\"BMI\",\"BMI\",\"BMI\",\"BMI\",\"BMI\",\"BMI\",\"BMI\",\"BMI\",\"BMI\",\"BMI\",\"BMI\",\"BMI\",\"BMI\",\"BMI\",\"BMI\",\"BMI\",\"BMI\",\"BMI\",\"BMI\",\"BMI\",\"BMI\",\"BMI\",\"BMI\",\"BMI\",\"BMI\",\"BMI\",\"BMI\",\"BMI\",\"BMI\",\"BMI\",\"BMI\",\"BMI\",\"BMI\",\"BMI\",\"BMI\",\"BMI\",\"BMI\",\"BMI\",\"BMI\",\"BMI\",\"BMI\",\"BMI\",\"BMI\",\"BMI\",\"BMI\",\"BMI\",\"BMI\",\"BMI\",\"BMI\",\"BMI\",\"BMI\",\"BMI\",\"BMI\",\"BMI\",\"BMI\",\"BMI\",\"BMI\",\"BMI\",\"BMI\",\"BMI\",\"BMI\",\"BMI\",\"BMI\",\"BMI\",\"BMI\",\"BMI\",\"BMI\",\"BMI\",\"BMI\",\"BMI\",\"BMI\",\"BMI\",\"BMI\",\"BMI\",\"BMI\",\"BMI\",\"BMI\",\"BMI\",\"BMI\",\"BMI\",\"BMI\",\"BMI\",\"BMI\",\"BMI\",\"BMI\",\"BMI\",\"BMI\",\"BMI\",\"BMI\",\"BMI\",\"BMI\",\"BMI\",\"BMI\",\"BMI\",\"BMI\",\"BMI\",\"BMI\",\"BMI\",\"BMI\",\"BMI\",\"BMI\",\"BMI\",\"BMI\",\"BMI\",\"BMI\",\"BMI\",\"BMI\",\"BMI\",\"BMI\",\"BMI\",\"BMI\",\"BMI\",\"BMI\",\"BMI\",\"BMI\",\"BMI\",\"BMI\",\"BMI\",\"BMI\",\"BMI\",\"BMI\",\"BMI\",\"BMI\",\"BMI\",\"BMI\",\"BMI\",\"BMI\",\"BMI\",\"BMI\",\"BMI\",\"BMI\",\"BMI\",\"BMI\",\"BMI\",\"BMI\",\"BMI\",\"BMI\",\"BMI\",\"BMI\",\"BMI\",\"BMI\",\"BMI\",\"BMI\",\"BMI\",\"BMI\",\"BMI\",\"BMI\",\"BMI\",\"BMI\",\"BMI\",\"BMI\",\"BMI\",\"BMI\",\"BMI\",\"BMI\",\"BMI\",\"BMI\",\"BMI\",\"BMI\",\"BMI\",\"BMI\",\"BMI\",\"BMI\",\"BMI\",\"BMI\",\"BMI\",\"BMI\",\"BMI\",\"BMI\",\"BMI\",\"BMI\",\"BMI\",\"BMI\",\"BMI\",\"BMI\",\"BMI\",\"BMI\",\"BMI\",\"BMI\",\"BMI\",\"BMI\",\"BMI\",\"BMI\",\"BMI\",\"BMI\",\"BMI\",\"BMI\",\"BMI\",\"BMI\",\"BMI\",\"BMI\",\"BMI\",\"BMI\",\"BMI\",\"BMI\",\"BMI\",\"BMI\",\"BMI\",\"BMI\",\"BMI\",\"BMI\",\"BMI\",\"BMI\",\"BMI\",\"BMI\",\"BMI\",\"BMI\",\"BMI\",\"BMI\",\"BMI\",\"BMI\",\"BMI\",\"BMI\",\"BMI\",\"BMI\",\"BMI\",\"BMI\",\"BMI\",\"BMI\",\"BMI\",\"BMI\",\"BMI\",\"BMI\",\"BMI\",\"BMI\",\"BMI\",\"BMI\",\"BMI\",\"BMI\",\"BMI\",\"BMI\",\"BMI\",\"BMI\",\"BMI\",\"BMI\",\"BMI\",\"BMI\",\"BMI\",\"BMI\",\"BMI\",\"BMI\",\"BMI\",\"BMI\",\"BMI\",\"BMI\",\"BMI\",\"BMI\",\"BMI\",\"BMI\",\"BMI\",\"BMI\",\"BMI\",\"BMI\",\"BMI\",\"BMI\",\"BMI\",\"BMI\",\"BMI\",\"BMI\",\"BMI\",\"BMI\",\"BMI\",\"BMI\",\"BMI\",\"BMI\",\"BMI\",\"BMI\",\"BMI\",\"BMI\",\"BMI\",\"BMI\",\"BMI\",\"BMI\",\"BMI\",\"BMI\",\"BMI\",\"BMI\",\"BMI\",\"BMI\",\"BMI\",\"BMI\",\"BMI\",\"BMI\",\"BMI\",\"BMI\",\"BMI\",\"BMI\",\"BMI\",\"BMI\",\"BMI\",\"BMI\",\"BMI\",\"BMI\",\"BMI\",\"BMI\",\"BMI\",\"BMI\",\"BMI\",\"BMI\",\"BMI\",\"BMI\",\"BMI\",\"BMI\",\"BMI\",\"BMI\",\"BMI\",\"BMI\",\"BMI\",\"BMI\",\"BMI\",\"BMI\",\"BMI\",\"BMI\",\"BMI\",\"BMI\",\"BMI\",\"BMI\",\"BMI\",\"BMI\",\"BMI\",\"BMI\",\"BMI\",\"BMI\",\"BMI\",\"BMI\",\"BMI\",\"BMI\",\"BMI\",\"BMI\",\"BMI\",\"BMI\",\"BMI\",\"BMI\",\"BMI\",\"BMI\",\"BMI\",\"BMI\",\"BMI\",\"BMI\",\"BMI\",\"BMI\",\"BMI\",\"BMI\",\"BMI\",\"BMI\",\"BMI\",\"BMI\",\"BMI\",\"BMI\",\"BMI\",\"BMI\",\"BMI\",\"BMI\",\"BMI\",\"BMI\",\"BMI\",\"BMI\",\"BMI\",\"BMI\",\"BMI\",\"BMI\",\"BMI\",\"BMI\",\"BMI\",\"BMI\",\"BMI\",\"BMI\",\"BMI\",\"BMI\",\"BMI\",\"BMI\",\"BMI\",\"BMI\",\"BMI\",\"BMI\",\"BMI\",\"BMI\",\"BMI\",\"BMI\",\"BMI\",\"BMI\",\"BMI\",\"BMI\",\"BMI\",\"BMI\",\"BMI\",\"BMI\",\"BMI\",\"BMI\",\"BMI\",\"BMI\",\"BMI\",\"BMI\",\"BMI\",\"BMI\",\"BMI\",\"BMI\",\"BMI\",\"BMI\",\"BMI\",\"BMI\",\"BMI\",\"BMI\",\"BMI\",\"BMI\",\"BMI\",\"BMI\",\"BMI\",\"BMI\",\"BMI\",\"BMI\",\"BMI\",\"BMI\",\"BMI\",\"BMI\",\"BMI\",\"BMI\",\"BMI\",\"BMI\",\"BMI\",\"BMI\",\"BMI\",\"BMI\",\"BMI\",\"BMI\",\"BMI\",\"BMI\",\"BMI\",\"BMI\",\"BMI\",\"BMI\",\"BMI\",\"BMI\",\"BMI\",\"BMI\",\"BMI\",\"BMI\",\"BMI\",\"BMI\",\"BMI\",\"BMI\",\"BMI\",\"BMI\",\"BMI\",\"BMI\",\"BMI\",\"BMI\",\"BMI\",\"BMI\",\"BMI\",\"BMI\",\"BMI\",\"BMI\",\"BMI\",\"BMI\",\"BMI\",\"BMI\",\"BMI\",\"BMI\",\"BMI\",\"BMI\",\"BMI\",\"BMI\",\"BMI\",\"BMI\",\"BMI\",\"BMI\",\"BMI\",\"BMI\",\"BMI\",\"BMI\",\"BMI\",\"BMI\",\"BMI\",\"BMI\",\"BMI\",\"BMI\",\"BMI\",\"BMI\",\"BMI\",\"BMI\",\"BMI\",\"BMI\",\"BMI\",\"BMI\",\"BMI\",\"BMI\",\"BMI\",\"BMI\",\"BMI\",\"BMI\",\"BMI\",\"BMI\",\"BMI\",\"BMI\",\"BMI\",\"BMI\",\"BMI\",\"BMI\",\"BMI\",\"BMI\",\"BMI\",\"BMI\",\"BMI\",\"BMI\",\"BMI\",\"BMI\",\"BMI\",\"BMI\",\"BMI\",\"BMI\",\"BMI\",\"BMI\",\"BMI\",\"BMI\",\"BMI\",\"BMI\",\"BMI\",\"BMI\",\"BMI\",\"BMI\",\"BMI\",\"BMI\",\"BMI\",\"BMI\",\"BMI\",\"BMI\",\"DiabetesPedigreeFunction\",\"DiabetesPedigreeFunction\",\"DiabetesPedigreeFunction\",\"DiabetesPedigreeFunction\",\"DiabetesPedigreeFunction\",\"DiabetesPedigreeFunction\",\"DiabetesPedigreeFunction\",\"DiabetesPedigreeFunction\",\"DiabetesPedigreeFunction\",\"DiabetesPedigreeFunction\",\"DiabetesPedigreeFunction\",\"DiabetesPedigreeFunction\",\"DiabetesPedigreeFunction\",\"DiabetesPedigreeFunction\",\"DiabetesPedigreeFunction\",\"DiabetesPedigreeFunction\",\"DiabetesPedigreeFunction\",\"DiabetesPedigreeFunction\",\"DiabetesPedigreeFunction\",\"DiabetesPedigreeFunction\",\"DiabetesPedigreeFunction\",\"DiabetesPedigreeFunction\",\"DiabetesPedigreeFunction\",\"DiabetesPedigreeFunction\",\"DiabetesPedigreeFunction\",\"DiabetesPedigreeFunction\",\"DiabetesPedigreeFunction\",\"DiabetesPedigreeFunction\",\"DiabetesPedigreeFunction\",\"DiabetesPedigreeFunction\",\"DiabetesPedigreeFunction\",\"DiabetesPedigreeFunction\",\"DiabetesPedigreeFunction\",\"DiabetesPedigreeFunction\",\"DiabetesPedigreeFunction\",\"DiabetesPedigreeFunction\",\"DiabetesPedigreeFunction\",\"DiabetesPedigreeFunction\",\"DiabetesPedigreeFunction\",\"DiabetesPedigreeFunction\",\"DiabetesPedigreeFunction\",\"DiabetesPedigreeFunction\",\"DiabetesPedigreeFunction\",\"DiabetesPedigreeFunction\",\"DiabetesPedigreeFunction\",\"DiabetesPedigreeFunction\",\"DiabetesPedigreeFunction\",\"DiabetesPedigreeFunction\",\"DiabetesPedigreeFunction\",\"DiabetesPedigreeFunction\",\"DiabetesPedigreeFunction\",\"DiabetesPedigreeFunction\",\"DiabetesPedigreeFunction\",\"DiabetesPedigreeFunction\",\"DiabetesPedigreeFunction\",\"DiabetesPedigreeFunction\",\"DiabetesPedigreeFunction\",\"DiabetesPedigreeFunction\",\"DiabetesPedigreeFunction\",\"DiabetesPedigreeFunction\",\"DiabetesPedigreeFunction\",\"DiabetesPedigreeFunction\",\"DiabetesPedigreeFunction\",\"DiabetesPedigreeFunction\",\"DiabetesPedigreeFunction\",\"DiabetesPedigreeFunction\",\"DiabetesPedigreeFunction\",\"DiabetesPedigreeFunction\",\"DiabetesPedigreeFunction\",\"DiabetesPedigreeFunction\",\"DiabetesPedigreeFunction\",\"DiabetesPedigreeFunction\",\"DiabetesPedigreeFunction\",\"DiabetesPedigreeFunction\",\"DiabetesPedigreeFunction\",\"DiabetesPedigreeFunction\",\"DiabetesPedigreeFunction\",\"DiabetesPedigreeFunction\",\"DiabetesPedigreeFunction\",\"DiabetesPedigreeFunction\",\"DiabetesPedigreeFunction\",\"DiabetesPedigreeFunction\",\"DiabetesPedigreeFunction\",\"DiabetesPedigreeFunction\",\"DiabetesPedigreeFunction\",\"DiabetesPedigreeFunction\",\"DiabetesPedigreeFunction\",\"DiabetesPedigreeFunction\",\"DiabetesPedigreeFunction\",\"DiabetesPedigreeFunction\",\"DiabetesPedigreeFunction\",\"DiabetesPedigreeFunction\",\"DiabetesPedigreeFunction\",\"DiabetesPedigreeFunction\",\"DiabetesPedigreeFunction\",\"DiabetesPedigreeFunction\",\"DiabetesPedigreeFunction\",\"DiabetesPedigreeFunction\",\"DiabetesPedigreeFunction\",\"DiabetesPedigreeFunction\",\"DiabetesPedigreeFunction\",\"DiabetesPedigreeFunction\",\"DiabetesPedigreeFunction\",\"DiabetesPedigreeFunction\",\"DiabetesPedigreeFunction\",\"DiabetesPedigreeFunction\",\"DiabetesPedigreeFunction\",\"DiabetesPedigreeFunction\",\"DiabetesPedigreeFunction\",\"DiabetesPedigreeFunction\",\"DiabetesPedigreeFunction\",\"DiabetesPedigreeFunction\",\"DiabetesPedigreeFunction\",\"DiabetesPedigreeFunction\",\"DiabetesPedigreeFunction\",\"DiabetesPedigreeFunction\",\"DiabetesPedigreeFunction\",\"DiabetesPedigreeFunction\",\"DiabetesPedigreeFunction\",\"DiabetesPedigreeFunction\",\"DiabetesPedigreeFunction\",\"DiabetesPedigreeFunction\",\"DiabetesPedigreeFunction\",\"DiabetesPedigreeFunction\",\"DiabetesPedigreeFunction\",\"DiabetesPedigreeFunction\",\"DiabetesPedigreeFunction\",\"DiabetesPedigreeFunction\",\"DiabetesPedigreeFunction\",\"DiabetesPedigreeFunction\",\"DiabetesPedigreeFunction\",\"DiabetesPedigreeFunction\",\"DiabetesPedigreeFunction\",\"DiabetesPedigreeFunction\",\"DiabetesPedigreeFunction\",\"DiabetesPedigreeFunction\",\"DiabetesPedigreeFunction\",\"DiabetesPedigreeFunction\",\"DiabetesPedigreeFunction\",\"DiabetesPedigreeFunction\",\"DiabetesPedigreeFunction\",\"DiabetesPedigreeFunction\",\"DiabetesPedigreeFunction\",\"DiabetesPedigreeFunction\",\"DiabetesPedigreeFunction\",\"DiabetesPedigreeFunction\",\"DiabetesPedigreeFunction\",\"DiabetesPedigreeFunction\",\"DiabetesPedigreeFunction\",\"DiabetesPedigreeFunction\",\"DiabetesPedigreeFunction\",\"DiabetesPedigreeFunction\",\"DiabetesPedigreeFunction\",\"DiabetesPedigreeFunction\",\"DiabetesPedigreeFunction\",\"DiabetesPedigreeFunction\",\"DiabetesPedigreeFunction\",\"DiabetesPedigreeFunction\",\"DiabetesPedigreeFunction\",\"DiabetesPedigreeFunction\",\"DiabetesPedigreeFunction\",\"DiabetesPedigreeFunction\",\"DiabetesPedigreeFunction\",\"DiabetesPedigreeFunction\",\"DiabetesPedigreeFunction\",\"DiabetesPedigreeFunction\",\"DiabetesPedigreeFunction\",\"DiabetesPedigreeFunction\",\"DiabetesPedigreeFunction\",\"DiabetesPedigreeFunction\",\"DiabetesPedigreeFunction\",\"DiabetesPedigreeFunction\",\"DiabetesPedigreeFunction\",\"DiabetesPedigreeFunction\",\"DiabetesPedigreeFunction\",\"DiabetesPedigreeFunction\",\"DiabetesPedigreeFunction\",\"DiabetesPedigreeFunction\",\"DiabetesPedigreeFunction\",\"DiabetesPedigreeFunction\",\"DiabetesPedigreeFunction\",\"DiabetesPedigreeFunction\",\"DiabetesPedigreeFunction\",\"DiabetesPedigreeFunction\",\"DiabetesPedigreeFunction\",\"DiabetesPedigreeFunction\",\"DiabetesPedigreeFunction\",\"DiabetesPedigreeFunction\",\"DiabetesPedigreeFunction\",\"DiabetesPedigreeFunction\",\"DiabetesPedigreeFunction\",\"DiabetesPedigreeFunction\",\"DiabetesPedigreeFunction\",\"DiabetesPedigreeFunction\",\"DiabetesPedigreeFunction\",\"DiabetesPedigreeFunction\",\"DiabetesPedigreeFunction\",\"DiabetesPedigreeFunction\",\"DiabetesPedigreeFunction\",\"DiabetesPedigreeFunction\",\"DiabetesPedigreeFunction\",\"DiabetesPedigreeFunction\",\"DiabetesPedigreeFunction\",\"DiabetesPedigreeFunction\",\"DiabetesPedigreeFunction\",\"DiabetesPedigreeFunction\",\"DiabetesPedigreeFunction\",\"DiabetesPedigreeFunction\",\"DiabetesPedigreeFunction\",\"DiabetesPedigreeFunction\",\"DiabetesPedigreeFunction\",\"DiabetesPedigreeFunction\",\"DiabetesPedigreeFunction\",\"DiabetesPedigreeFunction\",\"DiabetesPedigreeFunction\",\"DiabetesPedigreeFunction\",\"DiabetesPedigreeFunction\",\"DiabetesPedigreeFunction\",\"DiabetesPedigreeFunction\",\"DiabetesPedigreeFunction\",\"DiabetesPedigreeFunction\",\"DiabetesPedigreeFunction\",\"DiabetesPedigreeFunction\",\"DiabetesPedigreeFunction\",\"DiabetesPedigreeFunction\",\"DiabetesPedigreeFunction\",\"DiabetesPedigreeFunction\",\"DiabetesPedigreeFunction\",\"DiabetesPedigreeFunction\",\"DiabetesPedigreeFunction\",\"DiabetesPedigreeFunction\",\"DiabetesPedigreeFunction\",\"DiabetesPedigreeFunction\",\"DiabetesPedigreeFunction\",\"DiabetesPedigreeFunction\",\"DiabetesPedigreeFunction\",\"DiabetesPedigreeFunction\",\"DiabetesPedigreeFunction\",\"DiabetesPedigreeFunction\",\"DiabetesPedigreeFunction\",\"DiabetesPedigreeFunction\",\"DiabetesPedigreeFunction\",\"DiabetesPedigreeFunction\",\"DiabetesPedigreeFunction\",\"DiabetesPedigreeFunction\",\"DiabetesPedigreeFunction\",\"DiabetesPedigreeFunction\",\"DiabetesPedigreeFunction\",\"DiabetesPedigreeFunction\",\"DiabetesPedigreeFunction\",\"DiabetesPedigreeFunction\",\"DiabetesPedigreeFunction\",\"DiabetesPedigreeFunction\",\"DiabetesPedigreeFunction\",\"DiabetesPedigreeFunction\",\"DiabetesPedigreeFunction\",\"DiabetesPedigreeFunction\",\"DiabetesPedigreeFunction\",\"DiabetesPedigreeFunction\",\"DiabetesPedigreeFunction\",\"DiabetesPedigreeFunction\",\"DiabetesPedigreeFunction\",\"DiabetesPedigreeFunction\",\"DiabetesPedigreeFunction\",\"DiabetesPedigreeFunction\",\"DiabetesPedigreeFunction\",\"DiabetesPedigreeFunction\",\"DiabetesPedigreeFunction\",\"DiabetesPedigreeFunction\",\"DiabetesPedigreeFunction\",\"DiabetesPedigreeFunction\",\"DiabetesPedigreeFunction\",\"DiabetesPedigreeFunction\",\"DiabetesPedigreeFunction\",\"DiabetesPedigreeFunction\",\"DiabetesPedigreeFunction\",\"DiabetesPedigreeFunction\",\"DiabetesPedigreeFunction\",\"DiabetesPedigreeFunction\",\"DiabetesPedigreeFunction\",\"DiabetesPedigreeFunction\",\"DiabetesPedigreeFunction\",\"DiabetesPedigreeFunction\",\"DiabetesPedigreeFunction\",\"DiabetesPedigreeFunction\",\"DiabetesPedigreeFunction\",\"DiabetesPedigreeFunction\",\"DiabetesPedigreeFunction\",\"DiabetesPedigreeFunction\",\"DiabetesPedigreeFunction\",\"DiabetesPedigreeFunction\",\"DiabetesPedigreeFunction\",\"DiabetesPedigreeFunction\",\"DiabetesPedigreeFunction\",\"DiabetesPedigreeFunction\",\"DiabetesPedigreeFunction\",\"DiabetesPedigreeFunction\",\"DiabetesPedigreeFunction\",\"DiabetesPedigreeFunction\",\"DiabetesPedigreeFunction\",\"DiabetesPedigreeFunction\",\"DiabetesPedigreeFunction\",\"DiabetesPedigreeFunction\",\"DiabetesPedigreeFunction\",\"DiabetesPedigreeFunction\",\"DiabetesPedigreeFunction\",\"DiabetesPedigreeFunction\",\"DiabetesPedigreeFunction\",\"DiabetesPedigreeFunction\",\"DiabetesPedigreeFunction\",\"DiabetesPedigreeFunction\",\"DiabetesPedigreeFunction\",\"DiabetesPedigreeFunction\",\"DiabetesPedigreeFunction\",\"DiabetesPedigreeFunction\",\"DiabetesPedigreeFunction\",\"DiabetesPedigreeFunction\",\"DiabetesPedigreeFunction\",\"DiabetesPedigreeFunction\",\"DiabetesPedigreeFunction\",\"DiabetesPedigreeFunction\",\"DiabetesPedigreeFunction\",\"DiabetesPedigreeFunction\",\"DiabetesPedigreeFunction\",\"DiabetesPedigreeFunction\",\"DiabetesPedigreeFunction\",\"DiabetesPedigreeFunction\",\"DiabetesPedigreeFunction\",\"DiabetesPedigreeFunction\",\"DiabetesPedigreeFunction\",\"DiabetesPedigreeFunction\",\"DiabetesPedigreeFunction\",\"DiabetesPedigreeFunction\",\"DiabetesPedigreeFunction\",\"DiabetesPedigreeFunction\",\"DiabetesPedigreeFunction\",\"DiabetesPedigreeFunction\",\"DiabetesPedigreeFunction\",\"DiabetesPedigreeFunction\",\"DiabetesPedigreeFunction\",\"DiabetesPedigreeFunction\",\"DiabetesPedigreeFunction\",\"DiabetesPedigreeFunction\",\"DiabetesPedigreeFunction\",\"DiabetesPedigreeFunction\",\"DiabetesPedigreeFunction\",\"DiabetesPedigreeFunction\",\"DiabetesPedigreeFunction\",\"DiabetesPedigreeFunction\",\"DiabetesPedigreeFunction\",\"DiabetesPedigreeFunction\",\"DiabetesPedigreeFunction\",\"DiabetesPedigreeFunction\",\"DiabetesPedigreeFunction\",\"DiabetesPedigreeFunction\",\"DiabetesPedigreeFunction\",\"DiabetesPedigreeFunction\",\"DiabetesPedigreeFunction\",\"DiabetesPedigreeFunction\",\"DiabetesPedigreeFunction\",\"DiabetesPedigreeFunction\",\"DiabetesPedigreeFunction\",\"DiabetesPedigreeFunction\",\"DiabetesPedigreeFunction\",\"DiabetesPedigreeFunction\",\"DiabetesPedigreeFunction\",\"DiabetesPedigreeFunction\",\"DiabetesPedigreeFunction\",\"DiabetesPedigreeFunction\",\"DiabetesPedigreeFunction\",\"DiabetesPedigreeFunction\",\"DiabetesPedigreeFunction\",\"DiabetesPedigreeFunction\",\"DiabetesPedigreeFunction\",\"DiabetesPedigreeFunction\",\"DiabetesPedigreeFunction\",\"DiabetesPedigreeFunction\",\"DiabetesPedigreeFunction\",\"DiabetesPedigreeFunction\",\"DiabetesPedigreeFunction\",\"DiabetesPedigreeFunction\",\"DiabetesPedigreeFunction\",\"DiabetesPedigreeFunction\",\"DiabetesPedigreeFunction\",\"DiabetesPedigreeFunction\",\"DiabetesPedigreeFunction\",\"DiabetesPedigreeFunction\",\"DiabetesPedigreeFunction\",\"DiabetesPedigreeFunction\",\"DiabetesPedigreeFunction\",\"DiabetesPedigreeFunction\",\"DiabetesPedigreeFunction\",\"DiabetesPedigreeFunction\",\"DiabetesPedigreeFunction\",\"DiabetesPedigreeFunction\",\"DiabetesPedigreeFunction\",\"DiabetesPedigreeFunction\",\"DiabetesPedigreeFunction\",\"DiabetesPedigreeFunction\",\"DiabetesPedigreeFunction\",\"DiabetesPedigreeFunction\",\"DiabetesPedigreeFunction\",\"DiabetesPedigreeFunction\",\"DiabetesPedigreeFunction\",\"DiabetesPedigreeFunction\",\"DiabetesPedigreeFunction\",\"DiabetesPedigreeFunction\",\"DiabetesPedigreeFunction\",\"DiabetesPedigreeFunction\",\"DiabetesPedigreeFunction\",\"DiabetesPedigreeFunction\",\"DiabetesPedigreeFunction\",\"DiabetesPedigreeFunction\",\"DiabetesPedigreeFunction\",\"DiabetesPedigreeFunction\",\"DiabetesPedigreeFunction\",\"DiabetesPedigreeFunction\",\"DiabetesPedigreeFunction\",\"DiabetesPedigreeFunction\",\"DiabetesPedigreeFunction\",\"DiabetesPedigreeFunction\",\"DiabetesPedigreeFunction\",\"DiabetesPedigreeFunction\",\"DiabetesPedigreeFunction\",\"DiabetesPedigreeFunction\",\"DiabetesPedigreeFunction\",\"DiabetesPedigreeFunction\",\"DiabetesPedigreeFunction\",\"DiabetesPedigreeFunction\",\"DiabetesPedigreeFunction\",\"DiabetesPedigreeFunction\",\"DiabetesPedigreeFunction\",\"DiabetesPedigreeFunction\",\"DiabetesPedigreeFunction\",\"DiabetesPedigreeFunction\",\"DiabetesPedigreeFunction\",\"DiabetesPedigreeFunction\",\"DiabetesPedigreeFunction\",\"DiabetesPedigreeFunction\",\"DiabetesPedigreeFunction\",\"DiabetesPedigreeFunction\",\"DiabetesPedigreeFunction\",\"DiabetesPedigreeFunction\",\"DiabetesPedigreeFunction\",\"DiabetesPedigreeFunction\",\"DiabetesPedigreeFunction\",\"DiabetesPedigreeFunction\",\"DiabetesPedigreeFunction\",\"DiabetesPedigreeFunction\",\"DiabetesPedigreeFunction\",\"DiabetesPedigreeFunction\",\"DiabetesPedigreeFunction\",\"DiabetesPedigreeFunction\",\"DiabetesPedigreeFunction\",\"DiabetesPedigreeFunction\",\"DiabetesPedigreeFunction\",\"DiabetesPedigreeFunction\",\"DiabetesPedigreeFunction\",\"DiabetesPedigreeFunction\",\"DiabetesPedigreeFunction\",\"DiabetesPedigreeFunction\",\"DiabetesPedigreeFunction\",\"DiabetesPedigreeFunction\",\"DiabetesPedigreeFunction\",\"DiabetesPedigreeFunction\",\"DiabetesPedigreeFunction\",\"DiabetesPedigreeFunction\",\"DiabetesPedigreeFunction\",\"DiabetesPedigreeFunction\",\"DiabetesPedigreeFunction\",\"DiabetesPedigreeFunction\",\"DiabetesPedigreeFunction\",\"DiabetesPedigreeFunction\",\"DiabetesPedigreeFunction\",\"DiabetesPedigreeFunction\",\"DiabetesPedigreeFunction\",\"DiabetesPedigreeFunction\",\"DiabetesPedigreeFunction\",\"DiabetesPedigreeFunction\",\"DiabetesPedigreeFunction\",\"DiabetesPedigreeFunction\",\"DiabetesPedigreeFunction\",\"DiabetesPedigreeFunction\",\"DiabetesPedigreeFunction\",\"DiabetesPedigreeFunction\",\"DiabetesPedigreeFunction\",\"DiabetesPedigreeFunction\",\"DiabetesPedigreeFunction\",\"DiabetesPedigreeFunction\",\"DiabetesPedigreeFunction\",\"DiabetesPedigreeFunction\",\"DiabetesPedigreeFunction\",\"DiabetesPedigreeFunction\",\"DiabetesPedigreeFunction\",\"DiabetesPedigreeFunction\",\"DiabetesPedigreeFunction\",\"DiabetesPedigreeFunction\",\"DiabetesPedigreeFunction\",\"DiabetesPedigreeFunction\",\"DiabetesPedigreeFunction\",\"DiabetesPedigreeFunction\",\"DiabetesPedigreeFunction\",\"DiabetesPedigreeFunction\",\"DiabetesPedigreeFunction\",\"DiabetesPedigreeFunction\",\"DiabetesPedigreeFunction\",\"DiabetesPedigreeFunction\",\"DiabetesPedigreeFunction\",\"DiabetesPedigreeFunction\",\"DiabetesPedigreeFunction\",\"DiabetesPedigreeFunction\",\"DiabetesPedigreeFunction\",\"DiabetesPedigreeFunction\",\"DiabetesPedigreeFunction\",\"DiabetesPedigreeFunction\",\"DiabetesPedigreeFunction\",\"DiabetesPedigreeFunction\",\"DiabetesPedigreeFunction\",\"DiabetesPedigreeFunction\",\"DiabetesPedigreeFunction\",\"DiabetesPedigreeFunction\",\"DiabetesPedigreeFunction\",\"DiabetesPedigreeFunction\",\"DiabetesPedigreeFunction\",\"DiabetesPedigreeFunction\",\"DiabetesPedigreeFunction\",\"DiabetesPedigreeFunction\",\"DiabetesPedigreeFunction\",\"DiabetesPedigreeFunction\",\"DiabetesPedigreeFunction\",\"DiabetesPedigreeFunction\",\"DiabetesPedigreeFunction\",\"DiabetesPedigreeFunction\",\"DiabetesPedigreeFunction\",\"DiabetesPedigreeFunction\",\"DiabetesPedigreeFunction\",\"DiabetesPedigreeFunction\",\"DiabetesPedigreeFunction\",\"DiabetesPedigreeFunction\",\"DiabetesPedigreeFunction\",\"DiabetesPedigreeFunction\",\"DiabetesPedigreeFunction\",\"DiabetesPedigreeFunction\",\"DiabetesPedigreeFunction\",\"DiabetesPedigreeFunction\",\"DiabetesPedigreeFunction\",\"DiabetesPedigreeFunction\",\"DiabetesPedigreeFunction\",\"DiabetesPedigreeFunction\",\"DiabetesPedigreeFunction\",\"DiabetesPedigreeFunction\",\"DiabetesPedigreeFunction\",\"DiabetesPedigreeFunction\",\"DiabetesPedigreeFunction\",\"DiabetesPedigreeFunction\",\"DiabetesPedigreeFunction\",\"DiabetesPedigreeFunction\",\"DiabetesPedigreeFunction\",\"DiabetesPedigreeFunction\",\"DiabetesPedigreeFunction\",\"DiabetesPedigreeFunction\",\"DiabetesPedigreeFunction\",\"DiabetesPedigreeFunction\",\"DiabetesPedigreeFunction\",\"DiabetesPedigreeFunction\",\"DiabetesPedigreeFunction\",\"DiabetesPedigreeFunction\",\"DiabetesPedigreeFunction\",\"DiabetesPedigreeFunction\",\"DiabetesPedigreeFunction\",\"DiabetesPedigreeFunction\",\"DiabetesPedigreeFunction\",\"DiabetesPedigreeFunction\",\"DiabetesPedigreeFunction\",\"DiabetesPedigreeFunction\",\"DiabetesPedigreeFunction\",\"DiabetesPedigreeFunction\",\"DiabetesPedigreeFunction\",\"DiabetesPedigreeFunction\",\"DiabetesPedigreeFunction\",\"DiabetesPedigreeFunction\",\"DiabetesPedigreeFunction\",\"DiabetesPedigreeFunction\",\"DiabetesPedigreeFunction\",\"DiabetesPedigreeFunction\",\"DiabetesPedigreeFunction\",\"DiabetesPedigreeFunction\",\"DiabetesPedigreeFunction\",\"DiabetesPedigreeFunction\",\"DiabetesPedigreeFunction\",\"DiabetesPedigreeFunction\",\"DiabetesPedigreeFunction\",\"DiabetesPedigreeFunction\",\"DiabetesPedigreeFunction\",\"DiabetesPedigreeFunction\",\"DiabetesPedigreeFunction\",\"DiabetesPedigreeFunction\",\"DiabetesPedigreeFunction\",\"DiabetesPedigreeFunction\",\"DiabetesPedigreeFunction\",\"DiabetesPedigreeFunction\",\"DiabetesPedigreeFunction\",\"DiabetesPedigreeFunction\",\"DiabetesPedigreeFunction\",\"DiabetesPedigreeFunction\",\"DiabetesPedigreeFunction\",\"DiabetesPedigreeFunction\",\"DiabetesPedigreeFunction\",\"DiabetesPedigreeFunction\",\"DiabetesPedigreeFunction\",\"DiabetesPedigreeFunction\",\"DiabetesPedigreeFunction\",\"DiabetesPedigreeFunction\",\"DiabetesPedigreeFunction\",\"DiabetesPedigreeFunction\",\"DiabetesPedigreeFunction\",\"DiabetesPedigreeFunction\",\"DiabetesPedigreeFunction\",\"DiabetesPedigreeFunction\",\"DiabetesPedigreeFunction\",\"DiabetesPedigreeFunction\",\"DiabetesPedigreeFunction\",\"DiabetesPedigreeFunction\",\"DiabetesPedigreeFunction\",\"DiabetesPedigreeFunction\",\"DiabetesPedigreeFunction\",\"DiabetesPedigreeFunction\",\"DiabetesPedigreeFunction\",\"DiabetesPedigreeFunction\",\"DiabetesPedigreeFunction\",\"DiabetesPedigreeFunction\",\"DiabetesPedigreeFunction\",\"DiabetesPedigreeFunction\",\"DiabetesPedigreeFunction\",\"DiabetesPedigreeFunction\",\"DiabetesPedigreeFunction\",\"DiabetesPedigreeFunction\",\"DiabetesPedigreeFunction\",\"DiabetesPedigreeFunction\",\"DiabetesPedigreeFunction\",\"DiabetesPedigreeFunction\",\"DiabetesPedigreeFunction\",\"DiabetesPedigreeFunction\",\"DiabetesPedigreeFunction\",\"DiabetesPedigreeFunction\",\"DiabetesPedigreeFunction\",\"DiabetesPedigreeFunction\",\"DiabetesPedigreeFunction\",\"DiabetesPedigreeFunction\",\"DiabetesPedigreeFunction\",\"DiabetesPedigreeFunction\",\"DiabetesPedigreeFunction\",\"DiabetesPedigreeFunction\",\"DiabetesPedigreeFunction\",\"DiabetesPedigreeFunction\",\"DiabetesPedigreeFunction\",\"DiabetesPedigreeFunction\",\"DiabetesPedigreeFunction\",\"DiabetesPedigreeFunction\",\"DiabetesPedigreeFunction\",\"DiabetesPedigreeFunction\",\"DiabetesPedigreeFunction\",\"DiabetesPedigreeFunction\",\"DiabetesPedigreeFunction\",\"DiabetesPedigreeFunction\",\"DiabetesPedigreeFunction\",\"DiabetesPedigreeFunction\",\"DiabetesPedigreeFunction\",\"DiabetesPedigreeFunction\",\"DiabetesPedigreeFunction\",\"DiabetesPedigreeFunction\",\"DiabetesPedigreeFunction\",\"DiabetesPedigreeFunction\",\"DiabetesPedigreeFunction\",\"DiabetesPedigreeFunction\",\"DiabetesPedigreeFunction\",\"DiabetesPedigreeFunction\",\"DiabetesPedigreeFunction\",\"DiabetesPedigreeFunction\",\"DiabetesPedigreeFunction\",\"DiabetesPedigreeFunction\",\"DiabetesPedigreeFunction\",\"DiabetesPedigreeFunction\",\"DiabetesPedigreeFunction\",\"DiabetesPedigreeFunction\",\"DiabetesPedigreeFunction\",\"DiabetesPedigreeFunction\",\"DiabetesPedigreeFunction\",\"DiabetesPedigreeFunction\",\"DiabetesPedigreeFunction\",\"DiabetesPedigreeFunction\",\"DiabetesPedigreeFunction\",\"DiabetesPedigreeFunction\",\"DiabetesPedigreeFunction\",\"DiabetesPedigreeFunction\",\"DiabetesPedigreeFunction\",\"DiabetesPedigreeFunction\",\"DiabetesPedigreeFunction\",\"DiabetesPedigreeFunction\",\"DiabetesPedigreeFunction\",\"DiabetesPedigreeFunction\",\"DiabetesPedigreeFunction\",\"DiabetesPedigreeFunction\",\"DiabetesPedigreeFunction\",\"DiabetesPedigreeFunction\",\"DiabetesPedigreeFunction\",\"DiabetesPedigreeFunction\",\"DiabetesPedigreeFunction\",\"DiabetesPedigreeFunction\",\"DiabetesPedigreeFunction\",\"DiabetesPedigreeFunction\",\"DiabetesPedigreeFunction\",\"DiabetesPedigreeFunction\",\"DiabetesPedigreeFunction\",\"DiabetesPedigreeFunction\",\"DiabetesPedigreeFunction\",\"DiabetesPedigreeFunction\",\"DiabetesPedigreeFunction\",\"DiabetesPedigreeFunction\",\"DiabetesPedigreeFunction\",\"DiabetesPedigreeFunction\",\"DiabetesPedigreeFunction\",\"DiabetesPedigreeFunction\",\"DiabetesPedigreeFunction\",\"DiabetesPedigreeFunction\",\"DiabetesPedigreeFunction\",\"DiabetesPedigreeFunction\",\"DiabetesPedigreeFunction\",\"DiabetesPedigreeFunction\",\"DiabetesPedigreeFunction\",\"DiabetesPedigreeFunction\",\"DiabetesPedigreeFunction\",\"DiabetesPedigreeFunction\",\"DiabetesPedigreeFunction\",\"DiabetesPedigreeFunction\",\"DiabetesPedigreeFunction\",\"DiabetesPedigreeFunction\",\"DiabetesPedigreeFunction\",\"DiabetesPedigreeFunction\",\"DiabetesPedigreeFunction\",\"DiabetesPedigreeFunction\",\"DiabetesPedigreeFunction\",\"DiabetesPedigreeFunction\",\"DiabetesPedigreeFunction\",\"DiabetesPedigreeFunction\",\"DiabetesPedigreeFunction\",\"DiabetesPedigreeFunction\",\"DiabetesPedigreeFunction\",\"DiabetesPedigreeFunction\",\"DiabetesPedigreeFunction\",\"DiabetesPedigreeFunction\",\"DiabetesPedigreeFunction\",\"DiabetesPedigreeFunction\",\"DiabetesPedigreeFunction\",\"DiabetesPedigreeFunction\",\"DiabetesPedigreeFunction\",\"DiabetesPedigreeFunction\",\"DiabetesPedigreeFunction\",\"DiabetesPedigreeFunction\",\"DiabetesPedigreeFunction\",\"DiabetesPedigreeFunction\",\"DiabetesPedigreeFunction\",\"DiabetesPedigreeFunction\",\"DiabetesPedigreeFunction\",\"DiabetesPedigreeFunction\",\"DiabetesPedigreeFunction\",\"DiabetesPedigreeFunction\",\"DiabetesPedigreeFunction\",\"Age\",\"Age\",\"Age\",\"Age\",\"Age\",\"Age\",\"Age\",\"Age\",\"Age\",\"Age\",\"Age\",\"Age\",\"Age\",\"Age\",\"Age\",\"Age\",\"Age\",\"Age\",\"Age\",\"Age\",\"Age\",\"Age\",\"Age\",\"Age\",\"Age\",\"Age\",\"Age\",\"Age\",\"Age\",\"Age\",\"Age\",\"Age\",\"Age\",\"Age\",\"Age\",\"Age\",\"Age\",\"Age\",\"Age\",\"Age\",\"Age\",\"Age\",\"Age\",\"Age\",\"Age\",\"Age\",\"Age\",\"Age\",\"Age\",\"Age\",\"Age\",\"Age\",\"Age\",\"Age\",\"Age\",\"Age\",\"Age\",\"Age\",\"Age\",\"Age\",\"Age\",\"Age\",\"Age\",\"Age\",\"Age\",\"Age\",\"Age\",\"Age\",\"Age\",\"Age\",\"Age\",\"Age\",\"Age\",\"Age\",\"Age\",\"Age\",\"Age\",\"Age\",\"Age\",\"Age\",\"Age\",\"Age\",\"Age\",\"Age\",\"Age\",\"Age\",\"Age\",\"Age\",\"Age\",\"Age\",\"Age\",\"Age\",\"Age\",\"Age\",\"Age\",\"Age\",\"Age\",\"Age\",\"Age\",\"Age\",\"Age\",\"Age\",\"Age\",\"Age\",\"Age\",\"Age\",\"Age\",\"Age\",\"Age\",\"Age\",\"Age\",\"Age\",\"Age\",\"Age\",\"Age\",\"Age\",\"Age\",\"Age\",\"Age\",\"Age\",\"Age\",\"Age\",\"Age\",\"Age\",\"Age\",\"Age\",\"Age\",\"Age\",\"Age\",\"Age\",\"Age\",\"Age\",\"Age\",\"Age\",\"Age\",\"Age\",\"Age\",\"Age\",\"Age\",\"Age\",\"Age\",\"Age\",\"Age\",\"Age\",\"Age\",\"Age\",\"Age\",\"Age\",\"Age\",\"Age\",\"Age\",\"Age\",\"Age\",\"Age\",\"Age\",\"Age\",\"Age\",\"Age\",\"Age\",\"Age\",\"Age\",\"Age\",\"Age\",\"Age\",\"Age\",\"Age\",\"Age\",\"Age\",\"Age\",\"Age\",\"Age\",\"Age\",\"Age\",\"Age\",\"Age\",\"Age\",\"Age\",\"Age\",\"Age\",\"Age\",\"Age\",\"Age\",\"Age\",\"Age\",\"Age\",\"Age\",\"Age\",\"Age\",\"Age\",\"Age\",\"Age\",\"Age\",\"Age\",\"Age\",\"Age\",\"Age\",\"Age\",\"Age\",\"Age\",\"Age\",\"Age\",\"Age\",\"Age\",\"Age\",\"Age\",\"Age\",\"Age\",\"Age\",\"Age\",\"Age\",\"Age\",\"Age\",\"Age\",\"Age\",\"Age\",\"Age\",\"Age\",\"Age\",\"Age\",\"Age\",\"Age\",\"Age\",\"Age\",\"Age\",\"Age\",\"Age\",\"Age\",\"Age\",\"Age\",\"Age\",\"Age\",\"Age\",\"Age\",\"Age\",\"Age\",\"Age\",\"Age\",\"Age\",\"Age\",\"Age\",\"Age\",\"Age\",\"Age\",\"Age\",\"Age\",\"Age\",\"Age\",\"Age\",\"Age\",\"Age\",\"Age\",\"Age\",\"Age\",\"Age\",\"Age\",\"Age\",\"Age\",\"Age\",\"Age\",\"Age\",\"Age\",\"Age\",\"Age\",\"Age\",\"Age\",\"Age\",\"Age\",\"Age\",\"Age\",\"Age\",\"Age\",\"Age\",\"Age\",\"Age\",\"Age\",\"Age\",\"Age\",\"Age\",\"Age\",\"Age\",\"Age\",\"Age\",\"Age\",\"Age\",\"Age\",\"Age\",\"Age\",\"Age\",\"Age\",\"Age\",\"Age\",\"Age\",\"Age\",\"Age\",\"Age\",\"Age\",\"Age\",\"Age\",\"Age\",\"Age\",\"Age\",\"Age\",\"Age\",\"Age\",\"Age\",\"Age\",\"Age\",\"Age\",\"Age\",\"Age\",\"Age\",\"Age\",\"Age\",\"Age\",\"Age\",\"Age\",\"Age\",\"Age\",\"Age\",\"Age\",\"Age\",\"Age\",\"Age\",\"Age\",\"Age\",\"Age\",\"Age\",\"Age\",\"Age\",\"Age\",\"Age\",\"Age\",\"Age\",\"Age\",\"Age\",\"Age\",\"Age\",\"Age\",\"Age\",\"Age\",\"Age\",\"Age\",\"Age\",\"Age\",\"Age\",\"Age\",\"Age\",\"Age\",\"Age\",\"Age\",\"Age\",\"Age\",\"Age\",\"Age\",\"Age\",\"Age\",\"Age\",\"Age\",\"Age\",\"Age\",\"Age\",\"Age\",\"Age\",\"Age\",\"Age\",\"Age\",\"Age\",\"Age\",\"Age\",\"Age\",\"Age\",\"Age\",\"Age\",\"Age\",\"Age\",\"Age\",\"Age\",\"Age\",\"Age\",\"Age\",\"Age\",\"Age\",\"Age\",\"Age\",\"Age\",\"Age\",\"Age\",\"Age\",\"Age\",\"Age\",\"Age\",\"Age\",\"Age\",\"Age\",\"Age\",\"Age\",\"Age\",\"Age\",\"Age\",\"Age\",\"Age\",\"Age\",\"Age\",\"Age\",\"Age\",\"Age\",\"Age\",\"Age\",\"Age\",\"Age\",\"Age\",\"Age\",\"Age\",\"Age\",\"Age\",\"Age\",\"Age\",\"Age\",\"Age\",\"Age\",\"Age\",\"Age\",\"Age\",\"Age\",\"Age\",\"Age\",\"Age\",\"Age\",\"Age\",\"Age\",\"Age\",\"Age\",\"Age\",\"Age\",\"Age\",\"Age\",\"Age\",\"Age\",\"Age\",\"Age\",\"Age\",\"Age\",\"Age\",\"Age\",\"Age\",\"Age\",\"Age\",\"Age\",\"Age\",\"Age\",\"Age\",\"Age\",\"Age\",\"Age\",\"Age\",\"Age\",\"Age\",\"Age\",\"Age\",\"Age\",\"Age\",\"Age\",\"Age\",\"Age\",\"Age\",\"Age\",\"Age\",\"Age\",\"Age\",\"Age\",\"Age\",\"Age\",\"Age\",\"Age\",\"Age\",\"Age\",\"Age\",\"Age\",\"Age\",\"Age\",\"Age\",\"Age\",\"Age\",\"Age\",\"Age\",\"Age\",\"Age\",\"Age\",\"Age\",\"Age\",\"Age\",\"Age\",\"Age\",\"Age\",\"Age\",\"Age\",\"Age\",\"Age\",\"Age\",\"Age\",\"Age\",\"Age\",\"Age\",\"Age\",\"Age\",\"Age\",\"Age\",\"Age\",\"Age\",\"Age\",\"Age\",\"Age\",\"Age\",\"Age\",\"Age\",\"Age\",\"Age\",\"Age\",\"Age\",\"Age\",\"Age\",\"Age\",\"Age\",\"Age\",\"Age\",\"Age\",\"Age\",\"Age\",\"Age\",\"Age\",\"Age\",\"Age\",\"Age\",\"Age\",\"Age\",\"Age\",\"Age\",\"Age\",\"Age\",\"Age\",\"Age\",\"Age\",\"Age\",\"Age\",\"Age\",\"Age\",\"Age\",\"Age\",\"Age\",\"Age\",\"Age\",\"Age\",\"Age\",\"Age\",\"Age\",\"Age\",\"Age\",\"Age\",\"Age\",\"Age\",\"Age\",\"Age\",\"Age\",\"Age\",\"Age\",\"Age\",\"Age\",\"Age\",\"Age\",\"Age\",\"Age\",\"Age\",\"Age\",\"Age\",\"Age\",\"Age\",\"Age\",\"Age\",\"Age\",\"Age\",\"Age\",\"Age\",\"Age\",\"Age\",\"Age\",\"Age\",\"Age\",\"Age\",\"Age\",\"Age\",\"Age\",\"Age\",\"Age\",\"Age\",\"Age\",\"Age\",\"Age\",\"Age\",\"Age\",\"Age\",\"Age\",\"Age\",\"Age\",\"Age\",\"Age\",\"Age\",\"Age\",\"Age\",\"Age\",\"Age\",\"Age\",\"Age\",\"Age\",\"Age\",\"Age\",\"Age\",\"Age\",\"Age\",\"Age\",\"Age\",\"Age\",\"Age\",\"Age\",\"Age\",\"Age\",\"Age\",\"Age\",\"Age\",\"Age\",\"Age\",\"Age\",\"Age\",\"Age\",\"Age\",\"Age\",\"Age\",\"Age\",\"Age\",\"Age\",\"Age\",\"Age\",\"Age\",\"Age\",\"Age\",\"Age\",\"Age\",\"Age\",\"Age\",\"Age\",\"Age\",\"Age\",\"Age\",\"Age\",\"Age\",\"Age\",\"Age\",\"Age\",\"Age\",\"Age\",\"Age\",\"Age\",\"Age\",\"Age\",\"Age\",\"Age\",\"Age\",\"Age\",\"Age\",\"Age\",\"Age\",\"Age\",\"Age\",\"Age\",\"Age\",\"Age\",\"Age\",\"Age\",\"Age\",\"Age\",\"Age\",\"Age\",\"Age\",\"Age\",\"Age\",\"Age\",\"Age\",\"Age\",\"Age\",\"Age\",\"Age\",\"Age\",\"Age\",\"Age\",\"Age\",\"Age\",\"Age\",\"Age\",\"Age\",\"Age\",\"Age\",\"Age\",\"Age\",\"Age\",\"Age\",\"Age\",\"Age\",\"Age\",\"Age\",\"Age\",\"Age\",\"Age\",\"Age\",\"Age\",\"Age\",\"Age\",\"Age\",\"Age\",\"Age\",\"Age\",\"Age\",\"Age\",\"Age\",\"Age\",\"Age\",\"Age\",\"Age\",\"Age\",\"Age\",\"Age\",\"Age\",\"Age\",\"Age\",\"Age\",\"Age\",\"Age\",\"Age\",\"Age\",\"Age\",\"Age\",\"Age\",\"Age\",\"Age\",\"Age\",\"Age\",\"Age\",\"Age\",\"Age\",\"Age\",\"Age\",\"Age\",\"Age\",\"Age\",\"Age\",\"Age\",\"Age\",\"Age\",\"Age\",\"Age\",\"Age\",\"Age\",\"Age\",\"Age\",\"Age\",\"Age\",\"Age\",\"Age\",\"Age\",\"Age\"],\"x0\":\" \",\"xaxis\":\"x\",\"y\":[148.0,85.0,183.0,89.0,137.0,116.0,78.0,115.0,197.0,125.0,110.0,168.0,139.0,189.0,166.0,100.0,118.0,107.0,103.0,115.0,126.0,99.0,196.0,119.0,143.0,125.0,147.0,97.0,145.0,117.0,109.0,158.0,88.0,92.0,122.0,103.0,138.0,102.0,90.0,111.0,180.0,133.0,106.0,171.0,159.0,180.0,146.0,71.0,103.0,105.0,103.0,101.0,88.0,176.0,150.0,73.0,187.0,100.0,146.0,105.0,84.0,133.0,44.0,141.0,114.0,99.0,109.0,109.0,95.0,146.0,100.0,139.0,126.0,129.0,79.0,121.6867627785059,62.0,95.0,131.0,112.0,113.0,74.0,83.0,101.0,137.0,110.0,106.0,100.0,136.0,107.0,80.0,123.0,81.0,134.0,142.0,144.0,92.0,71.0,93.0,122.0,163.0,151.0,125.0,81.0,85.0,126.0,96.0,144.0,83.0,95.0,171.0,155.0,89.0,76.0,160.0,146.0,124.0,78.0,97.0,99.0,162.0,111.0,107.0,132.0,113.0,88.0,120.0,118.0,117.0,105.0,173.0,122.0,170.0,84.0,96.0,125.0,100.0,93.0,129.0,105.0,128.0,106.0,108.0,108.0,154.0,102.0,57.0,106.0,147.0,90.0,136.0,114.0,156.0,153.0,188.0,152.0,99.0,109.0,88.0,163.0,151.0,102.0,114.0,100.0,131.0,104.0,148.0,120.0,110.0,111.0,102.0,134.0,87.0,79.0,75.0,179.0,85.0,129.0,143.0,130.0,87.0,119.0,121.6867627785059,73.0,141.0,194.0,181.0,128.0,109.0,139.0,111.0,123.0,159.0,135.0,85.0,158.0,105.0,107.0,109.0,148.0,113.0,138.0,108.0,99.0,103.0,111.0,196.0,162.0,96.0,184.0,81.0,147.0,179.0,140.0,112.0,151.0,109.0,125.0,85.0,112.0,177.0,158.0,119.0,142.0,100.0,87.0,101.0,162.0,197.0,117.0,142.0,134.0,79.0,122.0,74.0,171.0,181.0,179.0,164.0,104.0,91.0,91.0,139.0,119.0,146.0,184.0,122.0,165.0,124.0,111.0,106.0,129.0,90.0,86.0,92.0,113.0,111.0,114.0,193.0,155.0,191.0,141.0,95.0,142.0,123.0,96.0,138.0,128.0,102.0,146.0,101.0,108.0,122.0,71.0,106.0,100.0,106.0,104.0,114.0,108.0,146.0,129.0,133.0,161.0,108.0,136.0,155.0,119.0,96.0,108.0,78.0,107.0,128.0,128.0,161.0,151.0,146.0,126.0,100.0,112.0,167.0,144.0,77.0,115.0,150.0,120.0,161.0,137.0,128.0,124.0,80.0,106.0,155.0,113.0,109.0,112.0,99.0,182.0,115.0,194.0,129.0,112.0,124.0,152.0,112.0,157.0,122.0,179.0,102.0,105.0,118.0,87.0,180.0,106.0,95.0,165.0,117.0,115.0,152.0,178.0,130.0,95.0,121.6867627785059,122.0,95.0,126.0,139.0,116.0,99.0,121.6867627785059,92.0,137.0,61.0,90.0,90.0,165.0,125.0,129.0,88.0,196.0,189.0,158.0,103.0,146.0,147.0,99.0,124.0,101.0,81.0,133.0,173.0,118.0,84.0,105.0,122.0,140.0,98.0,87.0,156.0,93.0,107.0,105.0,109.0,90.0,125.0,119.0,116.0,105.0,144.0,100.0,100.0,166.0,131.0,116.0,158.0,127.0,96.0,131.0,82.0,193.0,95.0,137.0,136.0,72.0,168.0,123.0,115.0,101.0,197.0,172.0,102.0,112.0,143.0,143.0,138.0,173.0,97.0,144.0,83.0,129.0,119.0,94.0,102.0,115.0,151.0,184.0,94.0,181.0,135.0,95.0,99.0,89.0,80.0,139.0,90.0,141.0,140.0,147.0,97.0,107.0,189.0,83.0,117.0,108.0,117.0,180.0,100.0,95.0,104.0,120.0,82.0,134.0,91.0,119.0,100.0,175.0,135.0,86.0,148.0,134.0,120.0,71.0,74.0,88.0,115.0,124.0,74.0,97.0,120.0,154.0,144.0,137.0,119.0,136.0,114.0,137.0,105.0,114.0,126.0,132.0,158.0,123.0,85.0,84.0,145.0,135.0,139.0,173.0,99.0,194.0,83.0,89.0,99.0,125.0,80.0,166.0,110.0,81.0,195.0,154.0,117.0,84.0,121.6867627785059,94.0,96.0,75.0,180.0,130.0,84.0,120.0,84.0,139.0,91.0,91.0,99.0,163.0,145.0,125.0,76.0,129.0,68.0,124.0,114.0,130.0,125.0,87.0,97.0,116.0,117.0,111.0,122.0,107.0,86.0,91.0,77.0,132.0,105.0,57.0,127.0,129.0,100.0,128.0,90.0,84.0,88.0,186.0,187.0,131.0,164.0,189.0,116.0,84.0,114.0,88.0,84.0,124.0,97.0,110.0,103.0,85.0,125.0,198.0,87.0,99.0,91.0,95.0,99.0,92.0,154.0,121.0,78.0,130.0,111.0,98.0,143.0,119.0,108.0,118.0,133.0,197.0,151.0,109.0,121.0,100.0,124.0,93.0,143.0,103.0,176.0,73.0,111.0,112.0,132.0,82.0,123.0,188.0,67.0,89.0,173.0,109.0,108.0,96.0,124.0,150.0,183.0,124.0,181.0,92.0,152.0,111.0,106.0,174.0,168.0,105.0,138.0,106.0,117.0,68.0,112.0,119.0,112.0,92.0,183.0,94.0,108.0,90.0,125.0,132.0,128.0,94.0,114.0,102.0,111.0,128.0,92.0,104.0,104.0,94.0,97.0,100.0,102.0,128.0,147.0,90.0,103.0,157.0,167.0,179.0,136.0,107.0,91.0,117.0,123.0,120.0,106.0,155.0,101.0,120.0,127.0,80.0,162.0,199.0,167.0,145.0,115.0,112.0,145.0,111.0,98.0,154.0,165.0,99.0,68.0,123.0,91.0,195.0,156.0,93.0,121.0,101.0,56.0,162.0,95.0,125.0,136.0,129.0,130.0,107.0,140.0,144.0,107.0,158.0,121.0,129.0,90.0,142.0,169.0,99.0,127.0,118.0,122.0,125.0,168.0,129.0,110.0,80.0,115.0,127.0,164.0,93.0,158.0,126.0,129.0,134.0,102.0,187.0,173.0,94.0,108.0,97.0,83.0,114.0,149.0,117.0,111.0,112.0,116.0,141.0,175.0,92.0,130.0,120.0,174.0,106.0,105.0,95.0,126.0,65.0,99.0,102.0,120.0,102.0,109.0,140.0,153.0,100.0,147.0,81.0,187.0,162.0,136.0,121.0,108.0,181.0,154.0,128.0,137.0,123.0,106.0,190.0,88.0,170.0,89.0,101.0,122.0,121.0,126.0,93.0,72.0,66.0,64.0,66.0,40.0,74.0,50.0,72.40518417462484,70.0,96.0,92.0,74.0,80.0,60.0,72.0,72.40518417462484,84.0,74.0,30.0,70.0,88.0,84.0,90.0,80.0,94.0,70.0,76.0,66.0,82.0,92.0,75.0,76.0,58.0,92.0,78.0,60.0,76.0,76.0,68.0,72.0,64.0,84.0,92.0,110.0,64.0,66.0,56.0,70.0,66.0,72.40518417462484,80.0,50.0,66.0,90.0,66.0,50.0,68.0,88.0,82.0,64.0,72.40518417462484,72.0,62.0,58.0,66.0,74.0,88.0,92.0,66.0,85.0,66.0,64.0,90.0,86.0,75.0,48.0,78.0,72.0,72.40518417462484,66.0,44.0,72.40518417462484,78.0,65.0,108.0,74.0,72.0,68.0,70.0,68.0,55.0,80.0,78.0,72.0,82.0,72.0,62.0,48.0,50.0,90.0,72.0,60.0,96.0,72.0,65.0,56.0,122.0,58.0,58.0,85.0,72.0,62.0,76.0,62.0,54.0,92.0,74.0,48.0,60.0,76.0,76.0,64.0,74.0,80.0,76.0,30.0,70.0,58.0,88.0,84.0,70.0,56.0,64.0,74.0,68.0,60.0,70.0,60.0,80.0,72.0,78.0,82.0,52.0,66.0,62.0,75.0,80.0,64.0,78.0,70.0,74.0,65.0,86.0,82.0,78.0,88.0,52.0,56.0,74.0,72.0,90.0,74.0,80.0,64.0,88.0,74.0,66.0,68.0,66.0,90.0,82.0,70.0,72.40518417462484,60.0,64.0,72.0,78.0,110.0,78.0,82.0,80.0,64.0,74.0,60.0,74.0,68.0,68.0,98.0,76.0,80.0,62.0,70.0,66.0,72.40518417462484,55.0,84.0,58.0,62.0,64.0,60.0,80.0,82.0,68.0,70.0,72.0,72.0,76.0,104.0,64.0,84.0,60.0,85.0,95.0,65.0,82.0,70.0,62.0,68.0,74.0,66.0,60.0,90.0,72.40518417462484,60.0,66.0,78.0,76.0,52.0,70.0,80.0,86.0,80.0,80.0,68.0,68.0,72.0,84.0,90.0,84.0,76.0,64.0,70.0,54.0,50.0,76.0,85.0,68.0,90.0,70.0,86.0,52.0,84.0,80.0,68.0,62.0,64.0,56.0,68.0,50.0,76.0,68.0,72.40518417462484,70.0,80.0,62.0,74.0,72.40518417462484,64.0,52.0,72.40518417462484,86.0,62.0,78.0,78.0,70.0,70.0,60.0,64.0,74.0,62.0,70.0,76.0,88.0,86.0,80.0,74.0,84.0,86.0,56.0,72.0,88.0,62.0,78.0,48.0,50.0,62.0,70.0,84.0,78.0,72.0,72.40518417462484,58.0,82.0,98.0,76.0,76.0,68.0,68.0,68.0,68.0,66.0,70.0,74.0,50.0,80.0,68.0,80.0,74.0,66.0,78.0,60.0,74.0,70.0,90.0,75.0,72.0,64.0,70.0,86.0,70.0,72.0,58.0,72.40518417462484,80.0,60.0,76.0,72.40518417462484,76.0,78.0,84.0,70.0,74.0,68.0,86.0,72.0,88.0,46.0,72.40518417462484,62.0,80.0,80.0,84.0,82.0,62.0,78.0,88.0,50.0,72.40518417462484,74.0,76.0,64.0,70.0,108.0,78.0,74.0,54.0,72.0,64.0,86.0,102.0,82.0,64.0,64.0,58.0,52.0,82.0,82.0,60.0,75.0,100.0,72.0,68.0,60.0,62.0,70.0,54.0,74.0,100.0,82.0,68.0,66.0,76.0,64.0,72.0,78.0,58.0,56.0,66.0,70.0,70.0,64.0,61.0,84.0,78.0,64.0,48.0,72.0,62.0,74.0,68.0,90.0,72.0,84.0,74.0,60.0,84.0,68.0,82.0,68.0,64.0,88.0,68.0,64.0,64.0,78.0,78.0,72.40518417462484,64.0,94.0,82.0,72.40518417462484,74.0,74.0,75.0,68.0,72.40518417462484,85.0,75.0,70.0,88.0,104.0,66.0,64.0,70.0,62.0,78.0,72.0,80.0,64.0,74.0,64.0,70.0,68.0,72.40518417462484,54.0,62.0,54.0,68.0,84.0,74.0,72.0,62.0,70.0,78.0,98.0,56.0,52.0,64.0,72.40518417462484,78.0,82.0,70.0,66.0,90.0,64.0,84.0,80.0,76.0,74.0,86.0,70.0,88.0,58.0,82.0,72.40518417462484,68.0,62.0,78.0,72.0,80.0,65.0,90.0,68.0,70.0,72.40518417462484,74.0,68.0,72.0,70.0,74.0,90.0,72.0,68.0,64.0,78.0,82.0,90.0,60.0,50.0,78.0,72.0,62.0,68.0,62.0,54.0,70.0,88.0,86.0,60.0,90.0,70.0,80.0,72.40518417462484,70.0,58.0,60.0,64.0,74.0,66.0,65.0,60.0,76.0,66.0,72.40518417462484,56.0,72.40518417462484,90.0,60.0,80.0,92.0,74.0,72.0,85.0,90.0,78.0,90.0,76.0,68.0,82.0,110.0,70.0,68.0,88.0,62.0,64.0,70.0,70.0,76.0,68.0,74.0,76.0,66.0,68.0,60.0,80.0,54.0,72.0,62.0,72.0,66.0,70.0,96.0,58.0,60.0,86.0,44.0,44.0,80.0,68.0,70.0,90.0,60.0,78.0,76.0,76.0,56.0,66.0,66.0,86.0,72.40518417462484,84.0,78.0,80.0,52.0,72.0,82.0,76.0,24.0,74.0,38.0,88.0,72.40518417462484,74.0,78.0,72.40518417462484,60.0,78.0,62.0,82.0,62.0,54.0,58.0,88.0,80.0,74.0,72.0,96.0,62.0,82.0,72.40518417462484,86.0,76.0,94.0,70.0,64.0,88.0,68.0,78.0,80.0,65.0,64.0,78.0,60.0,82.0,62.0,72.0,74.0,76.0,76.0,74.0,86.0,70.0,80.0,72.40518417462484,72.0,74.0,74.0,50.0,84.0,60.0,54.0,60.0,74.0,54.0,70.0,52.0,58.0,80.0,106.0,82.0,84.0,76.0,106.0,80.0,60.0,80.0,82.0,70.0,58.0,78.0,68.0,58.0,106.0,100.0,82.0,70.0,86.0,60.0,52.0,58.0,56.0,76.0,64.0,80.0,82.0,74.0,64.0,50.0,74.0,82.0,80.0,114.0,70.0,68.0,60.0,90.0,74.0,72.40518417462484,88.0,70.0,76.0,78.0,88.0,72.40518417462484,76.0,80.0,72.40518417462484,46.0,78.0,64.0,64.0,78.0,62.0,58.0,74.0,50.0,78.0,72.0,60.0,76.0,86.0,66.0,68.0,86.0,94.0,78.0,78.0,84.0,88.0,52.0,78.0,86.0,88.0,56.0,75.0,60.0,86.0,72.0,60.0,74.0,80.0,44.0,58.0,94.0,88.0,84.0,94.0,74.0,70.0,62.0,70.0,78.0,62.0,88.0,78.0,88.0,90.0,72.0,76.0,92.0,58.0,74.0,62.0,76.0,70.0,72.0,60.0,70.0,35.0,29.0,29.153419593345657,23.0,35.0,29.153419593345657,32.0,29.153419593345657,45.0,29.153419593345657,29.153419593345657,29.153419593345657,29.153419593345657,23.0,19.0,29.153419593345657,47.0,29.153419593345657,38.0,30.0,41.0,29.153419593345657,29.153419593345657,35.0,33.0,26.0,29.153419593345657,15.0,19.0,29.153419593345657,26.0,36.0,11.0,29.153419593345657,31.0,33.0,29.153419593345657,37.0,42.0,47.0,25.0,29.153419593345657,18.0,24.0,29.153419593345657,39.0,29.153419593345657,27.0,32.0,29.153419593345657,11.0,15.0,21.0,34.0,42.0,10.0,39.0,60.0,29.153419593345657,41.0,29.153419593345657,29.153419593345657,29.153419593345657,34.0,29.153419593345657,27.0,30.0,29.153419593345657,13.0,27.0,20.0,35.0,29.153419593345657,20.0,30.0,20.0,29.153419593345657,33.0,29.153419593345657,22.0,13.0,29.153419593345657,26.0,28.0,29.153419593345657,29.0,54.0,25.0,32.0,19.0,29.153419593345657,15.0,40.0,29.153419593345657,18.0,27.0,28.0,18.0,30.0,51.0,29.153419593345657,29.153419593345657,29.153419593345657,18.0,29.153419593345657,29.0,29.153419593345657,28.0,31.0,25.0,33.0,26.0,34.0,29.153419593345657,32.0,29.153419593345657,29.153419593345657,29.153419593345657,23.0,15.0,56.0,39.0,30.0,29.153419593345657,29.153419593345657,42.0,30.0,36.0,24.0,29.153419593345657,14.0,29.153419593345657,37.0,31.0,13.0,20.0,26.0,25.0,29.153419593345657,29.0,29.153419593345657,30.0,26.0,29.153419593345657,31.0,23.0,37.0,35.0,29.153419593345657,17.0,50.0,29.153419593345657,28.0,42.0,29.153419593345657,44.0,15.0,21.0,19.0,41.0,38.0,40.0,34.0,23.0,29.153419593345657,18.0,25.0,29.153419593345657,29.153419593345657,12.0,29.153419593345657,23.0,23.0,42.0,24.0,42.0,29.153419593345657,46.0,29.153419593345657,29.153419593345657,29.153419593345657,18.0,20.0,29.153419593345657,29.153419593345657,28.0,36.0,41.0,39.0,35.0,29.153419593345657,44.0,29.153419593345657,29.153419593345657,20.0,41.0,29.153419593345657,13.0,44.0,27.0,16.0,29.153419593345657,20.0,16.0,32.0,28.0,29.0,29.153419593345657,27.0,33.0,22.0,54.0,31.0,26.0,32.0,40.0,41.0,30.0,22.0,29.153419593345657,29.0,29.153419593345657,29.153419593345657,33.0,15.0,27.0,29.153419593345657,38.0,39.0,31.0,29.153419593345657,37.0,25.0,29.153419593345657,28.0,29.153419593345657,21.0,27.0,21.0,29.153419593345657,24.0,32.0,29.153419593345657,22.0,35.0,15.0,29.153419593345657,33.0,33.0,19.0,29.153419593345657,29.153419593345657,14.0,32.0,7.0,35.0,39.0,22.0,16.0,28.0,15.0,29.153419593345657,32.0,15.0,29.153419593345657,18.0,29.153419593345657,42.0,29.153419593345657,29.153419593345657,37.0,32.0,29.153419593345657,50.0,29.153419593345657,52.0,24.0,23.0,29.153419593345657,10.0,29.153419593345657,28.0,15.0,29.153419593345657,29.153419593345657,26.0,44.0,39.0,17.0,43.0,29.0,30.0,37.0,45.0,29.153419593345657,31.0,38.0,29.0,25.0,29.153419593345657,29.153419593345657,33.0,41.0,29.153419593345657,29.153419593345657,37.0,23.0,14.0,19.0,28.0,30.0,37.0,17.0,10.0,31.0,22.0,11.0,29.153419593345657,39.0,29.153419593345657,12.0,30.0,20.0,33.0,32.0,21.0,32.0,29.153419593345657,36.0,32.0,19.0,16.0,29.153419593345657,29.153419593345657,18.0,43.0,29.153419593345657,29.153419593345657,34.0,29.153419593345657,13.0,21.0,35.0,29.153419593345657,29.153419593345657,36.0,19.0,29.153419593345657,19.0,32.0,29.153419593345657,29.153419593345657,28.0,12.0,29.153419593345657,29.153419593345657,40.0,30.0,40.0,36.0,33.0,29.153419593345657,37.0,29.153419593345657,25.0,28.0,29.153419593345657,17.0,16.0,28.0,48.0,23.0,22.0,40.0,43.0,43.0,15.0,37.0,29.153419593345657,39.0,30.0,22.0,8.0,18.0,24.0,13.0,29.0,36.0,26.0,23.0,29.0,29.153419593345657,14.0,12.0,29.153419593345657,24.0,34.0,40.0,29.153419593345657,31.0,29.153419593345657,29.153419593345657,41.0,25.0,29.153419593345657,32.0,29.153419593345657,29.153419593345657,29.153419593345657,49.0,39.0,30.0,23.0,22.0,35.0,33.0,21.0,32.0,29.153419593345657,29.0,41.0,18.0,46.0,22.0,32.0,39.0,29.153419593345657,30.0,46.0,25.0,29.153419593345657,16.0,11.0,29.153419593345657,8.0,29.153419593345657,33.0,29.153419593345657,15.0,29.153419593345657,25.0,23.0,27.0,29.153419593345657,12.0,63.0,12.0,45.0,37.0,18.0,13.0,29.153419593345657,32.0,29.153419593345657,28.0,30.0,29.153419593345657,28.0,48.0,33.0,22.0,29.153419593345657,40.0,30.0,29.153419593345657,13.0,10.0,36.0,29.153419593345657,41.0,40.0,38.0,27.0,29.153419593345657,29.153419593345657,27.0,45.0,17.0,38.0,31.0,30.0,37.0,22.0,31.0,29.153419593345657,42.0,41.0,32.0,17.0,29.153419593345657,28.0,30.0,38.0,18.0,29.153419593345657,29.153419593345657,29.153419593345657,15.0,33.0,32.0,19.0,32.0,41.0,25.0,39.0,29.153419593345657,26.0,23.0,23.0,29.153419593345657,31.0,17.0,29.153419593345657,29.153419593345657,19.0,18.0,34.0,29.153419593345657,29.153419593345657,7.0,32.0,33.0,29.153419593345657,29.153419593345657,29.153419593345657,18.0,19.0,15.0,31.0,29.153419593345657,18.0,29.153419593345657,52.0,29.153419593345657,30.0,29.153419593345657,29.153419593345657,29.153419593345657,37.0,49.0,40.0,25.0,32.0,23.0,29.0,35.0,27.0,21.0,43.0,31.0,28.0,30.0,29.153419593345657,24.0,23.0,33.0,40.0,29.153419593345657,40.0,29.153419593345657,29.153419593345657,32.0,34.0,19.0,29.153419593345657,14.0,30.0,32.0,29.0,30.0,29.153419593345657,29.153419593345657,31.0,17.0,30.0,47.0,20.0,29.153419593345657,29.153419593345657,99.0,46.0,27.0,17.0,29.153419593345657,24.0,11.0,29.153419593345657,29.153419593345657,27.0,29.153419593345657,40.0,50.0,29.153419593345657,22.0,45.0,14.0,29.153419593345657,19.0,29.153419593345657,18.0,19.0,29.153419593345657,36.0,29.0,29.153419593345657,32.0,42.0,25.0,39.0,13.0,21.0,22.0,42.0,28.0,26.0,29.153419593345657,29.153419593345657,13.0,24.0,29.153419593345657,42.0,20.0,29.153419593345657,27.0,29.153419593345657,47.0,29.153419593345657,29.153419593345657,29.153419593345657,22.0,29.153419593345657,40.0,29.153419593345657,17.0,29.153419593345657,29.153419593345657,29.153419593345657,18.0,32.0,12.0,17.0,29.153419593345657,29.153419593345657,29.153419593345657,30.0,35.0,17.0,36.0,35.0,25.0,25.0,23.0,40.0,29.153419593345657,28.0,27.0,35.0,48.0,29.153419593345657,31.0,29.153419593345657,43.0,46.0,46.0,39.0,45.0,18.0,27.0,33.0,30.0,26.0,10.0,23.0,35.0,29.153419593345657,29.153419593345657,29.153419593345657,29.153419593345657,29.153419593345657,17.0,28.0,36.0,39.0,29.153419593345657,29.153419593345657,26.0,29.153419593345657,19.0,26.0,46.0,29.153419593345657,29.153419593345657,32.0,49.0,29.153419593345657,24.0,19.0,29.153419593345657,11.0,29.153419593345657,27.0,31.0,29.0,29.153419593345657,20.0,36.0,29.153419593345657,21.0,29.153419593345657,32.0,13.0,27.0,36.0,20.0,29.153419593345657,33.0,39.0,18.0,46.0,27.0,19.0,36.0,29.0,30.0,29.153419593345657,40.0,29.0,26.0,29.153419593345657,29.153419593345657,23.0,29.153419593345657,37.0,27.0,29.153419593345657,32.0,27.0,23.0,17.0,29.153419593345657,37.0,20.0,18.0,29.153419593345657,37.0,33.0,41.0,41.0,22.0,29.153419593345657,29.153419593345657,39.0,24.0,44.0,32.0,39.0,41.0,29.153419593345657,29.153419593345657,29.153419593345657,26.0,31.0,29.153419593345657,48.0,27.0,23.0,29.153419593345657,31.0,155.5482233502538,155.5482233502538,155.5482233502538,94.0,168.0,155.5482233502538,88.0,155.5482233502538,543.0,155.5482233502538,155.5482233502538,155.5482233502538,155.5482233502538,846.0,175.0,155.5482233502538,230.0,155.5482233502538,83.0,96.0,235.0,155.5482233502538,155.5482233502538,155.5482233502538,146.0,115.0,155.5482233502538,140.0,110.0,155.5482233502538,155.5482233502538,245.0,54.0,155.5482233502538,155.5482233502538,192.0,155.5482233502538,155.5482233502538,155.5482233502538,207.0,70.0,155.5482233502538,155.5482233502538,240.0,155.5482233502538,155.5482233502538,155.5482233502538,155.5482233502538,155.5482233502538,155.5482233502538,82.0,36.0,23.0,300.0,342.0,155.5482233502538,304.0,110.0,155.5482233502538,142.0,155.5482233502538,155.5482233502538,155.5482233502538,128.0,155.5482233502538,155.5482233502538,155.5482233502538,155.5482233502538,38.0,100.0,90.0,140.0,155.5482233502538,270.0,155.5482233502538,155.5482233502538,155.5482233502538,155.5482233502538,155.5482233502538,155.5482233502538,155.5482233502538,155.5482233502538,71.0,155.5482233502538,155.5482233502538,125.0,155.5482233502538,71.0,110.0,155.5482233502538,155.5482233502538,176.0,48.0,155.5482233502538,64.0,228.0,155.5482233502538,76.0,64.0,220.0,155.5482233502538,155.5482233502538,155.5482233502538,40.0,155.5482233502538,152.0,155.5482233502538,140.0,18.0,36.0,135.0,495.0,37.0,155.5482233502538,175.0,155.5482233502538,155.5482233502538,155.5482233502538,155.5482233502538,51.0,100.0,155.5482233502538,100.0,155.5482233502538,155.5482233502538,99.0,135.0,94.0,145.0,155.5482233502538,168.0,155.5482233502538,225.0,155.5482233502538,49.0,140.0,50.0,92.0,155.5482233502538,325.0,155.5482233502538,155.5482233502538,63.0,155.5482233502538,284.0,155.5482233502538,155.5482233502538,119.0,155.5482233502538,155.5482233502538,204.0,155.5482233502538,155.0,485.0,155.5482233502538,155.5482233502538,94.0,135.0,53.0,114.0,155.5482233502538,105.0,285.0,155.5482233502538,155.5482233502538,156.0,155.5482233502538,155.5482233502538,155.5482233502538,78.0,155.5482233502538,130.0,155.5482233502538,48.0,55.0,130.0,155.5482233502538,130.0,155.5482233502538,155.5482233502538,155.5482233502538,92.0,23.0,155.5482233502538,155.5482233502538,155.5482233502538,495.0,58.0,114.0,160.0,155.5482233502538,94.0,155.5482233502538,155.5482233502538,155.5482233502538,210.0,155.5482233502538,48.0,99.0,318.0,155.5482233502538,155.5482233502538,155.5482233502538,44.0,190.0,155.5482233502538,280.0,155.5482233502538,87.0,155.5482233502538,155.5482233502538,155.5482233502538,155.5482233502538,130.0,175.0,271.0,129.0,120.0,155.5482233502538,155.5482233502538,478.0,155.5482233502538,155.5482233502538,190.0,56.0,32.0,155.5482233502538,155.5482233502538,744.0,53.0,155.5482233502538,370.0,37.0,155.5482233502538,45.0,155.5482233502538,192.0,155.5482233502538,155.5482233502538,155.5482233502538,155.5482233502538,88.0,155.5482233502538,176.0,194.0,155.5482233502538,155.5482233502538,680.0,402.0,155.5482233502538,155.5482233502538,155.5482233502538,55.0,155.5482233502538,258.0,155.5482233502538,155.5482233502538,155.5482233502538,375.0,150.0,130.0,155.5482233502538,155.5482233502538,155.5482233502538,155.5482233502538,67.0,155.5482233502538,155.5482233502538,155.5482233502538,155.5482233502538,155.5482233502538,56.0,155.5482233502538,45.0,155.5482233502538,57.0,155.5482233502538,116.0,155.5482233502538,278.0,155.5482233502538,122.0,155.0,155.5482233502538,155.5482233502538,135.0,545.0,220.0,49.0,75.0,40.0,74.0,182.0,194.0,155.5482233502538,120.0,360.0,215.0,184.0,155.5482233502538,155.5482233502538,135.0,42.0,155.5482233502538,155.5482233502538,105.0,132.0,148.0,180.0,205.0,155.5482233502538,148.0,96.0,85.0,155.5482233502538,94.0,64.0,155.5482233502538,140.0,155.5482233502538,231.0,155.5482233502538,155.5482233502538,29.0,155.5482233502538,168.0,156.0,155.5482233502538,120.0,68.0,155.5482233502538,52.0,155.5482233502538,155.5482233502538,58.0,255.0,155.5482233502538,155.5482233502538,171.0,155.5482233502538,105.0,73.0,155.5482233502538,155.5482233502538,155.5482233502538,108.0,83.0,155.5482233502538,74.0,155.5482233502538,155.5482233502538,155.5482233502538,155.5482233502538,43.0,155.5482233502538,155.5482233502538,167.0,155.5482233502538,54.0,249.0,325.0,155.5482233502538,155.5482233502538,155.5482233502538,293.0,83.0,155.5482233502538,155.5482233502538,66.0,140.0,465.0,89.0,66.0,94.0,158.0,325.0,84.0,75.0,155.5482233502538,72.0,82.0,155.5482233502538,182.0,59.0,110.0,50.0,155.5482233502538,155.5482233502538,285.0,81.0,196.0,155.5482233502538,415.0,87.0,155.5482233502538,275.0,115.0,155.5482233502538,155.5482233502538,155.5482233502538,155.5482233502538,155.5482233502538,88.0,155.5482233502538,155.5482233502538,165.0,155.5482233502538,155.5482233502538,155.5482233502538,579.0,155.5482233502538,176.0,310.0,61.0,167.0,474.0,155.5482233502538,155.5482233502538,155.5482233502538,115.0,170.0,76.0,78.0,155.5482233502538,210.0,277.0,155.5482233502538,180.0,145.0,180.0,155.5482233502538,85.0,60.0,155.5482233502538,155.5482233502538,155.5482233502538,155.5482233502538,155.5482233502538,155.5482233502538,155.5482233502538,155.5482233502538,50.0,120.0,155.5482233502538,155.5482233502538,14.0,70.0,92.0,64.0,63.0,95.0,155.5482233502538,210.0,155.5482233502538,105.0,155.5482233502538,155.5482233502538,71.0,237.0,60.0,56.0,155.5482233502538,49.0,155.5482233502538,155.5482233502538,105.0,36.0,100.0,155.5482233502538,140.0,155.5482233502538,155.5482233502538,155.5482233502538,155.5482233502538,155.5482233502538,155.5482233502538,191.0,110.0,75.0,155.5482233502538,328.0,155.5482233502538,49.0,125.0,155.5482233502538,250.0,480.0,265.0,155.5482233502538,155.5482233502538,66.0,155.5482233502538,155.5482233502538,122.0,155.5482233502538,155.5482233502538,155.5482233502538,76.0,145.0,193.0,71.0,155.5482233502538,155.5482233502538,79.0,155.5482233502538,155.5482233502538,90.0,170.0,76.0,155.5482233502538,155.5482233502538,210.0,155.5482233502538,155.5482233502538,86.0,105.0,165.0,155.5482233502538,155.5482233502538,326.0,66.0,130.0,155.5482233502538,155.5482233502538,155.5482233502538,155.5482233502538,82.0,105.0,188.0,155.5482233502538,106.0,155.5482233502538,65.0,155.5482233502538,56.0,155.5482233502538,155.5482233502538,155.5482233502538,210.0,155.0,215.0,190.0,155.5482233502538,56.0,76.0,225.0,207.0,166.0,67.0,155.5482233502538,155.5482233502538,106.0,155.5482233502538,44.0,115.0,215.0,155.5482233502538,155.5482233502538,155.5482233502538,155.5482233502538,155.5482233502538,274.0,77.0,54.0,155.5482233502538,88.0,18.0,126.0,126.0,165.0,155.5482233502538,155.5482233502538,44.0,120.0,330.0,63.0,130.0,155.5482233502538,155.5482233502538,155.5482233502538,155.5482233502538,155.5482233502538,155.5482233502538,155.5482233502538,600.0,155.5482233502538,155.5482233502538,155.5482233502538,156.0,155.5482233502538,155.5482233502538,140.0,155.5482233502538,115.0,230.0,185.0,155.5482233502538,25.0,155.5482233502538,120.0,155.5482233502538,155.5482233502538,155.5482233502538,126.0,155.5482233502538,155.5482233502538,293.0,41.0,272.0,182.0,158.0,194.0,321.0,155.5482233502538,144.0,155.5482233502538,155.5482233502538,15.0,155.5482233502538,155.5482233502538,160.0,155.5482233502538,155.5482233502538,115.0,155.5482233502538,54.0,155.5482233502538,155.5482233502538,155.5482233502538,155.5482233502538,155.5482233502538,90.0,155.5482233502538,183.0,155.5482233502538,155.5482233502538,155.5482233502538,66.0,91.0,46.0,105.0,155.5482233502538,155.5482233502538,155.5482233502538,152.0,440.0,144.0,159.0,130.0,155.5482233502538,100.0,106.0,77.0,155.5482233502538,135.0,540.0,90.0,200.0,155.5482233502538,70.0,155.5482233502538,155.5482233502538,231.0,130.0,155.5482233502538,132.0,155.5482233502538,155.5482233502538,190.0,100.0,168.0,155.5482233502538,49.0,240.0,155.5482233502538,155.5482233502538,155.5482233502538,155.5482233502538,155.5482233502538,265.0,45.0,155.5482233502538,105.0,155.5482233502538,155.5482233502538,205.0,155.5482233502538,155.5482233502538,180.0,180.0,155.5482233502538,155.5482233502538,95.0,125.0,155.5482233502538,480.0,125.0,155.5482233502538,155.0,155.5482233502538,200.0,155.5482233502538,155.5482233502538,155.5482233502538,100.0,155.5482233502538,155.5482233502538,335.0,155.5482233502538,160.0,387.0,22.0,155.5482233502538,291.0,155.5482233502538,392.0,185.0,155.5482233502538,178.0,155.5482233502538,155.5482233502538,200.0,127.0,105.0,155.5482233502538,155.5482233502538,180.0,155.5482233502538,155.5482233502538,155.5482233502538,79.0,155.5482233502538,120.0,165.0,155.5482233502538,155.5482233502538,120.0,155.5482233502538,160.0,155.5482233502538,150.0,94.0,116.0,155.5482233502538,140.0,105.0,155.5482233502538,57.0,200.0,155.5482233502538,155.5482233502538,74.0,155.5482233502538,510.0,155.5482233502538,110.0,155.5482233502538,155.5482233502538,155.5482233502538,155.5482233502538,16.0,155.5482233502538,155.5482233502538,180.0,155.5482233502538,112.0,155.5482233502538,155.5482233502538,33.6,26.6,23.3,28.1,43.1,25.6,31.0,35.3,30.5,32.457463672391015,37.6,38.0,27.1,30.1,25.8,30.0,45.8,29.6,43.3,34.6,39.3,35.4,39.8,29.0,36.6,31.1,39.4,23.2,22.2,34.1,36.0,31.6,24.8,19.9,27.6,24.0,33.2,32.9,38.2,37.1,34.0,40.2,22.7,45.4,27.4,42.0,29.7,28.0,39.1,32.457463672391015,19.4,24.2,24.4,33.7,34.7,23.0,37.7,46.8,40.5,41.5,32.457463672391015,32.9,25.0,25.4,32.8,29.0,32.5,42.7,19.6,28.9,32.9,28.6,43.4,35.1,32.0,24.7,32.6,37.7,43.2,25.0,22.4,32.457463672391015,29.3,24.6,48.8,32.4,36.6,38.5,37.1,26.5,19.1,32.0,46.7,23.8,24.7,33.9,31.6,20.4,28.7,49.7,39.0,26.1,22.5,26.6,39.6,28.7,22.4,29.5,34.3,37.4,33.3,34.0,31.2,34.0,30.5,31.2,34.0,33.7,28.2,23.2,53.2,34.2,33.6,26.8,33.3,55.0,42.9,33.3,34.5,27.9,29.7,33.3,34.5,38.3,21.1,33.8,30.8,28.7,31.2,36.9,21.1,39.5,32.5,32.4,32.8,32.457463672391015,32.8,30.5,33.7,27.3,37.4,21.9,34.3,40.6,47.9,50.0,24.6,25.2,29.0,40.9,29.7,37.2,44.2,29.7,31.6,29.9,32.5,29.6,31.9,28.4,30.8,35.4,28.9,43.5,29.7,32.7,31.2,67.1,45.0,39.1,23.2,34.9,27.7,26.8,27.6,35.9,30.1,32.0,27.9,31.6,22.6,33.1,30.4,52.3,24.4,39.4,24.3,22.9,34.8,30.9,31.0,40.1,27.3,20.4,37.7,23.9,37.5,37.7,33.2,35.5,27.7,42.8,34.2,42.6,34.2,41.8,35.8,30.0,29.0,37.8,34.6,31.6,25.2,28.8,23.6,34.6,35.7,37.2,36.7,45.2,44.0,46.2,25.4,35.0,29.7,43.6,35.9,44.1,30.8,18.4,29.2,33.1,25.6,27.1,38.2,30.0,31.2,52.3,35.4,30.1,31.2,28.0,24.4,35.8,27.6,33.6,30.1,28.7,25.9,33.3,30.9,30.0,32.1,32.4,32.0,33.6,36.3,40.0,25.1,27.5,45.6,25.2,23.0,33.2,34.2,40.5,26.5,27.8,24.9,25.3,37.9,35.9,32.4,30.4,27.0,26.0,38.7,45.6,20.8,36.1,36.9,36.6,43.3,40.5,21.9,35.5,28.0,30.7,36.6,23.6,32.3,31.6,35.8,52.9,21.0,39.7,25.5,24.8,30.5,32.9,26.2,39.4,26.6,29.5,35.9,34.1,19.3,30.5,38.1,23.5,27.5,31.6,27.4,26.8,35.7,25.6,35.1,35.1,45.5,30.8,23.1,32.7,43.3,23.6,23.9,47.9,33.8,31.2,34.2,39.9,25.9,25.9,32.0,34.7,36.8,38.5,28.7,23.5,21.8,41.0,42.2,31.2,34.4,27.2,42.7,30.4,33.3,39.9,35.3,36.5,31.2,29.8,39.2,38.5,34.9,34.0,27.6,21.0,27.5,32.8,38.4,32.457463672391015,35.8,34.9,36.2,39.2,25.2,37.2,48.3,43.4,30.8,20.0,25.4,25.1,24.3,22.3,32.3,43.3,32.0,31.6,32.0,45.7,23.7,22.1,32.9,27.7,24.7,34.3,21.1,34.9,32.0,24.2,35.0,31.6,32.9,42.1,28.9,21.9,25.9,42.4,35.7,34.4,42.4,26.2,34.6,35.7,27.2,38.5,18.2,26.4,45.3,26.0,40.6,30.8,42.9,37.0,32.457463672391015,34.1,40.6,35.0,22.2,30.4,30.0,25.6,24.5,42.4,37.4,29.9,18.2,36.8,34.3,32.2,33.2,30.5,29.7,59.4,25.3,36.5,33.6,30.5,21.2,28.9,39.9,19.6,37.8,33.6,26.7,30.2,37.6,25.9,20.8,21.8,35.3,27.6,24.0,21.8,27.8,36.8,30.0,46.1,41.3,33.2,38.8,29.9,28.9,27.3,33.7,23.8,25.9,28.0,35.5,35.2,27.8,38.2,44.2,42.3,40.7,46.5,25.6,26.1,36.8,33.5,32.8,28.9,32.457463672391015,26.6,26.0,30.1,25.1,29.3,25.2,37.2,39.0,33.3,37.3,33.3,36.5,28.6,30.4,25.0,29.7,22.1,24.2,27.3,25.6,31.6,30.3,37.6,32.8,19.6,25.0,33.2,32.457463672391015,34.2,31.6,21.8,18.2,26.3,30.8,24.6,29.8,45.3,41.3,29.8,33.3,32.9,29.6,21.7,36.3,36.4,39.4,32.4,34.9,39.5,32.0,34.5,43.6,33.1,32.8,28.5,27.4,31.9,27.8,29.9,36.9,25.5,38.1,27.8,46.2,30.1,33.8,41.3,37.6,26.9,32.4,26.1,38.6,32.0,31.3,34.3,32.5,22.6,29.5,34.7,30.1,35.5,24.0,42.9,27.0,34.7,42.1,25.0,26.5,38.7,28.7,22.5,34.9,24.3,33.3,21.1,46.8,39.4,34.4,28.5,33.6,32.0,45.3,27.8,36.8,23.1,27.1,23.7,27.8,35.2,28.4,35.8,40.0,19.5,41.5,24.0,30.9,32.9,38.2,32.5,36.1,25.8,28.7,20.1,28.2,32.4,38.4,24.2,40.8,43.5,30.8,37.7,24.7,32.4,34.6,24.7,27.4,34.5,26.2,27.5,25.9,31.2,28.8,31.6,40.9,19.5,29.3,34.3,29.5,28.0,27.6,39.4,23.4,37.8,28.3,26.4,25.2,33.8,34.1,26.8,34.2,38.7,21.8,38.9,39.0,34.2,27.7,42.9,37.6,37.9,33.7,34.8,32.5,27.5,34.0,30.9,33.6,25.4,35.5,57.3,35.6,30.9,24.8,35.3,36.0,24.2,24.2,49.6,44.6,32.3,32.457463672391015,33.2,23.1,28.3,24.1,46.1,24.6,42.3,39.1,38.5,23.5,30.4,29.9,25.0,34.5,44.5,35.9,27.6,35.0,38.5,28.4,39.8,32.457463672391015,34.4,32.8,38.0,31.2,29.6,41.2,26.4,29.5,33.9,33.8,23.1,35.5,35.6,29.3,38.1,29.3,39.1,32.8,39.4,36.1,32.4,22.9,30.1,28.4,28.4,44.5,29.0,23.3,35.4,27.4,32.0,36.6,39.5,42.3,30.8,28.5,32.7,40.6,30.0,49.3,46.3,36.4,24.3,31.2,39.0,26.0,43.3,32.4,36.5,32.0,36.3,37.5,35.5,28.4,44.0,22.5,32.9,36.8,26.2,30.1,30.4,0.627,0.351,0.672,0.167,2.288,0.201,0.248,0.134,0.158,0.232,0.191,0.537,1.441,0.398,0.587,0.484,0.551,0.254,0.183,0.529,0.704,0.388,0.451,0.263,0.254,0.205,0.257,0.487,0.245,0.337,0.546,0.851,0.267,0.188,0.512,0.966,0.42,0.665,0.503,1.39,0.271,0.696,0.235,0.721,0.294,1.893,0.564,0.586,0.344,0.305,0.491,0.526,0.342,0.467,0.718,0.248,0.254,0.962,1.781,0.173,0.304,0.27,0.587,0.699,0.258,0.203,0.855,0.845,0.334,0.189,0.867,0.411,0.583,0.231,0.396,0.14,0.391,0.37,0.27,0.307,0.14,0.102,0.767,0.237,0.227,0.698,0.178,0.324,0.153,0.165,0.258,0.443,0.261,0.277,0.761,0.255,0.13,0.323,0.356,0.325,1.222,0.179,0.262,0.283,0.93,0.801,0.207,0.287,0.336,0.247,0.199,0.543,0.192,0.391,0.588,0.539,0.22,0.654,0.443,0.223,0.759,0.26,0.404,0.186,0.278,0.496,0.452,0.261,0.403,0.741,0.361,1.114,0.356,0.457,0.647,0.088,0.597,0.532,0.703,0.159,0.268,0.286,0.318,0.272,0.237,0.572,0.096,1.4,0.218,0.085,0.399,0.432,1.189,0.687,0.137,0.337,0.637,0.833,0.229,0.817,0.294,0.204,0.167,0.368,0.743,0.722,0.256,0.709,0.471,0.495,0.18,0.542,0.773,0.678,0.37,0.719,0.382,0.319,0.19,0.956,0.084,0.725,0.299,0.268,0.244,0.745,0.615,1.321,0.64,0.361,0.142,0.374,0.383,0.578,0.136,0.395,0.187,0.678,0.905,0.15,0.874,0.236,0.787,0.235,0.324,0.407,0.605,0.151,0.289,0.355,0.29,0.375,0.164,0.431,0.26,0.742,0.514,0.464,1.224,0.261,1.072,0.805,0.209,0.687,0.666,0.101,0.198,0.652,2.329,0.089,0.645,0.238,0.583,0.394,0.293,0.479,0.586,0.686,0.831,0.582,0.192,0.446,0.402,1.318,0.329,1.213,0.258,0.427,0.282,0.143,0.38,0.284,0.249,0.238,0.926,0.543,0.557,0.092,0.655,1.353,0.299,0.761,0.612,0.2,0.226,0.997,0.933,1.101,0.078,0.24,1.136,0.128,0.254,0.422,0.251,0.677,0.296,0.454,0.744,0.881,0.334,0.28,0.262,0.165,0.259,0.647,0.619,0.808,0.34,0.263,0.434,0.757,1.224,0.613,0.254,0.692,0.337,0.52,0.412,0.84,0.839,0.422,0.156,0.209,0.207,0.215,0.326,0.143,1.391,0.875,0.313,0.605,0.433,0.626,1.127,0.315,0.284,0.345,0.15,0.129,0.527,0.197,0.254,0.731,0.148,0.123,0.692,0.2,0.127,0.122,1.476,0.166,0.282,0.137,0.26,0.259,0.932,0.343,0.893,0.331,0.472,0.673,0.389,0.29,0.485,0.349,0.654,0.187,0.279,0.346,0.237,0.252,0.243,0.58,0.559,0.302,0.962,0.569,0.378,0.875,0.583,0.207,0.305,0.52,0.385,0.499,0.368,0.252,0.306,0.234,2.137,1.731,0.545,0.225,0.816,0.528,0.299,0.509,0.238,1.021,0.821,0.236,0.947,1.268,0.221,0.205,0.66,0.239,0.452,0.949,0.444,0.34,0.389,0.463,0.803,1.6,0.944,0.196,0.389,0.241,0.161,0.151,0.286,0.28,0.135,0.52,0.376,0.336,1.191,0.702,0.674,0.528,1.076,0.256,0.534,0.258,1.095,0.554,0.624,0.219,0.507,0.561,0.496,0.421,0.516,0.264,0.256,0.328,0.284,0.233,0.108,0.551,0.527,0.167,1.138,0.205,0.244,0.434,0.147,0.727,0.435,0.497,0.23,0.955,0.38,2.42,0.658,0.33,0.51,0.285,0.415,0.542,0.381,0.832,0.498,0.212,0.687,0.364,1.001,0.46,0.733,0.416,0.705,0.258,1.022,0.452,0.269,0.6,0.183,0.571,0.607,0.17,0.259,0.21,0.126,0.231,0.711,0.466,0.162,0.419,0.344,0.197,0.306,0.233,0.63,0.365,0.536,1.159,0.294,0.551,0.629,0.292,0.145,1.144,0.174,0.304,0.292,0.547,0.163,0.839,0.313,0.267,0.727,0.738,0.238,0.263,0.314,0.692,0.968,0.409,0.297,0.207,0.2,0.525,0.154,0.268,0.771,0.304,0.18,0.582,0.187,0.305,0.189,0.652,0.151,0.444,0.299,0.107,0.493,0.66,0.717,0.686,0.917,0.501,1.251,0.302,0.197,0.735,0.804,0.968,0.661,0.549,0.825,0.159,0.365,0.423,1.034,0.16,0.341,0.68,0.204,0.591,0.247,0.422,0.471,0.161,0.218,0.237,0.126,0.3,0.121,0.502,0.401,0.497,0.601,0.748,0.412,0.085,0.338,0.203,0.27,0.268,0.43,0.198,0.892,0.28,0.813,0.693,0.245,0.575,0.371,0.206,0.259,0.19,0.687,0.417,0.129,0.249,1.154,0.342,0.925,0.175,0.402,1.699,0.733,0.682,0.194,0.559,0.088,0.407,0.4,0.19,0.1,0.692,0.212,0.514,1.258,0.482,0.27,0.138,0.292,0.593,0.787,0.878,0.557,0.207,0.157,0.257,1.282,0.141,0.246,1.698,1.461,0.347,0.158,0.362,0.206,0.393,0.144,0.148,0.732,0.238,0.343,0.115,0.167,0.465,0.153,0.649,0.871,0.149,0.695,0.303,0.178,0.61,0.73,0.134,0.447,0.455,0.26,0.133,0.234,0.466,0.269,0.455,0.142,0.24,0.155,1.162,0.19,1.292,0.182,1.394,0.165,0.637,0.245,0.217,0.235,0.141,0.43,0.164,0.631,0.551,0.285,0.88,0.587,0.328,0.23,0.263,0.127,0.614,0.332,0.364,0.366,0.536,0.64,0.591,0.314,0.181,0.828,0.335,0.856,0.257,0.886,0.439,0.191,0.128,0.268,0.253,0.598,0.904,0.483,0.565,0.905,0.304,0.118,0.177,0.261,0.176,0.148,0.674,0.295,0.439,0.441,0.352,0.121,0.826,0.97,0.595,0.415,0.378,0.317,0.289,0.349,0.251,0.265,0.236,0.496,0.433,0.326,0.141,0.323,0.259,0.646,0.426,0.56,0.284,0.515,0.6,0.453,0.293,0.785,0.4,0.219,0.734,1.174,0.488,0.358,1.096,0.408,0.178,1.182,0.261,0.223,0.222,0.443,1.057,0.391,0.258,0.197,0.278,0.766,0.403,0.142,0.171,0.34,0.245,0.349,0.315,50.0,31.0,32.0,21.0,33.0,30.0,26.0,29.0,53.0,54.0,30.0,34.0,57.0,59.0,51.0,32.0,31.0,31.0,33.0,32.0,27.0,50.0,41.0,29.0,51.0,41.0,43.0,22.0,57.0,38.0,60.0,28.0,22.0,28.0,45.0,33.0,35.0,46.0,27.0,56.0,26.0,37.0,48.0,54.0,40.0,25.0,29.0,22.0,31.0,24.0,22.0,26.0,30.0,58.0,42.0,21.0,41.0,31.0,44.0,22.0,21.0,39.0,36.0,24.0,42.0,32.0,38.0,54.0,25.0,27.0,28.0,26.0,42.0,23.0,22.0,22.0,41.0,27.0,26.0,24.0,22.0,22.0,36.0,22.0,37.0,27.0,45.0,26.0,43.0,24.0,21.0,34.0,42.0,60.0,21.0,40.0,24.0,22.0,23.0,31.0,33.0,22.0,21.0,24.0,27.0,21.0,27.0,37.0,25.0,24.0,24.0,46.0,23.0,25.0,39.0,61.0,38.0,25.0,22.0,21.0,25.0,24.0,23.0,69.0,23.0,26.0,30.0,23.0,40.0,62.0,33.0,33.0,30.0,39.0,26.0,31.0,21.0,22.0,29.0,28.0,55.0,38.0,22.0,42.0,23.0,21.0,41.0,34.0,65.0,22.0,24.0,37.0,42.0,23.0,43.0,36.0,21.0,23.0,22.0,47.0,36.0,45.0,27.0,21.0,32.0,41.0,22.0,34.0,29.0,29.0,36.0,29.0,25.0,23.0,33.0,36.0,42.0,26.0,47.0,37.0,32.0,23.0,21.0,27.0,40.0,41.0,60.0,33.0,31.0,25.0,21.0,40.0,36.0,40.0,42.0,29.0,21.0,23.0,26.0,29.0,21.0,28.0,32.0,27.0,55.0,27.0,57.0,52.0,21.0,41.0,25.0,24.0,60.0,24.0,36.0,38.0,25.0,32.0,32.0,41.0,21.0,66.0,37.0,61.0,26.0,22.0,26.0,24.0,31.0,24.0,22.0,46.0,22.0,29.0,23.0,26.0,51.0,23.0,32.0,27.0,21.0,22.0,22.0,33.0,29.0,49.0,41.0,23.0,34.0,23.0,42.0,27.0,24.0,25.0,44.0,21.0,30.0,25.0,24.0,51.0,34.0,27.0,24.0,63.0,35.0,43.0,25.0,24.0,21.0,28.0,38.0,21.0,40.0,21.0,52.0,25.0,29.0,23.0,57.0,22.0,28.0,39.0,37.0,47.0,52.0,51.0,34.0,29.0,26.0,33.0,21.0,25.0,31.0,24.0,65.0,28.0,29.0,24.0,46.0,58.0,30.0,25.0,35.0,28.0,37.0,29.0,47.0,21.0,25.0,30.0,41.0,22.0,27.0,25.0,43.0,26.0,30.0,29.0,28.0,59.0,31.0,25.0,36.0,43.0,21.0,24.0,30.0,37.0,23.0,37.0,46.0,25.0,41.0,44.0,22.0,26.0,44.0,44.0,33.0,41.0,22.0,36.0,22.0,33.0,57.0,49.0,22.0,23.0,26.0,37.0,29.0,30.0,46.0,24.0,21.0,49.0,28.0,44.0,48.0,29.0,29.0,63.0,65.0,67.0,30.0,30.0,29.0,21.0,22.0,45.0,25.0,21.0,21.0,25.0,28.0,58.0,22.0,22.0,32.0,35.0,24.0,22.0,21.0,25.0,25.0,24.0,35.0,45.0,58.0,28.0,42.0,27.0,21.0,37.0,31.0,25.0,39.0,22.0,25.0,25.0,31.0,55.0,35.0,38.0,41.0,26.0,46.0,25.0,39.0,28.0,28.0,25.0,22.0,21.0,21.0,22.0,22.0,37.0,27.0,28.0,26.0,21.0,21.0,21.0,36.0,31.0,25.0,38.0,26.0,43.0,23.0,38.0,22.0,29.0,36.0,29.0,41.0,28.0,21.0,31.0,41.0,22.0,24.0,33.0,30.0,25.0,28.0,26.0,22.0,26.0,23.0,23.0,25.0,72.0,24.0,38.0,62.0,24.0,51.0,81.0,48.0,26.0,39.0,37.0,34.0,21.0,22.0,25.0,38.0,27.0,28.0,22.0,22.0,50.0,24.0,59.0,29.0,31.0,39.0,63.0,35.0,29.0,28.0,23.0,31.0,24.0,21.0,58.0,28.0,67.0,24.0,42.0,33.0,45.0,22.0,66.0,30.0,25.0,55.0,39.0,21.0,28.0,41.0,41.0,40.0,38.0,35.0,21.0,21.0,64.0,46.0,21.0,58.0,22.0,24.0,28.0,53.0,51.0,41.0,60.0,25.0,26.0,26.0,45.0,24.0,21.0,21.0,24.0,22.0,31.0,22.0,24.0,29.0,31.0,24.0,23.0,46.0,67.0,23.0,32.0,43.0,27.0,56.0,25.0,29.0,37.0,53.0,28.0,50.0,37.0,21.0,25.0,66.0,23.0,28.0,37.0,30.0,58.0,42.0,35.0,54.0,28.0,24.0,32.0,27.0,22.0,21.0,46.0,37.0,33.0,39.0,21.0,22.0,22.0,23.0,25.0,35.0,21.0,36.0,62.0,21.0,27.0,62.0,42.0,52.0,22.0,41.0,29.0,52.0,25.0,45.0,24.0,44.0,25.0,34.0,22.0,46.0,21.0,38.0,26.0,24.0,28.0,30.0,54.0,36.0,21.0,22.0,25.0,27.0,23.0,24.0,36.0,40.0,26.0,50.0,27.0,30.0,23.0,50.0,24.0,28.0,28.0,45.0,21.0,21.0,29.0,21.0,21.0,45.0,21.0,34.0,24.0,23.0,22.0,31.0,38.0,48.0,23.0,32.0,28.0,27.0,24.0,50.0,31.0,27.0,30.0,33.0,22.0,42.0,23.0,23.0,27.0,28.0,27.0,22.0,25.0,22.0,41.0,51.0,27.0,54.0,22.0,43.0,40.0,40.0,24.0,70.0,40.0,43.0,45.0,49.0,21.0,47.0,22.0,68.0,31.0,53.0,25.0,25.0,23.0,22.0,26.0,22.0,27.0,69.0,25.0,22.0,29.0,23.0,46.0,34.0,44.0,23.0,43.0,25.0,43.0,31.0,22.0,28.0,26.0,26.0,49.0,52.0,41.0,27.0,28.0,30.0,22.0,45.0,23.0,24.0,40.0,38.0,21.0,32.0,34.0,31.0,56.0,24.0,52.0,34.0,21.0,42.0,42.0,45.0,38.0,25.0,22.0,22.0,22.0,34.0,22.0,24.0,22.0,53.0,28.0,21.0,42.0,21.0,42.0,48.0,26.0,22.0,45.0,39.0,46.0,27.0,32.0,36.0,50.0,22.0,28.0,25.0,26.0,45.0,37.0,39.0,52.0,26.0,66.0,22.0,43.0,33.0,63.0,27.0,30.0,47.0,23.0],\"y0\":\" \",\"yaxis\":\"y\",\"type\":\"box\"}],                        {\"template\":{\"data\":{\"barpolar\":[{\"marker\":{\"line\":{\"color\":\"rgb(17,17,17)\",\"width\":0.5},\"pattern\":{\"fillmode\":\"overlay\",\"size\":10,\"solidity\":0.2}},\"type\":\"barpolar\"}],\"bar\":[{\"error_x\":{\"color\":\"#f2f5fa\"},\"error_y\":{\"color\":\"#f2f5fa\"},\"marker\":{\"line\":{\"color\":\"rgb(17,17,17)\",\"width\":0.5},\"pattern\":{\"fillmode\":\"overlay\",\"size\":10,\"solidity\":0.2}},\"type\":\"bar\"}],\"carpet\":[{\"aaxis\":{\"endlinecolor\":\"#A2B1C6\",\"gridcolor\":\"#506784\",\"linecolor\":\"#506784\",\"minorgridcolor\":\"#506784\",\"startlinecolor\":\"#A2B1C6\"},\"baxis\":{\"endlinecolor\":\"#A2B1C6\",\"gridcolor\":\"#506784\",\"linecolor\":\"#506784\",\"minorgridcolor\":\"#506784\",\"startlinecolor\":\"#A2B1C6\"},\"type\":\"carpet\"}],\"choropleth\":[{\"colorbar\":{\"outlinewidth\":0,\"ticks\":\"\"},\"type\":\"choropleth\"}],\"contourcarpet\":[{\"colorbar\":{\"outlinewidth\":0,\"ticks\":\"\"},\"type\":\"contourcarpet\"}],\"contour\":[{\"colorbar\":{\"outlinewidth\":0,\"ticks\":\"\"},\"colorscale\":[[0.0,\"#0d0887\"],[0.1111111111111111,\"#46039f\"],[0.2222222222222222,\"#7201a8\"],[0.3333333333333333,\"#9c179e\"],[0.4444444444444444,\"#bd3786\"],[0.5555555555555556,\"#d8576b\"],[0.6666666666666666,\"#ed7953\"],[0.7777777777777778,\"#fb9f3a\"],[0.8888888888888888,\"#fdca26\"],[1.0,\"#f0f921\"]],\"type\":\"contour\"}],\"heatmapgl\":[{\"colorbar\":{\"outlinewidth\":0,\"ticks\":\"\"},\"colorscale\":[[0.0,\"#0d0887\"],[0.1111111111111111,\"#46039f\"],[0.2222222222222222,\"#7201a8\"],[0.3333333333333333,\"#9c179e\"],[0.4444444444444444,\"#bd3786\"],[0.5555555555555556,\"#d8576b\"],[0.6666666666666666,\"#ed7953\"],[0.7777777777777778,\"#fb9f3a\"],[0.8888888888888888,\"#fdca26\"],[1.0,\"#f0f921\"]],\"type\":\"heatmapgl\"}],\"heatmap\":[{\"colorbar\":{\"outlinewidth\":0,\"ticks\":\"\"},\"colorscale\":[[0.0,\"#0d0887\"],[0.1111111111111111,\"#46039f\"],[0.2222222222222222,\"#7201a8\"],[0.3333333333333333,\"#9c179e\"],[0.4444444444444444,\"#bd3786\"],[0.5555555555555556,\"#d8576b\"],[0.6666666666666666,\"#ed7953\"],[0.7777777777777778,\"#fb9f3a\"],[0.8888888888888888,\"#fdca26\"],[1.0,\"#f0f921\"]],\"type\":\"heatmap\"}],\"histogram2dcontour\":[{\"colorbar\":{\"outlinewidth\":0,\"ticks\":\"\"},\"colorscale\":[[0.0,\"#0d0887\"],[0.1111111111111111,\"#46039f\"],[0.2222222222222222,\"#7201a8\"],[0.3333333333333333,\"#9c179e\"],[0.4444444444444444,\"#bd3786\"],[0.5555555555555556,\"#d8576b\"],[0.6666666666666666,\"#ed7953\"],[0.7777777777777778,\"#fb9f3a\"],[0.8888888888888888,\"#fdca26\"],[1.0,\"#f0f921\"]],\"type\":\"histogram2dcontour\"}],\"histogram2d\":[{\"colorbar\":{\"outlinewidth\":0,\"ticks\":\"\"},\"colorscale\":[[0.0,\"#0d0887\"],[0.1111111111111111,\"#46039f\"],[0.2222222222222222,\"#7201a8\"],[0.3333333333333333,\"#9c179e\"],[0.4444444444444444,\"#bd3786\"],[0.5555555555555556,\"#d8576b\"],[0.6666666666666666,\"#ed7953\"],[0.7777777777777778,\"#fb9f3a\"],[0.8888888888888888,\"#fdca26\"],[1.0,\"#f0f921\"]],\"type\":\"histogram2d\"}],\"histogram\":[{\"marker\":{\"pattern\":{\"fillmode\":\"overlay\",\"size\":10,\"solidity\":0.2}},\"type\":\"histogram\"}],\"mesh3d\":[{\"colorbar\":{\"outlinewidth\":0,\"ticks\":\"\"},\"type\":\"mesh3d\"}],\"parcoords\":[{\"line\":{\"colorbar\":{\"outlinewidth\":0,\"ticks\":\"\"}},\"type\":\"parcoords\"}],\"pie\":[{\"automargin\":true,\"type\":\"pie\"}],\"scatter3d\":[{\"line\":{\"colorbar\":{\"outlinewidth\":0,\"ticks\":\"\"}},\"marker\":{\"colorbar\":{\"outlinewidth\":0,\"ticks\":\"\"}},\"type\":\"scatter3d\"}],\"scattercarpet\":[{\"marker\":{\"colorbar\":{\"outlinewidth\":0,\"ticks\":\"\"}},\"type\":\"scattercarpet\"}],\"scattergeo\":[{\"marker\":{\"colorbar\":{\"outlinewidth\":0,\"ticks\":\"\"}},\"type\":\"scattergeo\"}],\"scattergl\":[{\"marker\":{\"line\":{\"color\":\"#283442\"}},\"type\":\"scattergl\"}],\"scattermapbox\":[{\"marker\":{\"colorbar\":{\"outlinewidth\":0,\"ticks\":\"\"}},\"type\":\"scattermapbox\"}],\"scatterpolargl\":[{\"marker\":{\"colorbar\":{\"outlinewidth\":0,\"ticks\":\"\"}},\"type\":\"scatterpolargl\"}],\"scatterpolar\":[{\"marker\":{\"colorbar\":{\"outlinewidth\":0,\"ticks\":\"\"}},\"type\":\"scatterpolar\"}],\"scatter\":[{\"marker\":{\"line\":{\"color\":\"#283442\"}},\"type\":\"scatter\"}],\"scatterternary\":[{\"marker\":{\"colorbar\":{\"outlinewidth\":0,\"ticks\":\"\"}},\"type\":\"scatterternary\"}],\"surface\":[{\"colorbar\":{\"outlinewidth\":0,\"ticks\":\"\"},\"colorscale\":[[0.0,\"#0d0887\"],[0.1111111111111111,\"#46039f\"],[0.2222222222222222,\"#7201a8\"],[0.3333333333333333,\"#9c179e\"],[0.4444444444444444,\"#bd3786\"],[0.5555555555555556,\"#d8576b\"],[0.6666666666666666,\"#ed7953\"],[0.7777777777777778,\"#fb9f3a\"],[0.8888888888888888,\"#fdca26\"],[1.0,\"#f0f921\"]],\"type\":\"surface\"}],\"table\":[{\"cells\":{\"fill\":{\"color\":\"#506784\"},\"line\":{\"color\":\"rgb(17,17,17)\"}},\"header\":{\"fill\":{\"color\":\"#2a3f5f\"},\"line\":{\"color\":\"rgb(17,17,17)\"}},\"type\":\"table\"}]},\"layout\":{\"annotationdefaults\":{\"arrowcolor\":\"#f2f5fa\",\"arrowhead\":0,\"arrowwidth\":1},\"autotypenumbers\":\"strict\",\"coloraxis\":{\"colorbar\":{\"outlinewidth\":0,\"ticks\":\"\"}},\"colorscale\":{\"diverging\":[[0,\"#8e0152\"],[0.1,\"#c51b7d\"],[0.2,\"#de77ae\"],[0.3,\"#f1b6da\"],[0.4,\"#fde0ef\"],[0.5,\"#f7f7f7\"],[0.6,\"#e6f5d0\"],[0.7,\"#b8e186\"],[0.8,\"#7fbc41\"],[0.9,\"#4d9221\"],[1,\"#276419\"]],\"sequential\":[[0.0,\"#0d0887\"],[0.1111111111111111,\"#46039f\"],[0.2222222222222222,\"#7201a8\"],[0.3333333333333333,\"#9c179e\"],[0.4444444444444444,\"#bd3786\"],[0.5555555555555556,\"#d8576b\"],[0.6666666666666666,\"#ed7953\"],[0.7777777777777778,\"#fb9f3a\"],[0.8888888888888888,\"#fdca26\"],[1.0,\"#f0f921\"]],\"sequentialminus\":[[0.0,\"#0d0887\"],[0.1111111111111111,\"#46039f\"],[0.2222222222222222,\"#7201a8\"],[0.3333333333333333,\"#9c179e\"],[0.4444444444444444,\"#bd3786\"],[0.5555555555555556,\"#d8576b\"],[0.6666666666666666,\"#ed7953\"],[0.7777777777777778,\"#fb9f3a\"],[0.8888888888888888,\"#fdca26\"],[1.0,\"#f0f921\"]]},\"colorway\":[\"#636efa\",\"#EF553B\",\"#00cc96\",\"#ab63fa\",\"#FFA15A\",\"#19d3f3\",\"#FF6692\",\"#B6E880\",\"#FF97FF\",\"#FECB52\"],\"font\":{\"color\":\"#f2f5fa\"},\"geo\":{\"bgcolor\":\"rgb(17,17,17)\",\"lakecolor\":\"rgb(17,17,17)\",\"landcolor\":\"rgb(17,17,17)\",\"showlakes\":true,\"showland\":true,\"subunitcolor\":\"#506784\"},\"hoverlabel\":{\"align\":\"left\"},\"hovermode\":\"closest\",\"mapbox\":{\"style\":\"dark\"},\"paper_bgcolor\":\"rgb(17,17,17)\",\"plot_bgcolor\":\"rgb(17,17,17)\",\"polar\":{\"angularaxis\":{\"gridcolor\":\"#506784\",\"linecolor\":\"#506784\",\"ticks\":\"\"},\"bgcolor\":\"rgb(17,17,17)\",\"radialaxis\":{\"gridcolor\":\"#506784\",\"linecolor\":\"#506784\",\"ticks\":\"\"}},\"scene\":{\"xaxis\":{\"backgroundcolor\":\"rgb(17,17,17)\",\"gridcolor\":\"#506784\",\"gridwidth\":2,\"linecolor\":\"#506784\",\"showbackground\":true,\"ticks\":\"\",\"zerolinecolor\":\"#C8D4E3\"},\"yaxis\":{\"backgroundcolor\":\"rgb(17,17,17)\",\"gridcolor\":\"#506784\",\"gridwidth\":2,\"linecolor\":\"#506784\",\"showbackground\":true,\"ticks\":\"\",\"zerolinecolor\":\"#C8D4E3\"},\"zaxis\":{\"backgroundcolor\":\"rgb(17,17,17)\",\"gridcolor\":\"#506784\",\"gridwidth\":2,\"linecolor\":\"#506784\",\"showbackground\":true,\"ticks\":\"\",\"zerolinecolor\":\"#C8D4E3\"}},\"shapedefaults\":{\"line\":{\"color\":\"#f2f5fa\"}},\"sliderdefaults\":{\"bgcolor\":\"#C8D4E3\",\"bordercolor\":\"rgb(17,17,17)\",\"borderwidth\":1,\"tickwidth\":0},\"ternary\":{\"aaxis\":{\"gridcolor\":\"#506784\",\"linecolor\":\"#506784\",\"ticks\":\"\"},\"baxis\":{\"gridcolor\":\"#506784\",\"linecolor\":\"#506784\",\"ticks\":\"\"},\"bgcolor\":\"rgb(17,17,17)\",\"caxis\":{\"gridcolor\":\"#506784\",\"linecolor\":\"#506784\",\"ticks\":\"\"}},\"title\":{\"x\":0.05},\"updatemenudefaults\":{\"bgcolor\":\"#506784\",\"borderwidth\":0},\"xaxis\":{\"automargin\":true,\"gridcolor\":\"#283442\",\"linecolor\":\"#506784\",\"ticks\":\"\",\"title\":{\"standoff\":15},\"zerolinecolor\":\"#283442\",\"zerolinewidth\":2},\"yaxis\":{\"automargin\":true,\"gridcolor\":\"#283442\",\"linecolor\":\"#506784\",\"ticks\":\"\",\"title\":{\"standoff\":15},\"zerolinecolor\":\"#283442\",\"zerolinewidth\":2}}},\"xaxis\":{\"anchor\":\"y\",\"domain\":[0.0,1.0],\"title\":{\"text\":\"variable\"}},\"yaxis\":{\"anchor\":\"x\",\"domain\":[0.0,1.0],\"title\":{\"text\":\"value\"}},\"legend\":{\"tracegroupgap\":0},\"margin\":{\"t\":60},\"boxmode\":\"group\"},                        {\"responsive\": true}                    ).then(function(){\n",
              "                            \n",
              "var gd = document.getElementById('17f476cf-d9f3-439c-bef5-6e252aed0199');\n",
              "var x = new MutationObserver(function (mutations, observer) {{\n",
              "        var display = window.getComputedStyle(gd).display;\n",
              "        if (!display || display === 'none') {{\n",
              "            console.log([gd, 'removed!']);\n",
              "            Plotly.purge(gd);\n",
              "            observer.disconnect();\n",
              "        }}\n",
              "}});\n",
              "\n",
              "// Listen for the removal of the full notebook cells\n",
              "var notebookContainer = gd.closest('#notebook-container');\n",
              "if (notebookContainer) {{\n",
              "    x.observe(notebookContainer, {childList: true});\n",
              "}}\n",
              "\n",
              "// Listen for the clearing of the current output cell\n",
              "var outputEl = gd.closest('.output');\n",
              "if (outputEl) {{\n",
              "    x.observe(outputEl, {childList: true});\n",
              "}}\n",
              "\n",
              "                        })                };                            </script>        </div>\n",
              "</body>\n",
              "</html>"
            ]
          },
          "metadata": {}
        }
      ]
    },
    {
      "cell_type": "code",
      "source": [
        "ax= px.parallel_coordinates(df_diabetes.loc[:,[\"BMI\", 'DiabetesPedigreeFunction',\"Outcome\"]], color=\"Outcome\")\n",
        "ax.show()"
      ],
      "metadata": {
        "colab": {
          "base_uri": "https://localhost:8080/",
          "height": 542
        },
        "id": "d5YpYqFHdzBj",
        "outputId": "8cb70628-8801-4e9b-9ca8-b49d6defd260"
      },
      "execution_count": 316,
      "outputs": [
        {
          "output_type": "display_data",
          "data": {
            "text/html": [
              "<html>\n",
              "<head><meta charset=\"utf-8\" /></head>\n",
              "<body>\n",
              "    <div>            <script src=\"https://cdnjs.cloudflare.com/ajax/libs/mathjax/2.7.5/MathJax.js?config=TeX-AMS-MML_SVG\"></script><script type=\"text/javascript\">if (window.MathJax) {MathJax.Hub.Config({SVG: {font: \"STIX-Web\"}});}</script>                <script type=\"text/javascript\">window.PlotlyConfig = {MathJaxConfig: 'local'};</script>\n",
              "        <script src=\"https://cdn.plot.ly/plotly-2.8.3.min.js\"></script>                <div id=\"f7504c71-49e5-43bc-a1da-b18b9329e7ec\" class=\"plotly-graph-div\" style=\"height:525px; width:100%;\"></div>            <script type=\"text/javascript\">                                    window.PLOTLYENV=window.PLOTLYENV || {};                                    if (document.getElementById(\"f7504c71-49e5-43bc-a1da-b18b9329e7ec\")) {                    Plotly.newPlot(                        \"f7504c71-49e5-43bc-a1da-b18b9329e7ec\",                        [{\"dimensions\":[{\"label\":\"BMI\",\"values\":[33.6,26.6,23.3,28.1,43.1,25.6,31.0,35.3,30.5,32.457463672391015,37.6,38.0,27.1,30.1,25.8,30.0,45.8,29.6,43.3,34.6,39.3,35.4,39.8,29.0,36.6,31.1,39.4,23.2,22.2,34.1,36.0,31.6,24.8,19.9,27.6,24.0,33.2,32.9,38.2,37.1,34.0,40.2,22.7,45.4,27.4,42.0,29.7,28.0,39.1,32.457463672391015,19.4,24.2,24.4,33.7,34.7,23.0,37.7,46.8,40.5,41.5,32.457463672391015,32.9,25.0,25.4,32.8,29.0,32.5,42.7,19.6,28.9,32.9,28.6,43.4,35.1,32.0,24.7,32.6,37.7,43.2,25.0,22.4,32.457463672391015,29.3,24.6,48.8,32.4,36.6,38.5,37.1,26.5,19.1,32.0,46.7,23.8,24.7,33.9,31.6,20.4,28.7,49.7,39.0,26.1,22.5,26.6,39.6,28.7,22.4,29.5,34.3,37.4,33.3,34.0,31.2,34.0,30.5,31.2,34.0,33.7,28.2,23.2,53.2,34.2,33.6,26.8,33.3,55.0,42.9,33.3,34.5,27.9,29.7,33.3,34.5,38.3,21.1,33.8,30.8,28.7,31.2,36.9,21.1,39.5,32.5,32.4,32.8,32.457463672391015,32.8,30.5,33.7,27.3,37.4,21.9,34.3,40.6,47.9,50.0,24.6,25.2,29.0,40.9,29.7,37.2,44.2,29.7,31.6,29.9,32.5,29.6,31.9,28.4,30.8,35.4,28.9,43.5,29.7,32.7,31.2,67.1,45.0,39.1,23.2,34.9,27.7,26.8,27.6,35.9,30.1,32.0,27.9,31.6,22.6,33.1,30.4,52.3,24.4,39.4,24.3,22.9,34.8,30.9,31.0,40.1,27.3,20.4,37.7,23.9,37.5,37.7,33.2,35.5,27.7,42.8,34.2,42.6,34.2,41.8,35.8,30.0,29.0,37.8,34.6,31.6,25.2,28.8,23.6,34.6,35.7,37.2,36.7,45.2,44.0,46.2,25.4,35.0,29.7,43.6,35.9,44.1,30.8,18.4,29.2,33.1,25.6,27.1,38.2,30.0,31.2,52.3,35.4,30.1,31.2,28.0,24.4,35.8,27.6,33.6,30.1,28.7,25.9,33.3,30.9,30.0,32.1,32.4,32.0,33.6,36.3,40.0,25.1,27.5,45.6,25.2,23.0,33.2,34.2,40.5,26.5,27.8,24.9,25.3,37.9,35.9,32.4,30.4,27.0,26.0,38.7,45.6,20.8,36.1,36.9,36.6,43.3,40.5,21.9,35.5,28.0,30.7,36.6,23.6,32.3,31.6,35.8,52.9,21.0,39.7,25.5,24.8,30.5,32.9,26.2,39.4,26.6,29.5,35.9,34.1,19.3,30.5,38.1,23.5,27.5,31.6,27.4,26.8,35.7,25.6,35.1,35.1,45.5,30.8,23.1,32.7,43.3,23.6,23.9,47.9,33.8,31.2,34.2,39.9,25.9,25.9,32.0,34.7,36.8,38.5,28.7,23.5,21.8,41.0,42.2,31.2,34.4,27.2,42.7,30.4,33.3,39.9,35.3,36.5,31.2,29.8,39.2,38.5,34.9,34.0,27.6,21.0,27.5,32.8,38.4,32.457463672391015,35.8,34.9,36.2,39.2,25.2,37.2,48.3,43.4,30.8,20.0,25.4,25.1,24.3,22.3,32.3,43.3,32.0,31.6,32.0,45.7,23.7,22.1,32.9,27.7,24.7,34.3,21.1,34.9,32.0,24.2,35.0,31.6,32.9,42.1,28.9,21.9,25.9,42.4,35.7,34.4,42.4,26.2,34.6,35.7,27.2,38.5,18.2,26.4,45.3,26.0,40.6,30.8,42.9,37.0,32.457463672391015,34.1,40.6,35.0,22.2,30.4,30.0,25.6,24.5,42.4,37.4,29.9,18.2,36.8,34.3,32.2,33.2,30.5,29.7,59.4,25.3,36.5,33.6,30.5,21.2,28.9,39.9,19.6,37.8,33.6,26.7,30.2,37.6,25.9,20.8,21.8,35.3,27.6,24.0,21.8,27.8,36.8,30.0,46.1,41.3,33.2,38.8,29.9,28.9,27.3,33.7,23.8,25.9,28.0,35.5,35.2,27.8,38.2,44.2,42.3,40.7,46.5,25.6,26.1,36.8,33.5,32.8,28.9,32.457463672391015,26.6,26.0,30.1,25.1,29.3,25.2,37.2,39.0,33.3,37.3,33.3,36.5,28.6,30.4,25.0,29.7,22.1,24.2,27.3,25.6,31.6,30.3,37.6,32.8,19.6,25.0,33.2,32.457463672391015,34.2,31.6,21.8,18.2,26.3,30.8,24.6,29.8,45.3,41.3,29.8,33.3,32.9,29.6,21.7,36.3,36.4,39.4,32.4,34.9,39.5,32.0,34.5,43.6,33.1,32.8,28.5,27.4,31.9,27.8,29.9,36.9,25.5,38.1,27.8,46.2,30.1,33.8,41.3,37.6,26.9,32.4,26.1,38.6,32.0,31.3,34.3,32.5,22.6,29.5,34.7,30.1,35.5,24.0,42.9,27.0,34.7,42.1,25.0,26.5,38.7,28.7,22.5,34.9,24.3,33.3,21.1,46.8,39.4,34.4,28.5,33.6,32.0,45.3,27.8,36.8,23.1,27.1,23.7,27.8,35.2,28.4,35.8,40.0,19.5,41.5,24.0,30.9,32.9,38.2,32.5,36.1,25.8,28.7,20.1,28.2,32.4,38.4,24.2,40.8,43.5,30.8,37.7,24.7,32.4,34.6,24.7,27.4,34.5,26.2,27.5,25.9,31.2,28.8,31.6,40.9,19.5,29.3,34.3,29.5,28.0,27.6,39.4,23.4,37.8,28.3,26.4,25.2,33.8,34.1,26.8,34.2,38.7,21.8,38.9,39.0,34.2,27.7,42.9,37.6,37.9,33.7,34.8,32.5,27.5,34.0,30.9,33.6,25.4,35.5,57.3,35.6,30.9,24.8,35.3,36.0,24.2,24.2,49.6,44.6,32.3,32.457463672391015,33.2,23.1,28.3,24.1,46.1,24.6,42.3,39.1,38.5,23.5,30.4,29.9,25.0,34.5,44.5,35.9,27.6,35.0,38.5,28.4,39.8,32.457463672391015,34.4,32.8,38.0,31.2,29.6,41.2,26.4,29.5,33.9,33.8,23.1,35.5,35.6,29.3,38.1,29.3,39.1,32.8,39.4,36.1,32.4,22.9,30.1,28.4,28.4,44.5,29.0,23.3,35.4,27.4,32.0,36.6,39.5,42.3,30.8,28.5,32.7,40.6,30.0,49.3,46.3,36.4,24.3,31.2,39.0,26.0,43.3,32.4,36.5,32.0,36.3,37.5,35.5,28.4,44.0,22.5,32.9,36.8,26.2,30.1,30.4]},{\"label\":\"DiabetesPedigreeFunction\",\"values\":[0.627,0.351,0.672,0.167,2.288,0.201,0.248,0.134,0.158,0.232,0.191,0.537,1.441,0.398,0.587,0.484,0.551,0.254,0.183,0.529,0.704,0.388,0.451,0.263,0.254,0.205,0.257,0.487,0.245,0.337,0.546,0.851,0.267,0.188,0.512,0.966,0.42,0.665,0.503,1.39,0.271,0.696,0.235,0.721,0.294,1.893,0.564,0.586,0.344,0.305,0.491,0.526,0.342,0.467,0.718,0.248,0.254,0.962,1.781,0.173,0.304,0.27,0.587,0.699,0.258,0.203,0.855,0.845,0.334,0.189,0.867,0.411,0.583,0.231,0.396,0.14,0.391,0.37,0.27,0.307,0.14,0.102,0.767,0.237,0.227,0.698,0.178,0.324,0.153,0.165,0.258,0.443,0.261,0.277,0.761,0.255,0.13,0.323,0.356,0.325,1.222,0.179,0.262,0.283,0.93,0.801,0.207,0.287,0.336,0.247,0.199,0.543,0.192,0.391,0.588,0.539,0.22,0.654,0.443,0.223,0.759,0.26,0.404,0.186,0.278,0.496,0.452,0.261,0.403,0.741,0.361,1.114,0.356,0.457,0.647,0.088,0.597,0.532,0.703,0.159,0.268,0.286,0.318,0.272,0.237,0.572,0.096,1.4,0.218,0.085,0.399,0.432,1.189,0.687,0.137,0.337,0.637,0.833,0.229,0.817,0.294,0.204,0.167,0.368,0.743,0.722,0.256,0.709,0.471,0.495,0.18,0.542,0.773,0.678,0.37,0.719,0.382,0.319,0.19,0.956,0.084,0.725,0.299,0.268,0.244,0.745,0.615,1.321,0.64,0.361,0.142,0.374,0.383,0.578,0.136,0.395,0.187,0.678,0.905,0.15,0.874,0.236,0.787,0.235,0.324,0.407,0.605,0.151,0.289,0.355,0.29,0.375,0.164,0.431,0.26,0.742,0.514,0.464,1.224,0.261,1.072,0.805,0.209,0.687,0.666,0.101,0.198,0.652,2.329,0.089,0.645,0.238,0.583,0.394,0.293,0.479,0.586,0.686,0.831,0.582,0.192,0.446,0.402,1.318,0.329,1.213,0.258,0.427,0.282,0.143,0.38,0.284,0.249,0.238,0.926,0.543,0.557,0.092,0.655,1.353,0.299,0.761,0.612,0.2,0.226,0.997,0.933,1.101,0.078,0.24,1.136,0.128,0.254,0.422,0.251,0.677,0.296,0.454,0.744,0.881,0.334,0.28,0.262,0.165,0.259,0.647,0.619,0.808,0.34,0.263,0.434,0.757,1.224,0.613,0.254,0.692,0.337,0.52,0.412,0.84,0.839,0.422,0.156,0.209,0.207,0.215,0.326,0.143,1.391,0.875,0.313,0.605,0.433,0.626,1.127,0.315,0.284,0.345,0.15,0.129,0.527,0.197,0.254,0.731,0.148,0.123,0.692,0.2,0.127,0.122,1.476,0.166,0.282,0.137,0.26,0.259,0.932,0.343,0.893,0.331,0.472,0.673,0.389,0.29,0.485,0.349,0.654,0.187,0.279,0.346,0.237,0.252,0.243,0.58,0.559,0.302,0.962,0.569,0.378,0.875,0.583,0.207,0.305,0.52,0.385,0.499,0.368,0.252,0.306,0.234,2.137,1.731,0.545,0.225,0.816,0.528,0.299,0.509,0.238,1.021,0.821,0.236,0.947,1.268,0.221,0.205,0.66,0.239,0.452,0.949,0.444,0.34,0.389,0.463,0.803,1.6,0.944,0.196,0.389,0.241,0.161,0.151,0.286,0.28,0.135,0.52,0.376,0.336,1.191,0.702,0.674,0.528,1.076,0.256,0.534,0.258,1.095,0.554,0.624,0.219,0.507,0.561,0.496,0.421,0.516,0.264,0.256,0.328,0.284,0.233,0.108,0.551,0.527,0.167,1.138,0.205,0.244,0.434,0.147,0.727,0.435,0.497,0.23,0.955,0.38,2.42,0.658,0.33,0.51,0.285,0.415,0.542,0.381,0.832,0.498,0.212,0.687,0.364,1.001,0.46,0.733,0.416,0.705,0.258,1.022,0.452,0.269,0.6,0.183,0.571,0.607,0.17,0.259,0.21,0.126,0.231,0.711,0.466,0.162,0.419,0.344,0.197,0.306,0.233,0.63,0.365,0.536,1.159,0.294,0.551,0.629,0.292,0.145,1.144,0.174,0.304,0.292,0.547,0.163,0.839,0.313,0.267,0.727,0.738,0.238,0.263,0.314,0.692,0.968,0.409,0.297,0.207,0.2,0.525,0.154,0.268,0.771,0.304,0.18,0.582,0.187,0.305,0.189,0.652,0.151,0.444,0.299,0.107,0.493,0.66,0.717,0.686,0.917,0.501,1.251,0.302,0.197,0.735,0.804,0.968,0.661,0.549,0.825,0.159,0.365,0.423,1.034,0.16,0.341,0.68,0.204,0.591,0.247,0.422,0.471,0.161,0.218,0.237,0.126,0.3,0.121,0.502,0.401,0.497,0.601,0.748,0.412,0.085,0.338,0.203,0.27,0.268,0.43,0.198,0.892,0.28,0.813,0.693,0.245,0.575,0.371,0.206,0.259,0.19,0.687,0.417,0.129,0.249,1.154,0.342,0.925,0.175,0.402,1.699,0.733,0.682,0.194,0.559,0.088,0.407,0.4,0.19,0.1,0.692,0.212,0.514,1.258,0.482,0.27,0.138,0.292,0.593,0.787,0.878,0.557,0.207,0.157,0.257,1.282,0.141,0.246,1.698,1.461,0.347,0.158,0.362,0.206,0.393,0.144,0.148,0.732,0.238,0.343,0.115,0.167,0.465,0.153,0.649,0.871,0.149,0.695,0.303,0.178,0.61,0.73,0.134,0.447,0.455,0.26,0.133,0.234,0.466,0.269,0.455,0.142,0.24,0.155,1.162,0.19,1.292,0.182,1.394,0.165,0.637,0.245,0.217,0.235,0.141,0.43,0.164,0.631,0.551,0.285,0.88,0.587,0.328,0.23,0.263,0.127,0.614,0.332,0.364,0.366,0.536,0.64,0.591,0.314,0.181,0.828,0.335,0.856,0.257,0.886,0.439,0.191,0.128,0.268,0.253,0.598,0.904,0.483,0.565,0.905,0.304,0.118,0.177,0.261,0.176,0.148,0.674,0.295,0.439,0.441,0.352,0.121,0.826,0.97,0.595,0.415,0.378,0.317,0.289,0.349,0.251,0.265,0.236,0.496,0.433,0.326,0.141,0.323,0.259,0.646,0.426,0.56,0.284,0.515,0.6,0.453,0.293,0.785,0.4,0.219,0.734,1.174,0.488,0.358,1.096,0.408,0.178,1.182,0.261,0.223,0.222,0.443,1.057,0.391,0.258,0.197,0.278,0.766,0.403,0.142,0.171,0.34,0.245,0.349,0.315]},{\"label\":\"Outcome\",\"values\":[1,0,1,0,1,0,1,0,1,1,0,1,0,1,1,1,1,1,0,1,0,0,1,1,1,1,1,0,0,0,0,1,0,0,0,0,0,1,1,1,0,0,0,1,0,1,0,0,1,0,0,0,0,1,0,0,1,0,0,0,0,1,0,0,1,0,1,0,0,0,1,0,1,0,0,0,0,0,1,0,0,0,0,0,1,0,0,0,1,0,0,0,0,1,0,0,0,0,0,1,1,0,0,0,0,0,0,0,0,1,1,1,0,0,1,1,1,0,0,0,1,0,0,0,1,1,0,0,1,1,1,1,1,0,0,0,0,0,0,0,0,0,0,1,0,0,0,0,0,0,0,0,1,0,1,1,0,0,0,1,0,0,0,0,1,1,0,0,0,0,1,1,0,0,0,1,0,1,0,1,0,0,0,0,0,1,1,1,1,1,0,0,1,1,0,1,0,1,1,1,0,0,0,0,0,0,1,1,0,1,0,0,0,1,1,1,1,0,1,1,1,1,0,0,0,0,0,1,0,0,1,1,0,0,0,1,1,1,1,0,0,0,1,1,0,1,0,0,0,0,0,0,0,0,1,1,0,0,0,1,0,1,0,0,1,0,1,0,0,1,1,0,0,0,0,0,1,0,0,0,1,0,0,1,1,0,0,1,0,0,0,1,1,1,0,0,1,0,1,0,1,1,0,1,0,0,1,0,1,1,0,0,1,0,1,0,0,1,0,1,0,1,1,1,0,0,1,0,1,0,0,0,1,0,0,0,0,1,1,1,0,0,0,0,0,0,0,0,0,1,0,0,0,0,0,1,1,1,0,1,1,0,0,1,0,0,1,0,0,1,1,0,0,0,0,1,0,0,1,0,0,0,0,0,0,0,1,1,1,0,0,1,0,0,1,0,0,1,0,1,1,0,1,0,1,0,1,0,1,1,0,0,0,0,1,1,0,1,0,1,0,0,0,0,1,1,0,1,0,1,0,0,0,0,0,1,0,0,0,0,1,0,0,1,1,1,0,0,1,0,0,1,0,0,0,1,0,0,1,0,0,0,0,0,0,0,0,0,1,0,0,0,0,0,0,0,1,0,0,0,1,0,0,0,1,1,0,0,0,0,0,0,0,1,0,0,0,0,1,0,0,0,1,0,0,0,1,0,0,0,1,0,0,0,0,1,1,0,0,0,0,0,0,1,0,0,0,0,0,0,0,0,0,0,0,1,0,0,0,1,1,1,1,0,0,1,1,0,0,0,0,0,0,0,0,0,0,0,0,0,1,1,0,0,0,0,0,0,0,1,0,0,0,0,0,0,0,1,0,1,1,0,0,0,1,0,1,0,1,0,1,0,1,0,0,1,0,0,1,0,0,0,0,1,1,0,1,0,0,0,0,1,1,0,1,0,0,0,1,1,0,0,0,0,0,0,0,0,0,0,1,0,0,0,0,1,0,0,1,0,0,0,1,0,0,0,1,1,1,0,0,0,0,0,0,1,0,0,0,1,0,1,1,1,1,0,1,1,0,0,0,0,0,0,0,1,1,0,1,0,0,1,0,1,0,0,0,0,0,1,0,1,0,1,0,1,1,0,0,0,0,1,1,0,0,0,1,0,1,1,0,0,1,0,0,1,1,0,0,1,0,0,1,0,0,0,0,0,0,0,1,1,1,0,0,0,0,0,0,1,1,0,0,1,0,0,1,0,1,1,1,0,0,1,1,1,0,1,0,1,0,1,0,0,0,0,1,0]}],\"domain\":{\"x\":[0.0,1.0],\"y\":[0.0,1.0]},\"line\":{\"color\":[1,0,1,0,1,0,1,0,1,1,0,1,0,1,1,1,1,1,0,1,0,0,1,1,1,1,1,0,0,0,0,1,0,0,0,0,0,1,1,1,0,0,0,1,0,1,0,0,1,0,0,0,0,1,0,0,1,0,0,0,0,1,0,0,1,0,1,0,0,0,1,0,1,0,0,0,0,0,1,0,0,0,0,0,1,0,0,0,1,0,0,0,0,1,0,0,0,0,0,1,1,0,0,0,0,0,0,0,0,1,1,1,0,0,1,1,1,0,0,0,1,0,0,0,1,1,0,0,1,1,1,1,1,0,0,0,0,0,0,0,0,0,0,1,0,0,0,0,0,0,0,0,1,0,1,1,0,0,0,1,0,0,0,0,1,1,0,0,0,0,1,1,0,0,0,1,0,1,0,1,0,0,0,0,0,1,1,1,1,1,0,0,1,1,0,1,0,1,1,1,0,0,0,0,0,0,1,1,0,1,0,0,0,1,1,1,1,0,1,1,1,1,0,0,0,0,0,1,0,0,1,1,0,0,0,1,1,1,1,0,0,0,1,1,0,1,0,0,0,0,0,0,0,0,1,1,0,0,0,1,0,1,0,0,1,0,1,0,0,1,1,0,0,0,0,0,1,0,0,0,1,0,0,1,1,0,0,1,0,0,0,1,1,1,0,0,1,0,1,0,1,1,0,1,0,0,1,0,1,1,0,0,1,0,1,0,0,1,0,1,0,1,1,1,0,0,1,0,1,0,0,0,1,0,0,0,0,1,1,1,0,0,0,0,0,0,0,0,0,1,0,0,0,0,0,1,1,1,0,1,1,0,0,1,0,0,1,0,0,1,1,0,0,0,0,1,0,0,1,0,0,0,0,0,0,0,1,1,1,0,0,1,0,0,1,0,0,1,0,1,1,0,1,0,1,0,1,0,1,1,0,0,0,0,1,1,0,1,0,1,0,0,0,0,1,1,0,1,0,1,0,0,0,0,0,1,0,0,0,0,1,0,0,1,1,1,0,0,1,0,0,1,0,0,0,1,0,0,1,0,0,0,0,0,0,0,0,0,1,0,0,0,0,0,0,0,1,0,0,0,1,0,0,0,1,1,0,0,0,0,0,0,0,1,0,0,0,0,1,0,0,0,1,0,0,0,1,0,0,0,1,0,0,0,0,1,1,0,0,0,0,0,0,1,0,0,0,0,0,0,0,0,0,0,0,1,0,0,0,1,1,1,1,0,0,1,1,0,0,0,0,0,0,0,0,0,0,0,0,0,1,1,0,0,0,0,0,0,0,1,0,0,0,0,0,0,0,1,0,1,1,0,0,0,1,0,1,0,1,0,1,0,1,0,0,1,0,0,1,0,0,0,0,1,1,0,1,0,0,0,0,1,1,0,1,0,0,0,1,1,0,0,0,0,0,0,0,0,0,0,1,0,0,0,0,1,0,0,1,0,0,0,1,0,0,0,1,1,1,0,0,0,0,0,0,1,0,0,0,1,0,1,1,1,1,0,1,1,0,0,0,0,0,0,0,1,1,0,1,0,0,1,0,1,0,0,0,0,0,1,0,1,0,1,0,1,1,0,0,0,0,1,1,0,0,0,1,0,1,1,0,0,1,0,0,1,1,0,0,1,0,0,1,0,0,0,0,0,0,0,1,1,1,0,0,0,0,0,0,1,1,0,0,1,0,0,1,0,1,1,1,0,0,1,1,1,0,1,0,1,0,1,0,0,0,0,1,0],\"coloraxis\":\"coloraxis\"},\"name\":\"\",\"type\":\"parcoords\"}],                        {\"template\":{\"data\":{\"bar\":[{\"error_x\":{\"color\":\"#2a3f5f\"},\"error_y\":{\"color\":\"#2a3f5f\"},\"marker\":{\"line\":{\"color\":\"#E5ECF6\",\"width\":0.5},\"pattern\":{\"fillmode\":\"overlay\",\"size\":10,\"solidity\":0.2}},\"type\":\"bar\"}],\"barpolar\":[{\"marker\":{\"line\":{\"color\":\"#E5ECF6\",\"width\":0.5},\"pattern\":{\"fillmode\":\"overlay\",\"size\":10,\"solidity\":0.2}},\"type\":\"barpolar\"}],\"carpet\":[{\"aaxis\":{\"endlinecolor\":\"#2a3f5f\",\"gridcolor\":\"white\",\"linecolor\":\"white\",\"minorgridcolor\":\"white\",\"startlinecolor\":\"#2a3f5f\"},\"baxis\":{\"endlinecolor\":\"#2a3f5f\",\"gridcolor\":\"white\",\"linecolor\":\"white\",\"minorgridcolor\":\"white\",\"startlinecolor\":\"#2a3f5f\"},\"type\":\"carpet\"}],\"choropleth\":[{\"colorbar\":{\"outlinewidth\":0,\"ticks\":\"\"},\"type\":\"choropleth\"}],\"contour\":[{\"colorbar\":{\"outlinewidth\":0,\"ticks\":\"\"},\"colorscale\":[[0.0,\"#0d0887\"],[0.1111111111111111,\"#46039f\"],[0.2222222222222222,\"#7201a8\"],[0.3333333333333333,\"#9c179e\"],[0.4444444444444444,\"#bd3786\"],[0.5555555555555556,\"#d8576b\"],[0.6666666666666666,\"#ed7953\"],[0.7777777777777778,\"#fb9f3a\"],[0.8888888888888888,\"#fdca26\"],[1.0,\"#f0f921\"]],\"type\":\"contour\"}],\"contourcarpet\":[{\"colorbar\":{\"outlinewidth\":0,\"ticks\":\"\"},\"type\":\"contourcarpet\"}],\"heatmap\":[{\"colorbar\":{\"outlinewidth\":0,\"ticks\":\"\"},\"colorscale\":[[0.0,\"#0d0887\"],[0.1111111111111111,\"#46039f\"],[0.2222222222222222,\"#7201a8\"],[0.3333333333333333,\"#9c179e\"],[0.4444444444444444,\"#bd3786\"],[0.5555555555555556,\"#d8576b\"],[0.6666666666666666,\"#ed7953\"],[0.7777777777777778,\"#fb9f3a\"],[0.8888888888888888,\"#fdca26\"],[1.0,\"#f0f921\"]],\"type\":\"heatmap\"}],\"heatmapgl\":[{\"colorbar\":{\"outlinewidth\":0,\"ticks\":\"\"},\"colorscale\":[[0.0,\"#0d0887\"],[0.1111111111111111,\"#46039f\"],[0.2222222222222222,\"#7201a8\"],[0.3333333333333333,\"#9c179e\"],[0.4444444444444444,\"#bd3786\"],[0.5555555555555556,\"#d8576b\"],[0.6666666666666666,\"#ed7953\"],[0.7777777777777778,\"#fb9f3a\"],[0.8888888888888888,\"#fdca26\"],[1.0,\"#f0f921\"]],\"type\":\"heatmapgl\"}],\"histogram\":[{\"marker\":{\"pattern\":{\"fillmode\":\"overlay\",\"size\":10,\"solidity\":0.2}},\"type\":\"histogram\"}],\"histogram2d\":[{\"colorbar\":{\"outlinewidth\":0,\"ticks\":\"\"},\"colorscale\":[[0.0,\"#0d0887\"],[0.1111111111111111,\"#46039f\"],[0.2222222222222222,\"#7201a8\"],[0.3333333333333333,\"#9c179e\"],[0.4444444444444444,\"#bd3786\"],[0.5555555555555556,\"#d8576b\"],[0.6666666666666666,\"#ed7953\"],[0.7777777777777778,\"#fb9f3a\"],[0.8888888888888888,\"#fdca26\"],[1.0,\"#f0f921\"]],\"type\":\"histogram2d\"}],\"histogram2dcontour\":[{\"colorbar\":{\"outlinewidth\":0,\"ticks\":\"\"},\"colorscale\":[[0.0,\"#0d0887\"],[0.1111111111111111,\"#46039f\"],[0.2222222222222222,\"#7201a8\"],[0.3333333333333333,\"#9c179e\"],[0.4444444444444444,\"#bd3786\"],[0.5555555555555556,\"#d8576b\"],[0.6666666666666666,\"#ed7953\"],[0.7777777777777778,\"#fb9f3a\"],[0.8888888888888888,\"#fdca26\"],[1.0,\"#f0f921\"]],\"type\":\"histogram2dcontour\"}],\"mesh3d\":[{\"colorbar\":{\"outlinewidth\":0,\"ticks\":\"\"},\"type\":\"mesh3d\"}],\"parcoords\":[{\"line\":{\"colorbar\":{\"outlinewidth\":0,\"ticks\":\"\"}},\"type\":\"parcoords\"}],\"pie\":[{\"automargin\":true,\"type\":\"pie\"}],\"scatter\":[{\"marker\":{\"colorbar\":{\"outlinewidth\":0,\"ticks\":\"\"}},\"type\":\"scatter\"}],\"scatter3d\":[{\"line\":{\"colorbar\":{\"outlinewidth\":0,\"ticks\":\"\"}},\"marker\":{\"colorbar\":{\"outlinewidth\":0,\"ticks\":\"\"}},\"type\":\"scatter3d\"}],\"scattercarpet\":[{\"marker\":{\"colorbar\":{\"outlinewidth\":0,\"ticks\":\"\"}},\"type\":\"scattercarpet\"}],\"scattergeo\":[{\"marker\":{\"colorbar\":{\"outlinewidth\":0,\"ticks\":\"\"}},\"type\":\"scattergeo\"}],\"scattergl\":[{\"marker\":{\"colorbar\":{\"outlinewidth\":0,\"ticks\":\"\"}},\"type\":\"scattergl\"}],\"scattermapbox\":[{\"marker\":{\"colorbar\":{\"outlinewidth\":0,\"ticks\":\"\"}},\"type\":\"scattermapbox\"}],\"scatterpolar\":[{\"marker\":{\"colorbar\":{\"outlinewidth\":0,\"ticks\":\"\"}},\"type\":\"scatterpolar\"}],\"scatterpolargl\":[{\"marker\":{\"colorbar\":{\"outlinewidth\":0,\"ticks\":\"\"}},\"type\":\"scatterpolargl\"}],\"scatterternary\":[{\"marker\":{\"colorbar\":{\"outlinewidth\":0,\"ticks\":\"\"}},\"type\":\"scatterternary\"}],\"surface\":[{\"colorbar\":{\"outlinewidth\":0,\"ticks\":\"\"},\"colorscale\":[[0.0,\"#0d0887\"],[0.1111111111111111,\"#46039f\"],[0.2222222222222222,\"#7201a8\"],[0.3333333333333333,\"#9c179e\"],[0.4444444444444444,\"#bd3786\"],[0.5555555555555556,\"#d8576b\"],[0.6666666666666666,\"#ed7953\"],[0.7777777777777778,\"#fb9f3a\"],[0.8888888888888888,\"#fdca26\"],[1.0,\"#f0f921\"]],\"type\":\"surface\"}],\"table\":[{\"cells\":{\"fill\":{\"color\":\"#EBF0F8\"},\"line\":{\"color\":\"white\"}},\"header\":{\"fill\":{\"color\":\"#C8D4E3\"},\"line\":{\"color\":\"white\"}},\"type\":\"table\"}]},\"layout\":{\"annotationdefaults\":{\"arrowcolor\":\"#2a3f5f\",\"arrowhead\":0,\"arrowwidth\":1},\"autotypenumbers\":\"strict\",\"coloraxis\":{\"colorbar\":{\"outlinewidth\":0,\"ticks\":\"\"}},\"colorscale\":{\"diverging\":[[0,\"#8e0152\"],[0.1,\"#c51b7d\"],[0.2,\"#de77ae\"],[0.3,\"#f1b6da\"],[0.4,\"#fde0ef\"],[0.5,\"#f7f7f7\"],[0.6,\"#e6f5d0\"],[0.7,\"#b8e186\"],[0.8,\"#7fbc41\"],[0.9,\"#4d9221\"],[1,\"#276419\"]],\"sequential\":[[0.0,\"#0d0887\"],[0.1111111111111111,\"#46039f\"],[0.2222222222222222,\"#7201a8\"],[0.3333333333333333,\"#9c179e\"],[0.4444444444444444,\"#bd3786\"],[0.5555555555555556,\"#d8576b\"],[0.6666666666666666,\"#ed7953\"],[0.7777777777777778,\"#fb9f3a\"],[0.8888888888888888,\"#fdca26\"],[1.0,\"#f0f921\"]],\"sequentialminus\":[[0.0,\"#0d0887\"],[0.1111111111111111,\"#46039f\"],[0.2222222222222222,\"#7201a8\"],[0.3333333333333333,\"#9c179e\"],[0.4444444444444444,\"#bd3786\"],[0.5555555555555556,\"#d8576b\"],[0.6666666666666666,\"#ed7953\"],[0.7777777777777778,\"#fb9f3a\"],[0.8888888888888888,\"#fdca26\"],[1.0,\"#f0f921\"]]},\"colorway\":[\"#636efa\",\"#EF553B\",\"#00cc96\",\"#ab63fa\",\"#FFA15A\",\"#19d3f3\",\"#FF6692\",\"#B6E880\",\"#FF97FF\",\"#FECB52\"],\"font\":{\"color\":\"#2a3f5f\"},\"geo\":{\"bgcolor\":\"white\",\"lakecolor\":\"white\",\"landcolor\":\"#E5ECF6\",\"showlakes\":true,\"showland\":true,\"subunitcolor\":\"white\"},\"hoverlabel\":{\"align\":\"left\"},\"hovermode\":\"closest\",\"mapbox\":{\"style\":\"light\"},\"paper_bgcolor\":\"white\",\"plot_bgcolor\":\"#E5ECF6\",\"polar\":{\"angularaxis\":{\"gridcolor\":\"white\",\"linecolor\":\"white\",\"ticks\":\"\"},\"bgcolor\":\"#E5ECF6\",\"radialaxis\":{\"gridcolor\":\"white\",\"linecolor\":\"white\",\"ticks\":\"\"}},\"scene\":{\"xaxis\":{\"backgroundcolor\":\"#E5ECF6\",\"gridcolor\":\"white\",\"gridwidth\":2,\"linecolor\":\"white\",\"showbackground\":true,\"ticks\":\"\",\"zerolinecolor\":\"white\"},\"yaxis\":{\"backgroundcolor\":\"#E5ECF6\",\"gridcolor\":\"white\",\"gridwidth\":2,\"linecolor\":\"white\",\"showbackground\":true,\"ticks\":\"\",\"zerolinecolor\":\"white\"},\"zaxis\":{\"backgroundcolor\":\"#E5ECF6\",\"gridcolor\":\"white\",\"gridwidth\":2,\"linecolor\":\"white\",\"showbackground\":true,\"ticks\":\"\",\"zerolinecolor\":\"white\"}},\"shapedefaults\":{\"line\":{\"color\":\"#2a3f5f\"}},\"ternary\":{\"aaxis\":{\"gridcolor\":\"white\",\"linecolor\":\"white\",\"ticks\":\"\"},\"baxis\":{\"gridcolor\":\"white\",\"linecolor\":\"white\",\"ticks\":\"\"},\"bgcolor\":\"#E5ECF6\",\"caxis\":{\"gridcolor\":\"white\",\"linecolor\":\"white\",\"ticks\":\"\"}},\"title\":{\"x\":0.05},\"xaxis\":{\"automargin\":true,\"gridcolor\":\"white\",\"linecolor\":\"white\",\"ticks\":\"\",\"title\":{\"standoff\":15},\"zerolinecolor\":\"white\",\"zerolinewidth\":2},\"yaxis\":{\"automargin\":true,\"gridcolor\":\"white\",\"linecolor\":\"white\",\"ticks\":\"\",\"title\":{\"standoff\":15},\"zerolinecolor\":\"white\",\"zerolinewidth\":2}}},\"coloraxis\":{\"colorbar\":{\"title\":{\"text\":\"Outcome\"}},\"colorscale\":[[0.0,\"#0d0887\"],[0.1111111111111111,\"#46039f\"],[0.2222222222222222,\"#7201a8\"],[0.3333333333333333,\"#9c179e\"],[0.4444444444444444,\"#bd3786\"],[0.5555555555555556,\"#d8576b\"],[0.6666666666666666,\"#ed7953\"],[0.7777777777777778,\"#fb9f3a\"],[0.8888888888888888,\"#fdca26\"],[1.0,\"#f0f921\"]]},\"legend\":{\"tracegroupgap\":0},\"margin\":{\"t\":60}},                        {\"responsive\": true}                    ).then(function(){\n",
              "                            \n",
              "var gd = document.getElementById('f7504c71-49e5-43bc-a1da-b18b9329e7ec');\n",
              "var x = new MutationObserver(function (mutations, observer) {{\n",
              "        var display = window.getComputedStyle(gd).display;\n",
              "        if (!display || display === 'none') {{\n",
              "            console.log([gd, 'removed!']);\n",
              "            Plotly.purge(gd);\n",
              "            observer.disconnect();\n",
              "        }}\n",
              "}});\n",
              "\n",
              "// Listen for the removal of the full notebook cells\n",
              "var notebookContainer = gd.closest('#notebook-container');\n",
              "if (notebookContainer) {{\n",
              "    x.observe(notebookContainer, {childList: true});\n",
              "}}\n",
              "\n",
              "// Listen for the clearing of the current output cell\n",
              "var outputEl = gd.closest('.output');\n",
              "if (outputEl) {{\n",
              "    x.observe(outputEl, {childList: true});\n",
              "}}\n",
              "\n",
              "                        })                };                            </script>        </div>\n",
              "</body>\n",
              "</html>"
            ]
          },
          "metadata": {}
        }
      ]
    },
    {
      "cell_type": "markdown",
      "source": [
        "## Model Building "
      ],
      "metadata": {
        "id": "CatqVCPUUvYY"
      }
    },
    {
      "cell_type": "code",
      "source": [
        "#importing essential libraries\n",
        "from sklearn.metrics import confusion_matrix,classification_report,accuracy_score\n",
        "from sklearn.preprocessing import StandardScaler\n",
        "from sklearn.neighbors import KNeighborsClassifier\n",
        "from sklearn.tree import DecisionTreeClassifier\n",
        "from sklearn.linear_model import LogisticRegression\n",
        "from sklearn.ensemble import RandomForestClassifier\n",
        "from sklearn.ensemble import GradientBoostingClassifier\n",
        "from sklearn.ensemble import AdaBoostClassifier\n",
        "from xgboost import XGBClassifier\n",
        "from sklearn.model_selection import train_test_split\n",
        "from sklearn.model_selection import GridSearchCV"
      ],
      "metadata": {
        "id": "L_OPIHlDfc77"
      },
      "execution_count": 317,
      "outputs": []
    },
    {
      "cell_type": "code",
      "source": [
        "models_metrics_results = []"
      ],
      "metadata": {
        "id": "miD5rCH_T8_O"
      },
      "execution_count": 318,
      "outputs": []
    },
    {
      "cell_type": "markdown",
      "source": [
        "### Preprocessing"
      ],
      "metadata": {
        "id": "EF2BwZFef85M"
      }
    },
    {
      "cell_type": "code",
      "source": [
        "df_diabetes.var()"
      ],
      "metadata": {
        "colab": {
          "base_uri": "https://localhost:8080/"
        },
        "id": "o2oTS5Tmf-ze",
        "outputId": "4bcbf5f0-9e0a-40f7-9539-f15eefd1bfc0"
      },
      "execution_count": 319,
      "outputs": [
        {
          "output_type": "execute_result",
          "data": {
            "text/plain": [
              "Pregnancies                    8.852974\n",
              "Glucose                      926.346983\n",
              "BloodPressure                146.321591\n",
              "SkinThickness                 77.280660\n",
              "Insulin                     7228.588766\n",
              "BMI                           47.267706\n",
              "DiabetesPedigreeFunction       0.109779\n",
              "Age                          138.303046\n",
              "Outcome                        0.227483\n",
              "dtype: float64"
            ]
          },
          "metadata": {},
          "execution_count": 319
        }
      ]
    },
    {
      "cell_type": "code",
      "source": [
        "df_diabetes.mean()"
      ],
      "metadata": {
        "colab": {
          "base_uri": "https://localhost:8080/"
        },
        "id": "WVjTy_MygUwF",
        "outputId": "b72e7a03-a6b5-4318-f4cb-04b55282a0a8"
      },
      "execution_count": 320,
      "outputs": [
        {
          "output_type": "execute_result",
          "data": {
            "text/plain": [
              "Pregnancies                   4.494673\n",
              "Glucose                     121.686763\n",
              "BloodPressure                72.405184\n",
              "SkinThickness                29.153420\n",
              "Insulin                     155.548223\n",
              "BMI                          32.457464\n",
              "DiabetesPedigreeFunction      0.471876\n",
              "Age                          33.240885\n",
              "Outcome                       0.348958\n",
              "dtype: float64"
            ]
          },
          "metadata": {},
          "execution_count": 320
        }
      ]
    },
    {
      "cell_type": "markdown",
      "source": [
        "The features have high variance and hence need to be normalized"
      ],
      "metadata": {
        "id": "JAUqhFTjgD5r"
      }
    },
    {
      "cell_type": "code",
      "source": [
        "from sklearn.preprocessing import MinMaxScaler\n",
        "# Instancier un objet MinMaxScaler\n",
        "scaler = MinMaxScaler()\n",
        "cols_to_normalize = df_diabetes.columns[:-1]\n",
        "# Normaliser les données en utilisant le fit_transform de MinMaxScaler\n",
        "df_diabetes[cols_to_normalize] = scaler.fit_transform(df_diabetes[cols_to_normalize])"
      ],
      "metadata": {
        "id": "WmmI3NPnhINF"
      },
      "execution_count": 321,
      "outputs": []
    },
    {
      "cell_type": "code",
      "source": [
        "df_diabetes.var()"
      ],
      "metadata": {
        "colab": {
          "base_uri": "https://localhost:8080/"
        },
        "id": "7OzV3mylhhAm",
        "outputId": "5340381a-09bb-48ad-a8b5-11d3755cd9aa"
      },
      "execution_count": 322,
      "outputs": [
        {
          "output_type": "execute_result",
          "data": {
            "text/plain": [
              "Pregnancies                 0.034582\n",
              "Glucose                     0.038558\n",
              "BloodPressure               0.015235\n",
              "SkinThickness               0.009131\n",
              "Insulin                     0.010443\n",
              "BMI                         0.019767\n",
              "DiabetesPedigreeFunction    0.020014\n",
              "Age                         0.038418\n",
              "Outcome                     0.227483\n",
              "dtype: float64"
            ]
          },
          "metadata": {},
          "execution_count": 322
        }
      ]
    },
    {
      "cell_type": "code",
      "source": [
        "df_diabetes.mean()"
      ],
      "metadata": {
        "colab": {
          "base_uri": "https://localhost:8080/"
        },
        "id": "GWxDf-iThqAX",
        "outputId": "30a4a583-d70e-4fa3-e935-ebea7e28e33f"
      },
      "execution_count": 323,
      "outputs": [
        {
          "output_type": "execute_result",
          "data": {
            "text/plain": [
              "Pregnancies                 0.218417\n",
              "Glucose                     0.501205\n",
              "BloodPressure               0.493930\n",
              "SkinThickness               0.240798\n",
              "Insulin                     0.170130\n",
              "BMI                         0.291564\n",
              "DiabetesPedigreeFunction    0.168179\n",
              "Age                         0.204015\n",
              "Outcome                     0.348958\n",
              "dtype: float64"
            ]
          },
          "metadata": {},
          "execution_count": 323
        }
      ]
    },
    {
      "cell_type": "markdown",
      "source": [
        "### Train Test Split"
      ],
      "metadata": {
        "id": "Tcx1McpvgSr0"
      }
    },
    {
      "cell_type": "code",
      "source": [
        "label= df_diabetes[\"Outcome\"]\n",
        "train= df_diabetes.drop(\"Outcome\",axis= 1)\n",
        "x_train,x_test,y_train,y_test= train_test_split(train,label,test_size= 0.2,random_state= 5)\n",
        "\n",
        "print(x_train.shape)\n",
        "print(y_train.shape)\n",
        "print(x_test.shape)\n",
        "print(y_test.shape)"
      ],
      "metadata": {
        "colab": {
          "base_uri": "https://localhost:8080/"
        },
        "id": "J5KBld5YgwZq",
        "outputId": "5cf4b722-3b7f-4d31-c5f9-70cb51dbff34"
      },
      "execution_count": 324,
      "outputs": [
        {
          "output_type": "stream",
          "name": "stdout",
          "text": [
            "(614, 8)\n",
            "(614,)\n",
            "(154, 8)\n",
            "(154,)\n"
          ]
        }
      ]
    },
    {
      "cell_type": "markdown",
      "source": [
        "### 🤖 K-nn "
      ],
      "metadata": {
        "id": "Nxcz5JWniP3p"
      }
    },
    {
      "cell_type": "code",
      "source": [
        "k_to_test = list(np.arange(1,50))\n",
        "k_to_test[:10]"
      ],
      "metadata": {
        "colab": {
          "base_uri": "https://localhost:8080/"
        },
        "id": "IpT_pT3yi06b",
        "outputId": "0dd8350b-7e17-4c0d-9c8e-4a09e5e3dfb3"
      },
      "execution_count": 325,
      "outputs": [
        {
          "output_type": "execute_result",
          "data": {
            "text/plain": [
              "[1, 2, 3, 4, 5, 6, 7, 8, 9, 10]"
            ]
          },
          "metadata": {},
          "execution_count": 325
        }
      ]
    },
    {
      "cell_type": "code",
      "source": [
        "scores= []\n",
        "for k in k_to_test:\n",
        "    knn= KNeighborsClassifier(n_neighbors= k)\n",
        "    knn.fit(x_train,y_train)\n",
        "    scores.append(accuracy_score(y_test,knn.predict(x_test)))"
      ],
      "metadata": {
        "id": "wSQIH367hFcZ"
      },
      "execution_count": 326,
      "outputs": []
    },
    {
      "cell_type": "code",
      "source": [
        "plt.figure(figsize= (15,6))\n",
        "sns.lineplot(k_to_test,scores)\n",
        "plt.show()"
      ],
      "metadata": {
        "colab": {
          "base_uri": "https://localhost:8080/",
          "height": 374
        },
        "id": "KaUqryKciYe1",
        "outputId": "01d7596a-e163-4fb3-de20-ca62141059fb"
      },
      "execution_count": 327,
      "outputs": [
        {
          "output_type": "display_data",
          "data": {
            "text/plain": [
              "<Figure size 1080x432 with 1 Axes>"
            ],
            "image/png": "[encoded data removed]"
          },
          "metadata": {}
        }
      ]
    },
    {
      "cell_type": "code",
      "source": [
        "best_k = np.argmax(scores) + 1"
      ],
      "metadata": {
        "id": "5tWZcCyGjEw2"
      },
      "execution_count": 328,
      "outputs": []
    },
    {
      "cell_type": "code",
      "source": [
        "knn= KNeighborsClassifier(n_neighbors= best_k)\n",
        "knn.fit(x_train,y_train)\n",
        "knnpred = knn.predict(x_test)\n",
        "print(f\"accuracy score: \",accuracy_score(y_test,knnpred))"
      ],
      "metadata": {
        "colab": {
          "base_uri": "https://localhost:8080/"
        },
        "id": "clZ41c4vjTar",
        "outputId": "c90497ed-2b61-47d9-eaf6-2bcdf080c764"
      },
      "execution_count": 329,
      "outputs": [
        {
          "output_type": "stream",
          "name": "stdout",
          "text": [
            "accuracy score:  0.8311688311688312\n"
          ]
        }
      ]
    },
    {
      "cell_type": "code",
      "source": [
        "def classification_report_and_interpretation(y_test,y_pred):\n",
        "    report = classification_report(y_test,y_pred)\n",
        "    print(report)\n",
        "    dict_report = classification_report(y_test,y_pred,output_dict=True)\n",
        "    df_classification_report = pd.DataFrame(dict_report).transpose()\n",
        "    print(df_classification_report)\n",
        "\n",
        "    print(\"---\")\n",
        "    accuracy = df_classification_report[\"f1-score\"][\"accuracy\"]\n",
        "    precision_1 = df_classification_report[\"precision\"][1]\n",
        "    print(f\"Precision: Of all the people that the model predicted had diabetes, only {precision_1:.0%} actually had it.\")\n",
        "    recall_1 = df_classification_report[\"recall\"][1]\n",
        "    print(f\"Recall   : Of all the people with diabetes, the model predicted this outcome correctly for only {recall_1:.0%} of them.\")\n",
        "    f1_score_1 = df_classification_report[\"f1-score\"][1]\n",
        "    if f1_score_1 < 0.6:\n",
        "        print(\"F1-Score : /!\\ Since this value is not very close to 1, this tells us that the model does a poor job of predicting whether individuals have diabetes or not.\")\n",
        "    print(\"---\")\n",
        "    return accuracy, precision_1, recall_1,f1_score_1\n",
        "\n",
        "accuracy_, _ , recall_, _ = classification_report_and_interpretation(y_test,knnpred)"
      ],
      "metadata": {
        "colab": {
          "base_uri": "https://localhost:8080/"
        },
        "id": "HqLiGxlqjfjm",
        "outputId": "40434c04-7e48-4519-adc3-c90c50797606"
      },
      "execution_count": 330,
      "outputs": [
        {
          "output_type": "stream",
          "name": "stdout",
          "text": [
            "              precision    recall  f1-score   support\n",
            "\n",
            "           0       0.86      0.89      0.87       100\n",
            "           1       0.78      0.72      0.75        54\n",
            "\n",
            "    accuracy                           0.83       154\n",
            "   macro avg       0.82      0.81      0.81       154\n",
            "weighted avg       0.83      0.83      0.83       154\n",
            "\n",
            "              precision    recall  f1-score     support\n",
            "0              0.855769  0.890000  0.872549  100.000000\n",
            "1              0.780000  0.722222  0.750000   54.000000\n",
            "accuracy       0.831169  0.831169  0.831169    0.831169\n",
            "macro avg      0.817885  0.806111  0.811275  154.000000\n",
            "weighted avg   0.829201  0.831169  0.829577  154.000000\n",
            "---\n",
            "Precision: Of all the people that the model predicted had diabetes, only 78% actually had it.\n",
            "Recall   : Of all the people with diabetes, the model predicted this outcome correctly for only 72% of them.\n",
            "---\n"
          ]
        }
      ]
    },
    {
      "cell_type": "code",
      "source": [
        "models_metrics_results.append({\"model\" : \"KNN\", \"accuracy\" : accuracy_, \"recall\" : recall_ })"
      ],
      "metadata": {
        "id": "N8GX3Qp3UOHW"
      },
      "execution_count": 331,
      "outputs": []
    },
    {
      "cell_type": "markdown",
      "source": [
        "### 🤖 Logistic Regression"
      ],
      "metadata": {
        "id": "u7CHDKnarIZ6"
      }
    },
    {
      "cell_type": "code",
      "source": [
        "lr= LogisticRegression()\n",
        "lr.fit(x_train,y_train)\n",
        "lrpred= lr.predict(x_test)\n",
        "print(f\"accuracy score: \",accuracy_score(y_test,lrpred))"
      ],
      "metadata": {
        "colab": {
          "base_uri": "https://localhost:8080/"
        },
        "id": "cGkFkTNvlVB8",
        "outputId": "3ce35db1-cce6-4494-e69b-d10f2e0cf7bb"
      },
      "execution_count": 332,
      "outputs": [
        {
          "output_type": "stream",
          "name": "stdout",
          "text": [
            "accuracy score:  0.8116883116883117\n"
          ]
        }
      ]
    },
    {
      "cell_type": "code",
      "source": [
        "accuracy_, _ , recall_, _ = classification_report_and_interpretation(y_test,lrpred)"
      ],
      "metadata": {
        "colab": {
          "base_uri": "https://localhost:8080/"
        },
        "id": "LqgLSKAMsmBl",
        "outputId": "9514328e-211a-4c1f-a803-aaf6d9456725"
      },
      "execution_count": 333,
      "outputs": [
        {
          "output_type": "stream",
          "name": "stdout",
          "text": [
            "              precision    recall  f1-score   support\n",
            "\n",
            "           0       0.82      0.91      0.86       100\n",
            "           1       0.79      0.63      0.70        54\n",
            "\n",
            "    accuracy                           0.81       154\n",
            "   macro avg       0.81      0.77      0.78       154\n",
            "weighted avg       0.81      0.81      0.81       154\n",
            "\n",
            "              precision    recall  f1-score     support\n",
            "0              0.819820  0.910000  0.862559  100.000000\n",
            "1              0.790698  0.629630  0.701031   54.000000\n",
            "accuracy       0.811688  0.811688  0.811688    0.811688\n",
            "macro avg      0.805259  0.769815  0.781795  154.000000\n",
            "weighted avg   0.809608  0.811688  0.805919  154.000000\n",
            "---\n",
            "Precision: Of all the people that the model predicted had diabetes, only 79% actually had it.\n",
            "Recall   : Of all the people with diabetes, the model predicted this outcome correctly for only 63% of them.\n",
            "---\n"
          ]
        }
      ]
    },
    {
      "cell_type": "code",
      "source": [
        "models_metrics_results.append({\"model\" : \"Logistic Regression\", \"accuracy\" : accuracy_, \"recall\" : recall_ })"
      ],
      "metadata": {
        "id": "gyRWQW76VXeU"
      },
      "execution_count": 334,
      "outputs": []
    },
    {
      "cell_type": "markdown",
      "source": [
        "### 🤖 Random Forest"
      ],
      "metadata": {
        "id": "UPyulANRsz6n"
      }
    },
    {
      "cell_type": "code",
      "source": [
        "rf= RandomForestClassifier()\n",
        "rf.fit(x_train,y_train)\n",
        "rfpred= rf.predict(x_test)\n",
        "accuracy_score(y_test,rfpred)"
      ],
      "metadata": {
        "colab": {
          "base_uri": "https://localhost:8080/"
        },
        "id": "ru11qAhNSWL1",
        "outputId": "f40febf0-7060-4e1f-c2ce-b48dcef61ec3"
      },
      "execution_count": 335,
      "outputs": [
        {
          "output_type": "execute_result",
          "data": {
            "text/plain": [
              "0.7857142857142857"
            ]
          },
          "metadata": {},
          "execution_count": 335
        }
      ]
    },
    {
      "cell_type": "code",
      "source": [
        "classification_report_and_interpretation(y_test,rfpred)"
      ],
      "metadata": {
        "colab": {
          "base_uri": "https://localhost:8080/"
        },
        "id": "MV38-iQ8PRXl",
        "outputId": "451422ca-0e5d-42d8-b833-dfa95ed33ae9"
      },
      "execution_count": 336,
      "outputs": [
        {
          "output_type": "stream",
          "name": "stdout",
          "text": [
            "              precision    recall  f1-score   support\n",
            "\n",
            "           0       0.83      0.84      0.84       100\n",
            "           1       0.70      0.69      0.69        54\n",
            "\n",
            "    accuracy                           0.79       154\n",
            "   macro avg       0.76      0.76      0.76       154\n",
            "weighted avg       0.78      0.79      0.79       154\n",
            "\n",
            "              precision    recall  f1-score     support\n",
            "0              0.831683  0.840000  0.835821  100.000000\n",
            "1              0.698113  0.685185  0.691589   54.000000\n",
            "accuracy       0.785714  0.785714  0.785714    0.785714\n",
            "macro avg      0.764898  0.762593  0.763705  154.000000\n",
            "weighted avg   0.784847  0.785714  0.785246  154.000000\n",
            "---\n",
            "Precision: Of all the people that the model predicted had diabetes, only 70% actually had it.\n",
            "Recall   : Of all the people with diabetes, the model predicted this outcome correctly for only 69% of them.\n",
            "---\n"
          ]
        },
        {
          "output_type": "execute_result",
          "data": {
            "text/plain": [
              "(0.7857142857142857,\n",
              " 0.6981132075471698,\n",
              " 0.6851851851851852,\n",
              " 0.6915887850467289)"
            ]
          },
          "metadata": {},
          "execution_count": 336
        }
      ]
    },
    {
      "cell_type": "markdown",
      "source": [
        "#### hyperparams tuning..."
      ],
      "metadata": {
        "id": "S-ul8HmuQrUm"
      }
    },
    {
      "cell_type": "code",
      "source": [
        "rf.get_params()"
      ],
      "metadata": {
        "colab": {
          "base_uri": "https://localhost:8080/"
        },
        "id": "UCVaZgLAScFD",
        "outputId": "fb237646-fe03-498f-8723-bbada883a7bf"
      },
      "execution_count": 337,
      "outputs": [
        {
          "output_type": "execute_result",
          "data": {
            "text/plain": [
              "{'bootstrap': True,\n",
              " 'ccp_alpha': 0.0,\n",
              " 'class_weight': None,\n",
              " 'criterion': 'gini',\n",
              " 'max_depth': None,\n",
              " 'max_features': 'auto',\n",
              " 'max_leaf_nodes': None,\n",
              " 'max_samples': None,\n",
              " 'min_impurity_decrease': 0.0,\n",
              " 'min_samples_leaf': 1,\n",
              " 'min_samples_split': 2,\n",
              " 'min_weight_fraction_leaf': 0.0,\n",
              " 'n_estimators': 100,\n",
              " 'n_jobs': None,\n",
              " 'oob_score': False,\n",
              " 'random_state': None,\n",
              " 'verbose': 0,\n",
              " 'warm_start': False}"
            ]
          },
          "metadata": {},
          "execution_count": 337
        }
      ]
    },
    {
      "cell_type": "code",
      "source": [
        "#hyperparameter tuning\n",
        "params={\n",
        "    'max_depth': [80, 90, 100],\n",
        "    'max_features': [2, 3],\n",
        "    'min_samples_leaf': [3, 4, 5],\n",
        "    'min_samples_split': [8, 10, 12],\n",
        "    'n_estimators': [100, 200]\n",
        "}"
      ],
      "metadata": {
        "id": "-8GnKHgFIt3A"
      },
      "execution_count": 338,
      "outputs": []
    },
    {
      "cell_type": "markdown",
      "source": [
        "L'argument `scoring` dans `GridSearchCV` définit la métrique utilisée pour évaluer les modèles et sélectionner les meilleurs hyperparamètres. "
      ],
      "metadata": {
        "id": "Eq5znyGTOUst"
      }
    },
    {
      "cell_type": "code",
      "source": [
        "grid_search = GridSearchCV(estimator = rf, param_grid = params,cv = 5, scoring='recall')\n",
        "grid_search.fit(x_train,y_train)"
      ],
      "metadata": {
        "colab": {
          "base_uri": "https://localhost:8080/"
        },
        "id": "O5NSRvKYIxcI",
        "outputId": "09c6e585-05ca-4124-b079-2fe17677ca63"
      },
      "execution_count": 339,
      "outputs": [
        {
          "output_type": "execute_result",
          "data": {
            "text/plain": [
              "GridSearchCV(cv=5, estimator=RandomForestClassifier(),\n",
              "             param_grid={'max_depth': [80, 90, 100], 'max_features': [2, 3],\n",
              "                         'min_samples_leaf': [3, 4, 5],\n",
              "                         'min_samples_split': [8, 10, 12],\n",
              "                         'n_estimators': [100, 200]},\n",
              "             scoring='recall')"
            ]
          },
          "metadata": {},
          "execution_count": 339
        }
      ]
    },
    {
      "cell_type": "code",
      "source": [
        "grid_search.best_params_"
      ],
      "metadata": {
        "colab": {
          "base_uri": "https://localhost:8080/"
        },
        "id": "DPy-MfUMKVuR",
        "outputId": "a96477b6-7ccc-490b-9d04-f54a00ae3a72"
      },
      "execution_count": 340,
      "outputs": [
        {
          "output_type": "execute_result",
          "data": {
            "text/plain": [
              "{'max_depth': 90,\n",
              " 'max_features': 3,\n",
              " 'min_samples_leaf': 3,\n",
              " 'min_samples_split': 10,\n",
              " 'n_estimators': 100}"
            ]
          },
          "metadata": {},
          "execution_count": 340
        }
      ]
    },
    {
      "cell_type": "code",
      "source": [
        "grid_search.best_score_"
      ],
      "metadata": {
        "colab": {
          "base_uri": "https://localhost:8080/"
        },
        "id": "-rQcxYC9JEsv",
        "outputId": "397dfbe2-bc7d-4dd6-e5bc-13439e34c647"
      },
      "execution_count": 341,
      "outputs": [
        {
          "output_type": "execute_result",
          "data": {
            "text/plain": [
              "0.6027685492801772"
            ]
          },
          "metadata": {},
          "execution_count": 341
        }
      ]
    },
    {
      "cell_type": "markdown",
      "source": [
        "L'attribut `.best_score_` de l'objet GridSearchCV est la meilleure moyenne de la validation croisée pour le modèle avec les meilleurs hyperparamètres trouvés. Cette moyenne est basée sur le score choisi lors de la définition de GridSearchCV en utilisant l'argument `scoring`."
      ],
      "metadata": {
        "id": "yFeAXHlNMyBi"
      }
    },
    {
      "cell_type": "code",
      "source": [
        "# Construire un modèle RandomForest en utilisant les meilleurs hyperparamètres trouvés\n",
        "best_rf = RandomForestClassifier(**grid_search.best_params_)\n",
        "\n",
        "# Entraîner ce nouveau modèle sur toutes les données d'entraînement (pas seulement les données utilisées pour GridSearchCV)\n",
        "best_rf.fit(x_train,y_train)\n",
        "rfpred= best_rf.predict(x_test)\n",
        "accuracy_score(y_test,rfpred)"
      ],
      "metadata": {
        "colab": {
          "base_uri": "https://localhost:8080/"
        },
        "id": "Tp5G7oaSKsU5",
        "outputId": "00407f4b-fdcd-43ad-d884-9995949d770a"
      },
      "execution_count": 342,
      "outputs": [
        {
          "output_type": "execute_result",
          "data": {
            "text/plain": [
              "0.7922077922077922"
            ]
          },
          "metadata": {},
          "execution_count": 342
        }
      ]
    },
    {
      "cell_type": "code",
      "source": [
        "accuracy_, _ , recall_, _ = classification_report_and_interpretation(y_test,rfpred)"
      ],
      "metadata": {
        "colab": {
          "base_uri": "https://localhost:8080/"
        },
        "id": "Ra4v7lsJOAsE",
        "outputId": "e97d416e-0e54-42ca-ae0c-f0347a551172"
      },
      "execution_count": 343,
      "outputs": [
        {
          "output_type": "stream",
          "name": "stdout",
          "text": [
            "              precision    recall  f1-score   support\n",
            "\n",
            "           0       0.83      0.85      0.84       100\n",
            "           1       0.71      0.69      0.70        54\n",
            "\n",
            "    accuracy                           0.79       154\n",
            "   macro avg       0.77      0.77      0.77       154\n",
            "weighted avg       0.79      0.79      0.79       154\n",
            "\n",
            "              precision    recall  f1-score     support\n",
            "0              0.833333  0.850000  0.841584  100.000000\n",
            "1              0.711538  0.685185  0.698113   54.000000\n",
            "accuracy       0.792208  0.792208  0.792208    0.792208\n",
            "macro avg      0.772436  0.767593  0.769849  154.000000\n",
            "weighted avg   0.790626  0.792208  0.791276  154.000000\n",
            "---\n",
            "Precision: Of all the people that the model predicted had diabetes, only 71% actually had it.\n",
            "Recall   : Of all the people with diabetes, the model predicted this outcome correctly for only 69% of them.\n",
            "---\n"
          ]
        }
      ]
    },
    {
      "cell_type": "code",
      "source": [
        "models_metrics_results.append({\"model\" : \"Random Forest\", \"accuracy\" : accuracy_, \"recall\" : recall_ })"
      ],
      "metadata": {
        "id": "OTQ1HdQCVpUq"
      },
      "execution_count": 344,
      "outputs": []
    },
    {
      "cell_type": "markdown",
      "source": [
        "### 🤖 AdaBoost"
      ],
      "metadata": {
        "id": "VXP4fgcePmUK"
      }
    },
    {
      "cell_type": "code",
      "source": [
        "ad=AdaBoostClassifier()\n",
        "ad.fit(x_train,y_train)\n",
        "adpred= ad.predict(x_test)\n",
        "accuracy_score(y_test,adpred)"
      ],
      "metadata": {
        "colab": {
          "base_uri": "https://localhost:8080/"
        },
        "id": "1qpIVirbSGs4",
        "outputId": "cabad782-a4d8-48eb-be77-17fbdd1f39fd"
      },
      "execution_count": 345,
      "outputs": [
        {
          "output_type": "execute_result",
          "data": {
            "text/plain": [
              "0.8181818181818182"
            ]
          },
          "metadata": {},
          "execution_count": 345
        }
      ]
    },
    {
      "cell_type": "code",
      "source": [
        "classification_report_and_interpretation(y_test,adpred)"
      ],
      "metadata": {
        "colab": {
          "base_uri": "https://localhost:8080/"
        },
        "id": "qzhWWUG2Q1Wu",
        "outputId": "f03278a5-a5f2-4b9d-b6e6-c83ed3dcbef9"
      },
      "execution_count": 346,
      "outputs": [
        {
          "output_type": "stream",
          "name": "stdout",
          "text": [
            "              precision    recall  f1-score   support\n",
            "\n",
            "           0       0.85      0.88      0.86       100\n",
            "           1       0.76      0.70      0.73        54\n",
            "\n",
            "    accuracy                           0.82       154\n",
            "   macro avg       0.80      0.79      0.80       154\n",
            "weighted avg       0.82      0.82      0.82       154\n",
            "\n",
            "              precision    recall  f1-score     support\n",
            "0              0.846154  0.880000  0.862745  100.000000\n",
            "1              0.760000  0.703704  0.730769   54.000000\n",
            "accuracy       0.818182  0.818182  0.818182    0.818182\n",
            "macro avg      0.803077  0.791852  0.796757  154.000000\n",
            "weighted avg   0.815944  0.818182  0.816468  154.000000\n",
            "---\n",
            "Precision: Of all the people that the model predicted had diabetes, only 76% actually had it.\n",
            "Recall   : Of all the people with diabetes, the model predicted this outcome correctly for only 70% of them.\n",
            "---\n"
          ]
        },
        {
          "output_type": "execute_result",
          "data": {
            "text/plain": [
              "(0.8181818181818182, 0.76, 0.7037037037037037, 0.7307692307692308)"
            ]
          },
          "metadata": {},
          "execution_count": 346
        }
      ]
    },
    {
      "cell_type": "markdown",
      "source": [
        "#### hyperparams tuning..."
      ],
      "metadata": {
        "id": "YdBaO3IsQlNc"
      }
    },
    {
      "cell_type": "code",
      "source": [
        "ad.get_params()"
      ],
      "metadata": {
        "colab": {
          "base_uri": "https://localhost:8080/"
        },
        "id": "okeVsulJSk3p",
        "outputId": "e07d220b-050f-4fa2-ea8d-ca8d3f6a121d"
      },
      "execution_count": 347,
      "outputs": [
        {
          "output_type": "execute_result",
          "data": {
            "text/plain": [
              "{'algorithm': 'SAMME.R',\n",
              " 'base_estimator': None,\n",
              " 'learning_rate': 1.0,\n",
              " 'n_estimators': 50,\n",
              " 'random_state': None}"
            ]
          },
          "metadata": {},
          "execution_count": 347
        }
      ]
    },
    {
      "cell_type": "code",
      "source": [
        "#hyperparameter tuning\n",
        "params={\n",
        "   \"learning_rate\":[0.2,0.1,0.5,0.8,1.0],\n",
        "   \"n_estimators\": [50,100,150,200]\n",
        "}"
      ],
      "metadata": {
        "id": "LC4n3dIXPwBs"
      },
      "execution_count": 348,
      "outputs": []
    },
    {
      "cell_type": "code",
      "source": [
        "grid_search = GridSearchCV(estimator = ad, param_grid = params,cv = 5, scoring='recall')\n",
        "grid_search.fit(x_train,y_train)"
      ],
      "metadata": {
        "colab": {
          "base_uri": "https://localhost:8080/"
        },
        "id": "twigSkFrQik9",
        "outputId": "44b7fbfb-b24d-4e97-a655-45ba0e62564c"
      },
      "execution_count": 349,
      "outputs": [
        {
          "output_type": "execute_result",
          "data": {
            "text/plain": [
              "GridSearchCV(cv=5, estimator=AdaBoostClassifier(),\n",
              "             param_grid={'learning_rate': [0.2, 0.1, 0.5, 0.8, 1.0],\n",
              "                         'n_estimators': [50, 100, 150, 200]},\n",
              "             scoring='recall')"
            ]
          },
          "metadata": {},
          "execution_count": 349
        }
      ]
    },
    {
      "cell_type": "code",
      "source": [
        "grid_search.best_score_"
      ],
      "metadata": {
        "colab": {
          "base_uri": "https://localhost:8080/"
        },
        "id": "MiPiGokwRkiR",
        "outputId": "68701011-0276-4ed2-865d-438b9d853b73"
      },
      "execution_count": 350,
      "outputs": [
        {
          "output_type": "execute_result",
          "data": {
            "text/plain": [
              "0.5562569213732005"
            ]
          },
          "metadata": {},
          "execution_count": 350
        }
      ]
    },
    {
      "cell_type": "code",
      "source": [
        "grid_search.best_params_"
      ],
      "metadata": {
        "colab": {
          "base_uri": "https://localhost:8080/"
        },
        "id": "ZYdyD_gmS8kT",
        "outputId": "ef296ff2-5e62-4e47-a130-e9ab2377e98f"
      },
      "execution_count": 351,
      "outputs": [
        {
          "output_type": "execute_result",
          "data": {
            "text/plain": [
              "{'learning_rate': 1.0, 'n_estimators': 50}"
            ]
          },
          "metadata": {},
          "execution_count": 351
        }
      ]
    },
    {
      "cell_type": "code",
      "source": [
        "# Construire un modèle RandomForest en utilisant les meilleurs hyperparamètres trouvés\n",
        "best_ad = AdaBoostClassifier(**grid_search.best_params_)\n",
        "\n",
        "# Entraîner ce nouveau modèle sur toutes les données d'entraînement (pas seulement les données utilisées pour GridSearchCV)\n",
        "best_ad.fit(x_train,y_train)\n",
        "adpred= best_ad.predict(x_test)\n",
        "accuracy_score(y_test,adpred)"
      ],
      "metadata": {
        "colab": {
          "base_uri": "https://localhost:8080/"
        },
        "id": "P8PWxad1RaOB",
        "outputId": "5bae7ea8-2a36-47a3-cf36-e69f0372fa64"
      },
      "execution_count": 352,
      "outputs": [
        {
          "output_type": "execute_result",
          "data": {
            "text/plain": [
              "0.8181818181818182"
            ]
          },
          "metadata": {},
          "execution_count": 352
        }
      ]
    },
    {
      "cell_type": "code",
      "source": [
        "accuracy_, _ , recall_, _ = classification_report_and_interpretation(y_test,adpred)"
      ],
      "metadata": {
        "colab": {
          "base_uri": "https://localhost:8080/"
        },
        "id": "WBp_VApHSAwB",
        "outputId": "0f5f4f8e-22a9-43e6-e68e-d9b46ef7d74a"
      },
      "execution_count": 353,
      "outputs": [
        {
          "output_type": "stream",
          "name": "stdout",
          "text": [
            "              precision    recall  f1-score   support\n",
            "\n",
            "           0       0.85      0.88      0.86       100\n",
            "           1       0.76      0.70      0.73        54\n",
            "\n",
            "    accuracy                           0.82       154\n",
            "   macro avg       0.80      0.79      0.80       154\n",
            "weighted avg       0.82      0.82      0.82       154\n",
            "\n",
            "              precision    recall  f1-score     support\n",
            "0              0.846154  0.880000  0.862745  100.000000\n",
            "1              0.760000  0.703704  0.730769   54.000000\n",
            "accuracy       0.818182  0.818182  0.818182    0.818182\n",
            "macro avg      0.803077  0.791852  0.796757  154.000000\n",
            "weighted avg   0.815944  0.818182  0.816468  154.000000\n",
            "---\n",
            "Precision: Of all the people that the model predicted had diabetes, only 76% actually had it.\n",
            "Recall   : Of all the people with diabetes, the model predicted this outcome correctly for only 70% of them.\n",
            "---\n"
          ]
        }
      ]
    },
    {
      "cell_type": "code",
      "source": [
        "models_metrics_results.append({\"model\" : \"AdaBoost\", \"accuracy\" : accuracy_, \"recall\" : recall_ })"
      ],
      "metadata": {
        "id": "pJ5zQ8WAVtti"
      },
      "execution_count": 354,
      "outputs": []
    },
    {
      "cell_type": "markdown",
      "source": [
        "### 🤖 GradientBoosting"
      ],
      "metadata": {
        "id": "qaTamawiTVLH"
      }
    },
    {
      "cell_type": "code",
      "source": [
        "gb= GradientBoostingClassifier()\n",
        "gb.fit(x_train,y_train)\n",
        "gbpred= gb.predict(x_test)\n",
        "accuracy_score(y_test,gbpred)"
      ],
      "metadata": {
        "colab": {
          "base_uri": "https://localhost:8080/"
        },
        "id": "g8TNGQymTib4",
        "outputId": "fefb8727-2ee7-425b-8a1d-c18f9e371d25"
      },
      "execution_count": 355,
      "outputs": [
        {
          "output_type": "execute_result",
          "data": {
            "text/plain": [
              "0.8181818181818182"
            ]
          },
          "metadata": {},
          "execution_count": 355
        }
      ]
    },
    {
      "cell_type": "code",
      "source": [
        "accuracy_, _ , recall_, _ = classification_report_and_interpretation(y_test,gbpred)"
      ],
      "metadata": {
        "colab": {
          "base_uri": "https://localhost:8080/"
        },
        "id": "NKyJ29qYTn4N",
        "outputId": "a0441865-8f92-4296-ef77-75fb8b71f6e0"
      },
      "execution_count": 356,
      "outputs": [
        {
          "output_type": "stream",
          "name": "stdout",
          "text": [
            "              precision    recall  f1-score   support\n",
            "\n",
            "           0       0.83      0.90      0.87       100\n",
            "           1       0.78      0.67      0.72        54\n",
            "\n",
            "    accuracy                           0.82       154\n",
            "   macro avg       0.81      0.78      0.79       154\n",
            "weighted avg       0.82      0.82      0.81       154\n",
            "\n",
            "              precision    recall  f1-score     support\n",
            "0              0.833333  0.900000  0.865385  100.000000\n",
            "1              0.782609  0.666667  0.720000   54.000000\n",
            "accuracy       0.818182  0.818182  0.818182    0.818182\n",
            "macro avg      0.807971  0.783333  0.792692  154.000000\n",
            "weighted avg   0.815547  0.818182  0.814406  154.000000\n",
            "---\n",
            "Precision: Of all the people that the model predicted had diabetes, only 78% actually had it.\n",
            "Recall   : Of all the people with diabetes, the model predicted this outcome correctly for only 67% of them.\n",
            "---\n"
          ]
        }
      ]
    },
    {
      "cell_type": "code",
      "source": [
        "models_metrics_results.append({\"model\" : \"GradientBoosting\", \"accuracy\" : accuracy_, \"recall\" : recall_ })"
      ],
      "metadata": {
        "id": "WOJyiidcVwyU"
      },
      "execution_count": 357,
      "outputs": []
    },
    {
      "cell_type": "markdown",
      "source": [
        "\n",
        "### Compare models"
      ],
      "metadata": {
        "id": "i00shk45TokM"
      }
    },
    {
      "cell_type": "code",
      "source": [
        "dx = pd.DataFrame(models_metrics_results)\n",
        "dx.sort_values(by=\"recall\",inplace=True, ascending=False)# sort by recall\n",
        "dx"
      ],
      "metadata": {
        "colab": {
          "base_uri": "https://localhost:8080/",
          "height": 206
        },
        "id": "wbjOTqzhXG58",
        "outputId": "c8100364-c6e3-457b-d333-ff677e415d03"
      },
      "execution_count": 364,
      "outputs": [
        {
          "output_type": "execute_result",
          "data": {
            "text/plain": [
              "                 model  accuracy    recall\n",
              "0                  KNN  0.831169  0.722222\n",
              "3             AdaBoost  0.818182  0.703704\n",
              "2        Random Forest  0.792208  0.685185\n",
              "4     GradientBoosting  0.818182  0.666667\n",
              "1  Logistic Regression  0.811688  0.629630"
            ],
            "text/html": [
              "\n",
              "  <div id=\"df-e492dbc6-e96e-4fe3-99b9-deda3f017a05\">\n",
              "    <div class=\"colab-df-container\">\n",
              "      <div>\n",
              "<style scoped>\n",
              "    .dataframe tbody tr th:only-of-type {\n",
              "        vertical-align: middle;\n",
              "    }\n",
              "\n",
              "    .dataframe tbody tr th {\n",
              "        vertical-align: top;\n",
              "    }\n",
              "\n",
              "    .dataframe thead th {\n",
              "        text-align: right;\n",
              "    }\n",
              "</style>\n",
              "<table border=\"1\" class=\"dataframe\">\n",
              "  <thead>\n",
              "    <tr style=\"text-align: right;\">\n",
              "      <th></th>\n",
              "      <th>model</th>\n",
              "      <th>accuracy</th>\n",
              "      <th>recall</th>\n",
              "    </tr>\n",
              "  </thead>\n",
              "  <tbody>\n",
              "    <tr>\n",
              "      <th>0</th>\n",
              "      <td>KNN</td>\n",
              "      <td>0.831169</td>\n",
              "      <td>0.722222</td>\n",
              "    </tr>\n",
              "    <tr>\n",
              "      <th>3</th>\n",
              "      <td>AdaBoost</td>\n",
              "      <td>0.818182</td>\n",
              "      <td>0.703704</td>\n",
              "    </tr>\n",
              "    <tr>\n",
              "      <th>2</th>\n",
              "      <td>Random Forest</td>\n",
              "      <td>0.792208</td>\n",
              "      <td>0.685185</td>\n",
              "    </tr>\n",
              "    <tr>\n",
              "      <th>4</th>\n",
              "      <td>GradientBoosting</td>\n",
              "      <td>0.818182</td>\n",
              "      <td>0.666667</td>\n",
              "    </tr>\n",
              "    <tr>\n",
              "      <th>1</th>\n",
              "      <td>Logistic Regression</td>\n",
              "      <td>0.811688</td>\n",
              "      <td>0.629630</td>\n",
              "    </tr>\n",
              "  </tbody>\n",
              "</table>\n",
              "</div>\n",
              "      <button class=\"colab-df-convert\" onclick=\"convertToInteractive('df-e492dbc6-e96e-4fe3-99b9-deda3f017a05')\"\n",
              "              title=\"Convert this dataframe to an interactive table.\"\n",
              "              style=\"display:none;\">\n",
              "        \n",
              "  <svg xmlns=\"http://www.w3.org/2000/svg\" height=\"24px\"viewBox=\"0 0 24 24\"\n",
              "       width=\"24px\">\n",
              "    <path d=\"M0 0h24v24H0V0z\" fill=\"none\"/>\n",
              "    <path d=\"M18.56 5.44l.94 2.06.94-2.06 2.06-.94-2.06-.94-.94-2.06-.94 2.06-2.06.94zm-11 1L8.5 8.5l.94-2.06 2.06-.94-2.06-.94L8.5 2.5l-.94 2.06-2.06.94zm10 10l.94 2.06.94-2.06 2.06-.94-2.06-.94-.94-2.06-.94 2.06-2.06.94z\"/><path d=\"M17.41 7.96l-1.37-1.37c-.4-.4-.92-.59-1.43-.59-.52 0-1.04.2-1.43.59L10.3 9.45l-7.72 7.72c-.78.78-.78 2.05 0 2.83L4 21.41c.39.39.9.59 1.41.59.51 0 1.02-.2 1.41-.59l7.78-7.78 2.81-2.81c.8-.78.8-2.07 0-2.86zM5.41 20L4 18.59l7.72-7.72 1.47 1.35L5.41 20z\"/>\n",
              "  </svg>\n",
              "      </button>\n",
              "      \n",
              "  <style>\n",
              "    .colab-df-container {\n",
              "      display:flex;\n",
              "      flex-wrap:wrap;\n",
              "      gap: 12px;\n",
              "    }\n",
              "\n",
              "    .colab-df-convert {\n",
              "      background-color: #E8F0FE;\n",
              "      border: none;\n",
              "      border-radius: 50%;\n",
              "      cursor: pointer;\n",
              "      display: none;\n",
              "      fill: #1967D2;\n",
              "      height: 32px;\n",
              "      padding: 0 0 0 0;\n",
              "      width: 32px;\n",
              "    }\n",
              "\n",
              "    .colab-df-convert:hover {\n",
              "      background-color: #E2EBFA;\n",
              "      box-shadow: 0px 1px 2px rgba(60, 64, 67, 0.3), 0px 1px 3px 1px rgba(60, 64, 67, 0.15);\n",
              "      fill: #174EA6;\n",
              "    }\n",
              "\n",
              "    [theme=dark] .colab-df-convert {\n",
              "      background-color: #3B4455;\n",
              "      fill: #D2E3FC;\n",
              "    }\n",
              "\n",
              "    [theme=dark] .colab-df-convert:hover {\n",
              "      background-color: #434B5C;\n",
              "      box-shadow: 0px 1px 3px 1px rgba(0, 0, 0, 0.15);\n",
              "      filter: drop-shadow(0px 1px 2px rgba(0, 0, 0, 0.3));\n",
              "      fill: #FFFFFF;\n",
              "    }\n",
              "  </style>\n",
              "\n",
              "      <script>\n",
              "        const buttonEl =\n",
              "          document.querySelector('#df-e492dbc6-e96e-4fe3-99b9-deda3f017a05 button.colab-df-convert');\n",
              "        buttonEl.style.display =\n",
              "          google.colab.kernel.accessAllowed ? 'block' : 'none';\n",
              "\n",
              "        async function convertToInteractive(key) {\n",
              "          const element = document.querySelector('#df-e492dbc6-e96e-4fe3-99b9-deda3f017a05');\n",
              "          const dataTable =\n",
              "            await google.colab.kernel.invokeFunction('convertToInteractive',\n",
              "                                                     [key], {});\n",
              "          if (!dataTable) return;\n",
              "\n",
              "          const docLinkHtml = 'Like what you see? Visit the ' +\n",
              "            '<a target=\"_blank\" href=https://colab.research.google.com/notebooks/data_table.ipynb>data table notebook</a>'\n",
              "            + ' to learn more about interactive tables.';\n",
              "          element.innerHTML = '';\n",
              "          dataTable['output_type'] = 'display_data';\n",
              "          await google.colab.output.renderOutput(dataTable, element);\n",
              "          const docLink = document.createElement('div');\n",
              "          docLink.innerHTML = docLinkHtml;\n",
              "          element.appendChild(docLink);\n",
              "        }\n",
              "      </script>\n",
              "    </div>\n",
              "  </div>\n",
              "  "
            ]
          },
          "metadata": {},
          "execution_count": 364
        }
      ]
    },
    {
      "cell_type": "code",
      "source": [
        "model_colors = px.colors.qualitative.Bold[0:len(dx)]\n",
        "model_colors"
      ],
      "metadata": {
        "colab": {
          "base_uri": "https://localhost:8080/"
        },
        "id": "ttU_FjRMfI1K",
        "outputId": "adad7a04-f6ee-489b-ed81-c23db7c07add"
      },
      "execution_count": 414,
      "outputs": [
        {
          "output_type": "execute_result",
          "data": {
            "text/plain": [
              "['rgb(127, 60, 141)',\n",
              " 'rgb(17, 165, 121)',\n",
              " 'rgb(57, 105, 172)',\n",
              " 'rgb(242, 183, 1)',\n",
              " 'rgb(231, 63, 116)']"
            ]
          },
          "metadata": {},
          "execution_count": 414
        }
      ]
    },
    {
      "cell_type": "code",
      "source": [
        "fig = make_subplots(rows=1, cols=2)\n",
        "\n",
        "fig.add_trace(go.Bar(x=dx[\"model\"], y=dx[\"recall\"], marker=dict(color=model_colors), name=\"Recall\"), 1, 1)\n",
        "\n",
        "fig.add_trace(go.Bar(x=dx[\"model\"], y=dx[\"accuracy\"], marker=dict(color=model_colors), name=\"Acurracy\"), 1, 2)\n",
        "\n",
        "fig.update_layout(coloraxis=dict(colorscale='Bluered_r'),\n",
        "    title=\"Titre du graphique\",\n",
        "    xaxis=dict(title=\"Modèles\",showgrid=False),\n",
        "    yaxis=dict(title=\"Valeur\",showgrid=False),\n",
        "    xaxis2=dict(title=\"Modèles\",showgrid=False),\n",
        "    yaxis2=dict(title=\"Valeur\",showgrid=False),\n",
        "    template=\"ggplot2\",\n",
        "    showlegend=False)\n",
        "fig.show()"
      ],
      "metadata": {
        "colab": {
          "base_uri": "https://localhost:8080/",
          "height": 542
        },
        "id": "fDDnACKnYXdv",
        "outputId": "7c4a020b-6b8f-4abf-9e2a-7539ce449e16"
      },
      "execution_count": 415,
      "outputs": [
        {
          "output_type": "display_data",
          "data": {
            "text/html": [
              "<html>\n",
              "<head><meta charset=\"utf-8\" /></head>\n",
              "<body>\n",
              "    <div>            <script src=\"https://cdnjs.cloudflare.com/ajax/libs/mathjax/2.7.5/MathJax.js?config=TeX-AMS-MML_SVG\"></script><script type=\"text/javascript\">if (window.MathJax) {MathJax.Hub.Config({SVG: {font: \"STIX-Web\"}});}</script>                <script type=\"text/javascript\">window.PlotlyConfig = {MathJaxConfig: 'local'};</script>\n",
              "        <script src=\"https://cdn.plot.ly/plotly-2.8.3.min.js\"></script>                <div id=\"bc001271-5183-4507-bc6d-91f1f98407ac\" class=\"plotly-graph-div\" style=\"height:525px; width:100%;\"></div>            <script type=\"text/javascript\">                                    window.PLOTLYENV=window.PLOTLYENV || {};                                    if (document.getElementById(\"bc001271-5183-4507-bc6d-91f1f98407ac\")) {                    Plotly.newPlot(                        \"bc001271-5183-4507-bc6d-91f1f98407ac\",                        [{\"marker\":{\"color\":[\"rgb(127, 60, 141)\",\"rgb(17, 165, 121)\",\"rgb(57, 105, 172)\",\"rgb(242, 183, 1)\",\"rgb(231, 63, 116)\"]},\"name\":\"Recall\",\"x\":[\"KNN\",\"AdaBoost\",\"Random Forest\",\"GradientBoosting\",\"Logistic Regression\"],\"y\":[0.7222222222222222,0.7037037037037037,0.6851851851851852,0.6666666666666666,0.6296296296296297],\"type\":\"bar\",\"xaxis\":\"x\",\"yaxis\":\"y\"},{\"marker\":{\"color\":[\"rgb(127, 60, 141)\",\"rgb(17, 165, 121)\",\"rgb(57, 105, 172)\",\"rgb(242, 183, 1)\",\"rgb(231, 63, 116)\"]},\"name\":\"Acurracy\",\"x\":[\"KNN\",\"AdaBoost\",\"Random Forest\",\"GradientBoosting\",\"Logistic Regression\"],\"y\":[0.8311688311688312,0.8181818181818182,0.7922077922077922,0.8181818181818182,0.8116883116883117],\"type\":\"bar\",\"xaxis\":\"x2\",\"yaxis\":\"y2\"}],                        {\"template\":{\"data\":{\"barpolar\":[{\"marker\":{\"line\":{\"color\":\"rgb(237,237,237)\",\"width\":0.5},\"pattern\":{\"fillmode\":\"overlay\",\"size\":10,\"solidity\":0.2}},\"type\":\"barpolar\"}],\"bar\":[{\"error_x\":{\"color\":\"rgb(51,51,51)\"},\"error_y\":{\"color\":\"rgb(51,51,51)\"},\"marker\":{\"line\":{\"color\":\"rgb(237,237,237)\",\"width\":0.5},\"pattern\":{\"fillmode\":\"overlay\",\"size\":10,\"solidity\":0.2}},\"type\":\"bar\"}],\"carpet\":[{\"aaxis\":{\"endlinecolor\":\"rgb(51,51,51)\",\"gridcolor\":\"white\",\"linecolor\":\"white\",\"minorgridcolor\":\"white\",\"startlinecolor\":\"rgb(51,51,51)\"},\"baxis\":{\"endlinecolor\":\"rgb(51,51,51)\",\"gridcolor\":\"white\",\"linecolor\":\"white\",\"minorgridcolor\":\"white\",\"startlinecolor\":\"rgb(51,51,51)\"},\"type\":\"carpet\"}],\"choropleth\":[{\"colorbar\":{\"outlinewidth\":0,\"tickcolor\":\"rgb(237,237,237)\",\"ticklen\":6,\"ticks\":\"inside\"},\"type\":\"choropleth\"}],\"contourcarpet\":[{\"colorbar\":{\"outlinewidth\":0,\"tickcolor\":\"rgb(237,237,237)\",\"ticklen\":6,\"ticks\":\"inside\"},\"type\":\"contourcarpet\"}],\"contour\":[{\"colorbar\":{\"outlinewidth\":0,\"tickcolor\":\"rgb(237,237,237)\",\"ticklen\":6,\"ticks\":\"inside\"},\"colorscale\":[[0,\"rgb(20,44,66)\"],[1,\"rgb(90,179,244)\"]],\"type\":\"contour\"}],\"heatmapgl\":[{\"colorbar\":{\"outlinewidth\":0,\"tickcolor\":\"rgb(237,237,237)\",\"ticklen\":6,\"ticks\":\"inside\"},\"colorscale\":[[0,\"rgb(20,44,66)\"],[1,\"rgb(90,179,244)\"]],\"type\":\"heatmapgl\"}],\"heatmap\":[{\"colorbar\":{\"outlinewidth\":0,\"tickcolor\":\"rgb(237,237,237)\",\"ticklen\":6,\"ticks\":\"inside\"},\"colorscale\":[[0,\"rgb(20,44,66)\"],[1,\"rgb(90,179,244)\"]],\"type\":\"heatmap\"}],\"histogram2dcontour\":[{\"colorbar\":{\"outlinewidth\":0,\"tickcolor\":\"rgb(237,237,237)\",\"ticklen\":6,\"ticks\":\"inside\"},\"colorscale\":[[0,\"rgb(20,44,66)\"],[1,\"rgb(90,179,244)\"]],\"type\":\"histogram2dcontour\"}],\"histogram2d\":[{\"colorbar\":{\"outlinewidth\":0,\"tickcolor\":\"rgb(237,237,237)\",\"ticklen\":6,\"ticks\":\"inside\"},\"colorscale\":[[0,\"rgb(20,44,66)\"],[1,\"rgb(90,179,244)\"]],\"type\":\"histogram2d\"}],\"histogram\":[{\"marker\":{\"pattern\":{\"fillmode\":\"overlay\",\"size\":10,\"solidity\":0.2}},\"type\":\"histogram\"}],\"mesh3d\":[{\"colorbar\":{\"outlinewidth\":0,\"tickcolor\":\"rgb(237,237,237)\",\"ticklen\":6,\"ticks\":\"inside\"},\"type\":\"mesh3d\"}],\"parcoords\":[{\"line\":{\"colorbar\":{\"outlinewidth\":0,\"tickcolor\":\"rgb(237,237,237)\",\"ticklen\":6,\"ticks\":\"inside\"}},\"type\":\"parcoords\"}],\"pie\":[{\"automargin\":true,\"type\":\"pie\"}],\"scatter3d\":[{\"line\":{\"colorbar\":{\"outlinewidth\":0,\"tickcolor\":\"rgb(237,237,237)\",\"ticklen\":6,\"ticks\":\"inside\"}},\"marker\":{\"colorbar\":{\"outlinewidth\":0,\"tickcolor\":\"rgb(237,237,237)\",\"ticklen\":6,\"ticks\":\"inside\"}},\"type\":\"scatter3d\"}],\"scattercarpet\":[{\"marker\":{\"colorbar\":{\"outlinewidth\":0,\"tickcolor\":\"rgb(237,237,237)\",\"ticklen\":6,\"ticks\":\"inside\"}},\"type\":\"scattercarpet\"}],\"scattergeo\":[{\"marker\":{\"colorbar\":{\"outlinewidth\":0,\"tickcolor\":\"rgb(237,237,237)\",\"ticklen\":6,\"ticks\":\"inside\"}},\"type\":\"scattergeo\"}],\"scattergl\":[{\"marker\":{\"colorbar\":{\"outlinewidth\":0,\"tickcolor\":\"rgb(237,237,237)\",\"ticklen\":6,\"ticks\":\"inside\"}},\"type\":\"scattergl\"}],\"scattermapbox\":[{\"marker\":{\"colorbar\":{\"outlinewidth\":0,\"tickcolor\":\"rgb(237,237,237)\",\"ticklen\":6,\"ticks\":\"inside\"}},\"type\":\"scattermapbox\"}],\"scatterpolargl\":[{\"marker\":{\"colorbar\":{\"outlinewidth\":0,\"tickcolor\":\"rgb(237,237,237)\",\"ticklen\":6,\"ticks\":\"inside\"}},\"type\":\"scatterpolargl\"}],\"scatterpolar\":[{\"marker\":{\"colorbar\":{\"outlinewidth\":0,\"tickcolor\":\"rgb(237,237,237)\",\"ticklen\":6,\"ticks\":\"inside\"}},\"type\":\"scatterpolar\"}],\"scatter\":[{\"marker\":{\"colorbar\":{\"outlinewidth\":0,\"tickcolor\":\"rgb(237,237,237)\",\"ticklen\":6,\"ticks\":\"inside\"}},\"type\":\"scatter\"}],\"scatterternary\":[{\"marker\":{\"colorbar\":{\"outlinewidth\":0,\"tickcolor\":\"rgb(237,237,237)\",\"ticklen\":6,\"ticks\":\"inside\"}},\"type\":\"scatterternary\"}],\"surface\":[{\"colorbar\":{\"outlinewidth\":0,\"tickcolor\":\"rgb(237,237,237)\",\"ticklen\":6,\"ticks\":\"inside\"},\"colorscale\":[[0,\"rgb(20,44,66)\"],[1,\"rgb(90,179,244)\"]],\"type\":\"surface\"}],\"table\":[{\"cells\":{\"fill\":{\"color\":\"rgb(237,237,237)\"},\"line\":{\"color\":\"white\"}},\"header\":{\"fill\":{\"color\":\"rgb(217,217,217)\"},\"line\":{\"color\":\"white\"}},\"type\":\"table\"}]},\"layout\":{\"annotationdefaults\":{\"arrowhead\":0,\"arrowwidth\":1},\"autotypenumbers\":\"strict\",\"coloraxis\":{\"colorbar\":{\"outlinewidth\":0,\"tickcolor\":\"rgb(237,237,237)\",\"ticklen\":6,\"ticks\":\"inside\"}},\"colorscale\":{\"sequential\":[[0,\"rgb(20,44,66)\"],[1,\"rgb(90,179,244)\"]],\"sequentialminus\":[[0,\"rgb(20,44,66)\"],[1,\"rgb(90,179,244)\"]]},\"colorway\":[\"#F8766D\",\"#A3A500\",\"#00BF7D\",\"#00B0F6\",\"#E76BF3\"],\"font\":{\"color\":\"rgb(51,51,51)\"},\"geo\":{\"bgcolor\":\"white\",\"lakecolor\":\"white\",\"landcolor\":\"rgb(237,237,237)\",\"showlakes\":true,\"showland\":true,\"subunitcolor\":\"white\"},\"hoverlabel\":{\"align\":\"left\"},\"hovermode\":\"closest\",\"paper_bgcolor\":\"white\",\"plot_bgcolor\":\"rgb(237,237,237)\",\"polar\":{\"angularaxis\":{\"gridcolor\":\"white\",\"linecolor\":\"white\",\"showgrid\":true,\"tickcolor\":\"rgb(51,51,51)\",\"ticks\":\"outside\"},\"bgcolor\":\"rgb(237,237,237)\",\"radialaxis\":{\"gridcolor\":\"white\",\"linecolor\":\"white\",\"showgrid\":true,\"tickcolor\":\"rgb(51,51,51)\",\"ticks\":\"outside\"}},\"scene\":{\"xaxis\":{\"backgroundcolor\":\"rgb(237,237,237)\",\"gridcolor\":\"white\",\"gridwidth\":2,\"linecolor\":\"white\",\"showbackground\":true,\"showgrid\":true,\"tickcolor\":\"rgb(51,51,51)\",\"ticks\":\"outside\",\"zerolinecolor\":\"white\"},\"yaxis\":{\"backgroundcolor\":\"rgb(237,237,237)\",\"gridcolor\":\"white\",\"gridwidth\":2,\"linecolor\":\"white\",\"showbackground\":true,\"showgrid\":true,\"tickcolor\":\"rgb(51,51,51)\",\"ticks\":\"outside\",\"zerolinecolor\":\"white\"},\"zaxis\":{\"backgroundcolor\":\"rgb(237,237,237)\",\"gridcolor\":\"white\",\"gridwidth\":2,\"linecolor\":\"white\",\"showbackground\":true,\"showgrid\":true,\"tickcolor\":\"rgb(51,51,51)\",\"ticks\":\"outside\",\"zerolinecolor\":\"white\"}},\"shapedefaults\":{\"fillcolor\":\"black\",\"line\":{\"width\":0},\"opacity\":0.3},\"ternary\":{\"aaxis\":{\"gridcolor\":\"white\",\"linecolor\":\"white\",\"showgrid\":true,\"tickcolor\":\"rgb(51,51,51)\",\"ticks\":\"outside\"},\"baxis\":{\"gridcolor\":\"white\",\"linecolor\":\"white\",\"showgrid\":true,\"tickcolor\":\"rgb(51,51,51)\",\"ticks\":\"outside\"},\"bgcolor\":\"rgb(237,237,237)\",\"caxis\":{\"gridcolor\":\"white\",\"linecolor\":\"white\",\"showgrid\":true,\"tickcolor\":\"rgb(51,51,51)\",\"ticks\":\"outside\"}},\"xaxis\":{\"automargin\":true,\"gridcolor\":\"white\",\"linecolor\":\"white\",\"showgrid\":true,\"tickcolor\":\"rgb(51,51,51)\",\"ticks\":\"outside\",\"title\":{\"standoff\":15},\"zerolinecolor\":\"white\"},\"yaxis\":{\"automargin\":true,\"gridcolor\":\"white\",\"linecolor\":\"white\",\"showgrid\":true,\"tickcolor\":\"rgb(51,51,51)\",\"ticks\":\"outside\",\"title\":{\"standoff\":15},\"zerolinecolor\":\"white\"}}},\"xaxis\":{\"anchor\":\"y\",\"domain\":[0.0,0.45],\"title\":{\"text\":\"Mod\\u00e8les\"},\"showgrid\":false},\"yaxis\":{\"anchor\":\"x\",\"domain\":[0.0,1.0],\"title\":{\"text\":\"Valeur\"},\"showgrid\":false},\"xaxis2\":{\"anchor\":\"y2\",\"domain\":[0.55,1.0],\"title\":{\"text\":\"Mod\\u00e8les\"},\"showgrid\":false},\"yaxis2\":{\"anchor\":\"x2\",\"domain\":[0.0,1.0],\"title\":{\"text\":\"Valeur\"},\"showgrid\":false},\"coloraxis\":{\"colorscale\":[[0.0,\"rgb(255,0,0)\"],[1.0,\"rgb(0,0,255)\"]]},\"title\":{\"text\":\"Titre du graphique\"},\"showlegend\":false},                        {\"responsive\": true}                    ).then(function(){\n",
              "                            \n",
              "var gd = document.getElementById('bc001271-5183-4507-bc6d-91f1f98407ac');\n",
              "var x = new MutationObserver(function (mutations, observer) {{\n",
              "        var display = window.getComputedStyle(gd).display;\n",
              "        if (!display || display === 'none') {{\n",
              "            console.log([gd, 'removed!']);\n",
              "            Plotly.purge(gd);\n",
              "            observer.disconnect();\n",
              "        }}\n",
              "}});\n",
              "\n",
              "// Listen for the removal of the full notebook cells\n",
              "var notebookContainer = gd.closest('#notebook-container');\n",
              "if (notebookContainer) {{\n",
              "    x.observe(notebookContainer, {childList: true});\n",
              "}}\n",
              "\n",
              "// Listen for the clearing of the current output cell\n",
              "var outputEl = gd.closest('.output');\n",
              "if (outputEl) {{\n",
              "    x.observe(outputEl, {childList: true});\n",
              "}}\n",
              "\n",
              "                        })                };                            </script>        </div>\n",
              "</body>\n",
              "</html>"
            ]
          },
          "metadata": {}
        }
      ]
    },
    {
      "cell_type": "code",
      "source": [
        "fig = go.Figure(go.Scatter(x=dx[\"recall\"], y=dx[\"accuracy\"], mode=\"markers\",text=dx[\"model\"],\n",
        "    marker=dict(\n",
        "        size=35,\n",
        "        color=model_colors\n",
        "    )))\n",
        "\n",
        "fig.update_layout(\n",
        "    title=\"Models performance\",\n",
        "    xaxis=dict(title=\"Recall\", showgrid=False),\n",
        "    yaxis=dict(title=\"Accuracy\", showgrid=False),\n",
        "    template=\"ggplot2\"\n",
        ")\n",
        "fig.show()"
      ],
      "metadata": {
        "colab": {
          "base_uri": "https://localhost:8080/",
          "height": 542
        },
        "id": "bC6DBd15dTkZ",
        "outputId": "9e14a28c-9c3f-4548-9111-1c9862ba571b"
      },
      "execution_count": 418,
      "outputs": [
        {
          "output_type": "display_data",
          "data": {
            "text/html": [
              "<html>\n",
              "<head><meta charset=\"utf-8\" /></head>\n",
              "<body>\n",
              "    <div>            <script src=\"https://cdnjs.cloudflare.com/ajax/libs/mathjax/2.7.5/MathJax.js?config=TeX-AMS-MML_SVG\"></script><script type=\"text/javascript\">if (window.MathJax) {MathJax.Hub.Config({SVG: {font: \"STIX-Web\"}});}</script>                <script type=\"text/javascript\">window.PlotlyConfig = {MathJaxConfig: 'local'};</script>\n",
              "        <script src=\"https://cdn.plot.ly/plotly-2.8.3.min.js\"></script>                <div id=\"0a5f5f93-7cc0-42e3-b95b-d21744de572f\" class=\"plotly-graph-div\" style=\"height:525px; width:100%;\"></div>            <script type=\"text/javascript\">                                    window.PLOTLYENV=window.PLOTLYENV || {};                                    if (document.getElementById(\"0a5f5f93-7cc0-42e3-b95b-d21744de572f\")) {                    Plotly.newPlot(                        \"0a5f5f93-7cc0-42e3-b95b-d21744de572f\",                        [{\"marker\":{\"color\":[\"rgb(127, 60, 141)\",\"rgb(17, 165, 121)\",\"rgb(57, 105, 172)\",\"rgb(242, 183, 1)\",\"rgb(231, 63, 116)\"],\"size\":35},\"mode\":\"markers\",\"text\":[\"KNN\",\"AdaBoost\",\"Random Forest\",\"GradientBoosting\",\"Logistic Regression\"],\"x\":[0.7222222222222222,0.7037037037037037,0.6851851851851852,0.6666666666666666,0.6296296296296297],\"y\":[0.8311688311688312,0.8181818181818182,0.7922077922077922,0.8181818181818182,0.8116883116883117],\"type\":\"scatter\"}],                        {\"template\":{\"data\":{\"barpolar\":[{\"marker\":{\"line\":{\"color\":\"rgb(237,237,237)\",\"width\":0.5},\"pattern\":{\"fillmode\":\"overlay\",\"size\":10,\"solidity\":0.2}},\"type\":\"barpolar\"}],\"bar\":[{\"error_x\":{\"color\":\"rgb(51,51,51)\"},\"error_y\":{\"color\":\"rgb(51,51,51)\"},\"marker\":{\"line\":{\"color\":\"rgb(237,237,237)\",\"width\":0.5},\"pattern\":{\"fillmode\":\"overlay\",\"size\":10,\"solidity\":0.2}},\"type\":\"bar\"}],\"carpet\":[{\"aaxis\":{\"endlinecolor\":\"rgb(51,51,51)\",\"gridcolor\":\"white\",\"linecolor\":\"white\",\"minorgridcolor\":\"white\",\"startlinecolor\":\"rgb(51,51,51)\"},\"baxis\":{\"endlinecolor\":\"rgb(51,51,51)\",\"gridcolor\":\"white\",\"linecolor\":\"white\",\"minorgridcolor\":\"white\",\"startlinecolor\":\"rgb(51,51,51)\"},\"type\":\"carpet\"}],\"choropleth\":[{\"colorbar\":{\"outlinewidth\":0,\"tickcolor\":\"rgb(237,237,237)\",\"ticklen\":6,\"ticks\":\"inside\"},\"type\":\"choropleth\"}],\"contourcarpet\":[{\"colorbar\":{\"outlinewidth\":0,\"tickcolor\":\"rgb(237,237,237)\",\"ticklen\":6,\"ticks\":\"inside\"},\"type\":\"contourcarpet\"}],\"contour\":[{\"colorbar\":{\"outlinewidth\":0,\"tickcolor\":\"rgb(237,237,237)\",\"ticklen\":6,\"ticks\":\"inside\"},\"colorscale\":[[0,\"rgb(20,44,66)\"],[1,\"rgb(90,179,244)\"]],\"type\":\"contour\"}],\"heatmapgl\":[{\"colorbar\":{\"outlinewidth\":0,\"tickcolor\":\"rgb(237,237,237)\",\"ticklen\":6,\"ticks\":\"inside\"},\"colorscale\":[[0,\"rgb(20,44,66)\"],[1,\"rgb(90,179,244)\"]],\"type\":\"heatmapgl\"}],\"heatmap\":[{\"colorbar\":{\"outlinewidth\":0,\"tickcolor\":\"rgb(237,237,237)\",\"ticklen\":6,\"ticks\":\"inside\"},\"colorscale\":[[0,\"rgb(20,44,66)\"],[1,\"rgb(90,179,244)\"]],\"type\":\"heatmap\"}],\"histogram2dcontour\":[{\"colorbar\":{\"outlinewidth\":0,\"tickcolor\":\"rgb(237,237,237)\",\"ticklen\":6,\"ticks\":\"inside\"},\"colorscale\":[[0,\"rgb(20,44,66)\"],[1,\"rgb(90,179,244)\"]],\"type\":\"histogram2dcontour\"}],\"histogram2d\":[{\"colorbar\":{\"outlinewidth\":0,\"tickcolor\":\"rgb(237,237,237)\",\"ticklen\":6,\"ticks\":\"inside\"},\"colorscale\":[[0,\"rgb(20,44,66)\"],[1,\"rgb(90,179,244)\"]],\"type\":\"histogram2d\"}],\"histogram\":[{\"marker\":{\"pattern\":{\"fillmode\":\"overlay\",\"size\":10,\"solidity\":0.2}},\"type\":\"histogram\"}],\"mesh3d\":[{\"colorbar\":{\"outlinewidth\":0,\"tickcolor\":\"rgb(237,237,237)\",\"ticklen\":6,\"ticks\":\"inside\"},\"type\":\"mesh3d\"}],\"parcoords\":[{\"line\":{\"colorbar\":{\"outlinewidth\":0,\"tickcolor\":\"rgb(237,237,237)\",\"ticklen\":6,\"ticks\":\"inside\"}},\"type\":\"parcoords\"}],\"pie\":[{\"automargin\":true,\"type\":\"pie\"}],\"scatter3d\":[{\"line\":{\"colorbar\":{\"outlinewidth\":0,\"tickcolor\":\"rgb(237,237,237)\",\"ticklen\":6,\"ticks\":\"inside\"}},\"marker\":{\"colorbar\":{\"outlinewidth\":0,\"tickcolor\":\"rgb(237,237,237)\",\"ticklen\":6,\"ticks\":\"inside\"}},\"type\":\"scatter3d\"}],\"scattercarpet\":[{\"marker\":{\"colorbar\":{\"outlinewidth\":0,\"tickcolor\":\"rgb(237,237,237)\",\"ticklen\":6,\"ticks\":\"inside\"}},\"type\":\"scattercarpet\"}],\"scattergeo\":[{\"marker\":{\"colorbar\":{\"outlinewidth\":0,\"tickcolor\":\"rgb(237,237,237)\",\"ticklen\":6,\"ticks\":\"inside\"}},\"type\":\"scattergeo\"}],\"scattergl\":[{\"marker\":{\"colorbar\":{\"outlinewidth\":0,\"tickcolor\":\"rgb(237,237,237)\",\"ticklen\":6,\"ticks\":\"inside\"}},\"type\":\"scattergl\"}],\"scattermapbox\":[{\"marker\":{\"colorbar\":{\"outlinewidth\":0,\"tickcolor\":\"rgb(237,237,237)\",\"ticklen\":6,\"ticks\":\"inside\"}},\"type\":\"scattermapbox\"}],\"scatterpolargl\":[{\"marker\":{\"colorbar\":{\"outlinewidth\":0,\"tickcolor\":\"rgb(237,237,237)\",\"ticklen\":6,\"ticks\":\"inside\"}},\"type\":\"scatterpolargl\"}],\"scatterpolar\":[{\"marker\":{\"colorbar\":{\"outlinewidth\":0,\"tickcolor\":\"rgb(237,237,237)\",\"ticklen\":6,\"ticks\":\"inside\"}},\"type\":\"scatterpolar\"}],\"scatter\":[{\"marker\":{\"colorbar\":{\"outlinewidth\":0,\"tickcolor\":\"rgb(237,237,237)\",\"ticklen\":6,\"ticks\":\"inside\"}},\"type\":\"scatter\"}],\"scatterternary\":[{\"marker\":{\"colorbar\":{\"outlinewidth\":0,\"tickcolor\":\"rgb(237,237,237)\",\"ticklen\":6,\"ticks\":\"inside\"}},\"type\":\"scatterternary\"}],\"surface\":[{\"colorbar\":{\"outlinewidth\":0,\"tickcolor\":\"rgb(237,237,237)\",\"ticklen\":6,\"ticks\":\"inside\"},\"colorscale\":[[0,\"rgb(20,44,66)\"],[1,\"rgb(90,179,244)\"]],\"type\":\"surface\"}],\"table\":[{\"cells\":{\"fill\":{\"color\":\"rgb(237,237,237)\"},\"line\":{\"color\":\"white\"}},\"header\":{\"fill\":{\"color\":\"rgb(217,217,217)\"},\"line\":{\"color\":\"white\"}},\"type\":\"table\"}]},\"layout\":{\"annotationdefaults\":{\"arrowhead\":0,\"arrowwidth\":1},\"autotypenumbers\":\"strict\",\"coloraxis\":{\"colorbar\":{\"outlinewidth\":0,\"tickcolor\":\"rgb(237,237,237)\",\"ticklen\":6,\"ticks\":\"inside\"}},\"colorscale\":{\"sequential\":[[0,\"rgb(20,44,66)\"],[1,\"rgb(90,179,244)\"]],\"sequentialminus\":[[0,\"rgb(20,44,66)\"],[1,\"rgb(90,179,244)\"]]},\"colorway\":[\"#F8766D\",\"#A3A500\",\"#00BF7D\",\"#00B0F6\",\"#E76BF3\"],\"font\":{\"color\":\"rgb(51,51,51)\"},\"geo\":{\"bgcolor\":\"white\",\"lakecolor\":\"white\",\"landcolor\":\"rgb(237,237,237)\",\"showlakes\":true,\"showland\":true,\"subunitcolor\":\"white\"},\"hoverlabel\":{\"align\":\"left\"},\"hovermode\":\"closest\",\"paper_bgcolor\":\"white\",\"plot_bgcolor\":\"rgb(237,237,237)\",\"polar\":{\"angularaxis\":{\"gridcolor\":\"white\",\"linecolor\":\"white\",\"showgrid\":true,\"tickcolor\":\"rgb(51,51,51)\",\"ticks\":\"outside\"},\"bgcolor\":\"rgb(237,237,237)\",\"radialaxis\":{\"gridcolor\":\"white\",\"linecolor\":\"white\",\"showgrid\":true,\"tickcolor\":\"rgb(51,51,51)\",\"ticks\":\"outside\"}},\"scene\":{\"xaxis\":{\"backgroundcolor\":\"rgb(237,237,237)\",\"gridcolor\":\"white\",\"gridwidth\":2,\"linecolor\":\"white\",\"showbackground\":true,\"showgrid\":true,\"tickcolor\":\"rgb(51,51,51)\",\"ticks\":\"outside\",\"zerolinecolor\":\"white\"},\"yaxis\":{\"backgroundcolor\":\"rgb(237,237,237)\",\"gridcolor\":\"white\",\"gridwidth\":2,\"linecolor\":\"white\",\"showbackground\":true,\"showgrid\":true,\"tickcolor\":\"rgb(51,51,51)\",\"ticks\":\"outside\",\"zerolinecolor\":\"white\"},\"zaxis\":{\"backgroundcolor\":\"rgb(237,237,237)\",\"gridcolor\":\"white\",\"gridwidth\":2,\"linecolor\":\"white\",\"showbackground\":true,\"showgrid\":true,\"tickcolor\":\"rgb(51,51,51)\",\"ticks\":\"outside\",\"zerolinecolor\":\"white\"}},\"shapedefaults\":{\"fillcolor\":\"black\",\"line\":{\"width\":0},\"opacity\":0.3},\"ternary\":{\"aaxis\":{\"gridcolor\":\"white\",\"linecolor\":\"white\",\"showgrid\":true,\"tickcolor\":\"rgb(51,51,51)\",\"ticks\":\"outside\"},\"baxis\":{\"gridcolor\":\"white\",\"linecolor\":\"white\",\"showgrid\":true,\"tickcolor\":\"rgb(51,51,51)\",\"ticks\":\"outside\"},\"bgcolor\":\"rgb(237,237,237)\",\"caxis\":{\"gridcolor\":\"white\",\"linecolor\":\"white\",\"showgrid\":true,\"tickcolor\":\"rgb(51,51,51)\",\"ticks\":\"outside\"}},\"xaxis\":{\"automargin\":true,\"gridcolor\":\"white\",\"linecolor\":\"white\",\"showgrid\":true,\"tickcolor\":\"rgb(51,51,51)\",\"ticks\":\"outside\",\"title\":{\"standoff\":15},\"zerolinecolor\":\"white\"},\"yaxis\":{\"automargin\":true,\"gridcolor\":\"white\",\"linecolor\":\"white\",\"showgrid\":true,\"tickcolor\":\"rgb(51,51,51)\",\"ticks\":\"outside\",\"title\":{\"standoff\":15},\"zerolinecolor\":\"white\"}}},\"xaxis\":{\"title\":{\"text\":\"Recall\"},\"showgrid\":false},\"yaxis\":{\"title\":{\"text\":\"Accuracy\"},\"showgrid\":false},\"title\":{\"text\":\"Models performance\"}},                        {\"responsive\": true}                    ).then(function(){\n",
              "                            \n",
              "var gd = document.getElementById('0a5f5f93-7cc0-42e3-b95b-d21744de572f');\n",
              "var x = new MutationObserver(function (mutations, observer) {{\n",
              "        var display = window.getComputedStyle(gd).display;\n",
              "        if (!display || display === 'none') {{\n",
              "            console.log([gd, 'removed!']);\n",
              "            Plotly.purge(gd);\n",
              "            observer.disconnect();\n",
              "        }}\n",
              "}});\n",
              "\n",
              "// Listen for the removal of the full notebook cells\n",
              "var notebookContainer = gd.closest('#notebook-container');\n",
              "if (notebookContainer) {{\n",
              "    x.observe(notebookContainer, {childList: true});\n",
              "}}\n",
              "\n",
              "// Listen for the clearing of the current output cell\n",
              "var outputEl = gd.closest('.output');\n",
              "if (outputEl) {{\n",
              "    x.observe(outputEl, {childList: true});\n",
              "}}\n",
              "\n",
              "                        })                };                            </script>        </div>\n",
              "</body>\n",
              "</html>"
            ]
          },
          "metadata": {}
        }
      ]
    },
    {
      "cell_type": "markdown",
      "source": [
        "# TODO\n",
        "\n",
        "- sur le training afficher la vrai valeur et la prédiction pour voir les biais, voir ce qu'il arrive à bien classifier, esayer de comprendre pk ça il arrive bien a class, donne des pitestes\n",
        "\n",
        "- The scores and models can be further improved using hyperparameter tuning with different parameters\n",
        "\n"
      ],
      "metadata": {
        "id": "v2ofbqbWW9Zu"
      }
    },
    {
      "cell_type": "markdown",
      "source": [
        "## Data Augmentation ?"
      ],
      "metadata": {
        "id": "MTBSqvpcsdMk"
      }
    }
  ]
}