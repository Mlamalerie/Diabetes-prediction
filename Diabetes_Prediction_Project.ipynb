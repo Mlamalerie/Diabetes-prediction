{
  "nbformat": 4,
  "nbformat_minor": 0,
  "metadata": {
    "colab": {
      "provenance": [],
      "toc_visible": true,
      "authorship_tag": "ABX9TyO7z8F9Ws0T3tisbrDzhQwY",
      "include_colab_link": true
    },
    "kernelspec": {
      "name": "python3",
      "display_name": "Python 3"
    },
    "language_info": {
      "name": "python"
    }
  },
  "cells": [
    {
      "cell_type": "markdown",
      "metadata": {
        "id": "view-in-github",
        "colab_type": "text"
      },
      "source": [
        "<a href=\"https://colab.research.google.com/github/Mlamalerie/Diabetes-prediction/blob/main/Diabetes_Prediction_Project.ipynb\" target=\"_parent\"><img src=\"https://colab.research.google.com/assets/colab-badge.svg\" alt=\"Open In Colab\"/></a>"
      ]
    },
    {
      "cell_type": "code",
      "execution_count": 424,
      "metadata": {
        "colab": {
          "base_uri": "https://localhost:8080/"
        },
        "id": "IXUUu2gvKKbm",
        "outputId": "c1283809-24d4-4115-e7fb-5c317bd0eaf0"
      },
      "outputs": [
        {
          "output_type": "stream",
          "name": "stdout",
          "text": [
            "Drive already mounted at /content/gdrive; to attempt to forcibly remount, call drive.mount(\"/content/gdrive\", force_remount=True).\n"
          ]
        }
      ],
      "source": [
        "from google.colab import drive\n",
        "drive.mount('/content/gdrive')"
      ]
    },
    {
      "cell_type": "code",
      "source": [
        "WORKSPACE_PATH = \"/content/gdrive/Shareddrives/ING3 (2022-23) Mlamali/22 • Big Data/Project Evaluation ML\""
      ],
      "metadata": {
        "id": "ni0WhRvRMOQy"
      },
      "execution_count": 425,
      "outputs": []
    },
    {
      "cell_type": "markdown",
      "source": [
        "# Diabetes Prediction\n",
        "\n",
        "> Diabetes is a disease that occurs when your blood glucose, also called blood sugar, is too high. Blood glucose is your main source of energy and comes from the food you eat. Insulin, a hormone made by the pancreas, helps glucose from food get into your cells to be used for energy. Sometimes your body doesn’t make enough—or any—insulin or doesn’t use insulin well. Glucose then stays in your blood and doesn’t reach your cells.\n",
        "\n",
        "\n",
        "Can you build a machine learning model to accurately **predict whether or not the patients in the dataset have diabetes or not?**\n"
      ],
      "metadata": {
        "id": "k1yIiVX6O8e6"
      }
    },
    {
      "cell_type": "markdown",
      "source": [
        "## Import librairies"
      ],
      "metadata": {
        "id": "AjL3TorHq48i"
      }
    },
    {
      "cell_type": "code",
      "source": [
        "!pip install lazypredict"
      ],
      "metadata": {
        "colab": {
          "base_uri": "https://localhost:8080/"
        },
        "id": "zsAMoQNIpI69",
        "outputId": "28ab44db-48c7-44ec-a976-04a9dd5326b8"
      },
      "execution_count": 426,
      "outputs": [
        {
          "output_type": "stream",
          "name": "stdout",
          "text": [
            "Looking in indexes: https://pypi.org/simple, https://us-python.pkg.dev/colab-wheels/public/simple/\n",
            "Requirement already satisfied: lazypredict in /usr/local/lib/python3.8/dist-packages (0.2.12)\n",
            "Requirement already satisfied: click in /usr/local/lib/python3.8/dist-packages (from lazypredict) (7.1.2)\n",
            "Requirement already satisfied: xgboost in /usr/local/lib/python3.8/dist-packages (from lazypredict) (0.90)\n",
            "Requirement already satisfied: scikit-learn in /usr/local/lib/python3.8/dist-packages (from lazypredict) (1.0.2)\n",
            "Requirement already satisfied: lightgbm in /usr/local/lib/python3.8/dist-packages (from lazypredict) (2.2.3)\n",
            "Requirement already satisfied: pandas in /usr/local/lib/python3.8/dist-packages (from lazypredict) (1.3.5)\n",
            "Requirement already satisfied: joblib in /usr/local/lib/python3.8/dist-packages (from lazypredict) (1.2.0)\n",
            "Requirement already satisfied: tqdm in /usr/local/lib/python3.8/dist-packages (from lazypredict) (4.64.1)\n",
            "Requirement already satisfied: scipy in /usr/local/lib/python3.8/dist-packages (from lightgbm->lazypredict) (1.7.3)\n",
            "Requirement already satisfied: numpy in /usr/local/lib/python3.8/dist-packages (from lightgbm->lazypredict) (1.21.6)\n",
            "Requirement already satisfied: python-dateutil>=2.7.3 in /usr/local/lib/python3.8/dist-packages (from pandas->lazypredict) (2.8.2)\n",
            "Requirement already satisfied: pytz>=2017.3 in /usr/local/lib/python3.8/dist-packages (from pandas->lazypredict) (2022.7)\n",
            "Requirement already satisfied: threadpoolctl>=2.0.0 in /usr/local/lib/python3.8/dist-packages (from scikit-learn->lazypredict) (3.1.0)\n",
            "Requirement already satisfied: six>=1.5 in /usr/local/lib/python3.8/dist-packages (from python-dateutil>=2.7.3->pandas->lazypredict) (1.15.0)\n"
          ]
        }
      ]
    },
    {
      "cell_type": "code",
      "source": [
        "import pandas as pd \n",
        "import numpy as np\n",
        "\n",
        "import seaborn as sns # library for visualization\n",
        "import matplotlib.pyplot as plt # library for visualization\n",
        "%matplotlib inline"
      ],
      "metadata": {
        "id": "pOvPx1ZFq4HF"
      },
      "execution_count": 427,
      "outputs": []
    },
    {
      "cell_type": "code",
      "source": [
        "import warnings\n",
        "import plotly.express as px\n",
        "import plotly.io as pio\n",
        "import plotly.graph_objects as go\n",
        "from plotly.subplots import make_subplots\n",
        "warnings.filterwarnings(\"ignore\")\n",
        "\n",
        "import plotly\n",
        "plotly.__version__"
      ],
      "metadata": {
        "colab": {
          "base_uri": "https://localhost:8080/",
          "height": 35
        },
        "id": "KWthStD7nF-S",
        "outputId": "6fd2697e-71aa-4c8a-e1e2-06f5de7fa1a9"
      },
      "execution_count": 428,
      "outputs": [
        {
          "output_type": "execute_result",
          "data": {
            "text/plain": [
              "'5.13.0'"
            ],
            "application/vnd.google.colaboratory.intrinsic+json": {
              "type": "string"
            }
          },
          "metadata": {},
          "execution_count": 428
        }
      ]
    },
    {
      "cell_type": "code",
      "source": [
        "from IPython.display import Image"
      ],
      "metadata": {
        "id": "fJJ-z4qLiYGC"
      },
      "execution_count": 429,
      "outputs": []
    },
    {
      "cell_type": "markdown",
      "source": [
        "## 📁 The Dataset\n",
        "\n",
        "This dataset is originally from the National Institute of Diabetes and Digestive and Kidney Diseases. The objective of the dataset is to diagnostically predict whether or not a patient has diabetes, based on certain diagnostic measurements included in the dataset. Several constraints were placed on the selection of these instances from a larger database. In particular, all patients here are females at least 21 years old of Pima Indian heritage.\n",
        "\n",
        "The dataset consists of several medical predictor variables and one target variable, Outcome. Predictor variables include the number of pregnancies the patient has had, their BMI, insulin level, age, and so on."
      ],
      "metadata": {
        "id": "EQUZCdubZM8z"
      }
    },
    {
      "cell_type": "markdown",
      "source": [
        "### Read\n",
        "load diabetes.csv"
      ],
      "metadata": {
        "id": "-NTkkmP0RbMq"
      }
    },
    {
      "cell_type": "code",
      "source": [
        "df_diabetes = pd.read_csv(f\"{WORKSPACE_PATH}/diabetes.csv\")\n",
        "df_diabetes.head()"
      ],
      "metadata": {
        "colab": {
          "base_uri": "https://localhost:8080/",
          "height": 206
        },
        "id": "P6hinXpAOeKj",
        "outputId": "111e961f-dfcb-4320-b6e3-5501bac49916"
      },
      "execution_count": 430,
      "outputs": [
        {
          "output_type": "execute_result",
          "data": {
            "text/plain": [
              "   Pregnancies  Glucose  BloodPressure  SkinThickness  Insulin   BMI  \\\n",
              "0            6      148             72             35        0 33.60   \n",
              "1            1       85             66             29        0 26.60   \n",
              "2            8      183             64              0        0 23.30   \n",
              "3            1       89             66             23       94 28.10   \n",
              "4            0      137             40             35      168 43.10   \n",
              "\n",
              "   DiabetesPedigreeFunction  Age  Outcome  \n",
              "0                      0.63   50        1  \n",
              "1                      0.35   31        0  \n",
              "2                      0.67   32        1  \n",
              "3                      0.17   21        0  \n",
              "4                      2.29   33        1  "
            ],
            "text/html": [
              "\n",
              "  <div id=\"df-e6f1325e-98c9-4448-98c9-2dbf3d63fb7e\">\n",
              "    <div class=\"colab-df-container\">\n",
              "      <div>\n",
              "<style scoped>\n",
              "    .dataframe tbody tr th:only-of-type {\n",
              "        vertical-align: middle;\n",
              "    }\n",
              "\n",
              "    .dataframe tbody tr th {\n",
              "        vertical-align: top;\n",
              "    }\n",
              "\n",
              "    .dataframe thead th {\n",
              "        text-align: right;\n",
              "    }\n",
              "</style>\n",
              "<table border=\"1\" class=\"dataframe\">\n",
              "  <thead>\n",
              "    <tr style=\"text-align: right;\">\n",
              "      <th></th>\n",
              "      <th>Pregnancies</th>\n",
              "      <th>Glucose</th>\n",
              "      <th>BloodPressure</th>\n",
              "      <th>SkinThickness</th>\n",
              "      <th>Insulin</th>\n",
              "      <th>BMI</th>\n",
              "      <th>DiabetesPedigreeFunction</th>\n",
              "      <th>Age</th>\n",
              "      <th>Outcome</th>\n",
              "    </tr>\n",
              "  </thead>\n",
              "  <tbody>\n",
              "    <tr>\n",
              "      <th>0</th>\n",
              "      <td>6</td>\n",
              "      <td>148</td>\n",
              "      <td>72</td>\n",
              "      <td>35</td>\n",
              "      <td>0</td>\n",
              "      <td>33.60</td>\n",
              "      <td>0.63</td>\n",
              "      <td>50</td>\n",
              "      <td>1</td>\n",
              "    </tr>\n",
              "    <tr>\n",
              "      <th>1</th>\n",
              "      <td>1</td>\n",
              "      <td>85</td>\n",
              "      <td>66</td>\n",
              "      <td>29</td>\n",
              "      <td>0</td>\n",
              "      <td>26.60</td>\n",
              "      <td>0.35</td>\n",
              "      <td>31</td>\n",
              "      <td>0</td>\n",
              "    </tr>\n",
              "    <tr>\n",
              "      <th>2</th>\n",
              "      <td>8</td>\n",
              "      <td>183</td>\n",
              "      <td>64</td>\n",
              "      <td>0</td>\n",
              "      <td>0</td>\n",
              "      <td>23.30</td>\n",
              "      <td>0.67</td>\n",
              "      <td>32</td>\n",
              "      <td>1</td>\n",
              "    </tr>\n",
              "    <tr>\n",
              "      <th>3</th>\n",
              "      <td>1</td>\n",
              "      <td>89</td>\n",
              "      <td>66</td>\n",
              "      <td>23</td>\n",
              "      <td>94</td>\n",
              "      <td>28.10</td>\n",
              "      <td>0.17</td>\n",
              "      <td>21</td>\n",
              "      <td>0</td>\n",
              "    </tr>\n",
              "    <tr>\n",
              "      <th>4</th>\n",
              "      <td>0</td>\n",
              "      <td>137</td>\n",
              "      <td>40</td>\n",
              "      <td>35</td>\n",
              "      <td>168</td>\n",
              "      <td>43.10</td>\n",
              "      <td>2.29</td>\n",
              "      <td>33</td>\n",
              "      <td>1</td>\n",
              "    </tr>\n",
              "  </tbody>\n",
              "</table>\n",
              "</div>\n",
              "      <button class=\"colab-df-convert\" onclick=\"convertToInteractive('df-e6f1325e-98c9-4448-98c9-2dbf3d63fb7e')\"\n",
              "              title=\"Convert this dataframe to an interactive table.\"\n",
              "              style=\"display:none;\">\n",
              "        \n",
              "  <svg xmlns=\"http://www.w3.org/2000/svg\" height=\"24px\"viewBox=\"0 0 24 24\"\n",
              "       width=\"24px\">\n",
              "    <path d=\"M0 0h24v24H0V0z\" fill=\"none\"/>\n",
              "    <path d=\"M18.56 5.44l.94 2.06.94-2.06 2.06-.94-2.06-.94-.94-2.06-.94 2.06-2.06.94zm-11 1L8.5 8.5l.94-2.06 2.06-.94-2.06-.94L8.5 2.5l-.94 2.06-2.06.94zm10 10l.94 2.06.94-2.06 2.06-.94-2.06-.94-.94-2.06-.94 2.06-2.06.94z\"/><path d=\"M17.41 7.96l-1.37-1.37c-.4-.4-.92-.59-1.43-.59-.52 0-1.04.2-1.43.59L10.3 9.45l-7.72 7.72c-.78.78-.78 2.05 0 2.83L4 21.41c.39.39.9.59 1.41.59.51 0 1.02-.2 1.41-.59l7.78-7.78 2.81-2.81c.8-.78.8-2.07 0-2.86zM5.41 20L4 18.59l7.72-7.72 1.47 1.35L5.41 20z\"/>\n",
              "  </svg>\n",
              "      </button>\n",
              "      \n",
              "  <style>\n",
              "    .colab-df-container {\n",
              "      display:flex;\n",
              "      flex-wrap:wrap;\n",
              "      gap: 12px;\n",
              "    }\n",
              "\n",
              "    .colab-df-convert {\n",
              "      background-color: #E8F0FE;\n",
              "      border: none;\n",
              "      border-radius: 50%;\n",
              "      cursor: pointer;\n",
              "      display: none;\n",
              "      fill: #1967D2;\n",
              "      height: 32px;\n",
              "      padding: 0 0 0 0;\n",
              "      width: 32px;\n",
              "    }\n",
              "\n",
              "    .colab-df-convert:hover {\n",
              "      background-color: #E2EBFA;\n",
              "      box-shadow: 0px 1px 2px rgba(60, 64, 67, 0.3), 0px 1px 3px 1px rgba(60, 64, 67, 0.15);\n",
              "      fill: #174EA6;\n",
              "    }\n",
              "\n",
              "    [theme=dark] .colab-df-convert {\n",
              "      background-color: #3B4455;\n",
              "      fill: #D2E3FC;\n",
              "    }\n",
              "\n",
              "    [theme=dark] .colab-df-convert:hover {\n",
              "      background-color: #434B5C;\n",
              "      box-shadow: 0px 1px 3px 1px rgba(0, 0, 0, 0.15);\n",
              "      filter: drop-shadow(0px 1px 2px rgba(0, 0, 0, 0.3));\n",
              "      fill: #FFFFFF;\n",
              "    }\n",
              "  </style>\n",
              "\n",
              "      <script>\n",
              "        const buttonEl =\n",
              "          document.querySelector('#df-e6f1325e-98c9-4448-98c9-2dbf3d63fb7e button.colab-df-convert');\n",
              "        buttonEl.style.display =\n",
              "          google.colab.kernel.accessAllowed ? 'block' : 'none';\n",
              "\n",
              "        async function convertToInteractive(key) {\n",
              "          const element = document.querySelector('#df-e6f1325e-98c9-4448-98c9-2dbf3d63fb7e');\n",
              "          const dataTable =\n",
              "            await google.colab.kernel.invokeFunction('convertToInteractive',\n",
              "                                                     [key], {});\n",
              "          if (!dataTable) return;\n",
              "\n",
              "          const docLinkHtml = 'Like what you see? Visit the ' +\n",
              "            '<a target=\"_blank\" href=https://colab.research.google.com/notebooks/data_table.ipynb>data table notebook</a>'\n",
              "            + ' to learn more about interactive tables.';\n",
              "          element.innerHTML = '';\n",
              "          dataTable['output_type'] = 'display_data';\n",
              "          await google.colab.output.renderOutput(dataTable, element);\n",
              "          const docLink = document.createElement('div');\n",
              "          docLink.innerHTML = docLinkHtml;\n",
              "          element.appendChild(docLink);\n",
              "        }\n",
              "      </script>\n",
              "    </div>\n",
              "  </div>\n",
              "  "
            ]
          },
          "metadata": {},
          "execution_count": 430
        }
      ]
    },
    {
      "cell_type": "markdown",
      "source": [
        "### Infos"
      ],
      "metadata": {
        "id": "xdyXRYwwY3G1"
      }
    },
    {
      "cell_type": "code",
      "source": [
        "df_diabetes.shape"
      ],
      "metadata": {
        "colab": {
          "base_uri": "https://localhost:8080/"
        },
        "id": "TPcCyokoR_6V",
        "outputId": "8c545945-4bd3-4b03-bfb4-66ff4e8610da"
      },
      "execution_count": 431,
      "outputs": [
        {
          "output_type": "execute_result",
          "data": {
            "text/plain": [
              "(768, 9)"
            ]
          },
          "metadata": {},
          "execution_count": 431
        }
      ]
    },
    {
      "cell_type": "code",
      "source": [
        "df_diabetes.columns"
      ],
      "metadata": {
        "colab": {
          "base_uri": "https://localhost:8080/"
        },
        "id": "LXxr0ujvR84U",
        "outputId": "a5e364fd-c33d-4c97-f74f-80a30cc6a5d2"
      },
      "execution_count": 432,
      "outputs": [
        {
          "output_type": "execute_result",
          "data": {
            "text/plain": [
              "Index(['Pregnancies', 'Glucose', 'BloodPressure', 'SkinThickness', 'Insulin',\n",
              "       'BMI', 'DiabetesPedigreeFunction', 'Age', 'Outcome'],\n",
              "      dtype='object')"
            ]
          },
          "metadata": {},
          "execution_count": 432
        }
      ]
    },
    {
      "cell_type": "markdown",
      "source": [
        "Les colonnes incluses dans ce jeu de données sont les suivantes :\n",
        "\n",
        "1. Pregnancies : Nombre de grossesses\n",
        "2. Glucose : Taux de glucose plasmatique à 2 heures dans un test de tolerance au glucose\n",
        "3. BloodPressure : Pression sanguine (mm Hg)\n",
        "4. SkinThickness : Épaisseur cutanée (mm)\n",
        "5. Insulin : Taux sérique d'insuline (mu U/ml)\n",
        "6. BMI : Indice de masse corporelle (poids en kg / (taille en m)^2)\n",
        "7. DiabetesPedigreeFunction : Fonction de pedigree de diabète\n",
        "8. Age : Âge (années)\n",
        "9. Outcome : Résultat du test de diabète (0 = pas de diabète, 1 = diabète)"
      ],
      "metadata": {
        "id": "jr1YPTyGRqh1"
      }
    },
    {
      "cell_type": "code",
      "source": [
        "df_diabetes.info()"
      ],
      "metadata": {
        "colab": {
          "base_uri": "https://localhost:8080/"
        },
        "id": "GgMNHhYESGdc",
        "outputId": "60ef1bdd-b77a-4bda-ef51-e4a0907a25af"
      },
      "execution_count": 433,
      "outputs": [
        {
          "output_type": "stream",
          "name": "stdout",
          "text": [
            "<class 'pandas.core.frame.DataFrame'>\n",
            "RangeIndex: 768 entries, 0 to 767\n",
            "Data columns (total 9 columns):\n",
            " #   Column                    Non-Null Count  Dtype  \n",
            "---  ------                    --------------  -----  \n",
            " 0   Pregnancies               768 non-null    int64  \n",
            " 1   Glucose                   768 non-null    int64  \n",
            " 2   BloodPressure             768 non-null    int64  \n",
            " 3   SkinThickness             768 non-null    int64  \n",
            " 4   Insulin                   768 non-null    int64  \n",
            " 5   BMI                       768 non-null    float64\n",
            " 6   DiabetesPedigreeFunction  768 non-null    float64\n",
            " 7   Age                       768 non-null    int64  \n",
            " 8   Outcome                   768 non-null    int64  \n",
            "dtypes: float64(2), int64(7)\n",
            "memory usage: 54.1 KB\n"
          ]
        }
      ]
    },
    {
      "cell_type": "markdown",
      "source": [
        "### Missing Values"
      ],
      "metadata": {
        "id": "edW2DHrMY62e"
      }
    },
    {
      "cell_type": "markdown",
      "source": [
        "Now let us check for missing values."
      ],
      "metadata": {
        "id": "ofMwBh71S5WB"
      }
    },
    {
      "cell_type": "code",
      "source": [
        "df_diabetes.isnull().any()"
      ],
      "metadata": {
        "colab": {
          "base_uri": "https://localhost:8080/"
        },
        "id": "weVhFqdXS01H",
        "outputId": "51b0e4f4-22ec-41e7-d281-7f300b8a6431"
      },
      "execution_count": 434,
      "outputs": [
        {
          "output_type": "execute_result",
          "data": {
            "text/plain": [
              "Pregnancies                 False\n",
              "Glucose                     False\n",
              "BloodPressure               False\n",
              "SkinThickness               False\n",
              "Insulin                     False\n",
              "BMI                         False\n",
              "DiabetesPedigreeFunction    False\n",
              "Age                         False\n",
              "Outcome                     False\n",
              "dtype: bool"
            ]
          },
          "metadata": {},
          "execution_count": 434
        }
      ]
    },
    {
      "cell_type": "code",
      "source": [
        "df_diabetes.describe()"
      ],
      "metadata": {
        "colab": {
          "base_uri": "https://localhost:8080/",
          "height": 300
        },
        "id": "OT8E9QDsSN0c",
        "outputId": "d0a4f967-1dca-4689-d96e-43f9f0cafc58"
      },
      "execution_count": 435,
      "outputs": [
        {
          "output_type": "execute_result",
          "data": {
            "text/plain": [
              "       Pregnancies  Glucose  BloodPressure  SkinThickness  Insulin    BMI  \\\n",
              "count       768.00   768.00         768.00         768.00   768.00 768.00   \n",
              "mean          3.85   120.89          69.11          20.54    79.80  31.99   \n",
              "std           3.37    31.97          19.36          15.95   115.24   7.88   \n",
              "min           0.00     0.00           0.00           0.00     0.00   0.00   \n",
              "25%           1.00    99.00          62.00           0.00     0.00  27.30   \n",
              "50%           3.00   117.00          72.00          23.00    30.50  32.00   \n",
              "75%           6.00   140.25          80.00          32.00   127.25  36.60   \n",
              "max          17.00   199.00         122.00          99.00   846.00  67.10   \n",
              "\n",
              "       DiabetesPedigreeFunction    Age  Outcome  \n",
              "count                    768.00 768.00   768.00  \n",
              "mean                       0.47  33.24     0.35  \n",
              "std                        0.33  11.76     0.48  \n",
              "min                        0.08  21.00     0.00  \n",
              "25%                        0.24  24.00     0.00  \n",
              "50%                        0.37  29.00     0.00  \n",
              "75%                        0.63  41.00     1.00  \n",
              "max                        2.42  81.00     1.00  "
            ],
            "text/html": [
              "\n",
              "  <div id=\"df-3e696954-9cd4-493e-bcb5-f8c2f08d4ae2\">\n",
              "    <div class=\"colab-df-container\">\n",
              "      <div>\n",
              "<style scoped>\n",
              "    .dataframe tbody tr th:only-of-type {\n",
              "        vertical-align: middle;\n",
              "    }\n",
              "\n",
              "    .dataframe tbody tr th {\n",
              "        vertical-align: top;\n",
              "    }\n",
              "\n",
              "    .dataframe thead th {\n",
              "        text-align: right;\n",
              "    }\n",
              "</style>\n",
              "<table border=\"1\" class=\"dataframe\">\n",
              "  <thead>\n",
              "    <tr style=\"text-align: right;\">\n",
              "      <th></th>\n",
              "      <th>Pregnancies</th>\n",
              "      <th>Glucose</th>\n",
              "      <th>BloodPressure</th>\n",
              "      <th>SkinThickness</th>\n",
              "      <th>Insulin</th>\n",
              "      <th>BMI</th>\n",
              "      <th>DiabetesPedigreeFunction</th>\n",
              "      <th>Age</th>\n",
              "      <th>Outcome</th>\n",
              "    </tr>\n",
              "  </thead>\n",
              "  <tbody>\n",
              "    <tr>\n",
              "      <th>count</th>\n",
              "      <td>768.00</td>\n",
              "      <td>768.00</td>\n",
              "      <td>768.00</td>\n",
              "      <td>768.00</td>\n",
              "      <td>768.00</td>\n",
              "      <td>768.00</td>\n",
              "      <td>768.00</td>\n",
              "      <td>768.00</td>\n",
              "      <td>768.00</td>\n",
              "    </tr>\n",
              "    <tr>\n",
              "      <th>mean</th>\n",
              "      <td>3.85</td>\n",
              "      <td>120.89</td>\n",
              "      <td>69.11</td>\n",
              "      <td>20.54</td>\n",
              "      <td>79.80</td>\n",
              "      <td>31.99</td>\n",
              "      <td>0.47</td>\n",
              "      <td>33.24</td>\n",
              "      <td>0.35</td>\n",
              "    </tr>\n",
              "    <tr>\n",
              "      <th>std</th>\n",
              "      <td>3.37</td>\n",
              "      <td>31.97</td>\n",
              "      <td>19.36</td>\n",
              "      <td>15.95</td>\n",
              "      <td>115.24</td>\n",
              "      <td>7.88</td>\n",
              "      <td>0.33</td>\n",
              "      <td>11.76</td>\n",
              "      <td>0.48</td>\n",
              "    </tr>\n",
              "    <tr>\n",
              "      <th>min</th>\n",
              "      <td>0.00</td>\n",
              "      <td>0.00</td>\n",
              "      <td>0.00</td>\n",
              "      <td>0.00</td>\n",
              "      <td>0.00</td>\n",
              "      <td>0.00</td>\n",
              "      <td>0.08</td>\n",
              "      <td>21.00</td>\n",
              "      <td>0.00</td>\n",
              "    </tr>\n",
              "    <tr>\n",
              "      <th>25%</th>\n",
              "      <td>1.00</td>\n",
              "      <td>99.00</td>\n",
              "      <td>62.00</td>\n",
              "      <td>0.00</td>\n",
              "      <td>0.00</td>\n",
              "      <td>27.30</td>\n",
              "      <td>0.24</td>\n",
              "      <td>24.00</td>\n",
              "      <td>0.00</td>\n",
              "    </tr>\n",
              "    <tr>\n",
              "      <th>50%</th>\n",
              "      <td>3.00</td>\n",
              "      <td>117.00</td>\n",
              "      <td>72.00</td>\n",
              "      <td>23.00</td>\n",
              "      <td>30.50</td>\n",
              "      <td>32.00</td>\n",
              "      <td>0.37</td>\n",
              "      <td>29.00</td>\n",
              "      <td>0.00</td>\n",
              "    </tr>\n",
              "    <tr>\n",
              "      <th>75%</th>\n",
              "      <td>6.00</td>\n",
              "      <td>140.25</td>\n",
              "      <td>80.00</td>\n",
              "      <td>32.00</td>\n",
              "      <td>127.25</td>\n",
              "      <td>36.60</td>\n",
              "      <td>0.63</td>\n",
              "      <td>41.00</td>\n",
              "      <td>1.00</td>\n",
              "    </tr>\n",
              "    <tr>\n",
              "      <th>max</th>\n",
              "      <td>17.00</td>\n",
              "      <td>199.00</td>\n",
              "      <td>122.00</td>\n",
              "      <td>99.00</td>\n",
              "      <td>846.00</td>\n",
              "      <td>67.10</td>\n",
              "      <td>2.42</td>\n",
              "      <td>81.00</td>\n",
              "      <td>1.00</td>\n",
              "    </tr>\n",
              "  </tbody>\n",
              "</table>\n",
              "</div>\n",
              "      <button class=\"colab-df-convert\" onclick=\"convertToInteractive('df-3e696954-9cd4-493e-bcb5-f8c2f08d4ae2')\"\n",
              "              title=\"Convert this dataframe to an interactive table.\"\n",
              "              style=\"display:none;\">\n",
              "        \n",
              "  <svg xmlns=\"http://www.w3.org/2000/svg\" height=\"24px\"viewBox=\"0 0 24 24\"\n",
              "       width=\"24px\">\n",
              "    <path d=\"M0 0h24v24H0V0z\" fill=\"none\"/>\n",
              "    <path d=\"M18.56 5.44l.94 2.06.94-2.06 2.06-.94-2.06-.94-.94-2.06-.94 2.06-2.06.94zm-11 1L8.5 8.5l.94-2.06 2.06-.94-2.06-.94L8.5 2.5l-.94 2.06-2.06.94zm10 10l.94 2.06.94-2.06 2.06-.94-2.06-.94-.94-2.06-.94 2.06-2.06.94z\"/><path d=\"M17.41 7.96l-1.37-1.37c-.4-.4-.92-.59-1.43-.59-.52 0-1.04.2-1.43.59L10.3 9.45l-7.72 7.72c-.78.78-.78 2.05 0 2.83L4 21.41c.39.39.9.59 1.41.59.51 0 1.02-.2 1.41-.59l7.78-7.78 2.81-2.81c.8-.78.8-2.07 0-2.86zM5.41 20L4 18.59l7.72-7.72 1.47 1.35L5.41 20z\"/>\n",
              "  </svg>\n",
              "      </button>\n",
              "      \n",
              "  <style>\n",
              "    .colab-df-container {\n",
              "      display:flex;\n",
              "      flex-wrap:wrap;\n",
              "      gap: 12px;\n",
              "    }\n",
              "\n",
              "    .colab-df-convert {\n",
              "      background-color: #E8F0FE;\n",
              "      border: none;\n",
              "      border-radius: 50%;\n",
              "      cursor: pointer;\n",
              "      display: none;\n",
              "      fill: #1967D2;\n",
              "      height: 32px;\n",
              "      padding: 0 0 0 0;\n",
              "      width: 32px;\n",
              "    }\n",
              "\n",
              "    .colab-df-convert:hover {\n",
              "      background-color: #E2EBFA;\n",
              "      box-shadow: 0px 1px 2px rgba(60, 64, 67, 0.3), 0px 1px 3px 1px rgba(60, 64, 67, 0.15);\n",
              "      fill: #174EA6;\n",
              "    }\n",
              "\n",
              "    [theme=dark] .colab-df-convert {\n",
              "      background-color: #3B4455;\n",
              "      fill: #D2E3FC;\n",
              "    }\n",
              "\n",
              "    [theme=dark] .colab-df-convert:hover {\n",
              "      background-color: #434B5C;\n",
              "      box-shadow: 0px 1px 3px 1px rgba(0, 0, 0, 0.15);\n",
              "      filter: drop-shadow(0px 1px 2px rgba(0, 0, 0, 0.3));\n",
              "      fill: #FFFFFF;\n",
              "    }\n",
              "  </style>\n",
              "\n",
              "      <script>\n",
              "        const buttonEl =\n",
              "          document.querySelector('#df-3e696954-9cd4-493e-bcb5-f8c2f08d4ae2 button.colab-df-convert');\n",
              "        buttonEl.style.display =\n",
              "          google.colab.kernel.accessAllowed ? 'block' : 'none';\n",
              "\n",
              "        async function convertToInteractive(key) {\n",
              "          const element = document.querySelector('#df-3e696954-9cd4-493e-bcb5-f8c2f08d4ae2');\n",
              "          const dataTable =\n",
              "            await google.colab.kernel.invokeFunction('convertToInteractive',\n",
              "                                                     [key], {});\n",
              "          if (!dataTable) return;\n",
              "\n",
              "          const docLinkHtml = 'Like what you see? Visit the ' +\n",
              "            '<a target=\"_blank\" href=https://colab.research.google.com/notebooks/data_table.ipynb>data table notebook</a>'\n",
              "            + ' to learn more about interactive tables.';\n",
              "          element.innerHTML = '';\n",
              "          dataTable['output_type'] = 'display_data';\n",
              "          await google.colab.output.renderOutput(dataTable, element);\n",
              "          const docLink = document.createElement('div');\n",
              "          docLink.innerHTML = docLinkHtml;\n",
              "          element.appendChild(docLink);\n",
              "        }\n",
              "      </script>\n",
              "    </div>\n",
              "  </div>\n",
              "  "
            ]
          },
          "metadata": {},
          "execution_count": 435
        }
      ]
    },
    {
      "cell_type": "markdown",
      "source": [
        "On remarque des valeurs nulle (=0), c'est illogique."
      ],
      "metadata": {
        "id": "_SNSTmKkXBt0"
      }
    },
    {
      "cell_type": "markdown",
      "source": [
        "However the dataset shows some of the features having minimum value as 0 like insulin,BMI,glucose which is not logical and can be considered missing values"
      ],
      "metadata": {
        "id": "GCkHSxxmUpU9"
      }
    },
    {
      "cell_type": "code",
      "source": [
        "df_diabetes.loc[df_diabetes[\"Glucose\"]==0,\"Glucose\"]"
      ],
      "metadata": {
        "colab": {
          "base_uri": "https://localhost:8080/"
        },
        "id": "82eo6wctCSqT",
        "outputId": "104c4196-a1bc-4d20-8ad1-868df23ff6b6"
      },
      "execution_count": 436,
      "outputs": [
        {
          "output_type": "execute_result",
          "data": {
            "text/plain": [
              "75     0\n",
              "182    0\n",
              "342    0\n",
              "349    0\n",
              "502    0\n",
              "Name: Glucose, dtype: int64"
            ]
          },
          "metadata": {},
          "execution_count": 436
        }
      ]
    },
    {
      "cell_type": "code",
      "source": [
        "columns_with_missing_vals = []\n",
        "total_ms_vals = 0\n",
        "for column in df_diabetes.columns[:-1]:\n",
        "    ms_vals = len(df_diabetes.loc[df_diabetes[column]==0,column])\n",
        "    total_ms_vals += ms_vals\n",
        "    print(f\"{ms_vals/len(df_diabetes[column]):>5.1%} of Missing values for {column} ({ms_vals} values)\")\n",
        "    if ms_vals > 0:\n",
        "        columns_with_missing_vals.append(column)\n",
        "\n",
        "print(f\"------\\nTotal : {total_ms_vals}/{df_diabetes.size} -> {total_ms_vals/df_diabetes.size:.0%}\")\n"
      ],
      "metadata": {
        "colab": {
          "base_uri": "https://localhost:8080/"
        },
        "id": "QigR0F-5VK2P",
        "outputId": "b7b01d69-bf20-414c-af3f-ecb80a7f79da"
      },
      "execution_count": 437,
      "outputs": [
        {
          "output_type": "stream",
          "name": "stdout",
          "text": [
            "14.5% of Missing values for Pregnancies (111 values)\n",
            " 0.7% of Missing values for Glucose (5 values)\n",
            " 4.6% of Missing values for BloodPressure (35 values)\n",
            "29.6% of Missing values for SkinThickness (227 values)\n",
            "48.7% of Missing values for Insulin (374 values)\n",
            " 1.4% of Missing values for BMI (11 values)\n",
            " 0.0% of Missing values for DiabetesPedigreeFunction (0 values)\n",
            " 0.0% of Missing values for Age (0 values)\n",
            "------\n",
            "Total : 763/6912 -> 11%\n"
          ]
        }
      ]
    },
    {
      "cell_type": "markdown",
      "source": [
        "we will be imputing these missing values with the mean with help of sklearn imputer"
      ],
      "metadata": {
        "id": "_wyWSaBRWCoq"
      }
    },
    {
      "cell_type": "code",
      "source": [
        "from sklearn.impute import SimpleImputer\n",
        "impute = SimpleImputer(missing_values=0, strategy=\"mean\")\n",
        "df_diabetes_0_meaned = df_diabetes.copy()\n",
        "df_diabetes_0_meaned.loc[:,columns_with_missing_vals]= impute.fit_transform(df_diabetes.loc[:,columns_with_missing_vals])\n",
        "df_diabetes_0_meaned.describe()"
      ],
      "metadata": {
        "colab": {
          "base_uri": "https://localhost:8080/",
          "height": 300
        },
        "id": "vK08-9L8WJHm",
        "outputId": "2f88697b-3d79-44b6-a14a-824e1c3a2d50"
      },
      "execution_count": 438,
      "outputs": [
        {
          "output_type": "execute_result",
          "data": {
            "text/plain": [
              "       Pregnancies  Glucose  BloodPressure  SkinThickness  Insulin    BMI  \\\n",
              "count       768.00   768.00         768.00         768.00   768.00 768.00   \n",
              "mean          4.49   121.69          72.41          29.15   155.55  32.46   \n",
              "std           2.98    30.44          12.10           8.79    85.02   6.88   \n",
              "min           1.00    44.00          24.00           7.00    14.00  18.20   \n",
              "25%           2.00    99.75          64.00          25.00   121.50  27.50   \n",
              "50%           4.49   117.00          72.20          29.15   155.55  32.40   \n",
              "75%           6.00   140.25          80.00          32.00   155.55  36.60   \n",
              "max          17.00   199.00         122.00          99.00   846.00  67.10   \n",
              "\n",
              "       DiabetesPedigreeFunction    Age  Outcome  \n",
              "count                    768.00 768.00   768.00  \n",
              "mean                       0.47  33.24     0.35  \n",
              "std                        0.33  11.76     0.48  \n",
              "min                        0.08  21.00     0.00  \n",
              "25%                        0.24  24.00     0.00  \n",
              "50%                        0.37  29.00     0.00  \n",
              "75%                        0.63  41.00     1.00  \n",
              "max                        2.42  81.00     1.00  "
            ],
            "text/html": [
              "\n",
              "  <div id=\"df-33b9cbfa-9eca-4a1d-80db-5d485ab027db\">\n",
              "    <div class=\"colab-df-container\">\n",
              "      <div>\n",
              "<style scoped>\n",
              "    .dataframe tbody tr th:only-of-type {\n",
              "        vertical-align: middle;\n",
              "    }\n",
              "\n",
              "    .dataframe tbody tr th {\n",
              "        vertical-align: top;\n",
              "    }\n",
              "\n",
              "    .dataframe thead th {\n",
              "        text-align: right;\n",
              "    }\n",
              "</style>\n",
              "<table border=\"1\" class=\"dataframe\">\n",
              "  <thead>\n",
              "    <tr style=\"text-align: right;\">\n",
              "      <th></th>\n",
              "      <th>Pregnancies</th>\n",
              "      <th>Glucose</th>\n",
              "      <th>BloodPressure</th>\n",
              "      <th>SkinThickness</th>\n",
              "      <th>Insulin</th>\n",
              "      <th>BMI</th>\n",
              "      <th>DiabetesPedigreeFunction</th>\n",
              "      <th>Age</th>\n",
              "      <th>Outcome</th>\n",
              "    </tr>\n",
              "  </thead>\n",
              "  <tbody>\n",
              "    <tr>\n",
              "      <th>count</th>\n",
              "      <td>768.00</td>\n",
              "      <td>768.00</td>\n",
              "      <td>768.00</td>\n",
              "      <td>768.00</td>\n",
              "      <td>768.00</td>\n",
              "      <td>768.00</td>\n",
              "      <td>768.00</td>\n",
              "      <td>768.00</td>\n",
              "      <td>768.00</td>\n",
              "    </tr>\n",
              "    <tr>\n",
              "      <th>mean</th>\n",
              "      <td>4.49</td>\n",
              "      <td>121.69</td>\n",
              "      <td>72.41</td>\n",
              "      <td>29.15</td>\n",
              "      <td>155.55</td>\n",
              "      <td>32.46</td>\n",
              "      <td>0.47</td>\n",
              "      <td>33.24</td>\n",
              "      <td>0.35</td>\n",
              "    </tr>\n",
              "    <tr>\n",
              "      <th>std</th>\n",
              "      <td>2.98</td>\n",
              "      <td>30.44</td>\n",
              "      <td>12.10</td>\n",
              "      <td>8.79</td>\n",
              "      <td>85.02</td>\n",
              "      <td>6.88</td>\n",
              "      <td>0.33</td>\n",
              "      <td>11.76</td>\n",
              "      <td>0.48</td>\n",
              "    </tr>\n",
              "    <tr>\n",
              "      <th>min</th>\n",
              "      <td>1.00</td>\n",
              "      <td>44.00</td>\n",
              "      <td>24.00</td>\n",
              "      <td>7.00</td>\n",
              "      <td>14.00</td>\n",
              "      <td>18.20</td>\n",
              "      <td>0.08</td>\n",
              "      <td>21.00</td>\n",
              "      <td>0.00</td>\n",
              "    </tr>\n",
              "    <tr>\n",
              "      <th>25%</th>\n",
              "      <td>2.00</td>\n",
              "      <td>99.75</td>\n",
              "      <td>64.00</td>\n",
              "      <td>25.00</td>\n",
              "      <td>121.50</td>\n",
              "      <td>27.50</td>\n",
              "      <td>0.24</td>\n",
              "      <td>24.00</td>\n",
              "      <td>0.00</td>\n",
              "    </tr>\n",
              "    <tr>\n",
              "      <th>50%</th>\n",
              "      <td>4.49</td>\n",
              "      <td>117.00</td>\n",
              "      <td>72.20</td>\n",
              "      <td>29.15</td>\n",
              "      <td>155.55</td>\n",
              "      <td>32.40</td>\n",
              "      <td>0.37</td>\n",
              "      <td>29.00</td>\n",
              "      <td>0.00</td>\n",
              "    </tr>\n",
              "    <tr>\n",
              "      <th>75%</th>\n",
              "      <td>6.00</td>\n",
              "      <td>140.25</td>\n",
              "      <td>80.00</td>\n",
              "      <td>32.00</td>\n",
              "      <td>155.55</td>\n",
              "      <td>36.60</td>\n",
              "      <td>0.63</td>\n",
              "      <td>41.00</td>\n",
              "      <td>1.00</td>\n",
              "    </tr>\n",
              "    <tr>\n",
              "      <th>max</th>\n",
              "      <td>17.00</td>\n",
              "      <td>199.00</td>\n",
              "      <td>122.00</td>\n",
              "      <td>99.00</td>\n",
              "      <td>846.00</td>\n",
              "      <td>67.10</td>\n",
              "      <td>2.42</td>\n",
              "      <td>81.00</td>\n",
              "      <td>1.00</td>\n",
              "    </tr>\n",
              "  </tbody>\n",
              "</table>\n",
              "</div>\n",
              "      <button class=\"colab-df-convert\" onclick=\"convertToInteractive('df-33b9cbfa-9eca-4a1d-80db-5d485ab027db')\"\n",
              "              title=\"Convert this dataframe to an interactive table.\"\n",
              "              style=\"display:none;\">\n",
              "        \n",
              "  <svg xmlns=\"http://www.w3.org/2000/svg\" height=\"24px\"viewBox=\"0 0 24 24\"\n",
              "       width=\"24px\">\n",
              "    <path d=\"M0 0h24v24H0V0z\" fill=\"none\"/>\n",
              "    <path d=\"M18.56 5.44l.94 2.06.94-2.06 2.06-.94-2.06-.94-.94-2.06-.94 2.06-2.06.94zm-11 1L8.5 8.5l.94-2.06 2.06-.94-2.06-.94L8.5 2.5l-.94 2.06-2.06.94zm10 10l.94 2.06.94-2.06 2.06-.94-2.06-.94-.94-2.06-.94 2.06-2.06.94z\"/><path d=\"M17.41 7.96l-1.37-1.37c-.4-.4-.92-.59-1.43-.59-.52 0-1.04.2-1.43.59L10.3 9.45l-7.72 7.72c-.78.78-.78 2.05 0 2.83L4 21.41c.39.39.9.59 1.41.59.51 0 1.02-.2 1.41-.59l7.78-7.78 2.81-2.81c.8-.78.8-2.07 0-2.86zM5.41 20L4 18.59l7.72-7.72 1.47 1.35L5.41 20z\"/>\n",
              "  </svg>\n",
              "      </button>\n",
              "      \n",
              "  <style>\n",
              "    .colab-df-container {\n",
              "      display:flex;\n",
              "      flex-wrap:wrap;\n",
              "      gap: 12px;\n",
              "    }\n",
              "\n",
              "    .colab-df-convert {\n",
              "      background-color: #E8F0FE;\n",
              "      border: none;\n",
              "      border-radius: 50%;\n",
              "      cursor: pointer;\n",
              "      display: none;\n",
              "      fill: #1967D2;\n",
              "      height: 32px;\n",
              "      padding: 0 0 0 0;\n",
              "      width: 32px;\n",
              "    }\n",
              "\n",
              "    .colab-df-convert:hover {\n",
              "      background-color: #E2EBFA;\n",
              "      box-shadow: 0px 1px 2px rgba(60, 64, 67, 0.3), 0px 1px 3px 1px rgba(60, 64, 67, 0.15);\n",
              "      fill: #174EA6;\n",
              "    }\n",
              "\n",
              "    [theme=dark] .colab-df-convert {\n",
              "      background-color: #3B4455;\n",
              "      fill: #D2E3FC;\n",
              "    }\n",
              "\n",
              "    [theme=dark] .colab-df-convert:hover {\n",
              "      background-color: #434B5C;\n",
              "      box-shadow: 0px 1px 3px 1px rgba(0, 0, 0, 0.15);\n",
              "      filter: drop-shadow(0px 1px 2px rgba(0, 0, 0, 0.3));\n",
              "      fill: #FFFFFF;\n",
              "    }\n",
              "  </style>\n",
              "\n",
              "      <script>\n",
              "        const buttonEl =\n",
              "          document.querySelector('#df-33b9cbfa-9eca-4a1d-80db-5d485ab027db button.colab-df-convert');\n",
              "        buttonEl.style.display =\n",
              "          google.colab.kernel.accessAllowed ? 'block' : 'none';\n",
              "\n",
              "        async function convertToInteractive(key) {\n",
              "          const element = document.querySelector('#df-33b9cbfa-9eca-4a1d-80db-5d485ab027db');\n",
              "          const dataTable =\n",
              "            await google.colab.kernel.invokeFunction('convertToInteractive',\n",
              "                                                     [key], {});\n",
              "          if (!dataTable) return;\n",
              "\n",
              "          const docLinkHtml = 'Like what you see? Visit the ' +\n",
              "            '<a target=\"_blank\" href=https://colab.research.google.com/notebooks/data_table.ipynb>data table notebook</a>'\n",
              "            + ' to learn more about interactive tables.';\n",
              "          element.innerHTML = '';\n",
              "          dataTable['output_type'] = 'display_data';\n",
              "          await google.colab.output.renderOutput(dataTable, element);\n",
              "          const docLink = document.createElement('div');\n",
              "          docLink.innerHTML = docLinkHtml;\n",
              "          element.appendChild(docLink);\n",
              "        }\n",
              "      </script>\n",
              "    </div>\n",
              "  </div>\n",
              "  "
            ]
          },
          "metadata": {},
          "execution_count": 438
        }
      ]
    },
    {
      "cell_type": "markdown",
      "source": [
        "All the zero values have been imputed\n",
        "\n"
      ],
      "metadata": {
        "id": "oM8SK3D_XbSp"
      }
    },
    {
      "cell_type": "code",
      "source": [
        "cols = df_diabetes.columns[:-1]\n",
        "df_diabetes_0_dropped = df_diabetes[~(df_diabetes[cols] == 0).any(axis=1)]\n",
        "df_diabetes_0_dropped.describe()"
      ],
      "metadata": {
        "colab": {
          "base_uri": "https://localhost:8080/",
          "height": 300
        },
        "id": "qGbz1vCvARwl",
        "outputId": "b582ca6b-54ac-488f-ac2d-bc5927b38d4e"
      },
      "execution_count": 439,
      "outputs": [
        {
          "output_type": "execute_result",
          "data": {
            "text/plain": [
              "       Pregnancies  Glucose  BloodPressure  SkinThickness  Insulin    BMI  \\\n",
              "count       336.00   336.00         336.00         336.00   336.00 336.00   \n",
              "mean          3.85   122.28          70.24          28.66   155.35  32.30   \n",
              "std           3.15    30.78          12.36          10.25   118.78   6.37   \n",
              "min           1.00    56.00          24.00           7.00    15.00  18.20   \n",
              "25%           1.00    99.00          62.00          21.00    76.00  27.80   \n",
              "50%           3.00   119.00          70.00          28.50   125.50  32.75   \n",
              "75%           6.00   144.00          78.00          36.00   190.00  36.25   \n",
              "max          17.00   197.00         110.00          52.00   846.00  57.30   \n",
              "\n",
              "       DiabetesPedigreeFunction    Age  Outcome  \n",
              "count                    336.00 336.00   336.00  \n",
              "mean                       0.52  31.84     0.33  \n",
              "std                        0.33  10.46     0.47  \n",
              "min                        0.09  21.00     0.00  \n",
              "25%                        0.27  24.00     0.00  \n",
              "50%                        0.45  28.00     0.00  \n",
              "75%                        0.69  38.00     1.00  \n",
              "max                        2.33  81.00     1.00  "
            ],
            "text/html": [
              "\n",
              "  <div id=\"df-c463fb5b-aa97-49b5-bd34-7ba1f43cddc2\">\n",
              "    <div class=\"colab-df-container\">\n",
              "      <div>\n",
              "<style scoped>\n",
              "    .dataframe tbody tr th:only-of-type {\n",
              "        vertical-align: middle;\n",
              "    }\n",
              "\n",
              "    .dataframe tbody tr th {\n",
              "        vertical-align: top;\n",
              "    }\n",
              "\n",
              "    .dataframe thead th {\n",
              "        text-align: right;\n",
              "    }\n",
              "</style>\n",
              "<table border=\"1\" class=\"dataframe\">\n",
              "  <thead>\n",
              "    <tr style=\"text-align: right;\">\n",
              "      <th></th>\n",
              "      <th>Pregnancies</th>\n",
              "      <th>Glucose</th>\n",
              "      <th>BloodPressure</th>\n",
              "      <th>SkinThickness</th>\n",
              "      <th>Insulin</th>\n",
              "      <th>BMI</th>\n",
              "      <th>DiabetesPedigreeFunction</th>\n",
              "      <th>Age</th>\n",
              "      <th>Outcome</th>\n",
              "    </tr>\n",
              "  </thead>\n",
              "  <tbody>\n",
              "    <tr>\n",
              "      <th>count</th>\n",
              "      <td>336.00</td>\n",
              "      <td>336.00</td>\n",
              "      <td>336.00</td>\n",
              "      <td>336.00</td>\n",
              "      <td>336.00</td>\n",
              "      <td>336.00</td>\n",
              "      <td>336.00</td>\n",
              "      <td>336.00</td>\n",
              "      <td>336.00</td>\n",
              "    </tr>\n",
              "    <tr>\n",
              "      <th>mean</th>\n",
              "      <td>3.85</td>\n",
              "      <td>122.28</td>\n",
              "      <td>70.24</td>\n",
              "      <td>28.66</td>\n",
              "      <td>155.35</td>\n",
              "      <td>32.30</td>\n",
              "      <td>0.52</td>\n",
              "      <td>31.84</td>\n",
              "      <td>0.33</td>\n",
              "    </tr>\n",
              "    <tr>\n",
              "      <th>std</th>\n",
              "      <td>3.15</td>\n",
              "      <td>30.78</td>\n",
              "      <td>12.36</td>\n",
              "      <td>10.25</td>\n",
              "      <td>118.78</td>\n",
              "      <td>6.37</td>\n",
              "      <td>0.33</td>\n",
              "      <td>10.46</td>\n",
              "      <td>0.47</td>\n",
              "    </tr>\n",
              "    <tr>\n",
              "      <th>min</th>\n",
              "      <td>1.00</td>\n",
              "      <td>56.00</td>\n",
              "      <td>24.00</td>\n",
              "      <td>7.00</td>\n",
              "      <td>15.00</td>\n",
              "      <td>18.20</td>\n",
              "      <td>0.09</td>\n",
              "      <td>21.00</td>\n",
              "      <td>0.00</td>\n",
              "    </tr>\n",
              "    <tr>\n",
              "      <th>25%</th>\n",
              "      <td>1.00</td>\n",
              "      <td>99.00</td>\n",
              "      <td>62.00</td>\n",
              "      <td>21.00</td>\n",
              "      <td>76.00</td>\n",
              "      <td>27.80</td>\n",
              "      <td>0.27</td>\n",
              "      <td>24.00</td>\n",
              "      <td>0.00</td>\n",
              "    </tr>\n",
              "    <tr>\n",
              "      <th>50%</th>\n",
              "      <td>3.00</td>\n",
              "      <td>119.00</td>\n",
              "      <td>70.00</td>\n",
              "      <td>28.50</td>\n",
              "      <td>125.50</td>\n",
              "      <td>32.75</td>\n",
              "      <td>0.45</td>\n",
              "      <td>28.00</td>\n",
              "      <td>0.00</td>\n",
              "    </tr>\n",
              "    <tr>\n",
              "      <th>75%</th>\n",
              "      <td>6.00</td>\n",
              "      <td>144.00</td>\n",
              "      <td>78.00</td>\n",
              "      <td>36.00</td>\n",
              "      <td>190.00</td>\n",
              "      <td>36.25</td>\n",
              "      <td>0.69</td>\n",
              "      <td>38.00</td>\n",
              "      <td>1.00</td>\n",
              "    </tr>\n",
              "    <tr>\n",
              "      <th>max</th>\n",
              "      <td>17.00</td>\n",
              "      <td>197.00</td>\n",
              "      <td>110.00</td>\n",
              "      <td>52.00</td>\n",
              "      <td>846.00</td>\n",
              "      <td>57.30</td>\n",
              "      <td>2.33</td>\n",
              "      <td>81.00</td>\n",
              "      <td>1.00</td>\n",
              "    </tr>\n",
              "  </tbody>\n",
              "</table>\n",
              "</div>\n",
              "      <button class=\"colab-df-convert\" onclick=\"convertToInteractive('df-c463fb5b-aa97-49b5-bd34-7ba1f43cddc2')\"\n",
              "              title=\"Convert this dataframe to an interactive table.\"\n",
              "              style=\"display:none;\">\n",
              "        \n",
              "  <svg xmlns=\"http://www.w3.org/2000/svg\" height=\"24px\"viewBox=\"0 0 24 24\"\n",
              "       width=\"24px\">\n",
              "    <path d=\"M0 0h24v24H0V0z\" fill=\"none\"/>\n",
              "    <path d=\"M18.56 5.44l.94 2.06.94-2.06 2.06-.94-2.06-.94-.94-2.06-.94 2.06-2.06.94zm-11 1L8.5 8.5l.94-2.06 2.06-.94-2.06-.94L8.5 2.5l-.94 2.06-2.06.94zm10 10l.94 2.06.94-2.06 2.06-.94-2.06-.94-.94-2.06-.94 2.06-2.06.94z\"/><path d=\"M17.41 7.96l-1.37-1.37c-.4-.4-.92-.59-1.43-.59-.52 0-1.04.2-1.43.59L10.3 9.45l-7.72 7.72c-.78.78-.78 2.05 0 2.83L4 21.41c.39.39.9.59 1.41.59.51 0 1.02-.2 1.41-.59l7.78-7.78 2.81-2.81c.8-.78.8-2.07 0-2.86zM5.41 20L4 18.59l7.72-7.72 1.47 1.35L5.41 20z\"/>\n",
              "  </svg>\n",
              "      </button>\n",
              "      \n",
              "  <style>\n",
              "    .colab-df-container {\n",
              "      display:flex;\n",
              "      flex-wrap:wrap;\n",
              "      gap: 12px;\n",
              "    }\n",
              "\n",
              "    .colab-df-convert {\n",
              "      background-color: #E8F0FE;\n",
              "      border: none;\n",
              "      border-radius: 50%;\n",
              "      cursor: pointer;\n",
              "      display: none;\n",
              "      fill: #1967D2;\n",
              "      height: 32px;\n",
              "      padding: 0 0 0 0;\n",
              "      width: 32px;\n",
              "    }\n",
              "\n",
              "    .colab-df-convert:hover {\n",
              "      background-color: #E2EBFA;\n",
              "      box-shadow: 0px 1px 2px rgba(60, 64, 67, 0.3), 0px 1px 3px 1px rgba(60, 64, 67, 0.15);\n",
              "      fill: #174EA6;\n",
              "    }\n",
              "\n",
              "    [theme=dark] .colab-df-convert {\n",
              "      background-color: #3B4455;\n",
              "      fill: #D2E3FC;\n",
              "    }\n",
              "\n",
              "    [theme=dark] .colab-df-convert:hover {\n",
              "      background-color: #434B5C;\n",
              "      box-shadow: 0px 1px 3px 1px rgba(0, 0, 0, 0.15);\n",
              "      filter: drop-shadow(0px 1px 2px rgba(0, 0, 0, 0.3));\n",
              "      fill: #FFFFFF;\n",
              "    }\n",
              "  </style>\n",
              "\n",
              "      <script>\n",
              "        const buttonEl =\n",
              "          document.querySelector('#df-c463fb5b-aa97-49b5-bd34-7ba1f43cddc2 button.colab-df-convert');\n",
              "        buttonEl.style.display =\n",
              "          google.colab.kernel.accessAllowed ? 'block' : 'none';\n",
              "\n",
              "        async function convertToInteractive(key) {\n",
              "          const element = document.querySelector('#df-c463fb5b-aa97-49b5-bd34-7ba1f43cddc2');\n",
              "          const dataTable =\n",
              "            await google.colab.kernel.invokeFunction('convertToInteractive',\n",
              "                                                     [key], {});\n",
              "          if (!dataTable) return;\n",
              "\n",
              "          const docLinkHtml = 'Like what you see? Visit the ' +\n",
              "            '<a target=\"_blank\" href=https://colab.research.google.com/notebooks/data_table.ipynb>data table notebook</a>'\n",
              "            + ' to learn more about interactive tables.';\n",
              "          element.innerHTML = '';\n",
              "          dataTable['output_type'] = 'display_data';\n",
              "          await google.colab.output.renderOutput(dataTable, element);\n",
              "          const docLink = document.createElement('div');\n",
              "          docLink.innerHTML = docLinkHtml;\n",
              "          element.appendChild(docLink);\n",
              "        }\n",
              "      </script>\n",
              "    </div>\n",
              "  </div>\n",
              "  "
            ]
          },
          "metadata": {},
          "execution_count": 439
        }
      ]
    },
    {
      "cell_type": "markdown",
      "source": [
        "#### Choose a processed dataset"
      ],
      "metadata": {
        "id": "6ZeC7GHEEdU_"
      }
    },
    {
      "cell_type": "code",
      "source": [
        "df_diabetes = df_diabetes_0_meaned\n",
        "df_diabetes.shape"
      ],
      "metadata": {
        "colab": {
          "base_uri": "https://localhost:8080/"
        },
        "id": "KgmF5lrEEcX-",
        "outputId": "1dfd3198-0e44-4c40-8cd9-7ae9e3b3e05b"
      },
      "execution_count": 440,
      "outputs": [
        {
          "output_type": "execute_result",
          "data": {
            "text/plain": [
              "(768, 9)"
            ]
          },
          "metadata": {},
          "execution_count": 440
        }
      ]
    },
    {
      "cell_type": "markdown",
      "source": [
        "## 📊 EDA\n",
        "\n",
        "In statistics, exploratory data analysis (EDA) is an approach of analyzing data sets to summarize their main characteristics, often using statistical graphics and other data visualization methods"
      ],
      "metadata": {
        "id": "oMqqhxLyXeee"
      }
    },
    {
      "cell_type": "markdown",
      "source": [
        "### Outcome Distribution\n",
        "lets see the distribution of Outcome(diabetes or not)"
      ],
      "metadata": {
        "id": "byWQkBIXaeLO"
      }
    },
    {
      "cell_type": "code",
      "source": [
        "sns.countplot(x='Outcome', data=df_diabetes)\n",
        "plt.title(\"Count of Outcome (diabetes or not)\")\n",
        "plt.show()"
      ],
      "metadata": {
        "colab": {
          "base_uri": "https://localhost:8080/",
          "height": 295
        },
        "id": "xi9iIGfKrS1Z",
        "outputId": "90b99b74-82f8-4aad-81d1-3a4fd7e3c867"
      },
      "execution_count": 441,
      "outputs": [
        {
          "output_type": "display_data",
          "data": {
            "text/plain": [
              "<Figure size 432x288 with 1 Axes>"
            ],
            "image/png": "[encoded data removed]"
          },
          "metadata": {
            "needs_background": "light"
          }
        }
      ]
    },
    {
      "cell_type": "code",
      "source": [
        "ax= px.pie(df_diabetes, names= \"Outcome\",title= \"Distribution of Diabetes\",hole= 0.65)\n",
        "ax.show()"
      ],
      "metadata": {
        "colab": {
          "base_uri": "https://localhost:8080/",
          "height": 542
        },
        "id": "77ZhkBDwbhB0",
        "outputId": "217cb3c3-1916-48e8-a0b7-2b20260ac403"
      },
      "execution_count": 442,
      "outputs": [
        {
          "output_type": "display_data",
          "data": {
            "text/html": [
              "<html>\n",
              "<head><meta charset=\"utf-8\" /></head>\n",
              "<body>\n",
              "    <div>            <script src=\"https://cdnjs.cloudflare.com/ajax/libs/mathjax/2.7.5/MathJax.js?config=TeX-AMS-MML_SVG\"></script><script type=\"text/javascript\">if (window.MathJax && window.MathJax.Hub && window.MathJax.Hub.Config) {window.MathJax.Hub.Config({SVG: {font: \"STIX-Web\"}});}</script>                <script type=\"text/javascript\">window.PlotlyConfig = {MathJaxConfig: 'local'};</script>\n",
              "        <script src=\"https://cdn.plot.ly/plotly-2.18.0.min.js\"></script>                <div id=\"acf13504-5776-4b0d-91cc-98d2a58d8b4d\" class=\"plotly-graph-div\" style=\"height:525px; width:100%;\"></div>            <script type=\"text/javascript\">                                    window.PLOTLYENV=window.PLOTLYENV || {};                                    if (document.getElementById(\"acf13504-5776-4b0d-91cc-98d2a58d8b4d\")) {                    Plotly.newPlot(                        \"acf13504-5776-4b0d-91cc-98d2a58d8b4d\",                        [{\"domain\":{\"x\":[0.0,1.0],\"y\":[0.0,1.0]},\"hole\":0.65,\"hovertemplate\":\"Outcome=%{label}<extra></extra>\",\"labels\":[1,0,1,0,1,0,1,0,1,1,0,1,0,1,1,1,1,1,0,1,0,0,1,1,1,1,1,0,0,0,0,1,0,0,0,0,0,1,1,1,0,0,0,1,0,1,0,0,1,0,0,0,0,1,0,0,1,0,0,0,0,1,0,0,1,0,1,0,0,0,1,0,1,0,0,0,0,0,1,0,0,0,0,0,1,0,0,0,1,0,0,0,0,1,0,0,0,0,0,1,1,0,0,0,0,0,0,0,0,1,1,1,0,0,1,1,1,0,0,0,1,0,0,0,1,1,0,0,1,1,1,1,1,0,0,0,0,0,0,0,0,0,0,1,0,0,0,0,0,0,0,0,1,0,1,1,0,0,0,1,0,0,0,0,1,1,0,0,0,0,1,1,0,0,0,1,0,1,0,1,0,0,0,0,0,1,1,1,1,1,0,0,1,1,0,1,0,1,1,1,0,0,0,0,0,0,1,1,0,1,0,0,0,1,1,1,1,0,1,1,1,1,0,0,0,0,0,1,0,0,1,1,0,0,0,1,1,1,1,0,0,0,1,1,0,1,0,0,0,0,0,0,0,0,1,1,0,0,0,1,0,1,0,0,1,0,1,0,0,1,1,0,0,0,0,0,1,0,0,0,1,0,0,1,1,0,0,1,0,0,0,1,1,1,0,0,1,0,1,0,1,1,0,1,0,0,1,0,1,1,0,0,1,0,1,0,0,1,0,1,0,1,1,1,0,0,1,0,1,0,0,0,1,0,0,0,0,1,1,1,0,0,0,0,0,0,0,0,0,1,0,0,0,0,0,1,1,1,0,1,1,0,0,1,0,0,1,0,0,1,1,0,0,0,0,1,0,0,1,0,0,0,0,0,0,0,1,1,1,0,0,1,0,0,1,0,0,1,0,1,1,0,1,0,1,0,1,0,1,1,0,0,0,0,1,1,0,1,0,1,0,0,0,0,1,1,0,1,0,1,0,0,0,0,0,1,0,0,0,0,1,0,0,1,1,1,0,0,1,0,0,1,0,0,0,1,0,0,1,0,0,0,0,0,0,0,0,0,1,0,0,0,0,0,0,0,1,0,0,0,1,0,0,0,1,1,0,0,0,0,0,0,0,1,0,0,0,0,1,0,0,0,1,0,0,0,1,0,0,0,1,0,0,0,0,1,1,0,0,0,0,0,0,1,0,0,0,0,0,0,0,0,0,0,0,1,0,0,0,1,1,1,1,0,0,1,1,0,0,0,0,0,0,0,0,0,0,0,0,0,1,1,0,0,0,0,0,0,0,1,0,0,0,0,0,0,0,1,0,1,1,0,0,0,1,0,1,0,1,0,1,0,1,0,0,1,0,0,1,0,0,0,0,1,1,0,1,0,0,0,0,1,1,0,1,0,0,0,1,1,0,0,0,0,0,0,0,0,0,0,1,0,0,0,0,1,0,0,1,0,0,0,1,0,0,0,1,1,1,0,0,0,0,0,0,1,0,0,0,1,0,1,1,1,1,0,1,1,0,0,0,0,0,0,0,1,1,0,1,0,0,1,0,1,0,0,0,0,0,1,0,1,0,1,0,1,1,0,0,0,0,1,1,0,0,0,1,0,1,1,0,0,1,0,0,1,1,0,0,1,0,0,1,0,0,0,0,0,0,0,1,1,1,0,0,0,0,0,0,1,1,0,0,1,0,0,1,0,1,1,1,0,0,1,1,1,0,1,0,1,0,1,0,0,0,0,1,0],\"legendgroup\":\"\",\"name\":\"\",\"showlegend\":true,\"type\":\"pie\"}],                        {\"template\":{\"data\":{\"histogram2dcontour\":[{\"type\":\"histogram2dcontour\",\"colorbar\":{\"outlinewidth\":0,\"ticks\":\"\"},\"colorscale\":[[0.0,\"#0d0887\"],[0.1111111111111111,\"#46039f\"],[0.2222222222222222,\"#7201a8\"],[0.3333333333333333,\"#9c179e\"],[0.4444444444444444,\"#bd3786\"],[0.5555555555555556,\"#d8576b\"],[0.6666666666666666,\"#ed7953\"],[0.7777777777777778,\"#fb9f3a\"],[0.8888888888888888,\"#fdca26\"],[1.0,\"#f0f921\"]]}],\"choropleth\":[{\"type\":\"choropleth\",\"colorbar\":{\"outlinewidth\":0,\"ticks\":\"\"}}],\"histogram2d\":[{\"type\":\"histogram2d\",\"colorbar\":{\"outlinewidth\":0,\"ticks\":\"\"},\"colorscale\":[[0.0,\"#0d0887\"],[0.1111111111111111,\"#46039f\"],[0.2222222222222222,\"#7201a8\"],[0.3333333333333333,\"#9c179e\"],[0.4444444444444444,\"#bd3786\"],[0.5555555555555556,\"#d8576b\"],[0.6666666666666666,\"#ed7953\"],[0.7777777777777778,\"#fb9f3a\"],[0.8888888888888888,\"#fdca26\"],[1.0,\"#f0f921\"]]}],\"heatmap\":[{\"type\":\"heatmap\",\"colorbar\":{\"outlinewidth\":0,\"ticks\":\"\"},\"colorscale\":[[0.0,\"#0d0887\"],[0.1111111111111111,\"#46039f\"],[0.2222222222222222,\"#7201a8\"],[0.3333333333333333,\"#9c179e\"],[0.4444444444444444,\"#bd3786\"],[0.5555555555555556,\"#d8576b\"],[0.6666666666666666,\"#ed7953\"],[0.7777777777777778,\"#fb9f3a\"],[0.8888888888888888,\"#fdca26\"],[1.0,\"#f0f921\"]]}],\"heatmapgl\":[{\"type\":\"heatmapgl\",\"colorbar\":{\"outlinewidth\":0,\"ticks\":\"\"},\"colorscale\":[[0.0,\"#0d0887\"],[0.1111111111111111,\"#46039f\"],[0.2222222222222222,\"#7201a8\"],[0.3333333333333333,\"#9c179e\"],[0.4444444444444444,\"#bd3786\"],[0.5555555555555556,\"#d8576b\"],[0.6666666666666666,\"#ed7953\"],[0.7777777777777778,\"#fb9f3a\"],[0.8888888888888888,\"#fdca26\"],[1.0,\"#f0f921\"]]}],\"contourcarpet\":[{\"type\":\"contourcarpet\",\"colorbar\":{\"outlinewidth\":0,\"ticks\":\"\"}}],\"contour\":[{\"type\":\"contour\",\"colorbar\":{\"outlinewidth\":0,\"ticks\":\"\"},\"colorscale\":[[0.0,\"#0d0887\"],[0.1111111111111111,\"#46039f\"],[0.2222222222222222,\"#7201a8\"],[0.3333333333333333,\"#9c179e\"],[0.4444444444444444,\"#bd3786\"],[0.5555555555555556,\"#d8576b\"],[0.6666666666666666,\"#ed7953\"],[0.7777777777777778,\"#fb9f3a\"],[0.8888888888888888,\"#fdca26\"],[1.0,\"#f0f921\"]]}],\"surface\":[{\"type\":\"surface\",\"colorbar\":{\"outlinewidth\":0,\"ticks\":\"\"},\"colorscale\":[[0.0,\"#0d0887\"],[0.1111111111111111,\"#46039f\"],[0.2222222222222222,\"#7201a8\"],[0.3333333333333333,\"#9c179e\"],[0.4444444444444444,\"#bd3786\"],[0.5555555555555556,\"#d8576b\"],[0.6666666666666666,\"#ed7953\"],[0.7777777777777778,\"#fb9f3a\"],[0.8888888888888888,\"#fdca26\"],[1.0,\"#f0f921\"]]}],\"mesh3d\":[{\"type\":\"mesh3d\",\"colorbar\":{\"outlinewidth\":0,\"ticks\":\"\"}}],\"scatter\":[{\"fillpattern\":{\"fillmode\":\"overlay\",\"size\":10,\"solidity\":0.2},\"type\":\"scatter\"}],\"parcoords\":[{\"type\":\"parcoords\",\"line\":{\"colorbar\":{\"outlinewidth\":0,\"ticks\":\"\"}}}],\"scatterpolargl\":[{\"type\":\"scatterpolargl\",\"marker\":{\"colorbar\":{\"outlinewidth\":0,\"ticks\":\"\"}}}],\"bar\":[{\"error_x\":{\"color\":\"#2a3f5f\"},\"error_y\":{\"color\":\"#2a3f5f\"},\"marker\":{\"line\":{\"color\":\"#E5ECF6\",\"width\":0.5},\"pattern\":{\"fillmode\":\"overlay\",\"size\":10,\"solidity\":0.2}},\"type\":\"bar\"}],\"scattergeo\":[{\"type\":\"scattergeo\",\"marker\":{\"colorbar\":{\"outlinewidth\":0,\"ticks\":\"\"}}}],\"scatterpolar\":[{\"type\":\"scatterpolar\",\"marker\":{\"colorbar\":{\"outlinewidth\":0,\"ticks\":\"\"}}}],\"histogram\":[{\"marker\":{\"pattern\":{\"fillmode\":\"overlay\",\"size\":10,\"solidity\":0.2}},\"type\":\"histogram\"}],\"scattergl\":[{\"type\":\"scattergl\",\"marker\":{\"colorbar\":{\"outlinewidth\":0,\"ticks\":\"\"}}}],\"scatter3d\":[{\"type\":\"scatter3d\",\"line\":{\"colorbar\":{\"outlinewidth\":0,\"ticks\":\"\"}},\"marker\":{\"colorbar\":{\"outlinewidth\":0,\"ticks\":\"\"}}}],\"scattermapbox\":[{\"type\":\"scattermapbox\",\"marker\":{\"colorbar\":{\"outlinewidth\":0,\"ticks\":\"\"}}}],\"scatterternary\":[{\"type\":\"scatterternary\",\"marker\":{\"colorbar\":{\"outlinewidth\":0,\"ticks\":\"\"}}}],\"scattercarpet\":[{\"type\":\"scattercarpet\",\"marker\":{\"colorbar\":{\"outlinewidth\":0,\"ticks\":\"\"}}}],\"carpet\":[{\"aaxis\":{\"endlinecolor\":\"#2a3f5f\",\"gridcolor\":\"white\",\"linecolor\":\"white\",\"minorgridcolor\":\"white\",\"startlinecolor\":\"#2a3f5f\"},\"baxis\":{\"endlinecolor\":\"#2a3f5f\",\"gridcolor\":\"white\",\"linecolor\":\"white\",\"minorgridcolor\":\"white\",\"startlinecolor\":\"#2a3f5f\"},\"type\":\"carpet\"}],\"table\":[{\"cells\":{\"fill\":{\"color\":\"#EBF0F8\"},\"line\":{\"color\":\"white\"}},\"header\":{\"fill\":{\"color\":\"#C8D4E3\"},\"line\":{\"color\":\"white\"}},\"type\":\"table\"}],\"barpolar\":[{\"marker\":{\"line\":{\"color\":\"#E5ECF6\",\"width\":0.5},\"pattern\":{\"fillmode\":\"overlay\",\"size\":10,\"solidity\":0.2}},\"type\":\"barpolar\"}],\"pie\":[{\"automargin\":true,\"type\":\"pie\"}]},\"layout\":{\"autotypenumbers\":\"strict\",\"colorway\":[\"#636efa\",\"#EF553B\",\"#00cc96\",\"#ab63fa\",\"#FFA15A\",\"#19d3f3\",\"#FF6692\",\"#B6E880\",\"#FF97FF\",\"#FECB52\"],\"font\":{\"color\":\"#2a3f5f\"},\"hovermode\":\"closest\",\"hoverlabel\":{\"align\":\"left\"},\"paper_bgcolor\":\"white\",\"plot_bgcolor\":\"#E5ECF6\",\"polar\":{\"bgcolor\":\"#E5ECF6\",\"angularaxis\":{\"gridcolor\":\"white\",\"linecolor\":\"white\",\"ticks\":\"\"},\"radialaxis\":{\"gridcolor\":\"white\",\"linecolor\":\"white\",\"ticks\":\"\"}},\"ternary\":{\"bgcolor\":\"#E5ECF6\",\"aaxis\":{\"gridcolor\":\"white\",\"linecolor\":\"white\",\"ticks\":\"\"},\"baxis\":{\"gridcolor\":\"white\",\"linecolor\":\"white\",\"ticks\":\"\"},\"caxis\":{\"gridcolor\":\"white\",\"linecolor\":\"white\",\"ticks\":\"\"}},\"coloraxis\":{\"colorbar\":{\"outlinewidth\":0,\"ticks\":\"\"}},\"colorscale\":{\"sequential\":[[0.0,\"#0d0887\"],[0.1111111111111111,\"#46039f\"],[0.2222222222222222,\"#7201a8\"],[0.3333333333333333,\"#9c179e\"],[0.4444444444444444,\"#bd3786\"],[0.5555555555555556,\"#d8576b\"],[0.6666666666666666,\"#ed7953\"],[0.7777777777777778,\"#fb9f3a\"],[0.8888888888888888,\"#fdca26\"],[1.0,\"#f0f921\"]],\"sequentialminus\":[[0.0,\"#0d0887\"],[0.1111111111111111,\"#46039f\"],[0.2222222222222222,\"#7201a8\"],[0.3333333333333333,\"#9c179e\"],[0.4444444444444444,\"#bd3786\"],[0.5555555555555556,\"#d8576b\"],[0.6666666666666666,\"#ed7953\"],[0.7777777777777778,\"#fb9f3a\"],[0.8888888888888888,\"#fdca26\"],[1.0,\"#f0f921\"]],\"diverging\":[[0,\"#8e0152\"],[0.1,\"#c51b7d\"],[0.2,\"#de77ae\"],[0.3,\"#f1b6da\"],[0.4,\"#fde0ef\"],[0.5,\"#f7f7f7\"],[0.6,\"#e6f5d0\"],[0.7,\"#b8e186\"],[0.8,\"#7fbc41\"],[0.9,\"#4d9221\"],[1,\"#276419\"]]},\"xaxis\":{\"gridcolor\":\"white\",\"linecolor\":\"white\",\"ticks\":\"\",\"title\":{\"standoff\":15},\"zerolinecolor\":\"white\",\"automargin\":true,\"zerolinewidth\":2},\"yaxis\":{\"gridcolor\":\"white\",\"linecolor\":\"white\",\"ticks\":\"\",\"title\":{\"standoff\":15},\"zerolinecolor\":\"white\",\"automargin\":true,\"zerolinewidth\":2},\"scene\":{\"xaxis\":{\"backgroundcolor\":\"#E5ECF6\",\"gridcolor\":\"white\",\"linecolor\":\"white\",\"showbackground\":true,\"ticks\":\"\",\"zerolinecolor\":\"white\",\"gridwidth\":2},\"yaxis\":{\"backgroundcolor\":\"#E5ECF6\",\"gridcolor\":\"white\",\"linecolor\":\"white\",\"showbackground\":true,\"ticks\":\"\",\"zerolinecolor\":\"white\",\"gridwidth\":2},\"zaxis\":{\"backgroundcolor\":\"#E5ECF6\",\"gridcolor\":\"white\",\"linecolor\":\"white\",\"showbackground\":true,\"ticks\":\"\",\"zerolinecolor\":\"white\",\"gridwidth\":2}},\"shapedefaults\":{\"line\":{\"color\":\"#2a3f5f\"}},\"annotationdefaults\":{\"arrowcolor\":\"#2a3f5f\",\"arrowhead\":0,\"arrowwidth\":1},\"geo\":{\"bgcolor\":\"white\",\"landcolor\":\"#E5ECF6\",\"subunitcolor\":\"white\",\"showland\":true,\"showlakes\":true,\"lakecolor\":\"white\"},\"title\":{\"x\":0.05},\"mapbox\":{\"style\":\"light\"}}},\"legend\":{\"tracegroupgap\":0},\"title\":{\"text\":\"Distribution of Diabetes\"}},                        {\"responsive\": true}                    ).then(function(){\n",
              "                            \n",
              "var gd = document.getElementById('acf13504-5776-4b0d-91cc-98d2a58d8b4d');\n",
              "var x = new MutationObserver(function (mutations, observer) {{\n",
              "        var display = window.getComputedStyle(gd).display;\n",
              "        if (!display || display === 'none') {{\n",
              "            console.log([gd, 'removed!']);\n",
              "            Plotly.purge(gd);\n",
              "            observer.disconnect();\n",
              "        }}\n",
              "}});\n",
              "\n",
              "// Listen for the removal of the full notebook cells\n",
              "var notebookContainer = gd.closest('#notebook-container');\n",
              "if (notebookContainer) {{\n",
              "    x.observe(notebookContainer, {childList: true});\n",
              "}}\n",
              "\n",
              "// Listen for the clearing of the current output cell\n",
              "var outputEl = gd.closest('.output');\n",
              "if (outputEl) {{\n",
              "    x.observe(outputEl, {childList: true});\n",
              "}}\n",
              "\n",
              "                        })                };                            </script>        </div>\n",
              "</body>\n",
              "</html>"
            ]
          },
          "metadata": {}
        }
      ]
    },
    {
      "cell_type": "markdown",
      "source": [
        "The dataset is slightly imbalanced wrt to outcome as 65% of patients have low of diabetes and only 34% patients have high chance.  \n",
        "\n",
        "**[](go)**"
      ],
      "metadata": {
        "id": "aBDWDy9_bOss"
      }
    },
    {
      "cell_type": "markdown",
      "source": [
        "### Correlation "
      ],
      "metadata": {
        "id": "Is1tIaGAX456"
      }
    },
    {
      "cell_type": "code",
      "source": [
        "plt.figure(figsize= (13,8))\n",
        "sns.set_style(\"darkgrid\")\n",
        "sns.heatmap(df_diabetes.corr(),annot= True)\n",
        "plt.show()"
      ],
      "metadata": {
        "colab": {
          "base_uri": "https://localhost:8080/",
          "height": 607
        },
        "id": "5TJqLX6bYKjC",
        "outputId": "c220f2e7-f1a2-422d-957c-19be6e8973fb"
      },
      "execution_count": 443,
      "outputs": [
        {
          "output_type": "display_data",
          "data": {
            "text/plain": [
              "<Figure size 936x576 with 2 Axes>"
            ],
            "image/png": "[encoded data removed]"
          },
          "metadata": {
            "needs_background": "light"
          }
        }
      ]
    },
    {
      "cell_type": "code",
      "source": [
        "# Calculer la matrice de corrélation\n",
        "correlation_matrix = df_diabetes.corr()\n",
        "columns_to_drop = []\n",
        "# Boucle sur les colonnes de la matrice de corrélation\n",
        "for i in range(len(correlation_matrix.columns)):\n",
        "    for j in range(i):\n",
        "        # Si la corrélation est supérieure à 0,9\n",
        "        if abs(correlation_matrix.iloc[i, j]) > 0.9:\n",
        "            columns_to_drop.append(correlation_matrix.columns[j]) \n",
        "\n",
        "columns_to_drop"
      ],
      "metadata": {
        "colab": {
          "base_uri": "https://localhost:8080/"
        },
        "id": "RqEh8PM-k9qb",
        "outputId": "ca0d8e67-c8dc-48d7-ff18-cb56fc4f83ab"
      },
      "execution_count": 444,
      "outputs": [
        {
          "output_type": "execute_result",
          "data": {
            "text/plain": [
              "[]"
            ]
          },
          "metadata": {},
          "execution_count": 444
        }
      ]
    },
    {
      "cell_type": "markdown",
      "source": [
        "### Age Distribution\n",
        "\n",
        "lets see the distribution of age across dataset"
      ],
      "metadata": {
        "id": "Dwg-VgwsZX33"
      }
    },
    {
      "cell_type": "code",
      "source": [
        "ax= px.histogram(df_diabetes,x= \"Age\",color= \"Outcome\",title='Age distribution')\n",
        "ax.show()"
      ],
      "metadata": {
        "colab": {
          "base_uri": "https://localhost:8080/",
          "height": 542
        },
        "id": "kS4JmMzEZXN_",
        "outputId": "d4d61866-5fe1-4df9-9826-a581edf1b750"
      },
      "execution_count": 445,
      "outputs": [
        {
          "output_type": "display_data",
          "data": {
            "text/html": [
              "<html>\n",
              "<head><meta charset=\"utf-8\" /></head>\n",
              "<body>\n",
              "    <div>            <script src=\"https://cdnjs.cloudflare.com/ajax/libs/mathjax/2.7.5/MathJax.js?config=TeX-AMS-MML_SVG\"></script><script type=\"text/javascript\">if (window.MathJax && window.MathJax.Hub && window.MathJax.Hub.Config) {window.MathJax.Hub.Config({SVG: {font: \"STIX-Web\"}});}</script>                <script type=\"text/javascript\">window.PlotlyConfig = {MathJaxConfig: 'local'};</script>\n",
              "        <script src=\"https://cdn.plot.ly/plotly-2.18.0.min.js\"></script>                <div id=\"f21f3035-c085-4292-a0ca-3dfb87738ce9\" class=\"plotly-graph-div\" style=\"height:525px; width:100%;\"></div>            <script type=\"text/javascript\">                                    window.PLOTLYENV=window.PLOTLYENV || {};                                    if (document.getElementById(\"f21f3035-c085-4292-a0ca-3dfb87738ce9\")) {                    Plotly.newPlot(                        \"f21f3035-c085-4292-a0ca-3dfb87738ce9\",                        [{\"alignmentgroup\":\"True\",\"bingroup\":\"x\",\"hovertemplate\":\"Outcome=1<br>Age=%{x}<br>count=%{y}<extra></extra>\",\"legendgroup\":\"1\",\"marker\":{\"color\":\"#636efa\",\"pattern\":{\"shape\":\"\"}},\"name\":\"1\",\"offsetgroup\":\"1\",\"orientation\":\"v\",\"showlegend\":true,\"x\":[50,32,33,26,53,54,34,59,51,32,31,31,32,41,29,51,41,43,28,46,27,56,54,25,31,58,41,39,42,38,28,42,26,37,43,60,31,33,24,24,46,39,61,38,25,23,26,40,62,33,33,30,42,42,43,36,47,32,41,36,29,36,26,37,41,60,33,31,25,36,40,29,23,26,29,57,52,41,24,36,38,25,32,41,21,66,24,22,46,26,51,23,32,22,33,49,44,21,51,27,35,25,28,38,29,28,47,52,29,25,31,24,29,46,30,25,28,47,25,30,27,43,29,59,25,36,43,30,23,41,44,33,41,37,49,28,44,29,29,67,29,45,25,58,32,35,45,58,27,31,22,25,31,35,41,46,39,28,21,22,37,28,36,31,38,43,29,41,33,30,25,22,23,38,51,38,29,35,31,24,45,55,41,35,46,28,53,45,23,32,43,27,56,37,53,54,28,33,21,62,21,52,41,52,45,44,22,38,54,36,22,36,40,50,50,24,34,38,32,50,33,22,42,25,27,22,43,40,40,70,40,31,53,25,26,27,46,44,43,43,31,49,52,30,45,23,38,34,31,52,42,34,22,24,42,48,45,27,36,50,22,26,45,37,52,66,43,47],\"xaxis\":\"x\",\"yaxis\":\"y\",\"type\":\"histogram\"},{\"alignmentgroup\":\"True\",\"bingroup\":\"x\",\"hovertemplate\":\"Outcome=0<br>Age=%{x}<br>count=%{y}<extra></extra>\",\"legendgroup\":\"0\",\"marker\":{\"color\":\"#EF553B\",\"pattern\":{\"shape\":\"\"}},\"name\":\"0\",\"offsetgroup\":\"0\",\"orientation\":\"v\",\"showlegend\":true,\"x\":[31,21,30,29,30,57,33,27,50,22,57,38,60,22,28,45,33,35,26,37,48,40,29,22,24,22,26,30,42,21,31,44,22,21,36,24,32,54,25,27,26,23,22,22,41,27,24,22,22,36,22,27,45,26,24,21,34,42,21,40,24,22,23,22,21,24,27,21,27,37,25,23,25,25,22,21,24,23,69,30,23,39,26,31,21,22,29,28,55,38,22,23,21,41,34,65,22,24,37,23,21,23,22,36,45,27,21,22,34,29,29,25,23,33,42,47,32,23,21,27,40,21,40,42,21,21,28,32,27,55,27,21,25,24,60,32,37,61,26,22,26,31,24,22,29,23,27,21,22,29,41,23,34,23,42,27,24,25,30,25,24,34,24,63,43,24,21,21,40,21,52,25,23,57,22,39,37,51,34,26,33,21,65,28,24,58,35,37,29,21,41,22,25,26,30,28,31,21,24,37,37,46,25,44,22,26,44,22,36,22,33,57,49,22,23,26,29,30,46,24,21,48,63,65,30,30,21,22,21,21,25,28,22,22,35,24,22,21,25,25,24,28,42,21,37,25,39,25,55,38,26,25,28,25,22,21,22,27,26,21,21,21,25,26,23,38,22,29,36,41,28,21,31,22,24,28,26,26,23,25,72,24,62,24,81,48,26,39,37,34,21,22,25,27,28,22,22,50,24,59,31,39,63,29,28,23,21,58,28,67,24,42,33,22,66,30,25,39,21,28,41,40,38,21,21,64,21,58,22,24,51,41,60,25,26,26,24,21,21,24,22,31,22,24,29,31,24,46,67,23,25,29,28,50,37,21,25,66,23,28,37,30,58,42,35,24,32,27,22,21,46,37,39,21,22,22,23,25,35,36,27,62,42,22,29,25,24,25,34,46,21,26,24,28,30,21,25,27,23,24,26,27,30,23,28,28,45,21,21,29,21,21,45,21,24,23,22,31,48,23,28,27,24,31,27,30,23,23,27,28,27,22,22,41,51,54,24,43,45,49,21,47,22,68,25,23,22,22,69,25,22,29,23,34,23,25,22,28,26,26,41,27,28,22,24,40,21,32,56,24,34,21,42,45,38,25,22,22,22,22,53,28,21,42,21,26,22,39,46,32,28,25,39,26,22,33,63,27,30,23],\"xaxis\":\"x\",\"yaxis\":\"y\",\"type\":\"histogram\"}],                        {\"template\":{\"data\":{\"histogram2dcontour\":[{\"type\":\"histogram2dcontour\",\"colorbar\":{\"outlinewidth\":0,\"ticks\":\"\"},\"colorscale\":[[0.0,\"#0d0887\"],[0.1111111111111111,\"#46039f\"],[0.2222222222222222,\"#7201a8\"],[0.3333333333333333,\"#9c179e\"],[0.4444444444444444,\"#bd3786\"],[0.5555555555555556,\"#d8576b\"],[0.6666666666666666,\"#ed7953\"],[0.7777777777777778,\"#fb9f3a\"],[0.8888888888888888,\"#fdca26\"],[1.0,\"#f0f921\"]]}],\"choropleth\":[{\"type\":\"choropleth\",\"colorbar\":{\"outlinewidth\":0,\"ticks\":\"\"}}],\"histogram2d\":[{\"type\":\"histogram2d\",\"colorbar\":{\"outlinewidth\":0,\"ticks\":\"\"},\"colorscale\":[[0.0,\"#0d0887\"],[0.1111111111111111,\"#46039f\"],[0.2222222222222222,\"#7201a8\"],[0.3333333333333333,\"#9c179e\"],[0.4444444444444444,\"#bd3786\"],[0.5555555555555556,\"#d8576b\"],[0.6666666666666666,\"#ed7953\"],[0.7777777777777778,\"#fb9f3a\"],[0.8888888888888888,\"#fdca26\"],[1.0,\"#f0f921\"]]}],\"heatmap\":[{\"type\":\"heatmap\",\"colorbar\":{\"outlinewidth\":0,\"ticks\":\"\"},\"colorscale\":[[0.0,\"#0d0887\"],[0.1111111111111111,\"#46039f\"],[0.2222222222222222,\"#7201a8\"],[0.3333333333333333,\"#9c179e\"],[0.4444444444444444,\"#bd3786\"],[0.5555555555555556,\"#d8576b\"],[0.6666666666666666,\"#ed7953\"],[0.7777777777777778,\"#fb9f3a\"],[0.8888888888888888,\"#fdca26\"],[1.0,\"#f0f921\"]]}],\"heatmapgl\":[{\"type\":\"heatmapgl\",\"colorbar\":{\"outlinewidth\":0,\"ticks\":\"\"},\"colorscale\":[[0.0,\"#0d0887\"],[0.1111111111111111,\"#46039f\"],[0.2222222222222222,\"#7201a8\"],[0.3333333333333333,\"#9c179e\"],[0.4444444444444444,\"#bd3786\"],[0.5555555555555556,\"#d8576b\"],[0.6666666666666666,\"#ed7953\"],[0.7777777777777778,\"#fb9f3a\"],[0.8888888888888888,\"#fdca26\"],[1.0,\"#f0f921\"]]}],\"contourcarpet\":[{\"type\":\"contourcarpet\",\"colorbar\":{\"outlinewidth\":0,\"ticks\":\"\"}}],\"contour\":[{\"type\":\"contour\",\"colorbar\":{\"outlinewidth\":0,\"ticks\":\"\"},\"colorscale\":[[0.0,\"#0d0887\"],[0.1111111111111111,\"#46039f\"],[0.2222222222222222,\"#7201a8\"],[0.3333333333333333,\"#9c179e\"],[0.4444444444444444,\"#bd3786\"],[0.5555555555555556,\"#d8576b\"],[0.6666666666666666,\"#ed7953\"],[0.7777777777777778,\"#fb9f3a\"],[0.8888888888888888,\"#fdca26\"],[1.0,\"#f0f921\"]]}],\"surface\":[{\"type\":\"surface\",\"colorbar\":{\"outlinewidth\":0,\"ticks\":\"\"},\"colorscale\":[[0.0,\"#0d0887\"],[0.1111111111111111,\"#46039f\"],[0.2222222222222222,\"#7201a8\"],[0.3333333333333333,\"#9c179e\"],[0.4444444444444444,\"#bd3786\"],[0.5555555555555556,\"#d8576b\"],[0.6666666666666666,\"#ed7953\"],[0.7777777777777778,\"#fb9f3a\"],[0.8888888888888888,\"#fdca26\"],[1.0,\"#f0f921\"]]}],\"mesh3d\":[{\"type\":\"mesh3d\",\"colorbar\":{\"outlinewidth\":0,\"ticks\":\"\"}}],\"scatter\":[{\"fillpattern\":{\"fillmode\":\"overlay\",\"size\":10,\"solidity\":0.2},\"type\":\"scatter\"}],\"parcoords\":[{\"type\":\"parcoords\",\"line\":{\"colorbar\":{\"outlinewidth\":0,\"ticks\":\"\"}}}],\"scatterpolargl\":[{\"type\":\"scatterpolargl\",\"marker\":{\"colorbar\":{\"outlinewidth\":0,\"ticks\":\"\"}}}],\"bar\":[{\"error_x\":{\"color\":\"#2a3f5f\"},\"error_y\":{\"color\":\"#2a3f5f\"},\"marker\":{\"line\":{\"color\":\"#E5ECF6\",\"width\":0.5},\"pattern\":{\"fillmode\":\"overlay\",\"size\":10,\"solidity\":0.2}},\"type\":\"bar\"}],\"scattergeo\":[{\"type\":\"scattergeo\",\"marker\":{\"colorbar\":{\"outlinewidth\":0,\"ticks\":\"\"}}}],\"scatterpolar\":[{\"type\":\"scatterpolar\",\"marker\":{\"colorbar\":{\"outlinewidth\":0,\"ticks\":\"\"}}}],\"histogram\":[{\"marker\":{\"pattern\":{\"fillmode\":\"overlay\",\"size\":10,\"solidity\":0.2}},\"type\":\"histogram\"}],\"scattergl\":[{\"type\":\"scattergl\",\"marker\":{\"colorbar\":{\"outlinewidth\":0,\"ticks\":\"\"}}}],\"scatter3d\":[{\"type\":\"scatter3d\",\"line\":{\"colorbar\":{\"outlinewidth\":0,\"ticks\":\"\"}},\"marker\":{\"colorbar\":{\"outlinewidth\":0,\"ticks\":\"\"}}}],\"scattermapbox\":[{\"type\":\"scattermapbox\",\"marker\":{\"colorbar\":{\"outlinewidth\":0,\"ticks\":\"\"}}}],\"scatterternary\":[{\"type\":\"scatterternary\",\"marker\":{\"colorbar\":{\"outlinewidth\":0,\"ticks\":\"\"}}}],\"scattercarpet\":[{\"type\":\"scattercarpet\",\"marker\":{\"colorbar\":{\"outlinewidth\":0,\"ticks\":\"\"}}}],\"carpet\":[{\"aaxis\":{\"endlinecolor\":\"#2a3f5f\",\"gridcolor\":\"white\",\"linecolor\":\"white\",\"minorgridcolor\":\"white\",\"startlinecolor\":\"#2a3f5f\"},\"baxis\":{\"endlinecolor\":\"#2a3f5f\",\"gridcolor\":\"white\",\"linecolor\":\"white\",\"minorgridcolor\":\"white\",\"startlinecolor\":\"#2a3f5f\"},\"type\":\"carpet\"}],\"table\":[{\"cells\":{\"fill\":{\"color\":\"#EBF0F8\"},\"line\":{\"color\":\"white\"}},\"header\":{\"fill\":{\"color\":\"#C8D4E3\"},\"line\":{\"color\":\"white\"}},\"type\":\"table\"}],\"barpolar\":[{\"marker\":{\"line\":{\"color\":\"#E5ECF6\",\"width\":0.5},\"pattern\":{\"fillmode\":\"overlay\",\"size\":10,\"solidity\":0.2}},\"type\":\"barpolar\"}],\"pie\":[{\"automargin\":true,\"type\":\"pie\"}]},\"layout\":{\"autotypenumbers\":\"strict\",\"colorway\":[\"#636efa\",\"#EF553B\",\"#00cc96\",\"#ab63fa\",\"#FFA15A\",\"#19d3f3\",\"#FF6692\",\"#B6E880\",\"#FF97FF\",\"#FECB52\"],\"font\":{\"color\":\"#2a3f5f\"},\"hovermode\":\"closest\",\"hoverlabel\":{\"align\":\"left\"},\"paper_bgcolor\":\"white\",\"plot_bgcolor\":\"#E5ECF6\",\"polar\":{\"bgcolor\":\"#E5ECF6\",\"angularaxis\":{\"gridcolor\":\"white\",\"linecolor\":\"white\",\"ticks\":\"\"},\"radialaxis\":{\"gridcolor\":\"white\",\"linecolor\":\"white\",\"ticks\":\"\"}},\"ternary\":{\"bgcolor\":\"#E5ECF6\",\"aaxis\":{\"gridcolor\":\"white\",\"linecolor\":\"white\",\"ticks\":\"\"},\"baxis\":{\"gridcolor\":\"white\",\"linecolor\":\"white\",\"ticks\":\"\"},\"caxis\":{\"gridcolor\":\"white\",\"linecolor\":\"white\",\"ticks\":\"\"}},\"coloraxis\":{\"colorbar\":{\"outlinewidth\":0,\"ticks\":\"\"}},\"colorscale\":{\"sequential\":[[0.0,\"#0d0887\"],[0.1111111111111111,\"#46039f\"],[0.2222222222222222,\"#7201a8\"],[0.3333333333333333,\"#9c179e\"],[0.4444444444444444,\"#bd3786\"],[0.5555555555555556,\"#d8576b\"],[0.6666666666666666,\"#ed7953\"],[0.7777777777777778,\"#fb9f3a\"],[0.8888888888888888,\"#fdca26\"],[1.0,\"#f0f921\"]],\"sequentialminus\":[[0.0,\"#0d0887\"],[0.1111111111111111,\"#46039f\"],[0.2222222222222222,\"#7201a8\"],[0.3333333333333333,\"#9c179e\"],[0.4444444444444444,\"#bd3786\"],[0.5555555555555556,\"#d8576b\"],[0.6666666666666666,\"#ed7953\"],[0.7777777777777778,\"#fb9f3a\"],[0.8888888888888888,\"#fdca26\"],[1.0,\"#f0f921\"]],\"diverging\":[[0,\"#8e0152\"],[0.1,\"#c51b7d\"],[0.2,\"#de77ae\"],[0.3,\"#f1b6da\"],[0.4,\"#fde0ef\"],[0.5,\"#f7f7f7\"],[0.6,\"#e6f5d0\"],[0.7,\"#b8e186\"],[0.8,\"#7fbc41\"],[0.9,\"#4d9221\"],[1,\"#276419\"]]},\"xaxis\":{\"gridcolor\":\"white\",\"linecolor\":\"white\",\"ticks\":\"\",\"title\":{\"standoff\":15},\"zerolinecolor\":\"white\",\"automargin\":true,\"zerolinewidth\":2},\"yaxis\":{\"gridcolor\":\"white\",\"linecolor\":\"white\",\"ticks\":\"\",\"title\":{\"standoff\":15},\"zerolinecolor\":\"white\",\"automargin\":true,\"zerolinewidth\":2},\"scene\":{\"xaxis\":{\"backgroundcolor\":\"#E5ECF6\",\"gridcolor\":\"white\",\"linecolor\":\"white\",\"showbackground\":true,\"ticks\":\"\",\"zerolinecolor\":\"white\",\"gridwidth\":2},\"yaxis\":{\"backgroundcolor\":\"#E5ECF6\",\"gridcolor\":\"white\",\"linecolor\":\"white\",\"showbackground\":true,\"ticks\":\"\",\"zerolinecolor\":\"white\",\"gridwidth\":2},\"zaxis\":{\"backgroundcolor\":\"#E5ECF6\",\"gridcolor\":\"white\",\"linecolor\":\"white\",\"showbackground\":true,\"ticks\":\"\",\"zerolinecolor\":\"white\",\"gridwidth\":2}},\"shapedefaults\":{\"line\":{\"color\":\"#2a3f5f\"}},\"annotationdefaults\":{\"arrowcolor\":\"#2a3f5f\",\"arrowhead\":0,\"arrowwidth\":1},\"geo\":{\"bgcolor\":\"white\",\"landcolor\":\"#E5ECF6\",\"subunitcolor\":\"white\",\"showland\":true,\"showlakes\":true,\"lakecolor\":\"white\"},\"title\":{\"x\":0.05},\"mapbox\":{\"style\":\"light\"}}},\"xaxis\":{\"anchor\":\"y\",\"domain\":[0.0,1.0],\"title\":{\"text\":\"Age\"}},\"yaxis\":{\"anchor\":\"x\",\"domain\":[0.0,1.0],\"title\":{\"text\":\"count\"}},\"legend\":{\"title\":{\"text\":\"Outcome\"},\"tracegroupgap\":0},\"title\":{\"text\":\"Age distribution\"},\"barmode\":\"relative\"},                        {\"responsive\": true}                    ).then(function(){\n",
              "                            \n",
              "var gd = document.getElementById('f21f3035-c085-4292-a0ca-3dfb87738ce9');\n",
              "var x = new MutationObserver(function (mutations, observer) {{\n",
              "        var display = window.getComputedStyle(gd).display;\n",
              "        if (!display || display === 'none') {{\n",
              "            console.log([gd, 'removed!']);\n",
              "            Plotly.purge(gd);\n",
              "            observer.disconnect();\n",
              "        }}\n",
              "}});\n",
              "\n",
              "// Listen for the removal of the full notebook cells\n",
              "var notebookContainer = gd.closest('#notebook-container');\n",
              "if (notebookContainer) {{\n",
              "    x.observe(notebookContainer, {childList: true});\n",
              "}}\n",
              "\n",
              "// Listen for the clearing of the current output cell\n",
              "var outputEl = gd.closest('.output');\n",
              "if (outputEl) {{\n",
              "    x.observe(outputEl, {childList: true});\n",
              "}}\n",
              "\n",
              "                        })                };                            </script>        </div>\n",
              "</body>\n",
              "</html>"
            ]
          },
          "metadata": {}
        }
      ]
    },
    {
      "cell_type": "code",
      "source": [
        "fig, ax=plt.subplots(1,figsize=(8,6))\n",
        "sns.boxplot(x='Outcome',y='Age', data=df_diabetes)\n",
        "#ax.set_ylim(0,300)\n",
        "plt.title(\"Outcome vs Age\")\n",
        "plt.show()"
      ],
      "metadata": {
        "colab": {
          "base_uri": "https://localhost:8080/",
          "height": 404
        },
        "id": "Z7d5RoAUJ2B0",
        "outputId": "c728fe6a-098f-4c9c-9039-a9d7aead5867"
      },
      "execution_count": 446,
      "outputs": [
        {
          "output_type": "display_data",
          "data": {
            "text/plain": [
              "<Figure size 576x432 with 1 Axes>"
            ],
            "image/png": "[encoded data removed]"
          },
          "metadata": {}
        }
      ]
    },
    {
      "cell_type": "markdown",
      "source": [
        "### Glucode + Age\n",
        "\n",
        "Glucose and age correlation/ distribution across target variable"
      ],
      "metadata": {
        "id": "-3gMn_7kbt8W"
      }
    },
    {
      "cell_type": "code",
      "source": [
        "ax= px.scatter(df_diabetes,x= \"Glucose\",y= \"Age\",marginal_x='histogram', marginal_y='histogram',size=\"Age\", size_max=8,color= \"Outcome\",title=\"Age and Glucose correlation\")\n",
        "ax.show()"
      ],
      "metadata": {
        "colab": {
          "base_uri": "https://localhost:8080/",
          "height": 542
        },
        "id": "h3m-wdXFb0_i",
        "outputId": "cf2eb63b-2727-42cc-9ad8-a5063534625c"
      },
      "execution_count": 447,
      "outputs": [
        {
          "output_type": "display_data",
          "data": {
            "text/html": [
              "<html>\n",
              "<head><meta charset=\"utf-8\" /></head>\n",
              "<body>\n",
              "    <div>            <script src=\"https://cdnjs.cloudflare.com/ajax/libs/mathjax/2.7.5/MathJax.js?config=TeX-AMS-MML_SVG\"></script><script type=\"text/javascript\">if (window.MathJax && window.MathJax.Hub && window.MathJax.Hub.Config) {window.MathJax.Hub.Config({SVG: {font: \"STIX-Web\"}});}</script>                <script type=\"text/javascript\">window.PlotlyConfig = {MathJaxConfig: 'local'};</script>\n",
              "        <script src=\"https://cdn.plot.ly/plotly-2.18.0.min.js\"></script>                <div id=\"1d9ca1b5-9294-4a0c-afe1-76fc480957c3\" class=\"plotly-graph-div\" style=\"height:525px; width:100%;\"></div>            <script type=\"text/javascript\">                                    window.PLOTLYENV=window.PLOTLYENV || {};                                    if (document.getElementById(\"1d9ca1b5-9294-4a0c-afe1-76fc480957c3\")) {                    Plotly.newPlot(                        \"1d9ca1b5-9294-4a0c-afe1-76fc480957c3\",                        [{\"hovertemplate\":\"Glucose=%{x}<br>Age=%{marker.size}<br>Outcome=%{marker.color}<extra></extra>\",\"legendgroup\":\"\",\"marker\":{\"color\":[1,0,1,0,1,0,1,0,1,1,0,1,0,1,1,1,1,1,0,1,0,0,1,1,1,1,1,0,0,0,0,1,0,0,0,0,0,1,1,1,0,0,0,1,0,1,0,0,1,0,0,0,0,1,0,0,1,0,0,0,0,1,0,0,1,0,1,0,0,0,1,0,1,0,0,0,0,0,1,0,0,0,0,0,1,0,0,0,1,0,0,0,0,1,0,0,0,0,0,1,1,0,0,0,0,0,0,0,0,1,1,1,0,0,1,1,1,0,0,0,1,0,0,0,1,1,0,0,1,1,1,1,1,0,0,0,0,0,0,0,0,0,0,1,0,0,0,0,0,0,0,0,1,0,1,1,0,0,0,1,0,0,0,0,1,1,0,0,0,0,1,1,0,0,0,1,0,1,0,1,0,0,0,0,0,1,1,1,1,1,0,0,1,1,0,1,0,1,1,1,0,0,0,0,0,0,1,1,0,1,0,0,0,1,1,1,1,0,1,1,1,1,0,0,0,0,0,1,0,0,1,1,0,0,0,1,1,1,1,0,0,0,1,1,0,1,0,0,0,0,0,0,0,0,1,1,0,0,0,1,0,1,0,0,1,0,1,0,0,1,1,0,0,0,0,0,1,0,0,0,1,0,0,1,1,0,0,1,0,0,0,1,1,1,0,0,1,0,1,0,1,1,0,1,0,0,1,0,1,1,0,0,1,0,1,0,0,1,0,1,0,1,1,1,0,0,1,0,1,0,0,0,1,0,0,0,0,1,1,1,0,0,0,0,0,0,0,0,0,1,0,0,0,0,0,1,1,1,0,1,1,0,0,1,0,0,1,0,0,1,1,0,0,0,0,1,0,0,1,0,0,0,0,0,0,0,1,1,1,0,0,1,0,0,1,0,0,1,0,1,1,0,1,0,1,0,1,0,1,1,0,0,0,0,1,1,0,1,0,1,0,0,0,0,1,1,0,1,0,1,0,0,0,0,0,1,0,0,0,0,1,0,0,1,1,1,0,0,1,0,0,1,0,0,0,1,0,0,1,0,0,0,0,0,0,0,0,0,1,0,0,0,0,0,0,0,1,0,0,0,1,0,0,0,1,1,0,0,0,0,0,0,0,1,0,0,0,0,1,0,0,0,1,0,0,0,1,0,0,0,1,0,0,0,0,1,1,0,0,0,0,0,0,1,0,0,0,0,0,0,0,0,0,0,0,1,0,0,0,1,1,1,1,0,0,1,1,0,0,0,0,0,0,0,0,0,0,0,0,0,1,1,0,0,0,0,0,0,0,1,0,0,0,0,0,0,0,1,0,1,1,0,0,0,1,0,1,0,1,0,1,0,1,0,0,1,0,0,1,0,0,0,0,1,1,0,1,0,0,0,0,1,1,0,1,0,0,0,1,1,0,0,0,0,0,0,0,0,0,0,1,0,0,0,0,1,0,0,1,0,0,0,1,0,0,0,1,1,1,0,0,0,0,0,0,1,0,0,0,1,0,1,1,1,1,0,1,1,0,0,0,0,0,0,0,1,1,0,1,0,0,1,0,1,0,0,0,0,0,1,0,1,0,1,0,1,1,0,0,0,0,1,1,0,0,0,1,0,1,1,0,0,1,0,0,1,1,0,0,1,0,0,1,0,0,0,0,0,0,0,1,1,1,0,0,0,0,0,0,1,1,0,0,1,0,0,1,0,1,1,1,0,0,1,1,1,0,1,0,1,0,1,0,0,0,0,1,0],\"coloraxis\":\"coloraxis\",\"size\":[50,31,32,21,33,30,26,29,53,54,30,34,57,59,51,32,31,31,33,32,27,50,41,29,51,41,43,22,57,38,60,28,22,28,45,33,35,46,27,56,26,37,48,54,40,25,29,22,31,24,22,26,30,58,42,21,41,31,44,22,21,39,36,24,42,32,38,54,25,27,28,26,42,23,22,22,41,27,26,24,22,22,36,22,37,27,45,26,43,24,21,34,42,60,21,40,24,22,23,31,33,22,21,24,27,21,27,37,25,24,24,46,23,25,39,61,38,25,22,21,25,24,23,69,23,26,30,23,40,62,33,33,30,39,26,31,21,22,29,28,55,38,22,42,23,21,41,34,65,22,24,37,42,23,43,36,21,23,22,47,36,45,27,21,32,41,22,34,29,29,36,29,25,23,33,36,42,26,47,37,32,23,21,27,40,41,60,33,31,25,21,40,36,40,42,29,21,23,26,29,21,28,32,27,55,27,57,52,21,41,25,24,60,24,36,38,25,32,32,41,21,66,37,61,26,22,26,24,31,24,22,46,22,29,23,26,51,23,32,27,21,22,22,33,29,49,41,23,34,23,42,27,24,25,44,21,30,25,24,51,34,27,24,63,35,43,25,24,21,28,38,21,40,21,52,25,29,23,57,22,28,39,37,47,52,51,34,29,26,33,21,25,31,24,65,28,29,24,46,58,30,25,35,28,37,29,47,21,25,30,41,22,27,25,43,26,30,29,28,59,31,25,36,43,21,24,30,37,23,37,46,25,41,44,22,26,44,44,33,41,22,36,22,33,57,49,22,23,26,37,29,30,46,24,21,49,28,44,48,29,29,63,65,67,30,30,29,21,22,45,25,21,21,25,28,58,22,22,32,35,24,22,21,25,25,24,35,45,58,28,42,27,21,37,31,25,39,22,25,25,31,55,35,38,41,26,46,25,39,28,28,25,22,21,21,22,22,37,27,28,26,21,21,21,36,31,25,38,26,43,23,38,22,29,36,29,41,28,21,31,41,22,24,33,30,25,28,26,22,26,23,23,25,72,24,38,62,24,51,81,48,26,39,37,34,21,22,25,38,27,28,22,22,50,24,59,29,31,39,63,35,29,28,23,31,24,21,58,28,67,24,42,33,45,22,66,30,25,55,39,21,28,41,41,40,38,35,21,21,64,46,21,58,22,24,28,53,51,41,60,25,26,26,45,24,21,21,24,22,31,22,24,29,31,24,23,46,67,23,32,43,27,56,25,29,37,53,28,50,37,21,25,66,23,28,37,30,58,42,35,54,28,24,32,27,22,21,46,37,33,39,21,22,22,23,25,35,21,36,62,21,27,62,42,52,22,41,29,52,25,45,24,44,25,34,22,46,21,38,26,24,28,30,54,36,21,22,25,27,23,24,36,40,26,50,27,30,23,50,24,28,28,45,21,21,29,21,21,45,21,34,24,23,22,31,38,48,23,32,28,27,24,50,31,27,30,33,22,42,23,23,27,28,27,22,25,22,41,51,27,54,22,43,40,40,24,70,40,43,45,49,21,47,22,68,31,53,25,25,23,22,26,22,27,69,25,22,29,23,46,34,44,23,43,25,43,31,22,28,26,26,49,52,41,27,28,30,22,45,23,24,40,38,21,32,34,31,56,24,52,34,21,42,42,45,38,25,22,22,22,34,22,24,22,53,28,21,42,21,42,48,26,22,45,39,46,27,32,36,50,22,28,25,26,45,37,39,52,26,66,22,43,33,63,27,30,47,23],\"sizemode\":\"area\",\"sizeref\":1.265625,\"symbol\":\"circle\"},\"mode\":\"markers\",\"name\":\"\",\"orientation\":\"v\",\"showlegend\":false,\"x\":[148.0,85.0,183.0,89.0,137.0,116.0,78.0,115.0,197.0,125.0,110.0,168.0,139.0,189.0,166.0,100.0,118.0,107.0,103.0,115.0,126.0,99.0,196.0,119.0,143.0,125.0,147.0,97.0,145.0,117.0,109.0,158.0,88.0,92.0,122.0,103.0,138.0,102.0,90.0,111.0,180.0,133.0,106.0,171.0,159.0,180.0,146.0,71.0,103.0,105.0,103.0,101.0,88.0,176.0,150.0,73.0,187.0,100.0,146.0,105.0,84.0,133.0,44.0,141.0,114.0,99.0,109.0,109.0,95.0,146.0,100.0,139.0,126.0,129.0,79.0,121.6867627785059,62.0,95.0,131.0,112.0,113.0,74.0,83.0,101.0,137.0,110.0,106.0,100.0,136.0,107.0,80.0,123.0,81.0,134.0,142.0,144.0,92.0,71.0,93.0,122.0,163.0,151.0,125.0,81.0,85.0,126.0,96.0,144.0,83.0,95.0,171.0,155.0,89.0,76.0,160.0,146.0,124.0,78.0,97.0,99.0,162.0,111.0,107.0,132.0,113.0,88.0,120.0,118.0,117.0,105.0,173.0,122.0,170.0,84.0,96.0,125.0,100.0,93.0,129.0,105.0,128.0,106.0,108.0,108.0,154.0,102.0,57.0,106.0,147.0,90.0,136.0,114.0,156.0,153.0,188.0,152.0,99.0,109.0,88.0,163.0,151.0,102.0,114.0,100.0,131.0,104.0,148.0,120.0,110.0,111.0,102.0,134.0,87.0,79.0,75.0,179.0,85.0,129.0,143.0,130.0,87.0,119.0,121.6867627785059,73.0,141.0,194.0,181.0,128.0,109.0,139.0,111.0,123.0,159.0,135.0,85.0,158.0,105.0,107.0,109.0,148.0,113.0,138.0,108.0,99.0,103.0,111.0,196.0,162.0,96.0,184.0,81.0,147.0,179.0,140.0,112.0,151.0,109.0,125.0,85.0,112.0,177.0,158.0,119.0,142.0,100.0,87.0,101.0,162.0,197.0,117.0,142.0,134.0,79.0,122.0,74.0,171.0,181.0,179.0,164.0,104.0,91.0,91.0,139.0,119.0,146.0,184.0,122.0,165.0,124.0,111.0,106.0,129.0,90.0,86.0,92.0,113.0,111.0,114.0,193.0,155.0,191.0,141.0,95.0,142.0,123.0,96.0,138.0,128.0,102.0,146.0,101.0,108.0,122.0,71.0,106.0,100.0,106.0,104.0,114.0,108.0,146.0,129.0,133.0,161.0,108.0,136.0,155.0,119.0,96.0,108.0,78.0,107.0,128.0,128.0,161.0,151.0,146.0,126.0,100.0,112.0,167.0,144.0,77.0,115.0,150.0,120.0,161.0,137.0,128.0,124.0,80.0,106.0,155.0,113.0,109.0,112.0,99.0,182.0,115.0,194.0,129.0,112.0,124.0,152.0,112.0,157.0,122.0,179.0,102.0,105.0,118.0,87.0,180.0,106.0,95.0,165.0,117.0,115.0,152.0,178.0,130.0,95.0,121.6867627785059,122.0,95.0,126.0,139.0,116.0,99.0,121.6867627785059,92.0,137.0,61.0,90.0,90.0,165.0,125.0,129.0,88.0,196.0,189.0,158.0,103.0,146.0,147.0,99.0,124.0,101.0,81.0,133.0,173.0,118.0,84.0,105.0,122.0,140.0,98.0,87.0,156.0,93.0,107.0,105.0,109.0,90.0,125.0,119.0,116.0,105.0,144.0,100.0,100.0,166.0,131.0,116.0,158.0,127.0,96.0,131.0,82.0,193.0,95.0,137.0,136.0,72.0,168.0,123.0,115.0,101.0,197.0,172.0,102.0,112.0,143.0,143.0,138.0,173.0,97.0,144.0,83.0,129.0,119.0,94.0,102.0,115.0,151.0,184.0,94.0,181.0,135.0,95.0,99.0,89.0,80.0,139.0,90.0,141.0,140.0,147.0,97.0,107.0,189.0,83.0,117.0,108.0,117.0,180.0,100.0,95.0,104.0,120.0,82.0,134.0,91.0,119.0,100.0,175.0,135.0,86.0,148.0,134.0,120.0,71.0,74.0,88.0,115.0,124.0,74.0,97.0,120.0,154.0,144.0,137.0,119.0,136.0,114.0,137.0,105.0,114.0,126.0,132.0,158.0,123.0,85.0,84.0,145.0,135.0,139.0,173.0,99.0,194.0,83.0,89.0,99.0,125.0,80.0,166.0,110.0,81.0,195.0,154.0,117.0,84.0,121.6867627785059,94.0,96.0,75.0,180.0,130.0,84.0,120.0,84.0,139.0,91.0,91.0,99.0,163.0,145.0,125.0,76.0,129.0,68.0,124.0,114.0,130.0,125.0,87.0,97.0,116.0,117.0,111.0,122.0,107.0,86.0,91.0,77.0,132.0,105.0,57.0,127.0,129.0,100.0,128.0,90.0,84.0,88.0,186.0,187.0,131.0,164.0,189.0,116.0,84.0,114.0,88.0,84.0,124.0,97.0,110.0,103.0,85.0,125.0,198.0,87.0,99.0,91.0,95.0,99.0,92.0,154.0,121.0,78.0,130.0,111.0,98.0,143.0,119.0,108.0,118.0,133.0,197.0,151.0,109.0,121.0,100.0,124.0,93.0,143.0,103.0,176.0,73.0,111.0,112.0,132.0,82.0,123.0,188.0,67.0,89.0,173.0,109.0,108.0,96.0,124.0,150.0,183.0,124.0,181.0,92.0,152.0,111.0,106.0,174.0,168.0,105.0,138.0,106.0,117.0,68.0,112.0,119.0,112.0,92.0,183.0,94.0,108.0,90.0,125.0,132.0,128.0,94.0,114.0,102.0,111.0,128.0,92.0,104.0,104.0,94.0,97.0,100.0,102.0,128.0,147.0,90.0,103.0,157.0,167.0,179.0,136.0,107.0,91.0,117.0,123.0,120.0,106.0,155.0,101.0,120.0,127.0,80.0,162.0,199.0,167.0,145.0,115.0,112.0,145.0,111.0,98.0,154.0,165.0,99.0,68.0,123.0,91.0,195.0,156.0,93.0,121.0,101.0,56.0,162.0,95.0,125.0,136.0,129.0,130.0,107.0,140.0,144.0,107.0,158.0,121.0,129.0,90.0,142.0,169.0,99.0,127.0,118.0,122.0,125.0,168.0,129.0,110.0,80.0,115.0,127.0,164.0,93.0,158.0,126.0,129.0,134.0,102.0,187.0,173.0,94.0,108.0,97.0,83.0,114.0,149.0,117.0,111.0,112.0,116.0,141.0,175.0,92.0,130.0,120.0,174.0,106.0,105.0,95.0,126.0,65.0,99.0,102.0,120.0,102.0,109.0,140.0,153.0,100.0,147.0,81.0,187.0,162.0,136.0,121.0,108.0,181.0,154.0,128.0,137.0,123.0,106.0,190.0,88.0,170.0,89.0,101.0,122.0,121.0,126.0,93.0],\"xaxis\":\"x\",\"y\":[50,31,32,21,33,30,26,29,53,54,30,34,57,59,51,32,31,31,33,32,27,50,41,29,51,41,43,22,57,38,60,28,22,28,45,33,35,46,27,56,26,37,48,54,40,25,29,22,31,24,22,26,30,58,42,21,41,31,44,22,21,39,36,24,42,32,38,54,25,27,28,26,42,23,22,22,41,27,26,24,22,22,36,22,37,27,45,26,43,24,21,34,42,60,21,40,24,22,23,31,33,22,21,24,27,21,27,37,25,24,24,46,23,25,39,61,38,25,22,21,25,24,23,69,23,26,30,23,40,62,33,33,30,39,26,31,21,22,29,28,55,38,22,42,23,21,41,34,65,22,24,37,42,23,43,36,21,23,22,47,36,45,27,21,32,41,22,34,29,29,36,29,25,23,33,36,42,26,47,37,32,23,21,27,40,41,60,33,31,25,21,40,36,40,42,29,21,23,26,29,21,28,32,27,55,27,57,52,21,41,25,24,60,24,36,38,25,32,32,41,21,66,37,61,26,22,26,24,31,24,22,46,22,29,23,26,51,23,32,27,21,22,22,33,29,49,41,23,34,23,42,27,24,25,44,21,30,25,24,51,34,27,24,63,35,43,25,24,21,28,38,21,40,21,52,25,29,23,57,22,28,39,37,47,52,51,34,29,26,33,21,25,31,24,65,28,29,24,46,58,30,25,35,28,37,29,47,21,25,30,41,22,27,25,43,26,30,29,28,59,31,25,36,43,21,24,30,37,23,37,46,25,41,44,22,26,44,44,33,41,22,36,22,33,57,49,22,23,26,37,29,30,46,24,21,49,28,44,48,29,29,63,65,67,30,30,29,21,22,45,25,21,21,25,28,58,22,22,32,35,24,22,21,25,25,24,35,45,58,28,42,27,21,37,31,25,39,22,25,25,31,55,35,38,41,26,46,25,39,28,28,25,22,21,21,22,22,37,27,28,26,21,21,21,36,31,25,38,26,43,23,38,22,29,36,29,41,28,21,31,41,22,24,33,30,25,28,26,22,26,23,23,25,72,24,38,62,24,51,81,48,26,39,37,34,21,22,25,38,27,28,22,22,50,24,59,29,31,39,63,35,29,28,23,31,24,21,58,28,67,24,42,33,45,22,66,30,25,55,39,21,28,41,41,40,38,35,21,21,64,46,21,58,22,24,28,53,51,41,60,25,26,26,45,24,21,21,24,22,31,22,24,29,31,24,23,46,67,23,32,43,27,56,25,29,37,53,28,50,37,21,25,66,23,28,37,30,58,42,35,54,28,24,32,27,22,21,46,37,33,39,21,22,22,23,25,35,21,36,62,21,27,62,42,52,22,41,29,52,25,45,24,44,25,34,22,46,21,38,26,24,28,30,54,36,21,22,25,27,23,24,36,40,26,50,27,30,23,50,24,28,28,45,21,21,29,21,21,45,21,34,24,23,22,31,38,48,23,32,28,27,24,50,31,27,30,33,22,42,23,23,27,28,27,22,25,22,41,51,27,54,22,43,40,40,24,70,40,43,45,49,21,47,22,68,31,53,25,25,23,22,26,22,27,69,25,22,29,23,46,34,44,23,43,25,43,31,22,28,26,26,49,52,41,27,28,30,22,45,23,24,40,38,21,32,34,31,56,24,52,34,21,42,42,45,38,25,22,22,22,34,22,24,22,53,28,21,42,21,42,48,26,22,45,39,46,27,32,36,50,22,28,25,26,45,37,39,52,26,66,22,43,33,63,27,30,47,23],\"yaxis\":\"y\",\"type\":\"scatter\"},{\"alignmentgroup\":\"True\",\"bingroup\":\"x\",\"hovertemplate\":\"Glucose=%{x}<br>count=%{y}<extra></extra>\",\"legendgroup\":\"\",\"marker\":{\"color\":\"#0d0887\"},\"name\":\"\",\"offsetgroup\":\"\",\"opacity\":0.5,\"showlegend\":false,\"x\":[148.0,85.0,183.0,89.0,137.0,116.0,78.0,115.0,197.0,125.0,110.0,168.0,139.0,189.0,166.0,100.0,118.0,107.0,103.0,115.0,126.0,99.0,196.0,119.0,143.0,125.0,147.0,97.0,145.0,117.0,109.0,158.0,88.0,92.0,122.0,103.0,138.0,102.0,90.0,111.0,180.0,133.0,106.0,171.0,159.0,180.0,146.0,71.0,103.0,105.0,103.0,101.0,88.0,176.0,150.0,73.0,187.0,100.0,146.0,105.0,84.0,133.0,44.0,141.0,114.0,99.0,109.0,109.0,95.0,146.0,100.0,139.0,126.0,129.0,79.0,121.6867627785059,62.0,95.0,131.0,112.0,113.0,74.0,83.0,101.0,137.0,110.0,106.0,100.0,136.0,107.0,80.0,123.0,81.0,134.0,142.0,144.0,92.0,71.0,93.0,122.0,163.0,151.0,125.0,81.0,85.0,126.0,96.0,144.0,83.0,95.0,171.0,155.0,89.0,76.0,160.0,146.0,124.0,78.0,97.0,99.0,162.0,111.0,107.0,132.0,113.0,88.0,120.0,118.0,117.0,105.0,173.0,122.0,170.0,84.0,96.0,125.0,100.0,93.0,129.0,105.0,128.0,106.0,108.0,108.0,154.0,102.0,57.0,106.0,147.0,90.0,136.0,114.0,156.0,153.0,188.0,152.0,99.0,109.0,88.0,163.0,151.0,102.0,114.0,100.0,131.0,104.0,148.0,120.0,110.0,111.0,102.0,134.0,87.0,79.0,75.0,179.0,85.0,129.0,143.0,130.0,87.0,119.0,121.6867627785059,73.0,141.0,194.0,181.0,128.0,109.0,139.0,111.0,123.0,159.0,135.0,85.0,158.0,105.0,107.0,109.0,148.0,113.0,138.0,108.0,99.0,103.0,111.0,196.0,162.0,96.0,184.0,81.0,147.0,179.0,140.0,112.0,151.0,109.0,125.0,85.0,112.0,177.0,158.0,119.0,142.0,100.0,87.0,101.0,162.0,197.0,117.0,142.0,134.0,79.0,122.0,74.0,171.0,181.0,179.0,164.0,104.0,91.0,91.0,139.0,119.0,146.0,184.0,122.0,165.0,124.0,111.0,106.0,129.0,90.0,86.0,92.0,113.0,111.0,114.0,193.0,155.0,191.0,141.0,95.0,142.0,123.0,96.0,138.0,128.0,102.0,146.0,101.0,108.0,122.0,71.0,106.0,100.0,106.0,104.0,114.0,108.0,146.0,129.0,133.0,161.0,108.0,136.0,155.0,119.0,96.0,108.0,78.0,107.0,128.0,128.0,161.0,151.0,146.0,126.0,100.0,112.0,167.0,144.0,77.0,115.0,150.0,120.0,161.0,137.0,128.0,124.0,80.0,106.0,155.0,113.0,109.0,112.0,99.0,182.0,115.0,194.0,129.0,112.0,124.0,152.0,112.0,157.0,122.0,179.0,102.0,105.0,118.0,87.0,180.0,106.0,95.0,165.0,117.0,115.0,152.0,178.0,130.0,95.0,121.6867627785059,122.0,95.0,126.0,139.0,116.0,99.0,121.6867627785059,92.0,137.0,61.0,90.0,90.0,165.0,125.0,129.0,88.0,196.0,189.0,158.0,103.0,146.0,147.0,99.0,124.0,101.0,81.0,133.0,173.0,118.0,84.0,105.0,122.0,140.0,98.0,87.0,156.0,93.0,107.0,105.0,109.0,90.0,125.0,119.0,116.0,105.0,144.0,100.0,100.0,166.0,131.0,116.0,158.0,127.0,96.0,131.0,82.0,193.0,95.0,137.0,136.0,72.0,168.0,123.0,115.0,101.0,197.0,172.0,102.0,112.0,143.0,143.0,138.0,173.0,97.0,144.0,83.0,129.0,119.0,94.0,102.0,115.0,151.0,184.0,94.0,181.0,135.0,95.0,99.0,89.0,80.0,139.0,90.0,141.0,140.0,147.0,97.0,107.0,189.0,83.0,117.0,108.0,117.0,180.0,100.0,95.0,104.0,120.0,82.0,134.0,91.0,119.0,100.0,175.0,135.0,86.0,148.0,134.0,120.0,71.0,74.0,88.0,115.0,124.0,74.0,97.0,120.0,154.0,144.0,137.0,119.0,136.0,114.0,137.0,105.0,114.0,126.0,132.0,158.0,123.0,85.0,84.0,145.0,135.0,139.0,173.0,99.0,194.0,83.0,89.0,99.0,125.0,80.0,166.0,110.0,81.0,195.0,154.0,117.0,84.0,121.6867627785059,94.0,96.0,75.0,180.0,130.0,84.0,120.0,84.0,139.0,91.0,91.0,99.0,163.0,145.0,125.0,76.0,129.0,68.0,124.0,114.0,130.0,125.0,87.0,97.0,116.0,117.0,111.0,122.0,107.0,86.0,91.0,77.0,132.0,105.0,57.0,127.0,129.0,100.0,128.0,90.0,84.0,88.0,186.0,187.0,131.0,164.0,189.0,116.0,84.0,114.0,88.0,84.0,124.0,97.0,110.0,103.0,85.0,125.0,198.0,87.0,99.0,91.0,95.0,99.0,92.0,154.0,121.0,78.0,130.0,111.0,98.0,143.0,119.0,108.0,118.0,133.0,197.0,151.0,109.0,121.0,100.0,124.0,93.0,143.0,103.0,176.0,73.0,111.0,112.0,132.0,82.0,123.0,188.0,67.0,89.0,173.0,109.0,108.0,96.0,124.0,150.0,183.0,124.0,181.0,92.0,152.0,111.0,106.0,174.0,168.0,105.0,138.0,106.0,117.0,68.0,112.0,119.0,112.0,92.0,183.0,94.0,108.0,90.0,125.0,132.0,128.0,94.0,114.0,102.0,111.0,128.0,92.0,104.0,104.0,94.0,97.0,100.0,102.0,128.0,147.0,90.0,103.0,157.0,167.0,179.0,136.0,107.0,91.0,117.0,123.0,120.0,106.0,155.0,101.0,120.0,127.0,80.0,162.0,199.0,167.0,145.0,115.0,112.0,145.0,111.0,98.0,154.0,165.0,99.0,68.0,123.0,91.0,195.0,156.0,93.0,121.0,101.0,56.0,162.0,95.0,125.0,136.0,129.0,130.0,107.0,140.0,144.0,107.0,158.0,121.0,129.0,90.0,142.0,169.0,99.0,127.0,118.0,122.0,125.0,168.0,129.0,110.0,80.0,115.0,127.0,164.0,93.0,158.0,126.0,129.0,134.0,102.0,187.0,173.0,94.0,108.0,97.0,83.0,114.0,149.0,117.0,111.0,112.0,116.0,141.0,175.0,92.0,130.0,120.0,174.0,106.0,105.0,95.0,126.0,65.0,99.0,102.0,120.0,102.0,109.0,140.0,153.0,100.0,147.0,81.0,187.0,162.0,136.0,121.0,108.0,181.0,154.0,128.0,137.0,123.0,106.0,190.0,88.0,170.0,89.0,101.0,122.0,121.0,126.0,93.0],\"xaxis\":\"x3\",\"yaxis\":\"y3\",\"type\":\"histogram\"},{\"alignmentgroup\":\"True\",\"bingroup\":\"y\",\"hovertemplate\":\"Age=%{y}<br>count=%{x}<extra></extra>\",\"legendgroup\":\"\",\"marker\":{\"color\":\"#0d0887\"},\"name\":\"\",\"offsetgroup\":\"\",\"opacity\":0.5,\"showlegend\":false,\"xaxis\":\"x2\",\"y\":[50,31,32,21,33,30,26,29,53,54,30,34,57,59,51,32,31,31,33,32,27,50,41,29,51,41,43,22,57,38,60,28,22,28,45,33,35,46,27,56,26,37,48,54,40,25,29,22,31,24,22,26,30,58,42,21,41,31,44,22,21,39,36,24,42,32,38,54,25,27,28,26,42,23,22,22,41,27,26,24,22,22,36,22,37,27,45,26,43,24,21,34,42,60,21,40,24,22,23,31,33,22,21,24,27,21,27,37,25,24,24,46,23,25,39,61,38,25,22,21,25,24,23,69,23,26,30,23,40,62,33,33,30,39,26,31,21,22,29,28,55,38,22,42,23,21,41,34,65,22,24,37,42,23,43,36,21,23,22,47,36,45,27,21,32,41,22,34,29,29,36,29,25,23,33,36,42,26,47,37,32,23,21,27,40,41,60,33,31,25,21,40,36,40,42,29,21,23,26,29,21,28,32,27,55,27,57,52,21,41,25,24,60,24,36,38,25,32,32,41,21,66,37,61,26,22,26,24,31,24,22,46,22,29,23,26,51,23,32,27,21,22,22,33,29,49,41,23,34,23,42,27,24,25,44,21,30,25,24,51,34,27,24,63,35,43,25,24,21,28,38,21,40,21,52,25,29,23,57,22,28,39,37,47,52,51,34,29,26,33,21,25,31,24,65,28,29,24,46,58,30,25,35,28,37,29,47,21,25,30,41,22,27,25,43,26,30,29,28,59,31,25,36,43,21,24,30,37,23,37,46,25,41,44,22,26,44,44,33,41,22,36,22,33,57,49,22,23,26,37,29,30,46,24,21,49,28,44,48,29,29,63,65,67,30,30,29,21,22,45,25,21,21,25,28,58,22,22,32,35,24,22,21,25,25,24,35,45,58,28,42,27,21,37,31,25,39,22,25,25,31,55,35,38,41,26,46,25,39,28,28,25,22,21,21,22,22,37,27,28,26,21,21,21,36,31,25,38,26,43,23,38,22,29,36,29,41,28,21,31,41,22,24,33,30,25,28,26,22,26,23,23,25,72,24,38,62,24,51,81,48,26,39,37,34,21,22,25,38,27,28,22,22,50,24,59,29,31,39,63,35,29,28,23,31,24,21,58,28,67,24,42,33,45,22,66,30,25,55,39,21,28,41,41,40,38,35,21,21,64,46,21,58,22,24,28,53,51,41,60,25,26,26,45,24,21,21,24,22,31,22,24,29,31,24,23,46,67,23,32,43,27,56,25,29,37,53,28,50,37,21,25,66,23,28,37,30,58,42,35,54,28,24,32,27,22,21,46,37,33,39,21,22,22,23,25,35,21,36,62,21,27,62,42,52,22,41,29,52,25,45,24,44,25,34,22,46,21,38,26,24,28,30,54,36,21,22,25,27,23,24,36,40,26,50,27,30,23,50,24,28,28,45,21,21,29,21,21,45,21,34,24,23,22,31,38,48,23,32,28,27,24,50,31,27,30,33,22,42,23,23,27,28,27,22,25,22,41,51,27,54,22,43,40,40,24,70,40,43,45,49,21,47,22,68,31,53,25,25,23,22,26,22,27,69,25,22,29,23,46,34,44,23,43,25,43,31,22,28,26,26,49,52,41,27,28,30,22,45,23,24,40,38,21,32,34,31,56,24,52,34,21,42,42,45,38,25,22,22,22,34,22,24,22,53,28,21,42,21,42,48,26,22,45,39,46,27,32,36,50,22,28,25,26,45,37,39,52,26,66,22,43,33,63,27,30,47,23],\"yaxis\":\"y2\",\"type\":\"histogram\"}],                        {\"template\":{\"data\":{\"histogram2dcontour\":[{\"type\":\"histogram2dcontour\",\"colorbar\":{\"outlinewidth\":0,\"ticks\":\"\"},\"colorscale\":[[0.0,\"#0d0887\"],[0.1111111111111111,\"#46039f\"],[0.2222222222222222,\"#7201a8\"],[0.3333333333333333,\"#9c179e\"],[0.4444444444444444,\"#bd3786\"],[0.5555555555555556,\"#d8576b\"],[0.6666666666666666,\"#ed7953\"],[0.7777777777777778,\"#fb9f3a\"],[0.8888888888888888,\"#fdca26\"],[1.0,\"#f0f921\"]]}],\"choropleth\":[{\"type\":\"choropleth\",\"colorbar\":{\"outlinewidth\":0,\"ticks\":\"\"}}],\"histogram2d\":[{\"type\":\"histogram2d\",\"colorbar\":{\"outlinewidth\":0,\"ticks\":\"\"},\"colorscale\":[[0.0,\"#0d0887\"],[0.1111111111111111,\"#46039f\"],[0.2222222222222222,\"#7201a8\"],[0.3333333333333333,\"#9c179e\"],[0.4444444444444444,\"#bd3786\"],[0.5555555555555556,\"#d8576b\"],[0.6666666666666666,\"#ed7953\"],[0.7777777777777778,\"#fb9f3a\"],[0.8888888888888888,\"#fdca26\"],[1.0,\"#f0f921\"]]}],\"heatmap\":[{\"type\":\"heatmap\",\"colorbar\":{\"outlinewidth\":0,\"ticks\":\"\"},\"colorscale\":[[0.0,\"#0d0887\"],[0.1111111111111111,\"#46039f\"],[0.2222222222222222,\"#7201a8\"],[0.3333333333333333,\"#9c179e\"],[0.4444444444444444,\"#bd3786\"],[0.5555555555555556,\"#d8576b\"],[0.6666666666666666,\"#ed7953\"],[0.7777777777777778,\"#fb9f3a\"],[0.8888888888888888,\"#fdca26\"],[1.0,\"#f0f921\"]]}],\"heatmapgl\":[{\"type\":\"heatmapgl\",\"colorbar\":{\"outlinewidth\":0,\"ticks\":\"\"},\"colorscale\":[[0.0,\"#0d0887\"],[0.1111111111111111,\"#46039f\"],[0.2222222222222222,\"#7201a8\"],[0.3333333333333333,\"#9c179e\"],[0.4444444444444444,\"#bd3786\"],[0.5555555555555556,\"#d8576b\"],[0.6666666666666666,\"#ed7953\"],[0.7777777777777778,\"#fb9f3a\"],[0.8888888888888888,\"#fdca26\"],[1.0,\"#f0f921\"]]}],\"contourcarpet\":[{\"type\":\"contourcarpet\",\"colorbar\":{\"outlinewidth\":0,\"ticks\":\"\"}}],\"contour\":[{\"type\":\"contour\",\"colorbar\":{\"outlinewidth\":0,\"ticks\":\"\"},\"colorscale\":[[0.0,\"#0d0887\"],[0.1111111111111111,\"#46039f\"],[0.2222222222222222,\"#7201a8\"],[0.3333333333333333,\"#9c179e\"],[0.4444444444444444,\"#bd3786\"],[0.5555555555555556,\"#d8576b\"],[0.6666666666666666,\"#ed7953\"],[0.7777777777777778,\"#fb9f3a\"],[0.8888888888888888,\"#fdca26\"],[1.0,\"#f0f921\"]]}],\"surface\":[{\"type\":\"surface\",\"colorbar\":{\"outlinewidth\":0,\"ticks\":\"\"},\"colorscale\":[[0.0,\"#0d0887\"],[0.1111111111111111,\"#46039f\"],[0.2222222222222222,\"#7201a8\"],[0.3333333333333333,\"#9c179e\"],[0.4444444444444444,\"#bd3786\"],[0.5555555555555556,\"#d8576b\"],[0.6666666666666666,\"#ed7953\"],[0.7777777777777778,\"#fb9f3a\"],[0.8888888888888888,\"#fdca26\"],[1.0,\"#f0f921\"]]}],\"mesh3d\":[{\"type\":\"mesh3d\",\"colorbar\":{\"outlinewidth\":0,\"ticks\":\"\"}}],\"scatter\":[{\"fillpattern\":{\"fillmode\":\"overlay\",\"size\":10,\"solidity\":0.2},\"type\":\"scatter\"}],\"parcoords\":[{\"type\":\"parcoords\",\"line\":{\"colorbar\":{\"outlinewidth\":0,\"ticks\":\"\"}}}],\"scatterpolargl\":[{\"type\":\"scatterpolargl\",\"marker\":{\"colorbar\":{\"outlinewidth\":0,\"ticks\":\"\"}}}],\"bar\":[{\"error_x\":{\"color\":\"#2a3f5f\"},\"error_y\":{\"color\":\"#2a3f5f\"},\"marker\":{\"line\":{\"color\":\"#E5ECF6\",\"width\":0.5},\"pattern\":{\"fillmode\":\"overlay\",\"size\":10,\"solidity\":0.2}},\"type\":\"bar\"}],\"scattergeo\":[{\"type\":\"scattergeo\",\"marker\":{\"colorbar\":{\"outlinewidth\":0,\"ticks\":\"\"}}}],\"scatterpolar\":[{\"type\":\"scatterpolar\",\"marker\":{\"colorbar\":{\"outlinewidth\":0,\"ticks\":\"\"}}}],\"histogram\":[{\"marker\":{\"pattern\":{\"fillmode\":\"overlay\",\"size\":10,\"solidity\":0.2}},\"type\":\"histogram\"}],\"scattergl\":[{\"type\":\"scattergl\",\"marker\":{\"colorbar\":{\"outlinewidth\":0,\"ticks\":\"\"}}}],\"scatter3d\":[{\"type\":\"scatter3d\",\"line\":{\"colorbar\":{\"outlinewidth\":0,\"ticks\":\"\"}},\"marker\":{\"colorbar\":{\"outlinewidth\":0,\"ticks\":\"\"}}}],\"scattermapbox\":[{\"type\":\"scattermapbox\",\"marker\":{\"colorbar\":{\"outlinewidth\":0,\"ticks\":\"\"}}}],\"scatterternary\":[{\"type\":\"scatterternary\",\"marker\":{\"colorbar\":{\"outlinewidth\":0,\"ticks\":\"\"}}}],\"scattercarpet\":[{\"type\":\"scattercarpet\",\"marker\":{\"colorbar\":{\"outlinewidth\":0,\"ticks\":\"\"}}}],\"carpet\":[{\"aaxis\":{\"endlinecolor\":\"#2a3f5f\",\"gridcolor\":\"white\",\"linecolor\":\"white\",\"minorgridcolor\":\"white\",\"startlinecolor\":\"#2a3f5f\"},\"baxis\":{\"endlinecolor\":\"#2a3f5f\",\"gridcolor\":\"white\",\"linecolor\":\"white\",\"minorgridcolor\":\"white\",\"startlinecolor\":\"#2a3f5f\"},\"type\":\"carpet\"}],\"table\":[{\"cells\":{\"fill\":{\"color\":\"#EBF0F8\"},\"line\":{\"color\":\"white\"}},\"header\":{\"fill\":{\"color\":\"#C8D4E3\"},\"line\":{\"color\":\"white\"}},\"type\":\"table\"}],\"barpolar\":[{\"marker\":{\"line\":{\"color\":\"#E5ECF6\",\"width\":0.5},\"pattern\":{\"fillmode\":\"overlay\",\"size\":10,\"solidity\":0.2}},\"type\":\"barpolar\"}],\"pie\":[{\"automargin\":true,\"type\":\"pie\"}]},\"layout\":{\"autotypenumbers\":\"strict\",\"colorway\":[\"#636efa\",\"#EF553B\",\"#00cc96\",\"#ab63fa\",\"#FFA15A\",\"#19d3f3\",\"#FF6692\",\"#B6E880\",\"#FF97FF\",\"#FECB52\"],\"font\":{\"color\":\"#2a3f5f\"},\"hovermode\":\"closest\",\"hoverlabel\":{\"align\":\"left\"},\"paper_bgcolor\":\"white\",\"plot_bgcolor\":\"#E5ECF6\",\"polar\":{\"bgcolor\":\"#E5ECF6\",\"angularaxis\":{\"gridcolor\":\"white\",\"linecolor\":\"white\",\"ticks\":\"\"},\"radialaxis\":{\"gridcolor\":\"white\",\"linecolor\":\"white\",\"ticks\":\"\"}},\"ternary\":{\"bgcolor\":\"#E5ECF6\",\"aaxis\":{\"gridcolor\":\"white\",\"linecolor\":\"white\",\"ticks\":\"\"},\"baxis\":{\"gridcolor\":\"white\",\"linecolor\":\"white\",\"ticks\":\"\"},\"caxis\":{\"gridcolor\":\"white\",\"linecolor\":\"white\",\"ticks\":\"\"}},\"coloraxis\":{\"colorbar\":{\"outlinewidth\":0,\"ticks\":\"\"}},\"colorscale\":{\"sequential\":[[0.0,\"#0d0887\"],[0.1111111111111111,\"#46039f\"],[0.2222222222222222,\"#7201a8\"],[0.3333333333333333,\"#9c179e\"],[0.4444444444444444,\"#bd3786\"],[0.5555555555555556,\"#d8576b\"],[0.6666666666666666,\"#ed7953\"],[0.7777777777777778,\"#fb9f3a\"],[0.8888888888888888,\"#fdca26\"],[1.0,\"#f0f921\"]],\"sequentialminus\":[[0.0,\"#0d0887\"],[0.1111111111111111,\"#46039f\"],[0.2222222222222222,\"#7201a8\"],[0.3333333333333333,\"#9c179e\"],[0.4444444444444444,\"#bd3786\"],[0.5555555555555556,\"#d8576b\"],[0.6666666666666666,\"#ed7953\"],[0.7777777777777778,\"#fb9f3a\"],[0.8888888888888888,\"#fdca26\"],[1.0,\"#f0f921\"]],\"diverging\":[[0,\"#8e0152\"],[0.1,\"#c51b7d\"],[0.2,\"#de77ae\"],[0.3,\"#f1b6da\"],[0.4,\"#fde0ef\"],[0.5,\"#f7f7f7\"],[0.6,\"#e6f5d0\"],[0.7,\"#b8e186\"],[0.8,\"#7fbc41\"],[0.9,\"#4d9221\"],[1,\"#276419\"]]},\"xaxis\":{\"gridcolor\":\"white\",\"linecolor\":\"white\",\"ticks\":\"\",\"title\":{\"standoff\":15},\"zerolinecolor\":\"white\",\"automargin\":true,\"zerolinewidth\":2},\"yaxis\":{\"gridcolor\":\"white\",\"linecolor\":\"white\",\"ticks\":\"\",\"title\":{\"standoff\":15},\"zerolinecolor\":\"white\",\"automargin\":true,\"zerolinewidth\":2},\"scene\":{\"xaxis\":{\"backgroundcolor\":\"#E5ECF6\",\"gridcolor\":\"white\",\"linecolor\":\"white\",\"showbackground\":true,\"ticks\":\"\",\"zerolinecolor\":\"white\",\"gridwidth\":2},\"yaxis\":{\"backgroundcolor\":\"#E5ECF6\",\"gridcolor\":\"white\",\"linecolor\":\"white\",\"showbackground\":true,\"ticks\":\"\",\"zerolinecolor\":\"white\",\"gridwidth\":2},\"zaxis\":{\"backgroundcolor\":\"#E5ECF6\",\"gridcolor\":\"white\",\"linecolor\":\"white\",\"showbackground\":true,\"ticks\":\"\",\"zerolinecolor\":\"white\",\"gridwidth\":2}},\"shapedefaults\":{\"line\":{\"color\":\"#2a3f5f\"}},\"annotationdefaults\":{\"arrowcolor\":\"#2a3f5f\",\"arrowhead\":0,\"arrowwidth\":1},\"geo\":{\"bgcolor\":\"white\",\"landcolor\":\"#E5ECF6\",\"subunitcolor\":\"white\",\"showland\":true,\"showlakes\":true,\"lakecolor\":\"white\"},\"title\":{\"x\":0.05},\"mapbox\":{\"style\":\"light\"}}},\"xaxis\":{\"anchor\":\"y\",\"domain\":[0.0,0.7363],\"title\":{\"text\":\"Glucose\"}},\"yaxis\":{\"anchor\":\"x\",\"domain\":[0.0,0.7326],\"title\":{\"text\":\"Age\"}},\"xaxis2\":{\"anchor\":\"y2\",\"domain\":[0.7413,1.0],\"matches\":\"x2\",\"showticklabels\":false,\"showline\":false,\"ticks\":\"\",\"showgrid\":true},\"yaxis2\":{\"anchor\":\"x2\",\"domain\":[0.0,0.7326],\"matches\":\"y\",\"showticklabels\":false,\"showgrid\":true},\"xaxis3\":{\"anchor\":\"y3\",\"domain\":[0.0,0.7363],\"matches\":\"x\",\"showticklabels\":false,\"showgrid\":true},\"yaxis3\":{\"anchor\":\"x3\",\"domain\":[0.7426,1.0],\"matches\":\"y3\",\"showticklabels\":false,\"showline\":false,\"ticks\":\"\",\"showgrid\":true},\"xaxis4\":{\"anchor\":\"y4\",\"domain\":[0.7413,1.0],\"matches\":\"x2\",\"showticklabels\":false,\"showgrid\":true,\"showline\":false,\"ticks\":\"\"},\"yaxis4\":{\"anchor\":\"x4\",\"domain\":[0.7426,1.0],\"matches\":\"y3\",\"showticklabels\":false,\"showline\":false,\"ticks\":\"\",\"showgrid\":true},\"coloraxis\":{\"colorbar\":{\"title\":{\"text\":\"Outcome\"}},\"colorscale\":[[0.0,\"#0d0887\"],[0.1111111111111111,\"#46039f\"],[0.2222222222222222,\"#7201a8\"],[0.3333333333333333,\"#9c179e\"],[0.4444444444444444,\"#bd3786\"],[0.5555555555555556,\"#d8576b\"],[0.6666666666666666,\"#ed7953\"],[0.7777777777777778,\"#fb9f3a\"],[0.8888888888888888,\"#fdca26\"],[1.0,\"#f0f921\"]]},\"legend\":{\"tracegroupgap\":0,\"itemsizing\":\"constant\"},\"title\":{\"text\":\"Age and Glucose correlation\"},\"barmode\":\"overlay\"},                        {\"responsive\": true}                    ).then(function(){\n",
              "                            \n",
              "var gd = document.getElementById('1d9ca1b5-9294-4a0c-afe1-76fc480957c3');\n",
              "var x = new MutationObserver(function (mutations, observer) {{\n",
              "        var display = window.getComputedStyle(gd).display;\n",
              "        if (!display || display === 'none') {{\n",
              "            console.log([gd, 'removed!']);\n",
              "            Plotly.purge(gd);\n",
              "            observer.disconnect();\n",
              "        }}\n",
              "}});\n",
              "\n",
              "// Listen for the removal of the full notebook cells\n",
              "var notebookContainer = gd.closest('#notebook-container');\n",
              "if (notebookContainer) {{\n",
              "    x.observe(notebookContainer, {childList: true});\n",
              "}}\n",
              "\n",
              "// Listen for the clearing of the current output cell\n",
              "var outputEl = gd.closest('.output');\n",
              "if (outputEl) {{\n",
              "    x.observe(outputEl, {childList: true});\n",
              "}}\n",
              "\n",
              "                        })                };                            </script>        </div>\n",
              "</body>\n",
              "</html>"
            ]
          },
          "metadata": {}
        }
      ]
    },
    {
      "cell_type": "markdown",
      "source": [
        "### Blood pressure + Age \n",
        "blood pressure and age correlation/ distribution across target variable"
      ],
      "metadata": {
        "id": "lHhObcpbcMOz"
      }
    },
    {
      "cell_type": "code",
      "source": [
        "ax= px.scatter(df_diabetes,x= \"BloodPressure\",y= \"Age\",marginal_x='histogram', marginal_y='histogram',size=\"Age\", size_max=8,color= \"Outcome\",title=\"Age and Glucose correlation\")\n",
        "ax.show()"
      ],
      "metadata": {
        "colab": {
          "base_uri": "https://localhost:8080/",
          "height": 542
        },
        "id": "LK3VxUh6cYt6",
        "outputId": "9e089c9c-f113-4091-cf1d-279e8e420a94"
      },
      "execution_count": 448,
      "outputs": [
        {
          "output_type": "display_data",
          "data": {
            "text/html": [
              "<html>\n",
              "<head><meta charset=\"utf-8\" /></head>\n",
              "<body>\n",
              "    <div>            <script src=\"https://cdnjs.cloudflare.com/ajax/libs/mathjax/2.7.5/MathJax.js?config=TeX-AMS-MML_SVG\"></script><script type=\"text/javascript\">if (window.MathJax && window.MathJax.Hub && window.MathJax.Hub.Config) {window.MathJax.Hub.Config({SVG: {font: \"STIX-Web\"}});}</script>                <script type=\"text/javascript\">window.PlotlyConfig = {MathJaxConfig: 'local'};</script>\n",
              "        <script src=\"https://cdn.plot.ly/plotly-2.18.0.min.js\"></script>                <div id=\"e2ffbf1b-2770-472d-93d4-62ee95c910b7\" class=\"plotly-graph-div\" style=\"height:525px; width:100%;\"></div>            <script type=\"text/javascript\">                                    window.PLOTLYENV=window.PLOTLYENV || {};                                    if (document.getElementById(\"e2ffbf1b-2770-472d-93d4-62ee95c910b7\")) {                    Plotly.newPlot(                        \"e2ffbf1b-2770-472d-93d4-62ee95c910b7\",                        [{\"hovertemplate\":\"BloodPressure=%{x}<br>Age=%{marker.size}<br>Outcome=%{marker.color}<extra></extra>\",\"legendgroup\":\"\",\"marker\":{\"color\":[1,0,1,0,1,0,1,0,1,1,0,1,0,1,1,1,1,1,0,1,0,0,1,1,1,1,1,0,0,0,0,1,0,0,0,0,0,1,1,1,0,0,0,1,0,1,0,0,1,0,0,0,0,1,0,0,1,0,0,0,0,1,0,0,1,0,1,0,0,0,1,0,1,0,0,0,0,0,1,0,0,0,0,0,1,0,0,0,1,0,0,0,0,1,0,0,0,0,0,1,1,0,0,0,0,0,0,0,0,1,1,1,0,0,1,1,1,0,0,0,1,0,0,0,1,1,0,0,1,1,1,1,1,0,0,0,0,0,0,0,0,0,0,1,0,0,0,0,0,0,0,0,1,0,1,1,0,0,0,1,0,0,0,0,1,1,0,0,0,0,1,1,0,0,0,1,0,1,0,1,0,0,0,0,0,1,1,1,1,1,0,0,1,1,0,1,0,1,1,1,0,0,0,0,0,0,1,1,0,1,0,0,0,1,1,1,1,0,1,1,1,1,0,0,0,0,0,1,0,0,1,1,0,0,0,1,1,1,1,0,0,0,1,1,0,1,0,0,0,0,0,0,0,0,1,1,0,0,0,1,0,1,0,0,1,0,1,0,0,1,1,0,0,0,0,0,1,0,0,0,1,0,0,1,1,0,0,1,0,0,0,1,1,1,0,0,1,0,1,0,1,1,0,1,0,0,1,0,1,1,0,0,1,0,1,0,0,1,0,1,0,1,1,1,0,0,1,0,1,0,0,0,1,0,0,0,0,1,1,1,0,0,0,0,0,0,0,0,0,1,0,0,0,0,0,1,1,1,0,1,1,0,0,1,0,0,1,0,0,1,1,0,0,0,0,1,0,0,1,0,0,0,0,0,0,0,1,1,1,0,0,1,0,0,1,0,0,1,0,1,1,0,1,0,1,0,1,0,1,1,0,0,0,0,1,1,0,1,0,1,0,0,0,0,1,1,0,1,0,1,0,0,0,0,0,1,0,0,0,0,1,0,0,1,1,1,0,0,1,0,0,1,0,0,0,1,0,0,1,0,0,0,0,0,0,0,0,0,1,0,0,0,0,0,0,0,1,0,0,0,1,0,0,0,1,1,0,0,0,0,0,0,0,1,0,0,0,0,1,0,0,0,1,0,0,0,1,0,0,0,1,0,0,0,0,1,1,0,0,0,0,0,0,1,0,0,0,0,0,0,0,0,0,0,0,1,0,0,0,1,1,1,1,0,0,1,1,0,0,0,0,0,0,0,0,0,0,0,0,0,1,1,0,0,0,0,0,0,0,1,0,0,0,0,0,0,0,1,0,1,1,0,0,0,1,0,1,0,1,0,1,0,1,0,0,1,0,0,1,0,0,0,0,1,1,0,1,0,0,0,0,1,1,0,1,0,0,0,1,1,0,0,0,0,0,0,0,0,0,0,1,0,0,0,0,1,0,0,1,0,0,0,1,0,0,0,1,1,1,0,0,0,0,0,0,1,0,0,0,1,0,1,1,1,1,0,1,1,0,0,0,0,0,0,0,1,1,0,1,0,0,1,0,1,0,0,0,0,0,1,0,1,0,1,0,1,1,0,0,0,0,1,1,0,0,0,1,0,1,1,0,0,1,0,0,1,1,0,0,1,0,0,1,0,0,0,0,0,0,0,1,1,1,0,0,0,0,0,0,1,1,0,0,1,0,0,1,0,1,1,1,0,0,1,1,1,0,1,0,1,0,1,0,0,0,0,1,0],\"coloraxis\":\"coloraxis\",\"size\":[50,31,32,21,33,30,26,29,53,54,30,34,57,59,51,32,31,31,33,32,27,50,41,29,51,41,43,22,57,38,60,28,22,28,45,33,35,46,27,56,26,37,48,54,40,25,29,22,31,24,22,26,30,58,42,21,41,31,44,22,21,39,36,24,42,32,38,54,25,27,28,26,42,23,22,22,41,27,26,24,22,22,36,22,37,27,45,26,43,24,21,34,42,60,21,40,24,22,23,31,33,22,21,24,27,21,27,37,25,24,24,46,23,25,39,61,38,25,22,21,25,24,23,69,23,26,30,23,40,62,33,33,30,39,26,31,21,22,29,28,55,38,22,42,23,21,41,34,65,22,24,37,42,23,43,36,21,23,22,47,36,45,27,21,32,41,22,34,29,29,36,29,25,23,33,36,42,26,47,37,32,23,21,27,40,41,60,33,31,25,21,40,36,40,42,29,21,23,26,29,21,28,32,27,55,27,57,52,21,41,25,24,60,24,36,38,25,32,32,41,21,66,37,61,26,22,26,24,31,24,22,46,22,29,23,26,51,23,32,27,21,22,22,33,29,49,41,23,34,23,42,27,24,25,44,21,30,25,24,51,34,27,24,63,35,43,25,24,21,28,38,21,40,21,52,25,29,23,57,22,28,39,37,47,52,51,34,29,26,33,21,25,31,24,65,28,29,24,46,58,30,25,35,28,37,29,47,21,25,30,41,22,27,25,43,26,30,29,28,59,31,25,36,43,21,24,30,37,23,37,46,25,41,44,22,26,44,44,33,41,22,36,22,33,57,49,22,23,26,37,29,30,46,24,21,49,28,44,48,29,29,63,65,67,30,30,29,21,22,45,25,21,21,25,28,58,22,22,32,35,24,22,21,25,25,24,35,45,58,28,42,27,21,37,31,25,39,22,25,25,31,55,35,38,41,26,46,25,39,28,28,25,22,21,21,22,22,37,27,28,26,21,21,21,36,31,25,38,26,43,23,38,22,29,36,29,41,28,21,31,41,22,24,33,30,25,28,26,22,26,23,23,25,72,24,38,62,24,51,81,48,26,39,37,34,21,22,25,38,27,28,22,22,50,24,59,29,31,39,63,35,29,28,23,31,24,21,58,28,67,24,42,33,45,22,66,30,25,55,39,21,28,41,41,40,38,35,21,21,64,46,21,58,22,24,28,53,51,41,60,25,26,26,45,24,21,21,24,22,31,22,24,29,31,24,23,46,67,23,32,43,27,56,25,29,37,53,28,50,37,21,25,66,23,28,37,30,58,42,35,54,28,24,32,27,22,21,46,37,33,39,21,22,22,23,25,35,21,36,62,21,27,62,42,52,22,41,29,52,25,45,24,44,25,34,22,46,21,38,26,24,28,30,54,36,21,22,25,27,23,24,36,40,26,50,27,30,23,50,24,28,28,45,21,21,29,21,21,45,21,34,24,23,22,31,38,48,23,32,28,27,24,50,31,27,30,33,22,42,23,23,27,28,27,22,25,22,41,51,27,54,22,43,40,40,24,70,40,43,45,49,21,47,22,68,31,53,25,25,23,22,26,22,27,69,25,22,29,23,46,34,44,23,43,25,43,31,22,28,26,26,49,52,41,27,28,30,22,45,23,24,40,38,21,32,34,31,56,24,52,34,21,42,42,45,38,25,22,22,22,34,22,24,22,53,28,21,42,21,42,48,26,22,45,39,46,27,32,36,50,22,28,25,26,45,37,39,52,26,66,22,43,33,63,27,30,47,23],\"sizemode\":\"area\",\"sizeref\":1.265625,\"symbol\":\"circle\"},\"mode\":\"markers\",\"name\":\"\",\"orientation\":\"v\",\"showlegend\":false,\"x\":[72.0,66.0,64.0,66.0,40.0,74.0,50.0,72.40518417462484,70.0,96.0,92.0,74.0,80.0,60.0,72.0,72.40518417462484,84.0,74.0,30.0,70.0,88.0,84.0,90.0,80.0,94.0,70.0,76.0,66.0,82.0,92.0,75.0,76.0,58.0,92.0,78.0,60.0,76.0,76.0,68.0,72.0,64.0,84.0,92.0,110.0,64.0,66.0,56.0,70.0,66.0,72.40518417462484,80.0,50.0,66.0,90.0,66.0,50.0,68.0,88.0,82.0,64.0,72.40518417462484,72.0,62.0,58.0,66.0,74.0,88.0,92.0,66.0,85.0,66.0,64.0,90.0,86.0,75.0,48.0,78.0,72.0,72.40518417462484,66.0,44.0,72.40518417462484,78.0,65.0,108.0,74.0,72.0,68.0,70.0,68.0,55.0,80.0,78.0,72.0,82.0,72.0,62.0,48.0,50.0,90.0,72.0,60.0,96.0,72.0,65.0,56.0,122.0,58.0,58.0,85.0,72.0,62.0,76.0,62.0,54.0,92.0,74.0,48.0,60.0,76.0,76.0,64.0,74.0,80.0,76.0,30.0,70.0,58.0,88.0,84.0,70.0,56.0,64.0,74.0,68.0,60.0,70.0,60.0,80.0,72.0,78.0,82.0,52.0,66.0,62.0,75.0,80.0,64.0,78.0,70.0,74.0,65.0,86.0,82.0,78.0,88.0,52.0,56.0,74.0,72.0,90.0,74.0,80.0,64.0,88.0,74.0,66.0,68.0,66.0,90.0,82.0,70.0,72.40518417462484,60.0,64.0,72.0,78.0,110.0,78.0,82.0,80.0,64.0,74.0,60.0,74.0,68.0,68.0,98.0,76.0,80.0,62.0,70.0,66.0,72.40518417462484,55.0,84.0,58.0,62.0,64.0,60.0,80.0,82.0,68.0,70.0,72.0,72.0,76.0,104.0,64.0,84.0,60.0,85.0,95.0,65.0,82.0,70.0,62.0,68.0,74.0,66.0,60.0,90.0,72.40518417462484,60.0,66.0,78.0,76.0,52.0,70.0,80.0,86.0,80.0,80.0,68.0,68.0,72.0,84.0,90.0,84.0,76.0,64.0,70.0,54.0,50.0,76.0,85.0,68.0,90.0,70.0,86.0,52.0,84.0,80.0,68.0,62.0,64.0,56.0,68.0,50.0,76.0,68.0,72.40518417462484,70.0,80.0,62.0,74.0,72.40518417462484,64.0,52.0,72.40518417462484,86.0,62.0,78.0,78.0,70.0,70.0,60.0,64.0,74.0,62.0,70.0,76.0,88.0,86.0,80.0,74.0,84.0,86.0,56.0,72.0,88.0,62.0,78.0,48.0,50.0,62.0,70.0,84.0,78.0,72.0,72.40518417462484,58.0,82.0,98.0,76.0,76.0,68.0,68.0,68.0,68.0,66.0,70.0,74.0,50.0,80.0,68.0,80.0,74.0,66.0,78.0,60.0,74.0,70.0,90.0,75.0,72.0,64.0,70.0,86.0,70.0,72.0,58.0,72.40518417462484,80.0,60.0,76.0,72.40518417462484,76.0,78.0,84.0,70.0,74.0,68.0,86.0,72.0,88.0,46.0,72.40518417462484,62.0,80.0,80.0,84.0,82.0,62.0,78.0,88.0,50.0,72.40518417462484,74.0,76.0,64.0,70.0,108.0,78.0,74.0,54.0,72.0,64.0,86.0,102.0,82.0,64.0,64.0,58.0,52.0,82.0,82.0,60.0,75.0,100.0,72.0,68.0,60.0,62.0,70.0,54.0,74.0,100.0,82.0,68.0,66.0,76.0,64.0,72.0,78.0,58.0,56.0,66.0,70.0,70.0,64.0,61.0,84.0,78.0,64.0,48.0,72.0,62.0,74.0,68.0,90.0,72.0,84.0,74.0,60.0,84.0,68.0,82.0,68.0,64.0,88.0,68.0,64.0,64.0,78.0,78.0,72.40518417462484,64.0,94.0,82.0,72.40518417462484,74.0,74.0,75.0,68.0,72.40518417462484,85.0,75.0,70.0,88.0,104.0,66.0,64.0,70.0,62.0,78.0,72.0,80.0,64.0,74.0,64.0,70.0,68.0,72.40518417462484,54.0,62.0,54.0,68.0,84.0,74.0,72.0,62.0,70.0,78.0,98.0,56.0,52.0,64.0,72.40518417462484,78.0,82.0,70.0,66.0,90.0,64.0,84.0,80.0,76.0,74.0,86.0,70.0,88.0,58.0,82.0,72.40518417462484,68.0,62.0,78.0,72.0,80.0,65.0,90.0,68.0,70.0,72.40518417462484,74.0,68.0,72.0,70.0,74.0,90.0,72.0,68.0,64.0,78.0,82.0,90.0,60.0,50.0,78.0,72.0,62.0,68.0,62.0,54.0,70.0,88.0,86.0,60.0,90.0,70.0,80.0,72.40518417462484,70.0,58.0,60.0,64.0,74.0,66.0,65.0,60.0,76.0,66.0,72.40518417462484,56.0,72.40518417462484,90.0,60.0,80.0,92.0,74.0,72.0,85.0,90.0,78.0,90.0,76.0,68.0,82.0,110.0,70.0,68.0,88.0,62.0,64.0,70.0,70.0,76.0,68.0,74.0,76.0,66.0,68.0,60.0,80.0,54.0,72.0,62.0,72.0,66.0,70.0,96.0,58.0,60.0,86.0,44.0,44.0,80.0,68.0,70.0,90.0,60.0,78.0,76.0,76.0,56.0,66.0,66.0,86.0,72.40518417462484,84.0,78.0,80.0,52.0,72.0,82.0,76.0,24.0,74.0,38.0,88.0,72.40518417462484,74.0,78.0,72.40518417462484,60.0,78.0,62.0,82.0,62.0,54.0,58.0,88.0,80.0,74.0,72.0,96.0,62.0,82.0,72.40518417462484,86.0,76.0,94.0,70.0,64.0,88.0,68.0,78.0,80.0,65.0,64.0,78.0,60.0,82.0,62.0,72.0,74.0,76.0,76.0,74.0,86.0,70.0,80.0,72.40518417462484,72.0,74.0,74.0,50.0,84.0,60.0,54.0,60.0,74.0,54.0,70.0,52.0,58.0,80.0,106.0,82.0,84.0,76.0,106.0,80.0,60.0,80.0,82.0,70.0,58.0,78.0,68.0,58.0,106.0,100.0,82.0,70.0,86.0,60.0,52.0,58.0,56.0,76.0,64.0,80.0,82.0,74.0,64.0,50.0,74.0,82.0,80.0,114.0,70.0,68.0,60.0,90.0,74.0,72.40518417462484,88.0,70.0,76.0,78.0,88.0,72.40518417462484,76.0,80.0,72.40518417462484,46.0,78.0,64.0,64.0,78.0,62.0,58.0,74.0,50.0,78.0,72.0,60.0,76.0,86.0,66.0,68.0,86.0,94.0,78.0,78.0,84.0,88.0,52.0,78.0,86.0,88.0,56.0,75.0,60.0,86.0,72.0,60.0,74.0,80.0,44.0,58.0,94.0,88.0,84.0,94.0,74.0,70.0,62.0,70.0,78.0,62.0,88.0,78.0,88.0,90.0,72.0,76.0,92.0,58.0,74.0,62.0,76.0,70.0,72.0,60.0,70.0],\"xaxis\":\"x\",\"y\":[50,31,32,21,33,30,26,29,53,54,30,34,57,59,51,32,31,31,33,32,27,50,41,29,51,41,43,22,57,38,60,28,22,28,45,33,35,46,27,56,26,37,48,54,40,25,29,22,31,24,22,26,30,58,42,21,41,31,44,22,21,39,36,24,42,32,38,54,25,27,28,26,42,23,22,22,41,27,26,24,22,22,36,22,37,27,45,26,43,24,21,34,42,60,21,40,24,22,23,31,33,22,21,24,27,21,27,37,25,24,24,46,23,25,39,61,38,25,22,21,25,24,23,69,23,26,30,23,40,62,33,33,30,39,26,31,21,22,29,28,55,38,22,42,23,21,41,34,65,22,24,37,42,23,43,36,21,23,22,47,36,45,27,21,32,41,22,34,29,29,36,29,25,23,33,36,42,26,47,37,32,23,21,27,40,41,60,33,31,25,21,40,36,40,42,29,21,23,26,29,21,28,32,27,55,27,57,52,21,41,25,24,60,24,36,38,25,32,32,41,21,66,37,61,26,22,26,24,31,24,22,46,22,29,23,26,51,23,32,27,21,22,22,33,29,49,41,23,34,23,42,27,24,25,44,21,30,25,24,51,34,27,24,63,35,43,25,24,21,28,38,21,40,21,52,25,29,23,57,22,28,39,37,47,52,51,34,29,26,33,21,25,31,24,65,28,29,24,46,58,30,25,35,28,37,29,47,21,25,30,41,22,27,25,43,26,30,29,28,59,31,25,36,43,21,24,30,37,23,37,46,25,41,44,22,26,44,44,33,41,22,36,22,33,57,49,22,23,26,37,29,30,46,24,21,49,28,44,48,29,29,63,65,67,30,30,29,21,22,45,25,21,21,25,28,58,22,22,32,35,24,22,21,25,25,24,35,45,58,28,42,27,21,37,31,25,39,22,25,25,31,55,35,38,41,26,46,25,39,28,28,25,22,21,21,22,22,37,27,28,26,21,21,21,36,31,25,38,26,43,23,38,22,29,36,29,41,28,21,31,41,22,24,33,30,25,28,26,22,26,23,23,25,72,24,38,62,24,51,81,48,26,39,37,34,21,22,25,38,27,28,22,22,50,24,59,29,31,39,63,35,29,28,23,31,24,21,58,28,67,24,42,33,45,22,66,30,25,55,39,21,28,41,41,40,38,35,21,21,64,46,21,58,22,24,28,53,51,41,60,25,26,26,45,24,21,21,24,22,31,22,24,29,31,24,23,46,67,23,32,43,27,56,25,29,37,53,28,50,37,21,25,66,23,28,37,30,58,42,35,54,28,24,32,27,22,21,46,37,33,39,21,22,22,23,25,35,21,36,62,21,27,62,42,52,22,41,29,52,25,45,24,44,25,34,22,46,21,38,26,24,28,30,54,36,21,22,25,27,23,24,36,40,26,50,27,30,23,50,24,28,28,45,21,21,29,21,21,45,21,34,24,23,22,31,38,48,23,32,28,27,24,50,31,27,30,33,22,42,23,23,27,28,27,22,25,22,41,51,27,54,22,43,40,40,24,70,40,43,45,49,21,47,22,68,31,53,25,25,23,22,26,22,27,69,25,22,29,23,46,34,44,23,43,25,43,31,22,28,26,26,49,52,41,27,28,30,22,45,23,24,40,38,21,32,34,31,56,24,52,34,21,42,42,45,38,25,22,22,22,34,22,24,22,53,28,21,42,21,42,48,26,22,45,39,46,27,32,36,50,22,28,25,26,45,37,39,52,26,66,22,43,33,63,27,30,47,23],\"yaxis\":\"y\",\"type\":\"scatter\"},{\"alignmentgroup\":\"True\",\"bingroup\":\"x\",\"hovertemplate\":\"BloodPressure=%{x}<br>count=%{y}<extra></extra>\",\"legendgroup\":\"\",\"marker\":{\"color\":\"#0d0887\"},\"name\":\"\",\"offsetgroup\":\"\",\"opacity\":0.5,\"showlegend\":false,\"x\":[72.0,66.0,64.0,66.0,40.0,74.0,50.0,72.40518417462484,70.0,96.0,92.0,74.0,80.0,60.0,72.0,72.40518417462484,84.0,74.0,30.0,70.0,88.0,84.0,90.0,80.0,94.0,70.0,76.0,66.0,82.0,92.0,75.0,76.0,58.0,92.0,78.0,60.0,76.0,76.0,68.0,72.0,64.0,84.0,92.0,110.0,64.0,66.0,56.0,70.0,66.0,72.40518417462484,80.0,50.0,66.0,90.0,66.0,50.0,68.0,88.0,82.0,64.0,72.40518417462484,72.0,62.0,58.0,66.0,74.0,88.0,92.0,66.0,85.0,66.0,64.0,90.0,86.0,75.0,48.0,78.0,72.0,72.40518417462484,66.0,44.0,72.40518417462484,78.0,65.0,108.0,74.0,72.0,68.0,70.0,68.0,55.0,80.0,78.0,72.0,82.0,72.0,62.0,48.0,50.0,90.0,72.0,60.0,96.0,72.0,65.0,56.0,122.0,58.0,58.0,85.0,72.0,62.0,76.0,62.0,54.0,92.0,74.0,48.0,60.0,76.0,76.0,64.0,74.0,80.0,76.0,30.0,70.0,58.0,88.0,84.0,70.0,56.0,64.0,74.0,68.0,60.0,70.0,60.0,80.0,72.0,78.0,82.0,52.0,66.0,62.0,75.0,80.0,64.0,78.0,70.0,74.0,65.0,86.0,82.0,78.0,88.0,52.0,56.0,74.0,72.0,90.0,74.0,80.0,64.0,88.0,74.0,66.0,68.0,66.0,90.0,82.0,70.0,72.40518417462484,60.0,64.0,72.0,78.0,110.0,78.0,82.0,80.0,64.0,74.0,60.0,74.0,68.0,68.0,98.0,76.0,80.0,62.0,70.0,66.0,72.40518417462484,55.0,84.0,58.0,62.0,64.0,60.0,80.0,82.0,68.0,70.0,72.0,72.0,76.0,104.0,64.0,84.0,60.0,85.0,95.0,65.0,82.0,70.0,62.0,68.0,74.0,66.0,60.0,90.0,72.40518417462484,60.0,66.0,78.0,76.0,52.0,70.0,80.0,86.0,80.0,80.0,68.0,68.0,72.0,84.0,90.0,84.0,76.0,64.0,70.0,54.0,50.0,76.0,85.0,68.0,90.0,70.0,86.0,52.0,84.0,80.0,68.0,62.0,64.0,56.0,68.0,50.0,76.0,68.0,72.40518417462484,70.0,80.0,62.0,74.0,72.40518417462484,64.0,52.0,72.40518417462484,86.0,62.0,78.0,78.0,70.0,70.0,60.0,64.0,74.0,62.0,70.0,76.0,88.0,86.0,80.0,74.0,84.0,86.0,56.0,72.0,88.0,62.0,78.0,48.0,50.0,62.0,70.0,84.0,78.0,72.0,72.40518417462484,58.0,82.0,98.0,76.0,76.0,68.0,68.0,68.0,68.0,66.0,70.0,74.0,50.0,80.0,68.0,80.0,74.0,66.0,78.0,60.0,74.0,70.0,90.0,75.0,72.0,64.0,70.0,86.0,70.0,72.0,58.0,72.40518417462484,80.0,60.0,76.0,72.40518417462484,76.0,78.0,84.0,70.0,74.0,68.0,86.0,72.0,88.0,46.0,72.40518417462484,62.0,80.0,80.0,84.0,82.0,62.0,78.0,88.0,50.0,72.40518417462484,74.0,76.0,64.0,70.0,108.0,78.0,74.0,54.0,72.0,64.0,86.0,102.0,82.0,64.0,64.0,58.0,52.0,82.0,82.0,60.0,75.0,100.0,72.0,68.0,60.0,62.0,70.0,54.0,74.0,100.0,82.0,68.0,66.0,76.0,64.0,72.0,78.0,58.0,56.0,66.0,70.0,70.0,64.0,61.0,84.0,78.0,64.0,48.0,72.0,62.0,74.0,68.0,90.0,72.0,84.0,74.0,60.0,84.0,68.0,82.0,68.0,64.0,88.0,68.0,64.0,64.0,78.0,78.0,72.40518417462484,64.0,94.0,82.0,72.40518417462484,74.0,74.0,75.0,68.0,72.40518417462484,85.0,75.0,70.0,88.0,104.0,66.0,64.0,70.0,62.0,78.0,72.0,80.0,64.0,74.0,64.0,70.0,68.0,72.40518417462484,54.0,62.0,54.0,68.0,84.0,74.0,72.0,62.0,70.0,78.0,98.0,56.0,52.0,64.0,72.40518417462484,78.0,82.0,70.0,66.0,90.0,64.0,84.0,80.0,76.0,74.0,86.0,70.0,88.0,58.0,82.0,72.40518417462484,68.0,62.0,78.0,72.0,80.0,65.0,90.0,68.0,70.0,72.40518417462484,74.0,68.0,72.0,70.0,74.0,90.0,72.0,68.0,64.0,78.0,82.0,90.0,60.0,50.0,78.0,72.0,62.0,68.0,62.0,54.0,70.0,88.0,86.0,60.0,90.0,70.0,80.0,72.40518417462484,70.0,58.0,60.0,64.0,74.0,66.0,65.0,60.0,76.0,66.0,72.40518417462484,56.0,72.40518417462484,90.0,60.0,80.0,92.0,74.0,72.0,85.0,90.0,78.0,90.0,76.0,68.0,82.0,110.0,70.0,68.0,88.0,62.0,64.0,70.0,70.0,76.0,68.0,74.0,76.0,66.0,68.0,60.0,80.0,54.0,72.0,62.0,72.0,66.0,70.0,96.0,58.0,60.0,86.0,44.0,44.0,80.0,68.0,70.0,90.0,60.0,78.0,76.0,76.0,56.0,66.0,66.0,86.0,72.40518417462484,84.0,78.0,80.0,52.0,72.0,82.0,76.0,24.0,74.0,38.0,88.0,72.40518417462484,74.0,78.0,72.40518417462484,60.0,78.0,62.0,82.0,62.0,54.0,58.0,88.0,80.0,74.0,72.0,96.0,62.0,82.0,72.40518417462484,86.0,76.0,94.0,70.0,64.0,88.0,68.0,78.0,80.0,65.0,64.0,78.0,60.0,82.0,62.0,72.0,74.0,76.0,76.0,74.0,86.0,70.0,80.0,72.40518417462484,72.0,74.0,74.0,50.0,84.0,60.0,54.0,60.0,74.0,54.0,70.0,52.0,58.0,80.0,106.0,82.0,84.0,76.0,106.0,80.0,60.0,80.0,82.0,70.0,58.0,78.0,68.0,58.0,106.0,100.0,82.0,70.0,86.0,60.0,52.0,58.0,56.0,76.0,64.0,80.0,82.0,74.0,64.0,50.0,74.0,82.0,80.0,114.0,70.0,68.0,60.0,90.0,74.0,72.40518417462484,88.0,70.0,76.0,78.0,88.0,72.40518417462484,76.0,80.0,72.40518417462484,46.0,78.0,64.0,64.0,78.0,62.0,58.0,74.0,50.0,78.0,72.0,60.0,76.0,86.0,66.0,68.0,86.0,94.0,78.0,78.0,84.0,88.0,52.0,78.0,86.0,88.0,56.0,75.0,60.0,86.0,72.0,60.0,74.0,80.0,44.0,58.0,94.0,88.0,84.0,94.0,74.0,70.0,62.0,70.0,78.0,62.0,88.0,78.0,88.0,90.0,72.0,76.0,92.0,58.0,74.0,62.0,76.0,70.0,72.0,60.0,70.0],\"xaxis\":\"x3\",\"yaxis\":\"y3\",\"type\":\"histogram\"},{\"alignmentgroup\":\"True\",\"bingroup\":\"y\",\"hovertemplate\":\"Age=%{y}<br>count=%{x}<extra></extra>\",\"legendgroup\":\"\",\"marker\":{\"color\":\"#0d0887\"},\"name\":\"\",\"offsetgroup\":\"\",\"opacity\":0.5,\"showlegend\":false,\"xaxis\":\"x2\",\"y\":[50,31,32,21,33,30,26,29,53,54,30,34,57,59,51,32,31,31,33,32,27,50,41,29,51,41,43,22,57,38,60,28,22,28,45,33,35,46,27,56,26,37,48,54,40,25,29,22,31,24,22,26,30,58,42,21,41,31,44,22,21,39,36,24,42,32,38,54,25,27,28,26,42,23,22,22,41,27,26,24,22,22,36,22,37,27,45,26,43,24,21,34,42,60,21,40,24,22,23,31,33,22,21,24,27,21,27,37,25,24,24,46,23,25,39,61,38,25,22,21,25,24,23,69,23,26,30,23,40,62,33,33,30,39,26,31,21,22,29,28,55,38,22,42,23,21,41,34,65,22,24,37,42,23,43,36,21,23,22,47,36,45,27,21,32,41,22,34,29,29,36,29,25,23,33,36,42,26,47,37,32,23,21,27,40,41,60,33,31,25,21,40,36,40,42,29,21,23,26,29,21,28,32,27,55,27,57,52,21,41,25,24,60,24,36,38,25,32,32,41,21,66,37,61,26,22,26,24,31,24,22,46,22,29,23,26,51,23,32,27,21,22,22,33,29,49,41,23,34,23,42,27,24,25,44,21,30,25,24,51,34,27,24,63,35,43,25,24,21,28,38,21,40,21,52,25,29,23,57,22,28,39,37,47,52,51,34,29,26,33,21,25,31,24,65,28,29,24,46,58,30,25,35,28,37,29,47,21,25,30,41,22,27,25,43,26,30,29,28,59,31,25,36,43,21,24,30,37,23,37,46,25,41,44,22,26,44,44,33,41,22,36,22,33,57,49,22,23,26,37,29,30,46,24,21,49,28,44,48,29,29,63,65,67,30,30,29,21,22,45,25,21,21,25,28,58,22,22,32,35,24,22,21,25,25,24,35,45,58,28,42,27,21,37,31,25,39,22,25,25,31,55,35,38,41,26,46,25,39,28,28,25,22,21,21,22,22,37,27,28,26,21,21,21,36,31,25,38,26,43,23,38,22,29,36,29,41,28,21,31,41,22,24,33,30,25,28,26,22,26,23,23,25,72,24,38,62,24,51,81,48,26,39,37,34,21,22,25,38,27,28,22,22,50,24,59,29,31,39,63,35,29,28,23,31,24,21,58,28,67,24,42,33,45,22,66,30,25,55,39,21,28,41,41,40,38,35,21,21,64,46,21,58,22,24,28,53,51,41,60,25,26,26,45,24,21,21,24,22,31,22,24,29,31,24,23,46,67,23,32,43,27,56,25,29,37,53,28,50,37,21,25,66,23,28,37,30,58,42,35,54,28,24,32,27,22,21,46,37,33,39,21,22,22,23,25,35,21,36,62,21,27,62,42,52,22,41,29,52,25,45,24,44,25,34,22,46,21,38,26,24,28,30,54,36,21,22,25,27,23,24,36,40,26,50,27,30,23,50,24,28,28,45,21,21,29,21,21,45,21,34,24,23,22,31,38,48,23,32,28,27,24,50,31,27,30,33,22,42,23,23,27,28,27,22,25,22,41,51,27,54,22,43,40,40,24,70,40,43,45,49,21,47,22,68,31,53,25,25,23,22,26,22,27,69,25,22,29,23,46,34,44,23,43,25,43,31,22,28,26,26,49,52,41,27,28,30,22,45,23,24,40,38,21,32,34,31,56,24,52,34,21,42,42,45,38,25,22,22,22,34,22,24,22,53,28,21,42,21,42,48,26,22,45,39,46,27,32,36,50,22,28,25,26,45,37,39,52,26,66,22,43,33,63,27,30,47,23],\"yaxis\":\"y2\",\"type\":\"histogram\"}],                        {\"template\":{\"data\":{\"histogram2dcontour\":[{\"type\":\"histogram2dcontour\",\"colorbar\":{\"outlinewidth\":0,\"ticks\":\"\"},\"colorscale\":[[0.0,\"#0d0887\"],[0.1111111111111111,\"#46039f\"],[0.2222222222222222,\"#7201a8\"],[0.3333333333333333,\"#9c179e\"],[0.4444444444444444,\"#bd3786\"],[0.5555555555555556,\"#d8576b\"],[0.6666666666666666,\"#ed7953\"],[0.7777777777777778,\"#fb9f3a\"],[0.8888888888888888,\"#fdca26\"],[1.0,\"#f0f921\"]]}],\"choropleth\":[{\"type\":\"choropleth\",\"colorbar\":{\"outlinewidth\":0,\"ticks\":\"\"}}],\"histogram2d\":[{\"type\":\"histogram2d\",\"colorbar\":{\"outlinewidth\":0,\"ticks\":\"\"},\"colorscale\":[[0.0,\"#0d0887\"],[0.1111111111111111,\"#46039f\"],[0.2222222222222222,\"#7201a8\"],[0.3333333333333333,\"#9c179e\"],[0.4444444444444444,\"#bd3786\"],[0.5555555555555556,\"#d8576b\"],[0.6666666666666666,\"#ed7953\"],[0.7777777777777778,\"#fb9f3a\"],[0.8888888888888888,\"#fdca26\"],[1.0,\"#f0f921\"]]}],\"heatmap\":[{\"type\":\"heatmap\",\"colorbar\":{\"outlinewidth\":0,\"ticks\":\"\"},\"colorscale\":[[0.0,\"#0d0887\"],[0.1111111111111111,\"#46039f\"],[0.2222222222222222,\"#7201a8\"],[0.3333333333333333,\"#9c179e\"],[0.4444444444444444,\"#bd3786\"],[0.5555555555555556,\"#d8576b\"],[0.6666666666666666,\"#ed7953\"],[0.7777777777777778,\"#fb9f3a\"],[0.8888888888888888,\"#fdca26\"],[1.0,\"#f0f921\"]]}],\"heatmapgl\":[{\"type\":\"heatmapgl\",\"colorbar\":{\"outlinewidth\":0,\"ticks\":\"\"},\"colorscale\":[[0.0,\"#0d0887\"],[0.1111111111111111,\"#46039f\"],[0.2222222222222222,\"#7201a8\"],[0.3333333333333333,\"#9c179e\"],[0.4444444444444444,\"#bd3786\"],[0.5555555555555556,\"#d8576b\"],[0.6666666666666666,\"#ed7953\"],[0.7777777777777778,\"#fb9f3a\"],[0.8888888888888888,\"#fdca26\"],[1.0,\"#f0f921\"]]}],\"contourcarpet\":[{\"type\":\"contourcarpet\",\"colorbar\":{\"outlinewidth\":0,\"ticks\":\"\"}}],\"contour\":[{\"type\":\"contour\",\"colorbar\":{\"outlinewidth\":0,\"ticks\":\"\"},\"colorscale\":[[0.0,\"#0d0887\"],[0.1111111111111111,\"#46039f\"],[0.2222222222222222,\"#7201a8\"],[0.3333333333333333,\"#9c179e\"],[0.4444444444444444,\"#bd3786\"],[0.5555555555555556,\"#d8576b\"],[0.6666666666666666,\"#ed7953\"],[0.7777777777777778,\"#fb9f3a\"],[0.8888888888888888,\"#fdca26\"],[1.0,\"#f0f921\"]]}],\"surface\":[{\"type\":\"surface\",\"colorbar\":{\"outlinewidth\":0,\"ticks\":\"\"},\"colorscale\":[[0.0,\"#0d0887\"],[0.1111111111111111,\"#46039f\"],[0.2222222222222222,\"#7201a8\"],[0.3333333333333333,\"#9c179e\"],[0.4444444444444444,\"#bd3786\"],[0.5555555555555556,\"#d8576b\"],[0.6666666666666666,\"#ed7953\"],[0.7777777777777778,\"#fb9f3a\"],[0.8888888888888888,\"#fdca26\"],[1.0,\"#f0f921\"]]}],\"mesh3d\":[{\"type\":\"mesh3d\",\"colorbar\":{\"outlinewidth\":0,\"ticks\":\"\"}}],\"scatter\":[{\"fillpattern\":{\"fillmode\":\"overlay\",\"size\":10,\"solidity\":0.2},\"type\":\"scatter\"}],\"parcoords\":[{\"type\":\"parcoords\",\"line\":{\"colorbar\":{\"outlinewidth\":0,\"ticks\":\"\"}}}],\"scatterpolargl\":[{\"type\":\"scatterpolargl\",\"marker\":{\"colorbar\":{\"outlinewidth\":0,\"ticks\":\"\"}}}],\"bar\":[{\"error_x\":{\"color\":\"#2a3f5f\"},\"error_y\":{\"color\":\"#2a3f5f\"},\"marker\":{\"line\":{\"color\":\"#E5ECF6\",\"width\":0.5},\"pattern\":{\"fillmode\":\"overlay\",\"size\":10,\"solidity\":0.2}},\"type\":\"bar\"}],\"scattergeo\":[{\"type\":\"scattergeo\",\"marker\":{\"colorbar\":{\"outlinewidth\":0,\"ticks\":\"\"}}}],\"scatterpolar\":[{\"type\":\"scatterpolar\",\"marker\":{\"colorbar\":{\"outlinewidth\":0,\"ticks\":\"\"}}}],\"histogram\":[{\"marker\":{\"pattern\":{\"fillmode\":\"overlay\",\"size\":10,\"solidity\":0.2}},\"type\":\"histogram\"}],\"scattergl\":[{\"type\":\"scattergl\",\"marker\":{\"colorbar\":{\"outlinewidth\":0,\"ticks\":\"\"}}}],\"scatter3d\":[{\"type\":\"scatter3d\",\"line\":{\"colorbar\":{\"outlinewidth\":0,\"ticks\":\"\"}},\"marker\":{\"colorbar\":{\"outlinewidth\":0,\"ticks\":\"\"}}}],\"scattermapbox\":[{\"type\":\"scattermapbox\",\"marker\":{\"colorbar\":{\"outlinewidth\":0,\"ticks\":\"\"}}}],\"scatterternary\":[{\"type\":\"scatterternary\",\"marker\":{\"colorbar\":{\"outlinewidth\":0,\"ticks\":\"\"}}}],\"scattercarpet\":[{\"type\":\"scattercarpet\",\"marker\":{\"colorbar\":{\"outlinewidth\":0,\"ticks\":\"\"}}}],\"carpet\":[{\"aaxis\":{\"endlinecolor\":\"#2a3f5f\",\"gridcolor\":\"white\",\"linecolor\":\"white\",\"minorgridcolor\":\"white\",\"startlinecolor\":\"#2a3f5f\"},\"baxis\":{\"endlinecolor\":\"#2a3f5f\",\"gridcolor\":\"white\",\"linecolor\":\"white\",\"minorgridcolor\":\"white\",\"startlinecolor\":\"#2a3f5f\"},\"type\":\"carpet\"}],\"table\":[{\"cells\":{\"fill\":{\"color\":\"#EBF0F8\"},\"line\":{\"color\":\"white\"}},\"header\":{\"fill\":{\"color\":\"#C8D4E3\"},\"line\":{\"color\":\"white\"}},\"type\":\"table\"}],\"barpolar\":[{\"marker\":{\"line\":{\"color\":\"#E5ECF6\",\"width\":0.5},\"pattern\":{\"fillmode\":\"overlay\",\"size\":10,\"solidity\":0.2}},\"type\":\"barpolar\"}],\"pie\":[{\"automargin\":true,\"type\":\"pie\"}]},\"layout\":{\"autotypenumbers\":\"strict\",\"colorway\":[\"#636efa\",\"#EF553B\",\"#00cc96\",\"#ab63fa\",\"#FFA15A\",\"#19d3f3\",\"#FF6692\",\"#B6E880\",\"#FF97FF\",\"#FECB52\"],\"font\":{\"color\":\"#2a3f5f\"},\"hovermode\":\"closest\",\"hoverlabel\":{\"align\":\"left\"},\"paper_bgcolor\":\"white\",\"plot_bgcolor\":\"#E5ECF6\",\"polar\":{\"bgcolor\":\"#E5ECF6\",\"angularaxis\":{\"gridcolor\":\"white\",\"linecolor\":\"white\",\"ticks\":\"\"},\"radialaxis\":{\"gridcolor\":\"white\",\"linecolor\":\"white\",\"ticks\":\"\"}},\"ternary\":{\"bgcolor\":\"#E5ECF6\",\"aaxis\":{\"gridcolor\":\"white\",\"linecolor\":\"white\",\"ticks\":\"\"},\"baxis\":{\"gridcolor\":\"white\",\"linecolor\":\"white\",\"ticks\":\"\"},\"caxis\":{\"gridcolor\":\"white\",\"linecolor\":\"white\",\"ticks\":\"\"}},\"coloraxis\":{\"colorbar\":{\"outlinewidth\":0,\"ticks\":\"\"}},\"colorscale\":{\"sequential\":[[0.0,\"#0d0887\"],[0.1111111111111111,\"#46039f\"],[0.2222222222222222,\"#7201a8\"],[0.3333333333333333,\"#9c179e\"],[0.4444444444444444,\"#bd3786\"],[0.5555555555555556,\"#d8576b\"],[0.6666666666666666,\"#ed7953\"],[0.7777777777777778,\"#fb9f3a\"],[0.8888888888888888,\"#fdca26\"],[1.0,\"#f0f921\"]],\"sequentialminus\":[[0.0,\"#0d0887\"],[0.1111111111111111,\"#46039f\"],[0.2222222222222222,\"#7201a8\"],[0.3333333333333333,\"#9c179e\"],[0.4444444444444444,\"#bd3786\"],[0.5555555555555556,\"#d8576b\"],[0.6666666666666666,\"#ed7953\"],[0.7777777777777778,\"#fb9f3a\"],[0.8888888888888888,\"#fdca26\"],[1.0,\"#f0f921\"]],\"diverging\":[[0,\"#8e0152\"],[0.1,\"#c51b7d\"],[0.2,\"#de77ae\"],[0.3,\"#f1b6da\"],[0.4,\"#fde0ef\"],[0.5,\"#f7f7f7\"],[0.6,\"#e6f5d0\"],[0.7,\"#b8e186\"],[0.8,\"#7fbc41\"],[0.9,\"#4d9221\"],[1,\"#276419\"]]},\"xaxis\":{\"gridcolor\":\"white\",\"linecolor\":\"white\",\"ticks\":\"\",\"title\":{\"standoff\":15},\"zerolinecolor\":\"white\",\"automargin\":true,\"zerolinewidth\":2},\"yaxis\":{\"gridcolor\":\"white\",\"linecolor\":\"white\",\"ticks\":\"\",\"title\":{\"standoff\":15},\"zerolinecolor\":\"white\",\"automargin\":true,\"zerolinewidth\":2},\"scene\":{\"xaxis\":{\"backgroundcolor\":\"#E5ECF6\",\"gridcolor\":\"white\",\"linecolor\":\"white\",\"showbackground\":true,\"ticks\":\"\",\"zerolinecolor\":\"white\",\"gridwidth\":2},\"yaxis\":{\"backgroundcolor\":\"#E5ECF6\",\"gridcolor\":\"white\",\"linecolor\":\"white\",\"showbackground\":true,\"ticks\":\"\",\"zerolinecolor\":\"white\",\"gridwidth\":2},\"zaxis\":{\"backgroundcolor\":\"#E5ECF6\",\"gridcolor\":\"white\",\"linecolor\":\"white\",\"showbackground\":true,\"ticks\":\"\",\"zerolinecolor\":\"white\",\"gridwidth\":2}},\"shapedefaults\":{\"line\":{\"color\":\"#2a3f5f\"}},\"annotationdefaults\":{\"arrowcolor\":\"#2a3f5f\",\"arrowhead\":0,\"arrowwidth\":1},\"geo\":{\"bgcolor\":\"white\",\"landcolor\":\"#E5ECF6\",\"subunitcolor\":\"white\",\"showland\":true,\"showlakes\":true,\"lakecolor\":\"white\"},\"title\":{\"x\":0.05},\"mapbox\":{\"style\":\"light\"}}},\"xaxis\":{\"anchor\":\"y\",\"domain\":[0.0,0.7363],\"title\":{\"text\":\"BloodPressure\"}},\"yaxis\":{\"anchor\":\"x\",\"domain\":[0.0,0.7326],\"title\":{\"text\":\"Age\"}},\"xaxis2\":{\"anchor\":\"y2\",\"domain\":[0.7413,1.0],\"matches\":\"x2\",\"showticklabels\":false,\"showline\":false,\"ticks\":\"\",\"showgrid\":true},\"yaxis2\":{\"anchor\":\"x2\",\"domain\":[0.0,0.7326],\"matches\":\"y\",\"showticklabels\":false,\"showgrid\":true},\"xaxis3\":{\"anchor\":\"y3\",\"domain\":[0.0,0.7363],\"matches\":\"x\",\"showticklabels\":false,\"showgrid\":true},\"yaxis3\":{\"anchor\":\"x3\",\"domain\":[0.7426,1.0],\"matches\":\"y3\",\"showticklabels\":false,\"showline\":false,\"ticks\":\"\",\"showgrid\":true},\"xaxis4\":{\"anchor\":\"y4\",\"domain\":[0.7413,1.0],\"matches\":\"x2\",\"showticklabels\":false,\"showgrid\":true,\"showline\":false,\"ticks\":\"\"},\"yaxis4\":{\"anchor\":\"x4\",\"domain\":[0.7426,1.0],\"matches\":\"y3\",\"showticklabels\":false,\"showline\":false,\"ticks\":\"\",\"showgrid\":true},\"coloraxis\":{\"colorbar\":{\"title\":{\"text\":\"Outcome\"}},\"colorscale\":[[0.0,\"#0d0887\"],[0.1111111111111111,\"#46039f\"],[0.2222222222222222,\"#7201a8\"],[0.3333333333333333,\"#9c179e\"],[0.4444444444444444,\"#bd3786\"],[0.5555555555555556,\"#d8576b\"],[0.6666666666666666,\"#ed7953\"],[0.7777777777777778,\"#fb9f3a\"],[0.8888888888888888,\"#fdca26\"],[1.0,\"#f0f921\"]]},\"legend\":{\"tracegroupgap\":0,\"itemsizing\":\"constant\"},\"title\":{\"text\":\"Age and Glucose correlation\"},\"barmode\":\"overlay\"},                        {\"responsive\": true}                    ).then(function(){\n",
              "                            \n",
              "var gd = document.getElementById('e2ffbf1b-2770-472d-93d4-62ee95c910b7');\n",
              "var x = new MutationObserver(function (mutations, observer) {{\n",
              "        var display = window.getComputedStyle(gd).display;\n",
              "        if (!display || display === 'none') {{\n",
              "            console.log([gd, 'removed!']);\n",
              "            Plotly.purge(gd);\n",
              "            observer.disconnect();\n",
              "        }}\n",
              "}});\n",
              "\n",
              "// Listen for the removal of the full notebook cells\n",
              "var notebookContainer = gd.closest('#notebook-container');\n",
              "if (notebookContainer) {{\n",
              "    x.observe(notebookContainer, {childList: true});\n",
              "}}\n",
              "\n",
              "// Listen for the clearing of the current output cell\n",
              "var outputEl = gd.closest('.output');\n",
              "if (outputEl) {{\n",
              "    x.observe(outputEl, {childList: true});\n",
              "}}\n",
              "\n",
              "                        })                };                            </script>        </div>\n",
              "</body>\n",
              "</html>"
            ]
          },
          "metadata": {}
        }
      ]
    },
    {
      "cell_type": "markdown",
      "source": [
        "### Insuline + Age\n",
        "\n",
        "Insulin and age correlation/ distribution across target variable"
      ],
      "metadata": {
        "id": "w2ExJqObct3X"
      }
    },
    {
      "cell_type": "code",
      "source": [
        "ax= px.scatter(df_diabetes,x= \"Insulin\",y= \"Age\",marginal_x='histogram', marginal_y='histogram',size=\"Age\", size_max=8,color= \"Outcome\",title=\"Age and Glucose correlation\")\n",
        "ax.show()"
      ],
      "metadata": {
        "colab": {
          "base_uri": "https://localhost:8080/",
          "height": 542
        },
        "id": "0vKx9DL0c0Jt",
        "outputId": "2928f117-162f-4215-8c4a-b50375372e29"
      },
      "execution_count": 449,
      "outputs": [
        {
          "output_type": "display_data",
          "data": {
            "text/html": [
              "<html>\n",
              "<head><meta charset=\"utf-8\" /></head>\n",
              "<body>\n",
              "    <div>            <script src=\"https://cdnjs.cloudflare.com/ajax/libs/mathjax/2.7.5/MathJax.js?config=TeX-AMS-MML_SVG\"></script><script type=\"text/javascript\">if (window.MathJax && window.MathJax.Hub && window.MathJax.Hub.Config) {window.MathJax.Hub.Config({SVG: {font: \"STIX-Web\"}});}</script>                <script type=\"text/javascript\">window.PlotlyConfig = {MathJaxConfig: 'local'};</script>\n",
              "        <script src=\"https://cdn.plot.ly/plotly-2.18.0.min.js\"></script>                <div id=\"e96ec375-1cdc-4dcf-99c7-85a0ba4e5f5e\" class=\"plotly-graph-div\" style=\"height:525px; width:100%;\"></div>            <script type=\"text/javascript\">                                    window.PLOTLYENV=window.PLOTLYENV || {};                                    if (document.getElementById(\"e96ec375-1cdc-4dcf-99c7-85a0ba4e5f5e\")) {                    Plotly.newPlot(                        \"e96ec375-1cdc-4dcf-99c7-85a0ba4e5f5e\",                        [{\"hovertemplate\":\"Insulin=%{x}<br>Age=%{marker.size}<br>Outcome=%{marker.color}<extra></extra>\",\"legendgroup\":\"\",\"marker\":{\"color\":[1,0,1,0,1,0,1,0,1,1,0,1,0,1,1,1,1,1,0,1,0,0,1,1,1,1,1,0,0,0,0,1,0,0,0,0,0,1,1,1,0,0,0,1,0,1,0,0,1,0,0,0,0,1,0,0,1,0,0,0,0,1,0,0,1,0,1,0,0,0,1,0,1,0,0,0,0,0,1,0,0,0,0,0,1,0,0,0,1,0,0,0,0,1,0,0,0,0,0,1,1,0,0,0,0,0,0,0,0,1,1,1,0,0,1,1,1,0,0,0,1,0,0,0,1,1,0,0,1,1,1,1,1,0,0,0,0,0,0,0,0,0,0,1,0,0,0,0,0,0,0,0,1,0,1,1,0,0,0,1,0,0,0,0,1,1,0,0,0,0,1,1,0,0,0,1,0,1,0,1,0,0,0,0,0,1,1,1,1,1,0,0,1,1,0,1,0,1,1,1,0,0,0,0,0,0,1,1,0,1,0,0,0,1,1,1,1,0,1,1,1,1,0,0,0,0,0,1,0,0,1,1,0,0,0,1,1,1,1,0,0,0,1,1,0,1,0,0,0,0,0,0,0,0,1,1,0,0,0,1,0,1,0,0,1,0,1,0,0,1,1,0,0,0,0,0,1,0,0,0,1,0,0,1,1,0,0,1,0,0,0,1,1,1,0,0,1,0,1,0,1,1,0,1,0,0,1,0,1,1,0,0,1,0,1,0,0,1,0,1,0,1,1,1,0,0,1,0,1,0,0,0,1,0,0,0,0,1,1,1,0,0,0,0,0,0,0,0,0,1,0,0,0,0,0,1,1,1,0,1,1,0,0,1,0,0,1,0,0,1,1,0,0,0,0,1,0,0,1,0,0,0,0,0,0,0,1,1,1,0,0,1,0,0,1,0,0,1,0,1,1,0,1,0,1,0,1,0,1,1,0,0,0,0,1,1,0,1,0,1,0,0,0,0,1,1,0,1,0,1,0,0,0,0,0,1,0,0,0,0,1,0,0,1,1,1,0,0,1,0,0,1,0,0,0,1,0,0,1,0,0,0,0,0,0,0,0,0,1,0,0,0,0,0,0,0,1,0,0,0,1,0,0,0,1,1,0,0,0,0,0,0,0,1,0,0,0,0,1,0,0,0,1,0,0,0,1,0,0,0,1,0,0,0,0,1,1,0,0,0,0,0,0,1,0,0,0,0,0,0,0,0,0,0,0,1,0,0,0,1,1,1,1,0,0,1,1,0,0,0,0,0,0,0,0,0,0,0,0,0,1,1,0,0,0,0,0,0,0,1,0,0,0,0,0,0,0,1,0,1,1,0,0,0,1,0,1,0,1,0,1,0,1,0,0,1,0,0,1,0,0,0,0,1,1,0,1,0,0,0,0,1,1,0,1,0,0,0,1,1,0,0,0,0,0,0,0,0,0,0,1,0,0,0,0,1,0,0,1,0,0,0,1,0,0,0,1,1,1,0,0,0,0,0,0,1,0,0,0,1,0,1,1,1,1,0,1,1,0,0,0,0,0,0,0,1,1,0,1,0,0,1,0,1,0,0,0,0,0,1,0,1,0,1,0,1,1,0,0,0,0,1,1,0,0,0,1,0,1,1,0,0,1,0,0,1,1,0,0,1,0,0,1,0,0,0,0,0,0,0,1,1,1,0,0,0,0,0,0,1,1,0,0,1,0,0,1,0,1,1,1,0,0,1,1,1,0,1,0,1,0,1,0,0,0,0,1,0],\"coloraxis\":\"coloraxis\",\"size\":[50,31,32,21,33,30,26,29,53,54,30,34,57,59,51,32,31,31,33,32,27,50,41,29,51,41,43,22,57,38,60,28,22,28,45,33,35,46,27,56,26,37,48,54,40,25,29,22,31,24,22,26,30,58,42,21,41,31,44,22,21,39,36,24,42,32,38,54,25,27,28,26,42,23,22,22,41,27,26,24,22,22,36,22,37,27,45,26,43,24,21,34,42,60,21,40,24,22,23,31,33,22,21,24,27,21,27,37,25,24,24,46,23,25,39,61,38,25,22,21,25,24,23,69,23,26,30,23,40,62,33,33,30,39,26,31,21,22,29,28,55,38,22,42,23,21,41,34,65,22,24,37,42,23,43,36,21,23,22,47,36,45,27,21,32,41,22,34,29,29,36,29,25,23,33,36,42,26,47,37,32,23,21,27,40,41,60,33,31,25,21,40,36,40,42,29,21,23,26,29,21,28,32,27,55,27,57,52,21,41,25,24,60,24,36,38,25,32,32,41,21,66,37,61,26,22,26,24,31,24,22,46,22,29,23,26,51,23,32,27,21,22,22,33,29,49,41,23,34,23,42,27,24,25,44,21,30,25,24,51,34,27,24,63,35,43,25,24,21,28,38,21,40,21,52,25,29,23,57,22,28,39,37,47,52,51,34,29,26,33,21,25,31,24,65,28,29,24,46,58,30,25,35,28,37,29,47,21,25,30,41,22,27,25,43,26,30,29,28,59,31,25,36,43,21,24,30,37,23,37,46,25,41,44,22,26,44,44,33,41,22,36,22,33,57,49,22,23,26,37,29,30,46,24,21,49,28,44,48,29,29,63,65,67,30,30,29,21,22,45,25,21,21,25,28,58,22,22,32,35,24,22,21,25,25,24,35,45,58,28,42,27,21,37,31,25,39,22,25,25,31,55,35,38,41,26,46,25,39,28,28,25,22,21,21,22,22,37,27,28,26,21,21,21,36,31,25,38,26,43,23,38,22,29,36,29,41,28,21,31,41,22,24,33,30,25,28,26,22,26,23,23,25,72,24,38,62,24,51,81,48,26,39,37,34,21,22,25,38,27,28,22,22,50,24,59,29,31,39,63,35,29,28,23,31,24,21,58,28,67,24,42,33,45,22,66,30,25,55,39,21,28,41,41,40,38,35,21,21,64,46,21,58,22,24,28,53,51,41,60,25,26,26,45,24,21,21,24,22,31,22,24,29,31,24,23,46,67,23,32,43,27,56,25,29,37,53,28,50,37,21,25,66,23,28,37,30,58,42,35,54,28,24,32,27,22,21,46,37,33,39,21,22,22,23,25,35,21,36,62,21,27,62,42,52,22,41,29,52,25,45,24,44,25,34,22,46,21,38,26,24,28,30,54,36,21,22,25,27,23,24,36,40,26,50,27,30,23,50,24,28,28,45,21,21,29,21,21,45,21,34,24,23,22,31,38,48,23,32,28,27,24,50,31,27,30,33,22,42,23,23,27,28,27,22,25,22,41,51,27,54,22,43,40,40,24,70,40,43,45,49,21,47,22,68,31,53,25,25,23,22,26,22,27,69,25,22,29,23,46,34,44,23,43,25,43,31,22,28,26,26,49,52,41,27,28,30,22,45,23,24,40,38,21,32,34,31,56,24,52,34,21,42,42,45,38,25,22,22,22,34,22,24,22,53,28,21,42,21,42,48,26,22,45,39,46,27,32,36,50,22,28,25,26,45,37,39,52,26,66,22,43,33,63,27,30,47,23],\"sizemode\":\"area\",\"sizeref\":1.265625,\"symbol\":\"circle\"},\"mode\":\"markers\",\"name\":\"\",\"orientation\":\"v\",\"showlegend\":false,\"x\":[155.5482233502538,155.5482233502538,155.5482233502538,94.0,168.0,155.5482233502538,88.0,155.5482233502538,543.0,155.5482233502538,155.5482233502538,155.5482233502538,155.5482233502538,846.0,175.0,155.5482233502538,230.0,155.5482233502538,83.0,96.0,235.0,155.5482233502538,155.5482233502538,155.5482233502538,146.0,115.0,155.5482233502538,140.0,110.0,155.5482233502538,155.5482233502538,245.0,54.0,155.5482233502538,155.5482233502538,192.0,155.5482233502538,155.5482233502538,155.5482233502538,207.0,70.0,155.5482233502538,155.5482233502538,240.0,155.5482233502538,155.5482233502538,155.5482233502538,155.5482233502538,155.5482233502538,155.5482233502538,82.0,36.0,23.0,300.0,342.0,155.5482233502538,304.0,110.0,155.5482233502538,142.0,155.5482233502538,155.5482233502538,155.5482233502538,128.0,155.5482233502538,155.5482233502538,155.5482233502538,155.5482233502538,38.0,100.0,90.0,140.0,155.5482233502538,270.0,155.5482233502538,155.5482233502538,155.5482233502538,155.5482233502538,155.5482233502538,155.5482233502538,155.5482233502538,155.5482233502538,71.0,155.5482233502538,155.5482233502538,125.0,155.5482233502538,71.0,110.0,155.5482233502538,155.5482233502538,176.0,48.0,155.5482233502538,64.0,228.0,155.5482233502538,76.0,64.0,220.0,155.5482233502538,155.5482233502538,155.5482233502538,40.0,155.5482233502538,152.0,155.5482233502538,140.0,18.0,36.0,135.0,495.0,37.0,155.5482233502538,175.0,155.5482233502538,155.5482233502538,155.5482233502538,155.5482233502538,51.0,100.0,155.5482233502538,100.0,155.5482233502538,155.5482233502538,99.0,135.0,94.0,145.0,155.5482233502538,168.0,155.5482233502538,225.0,155.5482233502538,49.0,140.0,50.0,92.0,155.5482233502538,325.0,155.5482233502538,155.5482233502538,63.0,155.5482233502538,284.0,155.5482233502538,155.5482233502538,119.0,155.5482233502538,155.5482233502538,204.0,155.5482233502538,155.0,485.0,155.5482233502538,155.5482233502538,94.0,135.0,53.0,114.0,155.5482233502538,105.0,285.0,155.5482233502538,155.5482233502538,156.0,155.5482233502538,155.5482233502538,155.5482233502538,78.0,155.5482233502538,130.0,155.5482233502538,48.0,55.0,130.0,155.5482233502538,130.0,155.5482233502538,155.5482233502538,155.5482233502538,92.0,23.0,155.5482233502538,155.5482233502538,155.5482233502538,495.0,58.0,114.0,160.0,155.5482233502538,94.0,155.5482233502538,155.5482233502538,155.5482233502538,210.0,155.5482233502538,48.0,99.0,318.0,155.5482233502538,155.5482233502538,155.5482233502538,44.0,190.0,155.5482233502538,280.0,155.5482233502538,87.0,155.5482233502538,155.5482233502538,155.5482233502538,155.5482233502538,130.0,175.0,271.0,129.0,120.0,155.5482233502538,155.5482233502538,478.0,155.5482233502538,155.5482233502538,190.0,56.0,32.0,155.5482233502538,155.5482233502538,744.0,53.0,155.5482233502538,370.0,37.0,155.5482233502538,45.0,155.5482233502538,192.0,155.5482233502538,155.5482233502538,155.5482233502538,155.5482233502538,88.0,155.5482233502538,176.0,194.0,155.5482233502538,155.5482233502538,680.0,402.0,155.5482233502538,155.5482233502538,155.5482233502538,55.0,155.5482233502538,258.0,155.5482233502538,155.5482233502538,155.5482233502538,375.0,150.0,130.0,155.5482233502538,155.5482233502538,155.5482233502538,155.5482233502538,67.0,155.5482233502538,155.5482233502538,155.5482233502538,155.5482233502538,155.5482233502538,56.0,155.5482233502538,45.0,155.5482233502538,57.0,155.5482233502538,116.0,155.5482233502538,278.0,155.5482233502538,122.0,155.0,155.5482233502538,155.5482233502538,135.0,545.0,220.0,49.0,75.0,40.0,74.0,182.0,194.0,155.5482233502538,120.0,360.0,215.0,184.0,155.5482233502538,155.5482233502538,135.0,42.0,155.5482233502538,155.5482233502538,105.0,132.0,148.0,180.0,205.0,155.5482233502538,148.0,96.0,85.0,155.5482233502538,94.0,64.0,155.5482233502538,140.0,155.5482233502538,231.0,155.5482233502538,155.5482233502538,29.0,155.5482233502538,168.0,156.0,155.5482233502538,120.0,68.0,155.5482233502538,52.0,155.5482233502538,155.5482233502538,58.0,255.0,155.5482233502538,155.5482233502538,171.0,155.5482233502538,105.0,73.0,155.5482233502538,155.5482233502538,155.5482233502538,108.0,83.0,155.5482233502538,74.0,155.5482233502538,155.5482233502538,155.5482233502538,155.5482233502538,43.0,155.5482233502538,155.5482233502538,167.0,155.5482233502538,54.0,249.0,325.0,155.5482233502538,155.5482233502538,155.5482233502538,293.0,83.0,155.5482233502538,155.5482233502538,66.0,140.0,465.0,89.0,66.0,94.0,158.0,325.0,84.0,75.0,155.5482233502538,72.0,82.0,155.5482233502538,182.0,59.0,110.0,50.0,155.5482233502538,155.5482233502538,285.0,81.0,196.0,155.5482233502538,415.0,87.0,155.5482233502538,275.0,115.0,155.5482233502538,155.5482233502538,155.5482233502538,155.5482233502538,155.5482233502538,88.0,155.5482233502538,155.5482233502538,165.0,155.5482233502538,155.5482233502538,155.5482233502538,579.0,155.5482233502538,176.0,310.0,61.0,167.0,474.0,155.5482233502538,155.5482233502538,155.5482233502538,115.0,170.0,76.0,78.0,155.5482233502538,210.0,277.0,155.5482233502538,180.0,145.0,180.0,155.5482233502538,85.0,60.0,155.5482233502538,155.5482233502538,155.5482233502538,155.5482233502538,155.5482233502538,155.5482233502538,155.5482233502538,155.5482233502538,50.0,120.0,155.5482233502538,155.5482233502538,14.0,70.0,92.0,64.0,63.0,95.0,155.5482233502538,210.0,155.5482233502538,105.0,155.5482233502538,155.5482233502538,71.0,237.0,60.0,56.0,155.5482233502538,49.0,155.5482233502538,155.5482233502538,105.0,36.0,100.0,155.5482233502538,140.0,155.5482233502538,155.5482233502538,155.5482233502538,155.5482233502538,155.5482233502538,155.5482233502538,191.0,110.0,75.0,155.5482233502538,328.0,155.5482233502538,49.0,125.0,155.5482233502538,250.0,480.0,265.0,155.5482233502538,155.5482233502538,66.0,155.5482233502538,155.5482233502538,122.0,155.5482233502538,155.5482233502538,155.5482233502538,76.0,145.0,193.0,71.0,155.5482233502538,155.5482233502538,79.0,155.5482233502538,155.5482233502538,90.0,170.0,76.0,155.5482233502538,155.5482233502538,210.0,155.5482233502538,155.5482233502538,86.0,105.0,165.0,155.5482233502538,155.5482233502538,326.0,66.0,130.0,155.5482233502538,155.5482233502538,155.5482233502538,155.5482233502538,82.0,105.0,188.0,155.5482233502538,106.0,155.5482233502538,65.0,155.5482233502538,56.0,155.5482233502538,155.5482233502538,155.5482233502538,210.0,155.0,215.0,190.0,155.5482233502538,56.0,76.0,225.0,207.0,166.0,67.0,155.5482233502538,155.5482233502538,106.0,155.5482233502538,44.0,115.0,215.0,155.5482233502538,155.5482233502538,155.5482233502538,155.5482233502538,155.5482233502538,274.0,77.0,54.0,155.5482233502538,88.0,18.0,126.0,126.0,165.0,155.5482233502538,155.5482233502538,44.0,120.0,330.0,63.0,130.0,155.5482233502538,155.5482233502538,155.5482233502538,155.5482233502538,155.5482233502538,155.5482233502538,155.5482233502538,600.0,155.5482233502538,155.5482233502538,155.5482233502538,156.0,155.5482233502538,155.5482233502538,140.0,155.5482233502538,115.0,230.0,185.0,155.5482233502538,25.0,155.5482233502538,120.0,155.5482233502538,155.5482233502538,155.5482233502538,126.0,155.5482233502538,155.5482233502538,293.0,41.0,272.0,182.0,158.0,194.0,321.0,155.5482233502538,144.0,155.5482233502538,155.5482233502538,15.0,155.5482233502538,155.5482233502538,160.0,155.5482233502538,155.5482233502538,115.0,155.5482233502538,54.0,155.5482233502538,155.5482233502538,155.5482233502538,155.5482233502538,155.5482233502538,90.0,155.5482233502538,183.0,155.5482233502538,155.5482233502538,155.5482233502538,66.0,91.0,46.0,105.0,155.5482233502538,155.5482233502538,155.5482233502538,152.0,440.0,144.0,159.0,130.0,155.5482233502538,100.0,106.0,77.0,155.5482233502538,135.0,540.0,90.0,200.0,155.5482233502538,70.0,155.5482233502538,155.5482233502538,231.0,130.0,155.5482233502538,132.0,155.5482233502538,155.5482233502538,190.0,100.0,168.0,155.5482233502538,49.0,240.0,155.5482233502538,155.5482233502538,155.5482233502538,155.5482233502538,155.5482233502538,265.0,45.0,155.5482233502538,105.0,155.5482233502538,155.5482233502538,205.0,155.5482233502538,155.5482233502538,180.0,180.0,155.5482233502538,155.5482233502538,95.0,125.0,155.5482233502538,480.0,125.0,155.5482233502538,155.0,155.5482233502538,200.0,155.5482233502538,155.5482233502538,155.5482233502538,100.0,155.5482233502538,155.5482233502538,335.0,155.5482233502538,160.0,387.0,22.0,155.5482233502538,291.0,155.5482233502538,392.0,185.0,155.5482233502538,178.0,155.5482233502538,155.5482233502538,200.0,127.0,105.0,155.5482233502538,155.5482233502538,180.0,155.5482233502538,155.5482233502538,155.5482233502538,79.0,155.5482233502538,120.0,165.0,155.5482233502538,155.5482233502538,120.0,155.5482233502538,160.0,155.5482233502538,150.0,94.0,116.0,155.5482233502538,140.0,105.0,155.5482233502538,57.0,200.0,155.5482233502538,155.5482233502538,74.0,155.5482233502538,510.0,155.5482233502538,110.0,155.5482233502538,155.5482233502538,155.5482233502538,155.5482233502538,16.0,155.5482233502538,155.5482233502538,180.0,155.5482233502538,112.0,155.5482233502538,155.5482233502538],\"xaxis\":\"x\",\"y\":[50,31,32,21,33,30,26,29,53,54,30,34,57,59,51,32,31,31,33,32,27,50,41,29,51,41,43,22,57,38,60,28,22,28,45,33,35,46,27,56,26,37,48,54,40,25,29,22,31,24,22,26,30,58,42,21,41,31,44,22,21,39,36,24,42,32,38,54,25,27,28,26,42,23,22,22,41,27,26,24,22,22,36,22,37,27,45,26,43,24,21,34,42,60,21,40,24,22,23,31,33,22,21,24,27,21,27,37,25,24,24,46,23,25,39,61,38,25,22,21,25,24,23,69,23,26,30,23,40,62,33,33,30,39,26,31,21,22,29,28,55,38,22,42,23,21,41,34,65,22,24,37,42,23,43,36,21,23,22,47,36,45,27,21,32,41,22,34,29,29,36,29,25,23,33,36,42,26,47,37,32,23,21,27,40,41,60,33,31,25,21,40,36,40,42,29,21,23,26,29,21,28,32,27,55,27,57,52,21,41,25,24,60,24,36,38,25,32,32,41,21,66,37,61,26,22,26,24,31,24,22,46,22,29,23,26,51,23,32,27,21,22,22,33,29,49,41,23,34,23,42,27,24,25,44,21,30,25,24,51,34,27,24,63,35,43,25,24,21,28,38,21,40,21,52,25,29,23,57,22,28,39,37,47,52,51,34,29,26,33,21,25,31,24,65,28,29,24,46,58,30,25,35,28,37,29,47,21,25,30,41,22,27,25,43,26,30,29,28,59,31,25,36,43,21,24,30,37,23,37,46,25,41,44,22,26,44,44,33,41,22,36,22,33,57,49,22,23,26,37,29,30,46,24,21,49,28,44,48,29,29,63,65,67,30,30,29,21,22,45,25,21,21,25,28,58,22,22,32,35,24,22,21,25,25,24,35,45,58,28,42,27,21,37,31,25,39,22,25,25,31,55,35,38,41,26,46,25,39,28,28,25,22,21,21,22,22,37,27,28,26,21,21,21,36,31,25,38,26,43,23,38,22,29,36,29,41,28,21,31,41,22,24,33,30,25,28,26,22,26,23,23,25,72,24,38,62,24,51,81,48,26,39,37,34,21,22,25,38,27,28,22,22,50,24,59,29,31,39,63,35,29,28,23,31,24,21,58,28,67,24,42,33,45,22,66,30,25,55,39,21,28,41,41,40,38,35,21,21,64,46,21,58,22,24,28,53,51,41,60,25,26,26,45,24,21,21,24,22,31,22,24,29,31,24,23,46,67,23,32,43,27,56,25,29,37,53,28,50,37,21,25,66,23,28,37,30,58,42,35,54,28,24,32,27,22,21,46,37,33,39,21,22,22,23,25,35,21,36,62,21,27,62,42,52,22,41,29,52,25,45,24,44,25,34,22,46,21,38,26,24,28,30,54,36,21,22,25,27,23,24,36,40,26,50,27,30,23,50,24,28,28,45,21,21,29,21,21,45,21,34,24,23,22,31,38,48,23,32,28,27,24,50,31,27,30,33,22,42,23,23,27,28,27,22,25,22,41,51,27,54,22,43,40,40,24,70,40,43,45,49,21,47,22,68,31,53,25,25,23,22,26,22,27,69,25,22,29,23,46,34,44,23,43,25,43,31,22,28,26,26,49,52,41,27,28,30,22,45,23,24,40,38,21,32,34,31,56,24,52,34,21,42,42,45,38,25,22,22,22,34,22,24,22,53,28,21,42,21,42,48,26,22,45,39,46,27,32,36,50,22,28,25,26,45,37,39,52,26,66,22,43,33,63,27,30,47,23],\"yaxis\":\"y\",\"type\":\"scatter\"},{\"alignmentgroup\":\"True\",\"bingroup\":\"x\",\"hovertemplate\":\"Insulin=%{x}<br>count=%{y}<extra></extra>\",\"legendgroup\":\"\",\"marker\":{\"color\":\"#0d0887\"},\"name\":\"\",\"offsetgroup\":\"\",\"opacity\":0.5,\"showlegend\":false,\"x\":[155.5482233502538,155.5482233502538,155.5482233502538,94.0,168.0,155.5482233502538,88.0,155.5482233502538,543.0,155.5482233502538,155.5482233502538,155.5482233502538,155.5482233502538,846.0,175.0,155.5482233502538,230.0,155.5482233502538,83.0,96.0,235.0,155.5482233502538,155.5482233502538,155.5482233502538,146.0,115.0,155.5482233502538,140.0,110.0,155.5482233502538,155.5482233502538,245.0,54.0,155.5482233502538,155.5482233502538,192.0,155.5482233502538,155.5482233502538,155.5482233502538,207.0,70.0,155.5482233502538,155.5482233502538,240.0,155.5482233502538,155.5482233502538,155.5482233502538,155.5482233502538,155.5482233502538,155.5482233502538,82.0,36.0,23.0,300.0,342.0,155.5482233502538,304.0,110.0,155.5482233502538,142.0,155.5482233502538,155.5482233502538,155.5482233502538,128.0,155.5482233502538,155.5482233502538,155.5482233502538,155.5482233502538,38.0,100.0,90.0,140.0,155.5482233502538,270.0,155.5482233502538,155.5482233502538,155.5482233502538,155.5482233502538,155.5482233502538,155.5482233502538,155.5482233502538,155.5482233502538,71.0,155.5482233502538,155.5482233502538,125.0,155.5482233502538,71.0,110.0,155.5482233502538,155.5482233502538,176.0,48.0,155.5482233502538,64.0,228.0,155.5482233502538,76.0,64.0,220.0,155.5482233502538,155.5482233502538,155.5482233502538,40.0,155.5482233502538,152.0,155.5482233502538,140.0,18.0,36.0,135.0,495.0,37.0,155.5482233502538,175.0,155.5482233502538,155.5482233502538,155.5482233502538,155.5482233502538,51.0,100.0,155.5482233502538,100.0,155.5482233502538,155.5482233502538,99.0,135.0,94.0,145.0,155.5482233502538,168.0,155.5482233502538,225.0,155.5482233502538,49.0,140.0,50.0,92.0,155.5482233502538,325.0,155.5482233502538,155.5482233502538,63.0,155.5482233502538,284.0,155.5482233502538,155.5482233502538,119.0,155.5482233502538,155.5482233502538,204.0,155.5482233502538,155.0,485.0,155.5482233502538,155.5482233502538,94.0,135.0,53.0,114.0,155.5482233502538,105.0,285.0,155.5482233502538,155.5482233502538,156.0,155.5482233502538,155.5482233502538,155.5482233502538,78.0,155.5482233502538,130.0,155.5482233502538,48.0,55.0,130.0,155.5482233502538,130.0,155.5482233502538,155.5482233502538,155.5482233502538,92.0,23.0,155.5482233502538,155.5482233502538,155.5482233502538,495.0,58.0,114.0,160.0,155.5482233502538,94.0,155.5482233502538,155.5482233502538,155.5482233502538,210.0,155.5482233502538,48.0,99.0,318.0,155.5482233502538,155.5482233502538,155.5482233502538,44.0,190.0,155.5482233502538,280.0,155.5482233502538,87.0,155.5482233502538,155.5482233502538,155.5482233502538,155.5482233502538,130.0,175.0,271.0,129.0,120.0,155.5482233502538,155.5482233502538,478.0,155.5482233502538,155.5482233502538,190.0,56.0,32.0,155.5482233502538,155.5482233502538,744.0,53.0,155.5482233502538,370.0,37.0,155.5482233502538,45.0,155.5482233502538,192.0,155.5482233502538,155.5482233502538,155.5482233502538,155.5482233502538,88.0,155.5482233502538,176.0,194.0,155.5482233502538,155.5482233502538,680.0,402.0,155.5482233502538,155.5482233502538,155.5482233502538,55.0,155.5482233502538,258.0,155.5482233502538,155.5482233502538,155.5482233502538,375.0,150.0,130.0,155.5482233502538,155.5482233502538,155.5482233502538,155.5482233502538,67.0,155.5482233502538,155.5482233502538,155.5482233502538,155.5482233502538,155.5482233502538,56.0,155.5482233502538,45.0,155.5482233502538,57.0,155.5482233502538,116.0,155.5482233502538,278.0,155.5482233502538,122.0,155.0,155.5482233502538,155.5482233502538,135.0,545.0,220.0,49.0,75.0,40.0,74.0,182.0,194.0,155.5482233502538,120.0,360.0,215.0,184.0,155.5482233502538,155.5482233502538,135.0,42.0,155.5482233502538,155.5482233502538,105.0,132.0,148.0,180.0,205.0,155.5482233502538,148.0,96.0,85.0,155.5482233502538,94.0,64.0,155.5482233502538,140.0,155.5482233502538,231.0,155.5482233502538,155.5482233502538,29.0,155.5482233502538,168.0,156.0,155.5482233502538,120.0,68.0,155.5482233502538,52.0,155.5482233502538,155.5482233502538,58.0,255.0,155.5482233502538,155.5482233502538,171.0,155.5482233502538,105.0,73.0,155.5482233502538,155.5482233502538,155.5482233502538,108.0,83.0,155.5482233502538,74.0,155.5482233502538,155.5482233502538,155.5482233502538,155.5482233502538,43.0,155.5482233502538,155.5482233502538,167.0,155.5482233502538,54.0,249.0,325.0,155.5482233502538,155.5482233502538,155.5482233502538,293.0,83.0,155.5482233502538,155.5482233502538,66.0,140.0,465.0,89.0,66.0,94.0,158.0,325.0,84.0,75.0,155.5482233502538,72.0,82.0,155.5482233502538,182.0,59.0,110.0,50.0,155.5482233502538,155.5482233502538,285.0,81.0,196.0,155.5482233502538,415.0,87.0,155.5482233502538,275.0,115.0,155.5482233502538,155.5482233502538,155.5482233502538,155.5482233502538,155.5482233502538,88.0,155.5482233502538,155.5482233502538,165.0,155.5482233502538,155.5482233502538,155.5482233502538,579.0,155.5482233502538,176.0,310.0,61.0,167.0,474.0,155.5482233502538,155.5482233502538,155.5482233502538,115.0,170.0,76.0,78.0,155.5482233502538,210.0,277.0,155.5482233502538,180.0,145.0,180.0,155.5482233502538,85.0,60.0,155.5482233502538,155.5482233502538,155.5482233502538,155.5482233502538,155.5482233502538,155.5482233502538,155.5482233502538,155.5482233502538,50.0,120.0,155.5482233502538,155.5482233502538,14.0,70.0,92.0,64.0,63.0,95.0,155.5482233502538,210.0,155.5482233502538,105.0,155.5482233502538,155.5482233502538,71.0,237.0,60.0,56.0,155.5482233502538,49.0,155.5482233502538,155.5482233502538,105.0,36.0,100.0,155.5482233502538,140.0,155.5482233502538,155.5482233502538,155.5482233502538,155.5482233502538,155.5482233502538,155.5482233502538,191.0,110.0,75.0,155.5482233502538,328.0,155.5482233502538,49.0,125.0,155.5482233502538,250.0,480.0,265.0,155.5482233502538,155.5482233502538,66.0,155.5482233502538,155.5482233502538,122.0,155.5482233502538,155.5482233502538,155.5482233502538,76.0,145.0,193.0,71.0,155.5482233502538,155.5482233502538,79.0,155.5482233502538,155.5482233502538,90.0,170.0,76.0,155.5482233502538,155.5482233502538,210.0,155.5482233502538,155.5482233502538,86.0,105.0,165.0,155.5482233502538,155.5482233502538,326.0,66.0,130.0,155.5482233502538,155.5482233502538,155.5482233502538,155.5482233502538,82.0,105.0,188.0,155.5482233502538,106.0,155.5482233502538,65.0,155.5482233502538,56.0,155.5482233502538,155.5482233502538,155.5482233502538,210.0,155.0,215.0,190.0,155.5482233502538,56.0,76.0,225.0,207.0,166.0,67.0,155.5482233502538,155.5482233502538,106.0,155.5482233502538,44.0,115.0,215.0,155.5482233502538,155.5482233502538,155.5482233502538,155.5482233502538,155.5482233502538,274.0,77.0,54.0,155.5482233502538,88.0,18.0,126.0,126.0,165.0,155.5482233502538,155.5482233502538,44.0,120.0,330.0,63.0,130.0,155.5482233502538,155.5482233502538,155.5482233502538,155.5482233502538,155.5482233502538,155.5482233502538,155.5482233502538,600.0,155.5482233502538,155.5482233502538,155.5482233502538,156.0,155.5482233502538,155.5482233502538,140.0,155.5482233502538,115.0,230.0,185.0,155.5482233502538,25.0,155.5482233502538,120.0,155.5482233502538,155.5482233502538,155.5482233502538,126.0,155.5482233502538,155.5482233502538,293.0,41.0,272.0,182.0,158.0,194.0,321.0,155.5482233502538,144.0,155.5482233502538,155.5482233502538,15.0,155.5482233502538,155.5482233502538,160.0,155.5482233502538,155.5482233502538,115.0,155.5482233502538,54.0,155.5482233502538,155.5482233502538,155.5482233502538,155.5482233502538,155.5482233502538,90.0,155.5482233502538,183.0,155.5482233502538,155.5482233502538,155.5482233502538,66.0,91.0,46.0,105.0,155.5482233502538,155.5482233502538,155.5482233502538,152.0,440.0,144.0,159.0,130.0,155.5482233502538,100.0,106.0,77.0,155.5482233502538,135.0,540.0,90.0,200.0,155.5482233502538,70.0,155.5482233502538,155.5482233502538,231.0,130.0,155.5482233502538,132.0,155.5482233502538,155.5482233502538,190.0,100.0,168.0,155.5482233502538,49.0,240.0,155.5482233502538,155.5482233502538,155.5482233502538,155.5482233502538,155.5482233502538,265.0,45.0,155.5482233502538,105.0,155.5482233502538,155.5482233502538,205.0,155.5482233502538,155.5482233502538,180.0,180.0,155.5482233502538,155.5482233502538,95.0,125.0,155.5482233502538,480.0,125.0,155.5482233502538,155.0,155.5482233502538,200.0,155.5482233502538,155.5482233502538,155.5482233502538,100.0,155.5482233502538,155.5482233502538,335.0,155.5482233502538,160.0,387.0,22.0,155.5482233502538,291.0,155.5482233502538,392.0,185.0,155.5482233502538,178.0,155.5482233502538,155.5482233502538,200.0,127.0,105.0,155.5482233502538,155.5482233502538,180.0,155.5482233502538,155.5482233502538,155.5482233502538,79.0,155.5482233502538,120.0,165.0,155.5482233502538,155.5482233502538,120.0,155.5482233502538,160.0,155.5482233502538,150.0,94.0,116.0,155.5482233502538,140.0,105.0,155.5482233502538,57.0,200.0,155.5482233502538,155.5482233502538,74.0,155.5482233502538,510.0,155.5482233502538,110.0,155.5482233502538,155.5482233502538,155.5482233502538,155.5482233502538,16.0,155.5482233502538,155.5482233502538,180.0,155.5482233502538,112.0,155.5482233502538,155.5482233502538],\"xaxis\":\"x3\",\"yaxis\":\"y3\",\"type\":\"histogram\"},{\"alignmentgroup\":\"True\",\"bingroup\":\"y\",\"hovertemplate\":\"Age=%{y}<br>count=%{x}<extra></extra>\",\"legendgroup\":\"\",\"marker\":{\"color\":\"#0d0887\"},\"name\":\"\",\"offsetgroup\":\"\",\"opacity\":0.5,\"showlegend\":false,\"xaxis\":\"x2\",\"y\":[50,31,32,21,33,30,26,29,53,54,30,34,57,59,51,32,31,31,33,32,27,50,41,29,51,41,43,22,57,38,60,28,22,28,45,33,35,46,27,56,26,37,48,54,40,25,29,22,31,24,22,26,30,58,42,21,41,31,44,22,21,39,36,24,42,32,38,54,25,27,28,26,42,23,22,22,41,27,26,24,22,22,36,22,37,27,45,26,43,24,21,34,42,60,21,40,24,22,23,31,33,22,21,24,27,21,27,37,25,24,24,46,23,25,39,61,38,25,22,21,25,24,23,69,23,26,30,23,40,62,33,33,30,39,26,31,21,22,29,28,55,38,22,42,23,21,41,34,65,22,24,37,42,23,43,36,21,23,22,47,36,45,27,21,32,41,22,34,29,29,36,29,25,23,33,36,42,26,47,37,32,23,21,27,40,41,60,33,31,25,21,40,36,40,42,29,21,23,26,29,21,28,32,27,55,27,57,52,21,41,25,24,60,24,36,38,25,32,32,41,21,66,37,61,26,22,26,24,31,24,22,46,22,29,23,26,51,23,32,27,21,22,22,33,29,49,41,23,34,23,42,27,24,25,44,21,30,25,24,51,34,27,24,63,35,43,25,24,21,28,38,21,40,21,52,25,29,23,57,22,28,39,37,47,52,51,34,29,26,33,21,25,31,24,65,28,29,24,46,58,30,25,35,28,37,29,47,21,25,30,41,22,27,25,43,26,30,29,28,59,31,25,36,43,21,24,30,37,23,37,46,25,41,44,22,26,44,44,33,41,22,36,22,33,57,49,22,23,26,37,29,30,46,24,21,49,28,44,48,29,29,63,65,67,30,30,29,21,22,45,25,21,21,25,28,58,22,22,32,35,24,22,21,25,25,24,35,45,58,28,42,27,21,37,31,25,39,22,25,25,31,55,35,38,41,26,46,25,39,28,28,25,22,21,21,22,22,37,27,28,26,21,21,21,36,31,25,38,26,43,23,38,22,29,36,29,41,28,21,31,41,22,24,33,30,25,28,26,22,26,23,23,25,72,24,38,62,24,51,81,48,26,39,37,34,21,22,25,38,27,28,22,22,50,24,59,29,31,39,63,35,29,28,23,31,24,21,58,28,67,24,42,33,45,22,66,30,25,55,39,21,28,41,41,40,38,35,21,21,64,46,21,58,22,24,28,53,51,41,60,25,26,26,45,24,21,21,24,22,31,22,24,29,31,24,23,46,67,23,32,43,27,56,25,29,37,53,28,50,37,21,25,66,23,28,37,30,58,42,35,54,28,24,32,27,22,21,46,37,33,39,21,22,22,23,25,35,21,36,62,21,27,62,42,52,22,41,29,52,25,45,24,44,25,34,22,46,21,38,26,24,28,30,54,36,21,22,25,27,23,24,36,40,26,50,27,30,23,50,24,28,28,45,21,21,29,21,21,45,21,34,24,23,22,31,38,48,23,32,28,27,24,50,31,27,30,33,22,42,23,23,27,28,27,22,25,22,41,51,27,54,22,43,40,40,24,70,40,43,45,49,21,47,22,68,31,53,25,25,23,22,26,22,27,69,25,22,29,23,46,34,44,23,43,25,43,31,22,28,26,26,49,52,41,27,28,30,22,45,23,24,40,38,21,32,34,31,56,24,52,34,21,42,42,45,38,25,22,22,22,34,22,24,22,53,28,21,42,21,42,48,26,22,45,39,46,27,32,36,50,22,28,25,26,45,37,39,52,26,66,22,43,33,63,27,30,47,23],\"yaxis\":\"y2\",\"type\":\"histogram\"}],                        {\"template\":{\"data\":{\"histogram2dcontour\":[{\"type\":\"histogram2dcontour\",\"colorbar\":{\"outlinewidth\":0,\"ticks\":\"\"},\"colorscale\":[[0.0,\"#0d0887\"],[0.1111111111111111,\"#46039f\"],[0.2222222222222222,\"#7201a8\"],[0.3333333333333333,\"#9c179e\"],[0.4444444444444444,\"#bd3786\"],[0.5555555555555556,\"#d8576b\"],[0.6666666666666666,\"#ed7953\"],[0.7777777777777778,\"#fb9f3a\"],[0.8888888888888888,\"#fdca26\"],[1.0,\"#f0f921\"]]}],\"choropleth\":[{\"type\":\"choropleth\",\"colorbar\":{\"outlinewidth\":0,\"ticks\":\"\"}}],\"histogram2d\":[{\"type\":\"histogram2d\",\"colorbar\":{\"outlinewidth\":0,\"ticks\":\"\"},\"colorscale\":[[0.0,\"#0d0887\"],[0.1111111111111111,\"#46039f\"],[0.2222222222222222,\"#7201a8\"],[0.3333333333333333,\"#9c179e\"],[0.4444444444444444,\"#bd3786\"],[0.5555555555555556,\"#d8576b\"],[0.6666666666666666,\"#ed7953\"],[0.7777777777777778,\"#fb9f3a\"],[0.8888888888888888,\"#fdca26\"],[1.0,\"#f0f921\"]]}],\"heatmap\":[{\"type\":\"heatmap\",\"colorbar\":{\"outlinewidth\":0,\"ticks\":\"\"},\"colorscale\":[[0.0,\"#0d0887\"],[0.1111111111111111,\"#46039f\"],[0.2222222222222222,\"#7201a8\"],[0.3333333333333333,\"#9c179e\"],[0.4444444444444444,\"#bd3786\"],[0.5555555555555556,\"#d8576b\"],[0.6666666666666666,\"#ed7953\"],[0.7777777777777778,\"#fb9f3a\"],[0.8888888888888888,\"#fdca26\"],[1.0,\"#f0f921\"]]}],\"heatmapgl\":[{\"type\":\"heatmapgl\",\"colorbar\":{\"outlinewidth\":0,\"ticks\":\"\"},\"colorscale\":[[0.0,\"#0d0887\"],[0.1111111111111111,\"#46039f\"],[0.2222222222222222,\"#7201a8\"],[0.3333333333333333,\"#9c179e\"],[0.4444444444444444,\"#bd3786\"],[0.5555555555555556,\"#d8576b\"],[0.6666666666666666,\"#ed7953\"],[0.7777777777777778,\"#fb9f3a\"],[0.8888888888888888,\"#fdca26\"],[1.0,\"#f0f921\"]]}],\"contourcarpet\":[{\"type\":\"contourcarpet\",\"colorbar\":{\"outlinewidth\":0,\"ticks\":\"\"}}],\"contour\":[{\"type\":\"contour\",\"colorbar\":{\"outlinewidth\":0,\"ticks\":\"\"},\"colorscale\":[[0.0,\"#0d0887\"],[0.1111111111111111,\"#46039f\"],[0.2222222222222222,\"#7201a8\"],[0.3333333333333333,\"#9c179e\"],[0.4444444444444444,\"#bd3786\"],[0.5555555555555556,\"#d8576b\"],[0.6666666666666666,\"#ed7953\"],[0.7777777777777778,\"#fb9f3a\"],[0.8888888888888888,\"#fdca26\"],[1.0,\"#f0f921\"]]}],\"surface\":[{\"type\":\"surface\",\"colorbar\":{\"outlinewidth\":0,\"ticks\":\"\"},\"colorscale\":[[0.0,\"#0d0887\"],[0.1111111111111111,\"#46039f\"],[0.2222222222222222,\"#7201a8\"],[0.3333333333333333,\"#9c179e\"],[0.4444444444444444,\"#bd3786\"],[0.5555555555555556,\"#d8576b\"],[0.6666666666666666,\"#ed7953\"],[0.7777777777777778,\"#fb9f3a\"],[0.8888888888888888,\"#fdca26\"],[1.0,\"#f0f921\"]]}],\"mesh3d\":[{\"type\":\"mesh3d\",\"colorbar\":{\"outlinewidth\":0,\"ticks\":\"\"}}],\"scatter\":[{\"fillpattern\":{\"fillmode\":\"overlay\",\"size\":10,\"solidity\":0.2},\"type\":\"scatter\"}],\"parcoords\":[{\"type\":\"parcoords\",\"line\":{\"colorbar\":{\"outlinewidth\":0,\"ticks\":\"\"}}}],\"scatterpolargl\":[{\"type\":\"scatterpolargl\",\"marker\":{\"colorbar\":{\"outlinewidth\":0,\"ticks\":\"\"}}}],\"bar\":[{\"error_x\":{\"color\":\"#2a3f5f\"},\"error_y\":{\"color\":\"#2a3f5f\"},\"marker\":{\"line\":{\"color\":\"#E5ECF6\",\"width\":0.5},\"pattern\":{\"fillmode\":\"overlay\",\"size\":10,\"solidity\":0.2}},\"type\":\"bar\"}],\"scattergeo\":[{\"type\":\"scattergeo\",\"marker\":{\"colorbar\":{\"outlinewidth\":0,\"ticks\":\"\"}}}],\"scatterpolar\":[{\"type\":\"scatterpolar\",\"marker\":{\"colorbar\":{\"outlinewidth\":0,\"ticks\":\"\"}}}],\"histogram\":[{\"marker\":{\"pattern\":{\"fillmode\":\"overlay\",\"size\":10,\"solidity\":0.2}},\"type\":\"histogram\"}],\"scattergl\":[{\"type\":\"scattergl\",\"marker\":{\"colorbar\":{\"outlinewidth\":0,\"ticks\":\"\"}}}],\"scatter3d\":[{\"type\":\"scatter3d\",\"line\":{\"colorbar\":{\"outlinewidth\":0,\"ticks\":\"\"}},\"marker\":{\"colorbar\":{\"outlinewidth\":0,\"ticks\":\"\"}}}],\"scattermapbox\":[{\"type\":\"scattermapbox\",\"marker\":{\"colorbar\":{\"outlinewidth\":0,\"ticks\":\"\"}}}],\"scatterternary\":[{\"type\":\"scatterternary\",\"marker\":{\"colorbar\":{\"outlinewidth\":0,\"ticks\":\"\"}}}],\"scattercarpet\":[{\"type\":\"scattercarpet\",\"marker\":{\"colorbar\":{\"outlinewidth\":0,\"ticks\":\"\"}}}],\"carpet\":[{\"aaxis\":{\"endlinecolor\":\"#2a3f5f\",\"gridcolor\":\"white\",\"linecolor\":\"white\",\"minorgridcolor\":\"white\",\"startlinecolor\":\"#2a3f5f\"},\"baxis\":{\"endlinecolor\":\"#2a3f5f\",\"gridcolor\":\"white\",\"linecolor\":\"white\",\"minorgridcolor\":\"white\",\"startlinecolor\":\"#2a3f5f\"},\"type\":\"carpet\"}],\"table\":[{\"cells\":{\"fill\":{\"color\":\"#EBF0F8\"},\"line\":{\"color\":\"white\"}},\"header\":{\"fill\":{\"color\":\"#C8D4E3\"},\"line\":{\"color\":\"white\"}},\"type\":\"table\"}],\"barpolar\":[{\"marker\":{\"line\":{\"color\":\"#E5ECF6\",\"width\":0.5},\"pattern\":{\"fillmode\":\"overlay\",\"size\":10,\"solidity\":0.2}},\"type\":\"barpolar\"}],\"pie\":[{\"automargin\":true,\"type\":\"pie\"}]},\"layout\":{\"autotypenumbers\":\"strict\",\"colorway\":[\"#636efa\",\"#EF553B\",\"#00cc96\",\"#ab63fa\",\"#FFA15A\",\"#19d3f3\",\"#FF6692\",\"#B6E880\",\"#FF97FF\",\"#FECB52\"],\"font\":{\"color\":\"#2a3f5f\"},\"hovermode\":\"closest\",\"hoverlabel\":{\"align\":\"left\"},\"paper_bgcolor\":\"white\",\"plot_bgcolor\":\"#E5ECF6\",\"polar\":{\"bgcolor\":\"#E5ECF6\",\"angularaxis\":{\"gridcolor\":\"white\",\"linecolor\":\"white\",\"ticks\":\"\"},\"radialaxis\":{\"gridcolor\":\"white\",\"linecolor\":\"white\",\"ticks\":\"\"}},\"ternary\":{\"bgcolor\":\"#E5ECF6\",\"aaxis\":{\"gridcolor\":\"white\",\"linecolor\":\"white\",\"ticks\":\"\"},\"baxis\":{\"gridcolor\":\"white\",\"linecolor\":\"white\",\"ticks\":\"\"},\"caxis\":{\"gridcolor\":\"white\",\"linecolor\":\"white\",\"ticks\":\"\"}},\"coloraxis\":{\"colorbar\":{\"outlinewidth\":0,\"ticks\":\"\"}},\"colorscale\":{\"sequential\":[[0.0,\"#0d0887\"],[0.1111111111111111,\"#46039f\"],[0.2222222222222222,\"#7201a8\"],[0.3333333333333333,\"#9c179e\"],[0.4444444444444444,\"#bd3786\"],[0.5555555555555556,\"#d8576b\"],[0.6666666666666666,\"#ed7953\"],[0.7777777777777778,\"#fb9f3a\"],[0.8888888888888888,\"#fdca26\"],[1.0,\"#f0f921\"]],\"sequentialminus\":[[0.0,\"#0d0887\"],[0.1111111111111111,\"#46039f\"],[0.2222222222222222,\"#7201a8\"],[0.3333333333333333,\"#9c179e\"],[0.4444444444444444,\"#bd3786\"],[0.5555555555555556,\"#d8576b\"],[0.6666666666666666,\"#ed7953\"],[0.7777777777777778,\"#fb9f3a\"],[0.8888888888888888,\"#fdca26\"],[1.0,\"#f0f921\"]],\"diverging\":[[0,\"#8e0152\"],[0.1,\"#c51b7d\"],[0.2,\"#de77ae\"],[0.3,\"#f1b6da\"],[0.4,\"#fde0ef\"],[0.5,\"#f7f7f7\"],[0.6,\"#e6f5d0\"],[0.7,\"#b8e186\"],[0.8,\"#7fbc41\"],[0.9,\"#4d9221\"],[1,\"#276419\"]]},\"xaxis\":{\"gridcolor\":\"white\",\"linecolor\":\"white\",\"ticks\":\"\",\"title\":{\"standoff\":15},\"zerolinecolor\":\"white\",\"automargin\":true,\"zerolinewidth\":2},\"yaxis\":{\"gridcolor\":\"white\",\"linecolor\":\"white\",\"ticks\":\"\",\"title\":{\"standoff\":15},\"zerolinecolor\":\"white\",\"automargin\":true,\"zerolinewidth\":2},\"scene\":{\"xaxis\":{\"backgroundcolor\":\"#E5ECF6\",\"gridcolor\":\"white\",\"linecolor\":\"white\",\"showbackground\":true,\"ticks\":\"\",\"zerolinecolor\":\"white\",\"gridwidth\":2},\"yaxis\":{\"backgroundcolor\":\"#E5ECF6\",\"gridcolor\":\"white\",\"linecolor\":\"white\",\"showbackground\":true,\"ticks\":\"\",\"zerolinecolor\":\"white\",\"gridwidth\":2},\"zaxis\":{\"backgroundcolor\":\"#E5ECF6\",\"gridcolor\":\"white\",\"linecolor\":\"white\",\"showbackground\":true,\"ticks\":\"\",\"zerolinecolor\":\"white\",\"gridwidth\":2}},\"shapedefaults\":{\"line\":{\"color\":\"#2a3f5f\"}},\"annotationdefaults\":{\"arrowcolor\":\"#2a3f5f\",\"arrowhead\":0,\"arrowwidth\":1},\"geo\":{\"bgcolor\":\"white\",\"landcolor\":\"#E5ECF6\",\"subunitcolor\":\"white\",\"showland\":true,\"showlakes\":true,\"lakecolor\":\"white\"},\"title\":{\"x\":0.05},\"mapbox\":{\"style\":\"light\"}}},\"xaxis\":{\"anchor\":\"y\",\"domain\":[0.0,0.7363],\"title\":{\"text\":\"Insulin\"}},\"yaxis\":{\"anchor\":\"x\",\"domain\":[0.0,0.7326],\"title\":{\"text\":\"Age\"}},\"xaxis2\":{\"anchor\":\"y2\",\"domain\":[0.7413,1.0],\"matches\":\"x2\",\"showticklabels\":false,\"showline\":false,\"ticks\":\"\",\"showgrid\":true},\"yaxis2\":{\"anchor\":\"x2\",\"domain\":[0.0,0.7326],\"matches\":\"y\",\"showticklabels\":false,\"showgrid\":true},\"xaxis3\":{\"anchor\":\"y3\",\"domain\":[0.0,0.7363],\"matches\":\"x\",\"showticklabels\":false,\"showgrid\":true},\"yaxis3\":{\"anchor\":\"x3\",\"domain\":[0.7426,1.0],\"matches\":\"y3\",\"showticklabels\":false,\"showline\":false,\"ticks\":\"\",\"showgrid\":true},\"xaxis4\":{\"anchor\":\"y4\",\"domain\":[0.7413,1.0],\"matches\":\"x2\",\"showticklabels\":false,\"showgrid\":true,\"showline\":false,\"ticks\":\"\"},\"yaxis4\":{\"anchor\":\"x4\",\"domain\":[0.7426,1.0],\"matches\":\"y3\",\"showticklabels\":false,\"showline\":false,\"ticks\":\"\",\"showgrid\":true},\"coloraxis\":{\"colorbar\":{\"title\":{\"text\":\"Outcome\"}},\"colorscale\":[[0.0,\"#0d0887\"],[0.1111111111111111,\"#46039f\"],[0.2222222222222222,\"#7201a8\"],[0.3333333333333333,\"#9c179e\"],[0.4444444444444444,\"#bd3786\"],[0.5555555555555556,\"#d8576b\"],[0.6666666666666666,\"#ed7953\"],[0.7777777777777778,\"#fb9f3a\"],[0.8888888888888888,\"#fdca26\"],[1.0,\"#f0f921\"]]},\"legend\":{\"tracegroupgap\":0,\"itemsizing\":\"constant\"},\"title\":{\"text\":\"Age and Glucose correlation\"},\"barmode\":\"overlay\"},                        {\"responsive\": true}                    ).then(function(){\n",
              "                            \n",
              "var gd = document.getElementById('e96ec375-1cdc-4dcf-99c7-85a0ba4e5f5e');\n",
              "var x = new MutationObserver(function (mutations, observer) {{\n",
              "        var display = window.getComputedStyle(gd).display;\n",
              "        if (!display || display === 'none') {{\n",
              "            console.log([gd, 'removed!']);\n",
              "            Plotly.purge(gd);\n",
              "            observer.disconnect();\n",
              "        }}\n",
              "}});\n",
              "\n",
              "// Listen for the removal of the full notebook cells\n",
              "var notebookContainer = gd.closest('#notebook-container');\n",
              "if (notebookContainer) {{\n",
              "    x.observe(notebookContainer, {childList: true});\n",
              "}}\n",
              "\n",
              "// Listen for the clearing of the current output cell\n",
              "var outputEl = gd.closest('.output');\n",
              "if (outputEl) {{\n",
              "    x.observe(outputEl, {childList: true});\n",
              "}}\n",
              "\n",
              "                        })                };                            </script>        </div>\n",
              "</body>\n",
              "</html>"
            ]
          },
          "metadata": {}
        }
      ]
    },
    {
      "cell_type": "markdown",
      "source": [
        "### Insulin  + Glucose + Age"
      ],
      "metadata": {
        "id": "N-To58iUdAwM"
      }
    },
    {
      "cell_type": "markdown",
      "source": [
        "3D scatterplot showing correlation between insulin and glucose across ages and it impacts the target variable"
      ],
      "metadata": {
        "id": "4Pi_EEUDdHv8"
      }
    },
    {
      "cell_type": "code",
      "source": [
        "ax = px.scatter_3d(df_diabetes, x=\"Age\", y=\"Glucose\", z=\"Insulin\",template= \"plotly_dark\",color=\"Outcome\")\n",
        "ax.show()"
      ],
      "metadata": {
        "colab": {
          "base_uri": "https://localhost:8080/",
          "height": 542
        },
        "id": "8fsQ566WdFe-",
        "outputId": "6e7448d3-4cdd-4a0e-b3ba-b363288144f7"
      },
      "execution_count": 450,
      "outputs": [
        {
          "output_type": "display_data",
          "data": {
            "text/html": [
              "<html>\n",
              "<head><meta charset=\"utf-8\" /></head>\n",
              "<body>\n",
              "    <div>            <script src=\"https://cdnjs.cloudflare.com/ajax/libs/mathjax/2.7.5/MathJax.js?config=TeX-AMS-MML_SVG\"></script><script type=\"text/javascript\">if (window.MathJax && window.MathJax.Hub && window.MathJax.Hub.Config) {window.MathJax.Hub.Config({SVG: {font: \"STIX-Web\"}});}</script>                <script type=\"text/javascript\">window.PlotlyConfig = {MathJaxConfig: 'local'};</script>\n",
              "        <script src=\"https://cdn.plot.ly/plotly-2.18.0.min.js\"></script>                <div id=\"e7081bd2-1458-4883-b352-2b96712f5798\" class=\"plotly-graph-div\" style=\"height:525px; width:100%;\"></div>            <script type=\"text/javascript\">                                    window.PLOTLYENV=window.PLOTLYENV || {};                                    if (document.getElementById(\"e7081bd2-1458-4883-b352-2b96712f5798\")) {                    Plotly.newPlot(                        \"e7081bd2-1458-4883-b352-2b96712f5798\",                        [{\"hovertemplate\":\"Age=%{x}<br>Glucose=%{y}<br>Insulin=%{z}<br>Outcome=%{marker.color}<extra></extra>\",\"legendgroup\":\"\",\"marker\":{\"color\":[1,0,1,0,1,0,1,0,1,1,0,1,0,1,1,1,1,1,0,1,0,0,1,1,1,1,1,0,0,0,0,1,0,0,0,0,0,1,1,1,0,0,0,1,0,1,0,0,1,0,0,0,0,1,0,0,1,0,0,0,0,1,0,0,1,0,1,0,0,0,1,0,1,0,0,0,0,0,1,0,0,0,0,0,1,0,0,0,1,0,0,0,0,1,0,0,0,0,0,1,1,0,0,0,0,0,0,0,0,1,1,1,0,0,1,1,1,0,0,0,1,0,0,0,1,1,0,0,1,1,1,1,1,0,0,0,0,0,0,0,0,0,0,1,0,0,0,0,0,0,0,0,1,0,1,1,0,0,0,1,0,0,0,0,1,1,0,0,0,0,1,1,0,0,0,1,0,1,0,1,0,0,0,0,0,1,1,1,1,1,0,0,1,1,0,1,0,1,1,1,0,0,0,0,0,0,1,1,0,1,0,0,0,1,1,1,1,0,1,1,1,1,0,0,0,0,0,1,0,0,1,1,0,0,0,1,1,1,1,0,0,0,1,1,0,1,0,0,0,0,0,0,0,0,1,1,0,0,0,1,0,1,0,0,1,0,1,0,0,1,1,0,0,0,0,0,1,0,0,0,1,0,0,1,1,0,0,1,0,0,0,1,1,1,0,0,1,0,1,0,1,1,0,1,0,0,1,0,1,1,0,0,1,0,1,0,0,1,0,1,0,1,1,1,0,0,1,0,1,0,0,0,1,0,0,0,0,1,1,1,0,0,0,0,0,0,0,0,0,1,0,0,0,0,0,1,1,1,0,1,1,0,0,1,0,0,1,0,0,1,1,0,0,0,0,1,0,0,1,0,0,0,0,0,0,0,1,1,1,0,0,1,0,0,1,0,0,1,0,1,1,0,1,0,1,0,1,0,1,1,0,0,0,0,1,1,0,1,0,1,0,0,0,0,1,1,0,1,0,1,0,0,0,0,0,1,0,0,0,0,1,0,0,1,1,1,0,0,1,0,0,1,0,0,0,1,0,0,1,0,0,0,0,0,0,0,0,0,1,0,0,0,0,0,0,0,1,0,0,0,1,0,0,0,1,1,0,0,0,0,0,0,0,1,0,0,0,0,1,0,0,0,1,0,0,0,1,0,0,0,1,0,0,0,0,1,1,0,0,0,0,0,0,1,0,0,0,0,0,0,0,0,0,0,0,1,0,0,0,1,1,1,1,0,0,1,1,0,0,0,0,0,0,0,0,0,0,0,0,0,1,1,0,0,0,0,0,0,0,1,0,0,0,0,0,0,0,1,0,1,1,0,0,0,1,0,1,0,1,0,1,0,1,0,0,1,0,0,1,0,0,0,0,1,1,0,1,0,0,0,0,1,1,0,1,0,0,0,1,1,0,0,0,0,0,0,0,0,0,0,1,0,0,0,0,1,0,0,1,0,0,0,1,0,0,0,1,1,1,0,0,0,0,0,0,1,0,0,0,1,0,1,1,1,1,0,1,1,0,0,0,0,0,0,0,1,1,0,1,0,0,1,0,1,0,0,0,0,0,1,0,1,0,1,0,1,1,0,0,0,0,1,1,0,0,0,1,0,1,1,0,0,1,0,0,1,1,0,0,1,0,0,1,0,0,0,0,0,0,0,1,1,1,0,0,0,0,0,0,1,1,0,0,1,0,0,1,0,1,1,1,0,0,1,1,1,0,1,0,1,0,1,0,0,0,0,1,0],\"coloraxis\":\"coloraxis\",\"symbol\":\"circle\"},\"mode\":\"markers\",\"name\":\"\",\"scene\":\"scene\",\"showlegend\":false,\"x\":[50,31,32,21,33,30,26,29,53,54,30,34,57,59,51,32,31,31,33,32,27,50,41,29,51,41,43,22,57,38,60,28,22,28,45,33,35,46,27,56,26,37,48,54,40,25,29,22,31,24,22,26,30,58,42,21,41,31,44,22,21,39,36,24,42,32,38,54,25,27,28,26,42,23,22,22,41,27,26,24,22,22,36,22,37,27,45,26,43,24,21,34,42,60,21,40,24,22,23,31,33,22,21,24,27,21,27,37,25,24,24,46,23,25,39,61,38,25,22,21,25,24,23,69,23,26,30,23,40,62,33,33,30,39,26,31,21,22,29,28,55,38,22,42,23,21,41,34,65,22,24,37,42,23,43,36,21,23,22,47,36,45,27,21,32,41,22,34,29,29,36,29,25,23,33,36,42,26,47,37,32,23,21,27,40,41,60,33,31,25,21,40,36,40,42,29,21,23,26,29,21,28,32,27,55,27,57,52,21,41,25,24,60,24,36,38,25,32,32,41,21,66,37,61,26,22,26,24,31,24,22,46,22,29,23,26,51,23,32,27,21,22,22,33,29,49,41,23,34,23,42,27,24,25,44,21,30,25,24,51,34,27,24,63,35,43,25,24,21,28,38,21,40,21,52,25,29,23,57,22,28,39,37,47,52,51,34,29,26,33,21,25,31,24,65,28,29,24,46,58,30,25,35,28,37,29,47,21,25,30,41,22,27,25,43,26,30,29,28,59,31,25,36,43,21,24,30,37,23,37,46,25,41,44,22,26,44,44,33,41,22,36,22,33,57,49,22,23,26,37,29,30,46,24,21,49,28,44,48,29,29,63,65,67,30,30,29,21,22,45,25,21,21,25,28,58,22,22,32,35,24,22,21,25,25,24,35,45,58,28,42,27,21,37,31,25,39,22,25,25,31,55,35,38,41,26,46,25,39,28,28,25,22,21,21,22,22,37,27,28,26,21,21,21,36,31,25,38,26,43,23,38,22,29,36,29,41,28,21,31,41,22,24,33,30,25,28,26,22,26,23,23,25,72,24,38,62,24,51,81,48,26,39,37,34,21,22,25,38,27,28,22,22,50,24,59,29,31,39,63,35,29,28,23,31,24,21,58,28,67,24,42,33,45,22,66,30,25,55,39,21,28,41,41,40,38,35,21,21,64,46,21,58,22,24,28,53,51,41,60,25,26,26,45,24,21,21,24,22,31,22,24,29,31,24,23,46,67,23,32,43,27,56,25,29,37,53,28,50,37,21,25,66,23,28,37,30,58,42,35,54,28,24,32,27,22,21,46,37,33,39,21,22,22,23,25,35,21,36,62,21,27,62,42,52,22,41,29,52,25,45,24,44,25,34,22,46,21,38,26,24,28,30,54,36,21,22,25,27,23,24,36,40,26,50,27,30,23,50,24,28,28,45,21,21,29,21,21,45,21,34,24,23,22,31,38,48,23,32,28,27,24,50,31,27,30,33,22,42,23,23,27,28,27,22,25,22,41,51,27,54,22,43,40,40,24,70,40,43,45,49,21,47,22,68,31,53,25,25,23,22,26,22,27,69,25,22,29,23,46,34,44,23,43,25,43,31,22,28,26,26,49,52,41,27,28,30,22,45,23,24,40,38,21,32,34,31,56,24,52,34,21,42,42,45,38,25,22,22,22,34,22,24,22,53,28,21,42,21,42,48,26,22,45,39,46,27,32,36,50,22,28,25,26,45,37,39,52,26,66,22,43,33,63,27,30,47,23],\"y\":[148.0,85.0,183.0,89.0,137.0,116.0,78.0,115.0,197.0,125.0,110.0,168.0,139.0,189.0,166.0,100.0,118.0,107.0,103.0,115.0,126.0,99.0,196.0,119.0,143.0,125.0,147.0,97.0,145.0,117.0,109.0,158.0,88.0,92.0,122.0,103.0,138.0,102.0,90.0,111.0,180.0,133.0,106.0,171.0,159.0,180.0,146.0,71.0,103.0,105.0,103.0,101.0,88.0,176.0,150.0,73.0,187.0,100.0,146.0,105.0,84.0,133.0,44.0,141.0,114.0,99.0,109.0,109.0,95.0,146.0,100.0,139.0,126.0,129.0,79.0,121.6867627785059,62.0,95.0,131.0,112.0,113.0,74.0,83.0,101.0,137.0,110.0,106.0,100.0,136.0,107.0,80.0,123.0,81.0,134.0,142.0,144.0,92.0,71.0,93.0,122.0,163.0,151.0,125.0,81.0,85.0,126.0,96.0,144.0,83.0,95.0,171.0,155.0,89.0,76.0,160.0,146.0,124.0,78.0,97.0,99.0,162.0,111.0,107.0,132.0,113.0,88.0,120.0,118.0,117.0,105.0,173.0,122.0,170.0,84.0,96.0,125.0,100.0,93.0,129.0,105.0,128.0,106.0,108.0,108.0,154.0,102.0,57.0,106.0,147.0,90.0,136.0,114.0,156.0,153.0,188.0,152.0,99.0,109.0,88.0,163.0,151.0,102.0,114.0,100.0,131.0,104.0,148.0,120.0,110.0,111.0,102.0,134.0,87.0,79.0,75.0,179.0,85.0,129.0,143.0,130.0,87.0,119.0,121.6867627785059,73.0,141.0,194.0,181.0,128.0,109.0,139.0,111.0,123.0,159.0,135.0,85.0,158.0,105.0,107.0,109.0,148.0,113.0,138.0,108.0,99.0,103.0,111.0,196.0,162.0,96.0,184.0,81.0,147.0,179.0,140.0,112.0,151.0,109.0,125.0,85.0,112.0,177.0,158.0,119.0,142.0,100.0,87.0,101.0,162.0,197.0,117.0,142.0,134.0,79.0,122.0,74.0,171.0,181.0,179.0,164.0,104.0,91.0,91.0,139.0,119.0,146.0,184.0,122.0,165.0,124.0,111.0,106.0,129.0,90.0,86.0,92.0,113.0,111.0,114.0,193.0,155.0,191.0,141.0,95.0,142.0,123.0,96.0,138.0,128.0,102.0,146.0,101.0,108.0,122.0,71.0,106.0,100.0,106.0,104.0,114.0,108.0,146.0,129.0,133.0,161.0,108.0,136.0,155.0,119.0,96.0,108.0,78.0,107.0,128.0,128.0,161.0,151.0,146.0,126.0,100.0,112.0,167.0,144.0,77.0,115.0,150.0,120.0,161.0,137.0,128.0,124.0,80.0,106.0,155.0,113.0,109.0,112.0,99.0,182.0,115.0,194.0,129.0,112.0,124.0,152.0,112.0,157.0,122.0,179.0,102.0,105.0,118.0,87.0,180.0,106.0,95.0,165.0,117.0,115.0,152.0,178.0,130.0,95.0,121.6867627785059,122.0,95.0,126.0,139.0,116.0,99.0,121.6867627785059,92.0,137.0,61.0,90.0,90.0,165.0,125.0,129.0,88.0,196.0,189.0,158.0,103.0,146.0,147.0,99.0,124.0,101.0,81.0,133.0,173.0,118.0,84.0,105.0,122.0,140.0,98.0,87.0,156.0,93.0,107.0,105.0,109.0,90.0,125.0,119.0,116.0,105.0,144.0,100.0,100.0,166.0,131.0,116.0,158.0,127.0,96.0,131.0,82.0,193.0,95.0,137.0,136.0,72.0,168.0,123.0,115.0,101.0,197.0,172.0,102.0,112.0,143.0,143.0,138.0,173.0,97.0,144.0,83.0,129.0,119.0,94.0,102.0,115.0,151.0,184.0,94.0,181.0,135.0,95.0,99.0,89.0,80.0,139.0,90.0,141.0,140.0,147.0,97.0,107.0,189.0,83.0,117.0,108.0,117.0,180.0,100.0,95.0,104.0,120.0,82.0,134.0,91.0,119.0,100.0,175.0,135.0,86.0,148.0,134.0,120.0,71.0,74.0,88.0,115.0,124.0,74.0,97.0,120.0,154.0,144.0,137.0,119.0,136.0,114.0,137.0,105.0,114.0,126.0,132.0,158.0,123.0,85.0,84.0,145.0,135.0,139.0,173.0,99.0,194.0,83.0,89.0,99.0,125.0,80.0,166.0,110.0,81.0,195.0,154.0,117.0,84.0,121.6867627785059,94.0,96.0,75.0,180.0,130.0,84.0,120.0,84.0,139.0,91.0,91.0,99.0,163.0,145.0,125.0,76.0,129.0,68.0,124.0,114.0,130.0,125.0,87.0,97.0,116.0,117.0,111.0,122.0,107.0,86.0,91.0,77.0,132.0,105.0,57.0,127.0,129.0,100.0,128.0,90.0,84.0,88.0,186.0,187.0,131.0,164.0,189.0,116.0,84.0,114.0,88.0,84.0,124.0,97.0,110.0,103.0,85.0,125.0,198.0,87.0,99.0,91.0,95.0,99.0,92.0,154.0,121.0,78.0,130.0,111.0,98.0,143.0,119.0,108.0,118.0,133.0,197.0,151.0,109.0,121.0,100.0,124.0,93.0,143.0,103.0,176.0,73.0,111.0,112.0,132.0,82.0,123.0,188.0,67.0,89.0,173.0,109.0,108.0,96.0,124.0,150.0,183.0,124.0,181.0,92.0,152.0,111.0,106.0,174.0,168.0,105.0,138.0,106.0,117.0,68.0,112.0,119.0,112.0,92.0,183.0,94.0,108.0,90.0,125.0,132.0,128.0,94.0,114.0,102.0,111.0,128.0,92.0,104.0,104.0,94.0,97.0,100.0,102.0,128.0,147.0,90.0,103.0,157.0,167.0,179.0,136.0,107.0,91.0,117.0,123.0,120.0,106.0,155.0,101.0,120.0,127.0,80.0,162.0,199.0,167.0,145.0,115.0,112.0,145.0,111.0,98.0,154.0,165.0,99.0,68.0,123.0,91.0,195.0,156.0,93.0,121.0,101.0,56.0,162.0,95.0,125.0,136.0,129.0,130.0,107.0,140.0,144.0,107.0,158.0,121.0,129.0,90.0,142.0,169.0,99.0,127.0,118.0,122.0,125.0,168.0,129.0,110.0,80.0,115.0,127.0,164.0,93.0,158.0,126.0,129.0,134.0,102.0,187.0,173.0,94.0,108.0,97.0,83.0,114.0,149.0,117.0,111.0,112.0,116.0,141.0,175.0,92.0,130.0,120.0,174.0,106.0,105.0,95.0,126.0,65.0,99.0,102.0,120.0,102.0,109.0,140.0,153.0,100.0,147.0,81.0,187.0,162.0,136.0,121.0,108.0,181.0,154.0,128.0,137.0,123.0,106.0,190.0,88.0,170.0,89.0,101.0,122.0,121.0,126.0,93.0],\"z\":[155.5482233502538,155.5482233502538,155.5482233502538,94.0,168.0,155.5482233502538,88.0,155.5482233502538,543.0,155.5482233502538,155.5482233502538,155.5482233502538,155.5482233502538,846.0,175.0,155.5482233502538,230.0,155.5482233502538,83.0,96.0,235.0,155.5482233502538,155.5482233502538,155.5482233502538,146.0,115.0,155.5482233502538,140.0,110.0,155.5482233502538,155.5482233502538,245.0,54.0,155.5482233502538,155.5482233502538,192.0,155.5482233502538,155.5482233502538,155.5482233502538,207.0,70.0,155.5482233502538,155.5482233502538,240.0,155.5482233502538,155.5482233502538,155.5482233502538,155.5482233502538,155.5482233502538,155.5482233502538,82.0,36.0,23.0,300.0,342.0,155.5482233502538,304.0,110.0,155.5482233502538,142.0,155.5482233502538,155.5482233502538,155.5482233502538,128.0,155.5482233502538,155.5482233502538,155.5482233502538,155.5482233502538,38.0,100.0,90.0,140.0,155.5482233502538,270.0,155.5482233502538,155.5482233502538,155.5482233502538,155.5482233502538,155.5482233502538,155.5482233502538,155.5482233502538,155.5482233502538,71.0,155.5482233502538,155.5482233502538,125.0,155.5482233502538,71.0,110.0,155.5482233502538,155.5482233502538,176.0,48.0,155.5482233502538,64.0,228.0,155.5482233502538,76.0,64.0,220.0,155.5482233502538,155.5482233502538,155.5482233502538,40.0,155.5482233502538,152.0,155.5482233502538,140.0,18.0,36.0,135.0,495.0,37.0,155.5482233502538,175.0,155.5482233502538,155.5482233502538,155.5482233502538,155.5482233502538,51.0,100.0,155.5482233502538,100.0,155.5482233502538,155.5482233502538,99.0,135.0,94.0,145.0,155.5482233502538,168.0,155.5482233502538,225.0,155.5482233502538,49.0,140.0,50.0,92.0,155.5482233502538,325.0,155.5482233502538,155.5482233502538,63.0,155.5482233502538,284.0,155.5482233502538,155.5482233502538,119.0,155.5482233502538,155.5482233502538,204.0,155.5482233502538,155.0,485.0,155.5482233502538,155.5482233502538,94.0,135.0,53.0,114.0,155.5482233502538,105.0,285.0,155.5482233502538,155.5482233502538,156.0,155.5482233502538,155.5482233502538,155.5482233502538,78.0,155.5482233502538,130.0,155.5482233502538,48.0,55.0,130.0,155.5482233502538,130.0,155.5482233502538,155.5482233502538,155.5482233502538,92.0,23.0,155.5482233502538,155.5482233502538,155.5482233502538,495.0,58.0,114.0,160.0,155.5482233502538,94.0,155.5482233502538,155.5482233502538,155.5482233502538,210.0,155.5482233502538,48.0,99.0,318.0,155.5482233502538,155.5482233502538,155.5482233502538,44.0,190.0,155.5482233502538,280.0,155.5482233502538,87.0,155.5482233502538,155.5482233502538,155.5482233502538,155.5482233502538,130.0,175.0,271.0,129.0,120.0,155.5482233502538,155.5482233502538,478.0,155.5482233502538,155.5482233502538,190.0,56.0,32.0,155.5482233502538,155.5482233502538,744.0,53.0,155.5482233502538,370.0,37.0,155.5482233502538,45.0,155.5482233502538,192.0,155.5482233502538,155.5482233502538,155.5482233502538,155.5482233502538,88.0,155.5482233502538,176.0,194.0,155.5482233502538,155.5482233502538,680.0,402.0,155.5482233502538,155.5482233502538,155.5482233502538,55.0,155.5482233502538,258.0,155.5482233502538,155.5482233502538,155.5482233502538,375.0,150.0,130.0,155.5482233502538,155.5482233502538,155.5482233502538,155.5482233502538,67.0,155.5482233502538,155.5482233502538,155.5482233502538,155.5482233502538,155.5482233502538,56.0,155.5482233502538,45.0,155.5482233502538,57.0,155.5482233502538,116.0,155.5482233502538,278.0,155.5482233502538,122.0,155.0,155.5482233502538,155.5482233502538,135.0,545.0,220.0,49.0,75.0,40.0,74.0,182.0,194.0,155.5482233502538,120.0,360.0,215.0,184.0,155.5482233502538,155.5482233502538,135.0,42.0,155.5482233502538,155.5482233502538,105.0,132.0,148.0,180.0,205.0,155.5482233502538,148.0,96.0,85.0,155.5482233502538,94.0,64.0,155.5482233502538,140.0,155.5482233502538,231.0,155.5482233502538,155.5482233502538,29.0,155.5482233502538,168.0,156.0,155.5482233502538,120.0,68.0,155.5482233502538,52.0,155.5482233502538,155.5482233502538,58.0,255.0,155.5482233502538,155.5482233502538,171.0,155.5482233502538,105.0,73.0,155.5482233502538,155.5482233502538,155.5482233502538,108.0,83.0,155.5482233502538,74.0,155.5482233502538,155.5482233502538,155.5482233502538,155.5482233502538,43.0,155.5482233502538,155.5482233502538,167.0,155.5482233502538,54.0,249.0,325.0,155.5482233502538,155.5482233502538,155.5482233502538,293.0,83.0,155.5482233502538,155.5482233502538,66.0,140.0,465.0,89.0,66.0,94.0,158.0,325.0,84.0,75.0,155.5482233502538,72.0,82.0,155.5482233502538,182.0,59.0,110.0,50.0,155.5482233502538,155.5482233502538,285.0,81.0,196.0,155.5482233502538,415.0,87.0,155.5482233502538,275.0,115.0,155.5482233502538,155.5482233502538,155.5482233502538,155.5482233502538,155.5482233502538,88.0,155.5482233502538,155.5482233502538,165.0,155.5482233502538,155.5482233502538,155.5482233502538,579.0,155.5482233502538,176.0,310.0,61.0,167.0,474.0,155.5482233502538,155.5482233502538,155.5482233502538,115.0,170.0,76.0,78.0,155.5482233502538,210.0,277.0,155.5482233502538,180.0,145.0,180.0,155.5482233502538,85.0,60.0,155.5482233502538,155.5482233502538,155.5482233502538,155.5482233502538,155.5482233502538,155.5482233502538,155.5482233502538,155.5482233502538,50.0,120.0,155.5482233502538,155.5482233502538,14.0,70.0,92.0,64.0,63.0,95.0,155.5482233502538,210.0,155.5482233502538,105.0,155.5482233502538,155.5482233502538,71.0,237.0,60.0,56.0,155.5482233502538,49.0,155.5482233502538,155.5482233502538,105.0,36.0,100.0,155.5482233502538,140.0,155.5482233502538,155.5482233502538,155.5482233502538,155.5482233502538,155.5482233502538,155.5482233502538,191.0,110.0,75.0,155.5482233502538,328.0,155.5482233502538,49.0,125.0,155.5482233502538,250.0,480.0,265.0,155.5482233502538,155.5482233502538,66.0,155.5482233502538,155.5482233502538,122.0,155.5482233502538,155.5482233502538,155.5482233502538,76.0,145.0,193.0,71.0,155.5482233502538,155.5482233502538,79.0,155.5482233502538,155.5482233502538,90.0,170.0,76.0,155.5482233502538,155.5482233502538,210.0,155.5482233502538,155.5482233502538,86.0,105.0,165.0,155.5482233502538,155.5482233502538,326.0,66.0,130.0,155.5482233502538,155.5482233502538,155.5482233502538,155.5482233502538,82.0,105.0,188.0,155.5482233502538,106.0,155.5482233502538,65.0,155.5482233502538,56.0,155.5482233502538,155.5482233502538,155.5482233502538,210.0,155.0,215.0,190.0,155.5482233502538,56.0,76.0,225.0,207.0,166.0,67.0,155.5482233502538,155.5482233502538,106.0,155.5482233502538,44.0,115.0,215.0,155.5482233502538,155.5482233502538,155.5482233502538,155.5482233502538,155.5482233502538,274.0,77.0,54.0,155.5482233502538,88.0,18.0,126.0,126.0,165.0,155.5482233502538,155.5482233502538,44.0,120.0,330.0,63.0,130.0,155.5482233502538,155.5482233502538,155.5482233502538,155.5482233502538,155.5482233502538,155.5482233502538,155.5482233502538,600.0,155.5482233502538,155.5482233502538,155.5482233502538,156.0,155.5482233502538,155.5482233502538,140.0,155.5482233502538,115.0,230.0,185.0,155.5482233502538,25.0,155.5482233502538,120.0,155.5482233502538,155.5482233502538,155.5482233502538,126.0,155.5482233502538,155.5482233502538,293.0,41.0,272.0,182.0,158.0,194.0,321.0,155.5482233502538,144.0,155.5482233502538,155.5482233502538,15.0,155.5482233502538,155.5482233502538,160.0,155.5482233502538,155.5482233502538,115.0,155.5482233502538,54.0,155.5482233502538,155.5482233502538,155.5482233502538,155.5482233502538,155.5482233502538,90.0,155.5482233502538,183.0,155.5482233502538,155.5482233502538,155.5482233502538,66.0,91.0,46.0,105.0,155.5482233502538,155.5482233502538,155.5482233502538,152.0,440.0,144.0,159.0,130.0,155.5482233502538,100.0,106.0,77.0,155.5482233502538,135.0,540.0,90.0,200.0,155.5482233502538,70.0,155.5482233502538,155.5482233502538,231.0,130.0,155.5482233502538,132.0,155.5482233502538,155.5482233502538,190.0,100.0,168.0,155.5482233502538,49.0,240.0,155.5482233502538,155.5482233502538,155.5482233502538,155.5482233502538,155.5482233502538,265.0,45.0,155.5482233502538,105.0,155.5482233502538,155.5482233502538,205.0,155.5482233502538,155.5482233502538,180.0,180.0,155.5482233502538,155.5482233502538,95.0,125.0,155.5482233502538,480.0,125.0,155.5482233502538,155.0,155.5482233502538,200.0,155.5482233502538,155.5482233502538,155.5482233502538,100.0,155.5482233502538,155.5482233502538,335.0,155.5482233502538,160.0,387.0,22.0,155.5482233502538,291.0,155.5482233502538,392.0,185.0,155.5482233502538,178.0,155.5482233502538,155.5482233502538,200.0,127.0,105.0,155.5482233502538,155.5482233502538,180.0,155.5482233502538,155.5482233502538,155.5482233502538,79.0,155.5482233502538,120.0,165.0,155.5482233502538,155.5482233502538,120.0,155.5482233502538,160.0,155.5482233502538,150.0,94.0,116.0,155.5482233502538,140.0,105.0,155.5482233502538,57.0,200.0,155.5482233502538,155.5482233502538,74.0,155.5482233502538,510.0,155.5482233502538,110.0,155.5482233502538,155.5482233502538,155.5482233502538,155.5482233502538,16.0,155.5482233502538,155.5482233502538,180.0,155.5482233502538,112.0,155.5482233502538,155.5482233502538],\"type\":\"scatter3d\"}],                        {\"template\":{\"data\":{\"barpolar\":[{\"marker\":{\"line\":{\"color\":\"rgb(17,17,17)\",\"width\":0.5},\"pattern\":{\"fillmode\":\"overlay\",\"size\":10,\"solidity\":0.2}},\"type\":\"barpolar\"}],\"bar\":[{\"error_x\":{\"color\":\"#f2f5fa\"},\"error_y\":{\"color\":\"#f2f5fa\"},\"marker\":{\"line\":{\"color\":\"rgb(17,17,17)\",\"width\":0.5},\"pattern\":{\"fillmode\":\"overlay\",\"size\":10,\"solidity\":0.2}},\"type\":\"bar\"}],\"carpet\":[{\"aaxis\":{\"endlinecolor\":\"#A2B1C6\",\"gridcolor\":\"#506784\",\"linecolor\":\"#506784\",\"minorgridcolor\":\"#506784\",\"startlinecolor\":\"#A2B1C6\"},\"baxis\":{\"endlinecolor\":\"#A2B1C6\",\"gridcolor\":\"#506784\",\"linecolor\":\"#506784\",\"minorgridcolor\":\"#506784\",\"startlinecolor\":\"#A2B1C6\"},\"type\":\"carpet\"}],\"choropleth\":[{\"colorbar\":{\"outlinewidth\":0,\"ticks\":\"\"},\"type\":\"choropleth\"}],\"contourcarpet\":[{\"colorbar\":{\"outlinewidth\":0,\"ticks\":\"\"},\"type\":\"contourcarpet\"}],\"contour\":[{\"colorbar\":{\"outlinewidth\":0,\"ticks\":\"\"},\"colorscale\":[[0.0,\"#0d0887\"],[0.1111111111111111,\"#46039f\"],[0.2222222222222222,\"#7201a8\"],[0.3333333333333333,\"#9c179e\"],[0.4444444444444444,\"#bd3786\"],[0.5555555555555556,\"#d8576b\"],[0.6666666666666666,\"#ed7953\"],[0.7777777777777778,\"#fb9f3a\"],[0.8888888888888888,\"#fdca26\"],[1.0,\"#f0f921\"]],\"type\":\"contour\"}],\"heatmapgl\":[{\"colorbar\":{\"outlinewidth\":0,\"ticks\":\"\"},\"colorscale\":[[0.0,\"#0d0887\"],[0.1111111111111111,\"#46039f\"],[0.2222222222222222,\"#7201a8\"],[0.3333333333333333,\"#9c179e\"],[0.4444444444444444,\"#bd3786\"],[0.5555555555555556,\"#d8576b\"],[0.6666666666666666,\"#ed7953\"],[0.7777777777777778,\"#fb9f3a\"],[0.8888888888888888,\"#fdca26\"],[1.0,\"#f0f921\"]],\"type\":\"heatmapgl\"}],\"heatmap\":[{\"colorbar\":{\"outlinewidth\":0,\"ticks\":\"\"},\"colorscale\":[[0.0,\"#0d0887\"],[0.1111111111111111,\"#46039f\"],[0.2222222222222222,\"#7201a8\"],[0.3333333333333333,\"#9c179e\"],[0.4444444444444444,\"#bd3786\"],[0.5555555555555556,\"#d8576b\"],[0.6666666666666666,\"#ed7953\"],[0.7777777777777778,\"#fb9f3a\"],[0.8888888888888888,\"#fdca26\"],[1.0,\"#f0f921\"]],\"type\":\"heatmap\"}],\"histogram2dcontour\":[{\"colorbar\":{\"outlinewidth\":0,\"ticks\":\"\"},\"colorscale\":[[0.0,\"#0d0887\"],[0.1111111111111111,\"#46039f\"],[0.2222222222222222,\"#7201a8\"],[0.3333333333333333,\"#9c179e\"],[0.4444444444444444,\"#bd3786\"],[0.5555555555555556,\"#d8576b\"],[0.6666666666666666,\"#ed7953\"],[0.7777777777777778,\"#fb9f3a\"],[0.8888888888888888,\"#fdca26\"],[1.0,\"#f0f921\"]],\"type\":\"histogram2dcontour\"}],\"histogram2d\":[{\"colorbar\":{\"outlinewidth\":0,\"ticks\":\"\"},\"colorscale\":[[0.0,\"#0d0887\"],[0.1111111111111111,\"#46039f\"],[0.2222222222222222,\"#7201a8\"],[0.3333333333333333,\"#9c179e\"],[0.4444444444444444,\"#bd3786\"],[0.5555555555555556,\"#d8576b\"],[0.6666666666666666,\"#ed7953\"],[0.7777777777777778,\"#fb9f3a\"],[0.8888888888888888,\"#fdca26\"],[1.0,\"#f0f921\"]],\"type\":\"histogram2d\"}],\"histogram\":[{\"marker\":{\"pattern\":{\"fillmode\":\"overlay\",\"size\":10,\"solidity\":0.2}},\"type\":\"histogram\"}],\"mesh3d\":[{\"colorbar\":{\"outlinewidth\":0,\"ticks\":\"\"},\"type\":\"mesh3d\"}],\"parcoords\":[{\"line\":{\"colorbar\":{\"outlinewidth\":0,\"ticks\":\"\"}},\"type\":\"parcoords\"}],\"pie\":[{\"automargin\":true,\"type\":\"pie\"}],\"scatter3d\":[{\"line\":{\"colorbar\":{\"outlinewidth\":0,\"ticks\":\"\"}},\"marker\":{\"colorbar\":{\"outlinewidth\":0,\"ticks\":\"\"}},\"type\":\"scatter3d\"}],\"scattercarpet\":[{\"marker\":{\"colorbar\":{\"outlinewidth\":0,\"ticks\":\"\"}},\"type\":\"scattercarpet\"}],\"scattergeo\":[{\"marker\":{\"colorbar\":{\"outlinewidth\":0,\"ticks\":\"\"}},\"type\":\"scattergeo\"}],\"scattergl\":[{\"marker\":{\"line\":{\"color\":\"#283442\"}},\"type\":\"scattergl\"}],\"scattermapbox\":[{\"marker\":{\"colorbar\":{\"outlinewidth\":0,\"ticks\":\"\"}},\"type\":\"scattermapbox\"}],\"scatterpolargl\":[{\"marker\":{\"colorbar\":{\"outlinewidth\":0,\"ticks\":\"\"}},\"type\":\"scatterpolargl\"}],\"scatterpolar\":[{\"marker\":{\"colorbar\":{\"outlinewidth\":0,\"ticks\":\"\"}},\"type\":\"scatterpolar\"}],\"scatter\":[{\"marker\":{\"line\":{\"color\":\"#283442\"}},\"type\":\"scatter\"}],\"scatterternary\":[{\"marker\":{\"colorbar\":{\"outlinewidth\":0,\"ticks\":\"\"}},\"type\":\"scatterternary\"}],\"surface\":[{\"colorbar\":{\"outlinewidth\":0,\"ticks\":\"\"},\"colorscale\":[[0.0,\"#0d0887\"],[0.1111111111111111,\"#46039f\"],[0.2222222222222222,\"#7201a8\"],[0.3333333333333333,\"#9c179e\"],[0.4444444444444444,\"#bd3786\"],[0.5555555555555556,\"#d8576b\"],[0.6666666666666666,\"#ed7953\"],[0.7777777777777778,\"#fb9f3a\"],[0.8888888888888888,\"#fdca26\"],[1.0,\"#f0f921\"]],\"type\":\"surface\"}],\"table\":[{\"cells\":{\"fill\":{\"color\":\"#506784\"},\"line\":{\"color\":\"rgb(17,17,17)\"}},\"header\":{\"fill\":{\"color\":\"#2a3f5f\"},\"line\":{\"color\":\"rgb(17,17,17)\"}},\"type\":\"table\"}]},\"layout\":{\"annotationdefaults\":{\"arrowcolor\":\"#f2f5fa\",\"arrowhead\":0,\"arrowwidth\":1},\"autotypenumbers\":\"strict\",\"coloraxis\":{\"colorbar\":{\"outlinewidth\":0,\"ticks\":\"\"}},\"colorscale\":{\"diverging\":[[0,\"#8e0152\"],[0.1,\"#c51b7d\"],[0.2,\"#de77ae\"],[0.3,\"#f1b6da\"],[0.4,\"#fde0ef\"],[0.5,\"#f7f7f7\"],[0.6,\"#e6f5d0\"],[0.7,\"#b8e186\"],[0.8,\"#7fbc41\"],[0.9,\"#4d9221\"],[1,\"#276419\"]],\"sequential\":[[0.0,\"#0d0887\"],[0.1111111111111111,\"#46039f\"],[0.2222222222222222,\"#7201a8\"],[0.3333333333333333,\"#9c179e\"],[0.4444444444444444,\"#bd3786\"],[0.5555555555555556,\"#d8576b\"],[0.6666666666666666,\"#ed7953\"],[0.7777777777777778,\"#fb9f3a\"],[0.8888888888888888,\"#fdca26\"],[1.0,\"#f0f921\"]],\"sequentialminus\":[[0.0,\"#0d0887\"],[0.1111111111111111,\"#46039f\"],[0.2222222222222222,\"#7201a8\"],[0.3333333333333333,\"#9c179e\"],[0.4444444444444444,\"#bd3786\"],[0.5555555555555556,\"#d8576b\"],[0.6666666666666666,\"#ed7953\"],[0.7777777777777778,\"#fb9f3a\"],[0.8888888888888888,\"#fdca26\"],[1.0,\"#f0f921\"]]},\"colorway\":[\"#636efa\",\"#EF553B\",\"#00cc96\",\"#ab63fa\",\"#FFA15A\",\"#19d3f3\",\"#FF6692\",\"#B6E880\",\"#FF97FF\",\"#FECB52\"],\"font\":{\"color\":\"#f2f5fa\"},\"geo\":{\"bgcolor\":\"rgb(17,17,17)\",\"lakecolor\":\"rgb(17,17,17)\",\"landcolor\":\"rgb(17,17,17)\",\"showlakes\":true,\"showland\":true,\"subunitcolor\":\"#506784\"},\"hoverlabel\":{\"align\":\"left\"},\"hovermode\":\"closest\",\"mapbox\":{\"style\":\"dark\"},\"paper_bgcolor\":\"rgb(17,17,17)\",\"plot_bgcolor\":\"rgb(17,17,17)\",\"polar\":{\"angularaxis\":{\"gridcolor\":\"#506784\",\"linecolor\":\"#506784\",\"ticks\":\"\"},\"bgcolor\":\"rgb(17,17,17)\",\"radialaxis\":{\"gridcolor\":\"#506784\",\"linecolor\":\"#506784\",\"ticks\":\"\"}},\"scene\":{\"xaxis\":{\"backgroundcolor\":\"rgb(17,17,17)\",\"gridcolor\":\"#506784\",\"gridwidth\":2,\"linecolor\":\"#506784\",\"showbackground\":true,\"ticks\":\"\",\"zerolinecolor\":\"#C8D4E3\"},\"yaxis\":{\"backgroundcolor\":\"rgb(17,17,17)\",\"gridcolor\":\"#506784\",\"gridwidth\":2,\"linecolor\":\"#506784\",\"showbackground\":true,\"ticks\":\"\",\"zerolinecolor\":\"#C8D4E3\"},\"zaxis\":{\"backgroundcolor\":\"rgb(17,17,17)\",\"gridcolor\":\"#506784\",\"gridwidth\":2,\"linecolor\":\"#506784\",\"showbackground\":true,\"ticks\":\"\",\"zerolinecolor\":\"#C8D4E3\"}},\"shapedefaults\":{\"line\":{\"color\":\"#f2f5fa\"}},\"sliderdefaults\":{\"bgcolor\":\"#C8D4E3\",\"bordercolor\":\"rgb(17,17,17)\",\"borderwidth\":1,\"tickwidth\":0},\"ternary\":{\"aaxis\":{\"gridcolor\":\"#506784\",\"linecolor\":\"#506784\",\"ticks\":\"\"},\"baxis\":{\"gridcolor\":\"#506784\",\"linecolor\":\"#506784\",\"ticks\":\"\"},\"bgcolor\":\"rgb(17,17,17)\",\"caxis\":{\"gridcolor\":\"#506784\",\"linecolor\":\"#506784\",\"ticks\":\"\"}},\"title\":{\"x\":0.05},\"updatemenudefaults\":{\"bgcolor\":\"#506784\",\"borderwidth\":0},\"xaxis\":{\"automargin\":true,\"gridcolor\":\"#283442\",\"linecolor\":\"#506784\",\"ticks\":\"\",\"title\":{\"standoff\":15},\"zerolinecolor\":\"#283442\",\"zerolinewidth\":2},\"yaxis\":{\"automargin\":true,\"gridcolor\":\"#283442\",\"linecolor\":\"#506784\",\"ticks\":\"\",\"title\":{\"standoff\":15},\"zerolinecolor\":\"#283442\",\"zerolinewidth\":2}}},\"scene\":{\"domain\":{\"x\":[0.0,1.0],\"y\":[0.0,1.0]},\"xaxis\":{\"title\":{\"text\":\"Age\"}},\"yaxis\":{\"title\":{\"text\":\"Glucose\"}},\"zaxis\":{\"title\":{\"text\":\"Insulin\"}}},\"coloraxis\":{\"colorbar\":{\"title\":{\"text\":\"Outcome\"}},\"colorscale\":[[0.0,\"#0d0887\"],[0.1111111111111111,\"#46039f\"],[0.2222222222222222,\"#7201a8\"],[0.3333333333333333,\"#9c179e\"],[0.4444444444444444,\"#bd3786\"],[0.5555555555555556,\"#d8576b\"],[0.6666666666666666,\"#ed7953\"],[0.7777777777777778,\"#fb9f3a\"],[0.8888888888888888,\"#fdca26\"],[1.0,\"#f0f921\"]]},\"legend\":{\"tracegroupgap\":0},\"margin\":{\"t\":60}},                        {\"responsive\": true}                    ).then(function(){\n",
              "                            \n",
              "var gd = document.getElementById('e7081bd2-1458-4883-b352-2b96712f5798');\n",
              "var x = new MutationObserver(function (mutations, observer) {{\n",
              "        var display = window.getComputedStyle(gd).display;\n",
              "        if (!display || display === 'none') {{\n",
              "            console.log([gd, 'removed!']);\n",
              "            Plotly.purge(gd);\n",
              "            observer.disconnect();\n",
              "        }}\n",
              "}});\n",
              "\n",
              "// Listen for the removal of the full notebook cells\n",
              "var notebookContainer = gd.closest('#notebook-container');\n",
              "if (notebookContainer) {{\n",
              "    x.observe(notebookContainer, {childList: true});\n",
              "}}\n",
              "\n",
              "// Listen for the clearing of the current output cell\n",
              "var outputEl = gd.closest('.output');\n",
              "if (outputEl) {{\n",
              "    x.observe(outputEl, {childList: true});\n",
              "}}\n",
              "\n",
              "                        })                };                            </script>        </div>\n",
              "</body>\n",
              "</html>"
            ]
          },
          "metadata": {}
        }
      ]
    },
    {
      "cell_type": "markdown",
      "source": [
        "### BMI + Diabetes pedigree function\n",
        "\n",
        "Visualizing the BMI and diabetes pedigree function\n"
      ],
      "metadata": {
        "id": "IaBfh0cldtyB"
      }
    },
    {
      "cell_type": "code",
      "source": [
        "fig = px.area(df_diabetes, x=\"Age\", y=\"BMI\", color=\"Outcome\")\n",
        "fig.show()"
      ],
      "metadata": {
        "colab": {
          "base_uri": "https://localhost:8080/",
          "height": 542
        },
        "id": "GiTUudWueq9Z",
        "outputId": "a8928f4c-502c-47c4-864e-a45f80ea7c83"
      },
      "execution_count": 451,
      "outputs": [
        {
          "output_type": "display_data",
          "data": {
            "text/html": [
              "<html>\n",
              "<head><meta charset=\"utf-8\" /></head>\n",
              "<body>\n",
              "    <div>            <script src=\"https://cdnjs.cloudflare.com/ajax/libs/mathjax/2.7.5/MathJax.js?config=TeX-AMS-MML_SVG\"></script><script type=\"text/javascript\">if (window.MathJax && window.MathJax.Hub && window.MathJax.Hub.Config) {window.MathJax.Hub.Config({SVG: {font: \"STIX-Web\"}});}</script>                <script type=\"text/javascript\">window.PlotlyConfig = {MathJaxConfig: 'local'};</script>\n",
              "        <script src=\"https://cdn.plot.ly/plotly-2.18.0.min.js\"></script>                <div id=\"463f6cc8-7a16-4f3a-b80d-3159731158a6\" class=\"plotly-graph-div\" style=\"height:525px; width:100%;\"></div>            <script type=\"text/javascript\">                                    window.PLOTLYENV=window.PLOTLYENV || {};                                    if (document.getElementById(\"463f6cc8-7a16-4f3a-b80d-3159731158a6\")) {                    Plotly.newPlot(                        \"463f6cc8-7a16-4f3a-b80d-3159731158a6\",                        [{\"fillpattern\":{\"shape\":\"\"},\"hovertemplate\":\"Outcome=1<br>Age=%{x}<br>BMI=%{y}<extra></extra>\",\"legendgroup\":\"1\",\"line\":{\"color\":\"#636efa\"},\"marker\":{\"symbol\":\"circle\"},\"mode\":\"lines\",\"name\":\"1\",\"orientation\":\"v\",\"showlegend\":true,\"stackgroup\":\"1\",\"x\":[50,32,33,26,53,54,34,59,51,32,31,31,32,41,29,51,41,43,28,46,27,56,54,25,31,58,41,39,42,38,28,42,26,37,43,60,31,33,24,24,46,39,61,38,25,23,26,40,62,33,33,30,42,42,43,36,47,32,41,36,29,36,26,37,41,60,33,31,25,36,40,29,23,26,29,57,52,41,24,36,38,25,32,41,21,66,24,22,46,26,51,23,32,22,33,49,44,21,51,27,35,25,28,38,29,28,47,52,29,25,31,24,29,46,30,25,28,47,25,30,27,43,29,59,25,36,43,30,23,41,44,33,41,37,49,28,44,29,29,67,29,45,25,58,32,35,45,58,27,31,22,25,31,35,41,46,39,28,21,22,37,28,36,31,38,43,29,41,33,30,25,22,23,38,51,38,29,35,31,24,45,55,41,35,46,28,53,45,23,32,43,27,56,37,53,54,28,33,21,62,21,52,41,52,45,44,22,38,54,36,22,36,40,50,50,24,34,38,32,50,33,22,42,25,27,22,43,40,40,70,40,31,53,25,26,27,46,44,43,43,31,49,52,30,45,23,38,34,31,52,42,34,22,24,42,48,45,27,36,50,22,26,45,37,52,66,43,47],\"xaxis\":\"x\",\"y\":[33.6,23.3,43.1,31.0,30.5,32.457463672391015,38.0,30.1,25.8,30.0,45.8,29.6,34.6,39.8,29.0,36.6,31.1,39.4,31.6,32.9,38.2,37.1,45.4,42.0,39.1,33.7,37.7,32.9,32.8,32.5,32.9,43.4,43.2,48.8,37.1,23.8,49.7,39.0,37.4,33.3,34.0,30.5,31.2,34.0,53.2,33.3,55.0,34.5,27.9,29.7,33.3,34.5,32.4,34.3,47.9,50.0,40.9,31.6,29.9,30.8,35.4,32.7,67.1,39.1,35.9,30.1,32.0,27.9,31.6,30.4,52.3,39.4,22.9,34.8,30.9,37.5,37.7,35.5,42.6,34.2,41.8,35.8,29.0,37.8,34.6,31.6,37.2,44.0,46.2,43.6,35.9,44.1,30.8,25.6,27.1,30.0,27.6,33.6,33.3,30.0,32.0,36.3,27.5,45.6,26.5,37.9,30.4,27.0,45.6,36.6,43.3,40.5,28.0,36.6,32.3,31.6,52.9,25.5,30.5,32.9,26.6,35.9,30.5,23.5,31.6,27.4,26.8,35.1,45.5,43.3,31.2,34.2,39.9,41.0,30.4,33.3,39.9,36.5,31.2,38.5,27.6,32.8,38.4,39.2,48.3,32.3,43.3,32.0,45.7,32.9,34.3,34.9,32.0,35.0,32.9,28.9,25.9,42.4,34.6,35.7,38.5,26.4,42.9,37.0,34.1,35.0,42.4,34.3,30.5,29.7,59.4,33.6,28.9,33.6,37.6,30.0,33.7,35.5,44.2,42.3,28.9,25.1,39.0,36.5,29.7,31.6,30.3,34.2,32.9,36.4,39.4,32.4,34.9,34.5,43.6,33.8,41.3,34.3,42.9,34.7,42.1,28.7,34.9,33.3,46.8,34.4,32.0,36.8,35.2,28.4,40.0,32.9,38.2,36.1,28.2,32.4,27.4,31.2,40.9,29.5,23.4,37.8,28.3,38.7,34.2,42.9,37.6,37.9,33.7,32.5,27.5,30.9,24.8,36.0,49.6,32.3,46.1,42.3,38.5,30.4,29.9,27.6,35.0,32.457463672391015,32.8,38.0,41.2,33.9,33.8,35.6,29.3,28.4,28.4,44.5,39.5,42.3,32.7,49.3,36.4,24.3,31.2,43.3,32.4,36.5,36.3,35.5,44.0,30.1],\"yaxis\":\"y\",\"type\":\"scatter\"},{\"fillpattern\":{\"shape\":\"\"},\"hovertemplate\":\"Outcome=0<br>Age=%{x}<br>BMI=%{y}<extra></extra>\",\"legendgroup\":\"0\",\"line\":{\"color\":\"#EF553B\"},\"marker\":{\"symbol\":\"circle\"},\"mode\":\"lines\",\"name\":\"0\",\"orientation\":\"v\",\"showlegend\":true,\"stackgroup\":\"1\",\"x\":[31,21,30,29,30,57,33,27,50,22,57,38,60,22,28,45,33,35,26,37,48,40,29,22,24,22,26,30,42,21,31,44,22,21,36,24,32,54,25,27,26,23,22,22,41,27,24,22,22,36,22,27,45,26,24,21,34,42,21,40,24,22,23,22,21,24,27,21,27,37,25,23,25,25,22,21,24,23,69,30,23,39,26,31,21,22,29,28,55,38,22,23,21,41,34,65,22,24,37,23,21,23,22,36,45,27,21,22,34,29,29,25,23,33,42,47,32,23,21,27,40,21,40,42,21,21,28,32,27,55,27,21,25,24,60,32,37,61,26,22,26,31,24,22,29,23,27,21,22,29,41,23,34,23,42,27,24,25,30,25,24,34,24,63,43,24,21,21,40,21,52,25,23,57,22,39,37,51,34,26,33,21,65,28,24,58,35,37,29,21,41,22,25,26,30,28,31,21,24,37,37,46,25,44,22,26,44,22,36,22,33,57,49,22,23,26,29,30,46,24,21,48,63,65,30,30,21,22,21,21,25,28,22,22,35,24,22,21,25,25,24,28,42,21,37,25,39,25,55,38,26,25,28,25,22,21,22,27,26,21,21,21,25,26,23,38,22,29,36,41,28,21,31,22,24,28,26,26,23,25,72,24,62,24,81,48,26,39,37,34,21,22,25,27,28,22,22,50,24,59,31,39,63,29,28,23,21,58,28,67,24,42,33,22,66,30,25,39,21,28,41,40,38,21,21,64,21,58,22,24,51,41,60,25,26,26,24,21,21,24,22,31,22,24,29,31,24,46,67,23,25,29,28,50,37,21,25,66,23,28,37,30,58,42,35,24,32,27,22,21,46,37,39,21,22,22,23,25,35,36,27,62,42,22,29,25,24,25,34,46,21,26,24,28,30,21,25,27,23,24,26,27,30,23,28,28,45,21,21,29,21,21,45,21,24,23,22,31,48,23,28,27,24,31,27,30,23,23,27,28,27,22,22,41,51,54,24,43,45,49,21,47,22,68,25,23,22,22,69,25,22,29,23,34,23,25,22,28,26,26,41,27,28,22,24,40,21,32,56,24,34,21,42,45,38,25,22,22,22,22,53,28,21,42,21,26,22,39,46,32,28,25,39,26,22,33,63,27,30,23],\"xaxis\":\"x\",\"y\":[26.6,28.1,25.6,35.3,37.6,27.1,43.3,39.3,35.4,23.2,22.2,34.1,36.0,24.8,19.9,27.6,24.0,33.2,34.0,40.2,22.7,27.4,29.7,28.0,32.457463672391015,19.4,24.2,24.4,34.7,23.0,46.8,40.5,41.5,32.457463672391015,25.0,25.4,29.0,42.7,19.6,28.9,28.6,35.1,32.0,24.7,32.6,37.7,25.0,22.4,32.457463672391015,29.3,24.6,32.4,36.6,38.5,26.5,19.1,32.0,46.7,24.7,33.9,31.6,20.4,28.7,26.1,22.5,26.6,39.6,28.7,22.4,29.5,34.3,31.2,34.0,33.7,28.2,23.2,34.2,33.6,26.8,42.9,33.3,38.3,21.1,33.8,30.8,28.7,31.2,36.9,21.1,39.5,32.5,32.8,32.457463672391015,32.8,30.5,33.7,27.3,37.4,21.9,40.6,24.6,25.2,29.0,29.7,37.2,44.2,29.7,32.5,29.6,31.9,28.4,28.9,43.5,29.7,31.2,45.0,23.2,34.9,27.7,26.8,27.6,22.6,33.1,24.4,24.3,31.0,40.1,27.3,20.4,37.7,23.9,33.2,27.7,42.8,34.2,30.0,25.2,28.8,23.6,34.6,35.7,36.7,45.2,25.4,35.0,29.7,18.4,29.2,33.1,38.2,31.2,52.3,35.4,30.1,31.2,28.0,24.4,35.8,30.1,28.7,25.9,30.9,32.1,32.4,33.6,40.0,25.1,25.2,23.0,33.2,34.2,40.5,27.8,24.9,25.3,35.9,32.4,26.0,38.7,20.8,36.1,36.9,21.9,35.5,30.7,23.6,35.8,21.0,39.7,24.8,26.2,39.4,29.5,34.1,19.3,38.1,27.5,35.7,25.6,35.1,30.8,23.1,32.7,23.6,23.9,47.9,33.8,25.9,25.9,32.0,34.7,36.8,38.5,28.7,23.5,21.8,42.2,31.2,34.4,27.2,42.7,35.3,29.8,39.2,34.9,34.0,21.0,27.5,32.457463672391015,35.8,34.9,36.2,25.2,37.2,43.4,30.8,20.0,25.4,25.1,24.3,22.3,31.6,32.0,23.7,22.1,27.7,24.7,21.1,24.2,31.6,42.1,21.9,35.7,34.4,42.4,26.2,27.2,18.2,45.3,26.0,40.6,30.8,32.457463672391015,40.6,22.2,30.4,30.0,25.6,24.5,37.4,29.9,18.2,36.8,32.2,33.2,25.3,36.5,30.5,21.2,39.9,19.6,37.8,26.7,30.2,25.9,20.8,21.8,35.3,27.6,24.0,21.8,27.8,36.8,46.1,41.3,33.2,38.8,29.9,28.9,27.3,23.8,25.9,28.0,35.2,27.8,38.2,40.7,46.5,25.6,26.1,36.8,33.5,32.8,32.457463672391015,26.6,26.0,30.1,29.3,25.2,37.2,33.3,37.3,33.3,28.6,30.4,25.0,22.1,24.2,27.3,25.6,37.6,32.8,19.6,25.0,33.2,32.457463672391015,31.6,21.8,18.2,26.3,30.8,24.6,29.8,45.3,41.3,29.8,33.3,29.6,21.7,36.3,39.5,32.0,33.1,32.8,28.5,27.4,31.9,27.8,29.9,36.9,25.5,38.1,27.8,46.2,30.1,37.6,26.9,32.4,26.1,38.6,32.0,31.3,32.5,22.6,29.5,34.7,30.1,35.5,24.0,27.0,25.0,26.5,38.7,22.5,24.3,21.1,39.4,28.5,33.6,45.3,27.8,23.1,27.1,23.7,27.8,35.8,19.5,41.5,24.0,30.9,32.5,25.8,28.7,20.1,38.4,24.2,40.8,43.5,30.8,37.7,24.7,32.4,34.6,24.7,34.5,26.2,27.5,25.9,28.8,31.6,19.5,29.3,34.3,28.0,27.6,39.4,26.4,25.2,33.8,34.1,26.8,34.2,21.8,38.9,39.0,27.7,34.8,34.0,30.9,33.6,25.4,35.5,57.3,35.6,35.3,24.2,24.2,44.6,32.457463672391015,33.2,23.1,28.3,24.1,24.6,39.1,23.5,25.0,34.5,44.5,35.9,38.5,28.4,39.8,34.4,31.2,29.6,26.4,29.5,23.1,35.5,29.3,38.1,39.1,32.8,39.4,36.1,32.4,22.9,30.1,29.0,23.3,35.4,27.4,32.0,36.6,30.8,28.5,40.6,30.0,46.3,39.0,26.0,32.0,37.5,28.4,22.5,32.9,36.8,26.2,30.4],\"yaxis\":\"y\",\"type\":\"scatter\"}],                        {\"template\":{\"data\":{\"histogram2dcontour\":[{\"type\":\"histogram2dcontour\",\"colorbar\":{\"outlinewidth\":0,\"ticks\":\"\"},\"colorscale\":[[0.0,\"#0d0887\"],[0.1111111111111111,\"#46039f\"],[0.2222222222222222,\"#7201a8\"],[0.3333333333333333,\"#9c179e\"],[0.4444444444444444,\"#bd3786\"],[0.5555555555555556,\"#d8576b\"],[0.6666666666666666,\"#ed7953\"],[0.7777777777777778,\"#fb9f3a\"],[0.8888888888888888,\"#fdca26\"],[1.0,\"#f0f921\"]]}],\"choropleth\":[{\"type\":\"choropleth\",\"colorbar\":{\"outlinewidth\":0,\"ticks\":\"\"}}],\"histogram2d\":[{\"type\":\"histogram2d\",\"colorbar\":{\"outlinewidth\":0,\"ticks\":\"\"},\"colorscale\":[[0.0,\"#0d0887\"],[0.1111111111111111,\"#46039f\"],[0.2222222222222222,\"#7201a8\"],[0.3333333333333333,\"#9c179e\"],[0.4444444444444444,\"#bd3786\"],[0.5555555555555556,\"#d8576b\"],[0.6666666666666666,\"#ed7953\"],[0.7777777777777778,\"#fb9f3a\"],[0.8888888888888888,\"#fdca26\"],[1.0,\"#f0f921\"]]}],\"heatmap\":[{\"type\":\"heatmap\",\"colorbar\":{\"outlinewidth\":0,\"ticks\":\"\"},\"colorscale\":[[0.0,\"#0d0887\"],[0.1111111111111111,\"#46039f\"],[0.2222222222222222,\"#7201a8\"],[0.3333333333333333,\"#9c179e\"],[0.4444444444444444,\"#bd3786\"],[0.5555555555555556,\"#d8576b\"],[0.6666666666666666,\"#ed7953\"],[0.7777777777777778,\"#fb9f3a\"],[0.8888888888888888,\"#fdca26\"],[1.0,\"#f0f921\"]]}],\"heatmapgl\":[{\"type\":\"heatmapgl\",\"colorbar\":{\"outlinewidth\":0,\"ticks\":\"\"},\"colorscale\":[[0.0,\"#0d0887\"],[0.1111111111111111,\"#46039f\"],[0.2222222222222222,\"#7201a8\"],[0.3333333333333333,\"#9c179e\"],[0.4444444444444444,\"#bd3786\"],[0.5555555555555556,\"#d8576b\"],[0.6666666666666666,\"#ed7953\"],[0.7777777777777778,\"#fb9f3a\"],[0.8888888888888888,\"#fdca26\"],[1.0,\"#f0f921\"]]}],\"contourcarpet\":[{\"type\":\"contourcarpet\",\"colorbar\":{\"outlinewidth\":0,\"ticks\":\"\"}}],\"contour\":[{\"type\":\"contour\",\"colorbar\":{\"outlinewidth\":0,\"ticks\":\"\"},\"colorscale\":[[0.0,\"#0d0887\"],[0.1111111111111111,\"#46039f\"],[0.2222222222222222,\"#7201a8\"],[0.3333333333333333,\"#9c179e\"],[0.4444444444444444,\"#bd3786\"],[0.5555555555555556,\"#d8576b\"],[0.6666666666666666,\"#ed7953\"],[0.7777777777777778,\"#fb9f3a\"],[0.8888888888888888,\"#fdca26\"],[1.0,\"#f0f921\"]]}],\"surface\":[{\"type\":\"surface\",\"colorbar\":{\"outlinewidth\":0,\"ticks\":\"\"},\"colorscale\":[[0.0,\"#0d0887\"],[0.1111111111111111,\"#46039f\"],[0.2222222222222222,\"#7201a8\"],[0.3333333333333333,\"#9c179e\"],[0.4444444444444444,\"#bd3786\"],[0.5555555555555556,\"#d8576b\"],[0.6666666666666666,\"#ed7953\"],[0.7777777777777778,\"#fb9f3a\"],[0.8888888888888888,\"#fdca26\"],[1.0,\"#f0f921\"]]}],\"mesh3d\":[{\"type\":\"mesh3d\",\"colorbar\":{\"outlinewidth\":0,\"ticks\":\"\"}}],\"scatter\":[{\"fillpattern\":{\"fillmode\":\"overlay\",\"size\":10,\"solidity\":0.2},\"type\":\"scatter\"}],\"parcoords\":[{\"type\":\"parcoords\",\"line\":{\"colorbar\":{\"outlinewidth\":0,\"ticks\":\"\"}}}],\"scatterpolargl\":[{\"type\":\"scatterpolargl\",\"marker\":{\"colorbar\":{\"outlinewidth\":0,\"ticks\":\"\"}}}],\"bar\":[{\"error_x\":{\"color\":\"#2a3f5f\"},\"error_y\":{\"color\":\"#2a3f5f\"},\"marker\":{\"line\":{\"color\":\"#E5ECF6\",\"width\":0.5},\"pattern\":{\"fillmode\":\"overlay\",\"size\":10,\"solidity\":0.2}},\"type\":\"bar\"}],\"scattergeo\":[{\"type\":\"scattergeo\",\"marker\":{\"colorbar\":{\"outlinewidth\":0,\"ticks\":\"\"}}}],\"scatterpolar\":[{\"type\":\"scatterpolar\",\"marker\":{\"colorbar\":{\"outlinewidth\":0,\"ticks\":\"\"}}}],\"histogram\":[{\"marker\":{\"pattern\":{\"fillmode\":\"overlay\",\"size\":10,\"solidity\":0.2}},\"type\":\"histogram\"}],\"scattergl\":[{\"type\":\"scattergl\",\"marker\":{\"colorbar\":{\"outlinewidth\":0,\"ticks\":\"\"}}}],\"scatter3d\":[{\"type\":\"scatter3d\",\"line\":{\"colorbar\":{\"outlinewidth\":0,\"ticks\":\"\"}},\"marker\":{\"colorbar\":{\"outlinewidth\":0,\"ticks\":\"\"}}}],\"scattermapbox\":[{\"type\":\"scattermapbox\",\"marker\":{\"colorbar\":{\"outlinewidth\":0,\"ticks\":\"\"}}}],\"scatterternary\":[{\"type\":\"scatterternary\",\"marker\":{\"colorbar\":{\"outlinewidth\":0,\"ticks\":\"\"}}}],\"scattercarpet\":[{\"type\":\"scattercarpet\",\"marker\":{\"colorbar\":{\"outlinewidth\":0,\"ticks\":\"\"}}}],\"carpet\":[{\"aaxis\":{\"endlinecolor\":\"#2a3f5f\",\"gridcolor\":\"white\",\"linecolor\":\"white\",\"minorgridcolor\":\"white\",\"startlinecolor\":\"#2a3f5f\"},\"baxis\":{\"endlinecolor\":\"#2a3f5f\",\"gridcolor\":\"white\",\"linecolor\":\"white\",\"minorgridcolor\":\"white\",\"startlinecolor\":\"#2a3f5f\"},\"type\":\"carpet\"}],\"table\":[{\"cells\":{\"fill\":{\"color\":\"#EBF0F8\"},\"line\":{\"color\":\"white\"}},\"header\":{\"fill\":{\"color\":\"#C8D4E3\"},\"line\":{\"color\":\"white\"}},\"type\":\"table\"}],\"barpolar\":[{\"marker\":{\"line\":{\"color\":\"#E5ECF6\",\"width\":0.5},\"pattern\":{\"fillmode\":\"overlay\",\"size\":10,\"solidity\":0.2}},\"type\":\"barpolar\"}],\"pie\":[{\"automargin\":true,\"type\":\"pie\"}]},\"layout\":{\"autotypenumbers\":\"strict\",\"colorway\":[\"#636efa\",\"#EF553B\",\"#00cc96\",\"#ab63fa\",\"#FFA15A\",\"#19d3f3\",\"#FF6692\",\"#B6E880\",\"#FF97FF\",\"#FECB52\"],\"font\":{\"color\":\"#2a3f5f\"},\"hovermode\":\"closest\",\"hoverlabel\":{\"align\":\"left\"},\"paper_bgcolor\":\"white\",\"plot_bgcolor\":\"#E5ECF6\",\"polar\":{\"bgcolor\":\"#E5ECF6\",\"angularaxis\":{\"gridcolor\":\"white\",\"linecolor\":\"white\",\"ticks\":\"\"},\"radialaxis\":{\"gridcolor\":\"white\",\"linecolor\":\"white\",\"ticks\":\"\"}},\"ternary\":{\"bgcolor\":\"#E5ECF6\",\"aaxis\":{\"gridcolor\":\"white\",\"linecolor\":\"white\",\"ticks\":\"\"},\"baxis\":{\"gridcolor\":\"white\",\"linecolor\":\"white\",\"ticks\":\"\"},\"caxis\":{\"gridcolor\":\"white\",\"linecolor\":\"white\",\"ticks\":\"\"}},\"coloraxis\":{\"colorbar\":{\"outlinewidth\":0,\"ticks\":\"\"}},\"colorscale\":{\"sequential\":[[0.0,\"#0d0887\"],[0.1111111111111111,\"#46039f\"],[0.2222222222222222,\"#7201a8\"],[0.3333333333333333,\"#9c179e\"],[0.4444444444444444,\"#bd3786\"],[0.5555555555555556,\"#d8576b\"],[0.6666666666666666,\"#ed7953\"],[0.7777777777777778,\"#fb9f3a\"],[0.8888888888888888,\"#fdca26\"],[1.0,\"#f0f921\"]],\"sequentialminus\":[[0.0,\"#0d0887\"],[0.1111111111111111,\"#46039f\"],[0.2222222222222222,\"#7201a8\"],[0.3333333333333333,\"#9c179e\"],[0.4444444444444444,\"#bd3786\"],[0.5555555555555556,\"#d8576b\"],[0.6666666666666666,\"#ed7953\"],[0.7777777777777778,\"#fb9f3a\"],[0.8888888888888888,\"#fdca26\"],[1.0,\"#f0f921\"]],\"diverging\":[[0,\"#8e0152\"],[0.1,\"#c51b7d\"],[0.2,\"#de77ae\"],[0.3,\"#f1b6da\"],[0.4,\"#fde0ef\"],[0.5,\"#f7f7f7\"],[0.6,\"#e6f5d0\"],[0.7,\"#b8e186\"],[0.8,\"#7fbc41\"],[0.9,\"#4d9221\"],[1,\"#276419\"]]},\"xaxis\":{\"gridcolor\":\"white\",\"linecolor\":\"white\",\"ticks\":\"\",\"title\":{\"standoff\":15},\"zerolinecolor\":\"white\",\"automargin\":true,\"zerolinewidth\":2},\"yaxis\":{\"gridcolor\":\"white\",\"linecolor\":\"white\",\"ticks\":\"\",\"title\":{\"standoff\":15},\"zerolinecolor\":\"white\",\"automargin\":true,\"zerolinewidth\":2},\"scene\":{\"xaxis\":{\"backgroundcolor\":\"#E5ECF6\",\"gridcolor\":\"white\",\"linecolor\":\"white\",\"showbackground\":true,\"ticks\":\"\",\"zerolinecolor\":\"white\",\"gridwidth\":2},\"yaxis\":{\"backgroundcolor\":\"#E5ECF6\",\"gridcolor\":\"white\",\"linecolor\":\"white\",\"showbackground\":true,\"ticks\":\"\",\"zerolinecolor\":\"white\",\"gridwidth\":2},\"zaxis\":{\"backgroundcolor\":\"#E5ECF6\",\"gridcolor\":\"white\",\"linecolor\":\"white\",\"showbackground\":true,\"ticks\":\"\",\"zerolinecolor\":\"white\",\"gridwidth\":2}},\"shapedefaults\":{\"line\":{\"color\":\"#2a3f5f\"}},\"annotationdefaults\":{\"arrowcolor\":\"#2a3f5f\",\"arrowhead\":0,\"arrowwidth\":1},\"geo\":{\"bgcolor\":\"white\",\"landcolor\":\"#E5ECF6\",\"subunitcolor\":\"white\",\"showland\":true,\"showlakes\":true,\"lakecolor\":\"white\"},\"title\":{\"x\":0.05},\"mapbox\":{\"style\":\"light\"}}},\"xaxis\":{\"anchor\":\"y\",\"domain\":[0.0,1.0],\"title\":{\"text\":\"Age\"}},\"yaxis\":{\"anchor\":\"x\",\"domain\":[0.0,1.0],\"title\":{\"text\":\"BMI\"}},\"legend\":{\"title\":{\"text\":\"Outcome\"},\"tracegroupgap\":0},\"margin\":{\"t\":60}},                        {\"responsive\": true}                    ).then(function(){\n",
              "                            \n",
              "var gd = document.getElementById('463f6cc8-7a16-4f3a-b80d-3159731158a6');\n",
              "var x = new MutationObserver(function (mutations, observer) {{\n",
              "        var display = window.getComputedStyle(gd).display;\n",
              "        if (!display || display === 'none') {{\n",
              "            console.log([gd, 'removed!']);\n",
              "            Plotly.purge(gd);\n",
              "            observer.disconnect();\n",
              "        }}\n",
              "}});\n",
              "\n",
              "// Listen for the removal of the full notebook cells\n",
              "var notebookContainer = gd.closest('#notebook-container');\n",
              "if (notebookContainer) {{\n",
              "    x.observe(notebookContainer, {childList: true});\n",
              "}}\n",
              "\n",
              "// Listen for the clearing of the current output cell\n",
              "var outputEl = gd.closest('.output');\n",
              "if (outputEl) {{\n",
              "    x.observe(outputEl, {childList: true});\n",
              "}}\n",
              "\n",
              "                        })                };                            </script>        </div>\n",
              "</body>\n",
              "</html>"
            ]
          },
          "metadata": {}
        }
      ]
    },
    {
      "cell_type": "code",
      "source": [
        "df_diabetes.columns"
      ],
      "metadata": {
        "colab": {
          "base_uri": "https://localhost:8080/"
        },
        "id": "IuVpKZ6xeEUX",
        "outputId": "fa67579f-bd01-4a24-d911-1c4e0f31ec25"
      },
      "execution_count": 452,
      "outputs": [
        {
          "output_type": "execute_result",
          "data": {
            "text/plain": [
              "Index(['Pregnancies', 'Glucose', 'BloodPressure', 'SkinThickness', 'Insulin',\n",
              "       'BMI', 'DiabetesPedigreeFunction', 'Age', 'Outcome'],\n",
              "      dtype='object')"
            ]
          },
          "metadata": {},
          "execution_count": 452
        }
      ]
    },
    {
      "cell_type": "code",
      "source": [
        "ax = px.box(df_diabetes.iloc[:,1:-1],template= \"plotly_dark\")\n",
        "ax.show()"
      ],
      "metadata": {
        "colab": {
          "base_uri": "https://localhost:8080/",
          "height": 542
        },
        "id": "ubpmsH3Qe1Yh",
        "outputId": "4041ba76-e165-4214-acd3-a5a98ca2203b"
      },
      "execution_count": 453,
      "outputs": [
        {
          "output_type": "display_data",
          "data": {
            "text/html": [
              "<html>\n",
              "<head><meta charset=\"utf-8\" /></head>\n",
              "<body>\n",
              "    <div>            <script src=\"https://cdnjs.cloudflare.com/ajax/libs/mathjax/2.7.5/MathJax.js?config=TeX-AMS-MML_SVG\"></script><script type=\"text/javascript\">if (window.MathJax && window.MathJax.Hub && window.MathJax.Hub.Config) {window.MathJax.Hub.Config({SVG: {font: \"STIX-Web\"}});}</script>                <script type=\"text/javascript\">window.PlotlyConfig = {MathJaxConfig: 'local'};</script>\n",
              "        <script src=\"https://cdn.plot.ly/plotly-2.18.0.min.js\"></script>                <div id=\"8bdb4618-22fc-4046-a035-eaa1f94096cb\" class=\"plotly-graph-div\" style=\"height:525px; width:100%;\"></div>            <script type=\"text/javascript\">                                    window.PLOTLYENV=window.PLOTLYENV || {};                                    if (document.getElementById(\"8bdb4618-22fc-4046-a035-eaa1f94096cb\")) {                    Plotly.newPlot(                        \"8bdb4618-22fc-4046-a035-eaa1f94096cb\",                        [{\"alignmentgroup\":\"True\",\"hovertemplate\":\"variable=%{x}<br>value=%{y}<extra></extra>\",\"legendgroup\":\"\",\"marker\":{\"color\":\"#636efa\"},\"name\":\"\",\"notched\":false,\"offsetgroup\":\"\",\"orientation\":\"v\",\"showlegend\":false,\"x\":[\"Glucose\",\"Glucose\",\"Glucose\",\"Glucose\",\"Glucose\",\"Glucose\",\"Glucose\",\"Glucose\",\"Glucose\",\"Glucose\",\"Glucose\",\"Glucose\",\"Glucose\",\"Glucose\",\"Glucose\",\"Glucose\",\"Glucose\",\"Glucose\",\"Glucose\",\"Glucose\",\"Glucose\",\"Glucose\",\"Glucose\",\"Glucose\",\"Glucose\",\"Glucose\",\"Glucose\",\"Glucose\",\"Glucose\",\"Glucose\",\"Glucose\",\"Glucose\",\"Glucose\",\"Glucose\",\"Glucose\",\"Glucose\",\"Glucose\",\"Glucose\",\"Glucose\",\"Glucose\",\"Glucose\",\"Glucose\",\"Glucose\",\"Glucose\",\"Glucose\",\"Glucose\",\"Glucose\",\"Glucose\",\"Glucose\",\"Glucose\",\"Glucose\",\"Glucose\",\"Glucose\",\"Glucose\",\"Glucose\",\"Glucose\",\"Glucose\",\"Glucose\",\"Glucose\",\"Glucose\",\"Glucose\",\"Glucose\",\"Glucose\",\"Glucose\",\"Glucose\",\"Glucose\",\"Glucose\",\"Glucose\",\"Glucose\",\"Glucose\",\"Glucose\",\"Glucose\",\"Glucose\",\"Glucose\",\"Glucose\",\"Glucose\",\"Glucose\",\"Glucose\",\"Glucose\",\"Glucose\",\"Glucose\",\"Glucose\",\"Glucose\",\"Glucose\",\"Glucose\",\"Glucose\",\"Glucose\",\"Glucose\",\"Glucose\",\"Glucose\",\"Glucose\",\"Glucose\",\"Glucose\",\"Glucose\",\"Glucose\",\"Glucose\",\"Glucose\",\"Glucose\",\"Glucose\",\"Glucose\",\"Glucose\",\"Glucose\",\"Glucose\",\"Glucose\",\"Glucose\",\"Glucose\",\"Glucose\",\"Glucose\",\"Glucose\",\"Glucose\",\"Glucose\",\"Glucose\",\"Glucose\",\"Glucose\",\"Glucose\",\"Glucose\",\"Glucose\",\"Glucose\",\"Glucose\",\"Glucose\",\"Glucose\",\"Glucose\",\"Glucose\",\"Glucose\",\"Glucose\",\"Glucose\",\"Glucose\",\"Glucose\",\"Glucose\",\"Glucose\",\"Glucose\",\"Glucose\",\"Glucose\",\"Glucose\",\"Glucose\",\"Glucose\",\"Glucose\",\"Glucose\",\"Glucose\",\"Glucose\",\"Glucose\",\"Glucose\",\"Glucose\",\"Glucose\",\"Glucose\",\"Glucose\",\"Glucose\",\"Glucose\",\"Glucose\",\"Glucose\",\"Glucose\",\"Glucose\",\"Glucose\",\"Glucose\",\"Glucose\",\"Glucose\",\"Glucose\",\"Glucose\",\"Glucose\",\"Glucose\",\"Glucose\",\"Glucose\",\"Glucose\",\"Glucose\",\"Glucose\",\"Glucose\",\"Glucose\",\"Glucose\",\"Glucose\",\"Glucose\",\"Glucose\",\"Glucose\",\"Glucose\",\"Glucose\",\"Glucose\",\"Glucose\",\"Glucose\",\"Glucose\",\"Glucose\",\"Glucose\",\"Glucose\",\"Glucose\",\"Glucose\",\"Glucose\",\"Glucose\",\"Glucose\",\"Glucose\",\"Glucose\",\"Glucose\",\"Glucose\",\"Glucose\",\"Glucose\",\"Glucose\",\"Glucose\",\"Glucose\",\"Glucose\",\"Glucose\",\"Glucose\",\"Glucose\",\"Glucose\",\"Glucose\",\"Glucose\",\"Glucose\",\"Glucose\",\"Glucose\",\"Glucose\",\"Glucose\",\"Glucose\",\"Glucose\",\"Glucose\",\"Glucose\",\"Glucose\",\"Glucose\",\"Glucose\",\"Glucose\",\"Glucose\",\"Glucose\",\"Glucose\",\"Glucose\",\"Glucose\",\"Glucose\",\"Glucose\",\"Glucose\",\"Glucose\",\"Glucose\",\"Glucose\",\"Glucose\",\"Glucose\",\"Glucose\",\"Glucose\",\"Glucose\",\"Glucose\",\"Glucose\",\"Glucose\",\"Glucose\",\"Glucose\",\"Glucose\",\"Glucose\",\"Glucose\",\"Glucose\",\"Glucose\",\"Glucose\",\"Glucose\",\"Glucose\",\"Glucose\",\"Glucose\",\"Glucose\",\"Glucose\",\"Glucose\",\"Glucose\",\"Glucose\",\"Glucose\",\"Glucose\",\"Glucose\",\"Glucose\",\"Glucose\",\"Glucose\",\"Glucose\",\"Glucose\",\"Glucose\",\"Glucose\",\"Glucose\",\"Glucose\",\"Glucose\",\"Glucose\",\"Glucose\",\"Glucose\",\"Glucose\",\"Glucose\",\"Glucose\",\"Glucose\",\"Glucose\",\"Glucose\",\"Glucose\",\"Glucose\",\"Glucose\",\"Glucose\",\"Glucose\",\"Glucose\",\"Glucose\",\"Glucose\",\"Glucose\",\"Glucose\",\"Glucose\",\"Glucose\",\"Glucose\",\"Glucose\",\"Glucose\",\"Glucose\",\"Glucose\",\"Glucose\",\"Glucose\",\"Glucose\",\"Glucose\",\"Glucose\",\"Glucose\",\"Glucose\",\"Glucose\",\"Glucose\",\"Glucose\",\"Glucose\",\"Glucose\",\"Glucose\",\"Glucose\",\"Glucose\",\"Glucose\",\"Glucose\",\"Glucose\",\"Glucose\",\"Glucose\",\"Glucose\",\"Glucose\",\"Glucose\",\"Glucose\",\"Glucose\",\"Glucose\",\"Glucose\",\"Glucose\",\"Glucose\",\"Glucose\",\"Glucose\",\"Glucose\",\"Glucose\",\"Glucose\",\"Glucose\",\"Glucose\",\"Glucose\",\"Glucose\",\"Glucose\",\"Glucose\",\"Glucose\",\"Glucose\",\"Glucose\",\"Glucose\",\"Glucose\",\"Glucose\",\"Glucose\",\"Glucose\",\"Glucose\",\"Glucose\",\"Glucose\",\"Glucose\",\"Glucose\",\"Glucose\",\"Glucose\",\"Glucose\",\"Glucose\",\"Glucose\",\"Glucose\",\"Glucose\",\"Glucose\",\"Glucose\",\"Glucose\",\"Glucose\",\"Glucose\",\"Glucose\",\"Glucose\",\"Glucose\",\"Glucose\",\"Glucose\",\"Glucose\",\"Glucose\",\"Glucose\",\"Glucose\",\"Glucose\",\"Glucose\",\"Glucose\",\"Glucose\",\"Glucose\",\"Glucose\",\"Glucose\",\"Glucose\",\"Glucose\",\"Glucose\",\"Glucose\",\"Glucose\",\"Glucose\",\"Glucose\",\"Glucose\",\"Glucose\",\"Glucose\",\"Glucose\",\"Glucose\",\"Glucose\",\"Glucose\",\"Glucose\",\"Glucose\",\"Glucose\",\"Glucose\",\"Glucose\",\"Glucose\",\"Glucose\",\"Glucose\",\"Glucose\",\"Glucose\",\"Glucose\",\"Glucose\",\"Glucose\",\"Glucose\",\"Glucose\",\"Glucose\",\"Glucose\",\"Glucose\",\"Glucose\",\"Glucose\",\"Glucose\",\"Glucose\",\"Glucose\",\"Glucose\",\"Glucose\",\"Glucose\",\"Glucose\",\"Glucose\",\"Glucose\",\"Glucose\",\"Glucose\",\"Glucose\",\"Glucose\",\"Glucose\",\"Glucose\",\"Glucose\",\"Glucose\",\"Glucose\",\"Glucose\",\"Glucose\",\"Glucose\",\"Glucose\",\"Glucose\",\"Glucose\",\"Glucose\",\"Glucose\",\"Glucose\",\"Glucose\",\"Glucose\",\"Glucose\",\"Glucose\",\"Glucose\",\"Glucose\",\"Glucose\",\"Glucose\",\"Glucose\",\"Glucose\",\"Glucose\",\"Glucose\",\"Glucose\",\"Glucose\",\"Glucose\",\"Glucose\",\"Glucose\",\"Glucose\",\"Glucose\",\"Glucose\",\"Glucose\",\"Glucose\",\"Glucose\",\"Glucose\",\"Glucose\",\"Glucose\",\"Glucose\",\"Glucose\",\"Glucose\",\"Glucose\",\"Glucose\",\"Glucose\",\"Glucose\",\"Glucose\",\"Glucose\",\"Glucose\",\"Glucose\",\"Glucose\",\"Glucose\",\"Glucose\",\"Glucose\",\"Glucose\",\"Glucose\",\"Glucose\",\"Glucose\",\"Glucose\",\"Glucose\",\"Glucose\",\"Glucose\",\"Glucose\",\"Glucose\",\"Glucose\",\"Glucose\",\"Glucose\",\"Glucose\",\"Glucose\",\"Glucose\",\"Glucose\",\"Glucose\",\"Glucose\",\"Glucose\",\"Glucose\",\"Glucose\",\"Glucose\",\"Glucose\",\"Glucose\",\"Glucose\",\"Glucose\",\"Glucose\",\"Glucose\",\"Glucose\",\"Glucose\",\"Glucose\",\"Glucose\",\"Glucose\",\"Glucose\",\"Glucose\",\"Glucose\",\"Glucose\",\"Glucose\",\"Glucose\",\"Glucose\",\"Glucose\",\"Glucose\",\"Glucose\",\"Glucose\",\"Glucose\",\"Glucose\",\"Glucose\",\"Glucose\",\"Glucose\",\"Glucose\",\"Glucose\",\"Glucose\",\"Glucose\",\"Glucose\",\"Glucose\",\"Glucose\",\"Glucose\",\"Glucose\",\"Glucose\",\"Glucose\",\"Glucose\",\"Glucose\",\"Glucose\",\"Glucose\",\"Glucose\",\"Glucose\",\"Glucose\",\"Glucose\",\"Glucose\",\"Glucose\",\"Glucose\",\"Glucose\",\"Glucose\",\"Glucose\",\"Glucose\",\"Glucose\",\"Glucose\",\"Glucose\",\"Glucose\",\"Glucose\",\"Glucose\",\"Glucose\",\"Glucose\",\"Glucose\",\"Glucose\",\"Glucose\",\"Glucose\",\"Glucose\",\"Glucose\",\"Glucose\",\"Glucose\",\"Glucose\",\"Glucose\",\"Glucose\",\"Glucose\",\"Glucose\",\"Glucose\",\"Glucose\",\"Glucose\",\"Glucose\",\"Glucose\",\"Glucose\",\"Glucose\",\"Glucose\",\"Glucose\",\"Glucose\",\"Glucose\",\"Glucose\",\"Glucose\",\"Glucose\",\"Glucose\",\"Glucose\",\"Glucose\",\"Glucose\",\"Glucose\",\"Glucose\",\"Glucose\",\"Glucose\",\"Glucose\",\"Glucose\",\"Glucose\",\"Glucose\",\"Glucose\",\"Glucose\",\"Glucose\",\"Glucose\",\"Glucose\",\"Glucose\",\"Glucose\",\"Glucose\",\"Glucose\",\"Glucose\",\"Glucose\",\"Glucose\",\"Glucose\",\"Glucose\",\"Glucose\",\"Glucose\",\"Glucose\",\"Glucose\",\"Glucose\",\"Glucose\",\"Glucose\",\"Glucose\",\"Glucose\",\"Glucose\",\"Glucose\",\"Glucose\",\"Glucose\",\"Glucose\",\"Glucose\",\"Glucose\",\"Glucose\",\"Glucose\",\"Glucose\",\"Glucose\",\"Glucose\",\"Glucose\",\"Glucose\",\"Glucose\",\"Glucose\",\"Glucose\",\"Glucose\",\"Glucose\",\"Glucose\",\"Glucose\",\"Glucose\",\"Glucose\",\"Glucose\",\"Glucose\",\"Glucose\",\"Glucose\",\"Glucose\",\"Glucose\",\"Glucose\",\"Glucose\",\"Glucose\",\"Glucose\",\"Glucose\",\"Glucose\",\"Glucose\",\"Glucose\",\"Glucose\",\"Glucose\",\"Glucose\",\"Glucose\",\"Glucose\",\"Glucose\",\"Glucose\",\"Glucose\",\"Glucose\",\"Glucose\",\"Glucose\",\"Glucose\",\"Glucose\",\"Glucose\",\"Glucose\",\"Glucose\",\"Glucose\",\"Glucose\",\"Glucose\",\"Glucose\",\"Glucose\",\"Glucose\",\"Glucose\",\"Glucose\",\"Glucose\",\"Glucose\",\"Glucose\",\"Glucose\",\"Glucose\",\"Glucose\",\"Glucose\",\"Glucose\",\"Glucose\",\"Glucose\",\"Glucose\",\"Glucose\",\"Glucose\",\"Glucose\",\"Glucose\",\"Glucose\",\"Glucose\",\"Glucose\",\"Glucose\",\"Glucose\",\"Glucose\",\"Glucose\",\"Glucose\",\"Glucose\",\"Glucose\",\"Glucose\",\"Glucose\",\"Glucose\",\"Glucose\",\"Glucose\",\"Glucose\",\"Glucose\",\"Glucose\",\"Glucose\",\"Glucose\",\"Glucose\",\"Glucose\",\"Glucose\",\"Glucose\",\"Glucose\",\"Glucose\",\"Glucose\",\"Glucose\",\"Glucose\",\"Glucose\",\"Glucose\",\"Glucose\",\"Glucose\",\"Glucose\",\"Glucose\",\"Glucose\",\"Glucose\",\"Glucose\",\"Glucose\",\"Glucose\",\"Glucose\",\"Glucose\",\"Glucose\",\"Glucose\",\"Glucose\",\"Glucose\",\"Glucose\",\"Glucose\",\"Glucose\",\"Glucose\",\"Glucose\",\"Glucose\",\"Glucose\",\"Glucose\",\"Glucose\",\"Glucose\",\"Glucose\",\"Glucose\",\"Glucose\",\"Glucose\",\"Glucose\",\"Glucose\",\"Glucose\",\"Glucose\",\"Glucose\",\"Glucose\",\"Glucose\",\"Glucose\",\"Glucose\",\"Glucose\",\"Glucose\",\"Glucose\",\"Glucose\",\"BloodPressure\",\"BloodPressure\",\"BloodPressure\",\"BloodPressure\",\"BloodPressure\",\"BloodPressure\",\"BloodPressure\",\"BloodPressure\",\"BloodPressure\",\"BloodPressure\",\"BloodPressure\",\"BloodPressure\",\"BloodPressure\",\"BloodPressure\",\"BloodPressure\",\"BloodPressure\",\"BloodPressure\",\"BloodPressure\",\"BloodPressure\",\"BloodPressure\",\"BloodPressure\",\"BloodPressure\",\"BloodPressure\",\"BloodPressure\",\"BloodPressure\",\"BloodPressure\",\"BloodPressure\",\"BloodPressure\",\"BloodPressure\",\"BloodPressure\",\"BloodPressure\",\"BloodPressure\",\"BloodPressure\",\"BloodPressure\",\"BloodPressure\",\"BloodPressure\",\"BloodPressure\",\"BloodPressure\",\"BloodPressure\",\"BloodPressure\",\"BloodPressure\",\"BloodPressure\",\"BloodPressure\",\"BloodPressure\",\"BloodPressure\",\"BloodPressure\",\"BloodPressure\",\"BloodPressure\",\"BloodPressure\",\"BloodPressure\",\"BloodPressure\",\"BloodPressure\",\"BloodPressure\",\"BloodPressure\",\"BloodPressure\",\"BloodPressure\",\"BloodPressure\",\"BloodPressure\",\"BloodPressure\",\"BloodPressure\",\"BloodPressure\",\"BloodPressure\",\"BloodPressure\",\"BloodPressure\",\"BloodPressure\",\"BloodPressure\",\"BloodPressure\",\"BloodPressure\",\"BloodPressure\",\"BloodPressure\",\"BloodPressure\",\"BloodPressure\",\"BloodPressure\",\"BloodPressure\",\"BloodPressure\",\"BloodPressure\",\"BloodPressure\",\"BloodPressure\",\"BloodPressure\",\"BloodPressure\",\"BloodPressure\",\"BloodPressure\",\"BloodPressure\",\"BloodPressure\",\"BloodPressure\",\"BloodPressure\",\"BloodPressure\",\"BloodPressure\",\"BloodPressure\",\"BloodPressure\",\"BloodPressure\",\"BloodPressure\",\"BloodPressure\",\"BloodPressure\",\"BloodPressure\",\"BloodPressure\",\"BloodPressure\",\"BloodPressure\",\"BloodPressure\",\"BloodPressure\",\"BloodPressure\",\"BloodPressure\",\"BloodPressure\",\"BloodPressure\",\"BloodPressure\",\"BloodPressure\",\"BloodPressure\",\"BloodPressure\",\"BloodPressure\",\"BloodPressure\",\"BloodPressure\",\"BloodPressure\",\"BloodPressure\",\"BloodPressure\",\"BloodPressure\",\"BloodPressure\",\"BloodPressure\",\"BloodPressure\",\"BloodPressure\",\"BloodPressure\",\"BloodPressure\",\"BloodPressure\",\"BloodPressure\",\"BloodPressure\",\"BloodPressure\",\"BloodPressure\",\"BloodPressure\",\"BloodPressure\",\"BloodPressure\",\"BloodPressure\",\"BloodPressure\",\"BloodPressure\",\"BloodPressure\",\"BloodPressure\",\"BloodPressure\",\"BloodPressure\",\"BloodPressure\",\"BloodPressure\",\"BloodPressure\",\"BloodPressure\",\"BloodPressure\",\"BloodPressure\",\"BloodPressure\",\"BloodPressure\",\"BloodPressure\",\"BloodPressure\",\"BloodPressure\",\"BloodPressure\",\"BloodPressure\",\"BloodPressure\",\"BloodPressure\",\"BloodPressure\",\"BloodPressure\",\"BloodPressure\",\"BloodPressure\",\"BloodPressure\",\"BloodPressure\",\"BloodPressure\",\"BloodPressure\",\"BloodPressure\",\"BloodPressure\",\"BloodPressure\",\"BloodPressure\",\"BloodPressure\",\"BloodPressure\",\"BloodPressure\",\"BloodPressure\",\"BloodPressure\",\"BloodPressure\",\"BloodPressure\",\"BloodPressure\",\"BloodPressure\",\"BloodPressure\",\"BloodPressure\",\"BloodPressure\",\"BloodPressure\",\"BloodPressure\",\"BloodPressure\",\"BloodPressure\",\"BloodPressure\",\"BloodPressure\",\"BloodPressure\",\"BloodPressure\",\"BloodPressure\",\"BloodPressure\",\"BloodPressure\",\"BloodPressure\",\"BloodPressure\",\"BloodPressure\",\"BloodPressure\",\"BloodPressure\",\"BloodPressure\",\"BloodPressure\",\"BloodPressure\",\"BloodPressure\",\"BloodPressure\",\"BloodPressure\",\"BloodPressure\",\"BloodPressure\",\"BloodPressure\",\"BloodPressure\",\"BloodPressure\",\"BloodPressure\",\"BloodPressure\",\"BloodPressure\",\"BloodPressure\",\"BloodPressure\",\"BloodPressure\",\"BloodPressure\",\"BloodPressure\",\"BloodPressure\",\"BloodPressure\",\"BloodPressure\",\"BloodPressure\",\"BloodPressure\",\"BloodPressure\",\"BloodPressure\",\"BloodPressure\",\"BloodPressure\",\"BloodPressure\",\"BloodPressure\",\"BloodPressure\",\"BloodPressure\",\"BloodPressure\",\"BloodPressure\",\"BloodPressure\",\"BloodPressure\",\"BloodPressure\",\"BloodPressure\",\"BloodPressure\",\"BloodPressure\",\"BloodPressure\",\"BloodPressure\",\"BloodPressure\",\"BloodPressure\",\"BloodPressure\",\"BloodPressure\",\"BloodPressure\",\"BloodPressure\",\"BloodPressure\",\"BloodPressure\",\"BloodPressure\",\"BloodPressure\",\"BloodPressure\",\"BloodPressure\",\"BloodPressure\",\"BloodPressure\",\"BloodPressure\",\"BloodPressure\",\"BloodPressure\",\"BloodPressure\",\"BloodPressure\",\"BloodPressure\",\"BloodPressure\",\"BloodPressure\",\"BloodPressure\",\"BloodPressure\",\"BloodPressure\",\"BloodPressure\",\"BloodPressure\",\"BloodPressure\",\"BloodPressure\",\"BloodPressure\",\"BloodPressure\",\"BloodPressure\",\"BloodPressure\",\"BloodPressure\",\"BloodPressure\",\"BloodPressure\",\"BloodPressure\",\"BloodPressure\",\"BloodPressure\",\"BloodPressure\",\"BloodPressure\",\"BloodPressure\",\"BloodPressure\",\"BloodPressure\",\"BloodPressure\",\"BloodPressure\",\"BloodPressure\",\"BloodPressure\",\"BloodPressure\",\"BloodPressure\",\"BloodPressure\",\"BloodPressure\",\"BloodPressure\",\"BloodPressure\",\"BloodPressure\",\"BloodPressure\",\"BloodPressure\",\"BloodPressure\",\"BloodPressure\",\"BloodPressure\",\"BloodPressure\",\"BloodPressure\",\"BloodPressure\",\"BloodPressure\",\"BloodPressure\",\"BloodPressure\",\"BloodPressure\",\"BloodPressure\",\"BloodPressure\",\"BloodPressure\",\"BloodPressure\",\"BloodPressure\",\"BloodPressure\",\"BloodPressure\",\"BloodPressure\",\"BloodPressure\",\"BloodPressure\",\"BloodPressure\",\"BloodPressure\",\"BloodPressure\",\"BloodPressure\",\"BloodPressure\",\"BloodPressure\",\"BloodPressure\",\"BloodPressure\",\"BloodPressure\",\"BloodPressure\",\"BloodPressure\",\"BloodPressure\",\"BloodPressure\",\"BloodPressure\",\"BloodPressure\",\"BloodPressure\",\"BloodPressure\",\"BloodPressure\",\"BloodPressure\",\"BloodPressure\",\"BloodPressure\",\"BloodPressure\",\"BloodPressure\",\"BloodPressure\",\"BloodPressure\",\"BloodPressure\",\"BloodPressure\",\"BloodPressure\",\"BloodPressure\",\"BloodPressure\",\"BloodPressure\",\"BloodPressure\",\"BloodPressure\",\"BloodPressure\",\"BloodPressure\",\"BloodPressure\",\"BloodPressure\",\"BloodPressure\",\"BloodPressure\",\"BloodPressure\",\"BloodPressure\",\"BloodPressure\",\"BloodPressure\",\"BloodPressure\",\"BloodPressure\",\"BloodPressure\",\"BloodPressure\",\"BloodPressure\",\"BloodPressure\",\"BloodPressure\",\"BloodPressure\",\"BloodPressure\",\"BloodPressure\",\"BloodPressure\",\"BloodPressure\",\"BloodPressure\",\"BloodPressure\",\"BloodPressure\",\"BloodPressure\",\"BloodPressure\",\"BloodPressure\",\"BloodPressure\",\"BloodPressure\",\"BloodPressure\",\"BloodPressure\",\"BloodPressure\",\"BloodPressure\",\"BloodPressure\",\"BloodPressure\",\"BloodPressure\",\"BloodPressure\",\"BloodPressure\",\"BloodPressure\",\"BloodPressure\",\"BloodPressure\",\"BloodPressure\",\"BloodPressure\",\"BloodPressure\",\"BloodPressure\",\"BloodPressure\",\"BloodPressure\",\"BloodPressure\",\"BloodPressure\",\"BloodPressure\",\"BloodPressure\",\"BloodPressure\",\"BloodPressure\",\"BloodPressure\",\"BloodPressure\",\"BloodPressure\",\"BloodPressure\",\"BloodPressure\",\"BloodPressure\",\"BloodPressure\",\"BloodPressure\",\"BloodPressure\",\"BloodPressure\",\"BloodPressure\",\"BloodPressure\",\"BloodPressure\",\"BloodPressure\",\"BloodPressure\",\"BloodPressure\",\"BloodPressure\",\"BloodPressure\",\"BloodPressure\",\"BloodPressure\",\"BloodPressure\",\"BloodPressure\",\"BloodPressure\",\"BloodPressure\",\"BloodPressure\",\"BloodPressure\",\"BloodPressure\",\"BloodPressure\",\"BloodPressure\",\"BloodPressure\",\"BloodPressure\",\"BloodPressure\",\"BloodPressure\",\"BloodPressure\",\"BloodPressure\",\"BloodPressure\",\"BloodPressure\",\"BloodPressure\",\"BloodPressure\",\"BloodPressure\",\"BloodPressure\",\"BloodPressure\",\"BloodPressure\",\"BloodPressure\",\"BloodPressure\",\"BloodPressure\",\"BloodPressure\",\"BloodPressure\",\"BloodPressure\",\"BloodPressure\",\"BloodPressure\",\"BloodPressure\",\"BloodPressure\",\"BloodPressure\",\"BloodPressure\",\"BloodPressure\",\"BloodPressure\",\"BloodPressure\",\"BloodPressure\",\"BloodPressure\",\"BloodPressure\",\"BloodPressure\",\"BloodPressure\",\"BloodPressure\",\"BloodPressure\",\"BloodPressure\",\"BloodPressure\",\"BloodPressure\",\"BloodPressure\",\"BloodPressure\",\"BloodPressure\",\"BloodPressure\",\"BloodPressure\",\"BloodPressure\",\"BloodPressure\",\"BloodPressure\",\"BloodPressure\",\"BloodPressure\",\"BloodPressure\",\"BloodPressure\",\"BloodPressure\",\"BloodPressure\",\"BloodPressure\",\"BloodPressure\",\"BloodPressure\",\"BloodPressure\",\"BloodPressure\",\"BloodPressure\",\"BloodPressure\",\"BloodPressure\",\"BloodPressure\",\"BloodPressure\",\"BloodPressure\",\"BloodPressure\",\"BloodPressure\",\"BloodPressure\",\"BloodPressure\",\"BloodPressure\",\"BloodPressure\",\"BloodPressure\",\"BloodPressure\",\"BloodPressure\",\"BloodPressure\",\"BloodPressure\",\"BloodPressure\",\"BloodPressure\",\"BloodPressure\",\"BloodPressure\",\"BloodPressure\",\"BloodPressure\",\"BloodPressure\",\"BloodPressure\",\"BloodPressure\",\"BloodPressure\",\"BloodPressure\",\"BloodPressure\",\"BloodPressure\",\"BloodPressure\",\"BloodPressure\",\"BloodPressure\",\"BloodPressure\",\"BloodPressure\",\"BloodPressure\",\"BloodPressure\",\"BloodPressure\",\"BloodPressure\",\"BloodPressure\",\"BloodPressure\",\"BloodPressure\",\"BloodPressure\",\"BloodPressure\",\"BloodPressure\",\"BloodPressure\",\"BloodPressure\",\"BloodPressure\",\"BloodPressure\",\"BloodPressure\",\"BloodPressure\",\"BloodPressure\",\"BloodPressure\",\"BloodPressure\",\"BloodPressure\",\"BloodPressure\",\"BloodPressure\",\"BloodPressure\",\"BloodPressure\",\"BloodPressure\",\"BloodPressure\",\"BloodPressure\",\"BloodPressure\",\"BloodPressure\",\"BloodPressure\",\"BloodPressure\",\"BloodPressure\",\"BloodPressure\",\"BloodPressure\",\"BloodPressure\",\"BloodPressure\",\"BloodPressure\",\"BloodPressure\",\"BloodPressure\",\"BloodPressure\",\"BloodPressure\",\"BloodPressure\",\"BloodPressure\",\"BloodPressure\",\"BloodPressure\",\"BloodPressure\",\"BloodPressure\",\"BloodPressure\",\"BloodPressure\",\"BloodPressure\",\"BloodPressure\",\"BloodPressure\",\"BloodPressure\",\"BloodPressure\",\"BloodPressure\",\"BloodPressure\",\"BloodPressure\",\"BloodPressure\",\"BloodPressure\",\"BloodPressure\",\"BloodPressure\",\"BloodPressure\",\"BloodPressure\",\"BloodPressure\",\"BloodPressure\",\"BloodPressure\",\"BloodPressure\",\"BloodPressure\",\"BloodPressure\",\"BloodPressure\",\"BloodPressure\",\"BloodPressure\",\"BloodPressure\",\"BloodPressure\",\"BloodPressure\",\"BloodPressure\",\"BloodPressure\",\"BloodPressure\",\"BloodPressure\",\"BloodPressure\",\"BloodPressure\",\"BloodPressure\",\"BloodPressure\",\"BloodPressure\",\"BloodPressure\",\"BloodPressure\",\"BloodPressure\",\"BloodPressure\",\"BloodPressure\",\"BloodPressure\",\"BloodPressure\",\"BloodPressure\",\"BloodPressure\",\"BloodPressure\",\"BloodPressure\",\"BloodPressure\",\"BloodPressure\",\"BloodPressure\",\"BloodPressure\",\"BloodPressure\",\"BloodPressure\",\"BloodPressure\",\"BloodPressure\",\"BloodPressure\",\"BloodPressure\",\"BloodPressure\",\"BloodPressure\",\"BloodPressure\",\"BloodPressure\",\"BloodPressure\",\"BloodPressure\",\"BloodPressure\",\"BloodPressure\",\"BloodPressure\",\"BloodPressure\",\"BloodPressure\",\"BloodPressure\",\"BloodPressure\",\"BloodPressure\",\"BloodPressure\",\"BloodPressure\",\"BloodPressure\",\"BloodPressure\",\"BloodPressure\",\"BloodPressure\",\"BloodPressure\",\"BloodPressure\",\"BloodPressure\",\"BloodPressure\",\"BloodPressure\",\"BloodPressure\",\"BloodPressure\",\"BloodPressure\",\"BloodPressure\",\"BloodPressure\",\"BloodPressure\",\"BloodPressure\",\"BloodPressure\",\"BloodPressure\",\"BloodPressure\",\"BloodPressure\",\"BloodPressure\",\"BloodPressure\",\"BloodPressure\",\"BloodPressure\",\"BloodPressure\",\"BloodPressure\",\"BloodPressure\",\"BloodPressure\",\"BloodPressure\",\"BloodPressure\",\"BloodPressure\",\"BloodPressure\",\"BloodPressure\",\"BloodPressure\",\"BloodPressure\",\"BloodPressure\",\"BloodPressure\",\"BloodPressure\",\"BloodPressure\",\"BloodPressure\",\"BloodPressure\",\"BloodPressure\",\"BloodPressure\",\"BloodPressure\",\"BloodPressure\",\"BloodPressure\",\"BloodPressure\",\"BloodPressure\",\"BloodPressure\",\"BloodPressure\",\"BloodPressure\",\"BloodPressure\",\"BloodPressure\",\"BloodPressure\",\"BloodPressure\",\"BloodPressure\",\"BloodPressure\",\"BloodPressure\",\"BloodPressure\",\"BloodPressure\",\"BloodPressure\",\"BloodPressure\",\"BloodPressure\",\"BloodPressure\",\"BloodPressure\",\"BloodPressure\",\"BloodPressure\",\"BloodPressure\",\"BloodPressure\",\"BloodPressure\",\"BloodPressure\",\"BloodPressure\",\"BloodPressure\",\"BloodPressure\",\"BloodPressure\",\"BloodPressure\",\"BloodPressure\",\"BloodPressure\",\"BloodPressure\",\"BloodPressure\",\"BloodPressure\",\"BloodPressure\",\"BloodPressure\",\"BloodPressure\",\"BloodPressure\",\"BloodPressure\",\"BloodPressure\",\"BloodPressure\",\"BloodPressure\",\"BloodPressure\",\"BloodPressure\",\"BloodPressure\",\"BloodPressure\",\"BloodPressure\",\"BloodPressure\",\"BloodPressure\",\"BloodPressure\",\"BloodPressure\",\"BloodPressure\",\"BloodPressure\",\"BloodPressure\",\"BloodPressure\",\"BloodPressure\",\"BloodPressure\",\"BloodPressure\",\"BloodPressure\",\"BloodPressure\",\"BloodPressure\",\"BloodPressure\",\"BloodPressure\",\"BloodPressure\",\"BloodPressure\",\"BloodPressure\",\"BloodPressure\",\"BloodPressure\",\"BloodPressure\",\"BloodPressure\",\"BloodPressure\",\"BloodPressure\",\"BloodPressure\",\"BloodPressure\",\"BloodPressure\",\"BloodPressure\",\"BloodPressure\",\"BloodPressure\",\"BloodPressure\",\"BloodPressure\",\"BloodPressure\",\"SkinThickness\",\"SkinThickness\",\"SkinThickness\",\"SkinThickness\",\"SkinThickness\",\"SkinThickness\",\"SkinThickness\",\"SkinThickness\",\"SkinThickness\",\"SkinThickness\",\"SkinThickness\",\"SkinThickness\",\"SkinThickness\",\"SkinThickness\",\"SkinThickness\",\"SkinThickness\",\"SkinThickness\",\"SkinThickness\",\"SkinThickness\",\"SkinThickness\",\"SkinThickness\",\"SkinThickness\",\"SkinThickness\",\"SkinThickness\",\"SkinThickness\",\"SkinThickness\",\"SkinThickness\",\"SkinThickness\",\"SkinThickness\",\"SkinThickness\",\"SkinThickness\",\"SkinThickness\",\"SkinThickness\",\"SkinThickness\",\"SkinThickness\",\"SkinThickness\",\"SkinThickness\",\"SkinThickness\",\"SkinThickness\",\"SkinThickness\",\"SkinThickness\",\"SkinThickness\",\"SkinThickness\",\"SkinThickness\",\"SkinThickness\",\"SkinThickness\",\"SkinThickness\",\"SkinThickness\",\"SkinThickness\",\"SkinThickness\",\"SkinThickness\",\"SkinThickness\",\"SkinThickness\",\"SkinThickness\",\"SkinThickness\",\"SkinThickness\",\"SkinThickness\",\"SkinThickness\",\"SkinThickness\",\"SkinThickness\",\"SkinThickness\",\"SkinThickness\",\"SkinThickness\",\"SkinThickness\",\"SkinThickness\",\"SkinThickness\",\"SkinThickness\",\"SkinThickness\",\"SkinThickness\",\"SkinThickness\",\"SkinThickness\",\"SkinThickness\",\"SkinThickness\",\"SkinThickness\",\"SkinThickness\",\"SkinThickness\",\"SkinThickness\",\"SkinThickness\",\"SkinThickness\",\"SkinThickness\",\"SkinThickness\",\"SkinThickness\",\"SkinThickness\",\"SkinThickness\",\"SkinThickness\",\"SkinThickness\",\"SkinThickness\",\"SkinThickness\",\"SkinThickness\",\"SkinThickness\",\"SkinThickness\",\"SkinThickness\",\"SkinThickness\",\"SkinThickness\",\"SkinThickness\",\"SkinThickness\",\"SkinThickness\",\"SkinThickness\",\"SkinThickness\",\"SkinThickness\",\"SkinThickness\",\"SkinThickness\",\"SkinThickness\",\"SkinThickness\",\"SkinThickness\",\"SkinThickness\",\"SkinThickness\",\"SkinThickness\",\"SkinThickness\",\"SkinThickness\",\"SkinThickness\",\"SkinThickness\",\"SkinThickness\",\"SkinThickness\",\"SkinThickness\",\"SkinThickness\",\"SkinThickness\",\"SkinThickness\",\"SkinThickness\",\"SkinThickness\",\"SkinThickness\",\"SkinThickness\",\"SkinThickness\",\"SkinThickness\",\"SkinThickness\",\"SkinThickness\",\"SkinThickness\",\"SkinThickness\",\"SkinThickness\",\"SkinThickness\",\"SkinThickness\",\"SkinThickness\",\"SkinThickness\",\"SkinThickness\",\"SkinThickness\",\"SkinThickness\",\"SkinThickness\",\"SkinThickness\",\"SkinThickness\",\"SkinThickness\",\"SkinThickness\",\"SkinThickness\",\"SkinThickness\",\"SkinThickness\",\"SkinThickness\",\"SkinThickness\",\"SkinThickness\",\"SkinThickness\",\"SkinThickness\",\"SkinThickness\",\"SkinThickness\",\"SkinThickness\",\"SkinThickness\",\"SkinThickness\",\"SkinThickness\",\"SkinThickness\",\"SkinThickness\",\"SkinThickness\",\"SkinThickness\",\"SkinThickness\",\"SkinThickness\",\"SkinThickness\",\"SkinThickness\",\"SkinThickness\",\"SkinThickness\",\"SkinThickness\",\"SkinThickness\",\"SkinThickness\",\"SkinThickness\",\"SkinThickness\",\"SkinThickness\",\"SkinThickness\",\"SkinThickness\",\"SkinThickness\",\"SkinThickness\",\"SkinThickness\",\"SkinThickness\",\"SkinThickness\",\"SkinThickness\",\"SkinThickness\",\"SkinThickness\",\"SkinThickness\",\"SkinThickness\",\"SkinThickness\",\"SkinThickness\",\"SkinThickness\",\"SkinThickness\",\"SkinThickness\",\"SkinThickness\",\"SkinThickness\",\"SkinThickness\",\"SkinThickness\",\"SkinThickness\",\"SkinThickness\",\"SkinThickness\",\"SkinThickness\",\"SkinThickness\",\"SkinThickness\",\"SkinThickness\",\"SkinThickness\",\"SkinThickness\",\"SkinThickness\",\"SkinThickness\",\"SkinThickness\",\"SkinThickness\",\"SkinThickness\",\"SkinThickness\",\"SkinThickness\",\"SkinThickness\",\"SkinThickness\",\"SkinThickness\",\"SkinThickness\",\"SkinThickness\",\"SkinThickness\",\"SkinThickness\",\"SkinThickness\",\"SkinThickness\",\"SkinThickness\",\"SkinThickness\",\"SkinThickness\",\"SkinThickness\",\"SkinThickness\",\"SkinThickness\",\"SkinThickness\",\"SkinThickness\",\"SkinThickness\",\"SkinThickness\",\"SkinThickness\",\"SkinThickness\",\"SkinThickness\",\"SkinThickness\",\"SkinThickness\",\"SkinThickness\",\"SkinThickness\",\"SkinThickness\",\"SkinThickness\",\"SkinThickness\",\"SkinThickness\",\"SkinThickness\",\"SkinThickness\",\"SkinThickness\",\"SkinThickness\",\"SkinThickness\",\"SkinThickness\",\"SkinThickness\",\"SkinThickness\",\"SkinThickness\",\"SkinThickness\",\"SkinThickness\",\"SkinThickness\",\"SkinThickness\",\"SkinThickness\",\"SkinThickness\",\"SkinThickness\",\"SkinThickness\",\"SkinThickness\",\"SkinThickness\",\"SkinThickness\",\"SkinThickness\",\"SkinThickness\",\"SkinThickness\",\"SkinThickness\",\"SkinThickness\",\"SkinThickness\",\"SkinThickness\",\"SkinThickness\",\"SkinThickness\",\"SkinThickness\",\"SkinThickness\",\"SkinThickness\",\"SkinThickness\",\"SkinThickness\",\"SkinThickness\",\"SkinThickness\",\"SkinThickness\",\"SkinThickness\",\"SkinThickness\",\"SkinThickness\",\"SkinThickness\",\"SkinThickness\",\"SkinThickness\",\"SkinThickness\",\"SkinThickness\",\"SkinThickness\",\"SkinThickness\",\"SkinThickness\",\"SkinThickness\",\"SkinThickness\",\"SkinThickness\",\"SkinThickness\",\"SkinThickness\",\"SkinThickness\",\"SkinThickness\",\"SkinThickness\",\"SkinThickness\",\"SkinThickness\",\"SkinThickness\",\"SkinThickness\",\"SkinThickness\",\"SkinThickness\",\"SkinThickness\",\"SkinThickness\",\"SkinThickness\",\"SkinThickness\",\"SkinThickness\",\"SkinThickness\",\"SkinThickness\",\"SkinThickness\",\"SkinThickness\",\"SkinThickness\",\"SkinThickness\",\"SkinThickness\",\"SkinThickness\",\"SkinThickness\",\"SkinThickness\",\"SkinThickness\",\"SkinThickness\",\"SkinThickness\",\"SkinThickness\",\"SkinThickness\",\"SkinThickness\",\"SkinThickness\",\"SkinThickness\",\"SkinThickness\",\"SkinThickness\",\"SkinThickness\",\"SkinThickness\",\"SkinThickness\",\"SkinThickness\",\"SkinThickness\",\"SkinThickness\",\"SkinThickness\",\"SkinThickness\",\"SkinThickness\",\"SkinThickness\",\"SkinThickness\",\"SkinThickness\",\"SkinThickness\",\"SkinThickness\",\"SkinThickness\",\"SkinThickness\",\"SkinThickness\",\"SkinThickness\",\"SkinThickness\",\"SkinThickness\",\"SkinThickness\",\"SkinThickness\",\"SkinThickness\",\"SkinThickness\",\"SkinThickness\",\"SkinThickness\",\"SkinThickness\",\"SkinThickness\",\"SkinThickness\",\"SkinThickness\",\"SkinThickness\",\"SkinThickness\",\"SkinThickness\",\"SkinThickness\",\"SkinThickness\",\"SkinThickness\",\"SkinThickness\",\"SkinThickness\",\"SkinThickness\",\"SkinThickness\",\"SkinThickness\",\"SkinThickness\",\"SkinThickness\",\"SkinThickness\",\"SkinThickness\",\"SkinThickness\",\"SkinThickness\",\"SkinThickness\",\"SkinThickness\",\"SkinThickness\",\"SkinThickness\",\"SkinThickness\",\"SkinThickness\",\"SkinThickness\",\"SkinThickness\",\"SkinThickness\",\"SkinThickness\",\"SkinThickness\",\"SkinThickness\",\"SkinThickness\",\"SkinThickness\",\"SkinThickness\",\"SkinThickness\",\"SkinThickness\",\"SkinThickness\",\"SkinThickness\",\"SkinThickness\",\"SkinThickness\",\"SkinThickness\",\"SkinThickness\",\"SkinThickness\",\"SkinThickness\",\"SkinThickness\",\"SkinThickness\",\"SkinThickness\",\"SkinThickness\",\"SkinThickness\",\"SkinThickness\",\"SkinThickness\",\"SkinThickness\",\"SkinThickness\",\"SkinThickness\",\"SkinThickness\",\"SkinThickness\",\"SkinThickness\",\"SkinThickness\",\"SkinThickness\",\"SkinThickness\",\"SkinThickness\",\"SkinThickness\",\"SkinThickness\",\"SkinThickness\",\"SkinThickness\",\"SkinThickness\",\"SkinThickness\",\"SkinThickness\",\"SkinThickness\",\"SkinThickness\",\"SkinThickness\",\"SkinThickness\",\"SkinThickness\",\"SkinThickness\",\"SkinThickness\",\"SkinThickness\",\"SkinThickness\",\"SkinThickness\",\"SkinThickness\",\"SkinThickness\",\"SkinThickness\",\"SkinThickness\",\"SkinThickness\",\"SkinThickness\",\"SkinThickness\",\"SkinThickness\",\"SkinThickness\",\"SkinThickness\",\"SkinThickness\",\"SkinThickness\",\"SkinThickness\",\"SkinThickness\",\"SkinThickness\",\"SkinThickness\",\"SkinThickness\",\"SkinThickness\",\"SkinThickness\",\"SkinThickness\",\"SkinThickness\",\"SkinThickness\",\"SkinThickness\",\"SkinThickness\",\"SkinThickness\",\"SkinThickness\",\"SkinThickness\",\"SkinThickness\",\"SkinThickness\",\"SkinThickness\",\"SkinThickness\",\"SkinThickness\",\"SkinThickness\",\"SkinThickness\",\"SkinThickness\",\"SkinThickness\",\"SkinThickness\",\"SkinThickness\",\"SkinThickness\",\"SkinThickness\",\"SkinThickness\",\"SkinThickness\",\"SkinThickness\",\"SkinThickness\",\"SkinThickness\",\"SkinThickness\",\"SkinThickness\",\"SkinThickness\",\"SkinThickness\",\"SkinThickness\",\"SkinThickness\",\"SkinThickness\",\"SkinThickness\",\"SkinThickness\",\"SkinThickness\",\"SkinThickness\",\"SkinThickness\",\"SkinThickness\",\"SkinThickness\",\"SkinThickness\",\"SkinThickness\",\"SkinThickness\",\"SkinThickness\",\"SkinThickness\",\"SkinThickness\",\"SkinThickness\",\"SkinThickness\",\"SkinThickness\",\"SkinThickness\",\"SkinThickness\",\"SkinThickness\",\"SkinThickness\",\"SkinThickness\",\"SkinThickness\",\"SkinThickness\",\"SkinThickness\",\"SkinThickness\",\"SkinThickness\",\"SkinThickness\",\"SkinThickness\",\"SkinThickness\",\"SkinThickness\",\"SkinThickness\",\"SkinThickness\",\"SkinThickness\",\"SkinThickness\",\"SkinThickness\",\"SkinThickness\",\"SkinThickness\",\"SkinThickness\",\"SkinThickness\",\"SkinThickness\",\"SkinThickness\",\"SkinThickness\",\"SkinThickness\",\"SkinThickness\",\"SkinThickness\",\"SkinThickness\",\"SkinThickness\",\"SkinThickness\",\"SkinThickness\",\"SkinThickness\",\"SkinThickness\",\"SkinThickness\",\"SkinThickness\",\"SkinThickness\",\"SkinThickness\",\"SkinThickness\",\"SkinThickness\",\"SkinThickness\",\"SkinThickness\",\"SkinThickness\",\"SkinThickness\",\"SkinThickness\",\"SkinThickness\",\"SkinThickness\",\"SkinThickness\",\"SkinThickness\",\"SkinThickness\",\"SkinThickness\",\"SkinThickness\",\"SkinThickness\",\"SkinThickness\",\"SkinThickness\",\"SkinThickness\",\"SkinThickness\",\"SkinThickness\",\"SkinThickness\",\"SkinThickness\",\"SkinThickness\",\"SkinThickness\",\"SkinThickness\",\"SkinThickness\",\"SkinThickness\",\"SkinThickness\",\"SkinThickness\",\"SkinThickness\",\"SkinThickness\",\"SkinThickness\",\"SkinThickness\",\"SkinThickness\",\"SkinThickness\",\"SkinThickness\",\"SkinThickness\",\"SkinThickness\",\"SkinThickness\",\"SkinThickness\",\"SkinThickness\",\"SkinThickness\",\"SkinThickness\",\"SkinThickness\",\"SkinThickness\",\"SkinThickness\",\"SkinThickness\",\"SkinThickness\",\"SkinThickness\",\"SkinThickness\",\"SkinThickness\",\"SkinThickness\",\"SkinThickness\",\"SkinThickness\",\"SkinThickness\",\"SkinThickness\",\"SkinThickness\",\"SkinThickness\",\"SkinThickness\",\"SkinThickness\",\"SkinThickness\",\"SkinThickness\",\"SkinThickness\",\"SkinThickness\",\"SkinThickness\",\"SkinThickness\",\"SkinThickness\",\"SkinThickness\",\"SkinThickness\",\"SkinThickness\",\"SkinThickness\",\"SkinThickness\",\"SkinThickness\",\"SkinThickness\",\"SkinThickness\",\"SkinThickness\",\"SkinThickness\",\"SkinThickness\",\"SkinThickness\",\"SkinThickness\",\"SkinThickness\",\"SkinThickness\",\"SkinThickness\",\"SkinThickness\",\"SkinThickness\",\"SkinThickness\",\"SkinThickness\",\"SkinThickness\",\"SkinThickness\",\"SkinThickness\",\"SkinThickness\",\"SkinThickness\",\"SkinThickness\",\"SkinThickness\",\"SkinThickness\",\"SkinThickness\",\"SkinThickness\",\"SkinThickness\",\"SkinThickness\",\"SkinThickness\",\"SkinThickness\",\"SkinThickness\",\"SkinThickness\",\"SkinThickness\",\"SkinThickness\",\"SkinThickness\",\"SkinThickness\",\"SkinThickness\",\"SkinThickness\",\"SkinThickness\",\"SkinThickness\",\"SkinThickness\",\"SkinThickness\",\"SkinThickness\",\"SkinThickness\",\"SkinThickness\",\"SkinThickness\",\"SkinThickness\",\"SkinThickness\",\"SkinThickness\",\"SkinThickness\",\"SkinThickness\",\"SkinThickness\",\"SkinThickness\",\"SkinThickness\",\"SkinThickness\",\"SkinThickness\",\"SkinThickness\",\"SkinThickness\",\"SkinThickness\",\"SkinThickness\",\"SkinThickness\",\"SkinThickness\",\"SkinThickness\",\"SkinThickness\",\"SkinThickness\",\"SkinThickness\",\"SkinThickness\",\"SkinThickness\",\"SkinThickness\",\"SkinThickness\",\"SkinThickness\",\"SkinThickness\",\"SkinThickness\",\"SkinThickness\",\"SkinThickness\",\"SkinThickness\",\"SkinThickness\",\"SkinThickness\",\"SkinThickness\",\"SkinThickness\",\"SkinThickness\",\"SkinThickness\",\"SkinThickness\",\"SkinThickness\",\"SkinThickness\",\"SkinThickness\",\"SkinThickness\",\"SkinThickness\",\"SkinThickness\",\"SkinThickness\",\"SkinThickness\",\"SkinThickness\",\"SkinThickness\",\"SkinThickness\",\"SkinThickness\",\"SkinThickness\",\"SkinThickness\",\"SkinThickness\",\"SkinThickness\",\"SkinThickness\",\"SkinThickness\",\"SkinThickness\",\"SkinThickness\",\"SkinThickness\",\"SkinThickness\",\"SkinThickness\",\"SkinThickness\",\"SkinThickness\",\"SkinThickness\",\"SkinThickness\",\"SkinThickness\",\"SkinThickness\",\"SkinThickness\",\"SkinThickness\",\"SkinThickness\",\"SkinThickness\",\"SkinThickness\",\"SkinThickness\",\"SkinThickness\",\"SkinThickness\",\"SkinThickness\",\"SkinThickness\",\"SkinThickness\",\"SkinThickness\",\"SkinThickness\",\"SkinThickness\",\"SkinThickness\",\"SkinThickness\",\"SkinThickness\",\"SkinThickness\",\"SkinThickness\",\"SkinThickness\",\"SkinThickness\",\"SkinThickness\",\"SkinThickness\",\"SkinThickness\",\"SkinThickness\",\"SkinThickness\",\"SkinThickness\",\"SkinThickness\",\"SkinThickness\",\"SkinThickness\",\"SkinThickness\",\"SkinThickness\",\"SkinThickness\",\"SkinThickness\",\"SkinThickness\",\"SkinThickness\",\"SkinThickness\",\"SkinThickness\",\"SkinThickness\",\"SkinThickness\",\"SkinThickness\",\"SkinThickness\",\"SkinThickness\",\"SkinThickness\",\"SkinThickness\",\"SkinThickness\",\"SkinThickness\",\"Insulin\",\"Insulin\",\"Insulin\",\"Insulin\",\"Insulin\",\"Insulin\",\"Insulin\",\"Insulin\",\"Insulin\",\"Insulin\",\"Insulin\",\"Insulin\",\"Insulin\",\"Insulin\",\"Insulin\",\"Insulin\",\"Insulin\",\"Insulin\",\"Insulin\",\"Insulin\",\"Insulin\",\"Insulin\",\"Insulin\",\"Insulin\",\"Insulin\",\"Insulin\",\"Insulin\",\"Insulin\",\"Insulin\",\"Insulin\",\"Insulin\",\"Insulin\",\"Insulin\",\"Insulin\",\"Insulin\",\"Insulin\",\"Insulin\",\"Insulin\",\"Insulin\",\"Insulin\",\"Insulin\",\"Insulin\",\"Insulin\",\"Insulin\",\"Insulin\",\"Insulin\",\"Insulin\",\"Insulin\",\"Insulin\",\"Insulin\",\"Insulin\",\"Insulin\",\"Insulin\",\"Insulin\",\"Insulin\",\"Insulin\",\"Insulin\",\"Insulin\",\"Insulin\",\"Insulin\",\"Insulin\",\"Insulin\",\"Insulin\",\"Insulin\",\"Insulin\",\"Insulin\",\"Insulin\",\"Insulin\",\"Insulin\",\"Insulin\",\"Insulin\",\"Insulin\",\"Insulin\",\"Insulin\",\"Insulin\",\"Insulin\",\"Insulin\",\"Insulin\",\"Insulin\",\"Insulin\",\"Insulin\",\"Insulin\",\"Insulin\",\"Insulin\",\"Insulin\",\"Insulin\",\"Insulin\",\"Insulin\",\"Insulin\",\"Insulin\",\"Insulin\",\"Insulin\",\"Insulin\",\"Insulin\",\"Insulin\",\"Insulin\",\"Insulin\",\"Insulin\",\"Insulin\",\"Insulin\",\"Insulin\",\"Insulin\",\"Insulin\",\"Insulin\",\"Insulin\",\"Insulin\",\"Insulin\",\"Insulin\",\"Insulin\",\"Insulin\",\"Insulin\",\"Insulin\",\"Insulin\",\"Insulin\",\"Insulin\",\"Insulin\",\"Insulin\",\"Insulin\",\"Insulin\",\"Insulin\",\"Insulin\",\"Insulin\",\"Insulin\",\"Insulin\",\"Insulin\",\"Insulin\",\"Insulin\",\"Insulin\",\"Insulin\",\"Insulin\",\"Insulin\",\"Insulin\",\"Insulin\",\"Insulin\",\"Insulin\",\"Insulin\",\"Insulin\",\"Insulin\",\"Insulin\",\"Insulin\",\"Insulin\",\"Insulin\",\"Insulin\",\"Insulin\",\"Insulin\",\"Insulin\",\"Insulin\",\"Insulin\",\"Insulin\",\"Insulin\",\"Insulin\",\"Insulin\",\"Insulin\",\"Insulin\",\"Insulin\",\"Insulin\",\"Insulin\",\"Insulin\",\"Insulin\",\"Insulin\",\"Insulin\",\"Insulin\",\"Insulin\",\"Insulin\",\"Insulin\",\"Insulin\",\"Insulin\",\"Insulin\",\"Insulin\",\"Insulin\",\"Insulin\",\"Insulin\",\"Insulin\",\"Insulin\",\"Insulin\",\"Insulin\",\"Insulin\",\"Insulin\",\"Insulin\",\"Insulin\",\"Insulin\",\"Insulin\",\"Insulin\",\"Insulin\",\"Insulin\",\"Insulin\",\"Insulin\",\"Insulin\",\"Insulin\",\"Insulin\",\"Insulin\",\"Insulin\",\"Insulin\",\"Insulin\",\"Insulin\",\"Insulin\",\"Insulin\",\"Insulin\",\"Insulin\",\"Insulin\",\"Insulin\",\"Insulin\",\"Insulin\",\"Insulin\",\"Insulin\",\"Insulin\",\"Insulin\",\"Insulin\",\"Insulin\",\"Insulin\",\"Insulin\",\"Insulin\",\"Insulin\",\"Insulin\",\"Insulin\",\"Insulin\",\"Insulin\",\"Insulin\",\"Insulin\",\"Insulin\",\"Insulin\",\"Insulin\",\"Insulin\",\"Insulin\",\"Insulin\",\"Insulin\",\"Insulin\",\"Insulin\",\"Insulin\",\"Insulin\",\"Insulin\",\"Insulin\",\"Insulin\",\"Insulin\",\"Insulin\",\"Insulin\",\"Insulin\",\"Insulin\",\"Insulin\",\"Insulin\",\"Insulin\",\"Insulin\",\"Insulin\",\"Insulin\",\"Insulin\",\"Insulin\",\"Insulin\",\"Insulin\",\"Insulin\",\"Insulin\",\"Insulin\",\"Insulin\",\"Insulin\",\"Insulin\",\"Insulin\",\"Insulin\",\"Insulin\",\"Insulin\",\"Insulin\",\"Insulin\",\"Insulin\",\"Insulin\",\"Insulin\",\"Insulin\",\"Insulin\",\"Insulin\",\"Insulin\",\"Insulin\",\"Insulin\",\"Insulin\",\"Insulin\",\"Insulin\",\"Insulin\",\"Insulin\",\"Insulin\",\"Insulin\",\"Insulin\",\"Insulin\",\"Insulin\",\"Insulin\",\"Insulin\",\"Insulin\",\"Insulin\",\"Insulin\",\"Insulin\",\"Insulin\",\"Insulin\",\"Insulin\",\"Insulin\",\"Insulin\",\"Insulin\",\"Insulin\",\"Insulin\",\"Insulin\",\"Insulin\",\"Insulin\",\"Insulin\",\"Insulin\",\"Insulin\",\"Insulin\",\"Insulin\",\"Insulin\",\"Insulin\",\"Insulin\",\"Insulin\",\"Insulin\",\"Insulin\",\"Insulin\",\"Insulin\",\"Insulin\",\"Insulin\",\"Insulin\",\"Insulin\",\"Insulin\",\"Insulin\",\"Insulin\",\"Insulin\",\"Insulin\",\"Insulin\",\"Insulin\",\"Insulin\",\"Insulin\",\"Insulin\",\"Insulin\",\"Insulin\",\"Insulin\",\"Insulin\",\"Insulin\",\"Insulin\",\"Insulin\",\"Insulin\",\"Insulin\",\"Insulin\",\"Insulin\",\"Insulin\",\"Insulin\",\"Insulin\",\"Insulin\",\"Insulin\",\"Insulin\",\"Insulin\",\"Insulin\",\"Insulin\",\"Insulin\",\"Insulin\",\"Insulin\",\"Insulin\",\"Insulin\",\"Insulin\",\"Insulin\",\"Insulin\",\"Insulin\",\"Insulin\",\"Insulin\",\"Insulin\",\"Insulin\",\"Insulin\",\"Insulin\",\"Insulin\",\"Insulin\",\"Insulin\",\"Insulin\",\"Insulin\",\"Insulin\",\"Insulin\",\"Insulin\",\"Insulin\",\"Insulin\",\"Insulin\",\"Insulin\",\"Insulin\",\"Insulin\",\"Insulin\",\"Insulin\",\"Insulin\",\"Insulin\",\"Insulin\",\"Insulin\",\"Insulin\",\"Insulin\",\"Insulin\",\"Insulin\",\"Insulin\",\"Insulin\",\"Insulin\",\"Insulin\",\"Insulin\",\"Insulin\",\"Insulin\",\"Insulin\",\"Insulin\",\"Insulin\",\"Insulin\",\"Insulin\",\"Insulin\",\"Insulin\",\"Insulin\",\"Insulin\",\"Insulin\",\"Insulin\",\"Insulin\",\"Insulin\",\"Insulin\",\"Insulin\",\"Insulin\",\"Insulin\",\"Insulin\",\"Insulin\",\"Insulin\",\"Insulin\",\"Insulin\",\"Insulin\",\"Insulin\",\"Insulin\",\"Insulin\",\"Insulin\",\"Insulin\",\"Insulin\",\"Insulin\",\"Insulin\",\"Insulin\",\"Insulin\",\"Insulin\",\"Insulin\",\"Insulin\",\"Insulin\",\"Insulin\",\"Insulin\",\"Insulin\",\"Insulin\",\"Insulin\",\"Insulin\",\"Insulin\",\"Insulin\",\"Insulin\",\"Insulin\",\"Insulin\",\"Insulin\",\"Insulin\",\"Insulin\",\"Insulin\",\"Insulin\",\"Insulin\",\"Insulin\",\"Insulin\",\"Insulin\",\"Insulin\",\"Insulin\",\"Insulin\",\"Insulin\",\"Insulin\",\"Insulin\",\"Insulin\",\"Insulin\",\"Insulin\",\"Insulin\",\"Insulin\",\"Insulin\",\"Insulin\",\"Insulin\",\"Insulin\",\"Insulin\",\"Insulin\",\"Insulin\",\"Insulin\",\"Insulin\",\"Insulin\",\"Insulin\",\"Insulin\",\"Insulin\",\"Insulin\",\"Insulin\",\"Insulin\",\"Insulin\",\"Insulin\",\"Insulin\",\"Insulin\",\"Insulin\",\"Insulin\",\"Insulin\",\"Insulin\",\"Insulin\",\"Insulin\",\"Insulin\",\"Insulin\",\"Insulin\",\"Insulin\",\"Insulin\",\"Insulin\",\"Insulin\",\"Insulin\",\"Insulin\",\"Insulin\",\"Insulin\",\"Insulin\",\"Insulin\",\"Insulin\",\"Insulin\",\"Insulin\",\"Insulin\",\"Insulin\",\"Insulin\",\"Insulin\",\"Insulin\",\"Insulin\",\"Insulin\",\"Insulin\",\"Insulin\",\"Insulin\",\"Insulin\",\"Insulin\",\"Insulin\",\"Insulin\",\"Insulin\",\"Insulin\",\"Insulin\",\"Insulin\",\"Insulin\",\"Insulin\",\"Insulin\",\"Insulin\",\"Insulin\",\"Insulin\",\"Insulin\",\"Insulin\",\"Insulin\",\"Insulin\",\"Insulin\",\"Insulin\",\"Insulin\",\"Insulin\",\"Insulin\",\"Insulin\",\"Insulin\",\"Insulin\",\"Insulin\",\"Insulin\",\"Insulin\",\"Insulin\",\"Insulin\",\"Insulin\",\"Insulin\",\"Insulin\",\"Insulin\",\"Insulin\",\"Insulin\",\"Insulin\",\"Insulin\",\"Insulin\",\"Insulin\",\"Insulin\",\"Insulin\",\"Insulin\",\"Insulin\",\"Insulin\",\"Insulin\",\"Insulin\",\"Insulin\",\"Insulin\",\"Insulin\",\"Insulin\",\"Insulin\",\"Insulin\",\"Insulin\",\"Insulin\",\"Insulin\",\"Insulin\",\"Insulin\",\"Insulin\",\"Insulin\",\"Insulin\",\"Insulin\",\"Insulin\",\"Insulin\",\"Insulin\",\"Insulin\",\"Insulin\",\"Insulin\",\"Insulin\",\"Insulin\",\"Insulin\",\"Insulin\",\"Insulin\",\"Insulin\",\"Insulin\",\"Insulin\",\"Insulin\",\"Insulin\",\"Insulin\",\"Insulin\",\"Insulin\",\"Insulin\",\"Insulin\",\"Insulin\",\"Insulin\",\"Insulin\",\"Insulin\",\"Insulin\",\"Insulin\",\"Insulin\",\"Insulin\",\"Insulin\",\"Insulin\",\"Insulin\",\"Insulin\",\"Insulin\",\"Insulin\",\"Insulin\",\"Insulin\",\"Insulin\",\"Insulin\",\"Insulin\",\"Insulin\",\"Insulin\",\"Insulin\",\"Insulin\",\"Insulin\",\"Insulin\",\"Insulin\",\"Insulin\",\"Insulin\",\"Insulin\",\"Insulin\",\"Insulin\",\"Insulin\",\"Insulin\",\"Insulin\",\"Insulin\",\"Insulin\",\"Insulin\",\"Insulin\",\"Insulin\",\"Insulin\",\"Insulin\",\"Insulin\",\"Insulin\",\"Insulin\",\"Insulin\",\"Insulin\",\"Insulin\",\"Insulin\",\"Insulin\",\"Insulin\",\"Insulin\",\"Insulin\",\"Insulin\",\"Insulin\",\"Insulin\",\"Insulin\",\"Insulin\",\"Insulin\",\"Insulin\",\"Insulin\",\"Insulin\",\"Insulin\",\"Insulin\",\"Insulin\",\"Insulin\",\"Insulin\",\"Insulin\",\"Insulin\",\"Insulin\",\"Insulin\",\"Insulin\",\"Insulin\",\"Insulin\",\"Insulin\",\"Insulin\",\"Insulin\",\"Insulin\",\"Insulin\",\"Insulin\",\"Insulin\",\"Insulin\",\"Insulin\",\"Insulin\",\"Insulin\",\"Insulin\",\"Insulin\",\"Insulin\",\"Insulin\",\"Insulin\",\"Insulin\",\"Insulin\",\"Insulin\",\"Insulin\",\"Insulin\",\"Insulin\",\"Insulin\",\"Insulin\",\"Insulin\",\"Insulin\",\"Insulin\",\"Insulin\",\"Insulin\",\"Insulin\",\"Insulin\",\"Insulin\",\"Insulin\",\"Insulin\",\"Insulin\",\"Insulin\",\"Insulin\",\"Insulin\",\"Insulin\",\"Insulin\",\"Insulin\",\"Insulin\",\"Insulin\",\"Insulin\",\"Insulin\",\"Insulin\",\"Insulin\",\"Insulin\",\"Insulin\",\"Insulin\",\"Insulin\",\"Insulin\",\"Insulin\",\"Insulin\",\"Insulin\",\"Insulin\",\"Insulin\",\"Insulin\",\"Insulin\",\"Insulin\",\"Insulin\",\"Insulin\",\"Insulin\",\"Insulin\",\"Insulin\",\"Insulin\",\"Insulin\",\"Insulin\",\"Insulin\",\"Insulin\",\"Insulin\",\"Insulin\",\"Insulin\",\"Insulin\",\"Insulin\",\"Insulin\",\"Insulin\",\"Insulin\",\"Insulin\",\"Insulin\",\"Insulin\",\"Insulin\",\"Insulin\",\"Insulin\",\"Insulin\",\"Insulin\",\"Insulin\",\"Insulin\",\"Insulin\",\"Insulin\",\"Insulin\",\"Insulin\",\"Insulin\",\"Insulin\",\"Insulin\",\"Insulin\",\"Insulin\",\"Insulin\",\"Insulin\",\"Insulin\",\"Insulin\",\"Insulin\",\"BMI\",\"BMI\",\"BMI\",\"BMI\",\"BMI\",\"BMI\",\"BMI\",\"BMI\",\"BMI\",\"BMI\",\"BMI\",\"BMI\",\"BMI\",\"BMI\",\"BMI\",\"BMI\",\"BMI\",\"BMI\",\"BMI\",\"BMI\",\"BMI\",\"BMI\",\"BMI\",\"BMI\",\"BMI\",\"BMI\",\"BMI\",\"BMI\",\"BMI\",\"BMI\",\"BMI\",\"BMI\",\"BMI\",\"BMI\",\"BMI\",\"BMI\",\"BMI\",\"BMI\",\"BMI\",\"BMI\",\"BMI\",\"BMI\",\"BMI\",\"BMI\",\"BMI\",\"BMI\",\"BMI\",\"BMI\",\"BMI\",\"BMI\",\"BMI\",\"BMI\",\"BMI\",\"BMI\",\"BMI\",\"BMI\",\"BMI\",\"BMI\",\"BMI\",\"BMI\",\"BMI\",\"BMI\",\"BMI\",\"BMI\",\"BMI\",\"BMI\",\"BMI\",\"BMI\",\"BMI\",\"BMI\",\"BMI\",\"BMI\",\"BMI\",\"BMI\",\"BMI\",\"BMI\",\"BMI\",\"BMI\",\"BMI\",\"BMI\",\"BMI\",\"BMI\",\"BMI\",\"BMI\",\"BMI\",\"BMI\",\"BMI\",\"BMI\",\"BMI\",\"BMI\",\"BMI\",\"BMI\",\"BMI\",\"BMI\",\"BMI\",\"BMI\",\"BMI\",\"BMI\",\"BMI\",\"BMI\",\"BMI\",\"BMI\",\"BMI\",\"BMI\",\"BMI\",\"BMI\",\"BMI\",\"BMI\",\"BMI\",\"BMI\",\"BMI\",\"BMI\",\"BMI\",\"BMI\",\"BMI\",\"BMI\",\"BMI\",\"BMI\",\"BMI\",\"BMI\",\"BMI\",\"BMI\",\"BMI\",\"BMI\",\"BMI\",\"BMI\",\"BMI\",\"BMI\",\"BMI\",\"BMI\",\"BMI\",\"BMI\",\"BMI\",\"BMI\",\"BMI\",\"BMI\",\"BMI\",\"BMI\",\"BMI\",\"BMI\",\"BMI\",\"BMI\",\"BMI\",\"BMI\",\"BMI\",\"BMI\",\"BMI\",\"BMI\",\"BMI\",\"BMI\",\"BMI\",\"BMI\",\"BMI\",\"BMI\",\"BMI\",\"BMI\",\"BMI\",\"BMI\",\"BMI\",\"BMI\",\"BMI\",\"BMI\",\"BMI\",\"BMI\",\"BMI\",\"BMI\",\"BMI\",\"BMI\",\"BMI\",\"BMI\",\"BMI\",\"BMI\",\"BMI\",\"BMI\",\"BMI\",\"BMI\",\"BMI\",\"BMI\",\"BMI\",\"BMI\",\"BMI\",\"BMI\",\"BMI\",\"BMI\",\"BMI\",\"BMI\",\"BMI\",\"BMI\",\"BMI\",\"BMI\",\"BMI\",\"BMI\",\"BMI\",\"BMI\",\"BMI\",\"BMI\",\"BMI\",\"BMI\",\"BMI\",\"BMI\",\"BMI\",\"BMI\",\"BMI\",\"BMI\",\"BMI\",\"BMI\",\"BMI\",\"BMI\",\"BMI\",\"BMI\",\"BMI\",\"BMI\",\"BMI\",\"BMI\",\"BMI\",\"BMI\",\"BMI\",\"BMI\",\"BMI\",\"BMI\",\"BMI\",\"BMI\",\"BMI\",\"BMI\",\"BMI\",\"BMI\",\"BMI\",\"BMI\",\"BMI\",\"BMI\",\"BMI\",\"BMI\",\"BMI\",\"BMI\",\"BMI\",\"BMI\",\"BMI\",\"BMI\",\"BMI\",\"BMI\",\"BMI\",\"BMI\",\"BMI\",\"BMI\",\"BMI\",\"BMI\",\"BMI\",\"BMI\",\"BMI\",\"BMI\",\"BMI\",\"BMI\",\"BMI\",\"BMI\",\"BMI\",\"BMI\",\"BMI\",\"BMI\",\"BMI\",\"BMI\",\"BMI\",\"BMI\",\"BMI\",\"BMI\",\"BMI\",\"BMI\",\"BMI\",\"BMI\",\"BMI\",\"BMI\",\"BMI\",\"BMI\",\"BMI\",\"BMI\",\"BMI\",\"BMI\",\"BMI\",\"BMI\",\"BMI\",\"BMI\",\"BMI\",\"BMI\",\"BMI\",\"BMI\",\"BMI\",\"BMI\",\"BMI\",\"BMI\",\"BMI\",\"BMI\",\"BMI\",\"BMI\",\"BMI\",\"BMI\",\"BMI\",\"BMI\",\"BMI\",\"BMI\",\"BMI\",\"BMI\",\"BMI\",\"BMI\",\"BMI\",\"BMI\",\"BMI\",\"BMI\",\"BMI\",\"BMI\",\"BMI\",\"BMI\",\"BMI\",\"BMI\",\"BMI\",\"BMI\",\"BMI\",\"BMI\",\"BMI\",\"BMI\",\"BMI\",\"BMI\",\"BMI\",\"BMI\",\"BMI\",\"BMI\",\"BMI\",\"BMI\",\"BMI\",\"BMI\",\"BMI\",\"BMI\",\"BMI\",\"BMI\",\"BMI\",\"BMI\",\"BMI\",\"BMI\",\"BMI\",\"BMI\",\"BMI\",\"BMI\",\"BMI\",\"BMI\",\"BMI\",\"BMI\",\"BMI\",\"BMI\",\"BMI\",\"BMI\",\"BMI\",\"BMI\",\"BMI\",\"BMI\",\"BMI\",\"BMI\",\"BMI\",\"BMI\",\"BMI\",\"BMI\",\"BMI\",\"BMI\",\"BMI\",\"BMI\",\"BMI\",\"BMI\",\"BMI\",\"BMI\",\"BMI\",\"BMI\",\"BMI\",\"BMI\",\"BMI\",\"BMI\",\"BMI\",\"BMI\",\"BMI\",\"BMI\",\"BMI\",\"BMI\",\"BMI\",\"BMI\",\"BMI\",\"BMI\",\"BMI\",\"BMI\",\"BMI\",\"BMI\",\"BMI\",\"BMI\",\"BMI\",\"BMI\",\"BMI\",\"BMI\",\"BMI\",\"BMI\",\"BMI\",\"BMI\",\"BMI\",\"BMI\",\"BMI\",\"BMI\",\"BMI\",\"BMI\",\"BMI\",\"BMI\",\"BMI\",\"BMI\",\"BMI\",\"BMI\",\"BMI\",\"BMI\",\"BMI\",\"BMI\",\"BMI\",\"BMI\",\"BMI\",\"BMI\",\"BMI\",\"BMI\",\"BMI\",\"BMI\",\"BMI\",\"BMI\",\"BMI\",\"BMI\",\"BMI\",\"BMI\",\"BMI\",\"BMI\",\"BMI\",\"BMI\",\"BMI\",\"BMI\",\"BMI\",\"BMI\",\"BMI\",\"BMI\",\"BMI\",\"BMI\",\"BMI\",\"BMI\",\"BMI\",\"BMI\",\"BMI\",\"BMI\",\"BMI\",\"BMI\",\"BMI\",\"BMI\",\"BMI\",\"BMI\",\"BMI\",\"BMI\",\"BMI\",\"BMI\",\"BMI\",\"BMI\",\"BMI\",\"BMI\",\"BMI\",\"BMI\",\"BMI\",\"BMI\",\"BMI\",\"BMI\",\"BMI\",\"BMI\",\"BMI\",\"BMI\",\"BMI\",\"BMI\",\"BMI\",\"BMI\",\"BMI\",\"BMI\",\"BMI\",\"BMI\",\"BMI\",\"BMI\",\"BMI\",\"BMI\",\"BMI\",\"BMI\",\"BMI\",\"BMI\",\"BMI\",\"BMI\",\"BMI\",\"BMI\",\"BMI\",\"BMI\",\"BMI\",\"BMI\",\"BMI\",\"BMI\",\"BMI\",\"BMI\",\"BMI\",\"BMI\",\"BMI\",\"BMI\",\"BMI\",\"BMI\",\"BMI\",\"BMI\",\"BMI\",\"BMI\",\"BMI\",\"BMI\",\"BMI\",\"BMI\",\"BMI\",\"BMI\",\"BMI\",\"BMI\",\"BMI\",\"BMI\",\"BMI\",\"BMI\",\"BMI\",\"BMI\",\"BMI\",\"BMI\",\"BMI\",\"BMI\",\"BMI\",\"BMI\",\"BMI\",\"BMI\",\"BMI\",\"BMI\",\"BMI\",\"BMI\",\"BMI\",\"BMI\",\"BMI\",\"BMI\",\"BMI\",\"BMI\",\"BMI\",\"BMI\",\"BMI\",\"BMI\",\"BMI\",\"BMI\",\"BMI\",\"BMI\",\"BMI\",\"BMI\",\"BMI\",\"BMI\",\"BMI\",\"BMI\",\"BMI\",\"BMI\",\"BMI\",\"BMI\",\"BMI\",\"BMI\",\"BMI\",\"BMI\",\"BMI\",\"BMI\",\"BMI\",\"BMI\",\"BMI\",\"BMI\",\"BMI\",\"BMI\",\"BMI\",\"BMI\",\"BMI\",\"BMI\",\"BMI\",\"BMI\",\"BMI\",\"BMI\",\"BMI\",\"BMI\",\"BMI\",\"BMI\",\"BMI\",\"BMI\",\"BMI\",\"BMI\",\"BMI\",\"BMI\",\"BMI\",\"BMI\",\"BMI\",\"BMI\",\"BMI\",\"BMI\",\"BMI\",\"BMI\",\"BMI\",\"BMI\",\"BMI\",\"BMI\",\"BMI\",\"BMI\",\"BMI\",\"BMI\",\"BMI\",\"BMI\",\"BMI\",\"BMI\",\"BMI\",\"BMI\",\"BMI\",\"BMI\",\"BMI\",\"BMI\",\"BMI\",\"BMI\",\"BMI\",\"BMI\",\"BMI\",\"BMI\",\"BMI\",\"BMI\",\"BMI\",\"BMI\",\"BMI\",\"BMI\",\"BMI\",\"BMI\",\"BMI\",\"BMI\",\"BMI\",\"BMI\",\"BMI\",\"BMI\",\"BMI\",\"BMI\",\"BMI\",\"BMI\",\"BMI\",\"BMI\",\"BMI\",\"BMI\",\"BMI\",\"BMI\",\"BMI\",\"BMI\",\"BMI\",\"BMI\",\"BMI\",\"BMI\",\"BMI\",\"BMI\",\"BMI\",\"BMI\",\"BMI\",\"BMI\",\"BMI\",\"BMI\",\"BMI\",\"BMI\",\"BMI\",\"BMI\",\"BMI\",\"BMI\",\"BMI\",\"BMI\",\"BMI\",\"BMI\",\"BMI\",\"BMI\",\"BMI\",\"BMI\",\"BMI\",\"BMI\",\"BMI\",\"BMI\",\"BMI\",\"BMI\",\"BMI\",\"BMI\",\"BMI\",\"BMI\",\"BMI\",\"BMI\",\"BMI\",\"BMI\",\"BMI\",\"BMI\",\"BMI\",\"BMI\",\"BMI\",\"BMI\",\"BMI\",\"BMI\",\"BMI\",\"BMI\",\"BMI\",\"BMI\",\"BMI\",\"BMI\",\"BMI\",\"BMI\",\"BMI\",\"BMI\",\"BMI\",\"BMI\",\"BMI\",\"BMI\",\"BMI\",\"BMI\",\"BMI\",\"BMI\",\"BMI\",\"BMI\",\"BMI\",\"BMI\",\"BMI\",\"BMI\",\"BMI\",\"BMI\",\"BMI\",\"BMI\",\"BMI\",\"BMI\",\"BMI\",\"BMI\",\"BMI\",\"BMI\",\"BMI\",\"BMI\",\"BMI\",\"BMI\",\"BMI\",\"BMI\",\"BMI\",\"BMI\",\"BMI\",\"BMI\",\"BMI\",\"BMI\",\"BMI\",\"BMI\",\"BMI\",\"BMI\",\"BMI\",\"BMI\",\"BMI\",\"BMI\",\"BMI\",\"BMI\",\"BMI\",\"BMI\",\"BMI\",\"BMI\",\"BMI\",\"BMI\",\"BMI\",\"BMI\",\"BMI\",\"BMI\",\"BMI\",\"BMI\",\"BMI\",\"BMI\",\"BMI\",\"BMI\",\"BMI\",\"BMI\",\"BMI\",\"BMI\",\"DiabetesPedigreeFunction\",\"DiabetesPedigreeFunction\",\"DiabetesPedigreeFunction\",\"DiabetesPedigreeFunction\",\"DiabetesPedigreeFunction\",\"DiabetesPedigreeFunction\",\"DiabetesPedigreeFunction\",\"DiabetesPedigreeFunction\",\"DiabetesPedigreeFunction\",\"DiabetesPedigreeFunction\",\"DiabetesPedigreeFunction\",\"DiabetesPedigreeFunction\",\"DiabetesPedigreeFunction\",\"DiabetesPedigreeFunction\",\"DiabetesPedigreeFunction\",\"DiabetesPedigreeFunction\",\"DiabetesPedigreeFunction\",\"DiabetesPedigreeFunction\",\"DiabetesPedigreeFunction\",\"DiabetesPedigreeFunction\",\"DiabetesPedigreeFunction\",\"DiabetesPedigreeFunction\",\"DiabetesPedigreeFunction\",\"DiabetesPedigreeFunction\",\"DiabetesPedigreeFunction\",\"DiabetesPedigreeFunction\",\"DiabetesPedigreeFunction\",\"DiabetesPedigreeFunction\",\"DiabetesPedigreeFunction\",\"DiabetesPedigreeFunction\",\"DiabetesPedigreeFunction\",\"DiabetesPedigreeFunction\",\"DiabetesPedigreeFunction\",\"DiabetesPedigreeFunction\",\"DiabetesPedigreeFunction\",\"DiabetesPedigreeFunction\",\"DiabetesPedigreeFunction\",\"DiabetesPedigreeFunction\",\"DiabetesPedigreeFunction\",\"DiabetesPedigreeFunction\",\"DiabetesPedigreeFunction\",\"DiabetesPedigreeFunction\",\"DiabetesPedigreeFunction\",\"DiabetesPedigreeFunction\",\"DiabetesPedigreeFunction\",\"DiabetesPedigreeFunction\",\"DiabetesPedigreeFunction\",\"DiabetesPedigreeFunction\",\"DiabetesPedigreeFunction\",\"DiabetesPedigreeFunction\",\"DiabetesPedigreeFunction\",\"DiabetesPedigreeFunction\",\"DiabetesPedigreeFunction\",\"DiabetesPedigreeFunction\",\"DiabetesPedigreeFunction\",\"DiabetesPedigreeFunction\",\"DiabetesPedigreeFunction\",\"DiabetesPedigreeFunction\",\"DiabetesPedigreeFunction\",\"DiabetesPedigreeFunction\",\"DiabetesPedigreeFunction\",\"DiabetesPedigreeFunction\",\"DiabetesPedigreeFunction\",\"DiabetesPedigreeFunction\",\"DiabetesPedigreeFunction\",\"DiabetesPedigreeFunction\",\"DiabetesPedigreeFunction\",\"DiabetesPedigreeFunction\",\"DiabetesPedigreeFunction\",\"DiabetesPedigreeFunction\",\"DiabetesPedigreeFunction\",\"DiabetesPedigreeFunction\",\"DiabetesPedigreeFunction\",\"DiabetesPedigreeFunction\",\"DiabetesPedigreeFunction\",\"DiabetesPedigreeFunction\",\"DiabetesPedigreeFunction\",\"DiabetesPedigreeFunction\",\"DiabetesPedigreeFunction\",\"DiabetesPedigreeFunction\",\"DiabetesPedigreeFunction\",\"DiabetesPedigreeFunction\",\"DiabetesPedigreeFunction\",\"DiabetesPedigreeFunction\",\"DiabetesPedigreeFunction\",\"DiabetesPedigreeFunction\",\"DiabetesPedigreeFunction\",\"DiabetesPedigreeFunction\",\"DiabetesPedigreeFunction\",\"DiabetesPedigreeFunction\",\"DiabetesPedigreeFunction\",\"DiabetesPedigreeFunction\",\"DiabetesPedigreeFunction\",\"DiabetesPedigreeFunction\",\"DiabetesPedigreeFunction\",\"DiabetesPedigreeFunction\",\"DiabetesPedigreeFunction\",\"DiabetesPedigreeFunction\",\"DiabetesPedigreeFunction\",\"DiabetesPedigreeFunction\",\"DiabetesPedigreeFunction\",\"DiabetesPedigreeFunction\",\"DiabetesPedigreeFunction\",\"DiabetesPedigreeFunction\",\"DiabetesPedigreeFunction\",\"DiabetesPedigreeFunction\",\"DiabetesPedigreeFunction\",\"DiabetesPedigreeFunction\",\"DiabetesPedigreeFunction\",\"DiabetesPedigreeFunction\",\"DiabetesPedigreeFunction\",\"DiabetesPedigreeFunction\",\"DiabetesPedigreeFunction\",\"DiabetesPedigreeFunction\",\"DiabetesPedigreeFunction\",\"DiabetesPedigreeFunction\",\"DiabetesPedigreeFunction\",\"DiabetesPedigreeFunction\",\"DiabetesPedigreeFunction\",\"DiabetesPedigreeFunction\",\"DiabetesPedigreeFunction\",\"DiabetesPedigreeFunction\",\"DiabetesPedigreeFunction\",\"DiabetesPedigreeFunction\",\"DiabetesPedigreeFunction\",\"DiabetesPedigreeFunction\",\"DiabetesPedigreeFunction\",\"DiabetesPedigreeFunction\",\"DiabetesPedigreeFunction\",\"DiabetesPedigreeFunction\",\"DiabetesPedigreeFunction\",\"DiabetesPedigreeFunction\",\"DiabetesPedigreeFunction\",\"DiabetesPedigreeFunction\",\"DiabetesPedigreeFunction\",\"DiabetesPedigreeFunction\",\"DiabetesPedigreeFunction\",\"DiabetesPedigreeFunction\",\"DiabetesPedigreeFunction\",\"DiabetesPedigreeFunction\",\"DiabetesPedigreeFunction\",\"DiabetesPedigreeFunction\",\"DiabetesPedigreeFunction\",\"DiabetesPedigreeFunction\",\"DiabetesPedigreeFunction\",\"DiabetesPedigreeFunction\",\"DiabetesPedigreeFunction\",\"DiabetesPedigreeFunction\",\"DiabetesPedigreeFunction\",\"DiabetesPedigreeFunction\",\"DiabetesPedigreeFunction\",\"DiabetesPedigreeFunction\",\"DiabetesPedigreeFunction\",\"DiabetesPedigreeFunction\",\"DiabetesPedigreeFunction\",\"DiabetesPedigreeFunction\",\"DiabetesPedigreeFunction\",\"DiabetesPedigreeFunction\",\"DiabetesPedigreeFunction\",\"DiabetesPedigreeFunction\",\"DiabetesPedigreeFunction\",\"DiabetesPedigreeFunction\",\"DiabetesPedigreeFunction\",\"DiabetesPedigreeFunction\",\"DiabetesPedigreeFunction\",\"DiabetesPedigreeFunction\",\"DiabetesPedigreeFunction\",\"DiabetesPedigreeFunction\",\"DiabetesPedigreeFunction\",\"DiabetesPedigreeFunction\",\"DiabetesPedigreeFunction\",\"DiabetesPedigreeFunction\",\"DiabetesPedigreeFunction\",\"DiabetesPedigreeFunction\",\"DiabetesPedigreeFunction\",\"DiabetesPedigreeFunction\",\"DiabetesPedigreeFunction\",\"DiabetesPedigreeFunction\",\"DiabetesPedigreeFunction\",\"DiabetesPedigreeFunction\",\"DiabetesPedigreeFunction\",\"DiabetesPedigreeFunction\",\"DiabetesPedigreeFunction\",\"DiabetesPedigreeFunction\",\"DiabetesPedigreeFunction\",\"DiabetesPedigreeFunction\",\"DiabetesPedigreeFunction\",\"DiabetesPedigreeFunction\",\"DiabetesPedigreeFunction\",\"DiabetesPedigreeFunction\",\"DiabetesPedigreeFunction\",\"DiabetesPedigreeFunction\",\"DiabetesPedigreeFunction\",\"DiabetesPedigreeFunction\",\"DiabetesPedigreeFunction\",\"DiabetesPedigreeFunction\",\"DiabetesPedigreeFunction\",\"DiabetesPedigreeFunction\",\"DiabetesPedigreeFunction\",\"DiabetesPedigreeFunction\",\"DiabetesPedigreeFunction\",\"DiabetesPedigreeFunction\",\"DiabetesPedigreeFunction\",\"DiabetesPedigreeFunction\",\"DiabetesPedigreeFunction\",\"DiabetesPedigreeFunction\",\"DiabetesPedigreeFunction\",\"DiabetesPedigreeFunction\",\"DiabetesPedigreeFunction\",\"DiabetesPedigreeFunction\",\"DiabetesPedigreeFunction\",\"DiabetesPedigreeFunction\",\"DiabetesPedigreeFunction\",\"DiabetesPedigreeFunction\",\"DiabetesPedigreeFunction\",\"DiabetesPedigreeFunction\",\"DiabetesPedigreeFunction\",\"DiabetesPedigreeFunction\",\"DiabetesPedigreeFunction\",\"DiabetesPedigreeFunction\",\"DiabetesPedigreeFunction\",\"DiabetesPedigreeFunction\",\"DiabetesPedigreeFunction\",\"DiabetesPedigreeFunction\",\"DiabetesPedigreeFunction\",\"DiabetesPedigreeFunction\",\"DiabetesPedigreeFunction\",\"DiabetesPedigreeFunction\",\"DiabetesPedigreeFunction\",\"DiabetesPedigreeFunction\",\"DiabetesPedigreeFunction\",\"DiabetesPedigreeFunction\",\"DiabetesPedigreeFunction\",\"DiabetesPedigreeFunction\",\"DiabetesPedigreeFunction\",\"DiabetesPedigreeFunction\",\"DiabetesPedigreeFunction\",\"DiabetesPedigreeFunction\",\"DiabetesPedigreeFunction\",\"DiabetesPedigreeFunction\",\"DiabetesPedigreeFunction\",\"DiabetesPedigreeFunction\",\"DiabetesPedigreeFunction\",\"DiabetesPedigreeFunction\",\"DiabetesPedigreeFunction\",\"DiabetesPedigreeFunction\",\"DiabetesPedigreeFunction\",\"DiabetesPedigreeFunction\",\"DiabetesPedigreeFunction\",\"DiabetesPedigreeFunction\",\"DiabetesPedigreeFunction\",\"DiabetesPedigreeFunction\",\"DiabetesPedigreeFunction\",\"DiabetesPedigreeFunction\",\"DiabetesPedigreeFunction\",\"DiabetesPedigreeFunction\",\"DiabetesPedigreeFunction\",\"DiabetesPedigreeFunction\",\"DiabetesPedigreeFunction\",\"DiabetesPedigreeFunction\",\"DiabetesPedigreeFunction\",\"DiabetesPedigreeFunction\",\"DiabetesPedigreeFunction\",\"DiabetesPedigreeFunction\",\"DiabetesPedigreeFunction\",\"DiabetesPedigreeFunction\",\"DiabetesPedigreeFunction\",\"DiabetesPedigreeFunction\",\"DiabetesPedigreeFunction\",\"DiabetesPedigreeFunction\",\"DiabetesPedigreeFunction\",\"DiabetesPedigreeFunction\",\"DiabetesPedigreeFunction\",\"DiabetesPedigreeFunction\",\"DiabetesPedigreeFunction\",\"DiabetesPedigreeFunction\",\"DiabetesPedigreeFunction\",\"DiabetesPedigreeFunction\",\"DiabetesPedigreeFunction\",\"DiabetesPedigreeFunction\",\"DiabetesPedigreeFunction\",\"DiabetesPedigreeFunction\",\"DiabetesPedigreeFunction\",\"DiabetesPedigreeFunction\",\"DiabetesPedigreeFunction\",\"DiabetesPedigreeFunction\",\"DiabetesPedigreeFunction\",\"DiabetesPedigreeFunction\",\"DiabetesPedigreeFunction\",\"DiabetesPedigreeFunction\",\"DiabetesPedigreeFunction\",\"DiabetesPedigreeFunction\",\"DiabetesPedigreeFunction\",\"DiabetesPedigreeFunction\",\"DiabetesPedigreeFunction\",\"DiabetesPedigreeFunction\",\"DiabetesPedigreeFunction\",\"DiabetesPedigreeFunction\",\"DiabetesPedigreeFunction\",\"DiabetesPedigreeFunction\",\"DiabetesPedigreeFunction\",\"DiabetesPedigreeFunction\",\"DiabetesPedigreeFunction\",\"DiabetesPedigreeFunction\",\"DiabetesPedigreeFunction\",\"DiabetesPedigreeFunction\",\"DiabetesPedigreeFunction\",\"DiabetesPedigreeFunction\",\"DiabetesPedigreeFunction\",\"DiabetesPedigreeFunction\",\"DiabetesPedigreeFunction\",\"DiabetesPedigreeFunction\",\"DiabetesPedigreeFunction\",\"DiabetesPedigreeFunction\",\"DiabetesPedigreeFunction\",\"DiabetesPedigreeFunction\",\"DiabetesPedigreeFunction\",\"DiabetesPedigreeFunction\",\"DiabetesPedigreeFunction\",\"DiabetesPedigreeFunction\",\"DiabetesPedigreeFunction\",\"DiabetesPedigreeFunction\",\"DiabetesPedigreeFunction\",\"DiabetesPedigreeFunction\",\"DiabetesPedigreeFunction\",\"DiabetesPedigreeFunction\",\"DiabetesPedigreeFunction\",\"DiabetesPedigreeFunction\",\"DiabetesPedigreeFunction\",\"DiabetesPedigreeFunction\",\"DiabetesPedigreeFunction\",\"DiabetesPedigreeFunction\",\"DiabetesPedigreeFunction\",\"DiabetesPedigreeFunction\",\"DiabetesPedigreeFunction\",\"DiabetesPedigreeFunction\",\"DiabetesPedigreeFunction\",\"DiabetesPedigreeFunction\",\"DiabetesPedigreeFunction\",\"DiabetesPedigreeFunction\",\"DiabetesPedigreeFunction\",\"DiabetesPedigreeFunction\",\"DiabetesPedigreeFunction\",\"DiabetesPedigreeFunction\",\"DiabetesPedigreeFunction\",\"DiabetesPedigreeFunction\",\"DiabetesPedigreeFunction\",\"DiabetesPedigreeFunction\",\"DiabetesPedigreeFunction\",\"DiabetesPedigreeFunction\",\"DiabetesPedigreeFunction\",\"DiabetesPedigreeFunction\",\"DiabetesPedigreeFunction\",\"DiabetesPedigreeFunction\",\"DiabetesPedigreeFunction\",\"DiabetesPedigreeFunction\",\"DiabetesPedigreeFunction\",\"DiabetesPedigreeFunction\",\"DiabetesPedigreeFunction\",\"DiabetesPedigreeFunction\",\"DiabetesPedigreeFunction\",\"DiabetesPedigreeFunction\",\"DiabetesPedigreeFunction\",\"DiabetesPedigreeFunction\",\"DiabetesPedigreeFunction\",\"DiabetesPedigreeFunction\",\"DiabetesPedigreeFunction\",\"DiabetesPedigreeFunction\",\"DiabetesPedigreeFunction\",\"DiabetesPedigreeFunction\",\"DiabetesPedigreeFunction\",\"DiabetesPedigreeFunction\",\"DiabetesPedigreeFunction\",\"DiabetesPedigreeFunction\",\"DiabetesPedigreeFunction\",\"DiabetesPedigreeFunction\",\"DiabetesPedigreeFunction\",\"DiabetesPedigreeFunction\",\"DiabetesPedigreeFunction\",\"DiabetesPedigreeFunction\",\"DiabetesPedigreeFunction\",\"DiabetesPedigreeFunction\",\"DiabetesPedigreeFunction\",\"DiabetesPedigreeFunction\",\"DiabetesPedigreeFunction\",\"DiabetesPedigreeFunction\",\"DiabetesPedigreeFunction\",\"DiabetesPedigreeFunction\",\"DiabetesPedigreeFunction\",\"DiabetesPedigreeFunction\",\"DiabetesPedigreeFunction\",\"DiabetesPedigreeFunction\",\"DiabetesPedigreeFunction\",\"DiabetesPedigreeFunction\",\"DiabetesPedigreeFunction\",\"DiabetesPedigreeFunction\",\"DiabetesPedigreeFunction\",\"DiabetesPedigreeFunction\",\"DiabetesPedigreeFunction\",\"DiabetesPedigreeFunction\",\"DiabetesPedigreeFunction\",\"DiabetesPedigreeFunction\",\"DiabetesPedigreeFunction\",\"DiabetesPedigreeFunction\",\"DiabetesPedigreeFunction\",\"DiabetesPedigreeFunction\",\"DiabetesPedigreeFunction\",\"DiabetesPedigreeFunction\",\"DiabetesPedigreeFunction\",\"DiabetesPedigreeFunction\",\"DiabetesPedigreeFunction\",\"DiabetesPedigreeFunction\",\"DiabetesPedigreeFunction\",\"DiabetesPedigreeFunction\",\"DiabetesPedigreeFunction\",\"DiabetesPedigreeFunction\",\"DiabetesPedigreeFunction\",\"DiabetesPedigreeFunction\",\"DiabetesPedigreeFunction\",\"DiabetesPedigreeFunction\",\"DiabetesPedigreeFunction\",\"DiabetesPedigreeFunction\",\"DiabetesPedigreeFunction\",\"DiabetesPedigreeFunction\",\"DiabetesPedigreeFunction\",\"DiabetesPedigreeFunction\",\"DiabetesPedigreeFunction\",\"DiabetesPedigreeFunction\",\"DiabetesPedigreeFunction\",\"DiabetesPedigreeFunction\",\"DiabetesPedigreeFunction\",\"DiabetesPedigreeFunction\",\"DiabetesPedigreeFunction\",\"DiabetesPedigreeFunction\",\"DiabetesPedigreeFunction\",\"DiabetesPedigreeFunction\",\"DiabetesPedigreeFunction\",\"DiabetesPedigreeFunction\",\"DiabetesPedigreeFunction\",\"DiabetesPedigreeFunction\",\"DiabetesPedigreeFunction\",\"DiabetesPedigreeFunction\",\"DiabetesPedigreeFunction\",\"DiabetesPedigreeFunction\",\"DiabetesPedigreeFunction\",\"DiabetesPedigreeFunction\",\"DiabetesPedigreeFunction\",\"DiabetesPedigreeFunction\",\"DiabetesPedigreeFunction\",\"DiabetesPedigreeFunction\",\"DiabetesPedigreeFunction\",\"DiabetesPedigreeFunction\",\"DiabetesPedigreeFunction\",\"DiabetesPedigreeFunction\",\"DiabetesPedigreeFunction\",\"DiabetesPedigreeFunction\",\"DiabetesPedigreeFunction\",\"DiabetesPedigreeFunction\",\"DiabetesPedigreeFunction\",\"DiabetesPedigreeFunction\",\"DiabetesPedigreeFunction\",\"DiabetesPedigreeFunction\",\"DiabetesPedigreeFunction\",\"DiabetesPedigreeFunction\",\"DiabetesPedigreeFunction\",\"DiabetesPedigreeFunction\",\"DiabetesPedigreeFunction\",\"DiabetesPedigreeFunction\",\"DiabetesPedigreeFunction\",\"DiabetesPedigreeFunction\",\"DiabetesPedigreeFunction\",\"DiabetesPedigreeFunction\",\"DiabetesPedigreeFunction\",\"DiabetesPedigreeFunction\",\"DiabetesPedigreeFunction\",\"DiabetesPedigreeFunction\",\"DiabetesPedigreeFunction\",\"DiabetesPedigreeFunction\",\"DiabetesPedigreeFunction\",\"DiabetesPedigreeFunction\",\"DiabetesPedigreeFunction\",\"DiabetesPedigreeFunction\",\"DiabetesPedigreeFunction\",\"DiabetesPedigreeFunction\",\"DiabetesPedigreeFunction\",\"DiabetesPedigreeFunction\",\"DiabetesPedigreeFunction\",\"DiabetesPedigreeFunction\",\"DiabetesPedigreeFunction\",\"DiabetesPedigreeFunction\",\"DiabetesPedigreeFunction\",\"DiabetesPedigreeFunction\",\"DiabetesPedigreeFunction\",\"DiabetesPedigreeFunction\",\"DiabetesPedigreeFunction\",\"DiabetesPedigreeFunction\",\"DiabetesPedigreeFunction\",\"DiabetesPedigreeFunction\",\"DiabetesPedigreeFunction\",\"DiabetesPedigreeFunction\",\"DiabetesPedigreeFunction\",\"DiabetesPedigreeFunction\",\"DiabetesPedigreeFunction\",\"DiabetesPedigreeFunction\",\"DiabetesPedigreeFunction\",\"DiabetesPedigreeFunction\",\"DiabetesPedigreeFunction\",\"DiabetesPedigreeFunction\",\"DiabetesPedigreeFunction\",\"DiabetesPedigreeFunction\",\"DiabetesPedigreeFunction\",\"DiabetesPedigreeFunction\",\"DiabetesPedigreeFunction\",\"DiabetesPedigreeFunction\",\"DiabetesPedigreeFunction\",\"DiabetesPedigreeFunction\",\"DiabetesPedigreeFunction\",\"DiabetesPedigreeFunction\",\"DiabetesPedigreeFunction\",\"DiabetesPedigreeFunction\",\"DiabetesPedigreeFunction\",\"DiabetesPedigreeFunction\",\"DiabetesPedigreeFunction\",\"DiabetesPedigreeFunction\",\"DiabetesPedigreeFunction\",\"DiabetesPedigreeFunction\",\"DiabetesPedigreeFunction\",\"DiabetesPedigreeFunction\",\"DiabetesPedigreeFunction\",\"DiabetesPedigreeFunction\",\"DiabetesPedigreeFunction\",\"DiabetesPedigreeFunction\",\"DiabetesPedigreeFunction\",\"DiabetesPedigreeFunction\",\"DiabetesPedigreeFunction\",\"DiabetesPedigreeFunction\",\"DiabetesPedigreeFunction\",\"DiabetesPedigreeFunction\",\"DiabetesPedigreeFunction\",\"DiabetesPedigreeFunction\",\"DiabetesPedigreeFunction\",\"DiabetesPedigreeFunction\",\"DiabetesPedigreeFunction\",\"DiabetesPedigreeFunction\",\"DiabetesPedigreeFunction\",\"DiabetesPedigreeFunction\",\"DiabetesPedigreeFunction\",\"DiabetesPedigreeFunction\",\"DiabetesPedigreeFunction\",\"DiabetesPedigreeFunction\",\"DiabetesPedigreeFunction\",\"DiabetesPedigreeFunction\",\"DiabetesPedigreeFunction\",\"DiabetesPedigreeFunction\",\"DiabetesPedigreeFunction\",\"DiabetesPedigreeFunction\",\"DiabetesPedigreeFunction\",\"DiabetesPedigreeFunction\",\"DiabetesPedigreeFunction\",\"DiabetesPedigreeFunction\",\"DiabetesPedigreeFunction\",\"DiabetesPedigreeFunction\",\"DiabetesPedigreeFunction\",\"DiabetesPedigreeFunction\",\"DiabetesPedigreeFunction\",\"DiabetesPedigreeFunction\",\"DiabetesPedigreeFunction\",\"DiabetesPedigreeFunction\",\"DiabetesPedigreeFunction\",\"DiabetesPedigreeFunction\",\"DiabetesPedigreeFunction\",\"DiabetesPedigreeFunction\",\"DiabetesPedigreeFunction\",\"DiabetesPedigreeFunction\",\"DiabetesPedigreeFunction\",\"DiabetesPedigreeFunction\",\"DiabetesPedigreeFunction\",\"DiabetesPedigreeFunction\",\"DiabetesPedigreeFunction\",\"DiabetesPedigreeFunction\",\"DiabetesPedigreeFunction\",\"DiabetesPedigreeFunction\",\"DiabetesPedigreeFunction\",\"DiabetesPedigreeFunction\",\"DiabetesPedigreeFunction\",\"DiabetesPedigreeFunction\",\"DiabetesPedigreeFunction\",\"DiabetesPedigreeFunction\",\"DiabetesPedigreeFunction\",\"DiabetesPedigreeFunction\",\"DiabetesPedigreeFunction\",\"DiabetesPedigreeFunction\",\"DiabetesPedigreeFunction\",\"DiabetesPedigreeFunction\",\"DiabetesPedigreeFunction\",\"DiabetesPedigreeFunction\",\"DiabetesPedigreeFunction\",\"DiabetesPedigreeFunction\",\"DiabetesPedigreeFunction\",\"DiabetesPedigreeFunction\",\"DiabetesPedigreeFunction\",\"DiabetesPedigreeFunction\",\"DiabetesPedigreeFunction\",\"DiabetesPedigreeFunction\",\"DiabetesPedigreeFunction\",\"DiabetesPedigreeFunction\",\"DiabetesPedigreeFunction\",\"DiabetesPedigreeFunction\",\"DiabetesPedigreeFunction\",\"DiabetesPedigreeFunction\",\"DiabetesPedigreeFunction\",\"DiabetesPedigreeFunction\",\"DiabetesPedigreeFunction\",\"DiabetesPedigreeFunction\",\"DiabetesPedigreeFunction\",\"DiabetesPedigreeFunction\",\"DiabetesPedigreeFunction\",\"DiabetesPedigreeFunction\",\"DiabetesPedigreeFunction\",\"DiabetesPedigreeFunction\",\"DiabetesPedigreeFunction\",\"DiabetesPedigreeFunction\",\"DiabetesPedigreeFunction\",\"DiabetesPedigreeFunction\",\"DiabetesPedigreeFunction\",\"DiabetesPedigreeFunction\",\"DiabetesPedigreeFunction\",\"DiabetesPedigreeFunction\",\"DiabetesPedigreeFunction\",\"DiabetesPedigreeFunction\",\"DiabetesPedigreeFunction\",\"DiabetesPedigreeFunction\",\"DiabetesPedigreeFunction\",\"DiabetesPedigreeFunction\",\"DiabetesPedigreeFunction\",\"DiabetesPedigreeFunction\",\"DiabetesPedigreeFunction\",\"DiabetesPedigreeFunction\",\"DiabetesPedigreeFunction\",\"DiabetesPedigreeFunction\",\"DiabetesPedigreeFunction\",\"DiabetesPedigreeFunction\",\"DiabetesPedigreeFunction\",\"DiabetesPedigreeFunction\",\"DiabetesPedigreeFunction\",\"DiabetesPedigreeFunction\",\"DiabetesPedigreeFunction\",\"DiabetesPedigreeFunction\",\"DiabetesPedigreeFunction\",\"DiabetesPedigreeFunction\",\"DiabetesPedigreeFunction\",\"DiabetesPedigreeFunction\",\"DiabetesPedigreeFunction\",\"DiabetesPedigreeFunction\",\"DiabetesPedigreeFunction\",\"DiabetesPedigreeFunction\",\"DiabetesPedigreeFunction\",\"DiabetesPedigreeFunction\",\"DiabetesPedigreeFunction\",\"DiabetesPedigreeFunction\",\"DiabetesPedigreeFunction\",\"DiabetesPedigreeFunction\",\"DiabetesPedigreeFunction\",\"DiabetesPedigreeFunction\",\"DiabetesPedigreeFunction\",\"DiabetesPedigreeFunction\",\"DiabetesPedigreeFunction\",\"DiabetesPedigreeFunction\",\"DiabetesPedigreeFunction\",\"DiabetesPedigreeFunction\",\"DiabetesPedigreeFunction\",\"DiabetesPedigreeFunction\",\"DiabetesPedigreeFunction\",\"DiabetesPedigreeFunction\",\"DiabetesPedigreeFunction\",\"DiabetesPedigreeFunction\",\"DiabetesPedigreeFunction\",\"DiabetesPedigreeFunction\",\"DiabetesPedigreeFunction\",\"DiabetesPedigreeFunction\",\"DiabetesPedigreeFunction\",\"DiabetesPedigreeFunction\",\"DiabetesPedigreeFunction\",\"DiabetesPedigreeFunction\",\"DiabetesPedigreeFunction\",\"DiabetesPedigreeFunction\",\"DiabetesPedigreeFunction\",\"DiabetesPedigreeFunction\",\"DiabetesPedigreeFunction\",\"DiabetesPedigreeFunction\",\"DiabetesPedigreeFunction\",\"DiabetesPedigreeFunction\",\"DiabetesPedigreeFunction\",\"DiabetesPedigreeFunction\",\"DiabetesPedigreeFunction\",\"DiabetesPedigreeFunction\",\"DiabetesPedigreeFunction\",\"DiabetesPedigreeFunction\",\"DiabetesPedigreeFunction\",\"DiabetesPedigreeFunction\",\"DiabetesPedigreeFunction\",\"DiabetesPedigreeFunction\",\"DiabetesPedigreeFunction\",\"DiabetesPedigreeFunction\",\"DiabetesPedigreeFunction\",\"DiabetesPedigreeFunction\",\"DiabetesPedigreeFunction\",\"DiabetesPedigreeFunction\",\"DiabetesPedigreeFunction\",\"DiabetesPedigreeFunction\",\"DiabetesPedigreeFunction\",\"DiabetesPedigreeFunction\",\"DiabetesPedigreeFunction\",\"DiabetesPedigreeFunction\",\"DiabetesPedigreeFunction\",\"DiabetesPedigreeFunction\",\"DiabetesPedigreeFunction\",\"DiabetesPedigreeFunction\",\"DiabetesPedigreeFunction\",\"DiabetesPedigreeFunction\",\"DiabetesPedigreeFunction\",\"DiabetesPedigreeFunction\",\"DiabetesPedigreeFunction\",\"DiabetesPedigreeFunction\",\"DiabetesPedigreeFunction\",\"DiabetesPedigreeFunction\",\"DiabetesPedigreeFunction\",\"DiabetesPedigreeFunction\",\"DiabetesPedigreeFunction\",\"DiabetesPedigreeFunction\",\"DiabetesPedigreeFunction\",\"DiabetesPedigreeFunction\",\"DiabetesPedigreeFunction\",\"DiabetesPedigreeFunction\",\"DiabetesPedigreeFunction\",\"DiabetesPedigreeFunction\",\"DiabetesPedigreeFunction\",\"DiabetesPedigreeFunction\",\"DiabetesPedigreeFunction\",\"DiabetesPedigreeFunction\",\"DiabetesPedigreeFunction\",\"DiabetesPedigreeFunction\",\"DiabetesPedigreeFunction\",\"DiabetesPedigreeFunction\",\"DiabetesPedigreeFunction\",\"DiabetesPedigreeFunction\",\"DiabetesPedigreeFunction\",\"DiabetesPedigreeFunction\",\"DiabetesPedigreeFunction\",\"DiabetesPedigreeFunction\",\"DiabetesPedigreeFunction\",\"DiabetesPedigreeFunction\",\"DiabetesPedigreeFunction\",\"DiabetesPedigreeFunction\",\"DiabetesPedigreeFunction\",\"DiabetesPedigreeFunction\",\"DiabetesPedigreeFunction\",\"DiabetesPedigreeFunction\",\"DiabetesPedigreeFunction\",\"DiabetesPedigreeFunction\",\"DiabetesPedigreeFunction\",\"DiabetesPedigreeFunction\",\"DiabetesPedigreeFunction\",\"DiabetesPedigreeFunction\",\"DiabetesPedigreeFunction\",\"DiabetesPedigreeFunction\",\"DiabetesPedigreeFunction\",\"DiabetesPedigreeFunction\",\"Age\",\"Age\",\"Age\",\"Age\",\"Age\",\"Age\",\"Age\",\"Age\",\"Age\",\"Age\",\"Age\",\"Age\",\"Age\",\"Age\",\"Age\",\"Age\",\"Age\",\"Age\",\"Age\",\"Age\",\"Age\",\"Age\",\"Age\",\"Age\",\"Age\",\"Age\",\"Age\",\"Age\",\"Age\",\"Age\",\"Age\",\"Age\",\"Age\",\"Age\",\"Age\",\"Age\",\"Age\",\"Age\",\"Age\",\"Age\",\"Age\",\"Age\",\"Age\",\"Age\",\"Age\",\"Age\",\"Age\",\"Age\",\"Age\",\"Age\",\"Age\",\"Age\",\"Age\",\"Age\",\"Age\",\"Age\",\"Age\",\"Age\",\"Age\",\"Age\",\"Age\",\"Age\",\"Age\",\"Age\",\"Age\",\"Age\",\"Age\",\"Age\",\"Age\",\"Age\",\"Age\",\"Age\",\"Age\",\"Age\",\"Age\",\"Age\",\"Age\",\"Age\",\"Age\",\"Age\",\"Age\",\"Age\",\"Age\",\"Age\",\"Age\",\"Age\",\"Age\",\"Age\",\"Age\",\"Age\",\"Age\",\"Age\",\"Age\",\"Age\",\"Age\",\"Age\",\"Age\",\"Age\",\"Age\",\"Age\",\"Age\",\"Age\",\"Age\",\"Age\",\"Age\",\"Age\",\"Age\",\"Age\",\"Age\",\"Age\",\"Age\",\"Age\",\"Age\",\"Age\",\"Age\",\"Age\",\"Age\",\"Age\",\"Age\",\"Age\",\"Age\",\"Age\",\"Age\",\"Age\",\"Age\",\"Age\",\"Age\",\"Age\",\"Age\",\"Age\",\"Age\",\"Age\",\"Age\",\"Age\",\"Age\",\"Age\",\"Age\",\"Age\",\"Age\",\"Age\",\"Age\",\"Age\",\"Age\",\"Age\",\"Age\",\"Age\",\"Age\",\"Age\",\"Age\",\"Age\",\"Age\",\"Age\",\"Age\",\"Age\",\"Age\",\"Age\",\"Age\",\"Age\",\"Age\",\"Age\",\"Age\",\"Age\",\"Age\",\"Age\",\"Age\",\"Age\",\"Age\",\"Age\",\"Age\",\"Age\",\"Age\",\"Age\",\"Age\",\"Age\",\"Age\",\"Age\",\"Age\",\"Age\",\"Age\",\"Age\",\"Age\",\"Age\",\"Age\",\"Age\",\"Age\",\"Age\",\"Age\",\"Age\",\"Age\",\"Age\",\"Age\",\"Age\",\"Age\",\"Age\",\"Age\",\"Age\",\"Age\",\"Age\",\"Age\",\"Age\",\"Age\",\"Age\",\"Age\",\"Age\",\"Age\",\"Age\",\"Age\",\"Age\",\"Age\",\"Age\",\"Age\",\"Age\",\"Age\",\"Age\",\"Age\",\"Age\",\"Age\",\"Age\",\"Age\",\"Age\",\"Age\",\"Age\",\"Age\",\"Age\",\"Age\",\"Age\",\"Age\",\"Age\",\"Age\",\"Age\",\"Age\",\"Age\",\"Age\",\"Age\",\"Age\",\"Age\",\"Age\",\"Age\",\"Age\",\"Age\",\"Age\",\"Age\",\"Age\",\"Age\",\"Age\",\"Age\",\"Age\",\"Age\",\"Age\",\"Age\",\"Age\",\"Age\",\"Age\",\"Age\",\"Age\",\"Age\",\"Age\",\"Age\",\"Age\",\"Age\",\"Age\",\"Age\",\"Age\",\"Age\",\"Age\",\"Age\",\"Age\",\"Age\",\"Age\",\"Age\",\"Age\",\"Age\",\"Age\",\"Age\",\"Age\",\"Age\",\"Age\",\"Age\",\"Age\",\"Age\",\"Age\",\"Age\",\"Age\",\"Age\",\"Age\",\"Age\",\"Age\",\"Age\",\"Age\",\"Age\",\"Age\",\"Age\",\"Age\",\"Age\",\"Age\",\"Age\",\"Age\",\"Age\",\"Age\",\"Age\",\"Age\",\"Age\",\"Age\",\"Age\",\"Age\",\"Age\",\"Age\",\"Age\",\"Age\",\"Age\",\"Age\",\"Age\",\"Age\",\"Age\",\"Age\",\"Age\",\"Age\",\"Age\",\"Age\",\"Age\",\"Age\",\"Age\",\"Age\",\"Age\",\"Age\",\"Age\",\"Age\",\"Age\",\"Age\",\"Age\",\"Age\",\"Age\",\"Age\",\"Age\",\"Age\",\"Age\",\"Age\",\"Age\",\"Age\",\"Age\",\"Age\",\"Age\",\"Age\",\"Age\",\"Age\",\"Age\",\"Age\",\"Age\",\"Age\",\"Age\",\"Age\",\"Age\",\"Age\",\"Age\",\"Age\",\"Age\",\"Age\",\"Age\",\"Age\",\"Age\",\"Age\",\"Age\",\"Age\",\"Age\",\"Age\",\"Age\",\"Age\",\"Age\",\"Age\",\"Age\",\"Age\",\"Age\",\"Age\",\"Age\",\"Age\",\"Age\",\"Age\",\"Age\",\"Age\",\"Age\",\"Age\",\"Age\",\"Age\",\"Age\",\"Age\",\"Age\",\"Age\",\"Age\",\"Age\",\"Age\",\"Age\",\"Age\",\"Age\",\"Age\",\"Age\",\"Age\",\"Age\",\"Age\",\"Age\",\"Age\",\"Age\",\"Age\",\"Age\",\"Age\",\"Age\",\"Age\",\"Age\",\"Age\",\"Age\",\"Age\",\"Age\",\"Age\",\"Age\",\"Age\",\"Age\",\"Age\",\"Age\",\"Age\",\"Age\",\"Age\",\"Age\",\"Age\",\"Age\",\"Age\",\"Age\",\"Age\",\"Age\",\"Age\",\"Age\",\"Age\",\"Age\",\"Age\",\"Age\",\"Age\",\"Age\",\"Age\",\"Age\",\"Age\",\"Age\",\"Age\",\"Age\",\"Age\",\"Age\",\"Age\",\"Age\",\"Age\",\"Age\",\"Age\",\"Age\",\"Age\",\"Age\",\"Age\",\"Age\",\"Age\",\"Age\",\"Age\",\"Age\",\"Age\",\"Age\",\"Age\",\"Age\",\"Age\",\"Age\",\"Age\",\"Age\",\"Age\",\"Age\",\"Age\",\"Age\",\"Age\",\"Age\",\"Age\",\"Age\",\"Age\",\"Age\",\"Age\",\"Age\",\"Age\",\"Age\",\"Age\",\"Age\",\"Age\",\"Age\",\"Age\",\"Age\",\"Age\",\"Age\",\"Age\",\"Age\",\"Age\",\"Age\",\"Age\",\"Age\",\"Age\",\"Age\",\"Age\",\"Age\",\"Age\",\"Age\",\"Age\",\"Age\",\"Age\",\"Age\",\"Age\",\"Age\",\"Age\",\"Age\",\"Age\",\"Age\",\"Age\",\"Age\",\"Age\",\"Age\",\"Age\",\"Age\",\"Age\",\"Age\",\"Age\",\"Age\",\"Age\",\"Age\",\"Age\",\"Age\",\"Age\",\"Age\",\"Age\",\"Age\",\"Age\",\"Age\",\"Age\",\"Age\",\"Age\",\"Age\",\"Age\",\"Age\",\"Age\",\"Age\",\"Age\",\"Age\",\"Age\",\"Age\",\"Age\",\"Age\",\"Age\",\"Age\",\"Age\",\"Age\",\"Age\",\"Age\",\"Age\",\"Age\",\"Age\",\"Age\",\"Age\",\"Age\",\"Age\",\"Age\",\"Age\",\"Age\",\"Age\",\"Age\",\"Age\",\"Age\",\"Age\",\"Age\",\"Age\",\"Age\",\"Age\",\"Age\",\"Age\",\"Age\",\"Age\",\"Age\",\"Age\",\"Age\",\"Age\",\"Age\",\"Age\",\"Age\",\"Age\",\"Age\",\"Age\",\"Age\",\"Age\",\"Age\",\"Age\",\"Age\",\"Age\",\"Age\",\"Age\",\"Age\",\"Age\",\"Age\",\"Age\",\"Age\",\"Age\",\"Age\",\"Age\",\"Age\",\"Age\",\"Age\",\"Age\",\"Age\",\"Age\",\"Age\",\"Age\",\"Age\",\"Age\",\"Age\",\"Age\",\"Age\",\"Age\",\"Age\",\"Age\",\"Age\",\"Age\",\"Age\",\"Age\",\"Age\",\"Age\",\"Age\",\"Age\",\"Age\",\"Age\",\"Age\",\"Age\",\"Age\",\"Age\",\"Age\",\"Age\",\"Age\",\"Age\",\"Age\",\"Age\",\"Age\",\"Age\",\"Age\",\"Age\",\"Age\",\"Age\",\"Age\",\"Age\",\"Age\",\"Age\",\"Age\",\"Age\",\"Age\",\"Age\",\"Age\",\"Age\",\"Age\",\"Age\",\"Age\",\"Age\",\"Age\",\"Age\",\"Age\",\"Age\",\"Age\",\"Age\",\"Age\",\"Age\",\"Age\",\"Age\",\"Age\",\"Age\",\"Age\",\"Age\",\"Age\",\"Age\",\"Age\",\"Age\",\"Age\",\"Age\",\"Age\",\"Age\",\"Age\",\"Age\",\"Age\",\"Age\",\"Age\",\"Age\",\"Age\",\"Age\",\"Age\",\"Age\",\"Age\",\"Age\",\"Age\",\"Age\",\"Age\",\"Age\",\"Age\",\"Age\",\"Age\",\"Age\",\"Age\",\"Age\",\"Age\",\"Age\",\"Age\",\"Age\",\"Age\",\"Age\",\"Age\",\"Age\",\"Age\",\"Age\",\"Age\",\"Age\",\"Age\",\"Age\",\"Age\",\"Age\",\"Age\",\"Age\",\"Age\",\"Age\",\"Age\",\"Age\",\"Age\",\"Age\",\"Age\",\"Age\",\"Age\",\"Age\",\"Age\",\"Age\",\"Age\",\"Age\",\"Age\",\"Age\",\"Age\",\"Age\",\"Age\",\"Age\",\"Age\",\"Age\",\"Age\",\"Age\",\"Age\",\"Age\",\"Age\",\"Age\",\"Age\",\"Age\",\"Age\",\"Age\",\"Age\",\"Age\",\"Age\",\"Age\",\"Age\",\"Age\",\"Age\",\"Age\",\"Age\",\"Age\",\"Age\",\"Age\",\"Age\",\"Age\",\"Age\",\"Age\",\"Age\",\"Age\",\"Age\",\"Age\"],\"x0\":\" \",\"xaxis\":\"x\",\"y\":[148.0,85.0,183.0,89.0,137.0,116.0,78.0,115.0,197.0,125.0,110.0,168.0,139.0,189.0,166.0,100.0,118.0,107.0,103.0,115.0,126.0,99.0,196.0,119.0,143.0,125.0,147.0,97.0,145.0,117.0,109.0,158.0,88.0,92.0,122.0,103.0,138.0,102.0,90.0,111.0,180.0,133.0,106.0,171.0,159.0,180.0,146.0,71.0,103.0,105.0,103.0,101.0,88.0,176.0,150.0,73.0,187.0,100.0,146.0,105.0,84.0,133.0,44.0,141.0,114.0,99.0,109.0,109.0,95.0,146.0,100.0,139.0,126.0,129.0,79.0,121.6867627785059,62.0,95.0,131.0,112.0,113.0,74.0,83.0,101.0,137.0,110.0,106.0,100.0,136.0,107.0,80.0,123.0,81.0,134.0,142.0,144.0,92.0,71.0,93.0,122.0,163.0,151.0,125.0,81.0,85.0,126.0,96.0,144.0,83.0,95.0,171.0,155.0,89.0,76.0,160.0,146.0,124.0,78.0,97.0,99.0,162.0,111.0,107.0,132.0,113.0,88.0,120.0,118.0,117.0,105.0,173.0,122.0,170.0,84.0,96.0,125.0,100.0,93.0,129.0,105.0,128.0,106.0,108.0,108.0,154.0,102.0,57.0,106.0,147.0,90.0,136.0,114.0,156.0,153.0,188.0,152.0,99.0,109.0,88.0,163.0,151.0,102.0,114.0,100.0,131.0,104.0,148.0,120.0,110.0,111.0,102.0,134.0,87.0,79.0,75.0,179.0,85.0,129.0,143.0,130.0,87.0,119.0,121.6867627785059,73.0,141.0,194.0,181.0,128.0,109.0,139.0,111.0,123.0,159.0,135.0,85.0,158.0,105.0,107.0,109.0,148.0,113.0,138.0,108.0,99.0,103.0,111.0,196.0,162.0,96.0,184.0,81.0,147.0,179.0,140.0,112.0,151.0,109.0,125.0,85.0,112.0,177.0,158.0,119.0,142.0,100.0,87.0,101.0,162.0,197.0,117.0,142.0,134.0,79.0,122.0,74.0,171.0,181.0,179.0,164.0,104.0,91.0,91.0,139.0,119.0,146.0,184.0,122.0,165.0,124.0,111.0,106.0,129.0,90.0,86.0,92.0,113.0,111.0,114.0,193.0,155.0,191.0,141.0,95.0,142.0,123.0,96.0,138.0,128.0,102.0,146.0,101.0,108.0,122.0,71.0,106.0,100.0,106.0,104.0,114.0,108.0,146.0,129.0,133.0,161.0,108.0,136.0,155.0,119.0,96.0,108.0,78.0,107.0,128.0,128.0,161.0,151.0,146.0,126.0,100.0,112.0,167.0,144.0,77.0,115.0,150.0,120.0,161.0,137.0,128.0,124.0,80.0,106.0,155.0,113.0,109.0,112.0,99.0,182.0,115.0,194.0,129.0,112.0,124.0,152.0,112.0,157.0,122.0,179.0,102.0,105.0,118.0,87.0,180.0,106.0,95.0,165.0,117.0,115.0,152.0,178.0,130.0,95.0,121.6867627785059,122.0,95.0,126.0,139.0,116.0,99.0,121.6867627785059,92.0,137.0,61.0,90.0,90.0,165.0,125.0,129.0,88.0,196.0,189.0,158.0,103.0,146.0,147.0,99.0,124.0,101.0,81.0,133.0,173.0,118.0,84.0,105.0,122.0,140.0,98.0,87.0,156.0,93.0,107.0,105.0,109.0,90.0,125.0,119.0,116.0,105.0,144.0,100.0,100.0,166.0,131.0,116.0,158.0,127.0,96.0,131.0,82.0,193.0,95.0,137.0,136.0,72.0,168.0,123.0,115.0,101.0,197.0,172.0,102.0,112.0,143.0,143.0,138.0,173.0,97.0,144.0,83.0,129.0,119.0,94.0,102.0,115.0,151.0,184.0,94.0,181.0,135.0,95.0,99.0,89.0,80.0,139.0,90.0,141.0,140.0,147.0,97.0,107.0,189.0,83.0,117.0,108.0,117.0,180.0,100.0,95.0,104.0,120.0,82.0,134.0,91.0,119.0,100.0,175.0,135.0,86.0,148.0,134.0,120.0,71.0,74.0,88.0,115.0,124.0,74.0,97.0,120.0,154.0,144.0,137.0,119.0,136.0,114.0,137.0,105.0,114.0,126.0,132.0,158.0,123.0,85.0,84.0,145.0,135.0,139.0,173.0,99.0,194.0,83.0,89.0,99.0,125.0,80.0,166.0,110.0,81.0,195.0,154.0,117.0,84.0,121.6867627785059,94.0,96.0,75.0,180.0,130.0,84.0,120.0,84.0,139.0,91.0,91.0,99.0,163.0,145.0,125.0,76.0,129.0,68.0,124.0,114.0,130.0,125.0,87.0,97.0,116.0,117.0,111.0,122.0,107.0,86.0,91.0,77.0,132.0,105.0,57.0,127.0,129.0,100.0,128.0,90.0,84.0,88.0,186.0,187.0,131.0,164.0,189.0,116.0,84.0,114.0,88.0,84.0,124.0,97.0,110.0,103.0,85.0,125.0,198.0,87.0,99.0,91.0,95.0,99.0,92.0,154.0,121.0,78.0,130.0,111.0,98.0,143.0,119.0,108.0,118.0,133.0,197.0,151.0,109.0,121.0,100.0,124.0,93.0,143.0,103.0,176.0,73.0,111.0,112.0,132.0,82.0,123.0,188.0,67.0,89.0,173.0,109.0,108.0,96.0,124.0,150.0,183.0,124.0,181.0,92.0,152.0,111.0,106.0,174.0,168.0,105.0,138.0,106.0,117.0,68.0,112.0,119.0,112.0,92.0,183.0,94.0,108.0,90.0,125.0,132.0,128.0,94.0,114.0,102.0,111.0,128.0,92.0,104.0,104.0,94.0,97.0,100.0,102.0,128.0,147.0,90.0,103.0,157.0,167.0,179.0,136.0,107.0,91.0,117.0,123.0,120.0,106.0,155.0,101.0,120.0,127.0,80.0,162.0,199.0,167.0,145.0,115.0,112.0,145.0,111.0,98.0,154.0,165.0,99.0,68.0,123.0,91.0,195.0,156.0,93.0,121.0,101.0,56.0,162.0,95.0,125.0,136.0,129.0,130.0,107.0,140.0,144.0,107.0,158.0,121.0,129.0,90.0,142.0,169.0,99.0,127.0,118.0,122.0,125.0,168.0,129.0,110.0,80.0,115.0,127.0,164.0,93.0,158.0,126.0,129.0,134.0,102.0,187.0,173.0,94.0,108.0,97.0,83.0,114.0,149.0,117.0,111.0,112.0,116.0,141.0,175.0,92.0,130.0,120.0,174.0,106.0,105.0,95.0,126.0,65.0,99.0,102.0,120.0,102.0,109.0,140.0,153.0,100.0,147.0,81.0,187.0,162.0,136.0,121.0,108.0,181.0,154.0,128.0,137.0,123.0,106.0,190.0,88.0,170.0,89.0,101.0,122.0,121.0,126.0,93.0,72.0,66.0,64.0,66.0,40.0,74.0,50.0,72.40518417462484,70.0,96.0,92.0,74.0,80.0,60.0,72.0,72.40518417462484,84.0,74.0,30.0,70.0,88.0,84.0,90.0,80.0,94.0,70.0,76.0,66.0,82.0,92.0,75.0,76.0,58.0,92.0,78.0,60.0,76.0,76.0,68.0,72.0,64.0,84.0,92.0,110.0,64.0,66.0,56.0,70.0,66.0,72.40518417462484,80.0,50.0,66.0,90.0,66.0,50.0,68.0,88.0,82.0,64.0,72.40518417462484,72.0,62.0,58.0,66.0,74.0,88.0,92.0,66.0,85.0,66.0,64.0,90.0,86.0,75.0,48.0,78.0,72.0,72.40518417462484,66.0,44.0,72.40518417462484,78.0,65.0,108.0,74.0,72.0,68.0,70.0,68.0,55.0,80.0,78.0,72.0,82.0,72.0,62.0,48.0,50.0,90.0,72.0,60.0,96.0,72.0,65.0,56.0,122.0,58.0,58.0,85.0,72.0,62.0,76.0,62.0,54.0,92.0,74.0,48.0,60.0,76.0,76.0,64.0,74.0,80.0,76.0,30.0,70.0,58.0,88.0,84.0,70.0,56.0,64.0,74.0,68.0,60.0,70.0,60.0,80.0,72.0,78.0,82.0,52.0,66.0,62.0,75.0,80.0,64.0,78.0,70.0,74.0,65.0,86.0,82.0,78.0,88.0,52.0,56.0,74.0,72.0,90.0,74.0,80.0,64.0,88.0,74.0,66.0,68.0,66.0,90.0,82.0,70.0,72.40518417462484,60.0,64.0,72.0,78.0,110.0,78.0,82.0,80.0,64.0,74.0,60.0,74.0,68.0,68.0,98.0,76.0,80.0,62.0,70.0,66.0,72.40518417462484,55.0,84.0,58.0,62.0,64.0,60.0,80.0,82.0,68.0,70.0,72.0,72.0,76.0,104.0,64.0,84.0,60.0,85.0,95.0,65.0,82.0,70.0,62.0,68.0,74.0,66.0,60.0,90.0,72.40518417462484,60.0,66.0,78.0,76.0,52.0,70.0,80.0,86.0,80.0,80.0,68.0,68.0,72.0,84.0,90.0,84.0,76.0,64.0,70.0,54.0,50.0,76.0,85.0,68.0,90.0,70.0,86.0,52.0,84.0,80.0,68.0,62.0,64.0,56.0,68.0,50.0,76.0,68.0,72.40518417462484,70.0,80.0,62.0,74.0,72.40518417462484,64.0,52.0,72.40518417462484,86.0,62.0,78.0,78.0,70.0,70.0,60.0,64.0,74.0,62.0,70.0,76.0,88.0,86.0,80.0,74.0,84.0,86.0,56.0,72.0,88.0,62.0,78.0,48.0,50.0,62.0,70.0,84.0,78.0,72.0,72.40518417462484,58.0,82.0,98.0,76.0,76.0,68.0,68.0,68.0,68.0,66.0,70.0,74.0,50.0,80.0,68.0,80.0,74.0,66.0,78.0,60.0,74.0,70.0,90.0,75.0,72.0,64.0,70.0,86.0,70.0,72.0,58.0,72.40518417462484,80.0,60.0,76.0,72.40518417462484,76.0,78.0,84.0,70.0,74.0,68.0,86.0,72.0,88.0,46.0,72.40518417462484,62.0,80.0,80.0,84.0,82.0,62.0,78.0,88.0,50.0,72.40518417462484,74.0,76.0,64.0,70.0,108.0,78.0,74.0,54.0,72.0,64.0,86.0,102.0,82.0,64.0,64.0,58.0,52.0,82.0,82.0,60.0,75.0,100.0,72.0,68.0,60.0,62.0,70.0,54.0,74.0,100.0,82.0,68.0,66.0,76.0,64.0,72.0,78.0,58.0,56.0,66.0,70.0,70.0,64.0,61.0,84.0,78.0,64.0,48.0,72.0,62.0,74.0,68.0,90.0,72.0,84.0,74.0,60.0,84.0,68.0,82.0,68.0,64.0,88.0,68.0,64.0,64.0,78.0,78.0,72.40518417462484,64.0,94.0,82.0,72.40518417462484,74.0,74.0,75.0,68.0,72.40518417462484,85.0,75.0,70.0,88.0,104.0,66.0,64.0,70.0,62.0,78.0,72.0,80.0,64.0,74.0,64.0,70.0,68.0,72.40518417462484,54.0,62.0,54.0,68.0,84.0,74.0,72.0,62.0,70.0,78.0,98.0,56.0,52.0,64.0,72.40518417462484,78.0,82.0,70.0,66.0,90.0,64.0,84.0,80.0,76.0,74.0,86.0,70.0,88.0,58.0,82.0,72.40518417462484,68.0,62.0,78.0,72.0,80.0,65.0,90.0,68.0,70.0,72.40518417462484,74.0,68.0,72.0,70.0,74.0,90.0,72.0,68.0,64.0,78.0,82.0,90.0,60.0,50.0,78.0,72.0,62.0,68.0,62.0,54.0,70.0,88.0,86.0,60.0,90.0,70.0,80.0,72.40518417462484,70.0,58.0,60.0,64.0,74.0,66.0,65.0,60.0,76.0,66.0,72.40518417462484,56.0,72.40518417462484,90.0,60.0,80.0,92.0,74.0,72.0,85.0,90.0,78.0,90.0,76.0,68.0,82.0,110.0,70.0,68.0,88.0,62.0,64.0,70.0,70.0,76.0,68.0,74.0,76.0,66.0,68.0,60.0,80.0,54.0,72.0,62.0,72.0,66.0,70.0,96.0,58.0,60.0,86.0,44.0,44.0,80.0,68.0,70.0,90.0,60.0,78.0,76.0,76.0,56.0,66.0,66.0,86.0,72.40518417462484,84.0,78.0,80.0,52.0,72.0,82.0,76.0,24.0,74.0,38.0,88.0,72.40518417462484,74.0,78.0,72.40518417462484,60.0,78.0,62.0,82.0,62.0,54.0,58.0,88.0,80.0,74.0,72.0,96.0,62.0,82.0,72.40518417462484,86.0,76.0,94.0,70.0,64.0,88.0,68.0,78.0,80.0,65.0,64.0,78.0,60.0,82.0,62.0,72.0,74.0,76.0,76.0,74.0,86.0,70.0,80.0,72.40518417462484,72.0,74.0,74.0,50.0,84.0,60.0,54.0,60.0,74.0,54.0,70.0,52.0,58.0,80.0,106.0,82.0,84.0,76.0,106.0,80.0,60.0,80.0,82.0,70.0,58.0,78.0,68.0,58.0,106.0,100.0,82.0,70.0,86.0,60.0,52.0,58.0,56.0,76.0,64.0,80.0,82.0,74.0,64.0,50.0,74.0,82.0,80.0,114.0,70.0,68.0,60.0,90.0,74.0,72.40518417462484,88.0,70.0,76.0,78.0,88.0,72.40518417462484,76.0,80.0,72.40518417462484,46.0,78.0,64.0,64.0,78.0,62.0,58.0,74.0,50.0,78.0,72.0,60.0,76.0,86.0,66.0,68.0,86.0,94.0,78.0,78.0,84.0,88.0,52.0,78.0,86.0,88.0,56.0,75.0,60.0,86.0,72.0,60.0,74.0,80.0,44.0,58.0,94.0,88.0,84.0,94.0,74.0,70.0,62.0,70.0,78.0,62.0,88.0,78.0,88.0,90.0,72.0,76.0,92.0,58.0,74.0,62.0,76.0,70.0,72.0,60.0,70.0,35.0,29.0,29.153419593345657,23.0,35.0,29.153419593345657,32.0,29.153419593345657,45.0,29.153419593345657,29.153419593345657,29.153419593345657,29.153419593345657,23.0,19.0,29.153419593345657,47.0,29.153419593345657,38.0,30.0,41.0,29.153419593345657,29.153419593345657,35.0,33.0,26.0,29.153419593345657,15.0,19.0,29.153419593345657,26.0,36.0,11.0,29.153419593345657,31.0,33.0,29.153419593345657,37.0,42.0,47.0,25.0,29.153419593345657,18.0,24.0,29.153419593345657,39.0,29.153419593345657,27.0,32.0,29.153419593345657,11.0,15.0,21.0,34.0,42.0,10.0,39.0,60.0,29.153419593345657,41.0,29.153419593345657,29.153419593345657,29.153419593345657,34.0,29.153419593345657,27.0,30.0,29.153419593345657,13.0,27.0,20.0,35.0,29.153419593345657,20.0,30.0,20.0,29.153419593345657,33.0,29.153419593345657,22.0,13.0,29.153419593345657,26.0,28.0,29.153419593345657,29.0,54.0,25.0,32.0,19.0,29.153419593345657,15.0,40.0,29.153419593345657,18.0,27.0,28.0,18.0,30.0,51.0,29.153419593345657,29.153419593345657,29.153419593345657,18.0,29.153419593345657,29.0,29.153419593345657,28.0,31.0,25.0,33.0,26.0,34.0,29.153419593345657,32.0,29.153419593345657,29.153419593345657,29.153419593345657,23.0,15.0,56.0,39.0,30.0,29.153419593345657,29.153419593345657,42.0,30.0,36.0,24.0,29.153419593345657,14.0,29.153419593345657,37.0,31.0,13.0,20.0,26.0,25.0,29.153419593345657,29.0,29.153419593345657,30.0,26.0,29.153419593345657,31.0,23.0,37.0,35.0,29.153419593345657,17.0,50.0,29.153419593345657,28.0,42.0,29.153419593345657,44.0,15.0,21.0,19.0,41.0,38.0,40.0,34.0,23.0,29.153419593345657,18.0,25.0,29.153419593345657,29.153419593345657,12.0,29.153419593345657,23.0,23.0,42.0,24.0,42.0,29.153419593345657,46.0,29.153419593345657,29.153419593345657,29.153419593345657,18.0,20.0,29.153419593345657,29.153419593345657,28.0,36.0,41.0,39.0,35.0,29.153419593345657,44.0,29.153419593345657,29.153419593345657,20.0,41.0,29.153419593345657,13.0,44.0,27.0,16.0,29.153419593345657,20.0,16.0,32.0,28.0,29.0,29.153419593345657,27.0,33.0,22.0,54.0,31.0,26.0,32.0,40.0,41.0,30.0,22.0,29.153419593345657,29.0,29.153419593345657,29.153419593345657,33.0,15.0,27.0,29.153419593345657,38.0,39.0,31.0,29.153419593345657,37.0,25.0,29.153419593345657,28.0,29.153419593345657,21.0,27.0,21.0,29.153419593345657,24.0,32.0,29.153419593345657,22.0,35.0,15.0,29.153419593345657,33.0,33.0,19.0,29.153419593345657,29.153419593345657,14.0,32.0,7.0,35.0,39.0,22.0,16.0,28.0,15.0,29.153419593345657,32.0,15.0,29.153419593345657,18.0,29.153419593345657,42.0,29.153419593345657,29.153419593345657,37.0,32.0,29.153419593345657,50.0,29.153419593345657,52.0,24.0,23.0,29.153419593345657,10.0,29.153419593345657,28.0,15.0,29.153419593345657,29.153419593345657,26.0,44.0,39.0,17.0,43.0,29.0,30.0,37.0,45.0,29.153419593345657,31.0,38.0,29.0,25.0,29.153419593345657,29.153419593345657,33.0,41.0,29.153419593345657,29.153419593345657,37.0,23.0,14.0,19.0,28.0,30.0,37.0,17.0,10.0,31.0,22.0,11.0,29.153419593345657,39.0,29.153419593345657,12.0,30.0,20.0,33.0,32.0,21.0,32.0,29.153419593345657,36.0,32.0,19.0,16.0,29.153419593345657,29.153419593345657,18.0,43.0,29.153419593345657,29.153419593345657,34.0,29.153419593345657,13.0,21.0,35.0,29.153419593345657,29.153419593345657,36.0,19.0,29.153419593345657,19.0,32.0,29.153419593345657,29.153419593345657,28.0,12.0,29.153419593345657,29.153419593345657,40.0,30.0,40.0,36.0,33.0,29.153419593345657,37.0,29.153419593345657,25.0,28.0,29.153419593345657,17.0,16.0,28.0,48.0,23.0,22.0,40.0,43.0,43.0,15.0,37.0,29.153419593345657,39.0,30.0,22.0,8.0,18.0,24.0,13.0,29.0,36.0,26.0,23.0,29.0,29.153419593345657,14.0,12.0,29.153419593345657,24.0,34.0,40.0,29.153419593345657,31.0,29.153419593345657,29.153419593345657,41.0,25.0,29.153419593345657,32.0,29.153419593345657,29.153419593345657,29.153419593345657,49.0,39.0,30.0,23.0,22.0,35.0,33.0,21.0,32.0,29.153419593345657,29.0,41.0,18.0,46.0,22.0,32.0,39.0,29.153419593345657,30.0,46.0,25.0,29.153419593345657,16.0,11.0,29.153419593345657,8.0,29.153419593345657,33.0,29.153419593345657,15.0,29.153419593345657,25.0,23.0,27.0,29.153419593345657,12.0,63.0,12.0,45.0,37.0,18.0,13.0,29.153419593345657,32.0,29.153419593345657,28.0,30.0,29.153419593345657,28.0,48.0,33.0,22.0,29.153419593345657,40.0,30.0,29.153419593345657,13.0,10.0,36.0,29.153419593345657,41.0,40.0,38.0,27.0,29.153419593345657,29.153419593345657,27.0,45.0,17.0,38.0,31.0,30.0,37.0,22.0,31.0,29.153419593345657,42.0,41.0,32.0,17.0,29.153419593345657,28.0,30.0,38.0,18.0,29.153419593345657,29.153419593345657,29.153419593345657,15.0,33.0,32.0,19.0,32.0,41.0,25.0,39.0,29.153419593345657,26.0,23.0,23.0,29.153419593345657,31.0,17.0,29.153419593345657,29.153419593345657,19.0,18.0,34.0,29.153419593345657,29.153419593345657,7.0,32.0,33.0,29.153419593345657,29.153419593345657,29.153419593345657,18.0,19.0,15.0,31.0,29.153419593345657,18.0,29.153419593345657,52.0,29.153419593345657,30.0,29.153419593345657,29.153419593345657,29.153419593345657,37.0,49.0,40.0,25.0,32.0,23.0,29.0,35.0,27.0,21.0,43.0,31.0,28.0,30.0,29.153419593345657,24.0,23.0,33.0,40.0,29.153419593345657,40.0,29.153419593345657,29.153419593345657,32.0,34.0,19.0,29.153419593345657,14.0,30.0,32.0,29.0,30.0,29.153419593345657,29.153419593345657,31.0,17.0,30.0,47.0,20.0,29.153419593345657,29.153419593345657,99.0,46.0,27.0,17.0,29.153419593345657,24.0,11.0,29.153419593345657,29.153419593345657,27.0,29.153419593345657,40.0,50.0,29.153419593345657,22.0,45.0,14.0,29.153419593345657,19.0,29.153419593345657,18.0,19.0,29.153419593345657,36.0,29.0,29.153419593345657,32.0,42.0,25.0,39.0,13.0,21.0,22.0,42.0,28.0,26.0,29.153419593345657,29.153419593345657,13.0,24.0,29.153419593345657,42.0,20.0,29.153419593345657,27.0,29.153419593345657,47.0,29.153419593345657,29.153419593345657,29.153419593345657,22.0,29.153419593345657,40.0,29.153419593345657,17.0,29.153419593345657,29.153419593345657,29.153419593345657,18.0,32.0,12.0,17.0,29.153419593345657,29.153419593345657,29.153419593345657,30.0,35.0,17.0,36.0,35.0,25.0,25.0,23.0,40.0,29.153419593345657,28.0,27.0,35.0,48.0,29.153419593345657,31.0,29.153419593345657,43.0,46.0,46.0,39.0,45.0,18.0,27.0,33.0,30.0,26.0,10.0,23.0,35.0,29.153419593345657,29.153419593345657,29.153419593345657,29.153419593345657,29.153419593345657,17.0,28.0,36.0,39.0,29.153419593345657,29.153419593345657,26.0,29.153419593345657,19.0,26.0,46.0,29.153419593345657,29.153419593345657,32.0,49.0,29.153419593345657,24.0,19.0,29.153419593345657,11.0,29.153419593345657,27.0,31.0,29.0,29.153419593345657,20.0,36.0,29.153419593345657,21.0,29.153419593345657,32.0,13.0,27.0,36.0,20.0,29.153419593345657,33.0,39.0,18.0,46.0,27.0,19.0,36.0,29.0,30.0,29.153419593345657,40.0,29.0,26.0,29.153419593345657,29.153419593345657,23.0,29.153419593345657,37.0,27.0,29.153419593345657,32.0,27.0,23.0,17.0,29.153419593345657,37.0,20.0,18.0,29.153419593345657,37.0,33.0,41.0,41.0,22.0,29.153419593345657,29.153419593345657,39.0,24.0,44.0,32.0,39.0,41.0,29.153419593345657,29.153419593345657,29.153419593345657,26.0,31.0,29.153419593345657,48.0,27.0,23.0,29.153419593345657,31.0,155.5482233502538,155.5482233502538,155.5482233502538,94.0,168.0,155.5482233502538,88.0,155.5482233502538,543.0,155.5482233502538,155.5482233502538,155.5482233502538,155.5482233502538,846.0,175.0,155.5482233502538,230.0,155.5482233502538,83.0,96.0,235.0,155.5482233502538,155.5482233502538,155.5482233502538,146.0,115.0,155.5482233502538,140.0,110.0,155.5482233502538,155.5482233502538,245.0,54.0,155.5482233502538,155.5482233502538,192.0,155.5482233502538,155.5482233502538,155.5482233502538,207.0,70.0,155.5482233502538,155.5482233502538,240.0,155.5482233502538,155.5482233502538,155.5482233502538,155.5482233502538,155.5482233502538,155.5482233502538,82.0,36.0,23.0,300.0,342.0,155.5482233502538,304.0,110.0,155.5482233502538,142.0,155.5482233502538,155.5482233502538,155.5482233502538,128.0,155.5482233502538,155.5482233502538,155.5482233502538,155.5482233502538,38.0,100.0,90.0,140.0,155.5482233502538,270.0,155.5482233502538,155.5482233502538,155.5482233502538,155.5482233502538,155.5482233502538,155.5482233502538,155.5482233502538,155.5482233502538,71.0,155.5482233502538,155.5482233502538,125.0,155.5482233502538,71.0,110.0,155.5482233502538,155.5482233502538,176.0,48.0,155.5482233502538,64.0,228.0,155.5482233502538,76.0,64.0,220.0,155.5482233502538,155.5482233502538,155.5482233502538,40.0,155.5482233502538,152.0,155.5482233502538,140.0,18.0,36.0,135.0,495.0,37.0,155.5482233502538,175.0,155.5482233502538,155.5482233502538,155.5482233502538,155.5482233502538,51.0,100.0,155.5482233502538,100.0,155.5482233502538,155.5482233502538,99.0,135.0,94.0,145.0,155.5482233502538,168.0,155.5482233502538,225.0,155.5482233502538,49.0,140.0,50.0,92.0,155.5482233502538,325.0,155.5482233502538,155.5482233502538,63.0,155.5482233502538,284.0,155.5482233502538,155.5482233502538,119.0,155.5482233502538,155.5482233502538,204.0,155.5482233502538,155.0,485.0,155.5482233502538,155.5482233502538,94.0,135.0,53.0,114.0,155.5482233502538,105.0,285.0,155.5482233502538,155.5482233502538,156.0,155.5482233502538,155.5482233502538,155.5482233502538,78.0,155.5482233502538,130.0,155.5482233502538,48.0,55.0,130.0,155.5482233502538,130.0,155.5482233502538,155.5482233502538,155.5482233502538,92.0,23.0,155.5482233502538,155.5482233502538,155.5482233502538,495.0,58.0,114.0,160.0,155.5482233502538,94.0,155.5482233502538,155.5482233502538,155.5482233502538,210.0,155.5482233502538,48.0,99.0,318.0,155.5482233502538,155.5482233502538,155.5482233502538,44.0,190.0,155.5482233502538,280.0,155.5482233502538,87.0,155.5482233502538,155.5482233502538,155.5482233502538,155.5482233502538,130.0,175.0,271.0,129.0,120.0,155.5482233502538,155.5482233502538,478.0,155.5482233502538,155.5482233502538,190.0,56.0,32.0,155.5482233502538,155.5482233502538,744.0,53.0,155.5482233502538,370.0,37.0,155.5482233502538,45.0,155.5482233502538,192.0,155.5482233502538,155.5482233502538,155.5482233502538,155.5482233502538,88.0,155.5482233502538,176.0,194.0,155.5482233502538,155.5482233502538,680.0,402.0,155.5482233502538,155.5482233502538,155.5482233502538,55.0,155.5482233502538,258.0,155.5482233502538,155.5482233502538,155.5482233502538,375.0,150.0,130.0,155.5482233502538,155.5482233502538,155.5482233502538,155.5482233502538,67.0,155.5482233502538,155.5482233502538,155.5482233502538,155.5482233502538,155.5482233502538,56.0,155.5482233502538,45.0,155.5482233502538,57.0,155.5482233502538,116.0,155.5482233502538,278.0,155.5482233502538,122.0,155.0,155.5482233502538,155.5482233502538,135.0,545.0,220.0,49.0,75.0,40.0,74.0,182.0,194.0,155.5482233502538,120.0,360.0,215.0,184.0,155.5482233502538,155.5482233502538,135.0,42.0,155.5482233502538,155.5482233502538,105.0,132.0,148.0,180.0,205.0,155.5482233502538,148.0,96.0,85.0,155.5482233502538,94.0,64.0,155.5482233502538,140.0,155.5482233502538,231.0,155.5482233502538,155.5482233502538,29.0,155.5482233502538,168.0,156.0,155.5482233502538,120.0,68.0,155.5482233502538,52.0,155.5482233502538,155.5482233502538,58.0,255.0,155.5482233502538,155.5482233502538,171.0,155.5482233502538,105.0,73.0,155.5482233502538,155.5482233502538,155.5482233502538,108.0,83.0,155.5482233502538,74.0,155.5482233502538,155.5482233502538,155.5482233502538,155.5482233502538,43.0,155.5482233502538,155.5482233502538,167.0,155.5482233502538,54.0,249.0,325.0,155.5482233502538,155.5482233502538,155.5482233502538,293.0,83.0,155.5482233502538,155.5482233502538,66.0,140.0,465.0,89.0,66.0,94.0,158.0,325.0,84.0,75.0,155.5482233502538,72.0,82.0,155.5482233502538,182.0,59.0,110.0,50.0,155.5482233502538,155.5482233502538,285.0,81.0,196.0,155.5482233502538,415.0,87.0,155.5482233502538,275.0,115.0,155.5482233502538,155.5482233502538,155.5482233502538,155.5482233502538,155.5482233502538,88.0,155.5482233502538,155.5482233502538,165.0,155.5482233502538,155.5482233502538,155.5482233502538,579.0,155.5482233502538,176.0,310.0,61.0,167.0,474.0,155.5482233502538,155.5482233502538,155.5482233502538,115.0,170.0,76.0,78.0,155.5482233502538,210.0,277.0,155.5482233502538,180.0,145.0,180.0,155.5482233502538,85.0,60.0,155.5482233502538,155.5482233502538,155.5482233502538,155.5482233502538,155.5482233502538,155.5482233502538,155.5482233502538,155.5482233502538,50.0,120.0,155.5482233502538,155.5482233502538,14.0,70.0,92.0,64.0,63.0,95.0,155.5482233502538,210.0,155.5482233502538,105.0,155.5482233502538,155.5482233502538,71.0,237.0,60.0,56.0,155.5482233502538,49.0,155.5482233502538,155.5482233502538,105.0,36.0,100.0,155.5482233502538,140.0,155.5482233502538,155.5482233502538,155.5482233502538,155.5482233502538,155.5482233502538,155.5482233502538,191.0,110.0,75.0,155.5482233502538,328.0,155.5482233502538,49.0,125.0,155.5482233502538,250.0,480.0,265.0,155.5482233502538,155.5482233502538,66.0,155.5482233502538,155.5482233502538,122.0,155.5482233502538,155.5482233502538,155.5482233502538,76.0,145.0,193.0,71.0,155.5482233502538,155.5482233502538,79.0,155.5482233502538,155.5482233502538,90.0,170.0,76.0,155.5482233502538,155.5482233502538,210.0,155.5482233502538,155.5482233502538,86.0,105.0,165.0,155.5482233502538,155.5482233502538,326.0,66.0,130.0,155.5482233502538,155.5482233502538,155.5482233502538,155.5482233502538,82.0,105.0,188.0,155.5482233502538,106.0,155.5482233502538,65.0,155.5482233502538,56.0,155.5482233502538,155.5482233502538,155.5482233502538,210.0,155.0,215.0,190.0,155.5482233502538,56.0,76.0,225.0,207.0,166.0,67.0,155.5482233502538,155.5482233502538,106.0,155.5482233502538,44.0,115.0,215.0,155.5482233502538,155.5482233502538,155.5482233502538,155.5482233502538,155.5482233502538,274.0,77.0,54.0,155.5482233502538,88.0,18.0,126.0,126.0,165.0,155.5482233502538,155.5482233502538,44.0,120.0,330.0,63.0,130.0,155.5482233502538,155.5482233502538,155.5482233502538,155.5482233502538,155.5482233502538,155.5482233502538,155.5482233502538,600.0,155.5482233502538,155.5482233502538,155.5482233502538,156.0,155.5482233502538,155.5482233502538,140.0,155.5482233502538,115.0,230.0,185.0,155.5482233502538,25.0,155.5482233502538,120.0,155.5482233502538,155.5482233502538,155.5482233502538,126.0,155.5482233502538,155.5482233502538,293.0,41.0,272.0,182.0,158.0,194.0,321.0,155.5482233502538,144.0,155.5482233502538,155.5482233502538,15.0,155.5482233502538,155.5482233502538,160.0,155.5482233502538,155.5482233502538,115.0,155.5482233502538,54.0,155.5482233502538,155.5482233502538,155.5482233502538,155.5482233502538,155.5482233502538,90.0,155.5482233502538,183.0,155.5482233502538,155.5482233502538,155.5482233502538,66.0,91.0,46.0,105.0,155.5482233502538,155.5482233502538,155.5482233502538,152.0,440.0,144.0,159.0,130.0,155.5482233502538,100.0,106.0,77.0,155.5482233502538,135.0,540.0,90.0,200.0,155.5482233502538,70.0,155.5482233502538,155.5482233502538,231.0,130.0,155.5482233502538,132.0,155.5482233502538,155.5482233502538,190.0,100.0,168.0,155.5482233502538,49.0,240.0,155.5482233502538,155.5482233502538,155.5482233502538,155.5482233502538,155.5482233502538,265.0,45.0,155.5482233502538,105.0,155.5482233502538,155.5482233502538,205.0,155.5482233502538,155.5482233502538,180.0,180.0,155.5482233502538,155.5482233502538,95.0,125.0,155.5482233502538,480.0,125.0,155.5482233502538,155.0,155.5482233502538,200.0,155.5482233502538,155.5482233502538,155.5482233502538,100.0,155.5482233502538,155.5482233502538,335.0,155.5482233502538,160.0,387.0,22.0,155.5482233502538,291.0,155.5482233502538,392.0,185.0,155.5482233502538,178.0,155.5482233502538,155.5482233502538,200.0,127.0,105.0,155.5482233502538,155.5482233502538,180.0,155.5482233502538,155.5482233502538,155.5482233502538,79.0,155.5482233502538,120.0,165.0,155.5482233502538,155.5482233502538,120.0,155.5482233502538,160.0,155.5482233502538,150.0,94.0,116.0,155.5482233502538,140.0,105.0,155.5482233502538,57.0,200.0,155.5482233502538,155.5482233502538,74.0,155.5482233502538,510.0,155.5482233502538,110.0,155.5482233502538,155.5482233502538,155.5482233502538,155.5482233502538,16.0,155.5482233502538,155.5482233502538,180.0,155.5482233502538,112.0,155.5482233502538,155.5482233502538,33.6,26.6,23.3,28.1,43.1,25.6,31.0,35.3,30.5,32.457463672391015,37.6,38.0,27.1,30.1,25.8,30.0,45.8,29.6,43.3,34.6,39.3,35.4,39.8,29.0,36.6,31.1,39.4,23.2,22.2,34.1,36.0,31.6,24.8,19.9,27.6,24.0,33.2,32.9,38.2,37.1,34.0,40.2,22.7,45.4,27.4,42.0,29.7,28.0,39.1,32.457463672391015,19.4,24.2,24.4,33.7,34.7,23.0,37.7,46.8,40.5,41.5,32.457463672391015,32.9,25.0,25.4,32.8,29.0,32.5,42.7,19.6,28.9,32.9,28.6,43.4,35.1,32.0,24.7,32.6,37.7,43.2,25.0,22.4,32.457463672391015,29.3,24.6,48.8,32.4,36.6,38.5,37.1,26.5,19.1,32.0,46.7,23.8,24.7,33.9,31.6,20.4,28.7,49.7,39.0,26.1,22.5,26.6,39.6,28.7,22.4,29.5,34.3,37.4,33.3,34.0,31.2,34.0,30.5,31.2,34.0,33.7,28.2,23.2,53.2,34.2,33.6,26.8,33.3,55.0,42.9,33.3,34.5,27.9,29.7,33.3,34.5,38.3,21.1,33.8,30.8,28.7,31.2,36.9,21.1,39.5,32.5,32.4,32.8,32.457463672391015,32.8,30.5,33.7,27.3,37.4,21.9,34.3,40.6,47.9,50.0,24.6,25.2,29.0,40.9,29.7,37.2,44.2,29.7,31.6,29.9,32.5,29.6,31.9,28.4,30.8,35.4,28.9,43.5,29.7,32.7,31.2,67.1,45.0,39.1,23.2,34.9,27.7,26.8,27.6,35.9,30.1,32.0,27.9,31.6,22.6,33.1,30.4,52.3,24.4,39.4,24.3,22.9,34.8,30.9,31.0,40.1,27.3,20.4,37.7,23.9,37.5,37.7,33.2,35.5,27.7,42.8,34.2,42.6,34.2,41.8,35.8,30.0,29.0,37.8,34.6,31.6,25.2,28.8,23.6,34.6,35.7,37.2,36.7,45.2,44.0,46.2,25.4,35.0,29.7,43.6,35.9,44.1,30.8,18.4,29.2,33.1,25.6,27.1,38.2,30.0,31.2,52.3,35.4,30.1,31.2,28.0,24.4,35.8,27.6,33.6,30.1,28.7,25.9,33.3,30.9,30.0,32.1,32.4,32.0,33.6,36.3,40.0,25.1,27.5,45.6,25.2,23.0,33.2,34.2,40.5,26.5,27.8,24.9,25.3,37.9,35.9,32.4,30.4,27.0,26.0,38.7,45.6,20.8,36.1,36.9,36.6,43.3,40.5,21.9,35.5,28.0,30.7,36.6,23.6,32.3,31.6,35.8,52.9,21.0,39.7,25.5,24.8,30.5,32.9,26.2,39.4,26.6,29.5,35.9,34.1,19.3,30.5,38.1,23.5,27.5,31.6,27.4,26.8,35.7,25.6,35.1,35.1,45.5,30.8,23.1,32.7,43.3,23.6,23.9,47.9,33.8,31.2,34.2,39.9,25.9,25.9,32.0,34.7,36.8,38.5,28.7,23.5,21.8,41.0,42.2,31.2,34.4,27.2,42.7,30.4,33.3,39.9,35.3,36.5,31.2,29.8,39.2,38.5,34.9,34.0,27.6,21.0,27.5,32.8,38.4,32.457463672391015,35.8,34.9,36.2,39.2,25.2,37.2,48.3,43.4,30.8,20.0,25.4,25.1,24.3,22.3,32.3,43.3,32.0,31.6,32.0,45.7,23.7,22.1,32.9,27.7,24.7,34.3,21.1,34.9,32.0,24.2,35.0,31.6,32.9,42.1,28.9,21.9,25.9,42.4,35.7,34.4,42.4,26.2,34.6,35.7,27.2,38.5,18.2,26.4,45.3,26.0,40.6,30.8,42.9,37.0,32.457463672391015,34.1,40.6,35.0,22.2,30.4,30.0,25.6,24.5,42.4,37.4,29.9,18.2,36.8,34.3,32.2,33.2,30.5,29.7,59.4,25.3,36.5,33.6,30.5,21.2,28.9,39.9,19.6,37.8,33.6,26.7,30.2,37.6,25.9,20.8,21.8,35.3,27.6,24.0,21.8,27.8,36.8,30.0,46.1,41.3,33.2,38.8,29.9,28.9,27.3,33.7,23.8,25.9,28.0,35.5,35.2,27.8,38.2,44.2,42.3,40.7,46.5,25.6,26.1,36.8,33.5,32.8,28.9,32.457463672391015,26.6,26.0,30.1,25.1,29.3,25.2,37.2,39.0,33.3,37.3,33.3,36.5,28.6,30.4,25.0,29.7,22.1,24.2,27.3,25.6,31.6,30.3,37.6,32.8,19.6,25.0,33.2,32.457463672391015,34.2,31.6,21.8,18.2,26.3,30.8,24.6,29.8,45.3,41.3,29.8,33.3,32.9,29.6,21.7,36.3,36.4,39.4,32.4,34.9,39.5,32.0,34.5,43.6,33.1,32.8,28.5,27.4,31.9,27.8,29.9,36.9,25.5,38.1,27.8,46.2,30.1,33.8,41.3,37.6,26.9,32.4,26.1,38.6,32.0,31.3,34.3,32.5,22.6,29.5,34.7,30.1,35.5,24.0,42.9,27.0,34.7,42.1,25.0,26.5,38.7,28.7,22.5,34.9,24.3,33.3,21.1,46.8,39.4,34.4,28.5,33.6,32.0,45.3,27.8,36.8,23.1,27.1,23.7,27.8,35.2,28.4,35.8,40.0,19.5,41.5,24.0,30.9,32.9,38.2,32.5,36.1,25.8,28.7,20.1,28.2,32.4,38.4,24.2,40.8,43.5,30.8,37.7,24.7,32.4,34.6,24.7,27.4,34.5,26.2,27.5,25.9,31.2,28.8,31.6,40.9,19.5,29.3,34.3,29.5,28.0,27.6,39.4,23.4,37.8,28.3,26.4,25.2,33.8,34.1,26.8,34.2,38.7,21.8,38.9,39.0,34.2,27.7,42.9,37.6,37.9,33.7,34.8,32.5,27.5,34.0,30.9,33.6,25.4,35.5,57.3,35.6,30.9,24.8,35.3,36.0,24.2,24.2,49.6,44.6,32.3,32.457463672391015,33.2,23.1,28.3,24.1,46.1,24.6,42.3,39.1,38.5,23.5,30.4,29.9,25.0,34.5,44.5,35.9,27.6,35.0,38.5,28.4,39.8,32.457463672391015,34.4,32.8,38.0,31.2,29.6,41.2,26.4,29.5,33.9,33.8,23.1,35.5,35.6,29.3,38.1,29.3,39.1,32.8,39.4,36.1,32.4,22.9,30.1,28.4,28.4,44.5,29.0,23.3,35.4,27.4,32.0,36.6,39.5,42.3,30.8,28.5,32.7,40.6,30.0,49.3,46.3,36.4,24.3,31.2,39.0,26.0,43.3,32.4,36.5,32.0,36.3,37.5,35.5,28.4,44.0,22.5,32.9,36.8,26.2,30.1,30.4,0.627,0.351,0.672,0.167,2.288,0.201,0.248,0.134,0.158,0.232,0.191,0.537,1.441,0.398,0.587,0.484,0.551,0.254,0.183,0.529,0.704,0.388,0.451,0.263,0.254,0.205,0.257,0.487,0.245,0.337,0.546,0.851,0.267,0.188,0.512,0.966,0.42,0.665,0.503,1.39,0.271,0.696,0.235,0.721,0.294,1.893,0.564,0.586,0.344,0.305,0.491,0.526,0.342,0.467,0.718,0.248,0.254,0.962,1.781,0.173,0.304,0.27,0.587,0.699,0.258,0.203,0.855,0.845,0.334,0.189,0.867,0.411,0.583,0.231,0.396,0.14,0.391,0.37,0.27,0.307,0.14,0.102,0.767,0.237,0.227,0.698,0.178,0.324,0.153,0.165,0.258,0.443,0.261,0.277,0.761,0.255,0.13,0.323,0.356,0.325,1.222,0.179,0.262,0.283,0.93,0.801,0.207,0.287,0.336,0.247,0.199,0.543,0.192,0.391,0.588,0.539,0.22,0.654,0.443,0.223,0.759,0.26,0.404,0.186,0.278,0.496,0.452,0.261,0.403,0.741,0.361,1.114,0.356,0.457,0.647,0.088,0.597,0.532,0.703,0.159,0.268,0.286,0.318,0.272,0.237,0.572,0.096,1.4,0.218,0.085,0.399,0.432,1.189,0.687,0.137,0.337,0.637,0.833,0.229,0.817,0.294,0.204,0.167,0.368,0.743,0.722,0.256,0.709,0.471,0.495,0.18,0.542,0.773,0.678,0.37,0.719,0.382,0.319,0.19,0.956,0.084,0.725,0.299,0.268,0.244,0.745,0.615,1.321,0.64,0.361,0.142,0.374,0.383,0.578,0.136,0.395,0.187,0.678,0.905,0.15,0.874,0.236,0.787,0.235,0.324,0.407,0.605,0.151,0.289,0.355,0.29,0.375,0.164,0.431,0.26,0.742,0.514,0.464,1.224,0.261,1.072,0.805,0.209,0.687,0.666,0.101,0.198,0.652,2.329,0.089,0.645,0.238,0.583,0.394,0.293,0.479,0.586,0.686,0.831,0.582,0.192,0.446,0.402,1.318,0.329,1.213,0.258,0.427,0.282,0.143,0.38,0.284,0.249,0.238,0.926,0.543,0.557,0.092,0.655,1.353,0.299,0.761,0.612,0.2,0.226,0.997,0.933,1.101,0.078,0.24,1.136,0.128,0.254,0.422,0.251,0.677,0.296,0.454,0.744,0.881,0.334,0.28,0.262,0.165,0.259,0.647,0.619,0.808,0.34,0.263,0.434,0.757,1.224,0.613,0.254,0.692,0.337,0.52,0.412,0.84,0.839,0.422,0.156,0.209,0.207,0.215,0.326,0.143,1.391,0.875,0.313,0.605,0.433,0.626,1.127,0.315,0.284,0.345,0.15,0.129,0.527,0.197,0.254,0.731,0.148,0.123,0.692,0.2,0.127,0.122,1.476,0.166,0.282,0.137,0.26,0.259,0.932,0.343,0.893,0.331,0.472,0.673,0.389,0.29,0.485,0.349,0.654,0.187,0.279,0.346,0.237,0.252,0.243,0.58,0.559,0.302,0.962,0.569,0.378,0.875,0.583,0.207,0.305,0.52,0.385,0.499,0.368,0.252,0.306,0.234,2.137,1.731,0.545,0.225,0.816,0.528,0.299,0.509,0.238,1.021,0.821,0.236,0.947,1.268,0.221,0.205,0.66,0.239,0.452,0.949,0.444,0.34,0.389,0.463,0.803,1.6,0.944,0.196,0.389,0.241,0.161,0.151,0.286,0.28,0.135,0.52,0.376,0.336,1.191,0.702,0.674,0.528,1.076,0.256,0.534,0.258,1.095,0.554,0.624,0.219,0.507,0.561,0.496,0.421,0.516,0.264,0.256,0.328,0.284,0.233,0.108,0.551,0.527,0.167,1.138,0.205,0.244,0.434,0.147,0.727,0.435,0.497,0.23,0.955,0.38,2.42,0.658,0.33,0.51,0.285,0.415,0.542,0.381,0.832,0.498,0.212,0.687,0.364,1.001,0.46,0.733,0.416,0.705,0.258,1.022,0.452,0.269,0.6,0.183,0.571,0.607,0.17,0.259,0.21,0.126,0.231,0.711,0.466,0.162,0.419,0.344,0.197,0.306,0.233,0.63,0.365,0.536,1.159,0.294,0.551,0.629,0.292,0.145,1.144,0.174,0.304,0.292,0.547,0.163,0.839,0.313,0.267,0.727,0.738,0.238,0.263,0.314,0.692,0.968,0.409,0.297,0.207,0.2,0.525,0.154,0.268,0.771,0.304,0.18,0.582,0.187,0.305,0.189,0.652,0.151,0.444,0.299,0.107,0.493,0.66,0.717,0.686,0.917,0.501,1.251,0.302,0.197,0.735,0.804,0.968,0.661,0.549,0.825,0.159,0.365,0.423,1.034,0.16,0.341,0.68,0.204,0.591,0.247,0.422,0.471,0.161,0.218,0.237,0.126,0.3,0.121,0.502,0.401,0.497,0.601,0.748,0.412,0.085,0.338,0.203,0.27,0.268,0.43,0.198,0.892,0.28,0.813,0.693,0.245,0.575,0.371,0.206,0.259,0.19,0.687,0.417,0.129,0.249,1.154,0.342,0.925,0.175,0.402,1.699,0.733,0.682,0.194,0.559,0.088,0.407,0.4,0.19,0.1,0.692,0.212,0.514,1.258,0.482,0.27,0.138,0.292,0.593,0.787,0.878,0.557,0.207,0.157,0.257,1.282,0.141,0.246,1.698,1.461,0.347,0.158,0.362,0.206,0.393,0.144,0.148,0.732,0.238,0.343,0.115,0.167,0.465,0.153,0.649,0.871,0.149,0.695,0.303,0.178,0.61,0.73,0.134,0.447,0.455,0.26,0.133,0.234,0.466,0.269,0.455,0.142,0.24,0.155,1.162,0.19,1.292,0.182,1.394,0.165,0.637,0.245,0.217,0.235,0.141,0.43,0.164,0.631,0.551,0.285,0.88,0.587,0.328,0.23,0.263,0.127,0.614,0.332,0.364,0.366,0.536,0.64,0.591,0.314,0.181,0.828,0.335,0.856,0.257,0.886,0.439,0.191,0.128,0.268,0.253,0.598,0.904,0.483,0.565,0.905,0.304,0.118,0.177,0.261,0.176,0.148,0.674,0.295,0.439,0.441,0.352,0.121,0.826,0.97,0.595,0.415,0.378,0.317,0.289,0.349,0.251,0.265,0.236,0.496,0.433,0.326,0.141,0.323,0.259,0.646,0.426,0.56,0.284,0.515,0.6,0.453,0.293,0.785,0.4,0.219,0.734,1.174,0.488,0.358,1.096,0.408,0.178,1.182,0.261,0.223,0.222,0.443,1.057,0.391,0.258,0.197,0.278,0.766,0.403,0.142,0.171,0.34,0.245,0.349,0.315,50.0,31.0,32.0,21.0,33.0,30.0,26.0,29.0,53.0,54.0,30.0,34.0,57.0,59.0,51.0,32.0,31.0,31.0,33.0,32.0,27.0,50.0,41.0,29.0,51.0,41.0,43.0,22.0,57.0,38.0,60.0,28.0,22.0,28.0,45.0,33.0,35.0,46.0,27.0,56.0,26.0,37.0,48.0,54.0,40.0,25.0,29.0,22.0,31.0,24.0,22.0,26.0,30.0,58.0,42.0,21.0,41.0,31.0,44.0,22.0,21.0,39.0,36.0,24.0,42.0,32.0,38.0,54.0,25.0,27.0,28.0,26.0,42.0,23.0,22.0,22.0,41.0,27.0,26.0,24.0,22.0,22.0,36.0,22.0,37.0,27.0,45.0,26.0,43.0,24.0,21.0,34.0,42.0,60.0,21.0,40.0,24.0,22.0,23.0,31.0,33.0,22.0,21.0,24.0,27.0,21.0,27.0,37.0,25.0,24.0,24.0,46.0,23.0,25.0,39.0,61.0,38.0,25.0,22.0,21.0,25.0,24.0,23.0,69.0,23.0,26.0,30.0,23.0,40.0,62.0,33.0,33.0,30.0,39.0,26.0,31.0,21.0,22.0,29.0,28.0,55.0,38.0,22.0,42.0,23.0,21.0,41.0,34.0,65.0,22.0,24.0,37.0,42.0,23.0,43.0,36.0,21.0,23.0,22.0,47.0,36.0,45.0,27.0,21.0,32.0,41.0,22.0,34.0,29.0,29.0,36.0,29.0,25.0,23.0,33.0,36.0,42.0,26.0,47.0,37.0,32.0,23.0,21.0,27.0,40.0,41.0,60.0,33.0,31.0,25.0,21.0,40.0,36.0,40.0,42.0,29.0,21.0,23.0,26.0,29.0,21.0,28.0,32.0,27.0,55.0,27.0,57.0,52.0,21.0,41.0,25.0,24.0,60.0,24.0,36.0,38.0,25.0,32.0,32.0,41.0,21.0,66.0,37.0,61.0,26.0,22.0,26.0,24.0,31.0,24.0,22.0,46.0,22.0,29.0,23.0,26.0,51.0,23.0,32.0,27.0,21.0,22.0,22.0,33.0,29.0,49.0,41.0,23.0,34.0,23.0,42.0,27.0,24.0,25.0,44.0,21.0,30.0,25.0,24.0,51.0,34.0,27.0,24.0,63.0,35.0,43.0,25.0,24.0,21.0,28.0,38.0,21.0,40.0,21.0,52.0,25.0,29.0,23.0,57.0,22.0,28.0,39.0,37.0,47.0,52.0,51.0,34.0,29.0,26.0,33.0,21.0,25.0,31.0,24.0,65.0,28.0,29.0,24.0,46.0,58.0,30.0,25.0,35.0,28.0,37.0,29.0,47.0,21.0,25.0,30.0,41.0,22.0,27.0,25.0,43.0,26.0,30.0,29.0,28.0,59.0,31.0,25.0,36.0,43.0,21.0,24.0,30.0,37.0,23.0,37.0,46.0,25.0,41.0,44.0,22.0,26.0,44.0,44.0,33.0,41.0,22.0,36.0,22.0,33.0,57.0,49.0,22.0,23.0,26.0,37.0,29.0,30.0,46.0,24.0,21.0,49.0,28.0,44.0,48.0,29.0,29.0,63.0,65.0,67.0,30.0,30.0,29.0,21.0,22.0,45.0,25.0,21.0,21.0,25.0,28.0,58.0,22.0,22.0,32.0,35.0,24.0,22.0,21.0,25.0,25.0,24.0,35.0,45.0,58.0,28.0,42.0,27.0,21.0,37.0,31.0,25.0,39.0,22.0,25.0,25.0,31.0,55.0,35.0,38.0,41.0,26.0,46.0,25.0,39.0,28.0,28.0,25.0,22.0,21.0,21.0,22.0,22.0,37.0,27.0,28.0,26.0,21.0,21.0,21.0,36.0,31.0,25.0,38.0,26.0,43.0,23.0,38.0,22.0,29.0,36.0,29.0,41.0,28.0,21.0,31.0,41.0,22.0,24.0,33.0,30.0,25.0,28.0,26.0,22.0,26.0,23.0,23.0,25.0,72.0,24.0,38.0,62.0,24.0,51.0,81.0,48.0,26.0,39.0,37.0,34.0,21.0,22.0,25.0,38.0,27.0,28.0,22.0,22.0,50.0,24.0,59.0,29.0,31.0,39.0,63.0,35.0,29.0,28.0,23.0,31.0,24.0,21.0,58.0,28.0,67.0,24.0,42.0,33.0,45.0,22.0,66.0,30.0,25.0,55.0,39.0,21.0,28.0,41.0,41.0,40.0,38.0,35.0,21.0,21.0,64.0,46.0,21.0,58.0,22.0,24.0,28.0,53.0,51.0,41.0,60.0,25.0,26.0,26.0,45.0,24.0,21.0,21.0,24.0,22.0,31.0,22.0,24.0,29.0,31.0,24.0,23.0,46.0,67.0,23.0,32.0,43.0,27.0,56.0,25.0,29.0,37.0,53.0,28.0,50.0,37.0,21.0,25.0,66.0,23.0,28.0,37.0,30.0,58.0,42.0,35.0,54.0,28.0,24.0,32.0,27.0,22.0,21.0,46.0,37.0,33.0,39.0,21.0,22.0,22.0,23.0,25.0,35.0,21.0,36.0,62.0,21.0,27.0,62.0,42.0,52.0,22.0,41.0,29.0,52.0,25.0,45.0,24.0,44.0,25.0,34.0,22.0,46.0,21.0,38.0,26.0,24.0,28.0,30.0,54.0,36.0,21.0,22.0,25.0,27.0,23.0,24.0,36.0,40.0,26.0,50.0,27.0,30.0,23.0,50.0,24.0,28.0,28.0,45.0,21.0,21.0,29.0,21.0,21.0,45.0,21.0,34.0,24.0,23.0,22.0,31.0,38.0,48.0,23.0,32.0,28.0,27.0,24.0,50.0,31.0,27.0,30.0,33.0,22.0,42.0,23.0,23.0,27.0,28.0,27.0,22.0,25.0,22.0,41.0,51.0,27.0,54.0,22.0,43.0,40.0,40.0,24.0,70.0,40.0,43.0,45.0,49.0,21.0,47.0,22.0,68.0,31.0,53.0,25.0,25.0,23.0,22.0,26.0,22.0,27.0,69.0,25.0,22.0,29.0,23.0,46.0,34.0,44.0,23.0,43.0,25.0,43.0,31.0,22.0,28.0,26.0,26.0,49.0,52.0,41.0,27.0,28.0,30.0,22.0,45.0,23.0,24.0,40.0,38.0,21.0,32.0,34.0,31.0,56.0,24.0,52.0,34.0,21.0,42.0,42.0,45.0,38.0,25.0,22.0,22.0,22.0,34.0,22.0,24.0,22.0,53.0,28.0,21.0,42.0,21.0,42.0,48.0,26.0,22.0,45.0,39.0,46.0,27.0,32.0,36.0,50.0,22.0,28.0,25.0,26.0,45.0,37.0,39.0,52.0,26.0,66.0,22.0,43.0,33.0,63.0,27.0,30.0,47.0,23.0],\"y0\":\" \",\"yaxis\":\"y\",\"type\":\"box\"}],                        {\"template\":{\"data\":{\"barpolar\":[{\"marker\":{\"line\":{\"color\":\"rgb(17,17,17)\",\"width\":0.5},\"pattern\":{\"fillmode\":\"overlay\",\"size\":10,\"solidity\":0.2}},\"type\":\"barpolar\"}],\"bar\":[{\"error_x\":{\"color\":\"#f2f5fa\"},\"error_y\":{\"color\":\"#f2f5fa\"},\"marker\":{\"line\":{\"color\":\"rgb(17,17,17)\",\"width\":0.5},\"pattern\":{\"fillmode\":\"overlay\",\"size\":10,\"solidity\":0.2}},\"type\":\"bar\"}],\"carpet\":[{\"aaxis\":{\"endlinecolor\":\"#A2B1C6\",\"gridcolor\":\"#506784\",\"linecolor\":\"#506784\",\"minorgridcolor\":\"#506784\",\"startlinecolor\":\"#A2B1C6\"},\"baxis\":{\"endlinecolor\":\"#A2B1C6\",\"gridcolor\":\"#506784\",\"linecolor\":\"#506784\",\"minorgridcolor\":\"#506784\",\"startlinecolor\":\"#A2B1C6\"},\"type\":\"carpet\"}],\"choropleth\":[{\"colorbar\":{\"outlinewidth\":0,\"ticks\":\"\"},\"type\":\"choropleth\"}],\"contourcarpet\":[{\"colorbar\":{\"outlinewidth\":0,\"ticks\":\"\"},\"type\":\"contourcarpet\"}],\"contour\":[{\"colorbar\":{\"outlinewidth\":0,\"ticks\":\"\"},\"colorscale\":[[0.0,\"#0d0887\"],[0.1111111111111111,\"#46039f\"],[0.2222222222222222,\"#7201a8\"],[0.3333333333333333,\"#9c179e\"],[0.4444444444444444,\"#bd3786\"],[0.5555555555555556,\"#d8576b\"],[0.6666666666666666,\"#ed7953\"],[0.7777777777777778,\"#fb9f3a\"],[0.8888888888888888,\"#fdca26\"],[1.0,\"#f0f921\"]],\"type\":\"contour\"}],\"heatmapgl\":[{\"colorbar\":{\"outlinewidth\":0,\"ticks\":\"\"},\"colorscale\":[[0.0,\"#0d0887\"],[0.1111111111111111,\"#46039f\"],[0.2222222222222222,\"#7201a8\"],[0.3333333333333333,\"#9c179e\"],[0.4444444444444444,\"#bd3786\"],[0.5555555555555556,\"#d8576b\"],[0.6666666666666666,\"#ed7953\"],[0.7777777777777778,\"#fb9f3a\"],[0.8888888888888888,\"#fdca26\"],[1.0,\"#f0f921\"]],\"type\":\"heatmapgl\"}],\"heatmap\":[{\"colorbar\":{\"outlinewidth\":0,\"ticks\":\"\"},\"colorscale\":[[0.0,\"#0d0887\"],[0.1111111111111111,\"#46039f\"],[0.2222222222222222,\"#7201a8\"],[0.3333333333333333,\"#9c179e\"],[0.4444444444444444,\"#bd3786\"],[0.5555555555555556,\"#d8576b\"],[0.6666666666666666,\"#ed7953\"],[0.7777777777777778,\"#fb9f3a\"],[0.8888888888888888,\"#fdca26\"],[1.0,\"#f0f921\"]],\"type\":\"heatmap\"}],\"histogram2dcontour\":[{\"colorbar\":{\"outlinewidth\":0,\"ticks\":\"\"},\"colorscale\":[[0.0,\"#0d0887\"],[0.1111111111111111,\"#46039f\"],[0.2222222222222222,\"#7201a8\"],[0.3333333333333333,\"#9c179e\"],[0.4444444444444444,\"#bd3786\"],[0.5555555555555556,\"#d8576b\"],[0.6666666666666666,\"#ed7953\"],[0.7777777777777778,\"#fb9f3a\"],[0.8888888888888888,\"#fdca26\"],[1.0,\"#f0f921\"]],\"type\":\"histogram2dcontour\"}],\"histogram2d\":[{\"colorbar\":{\"outlinewidth\":0,\"ticks\":\"\"},\"colorscale\":[[0.0,\"#0d0887\"],[0.1111111111111111,\"#46039f\"],[0.2222222222222222,\"#7201a8\"],[0.3333333333333333,\"#9c179e\"],[0.4444444444444444,\"#bd3786\"],[0.5555555555555556,\"#d8576b\"],[0.6666666666666666,\"#ed7953\"],[0.7777777777777778,\"#fb9f3a\"],[0.8888888888888888,\"#fdca26\"],[1.0,\"#f0f921\"]],\"type\":\"histogram2d\"}],\"histogram\":[{\"marker\":{\"pattern\":{\"fillmode\":\"overlay\",\"size\":10,\"solidity\":0.2}},\"type\":\"histogram\"}],\"mesh3d\":[{\"colorbar\":{\"outlinewidth\":0,\"ticks\":\"\"},\"type\":\"mesh3d\"}],\"parcoords\":[{\"line\":{\"colorbar\":{\"outlinewidth\":0,\"ticks\":\"\"}},\"type\":\"parcoords\"}],\"pie\":[{\"automargin\":true,\"type\":\"pie\"}],\"scatter3d\":[{\"line\":{\"colorbar\":{\"outlinewidth\":0,\"ticks\":\"\"}},\"marker\":{\"colorbar\":{\"outlinewidth\":0,\"ticks\":\"\"}},\"type\":\"scatter3d\"}],\"scattercarpet\":[{\"marker\":{\"colorbar\":{\"outlinewidth\":0,\"ticks\":\"\"}},\"type\":\"scattercarpet\"}],\"scattergeo\":[{\"marker\":{\"colorbar\":{\"outlinewidth\":0,\"ticks\":\"\"}},\"type\":\"scattergeo\"}],\"scattergl\":[{\"marker\":{\"line\":{\"color\":\"#283442\"}},\"type\":\"scattergl\"}],\"scattermapbox\":[{\"marker\":{\"colorbar\":{\"outlinewidth\":0,\"ticks\":\"\"}},\"type\":\"scattermapbox\"}],\"scatterpolargl\":[{\"marker\":{\"colorbar\":{\"outlinewidth\":0,\"ticks\":\"\"}},\"type\":\"scatterpolargl\"}],\"scatterpolar\":[{\"marker\":{\"colorbar\":{\"outlinewidth\":0,\"ticks\":\"\"}},\"type\":\"scatterpolar\"}],\"scatter\":[{\"marker\":{\"line\":{\"color\":\"#283442\"}},\"type\":\"scatter\"}],\"scatterternary\":[{\"marker\":{\"colorbar\":{\"outlinewidth\":0,\"ticks\":\"\"}},\"type\":\"scatterternary\"}],\"surface\":[{\"colorbar\":{\"outlinewidth\":0,\"ticks\":\"\"},\"colorscale\":[[0.0,\"#0d0887\"],[0.1111111111111111,\"#46039f\"],[0.2222222222222222,\"#7201a8\"],[0.3333333333333333,\"#9c179e\"],[0.4444444444444444,\"#bd3786\"],[0.5555555555555556,\"#d8576b\"],[0.6666666666666666,\"#ed7953\"],[0.7777777777777778,\"#fb9f3a\"],[0.8888888888888888,\"#fdca26\"],[1.0,\"#f0f921\"]],\"type\":\"surface\"}],\"table\":[{\"cells\":{\"fill\":{\"color\":\"#506784\"},\"line\":{\"color\":\"rgb(17,17,17)\"}},\"header\":{\"fill\":{\"color\":\"#2a3f5f\"},\"line\":{\"color\":\"rgb(17,17,17)\"}},\"type\":\"table\"}]},\"layout\":{\"annotationdefaults\":{\"arrowcolor\":\"#f2f5fa\",\"arrowhead\":0,\"arrowwidth\":1},\"autotypenumbers\":\"strict\",\"coloraxis\":{\"colorbar\":{\"outlinewidth\":0,\"ticks\":\"\"}},\"colorscale\":{\"diverging\":[[0,\"#8e0152\"],[0.1,\"#c51b7d\"],[0.2,\"#de77ae\"],[0.3,\"#f1b6da\"],[0.4,\"#fde0ef\"],[0.5,\"#f7f7f7\"],[0.6,\"#e6f5d0\"],[0.7,\"#b8e186\"],[0.8,\"#7fbc41\"],[0.9,\"#4d9221\"],[1,\"#276419\"]],\"sequential\":[[0.0,\"#0d0887\"],[0.1111111111111111,\"#46039f\"],[0.2222222222222222,\"#7201a8\"],[0.3333333333333333,\"#9c179e\"],[0.4444444444444444,\"#bd3786\"],[0.5555555555555556,\"#d8576b\"],[0.6666666666666666,\"#ed7953\"],[0.7777777777777778,\"#fb9f3a\"],[0.8888888888888888,\"#fdca26\"],[1.0,\"#f0f921\"]],\"sequentialminus\":[[0.0,\"#0d0887\"],[0.1111111111111111,\"#46039f\"],[0.2222222222222222,\"#7201a8\"],[0.3333333333333333,\"#9c179e\"],[0.4444444444444444,\"#bd3786\"],[0.5555555555555556,\"#d8576b\"],[0.6666666666666666,\"#ed7953\"],[0.7777777777777778,\"#fb9f3a\"],[0.8888888888888888,\"#fdca26\"],[1.0,\"#f0f921\"]]},\"colorway\":[\"#636efa\",\"#EF553B\",\"#00cc96\",\"#ab63fa\",\"#FFA15A\",\"#19d3f3\",\"#FF6692\",\"#B6E880\",\"#FF97FF\",\"#FECB52\"],\"font\":{\"color\":\"#f2f5fa\"},\"geo\":{\"bgcolor\":\"rgb(17,17,17)\",\"lakecolor\":\"rgb(17,17,17)\",\"landcolor\":\"rgb(17,17,17)\",\"showlakes\":true,\"showland\":true,\"subunitcolor\":\"#506784\"},\"hoverlabel\":{\"align\":\"left\"},\"hovermode\":\"closest\",\"mapbox\":{\"style\":\"dark\"},\"paper_bgcolor\":\"rgb(17,17,17)\",\"plot_bgcolor\":\"rgb(17,17,17)\",\"polar\":{\"angularaxis\":{\"gridcolor\":\"#506784\",\"linecolor\":\"#506784\",\"ticks\":\"\"},\"bgcolor\":\"rgb(17,17,17)\",\"radialaxis\":{\"gridcolor\":\"#506784\",\"linecolor\":\"#506784\",\"ticks\":\"\"}},\"scene\":{\"xaxis\":{\"backgroundcolor\":\"rgb(17,17,17)\",\"gridcolor\":\"#506784\",\"gridwidth\":2,\"linecolor\":\"#506784\",\"showbackground\":true,\"ticks\":\"\",\"zerolinecolor\":\"#C8D4E3\"},\"yaxis\":{\"backgroundcolor\":\"rgb(17,17,17)\",\"gridcolor\":\"#506784\",\"gridwidth\":2,\"linecolor\":\"#506784\",\"showbackground\":true,\"ticks\":\"\",\"zerolinecolor\":\"#C8D4E3\"},\"zaxis\":{\"backgroundcolor\":\"rgb(17,17,17)\",\"gridcolor\":\"#506784\",\"gridwidth\":2,\"linecolor\":\"#506784\",\"showbackground\":true,\"ticks\":\"\",\"zerolinecolor\":\"#C8D4E3\"}},\"shapedefaults\":{\"line\":{\"color\":\"#f2f5fa\"}},\"sliderdefaults\":{\"bgcolor\":\"#C8D4E3\",\"bordercolor\":\"rgb(17,17,17)\",\"borderwidth\":1,\"tickwidth\":0},\"ternary\":{\"aaxis\":{\"gridcolor\":\"#506784\",\"linecolor\":\"#506784\",\"ticks\":\"\"},\"baxis\":{\"gridcolor\":\"#506784\",\"linecolor\":\"#506784\",\"ticks\":\"\"},\"bgcolor\":\"rgb(17,17,17)\",\"caxis\":{\"gridcolor\":\"#506784\",\"linecolor\":\"#506784\",\"ticks\":\"\"}},\"title\":{\"x\":0.05},\"updatemenudefaults\":{\"bgcolor\":\"#506784\",\"borderwidth\":0},\"xaxis\":{\"automargin\":true,\"gridcolor\":\"#283442\",\"linecolor\":\"#506784\",\"ticks\":\"\",\"title\":{\"standoff\":15},\"zerolinecolor\":\"#283442\",\"zerolinewidth\":2},\"yaxis\":{\"automargin\":true,\"gridcolor\":\"#283442\",\"linecolor\":\"#506784\",\"ticks\":\"\",\"title\":{\"standoff\":15},\"zerolinecolor\":\"#283442\",\"zerolinewidth\":2}}},\"xaxis\":{\"anchor\":\"y\",\"domain\":[0.0,1.0],\"title\":{\"text\":\"variable\"}},\"yaxis\":{\"anchor\":\"x\",\"domain\":[0.0,1.0],\"title\":{\"text\":\"value\"}},\"legend\":{\"tracegroupgap\":0},\"margin\":{\"t\":60},\"boxmode\":\"group\"},                        {\"responsive\": true}                    ).then(function(){\n",
              "                            \n",
              "var gd = document.getElementById('8bdb4618-22fc-4046-a035-eaa1f94096cb');\n",
              "var x = new MutationObserver(function (mutations, observer) {{\n",
              "        var display = window.getComputedStyle(gd).display;\n",
              "        if (!display || display === 'none') {{\n",
              "            console.log([gd, 'removed!']);\n",
              "            Plotly.purge(gd);\n",
              "            observer.disconnect();\n",
              "        }}\n",
              "}});\n",
              "\n",
              "// Listen for the removal of the full notebook cells\n",
              "var notebookContainer = gd.closest('#notebook-container');\n",
              "if (notebookContainer) {{\n",
              "    x.observe(notebookContainer, {childList: true});\n",
              "}}\n",
              "\n",
              "// Listen for the clearing of the current output cell\n",
              "var outputEl = gd.closest('.output');\n",
              "if (outputEl) {{\n",
              "    x.observe(outputEl, {childList: true});\n",
              "}}\n",
              "\n",
              "                        })                };                            </script>        </div>\n",
              "</body>\n",
              "</html>"
            ]
          },
          "metadata": {}
        }
      ]
    },
    {
      "cell_type": "code",
      "source": [
        "ax= px.parallel_coordinates(df_diabetes.loc[:,[\"BMI\", 'DiabetesPedigreeFunction',\"Outcome\"]], color=\"Outcome\")\n",
        "ax.show()\n",
        "plt.show()"
      ],
      "metadata": {
        "colab": {
          "base_uri": "https://localhost:8080/",
          "height": 542
        },
        "id": "d5YpYqFHdzBj",
        "outputId": "48476ae9-3009-45d1-f760-6704bcfda68f"
      },
      "execution_count": 454,
      "outputs": [
        {
          "output_type": "display_data",
          "data": {
            "text/html": [
              "<html>\n",
              "<head><meta charset=\"utf-8\" /></head>\n",
              "<body>\n",
              "    <div>            <script src=\"https://cdnjs.cloudflare.com/ajax/libs/mathjax/2.7.5/MathJax.js?config=TeX-AMS-MML_SVG\"></script><script type=\"text/javascript\">if (window.MathJax && window.MathJax.Hub && window.MathJax.Hub.Config) {window.MathJax.Hub.Config({SVG: {font: \"STIX-Web\"}});}</script>                <script type=\"text/javascript\">window.PlotlyConfig = {MathJaxConfig: 'local'};</script>\n",
              "        <script src=\"https://cdn.plot.ly/plotly-2.18.0.min.js\"></script>                <div id=\"54b04675-653e-4545-a942-aa79e25b583c\" class=\"plotly-graph-div\" style=\"height:525px; width:100%;\"></div>            <script type=\"text/javascript\">                                    window.PLOTLYENV=window.PLOTLYENV || {};                                    if (document.getElementById(\"54b04675-653e-4545-a942-aa79e25b583c\")) {                    Plotly.newPlot(                        \"54b04675-653e-4545-a942-aa79e25b583c\",                        [{\"dimensions\":[{\"label\":\"BMI\",\"values\":[33.6,26.6,23.3,28.1,43.1,25.6,31.0,35.3,30.5,32.457463672391015,37.6,38.0,27.1,30.1,25.8,30.0,45.8,29.6,43.3,34.6,39.3,35.4,39.8,29.0,36.6,31.1,39.4,23.2,22.2,34.1,36.0,31.6,24.8,19.9,27.6,24.0,33.2,32.9,38.2,37.1,34.0,40.2,22.7,45.4,27.4,42.0,29.7,28.0,39.1,32.457463672391015,19.4,24.2,24.4,33.7,34.7,23.0,37.7,46.8,40.5,41.5,32.457463672391015,32.9,25.0,25.4,32.8,29.0,32.5,42.7,19.6,28.9,32.9,28.6,43.4,35.1,32.0,24.7,32.6,37.7,43.2,25.0,22.4,32.457463672391015,29.3,24.6,48.8,32.4,36.6,38.5,37.1,26.5,19.1,32.0,46.7,23.8,24.7,33.9,31.6,20.4,28.7,49.7,39.0,26.1,22.5,26.6,39.6,28.7,22.4,29.5,34.3,37.4,33.3,34.0,31.2,34.0,30.5,31.2,34.0,33.7,28.2,23.2,53.2,34.2,33.6,26.8,33.3,55.0,42.9,33.3,34.5,27.9,29.7,33.3,34.5,38.3,21.1,33.8,30.8,28.7,31.2,36.9,21.1,39.5,32.5,32.4,32.8,32.457463672391015,32.8,30.5,33.7,27.3,37.4,21.9,34.3,40.6,47.9,50.0,24.6,25.2,29.0,40.9,29.7,37.2,44.2,29.7,31.6,29.9,32.5,29.6,31.9,28.4,30.8,35.4,28.9,43.5,29.7,32.7,31.2,67.1,45.0,39.1,23.2,34.9,27.7,26.8,27.6,35.9,30.1,32.0,27.9,31.6,22.6,33.1,30.4,52.3,24.4,39.4,24.3,22.9,34.8,30.9,31.0,40.1,27.3,20.4,37.7,23.9,37.5,37.7,33.2,35.5,27.7,42.8,34.2,42.6,34.2,41.8,35.8,30.0,29.0,37.8,34.6,31.6,25.2,28.8,23.6,34.6,35.7,37.2,36.7,45.2,44.0,46.2,25.4,35.0,29.7,43.6,35.9,44.1,30.8,18.4,29.2,33.1,25.6,27.1,38.2,30.0,31.2,52.3,35.4,30.1,31.2,28.0,24.4,35.8,27.6,33.6,30.1,28.7,25.9,33.3,30.9,30.0,32.1,32.4,32.0,33.6,36.3,40.0,25.1,27.5,45.6,25.2,23.0,33.2,34.2,40.5,26.5,27.8,24.9,25.3,37.9,35.9,32.4,30.4,27.0,26.0,38.7,45.6,20.8,36.1,36.9,36.6,43.3,40.5,21.9,35.5,28.0,30.7,36.6,23.6,32.3,31.6,35.8,52.9,21.0,39.7,25.5,24.8,30.5,32.9,26.2,39.4,26.6,29.5,35.9,34.1,19.3,30.5,38.1,23.5,27.5,31.6,27.4,26.8,35.7,25.6,35.1,35.1,45.5,30.8,23.1,32.7,43.3,23.6,23.9,47.9,33.8,31.2,34.2,39.9,25.9,25.9,32.0,34.7,36.8,38.5,28.7,23.5,21.8,41.0,42.2,31.2,34.4,27.2,42.7,30.4,33.3,39.9,35.3,36.5,31.2,29.8,39.2,38.5,34.9,34.0,27.6,21.0,27.5,32.8,38.4,32.457463672391015,35.8,34.9,36.2,39.2,25.2,37.2,48.3,43.4,30.8,20.0,25.4,25.1,24.3,22.3,32.3,43.3,32.0,31.6,32.0,45.7,23.7,22.1,32.9,27.7,24.7,34.3,21.1,34.9,32.0,24.2,35.0,31.6,32.9,42.1,28.9,21.9,25.9,42.4,35.7,34.4,42.4,26.2,34.6,35.7,27.2,38.5,18.2,26.4,45.3,26.0,40.6,30.8,42.9,37.0,32.457463672391015,34.1,40.6,35.0,22.2,30.4,30.0,25.6,24.5,42.4,37.4,29.9,18.2,36.8,34.3,32.2,33.2,30.5,29.7,59.4,25.3,36.5,33.6,30.5,21.2,28.9,39.9,19.6,37.8,33.6,26.7,30.2,37.6,25.9,20.8,21.8,35.3,27.6,24.0,21.8,27.8,36.8,30.0,46.1,41.3,33.2,38.8,29.9,28.9,27.3,33.7,23.8,25.9,28.0,35.5,35.2,27.8,38.2,44.2,42.3,40.7,46.5,25.6,26.1,36.8,33.5,32.8,28.9,32.457463672391015,26.6,26.0,30.1,25.1,29.3,25.2,37.2,39.0,33.3,37.3,33.3,36.5,28.6,30.4,25.0,29.7,22.1,24.2,27.3,25.6,31.6,30.3,37.6,32.8,19.6,25.0,33.2,32.457463672391015,34.2,31.6,21.8,18.2,26.3,30.8,24.6,29.8,45.3,41.3,29.8,33.3,32.9,29.6,21.7,36.3,36.4,39.4,32.4,34.9,39.5,32.0,34.5,43.6,33.1,32.8,28.5,27.4,31.9,27.8,29.9,36.9,25.5,38.1,27.8,46.2,30.1,33.8,41.3,37.6,26.9,32.4,26.1,38.6,32.0,31.3,34.3,32.5,22.6,29.5,34.7,30.1,35.5,24.0,42.9,27.0,34.7,42.1,25.0,26.5,38.7,28.7,22.5,34.9,24.3,33.3,21.1,46.8,39.4,34.4,28.5,33.6,32.0,45.3,27.8,36.8,23.1,27.1,23.7,27.8,35.2,28.4,35.8,40.0,19.5,41.5,24.0,30.9,32.9,38.2,32.5,36.1,25.8,28.7,20.1,28.2,32.4,38.4,24.2,40.8,43.5,30.8,37.7,24.7,32.4,34.6,24.7,27.4,34.5,26.2,27.5,25.9,31.2,28.8,31.6,40.9,19.5,29.3,34.3,29.5,28.0,27.6,39.4,23.4,37.8,28.3,26.4,25.2,33.8,34.1,26.8,34.2,38.7,21.8,38.9,39.0,34.2,27.7,42.9,37.6,37.9,33.7,34.8,32.5,27.5,34.0,30.9,33.6,25.4,35.5,57.3,35.6,30.9,24.8,35.3,36.0,24.2,24.2,49.6,44.6,32.3,32.457463672391015,33.2,23.1,28.3,24.1,46.1,24.6,42.3,39.1,38.5,23.5,30.4,29.9,25.0,34.5,44.5,35.9,27.6,35.0,38.5,28.4,39.8,32.457463672391015,34.4,32.8,38.0,31.2,29.6,41.2,26.4,29.5,33.9,33.8,23.1,35.5,35.6,29.3,38.1,29.3,39.1,32.8,39.4,36.1,32.4,22.9,30.1,28.4,28.4,44.5,29.0,23.3,35.4,27.4,32.0,36.6,39.5,42.3,30.8,28.5,32.7,40.6,30.0,49.3,46.3,36.4,24.3,31.2,39.0,26.0,43.3,32.4,36.5,32.0,36.3,37.5,35.5,28.4,44.0,22.5,32.9,36.8,26.2,30.1,30.4]},{\"label\":\"DiabetesPedigreeFunction\",\"values\":[0.627,0.351,0.672,0.167,2.288,0.201,0.248,0.134,0.158,0.232,0.191,0.537,1.441,0.398,0.587,0.484,0.551,0.254,0.183,0.529,0.704,0.388,0.451,0.263,0.254,0.205,0.257,0.487,0.245,0.337,0.546,0.851,0.267,0.188,0.512,0.966,0.42,0.665,0.503,1.39,0.271,0.696,0.235,0.721,0.294,1.893,0.564,0.586,0.344,0.305,0.491,0.526,0.342,0.467,0.718,0.248,0.254,0.962,1.781,0.173,0.304,0.27,0.587,0.699,0.258,0.203,0.855,0.845,0.334,0.189,0.867,0.411,0.583,0.231,0.396,0.14,0.391,0.37,0.27,0.307,0.14,0.102,0.767,0.237,0.227,0.698,0.178,0.324,0.153,0.165,0.258,0.443,0.261,0.277,0.761,0.255,0.13,0.323,0.356,0.325,1.222,0.179,0.262,0.283,0.93,0.801,0.207,0.287,0.336,0.247,0.199,0.543,0.192,0.391,0.588,0.539,0.22,0.654,0.443,0.223,0.759,0.26,0.404,0.186,0.278,0.496,0.452,0.261,0.403,0.741,0.361,1.114,0.356,0.457,0.647,0.088,0.597,0.532,0.703,0.159,0.268,0.286,0.318,0.272,0.237,0.572,0.096,1.4,0.218,0.085,0.399,0.432,1.189,0.687,0.137,0.337,0.637,0.833,0.229,0.817,0.294,0.204,0.167,0.368,0.743,0.722,0.256,0.709,0.471,0.495,0.18,0.542,0.773,0.678,0.37,0.719,0.382,0.319,0.19,0.956,0.084,0.725,0.299,0.268,0.244,0.745,0.615,1.321,0.64,0.361,0.142,0.374,0.383,0.578,0.136,0.395,0.187,0.678,0.905,0.15,0.874,0.236,0.787,0.235,0.324,0.407,0.605,0.151,0.289,0.355,0.29,0.375,0.164,0.431,0.26,0.742,0.514,0.464,1.224,0.261,1.072,0.805,0.209,0.687,0.666,0.101,0.198,0.652,2.329,0.089,0.645,0.238,0.583,0.394,0.293,0.479,0.586,0.686,0.831,0.582,0.192,0.446,0.402,1.318,0.329,1.213,0.258,0.427,0.282,0.143,0.38,0.284,0.249,0.238,0.926,0.543,0.557,0.092,0.655,1.353,0.299,0.761,0.612,0.2,0.226,0.997,0.933,1.101,0.078,0.24,1.136,0.128,0.254,0.422,0.251,0.677,0.296,0.454,0.744,0.881,0.334,0.28,0.262,0.165,0.259,0.647,0.619,0.808,0.34,0.263,0.434,0.757,1.224,0.613,0.254,0.692,0.337,0.52,0.412,0.84,0.839,0.422,0.156,0.209,0.207,0.215,0.326,0.143,1.391,0.875,0.313,0.605,0.433,0.626,1.127,0.315,0.284,0.345,0.15,0.129,0.527,0.197,0.254,0.731,0.148,0.123,0.692,0.2,0.127,0.122,1.476,0.166,0.282,0.137,0.26,0.259,0.932,0.343,0.893,0.331,0.472,0.673,0.389,0.29,0.485,0.349,0.654,0.187,0.279,0.346,0.237,0.252,0.243,0.58,0.559,0.302,0.962,0.569,0.378,0.875,0.583,0.207,0.305,0.52,0.385,0.499,0.368,0.252,0.306,0.234,2.137,1.731,0.545,0.225,0.816,0.528,0.299,0.509,0.238,1.021,0.821,0.236,0.947,1.268,0.221,0.205,0.66,0.239,0.452,0.949,0.444,0.34,0.389,0.463,0.803,1.6,0.944,0.196,0.389,0.241,0.161,0.151,0.286,0.28,0.135,0.52,0.376,0.336,1.191,0.702,0.674,0.528,1.076,0.256,0.534,0.258,1.095,0.554,0.624,0.219,0.507,0.561,0.496,0.421,0.516,0.264,0.256,0.328,0.284,0.233,0.108,0.551,0.527,0.167,1.138,0.205,0.244,0.434,0.147,0.727,0.435,0.497,0.23,0.955,0.38,2.42,0.658,0.33,0.51,0.285,0.415,0.542,0.381,0.832,0.498,0.212,0.687,0.364,1.001,0.46,0.733,0.416,0.705,0.258,1.022,0.452,0.269,0.6,0.183,0.571,0.607,0.17,0.259,0.21,0.126,0.231,0.711,0.466,0.162,0.419,0.344,0.197,0.306,0.233,0.63,0.365,0.536,1.159,0.294,0.551,0.629,0.292,0.145,1.144,0.174,0.304,0.292,0.547,0.163,0.839,0.313,0.267,0.727,0.738,0.238,0.263,0.314,0.692,0.968,0.409,0.297,0.207,0.2,0.525,0.154,0.268,0.771,0.304,0.18,0.582,0.187,0.305,0.189,0.652,0.151,0.444,0.299,0.107,0.493,0.66,0.717,0.686,0.917,0.501,1.251,0.302,0.197,0.735,0.804,0.968,0.661,0.549,0.825,0.159,0.365,0.423,1.034,0.16,0.341,0.68,0.204,0.591,0.247,0.422,0.471,0.161,0.218,0.237,0.126,0.3,0.121,0.502,0.401,0.497,0.601,0.748,0.412,0.085,0.338,0.203,0.27,0.268,0.43,0.198,0.892,0.28,0.813,0.693,0.245,0.575,0.371,0.206,0.259,0.19,0.687,0.417,0.129,0.249,1.154,0.342,0.925,0.175,0.402,1.699,0.733,0.682,0.194,0.559,0.088,0.407,0.4,0.19,0.1,0.692,0.212,0.514,1.258,0.482,0.27,0.138,0.292,0.593,0.787,0.878,0.557,0.207,0.157,0.257,1.282,0.141,0.246,1.698,1.461,0.347,0.158,0.362,0.206,0.393,0.144,0.148,0.732,0.238,0.343,0.115,0.167,0.465,0.153,0.649,0.871,0.149,0.695,0.303,0.178,0.61,0.73,0.134,0.447,0.455,0.26,0.133,0.234,0.466,0.269,0.455,0.142,0.24,0.155,1.162,0.19,1.292,0.182,1.394,0.165,0.637,0.245,0.217,0.235,0.141,0.43,0.164,0.631,0.551,0.285,0.88,0.587,0.328,0.23,0.263,0.127,0.614,0.332,0.364,0.366,0.536,0.64,0.591,0.314,0.181,0.828,0.335,0.856,0.257,0.886,0.439,0.191,0.128,0.268,0.253,0.598,0.904,0.483,0.565,0.905,0.304,0.118,0.177,0.261,0.176,0.148,0.674,0.295,0.439,0.441,0.352,0.121,0.826,0.97,0.595,0.415,0.378,0.317,0.289,0.349,0.251,0.265,0.236,0.496,0.433,0.326,0.141,0.323,0.259,0.646,0.426,0.56,0.284,0.515,0.6,0.453,0.293,0.785,0.4,0.219,0.734,1.174,0.488,0.358,1.096,0.408,0.178,1.182,0.261,0.223,0.222,0.443,1.057,0.391,0.258,0.197,0.278,0.766,0.403,0.142,0.171,0.34,0.245,0.349,0.315]},{\"label\":\"Outcome\",\"values\":[1,0,1,0,1,0,1,0,1,1,0,1,0,1,1,1,1,1,0,1,0,0,1,1,1,1,1,0,0,0,0,1,0,0,0,0,0,1,1,1,0,0,0,1,0,1,0,0,1,0,0,0,0,1,0,0,1,0,0,0,0,1,0,0,1,0,1,0,0,0,1,0,1,0,0,0,0,0,1,0,0,0,0,0,1,0,0,0,1,0,0,0,0,1,0,0,0,0,0,1,1,0,0,0,0,0,0,0,0,1,1,1,0,0,1,1,1,0,0,0,1,0,0,0,1,1,0,0,1,1,1,1,1,0,0,0,0,0,0,0,0,0,0,1,0,0,0,0,0,0,0,0,1,0,1,1,0,0,0,1,0,0,0,0,1,1,0,0,0,0,1,1,0,0,0,1,0,1,0,1,0,0,0,0,0,1,1,1,1,1,0,0,1,1,0,1,0,1,1,1,0,0,0,0,0,0,1,1,0,1,0,0,0,1,1,1,1,0,1,1,1,1,0,0,0,0,0,1,0,0,1,1,0,0,0,1,1,1,1,0,0,0,1,1,0,1,0,0,0,0,0,0,0,0,1,1,0,0,0,1,0,1,0,0,1,0,1,0,0,1,1,0,0,0,0,0,1,0,0,0,1,0,0,1,1,0,0,1,0,0,0,1,1,1,0,0,1,0,1,0,1,1,0,1,0,0,1,0,1,1,0,0,1,0,1,0,0,1,0,1,0,1,1,1,0,0,1,0,1,0,0,0,1,0,0,0,0,1,1,1,0,0,0,0,0,0,0,0,0,1,0,0,0,0,0,1,1,1,0,1,1,0,0,1,0,0,1,0,0,1,1,0,0,0,0,1,0,0,1,0,0,0,0,0,0,0,1,1,1,0,0,1,0,0,1,0,0,1,0,1,1,0,1,0,1,0,1,0,1,1,0,0,0,0,1,1,0,1,0,1,0,0,0,0,1,1,0,1,0,1,0,0,0,0,0,1,0,0,0,0,1,0,0,1,1,1,0,0,1,0,0,1,0,0,0,1,0,0,1,0,0,0,0,0,0,0,0,0,1,0,0,0,0,0,0,0,1,0,0,0,1,0,0,0,1,1,0,0,0,0,0,0,0,1,0,0,0,0,1,0,0,0,1,0,0,0,1,0,0,0,1,0,0,0,0,1,1,0,0,0,0,0,0,1,0,0,0,0,0,0,0,0,0,0,0,1,0,0,0,1,1,1,1,0,0,1,1,0,0,0,0,0,0,0,0,0,0,0,0,0,1,1,0,0,0,0,0,0,0,1,0,0,0,0,0,0,0,1,0,1,1,0,0,0,1,0,1,0,1,0,1,0,1,0,0,1,0,0,1,0,0,0,0,1,1,0,1,0,0,0,0,1,1,0,1,0,0,0,1,1,0,0,0,0,0,0,0,0,0,0,1,0,0,0,0,1,0,0,1,0,0,0,1,0,0,0,1,1,1,0,0,0,0,0,0,1,0,0,0,1,0,1,1,1,1,0,1,1,0,0,0,0,0,0,0,1,1,0,1,0,0,1,0,1,0,0,0,0,0,1,0,1,0,1,0,1,1,0,0,0,0,1,1,0,0,0,1,0,1,1,0,0,1,0,0,1,1,0,0,1,0,0,1,0,0,0,0,0,0,0,1,1,1,0,0,0,0,0,0,1,1,0,0,1,0,0,1,0,1,1,1,0,0,1,1,1,0,1,0,1,0,1,0,0,0,0,1,0]}],\"domain\":{\"x\":[0.0,1.0],\"y\":[0.0,1.0]},\"line\":{\"color\":[1,0,1,0,1,0,1,0,1,1,0,1,0,1,1,1,1,1,0,1,0,0,1,1,1,1,1,0,0,0,0,1,0,0,0,0,0,1,1,1,0,0,0,1,0,1,0,0,1,0,0,0,0,1,0,0,1,0,0,0,0,1,0,0,1,0,1,0,0,0,1,0,1,0,0,0,0,0,1,0,0,0,0,0,1,0,0,0,1,0,0,0,0,1,0,0,0,0,0,1,1,0,0,0,0,0,0,0,0,1,1,1,0,0,1,1,1,0,0,0,1,0,0,0,1,1,0,0,1,1,1,1,1,0,0,0,0,0,0,0,0,0,0,1,0,0,0,0,0,0,0,0,1,0,1,1,0,0,0,1,0,0,0,0,1,1,0,0,0,0,1,1,0,0,0,1,0,1,0,1,0,0,0,0,0,1,1,1,1,1,0,0,1,1,0,1,0,1,1,1,0,0,0,0,0,0,1,1,0,1,0,0,0,1,1,1,1,0,1,1,1,1,0,0,0,0,0,1,0,0,1,1,0,0,0,1,1,1,1,0,0,0,1,1,0,1,0,0,0,0,0,0,0,0,1,1,0,0,0,1,0,1,0,0,1,0,1,0,0,1,1,0,0,0,0,0,1,0,0,0,1,0,0,1,1,0,0,1,0,0,0,1,1,1,0,0,1,0,1,0,1,1,0,1,0,0,1,0,1,1,0,0,1,0,1,0,0,1,0,1,0,1,1,1,0,0,1,0,1,0,0,0,1,0,0,0,0,1,1,1,0,0,0,0,0,0,0,0,0,1,0,0,0,0,0,1,1,1,0,1,1,0,0,1,0,0,1,0,0,1,1,0,0,0,0,1,0,0,1,0,0,0,0,0,0,0,1,1,1,0,0,1,0,0,1,0,0,1,0,1,1,0,1,0,1,0,1,0,1,1,0,0,0,0,1,1,0,1,0,1,0,0,0,0,1,1,0,1,0,1,0,0,0,0,0,1,0,0,0,0,1,0,0,1,1,1,0,0,1,0,0,1,0,0,0,1,0,0,1,0,0,0,0,0,0,0,0,0,1,0,0,0,0,0,0,0,1,0,0,0,1,0,0,0,1,1,0,0,0,0,0,0,0,1,0,0,0,0,1,0,0,0,1,0,0,0,1,0,0,0,1,0,0,0,0,1,1,0,0,0,0,0,0,1,0,0,0,0,0,0,0,0,0,0,0,1,0,0,0,1,1,1,1,0,0,1,1,0,0,0,0,0,0,0,0,0,0,0,0,0,1,1,0,0,0,0,0,0,0,1,0,0,0,0,0,0,0,1,0,1,1,0,0,0,1,0,1,0,1,0,1,0,1,0,0,1,0,0,1,0,0,0,0,1,1,0,1,0,0,0,0,1,1,0,1,0,0,0,1,1,0,0,0,0,0,0,0,0,0,0,1,0,0,0,0,1,0,0,1,0,0,0,1,0,0,0,1,1,1,0,0,0,0,0,0,1,0,0,0,1,0,1,1,1,1,0,1,1,0,0,0,0,0,0,0,1,1,0,1,0,0,1,0,1,0,0,0,0,0,1,0,1,0,1,0,1,1,0,0,0,0,1,1,0,0,0,1,0,1,1,0,0,1,0,0,1,1,0,0,1,0,0,1,0,0,0,0,0,0,0,1,1,1,0,0,0,0,0,0,1,1,0,0,1,0,0,1,0,1,1,1,0,0,1,1,1,0,1,0,1,0,1,0,0,0,0,1,0],\"coloraxis\":\"coloraxis\"},\"name\":\"\",\"type\":\"parcoords\"}],                        {\"template\":{\"data\":{\"histogram2dcontour\":[{\"type\":\"histogram2dcontour\",\"colorbar\":{\"outlinewidth\":0,\"ticks\":\"\"},\"colorscale\":[[0.0,\"#0d0887\"],[0.1111111111111111,\"#46039f\"],[0.2222222222222222,\"#7201a8\"],[0.3333333333333333,\"#9c179e\"],[0.4444444444444444,\"#bd3786\"],[0.5555555555555556,\"#d8576b\"],[0.6666666666666666,\"#ed7953\"],[0.7777777777777778,\"#fb9f3a\"],[0.8888888888888888,\"#fdca26\"],[1.0,\"#f0f921\"]]}],\"choropleth\":[{\"type\":\"choropleth\",\"colorbar\":{\"outlinewidth\":0,\"ticks\":\"\"}}],\"histogram2d\":[{\"type\":\"histogram2d\",\"colorbar\":{\"outlinewidth\":0,\"ticks\":\"\"},\"colorscale\":[[0.0,\"#0d0887\"],[0.1111111111111111,\"#46039f\"],[0.2222222222222222,\"#7201a8\"],[0.3333333333333333,\"#9c179e\"],[0.4444444444444444,\"#bd3786\"],[0.5555555555555556,\"#d8576b\"],[0.6666666666666666,\"#ed7953\"],[0.7777777777777778,\"#fb9f3a\"],[0.8888888888888888,\"#fdca26\"],[1.0,\"#f0f921\"]]}],\"heatmap\":[{\"type\":\"heatmap\",\"colorbar\":{\"outlinewidth\":0,\"ticks\":\"\"},\"colorscale\":[[0.0,\"#0d0887\"],[0.1111111111111111,\"#46039f\"],[0.2222222222222222,\"#7201a8\"],[0.3333333333333333,\"#9c179e\"],[0.4444444444444444,\"#bd3786\"],[0.5555555555555556,\"#d8576b\"],[0.6666666666666666,\"#ed7953\"],[0.7777777777777778,\"#fb9f3a\"],[0.8888888888888888,\"#fdca26\"],[1.0,\"#f0f921\"]]}],\"heatmapgl\":[{\"type\":\"heatmapgl\",\"colorbar\":{\"outlinewidth\":0,\"ticks\":\"\"},\"colorscale\":[[0.0,\"#0d0887\"],[0.1111111111111111,\"#46039f\"],[0.2222222222222222,\"#7201a8\"],[0.3333333333333333,\"#9c179e\"],[0.4444444444444444,\"#bd3786\"],[0.5555555555555556,\"#d8576b\"],[0.6666666666666666,\"#ed7953\"],[0.7777777777777778,\"#fb9f3a\"],[0.8888888888888888,\"#fdca26\"],[1.0,\"#f0f921\"]]}],\"contourcarpet\":[{\"type\":\"contourcarpet\",\"colorbar\":{\"outlinewidth\":0,\"ticks\":\"\"}}],\"contour\":[{\"type\":\"contour\",\"colorbar\":{\"outlinewidth\":0,\"ticks\":\"\"},\"colorscale\":[[0.0,\"#0d0887\"],[0.1111111111111111,\"#46039f\"],[0.2222222222222222,\"#7201a8\"],[0.3333333333333333,\"#9c179e\"],[0.4444444444444444,\"#bd3786\"],[0.5555555555555556,\"#d8576b\"],[0.6666666666666666,\"#ed7953\"],[0.7777777777777778,\"#fb9f3a\"],[0.8888888888888888,\"#fdca26\"],[1.0,\"#f0f921\"]]}],\"surface\":[{\"type\":\"surface\",\"colorbar\":{\"outlinewidth\":0,\"ticks\":\"\"},\"colorscale\":[[0.0,\"#0d0887\"],[0.1111111111111111,\"#46039f\"],[0.2222222222222222,\"#7201a8\"],[0.3333333333333333,\"#9c179e\"],[0.4444444444444444,\"#bd3786\"],[0.5555555555555556,\"#d8576b\"],[0.6666666666666666,\"#ed7953\"],[0.7777777777777778,\"#fb9f3a\"],[0.8888888888888888,\"#fdca26\"],[1.0,\"#f0f921\"]]}],\"mesh3d\":[{\"type\":\"mesh3d\",\"colorbar\":{\"outlinewidth\":0,\"ticks\":\"\"}}],\"scatter\":[{\"fillpattern\":{\"fillmode\":\"overlay\",\"size\":10,\"solidity\":0.2},\"type\":\"scatter\"}],\"parcoords\":[{\"type\":\"parcoords\",\"line\":{\"colorbar\":{\"outlinewidth\":0,\"ticks\":\"\"}}}],\"scatterpolargl\":[{\"type\":\"scatterpolargl\",\"marker\":{\"colorbar\":{\"outlinewidth\":0,\"ticks\":\"\"}}}],\"bar\":[{\"error_x\":{\"color\":\"#2a3f5f\"},\"error_y\":{\"color\":\"#2a3f5f\"},\"marker\":{\"line\":{\"color\":\"#E5ECF6\",\"width\":0.5},\"pattern\":{\"fillmode\":\"overlay\",\"size\":10,\"solidity\":0.2}},\"type\":\"bar\"}],\"scattergeo\":[{\"type\":\"scattergeo\",\"marker\":{\"colorbar\":{\"outlinewidth\":0,\"ticks\":\"\"}}}],\"scatterpolar\":[{\"type\":\"scatterpolar\",\"marker\":{\"colorbar\":{\"outlinewidth\":0,\"ticks\":\"\"}}}],\"histogram\":[{\"marker\":{\"pattern\":{\"fillmode\":\"overlay\",\"size\":10,\"solidity\":0.2}},\"type\":\"histogram\"}],\"scattergl\":[{\"type\":\"scattergl\",\"marker\":{\"colorbar\":{\"outlinewidth\":0,\"ticks\":\"\"}}}],\"scatter3d\":[{\"type\":\"scatter3d\",\"line\":{\"colorbar\":{\"outlinewidth\":0,\"ticks\":\"\"}},\"marker\":{\"colorbar\":{\"outlinewidth\":0,\"ticks\":\"\"}}}],\"scattermapbox\":[{\"type\":\"scattermapbox\",\"marker\":{\"colorbar\":{\"outlinewidth\":0,\"ticks\":\"\"}}}],\"scatterternary\":[{\"type\":\"scatterternary\",\"marker\":{\"colorbar\":{\"outlinewidth\":0,\"ticks\":\"\"}}}],\"scattercarpet\":[{\"type\":\"scattercarpet\",\"marker\":{\"colorbar\":{\"outlinewidth\":0,\"ticks\":\"\"}}}],\"carpet\":[{\"aaxis\":{\"endlinecolor\":\"#2a3f5f\",\"gridcolor\":\"white\",\"linecolor\":\"white\",\"minorgridcolor\":\"white\",\"startlinecolor\":\"#2a3f5f\"},\"baxis\":{\"endlinecolor\":\"#2a3f5f\",\"gridcolor\":\"white\",\"linecolor\":\"white\",\"minorgridcolor\":\"white\",\"startlinecolor\":\"#2a3f5f\"},\"type\":\"carpet\"}],\"table\":[{\"cells\":{\"fill\":{\"color\":\"#EBF0F8\"},\"line\":{\"color\":\"white\"}},\"header\":{\"fill\":{\"color\":\"#C8D4E3\"},\"line\":{\"color\":\"white\"}},\"type\":\"table\"}],\"barpolar\":[{\"marker\":{\"line\":{\"color\":\"#E5ECF6\",\"width\":0.5},\"pattern\":{\"fillmode\":\"overlay\",\"size\":10,\"solidity\":0.2}},\"type\":\"barpolar\"}],\"pie\":[{\"automargin\":true,\"type\":\"pie\"}]},\"layout\":{\"autotypenumbers\":\"strict\",\"colorway\":[\"#636efa\",\"#EF553B\",\"#00cc96\",\"#ab63fa\",\"#FFA15A\",\"#19d3f3\",\"#FF6692\",\"#B6E880\",\"#FF97FF\",\"#FECB52\"],\"font\":{\"color\":\"#2a3f5f\"},\"hovermode\":\"closest\",\"hoverlabel\":{\"align\":\"left\"},\"paper_bgcolor\":\"white\",\"plot_bgcolor\":\"#E5ECF6\",\"polar\":{\"bgcolor\":\"#E5ECF6\",\"angularaxis\":{\"gridcolor\":\"white\",\"linecolor\":\"white\",\"ticks\":\"\"},\"radialaxis\":{\"gridcolor\":\"white\",\"linecolor\":\"white\",\"ticks\":\"\"}},\"ternary\":{\"bgcolor\":\"#E5ECF6\",\"aaxis\":{\"gridcolor\":\"white\",\"linecolor\":\"white\",\"ticks\":\"\"},\"baxis\":{\"gridcolor\":\"white\",\"linecolor\":\"white\",\"ticks\":\"\"},\"caxis\":{\"gridcolor\":\"white\",\"linecolor\":\"white\",\"ticks\":\"\"}},\"coloraxis\":{\"colorbar\":{\"outlinewidth\":0,\"ticks\":\"\"}},\"colorscale\":{\"sequential\":[[0.0,\"#0d0887\"],[0.1111111111111111,\"#46039f\"],[0.2222222222222222,\"#7201a8\"],[0.3333333333333333,\"#9c179e\"],[0.4444444444444444,\"#bd3786\"],[0.5555555555555556,\"#d8576b\"],[0.6666666666666666,\"#ed7953\"],[0.7777777777777778,\"#fb9f3a\"],[0.8888888888888888,\"#fdca26\"],[1.0,\"#f0f921\"]],\"sequentialminus\":[[0.0,\"#0d0887\"],[0.1111111111111111,\"#46039f\"],[0.2222222222222222,\"#7201a8\"],[0.3333333333333333,\"#9c179e\"],[0.4444444444444444,\"#bd3786\"],[0.5555555555555556,\"#d8576b\"],[0.6666666666666666,\"#ed7953\"],[0.7777777777777778,\"#fb9f3a\"],[0.8888888888888888,\"#fdca26\"],[1.0,\"#f0f921\"]],\"diverging\":[[0,\"#8e0152\"],[0.1,\"#c51b7d\"],[0.2,\"#de77ae\"],[0.3,\"#f1b6da\"],[0.4,\"#fde0ef\"],[0.5,\"#f7f7f7\"],[0.6,\"#e6f5d0\"],[0.7,\"#b8e186\"],[0.8,\"#7fbc41\"],[0.9,\"#4d9221\"],[1,\"#276419\"]]},\"xaxis\":{\"gridcolor\":\"white\",\"linecolor\":\"white\",\"ticks\":\"\",\"title\":{\"standoff\":15},\"zerolinecolor\":\"white\",\"automargin\":true,\"zerolinewidth\":2},\"yaxis\":{\"gridcolor\":\"white\",\"linecolor\":\"white\",\"ticks\":\"\",\"title\":{\"standoff\":15},\"zerolinecolor\":\"white\",\"automargin\":true,\"zerolinewidth\":2},\"scene\":{\"xaxis\":{\"backgroundcolor\":\"#E5ECF6\",\"gridcolor\":\"white\",\"linecolor\":\"white\",\"showbackground\":true,\"ticks\":\"\",\"zerolinecolor\":\"white\",\"gridwidth\":2},\"yaxis\":{\"backgroundcolor\":\"#E5ECF6\",\"gridcolor\":\"white\",\"linecolor\":\"white\",\"showbackground\":true,\"ticks\":\"\",\"zerolinecolor\":\"white\",\"gridwidth\":2},\"zaxis\":{\"backgroundcolor\":\"#E5ECF6\",\"gridcolor\":\"white\",\"linecolor\":\"white\",\"showbackground\":true,\"ticks\":\"\",\"zerolinecolor\":\"white\",\"gridwidth\":2}},\"shapedefaults\":{\"line\":{\"color\":\"#2a3f5f\"}},\"annotationdefaults\":{\"arrowcolor\":\"#2a3f5f\",\"arrowhead\":0,\"arrowwidth\":1},\"geo\":{\"bgcolor\":\"white\",\"landcolor\":\"#E5ECF6\",\"subunitcolor\":\"white\",\"showland\":true,\"showlakes\":true,\"lakecolor\":\"white\"},\"title\":{\"x\":0.05},\"mapbox\":{\"style\":\"light\"}}},\"coloraxis\":{\"colorbar\":{\"title\":{\"text\":\"Outcome\"}},\"colorscale\":[[0.0,\"#0d0887\"],[0.1111111111111111,\"#46039f\"],[0.2222222222222222,\"#7201a8\"],[0.3333333333333333,\"#9c179e\"],[0.4444444444444444,\"#bd3786\"],[0.5555555555555556,\"#d8576b\"],[0.6666666666666666,\"#ed7953\"],[0.7777777777777778,\"#fb9f3a\"],[0.8888888888888888,\"#fdca26\"],[1.0,\"#f0f921\"]]},\"legend\":{\"tracegroupgap\":0},\"margin\":{\"t\":60}},                        {\"responsive\": true}                    ).then(function(){\n",
              "                            \n",
              "var gd = document.getElementById('54b04675-653e-4545-a942-aa79e25b583c');\n",
              "var x = new MutationObserver(function (mutations, observer) {{\n",
              "        var display = window.getComputedStyle(gd).display;\n",
              "        if (!display || display === 'none') {{\n",
              "            console.log([gd, 'removed!']);\n",
              "            Plotly.purge(gd);\n",
              "            observer.disconnect();\n",
              "        }}\n",
              "}});\n",
              "\n",
              "// Listen for the removal of the full notebook cells\n",
              "var notebookContainer = gd.closest('#notebook-container');\n",
              "if (notebookContainer) {{\n",
              "    x.observe(notebookContainer, {childList: true});\n",
              "}}\n",
              "\n",
              "// Listen for the clearing of the current output cell\n",
              "var outputEl = gd.closest('.output');\n",
              "if (outputEl) {{\n",
              "    x.observe(outputEl, {childList: true});\n",
              "}}\n",
              "\n",
              "                        })                };                            </script>        </div>\n",
              "</body>\n",
              "</html>"
            ]
          },
          "metadata": {}
        }
      ]
    },
    {
      "cell_type": "markdown",
      "source": [
        "## 🔥 Model Building "
      ],
      "metadata": {
        "id": "CatqVCPUUvYY"
      }
    },
    {
      "cell_type": "code",
      "source": [
        "#importing essential libraries\n",
        "from sklearn.metrics import confusion_matrix,classification_report,accuracy_score, recall_score, precision_score\n",
        "from sklearn.preprocessing import StandardScaler\n",
        "from sklearn.neighbors import KNeighborsClassifier\n",
        "from sklearn.tree import DecisionTreeClassifier\n",
        "from sklearn.linear_model import LogisticRegression\n",
        "from sklearn.ensemble import RandomForestClassifier\n",
        "from sklearn.ensemble import GradientBoostingClassifier\n",
        "from sklearn.ensemble import AdaBoostClassifier\n",
        "from xgboost import XGBClassifier\n",
        "from sklearn.model_selection import train_test_split\n",
        "from sklearn.model_selection import GridSearchCV"
      ],
      "metadata": {
        "id": "L_OPIHlDfc77"
      },
      "execution_count": 455,
      "outputs": []
    },
    {
      "cell_type": "code",
      "source": [
        "models_metrics_results = []"
      ],
      "metadata": {
        "id": "miD5rCH_T8_O"
      },
      "execution_count": 456,
      "outputs": []
    },
    {
      "cell_type": "markdown",
      "source": [
        "### Preprocessing"
      ],
      "metadata": {
        "id": "EF2BwZFef85M"
      }
    },
    {
      "cell_type": "code",
      "source": [
        "df_diabetes.var()"
      ],
      "metadata": {
        "colab": {
          "base_uri": "https://localhost:8080/"
        },
        "id": "o2oTS5Tmf-ze",
        "outputId": "164b99ed-0c72-4e76-86e5-cb4b763ff6e9"
      },
      "execution_count": 457,
      "outputs": [
        {
          "output_type": "execute_result",
          "data": {
            "text/plain": [
              "Pregnancies                   8.85\n",
              "Glucose                     926.35\n",
              "BloodPressure               146.32\n",
              "SkinThickness                77.28\n",
              "Insulin                    7228.59\n",
              "BMI                          47.27\n",
              "DiabetesPedigreeFunction      0.11\n",
              "Age                         138.30\n",
              "Outcome                       0.23\n",
              "dtype: float64"
            ]
          },
          "metadata": {},
          "execution_count": 457
        }
      ]
    },
    {
      "cell_type": "code",
      "source": [
        "df_diabetes.mean()"
      ],
      "metadata": {
        "colab": {
          "base_uri": "https://localhost:8080/"
        },
        "id": "WVjTy_MygUwF",
        "outputId": "715ca7e1-7955-47e9-8469-e5c67360dbee"
      },
      "execution_count": 458,
      "outputs": [
        {
          "output_type": "execute_result",
          "data": {
            "text/plain": [
              "Pregnancies                  4.49\n",
              "Glucose                    121.69\n",
              "BloodPressure               72.41\n",
              "SkinThickness               29.15\n",
              "Insulin                    155.55\n",
              "BMI                         32.46\n",
              "DiabetesPedigreeFunction     0.47\n",
              "Age                         33.24\n",
              "Outcome                      0.35\n",
              "dtype: float64"
            ]
          },
          "metadata": {},
          "execution_count": 458
        }
      ]
    },
    {
      "cell_type": "markdown",
      "source": [
        "The features have high variance and hence need to be normalized"
      ],
      "metadata": {
        "id": "JAUqhFTjgD5r"
      }
    },
    {
      "cell_type": "code",
      "source": [
        "from sklearn.preprocessing import MinMaxScaler\n",
        "# Instancier un objet MinMaxScaler\n",
        "scaler = MinMaxScaler()\n",
        "cols_to_normalize = df_diabetes.columns[:-1]\n",
        "# Normaliser les données en utilisant le fit_transform de MinMaxScaler\n",
        "df_diabetes[cols_to_normalize] = scaler.fit_transform(df_diabetes[cols_to_normalize])"
      ],
      "metadata": {
        "id": "WmmI3NPnhINF"
      },
      "execution_count": 459,
      "outputs": []
    },
    {
      "cell_type": "code",
      "source": [
        "df_diabetes.var()"
      ],
      "metadata": {
        "colab": {
          "base_uri": "https://localhost:8080/"
        },
        "id": "7OzV3mylhhAm",
        "outputId": "b570aea5-aac3-40b2-cfda-d634899a5432"
      },
      "execution_count": 460,
      "outputs": [
        {
          "output_type": "execute_result",
          "data": {
            "text/plain": [
              "Pregnancies                0.03\n",
              "Glucose                    0.04\n",
              "BloodPressure              0.02\n",
              "SkinThickness              0.01\n",
              "Insulin                    0.01\n",
              "BMI                        0.02\n",
              "DiabetesPedigreeFunction   0.02\n",
              "Age                        0.04\n",
              "Outcome                    0.23\n",
              "dtype: float64"
            ]
          },
          "metadata": {},
          "execution_count": 460
        }
      ]
    },
    {
      "cell_type": "code",
      "source": [
        "df_diabetes.mean()"
      ],
      "metadata": {
        "colab": {
          "base_uri": "https://localhost:8080/"
        },
        "id": "GWxDf-iThqAX",
        "outputId": "d5beff37-31d0-41f7-ba4c-c025c4512f79"
      },
      "execution_count": 461,
      "outputs": [
        {
          "output_type": "execute_result",
          "data": {
            "text/plain": [
              "Pregnancies                0.22\n",
              "Glucose                    0.50\n",
              "BloodPressure              0.49\n",
              "SkinThickness              0.24\n",
              "Insulin                    0.17\n",
              "BMI                        0.29\n",
              "DiabetesPedigreeFunction   0.17\n",
              "Age                        0.20\n",
              "Outcome                    0.35\n",
              "dtype: float64"
            ]
          },
          "metadata": {},
          "execution_count": 461
        }
      ]
    },
    {
      "cell_type": "markdown",
      "source": [
        "### Train Test Split"
      ],
      "metadata": {
        "id": "Tcx1McpvgSr0"
      }
    },
    {
      "cell_type": "code",
      "source": [
        "label= df_diabetes[\"Outcome\"]\n",
        "train= df_diabetes.drop(\"Outcome\",axis= 1)\n",
        "x_train,x_test,y_train,y_test= train_test_split(train,label,test_size= 0.25,random_state= 123)\n",
        "\n",
        "print(x_train.shape)\n",
        "print(y_train.shape)\n",
        "print(x_test.shape)\n",
        "print(y_test.shape)"
      ],
      "metadata": {
        "colab": {
          "base_uri": "https://localhost:8080/"
        },
        "id": "J5KBld5YgwZq",
        "outputId": "a3e2cb5a-bedc-4f58-9047-73bf1b406a34"
      },
      "execution_count": 462,
      "outputs": [
        {
          "output_type": "stream",
          "name": "stdout",
          "text": [
            "(576, 8)\n",
            "(576,)\n",
            "(192, 8)\n",
            "(192,)\n"
          ]
        }
      ]
    },
    {
      "cell_type": "markdown",
      "source": [
        "### 🔨 Fix Imbalencement data\n",
        "\n",
        "- https://machinelearningmastery.com/tactics-to-combat-imbalanced-classes-in-your-machine-learning-dataset \n",
        "- https://towardsdatascience.com/heres-what-i-ve-learnt-about-sklearn-resample-ab735ae1abc4\n",
        "\n",
        "\n",
        "In a Machine Learning problem, make sure to upsample/downsample ONLY AFTER you split into train, test (and validate if you wish). If you do upsample your dataset before you split into train and test, there is a high possibility that your model is exposed to data leakage. Doing this might give us a wrong sense of what our Machine Learning model is really performing."
      ],
      "metadata": {
        "id": "nAFWeaJWyd_V"
      }
    },
    {
      "cell_type": "code",
      "source": [
        "\n",
        "df_diabetes_train = pd.concat([x_train,y_train],axis=1)\n",
        "sns.countplot(x='Outcome', data=df_diabetes_train)\n",
        "plt.title(\"Count of Outcome (diabetes or not)\")\n",
        "plt.show()"
      ],
      "metadata": {
        "colab": {
          "base_uri": "https://localhost:8080/",
          "height": 295
        },
        "id": "9-3S60oqsJ86",
        "outputId": "2742fa7b-cdb6-4b1b-d1a4-6d0b93cd8cba"
      },
      "execution_count": 463,
      "outputs": [
        {
          "output_type": "display_data",
          "data": {
            "text/plain": [
              "<Figure size 432x288 with 1 Axes>"
            ],
            "image/png": "[encoded data removed]"
          },
          "metadata": {}
        }
      ]
    },
    {
      "cell_type": "code",
      "source": [
        "# Séparer les lignes en deux groupes en fonction de la valeur de la colonne \"Outcome\"\n",
        "df_minority = df_diabetes_train[df_diabetes_train['Outcome']==1]\n",
        "df_majority = df_diabetes_train[df_diabetes_train['Outcome']==0]\n",
        "\n",
        "df_minority.shape[0],df_majority.shape[0]"
      ],
      "metadata": {
        "colab": {
          "base_uri": "https://localhost:8080/"
        },
        "id": "B1ARC36RjCNT",
        "outputId": "127c4d70-44af-4879-9973-c2199af28376"
      },
      "execution_count": 464,
      "outputs": [
        {
          "output_type": "execute_result",
          "data": {
            "text/plain": [
              "(195, 381)"
            ]
          },
          "metadata": {},
          "execution_count": 464
        }
      ]
    },
    {
      "cell_type": "code",
      "source": [
        "\n",
        "from sklearn.utils import resample\n",
        "# Effectuer la data augmentation en dupliquant aléatoirement les lignes du groupe minoritaire jusqu'à ce qu'il ait le même nombre de lignes que le groupe majoritaire\n",
        "df_minority_upsampled = resample(df_minority,replace=True, n_samples=len(df_majority) - len(df_minority), random_state=123)\n",
        "\n",
        "df_minority_upsampled"
      ],
      "metadata": {
        "colab": {
          "base_uri": "https://localhost:8080/",
          "height": 424
        },
        "id": "PBpt7NDsirpM",
        "outputId": "7a40c68b-e473-4457-ffd0-71e61eb994d3"
      },
      "execution_count": 465,
      "outputs": [
        {
          "output_type": "execute_result",
          "data": {
            "text/plain": [
              "     Pregnancies  Glucose  BloodPressure  SkinThickness  Insulin  BMI  \\\n",
              "702         0.00     0.80           0.65           0.24     0.17 0.34   \n",
              "722         0.00     0.68           0.45           0.24     0.14 0.23   \n",
              "125         0.00     0.28           0.06           0.38     0.10 0.75   \n",
              "445         0.22     0.88           0.55           0.61     0.00 0.84   \n",
              "577         0.06     0.48           0.57           0.24     0.17 0.51   \n",
              "..           ...      ...            ...            ...      ...  ...   \n",
              "339         0.38     0.86           0.61           0.24     0.17 0.44   \n",
              "259         0.62     0.72           0.53           0.23     0.16 0.31   \n",
              "84          0.25     0.60           0.86           0.24     0.17 0.63   \n",
              "766         0.00     0.53           0.37           0.24     0.17 0.24   \n",
              "39          0.19     0.43           0.49           0.43     0.23 0.39   \n",
              "\n",
              "     DiabetesPedigreeFunction  Age  Outcome  \n",
              "702                      0.35 0.52        1  \n",
              "722                      0.12 0.35        1  \n",
              "125                      0.18 0.08        1  \n",
              "445                      1.00 0.07        1  \n",
              "577                      0.26 0.00        1  \n",
              "..                        ...  ...      ...  \n",
              "339                      0.11 0.33        1  \n",
              "259                      0.54 0.50        1  \n",
              "84                       0.06 0.27        1  \n",
              "766                      0.12 0.43        1  \n",
              "39                       0.56 0.58        1  \n",
              "\n",
              "[186 rows x 9 columns]"
            ],
            "text/html": [
              "\n",
              "  <div id=\"df-48d7f178-02e0-4d17-bfde-941049382686\">\n",
              "    <div class=\"colab-df-container\">\n",
              "      <div>\n",
              "<style scoped>\n",
              "    .dataframe tbody tr th:only-of-type {\n",
              "        vertical-align: middle;\n",
              "    }\n",
              "\n",
              "    .dataframe tbody tr th {\n",
              "        vertical-align: top;\n",
              "    }\n",
              "\n",
              "    .dataframe thead th {\n",
              "        text-align: right;\n",
              "    }\n",
              "</style>\n",
              "<table border=\"1\" class=\"dataframe\">\n",
              "  <thead>\n",
              "    <tr style=\"text-align: right;\">\n",
              "      <th></th>\n",
              "      <th>Pregnancies</th>\n",
              "      <th>Glucose</th>\n",
              "      <th>BloodPressure</th>\n",
              "      <th>SkinThickness</th>\n",
              "      <th>Insulin</th>\n",
              "      <th>BMI</th>\n",
              "      <th>DiabetesPedigreeFunction</th>\n",
              "      <th>Age</th>\n",
              "      <th>Outcome</th>\n",
              "    </tr>\n",
              "  </thead>\n",
              "  <tbody>\n",
              "    <tr>\n",
              "      <th>702</th>\n",
              "      <td>0.00</td>\n",
              "      <td>0.80</td>\n",
              "      <td>0.65</td>\n",
              "      <td>0.24</td>\n",
              "      <td>0.17</td>\n",
              "      <td>0.34</td>\n",
              "      <td>0.35</td>\n",
              "      <td>0.52</td>\n",
              "      <td>1</td>\n",
              "    </tr>\n",
              "    <tr>\n",
              "      <th>722</th>\n",
              "      <td>0.00</td>\n",
              "      <td>0.68</td>\n",
              "      <td>0.45</td>\n",
              "      <td>0.24</td>\n",
              "      <td>0.14</td>\n",
              "      <td>0.23</td>\n",
              "      <td>0.12</td>\n",
              "      <td>0.35</td>\n",
              "      <td>1</td>\n",
              "    </tr>\n",
              "    <tr>\n",
              "      <th>125</th>\n",
              "      <td>0.00</td>\n",
              "      <td>0.28</td>\n",
              "      <td>0.06</td>\n",
              "      <td>0.38</td>\n",
              "      <td>0.10</td>\n",
              "      <td>0.75</td>\n",
              "      <td>0.18</td>\n",
              "      <td>0.08</td>\n",
              "      <td>1</td>\n",
              "    </tr>\n",
              "    <tr>\n",
              "      <th>445</th>\n",
              "      <td>0.22</td>\n",
              "      <td>0.88</td>\n",
              "      <td>0.55</td>\n",
              "      <td>0.61</td>\n",
              "      <td>0.00</td>\n",
              "      <td>0.84</td>\n",
              "      <td>1.00</td>\n",
              "      <td>0.07</td>\n",
              "      <td>1</td>\n",
              "    </tr>\n",
              "    <tr>\n",
              "      <th>577</th>\n",
              "      <td>0.06</td>\n",
              "      <td>0.48</td>\n",
              "      <td>0.57</td>\n",
              "      <td>0.24</td>\n",
              "      <td>0.17</td>\n",
              "      <td>0.51</td>\n",
              "      <td>0.26</td>\n",
              "      <td>0.00</td>\n",
              "      <td>1</td>\n",
              "    </tr>\n",
              "    <tr>\n",
              "      <th>...</th>\n",
              "      <td>...</td>\n",
              "      <td>...</td>\n",
              "      <td>...</td>\n",
              "      <td>...</td>\n",
              "      <td>...</td>\n",
              "      <td>...</td>\n",
              "      <td>...</td>\n",
              "      <td>...</td>\n",
              "      <td>...</td>\n",
              "    </tr>\n",
              "    <tr>\n",
              "      <th>339</th>\n",
              "      <td>0.38</td>\n",
              "      <td>0.86</td>\n",
              "      <td>0.61</td>\n",
              "      <td>0.24</td>\n",
              "      <td>0.17</td>\n",
              "      <td>0.44</td>\n",
              "      <td>0.11</td>\n",
              "      <td>0.33</td>\n",
              "      <td>1</td>\n",
              "    </tr>\n",
              "    <tr>\n",
              "      <th>259</th>\n",
              "      <td>0.62</td>\n",
              "      <td>0.72</td>\n",
              "      <td>0.53</td>\n",
              "      <td>0.23</td>\n",
              "      <td>0.16</td>\n",
              "      <td>0.31</td>\n",
              "      <td>0.54</td>\n",
              "      <td>0.50</td>\n",
              "      <td>1</td>\n",
              "    </tr>\n",
              "    <tr>\n",
              "      <th>84</th>\n",
              "      <td>0.25</td>\n",
              "      <td>0.60</td>\n",
              "      <td>0.86</td>\n",
              "      <td>0.24</td>\n",
              "      <td>0.17</td>\n",
              "      <td>0.63</td>\n",
              "      <td>0.06</td>\n",
              "      <td>0.27</td>\n",
              "      <td>1</td>\n",
              "    </tr>\n",
              "    <tr>\n",
              "      <th>766</th>\n",
              "      <td>0.00</td>\n",
              "      <td>0.53</td>\n",
              "      <td>0.37</td>\n",
              "      <td>0.24</td>\n",
              "      <td>0.17</td>\n",
              "      <td>0.24</td>\n",
              "      <td>0.12</td>\n",
              "      <td>0.43</td>\n",
              "      <td>1</td>\n",
              "    </tr>\n",
              "    <tr>\n",
              "      <th>39</th>\n",
              "      <td>0.19</td>\n",
              "      <td>0.43</td>\n",
              "      <td>0.49</td>\n",
              "      <td>0.43</td>\n",
              "      <td>0.23</td>\n",
              "      <td>0.39</td>\n",
              "      <td>0.56</td>\n",
              "      <td>0.58</td>\n",
              "      <td>1</td>\n",
              "    </tr>\n",
              "  </tbody>\n",
              "</table>\n",
              "<p>186 rows × 9 columns</p>\n",
              "</div>\n",
              "      <button class=\"colab-df-convert\" onclick=\"convertToInteractive('df-48d7f178-02e0-4d17-bfde-941049382686')\"\n",
              "              title=\"Convert this dataframe to an interactive table.\"\n",
              "              style=\"display:none;\">\n",
              "        \n",
              "  <svg xmlns=\"http://www.w3.org/2000/svg\" height=\"24px\"viewBox=\"0 0 24 24\"\n",
              "       width=\"24px\">\n",
              "    <path d=\"M0 0h24v24H0V0z\" fill=\"none\"/>\n",
              "    <path d=\"M18.56 5.44l.94 2.06.94-2.06 2.06-.94-2.06-.94-.94-2.06-.94 2.06-2.06.94zm-11 1L8.5 8.5l.94-2.06 2.06-.94-2.06-.94L8.5 2.5l-.94 2.06-2.06.94zm10 10l.94 2.06.94-2.06 2.06-.94-2.06-.94-.94-2.06-.94 2.06-2.06.94z\"/><path d=\"M17.41 7.96l-1.37-1.37c-.4-.4-.92-.59-1.43-.59-.52 0-1.04.2-1.43.59L10.3 9.45l-7.72 7.72c-.78.78-.78 2.05 0 2.83L4 21.41c.39.39.9.59 1.41.59.51 0 1.02-.2 1.41-.59l7.78-7.78 2.81-2.81c.8-.78.8-2.07 0-2.86zM5.41 20L4 18.59l7.72-7.72 1.47 1.35L5.41 20z\"/>\n",
              "  </svg>\n",
              "      </button>\n",
              "      \n",
              "  <style>\n",
              "    .colab-df-container {\n",
              "      display:flex;\n",
              "      flex-wrap:wrap;\n",
              "      gap: 12px;\n",
              "    }\n",
              "\n",
              "    .colab-df-convert {\n",
              "      background-color: #E8F0FE;\n",
              "      border: none;\n",
              "      border-radius: 50%;\n",
              "      cursor: pointer;\n",
              "      display: none;\n",
              "      fill: #1967D2;\n",
              "      height: 32px;\n",
              "      padding: 0 0 0 0;\n",
              "      width: 32px;\n",
              "    }\n",
              "\n",
              "    .colab-df-convert:hover {\n",
              "      background-color: #E2EBFA;\n",
              "      box-shadow: 0px 1px 2px rgba(60, 64, 67, 0.3), 0px 1px 3px 1px rgba(60, 64, 67, 0.15);\n",
              "      fill: #174EA6;\n",
              "    }\n",
              "\n",
              "    [theme=dark] .colab-df-convert {\n",
              "      background-color: #3B4455;\n",
              "      fill: #D2E3FC;\n",
              "    }\n",
              "\n",
              "    [theme=dark] .colab-df-convert:hover {\n",
              "      background-color: #434B5C;\n",
              "      box-shadow: 0px 1px 3px 1px rgba(0, 0, 0, 0.15);\n",
              "      filter: drop-shadow(0px 1px 2px rgba(0, 0, 0, 0.3));\n",
              "      fill: #FFFFFF;\n",
              "    }\n",
              "  </style>\n",
              "\n",
              "      <script>\n",
              "        const buttonEl =\n",
              "          document.querySelector('#df-48d7f178-02e0-4d17-bfde-941049382686 button.colab-df-convert');\n",
              "        buttonEl.style.display =\n",
              "          google.colab.kernel.accessAllowed ? 'block' : 'none';\n",
              "\n",
              "        async function convertToInteractive(key) {\n",
              "          const element = document.querySelector('#df-48d7f178-02e0-4d17-bfde-941049382686');\n",
              "          const dataTable =\n",
              "            await google.colab.kernel.invokeFunction('convertToInteractive',\n",
              "                                                     [key], {});\n",
              "          if (!dataTable) return;\n",
              "\n",
              "          const docLinkHtml = 'Like what you see? Visit the ' +\n",
              "            '<a target=\"_blank\" href=https://colab.research.google.com/notebooks/data_table.ipynb>data table notebook</a>'\n",
              "            + ' to learn more about interactive tables.';\n",
              "          element.innerHTML = '';\n",
              "          dataTable['output_type'] = 'display_data';\n",
              "          await google.colab.output.renderOutput(dataTable, element);\n",
              "          const docLink = document.createElement('div');\n",
              "          docLink.innerHTML = docLinkHtml;\n",
              "          element.appendChild(docLink);\n",
              "        }\n",
              "      </script>\n",
              "    </div>\n",
              "  </div>\n",
              "  "
            ]
          },
          "metadata": {},
          "execution_count": 465
        }
      ]
    },
    {
      "cell_type": "code",
      "source": [
        "# Ajouter un peu de bruit aux nouvelles lignes en générant des valeurs aléatoires à partir d'une distribution normal\n",
        "noise = np.abs(np.random.normal(0, 0.1, (df_minority_upsampled.shape[0],df_minority_upsampled.shape[1]-1)))\n",
        "cols = df_minority_upsampled.columns[:-1]\n",
        "df_minority_upsampled.loc[:,cols] = df_minority_upsampled.loc[:,cols] + noise\n",
        "df_minority_upsampled"
      ],
      "metadata": {
        "colab": {
          "base_uri": "https://localhost:8080/",
          "height": 424
        },
        "id": "wJpp0FAfrwty",
        "outputId": "7f228ccc-ca5d-41eb-bbf9-102937d9bb5e"
      },
      "execution_count": 466,
      "outputs": [
        {
          "output_type": "execute_result",
          "data": {
            "text/plain": [
              "     Pregnancies  Glucose  BloodPressure  SkinThickness  Insulin  BMI  \\\n",
              "702         0.05     0.97           0.80           0.24     0.20 0.48   \n",
              "722         0.02     0.79           0.61           0.43     0.15 0.33   \n",
              "125         0.12     0.34           0.23           0.50     0.14 0.86   \n",
              "445         0.29     0.91           0.56           0.68     0.06 0.91   \n",
              "577         0.14     0.53           0.66           0.30     0.21 0.58   \n",
              "..           ...      ...            ...            ...      ...  ...   \n",
              "339         0.40     0.90           0.82           0.38     0.22 0.54   \n",
              "259         0.63     0.72           0.55           0.26     0.26 0.39   \n",
              "84          0.38     0.69           0.92           0.31     0.22 0.70   \n",
              "766         0.08     0.60           0.39           0.25     0.28 0.27   \n",
              "39          0.25     0.62           0.59           0.49     0.34 0.39   \n",
              "\n",
              "     DiabetesPedigreeFunction  Age  Outcome  \n",
              "702                      0.51 0.52        1  \n",
              "722                      0.14 0.48        1  \n",
              "125                      0.22 0.16        1  \n",
              "445                      1.12 0.08        1  \n",
              "577                      0.28 0.26        1  \n",
              "..                        ...  ...      ...  \n",
              "339                      0.15 0.37        1  \n",
              "259                      0.63 0.52        1  \n",
              "84                       0.10 0.36        1  \n",
              "766                      0.20 0.56        1  \n",
              "39                       0.60 0.59        1  \n",
              "\n",
              "[186 rows x 9 columns]"
            ],
            "text/html": [
              "\n",
              "  <div id=\"df-7dfe98fb-3857-4354-ab29-1793d8e31204\">\n",
              "    <div class=\"colab-df-container\">\n",
              "      <div>\n",
              "<style scoped>\n",
              "    .dataframe tbody tr th:only-of-type {\n",
              "        vertical-align: middle;\n",
              "    }\n",
              "\n",
              "    .dataframe tbody tr th {\n",
              "        vertical-align: top;\n",
              "    }\n",
              "\n",
              "    .dataframe thead th {\n",
              "        text-align: right;\n",
              "    }\n",
              "</style>\n",
              "<table border=\"1\" class=\"dataframe\">\n",
              "  <thead>\n",
              "    <tr style=\"text-align: right;\">\n",
              "      <th></th>\n",
              "      <th>Pregnancies</th>\n",
              "      <th>Glucose</th>\n",
              "      <th>BloodPressure</th>\n",
              "      <th>SkinThickness</th>\n",
              "      <th>Insulin</th>\n",
              "      <th>BMI</th>\n",
              "      <th>DiabetesPedigreeFunction</th>\n",
              "      <th>Age</th>\n",
              "      <th>Outcome</th>\n",
              "    </tr>\n",
              "  </thead>\n",
              "  <tbody>\n",
              "    <tr>\n",
              "      <th>702</th>\n",
              "      <td>0.05</td>\n",
              "      <td>0.97</td>\n",
              "      <td>0.80</td>\n",
              "      <td>0.24</td>\n",
              "      <td>0.20</td>\n",
              "      <td>0.48</td>\n",
              "      <td>0.51</td>\n",
              "      <td>0.52</td>\n",
              "      <td>1</td>\n",
              "    </tr>\n",
              "    <tr>\n",
              "      <th>722</th>\n",
              "      <td>0.02</td>\n",
              "      <td>0.79</td>\n",
              "      <td>0.61</td>\n",
              "      <td>0.43</td>\n",
              "      <td>0.15</td>\n",
              "      <td>0.33</td>\n",
              "      <td>0.14</td>\n",
              "      <td>0.48</td>\n",
              "      <td>1</td>\n",
              "    </tr>\n",
              "    <tr>\n",
              "      <th>125</th>\n",
              "      <td>0.12</td>\n",
              "      <td>0.34</td>\n",
              "      <td>0.23</td>\n",
              "      <td>0.50</td>\n",
              "      <td>0.14</td>\n",
              "      <td>0.86</td>\n",
              "      <td>0.22</td>\n",
              "      <td>0.16</td>\n",
              "      <td>1</td>\n",
              "    </tr>\n",
              "    <tr>\n",
              "      <th>445</th>\n",
              "      <td>0.29</td>\n",
              "      <td>0.91</td>\n",
              "      <td>0.56</td>\n",
              "      <td>0.68</td>\n",
              "      <td>0.06</td>\n",
              "      <td>0.91</td>\n",
              "      <td>1.12</td>\n",
              "      <td>0.08</td>\n",
              "      <td>1</td>\n",
              "    </tr>\n",
              "    <tr>\n",
              "      <th>577</th>\n",
              "      <td>0.14</td>\n",
              "      <td>0.53</td>\n",
              "      <td>0.66</td>\n",
              "      <td>0.30</td>\n",
              "      <td>0.21</td>\n",
              "      <td>0.58</td>\n",
              "      <td>0.28</td>\n",
              "      <td>0.26</td>\n",
              "      <td>1</td>\n",
              "    </tr>\n",
              "    <tr>\n",
              "      <th>...</th>\n",
              "      <td>...</td>\n",
              "      <td>...</td>\n",
              "      <td>...</td>\n",
              "      <td>...</td>\n",
              "      <td>...</td>\n",
              "      <td>...</td>\n",
              "      <td>...</td>\n",
              "      <td>...</td>\n",
              "      <td>...</td>\n",
              "    </tr>\n",
              "    <tr>\n",
              "      <th>339</th>\n",
              "      <td>0.40</td>\n",
              "      <td>0.90</td>\n",
              "      <td>0.82</td>\n",
              "      <td>0.38</td>\n",
              "      <td>0.22</td>\n",
              "      <td>0.54</td>\n",
              "      <td>0.15</td>\n",
              "      <td>0.37</td>\n",
              "      <td>1</td>\n",
              "    </tr>\n",
              "    <tr>\n",
              "      <th>259</th>\n",
              "      <td>0.63</td>\n",
              "      <td>0.72</td>\n",
              "      <td>0.55</td>\n",
              "      <td>0.26</td>\n",
              "      <td>0.26</td>\n",
              "      <td>0.39</td>\n",
              "      <td>0.63</td>\n",
              "      <td>0.52</td>\n",
              "      <td>1</td>\n",
              "    </tr>\n",
              "    <tr>\n",
              "      <th>84</th>\n",
              "      <td>0.38</td>\n",
              "      <td>0.69</td>\n",
              "      <td>0.92</td>\n",
              "      <td>0.31</td>\n",
              "      <td>0.22</td>\n",
              "      <td>0.70</td>\n",
              "      <td>0.10</td>\n",
              "      <td>0.36</td>\n",
              "      <td>1</td>\n",
              "    </tr>\n",
              "    <tr>\n",
              "      <th>766</th>\n",
              "      <td>0.08</td>\n",
              "      <td>0.60</td>\n",
              "      <td>0.39</td>\n",
              "      <td>0.25</td>\n",
              "      <td>0.28</td>\n",
              "      <td>0.27</td>\n",
              "      <td>0.20</td>\n",
              "      <td>0.56</td>\n",
              "      <td>1</td>\n",
              "    </tr>\n",
              "    <tr>\n",
              "      <th>39</th>\n",
              "      <td>0.25</td>\n",
              "      <td>0.62</td>\n",
              "      <td>0.59</td>\n",
              "      <td>0.49</td>\n",
              "      <td>0.34</td>\n",
              "      <td>0.39</td>\n",
              "      <td>0.60</td>\n",
              "      <td>0.59</td>\n",
              "      <td>1</td>\n",
              "    </tr>\n",
              "  </tbody>\n",
              "</table>\n",
              "<p>186 rows × 9 columns</p>\n",
              "</div>\n",
              "      <button class=\"colab-df-convert\" onclick=\"convertToInteractive('df-7dfe98fb-3857-4354-ab29-1793d8e31204')\"\n",
              "              title=\"Convert this dataframe to an interactive table.\"\n",
              "              style=\"display:none;\">\n",
              "        \n",
              "  <svg xmlns=\"http://www.w3.org/2000/svg\" height=\"24px\"viewBox=\"0 0 24 24\"\n",
              "       width=\"24px\">\n",
              "    <path d=\"M0 0h24v24H0V0z\" fill=\"none\"/>\n",
              "    <path d=\"M18.56 5.44l.94 2.06.94-2.06 2.06-.94-2.06-.94-.94-2.06-.94 2.06-2.06.94zm-11 1L8.5 8.5l.94-2.06 2.06-.94-2.06-.94L8.5 2.5l-.94 2.06-2.06.94zm10 10l.94 2.06.94-2.06 2.06-.94-2.06-.94-.94-2.06-.94 2.06-2.06.94z\"/><path d=\"M17.41 7.96l-1.37-1.37c-.4-.4-.92-.59-1.43-.59-.52 0-1.04.2-1.43.59L10.3 9.45l-7.72 7.72c-.78.78-.78 2.05 0 2.83L4 21.41c.39.39.9.59 1.41.59.51 0 1.02-.2 1.41-.59l7.78-7.78 2.81-2.81c.8-.78.8-2.07 0-2.86zM5.41 20L4 18.59l7.72-7.72 1.47 1.35L5.41 20z\"/>\n",
              "  </svg>\n",
              "      </button>\n",
              "      \n",
              "  <style>\n",
              "    .colab-df-container {\n",
              "      display:flex;\n",
              "      flex-wrap:wrap;\n",
              "      gap: 12px;\n",
              "    }\n",
              "\n",
              "    .colab-df-convert {\n",
              "      background-color: #E8F0FE;\n",
              "      border: none;\n",
              "      border-radius: 50%;\n",
              "      cursor: pointer;\n",
              "      display: none;\n",
              "      fill: #1967D2;\n",
              "      height: 32px;\n",
              "      padding: 0 0 0 0;\n",
              "      width: 32px;\n",
              "    }\n",
              "\n",
              "    .colab-df-convert:hover {\n",
              "      background-color: #E2EBFA;\n",
              "      box-shadow: 0px 1px 2px rgba(60, 64, 67, 0.3), 0px 1px 3px 1px rgba(60, 64, 67, 0.15);\n",
              "      fill: #174EA6;\n",
              "    }\n",
              "\n",
              "    [theme=dark] .colab-df-convert {\n",
              "      background-color: #3B4455;\n",
              "      fill: #D2E3FC;\n",
              "    }\n",
              "\n",
              "    [theme=dark] .colab-df-convert:hover {\n",
              "      background-color: #434B5C;\n",
              "      box-shadow: 0px 1px 3px 1px rgba(0, 0, 0, 0.15);\n",
              "      filter: drop-shadow(0px 1px 2px rgba(0, 0, 0, 0.3));\n",
              "      fill: #FFFFFF;\n",
              "    }\n",
              "  </style>\n",
              "\n",
              "      <script>\n",
              "        const buttonEl =\n",
              "          document.querySelector('#df-7dfe98fb-3857-4354-ab29-1793d8e31204 button.colab-df-convert');\n",
              "        buttonEl.style.display =\n",
              "          google.colab.kernel.accessAllowed ? 'block' : 'none';\n",
              "\n",
              "        async function convertToInteractive(key) {\n",
              "          const element = document.querySelector('#df-7dfe98fb-3857-4354-ab29-1793d8e31204');\n",
              "          const dataTable =\n",
              "            await google.colab.kernel.invokeFunction('convertToInteractive',\n",
              "                                                     [key], {});\n",
              "          if (!dataTable) return;\n",
              "\n",
              "          const docLinkHtml = 'Like what you see? Visit the ' +\n",
              "            '<a target=\"_blank\" href=https://colab.research.google.com/notebooks/data_table.ipynb>data table notebook</a>'\n",
              "            + ' to learn more about interactive tables.';\n",
              "          element.innerHTML = '';\n",
              "          dataTable['output_type'] = 'display_data';\n",
              "          await google.colab.output.renderOutput(dataTable, element);\n",
              "          const docLink = document.createElement('div');\n",
              "          docLink.innerHTML = docLinkHtml;\n",
              "          element.appendChild(docLink);\n",
              "        }\n",
              "      </script>\n",
              "    </div>\n",
              "  </div>\n",
              "  "
            ]
          },
          "metadata": {},
          "execution_count": 466
        }
      ]
    },
    {
      "cell_type": "code",
      "source": [
        "# Concaténer les deux groupes en un seul jeu de données équilibré\n",
        "df_augmented_train = pd.concat([df_majority, df_minority, df_minority_upsampled])\n",
        "df_augmented_train.shape"
      ],
      "metadata": {
        "colab": {
          "base_uri": "https://localhost:8080/"
        },
        "id": "_sDoCIVzldfk",
        "outputId": "38223e0e-5556-4fef-97ee-8d47541d42be"
      },
      "execution_count": 467,
      "outputs": [
        {
          "output_type": "execute_result",
          "data": {
            "text/plain": [
              "(762, 9)"
            ]
          },
          "metadata": {},
          "execution_count": 467
        }
      ]
    },
    {
      "cell_type": "code",
      "source": [
        "# Mélanger les lignes pour éviter tout biais\n",
        "df_augmented_train = df_augmented_train.sample(frac=1, random_state=123).reset_index(drop=True)\n",
        "\n",
        "# Sauvegarder le nouveau jeu de données équilibré\n",
        "df_augmented_train.to_csv(f\"{WORKSPACE_PATH}/diabetes_augmented_train.csv\", index=False)"
      ],
      "metadata": {
        "id": "rM7ON-B-hZI0"
      },
      "execution_count": 468,
      "outputs": []
    },
    {
      "cell_type": "code",
      "source": [
        "sns.countplot(x='Outcome', data=df_augmented_train)\n",
        "plt.title(\"Count of Outcome (diabetes or not)\")\n",
        "plt.show()"
      ],
      "metadata": {
        "colab": {
          "base_uri": "https://localhost:8080/",
          "height": 295
        },
        "id": "pDZoIVLqsMKr",
        "outputId": "6e61550c-dd79-4913-c129-4e0549893615"
      },
      "execution_count": 469,
      "outputs": [
        {
          "output_type": "display_data",
          "data": {
            "text/plain": [
              "<Figure size 432x288 with 1 Axes>"
            ],
            "image/png": "[encoded data removed]"
          },
          "metadata": {}
        }
      ]
    },
    {
      "cell_type": "code",
      "source": [
        "y_train_aug = df_augmented_train[\"Outcome\"]\n",
        "x_train_aug = df_augmented_train.drop(\"Outcome\",axis= 1)\n",
        "\n",
        "x_train_aug.shape"
      ],
      "metadata": {
        "colab": {
          "base_uri": "https://localhost:8080/"
        },
        "id": "lU19F0PwsQhs",
        "outputId": "5a7aec90-98c2-47a8-e3bd-1a696b631952"
      },
      "execution_count": 470,
      "outputs": [
        {
          "output_type": "execute_result",
          "data": {
            "text/plain": [
              "(762, 8)"
            ]
          },
          "metadata": {},
          "execution_count": 470
        }
      ]
    },
    {
      "cell_type": "markdown",
      "source": [
        "### 🤖 K-nn "
      ],
      "metadata": {
        "id": "Nxcz5JWniP3p"
      }
    },
    {
      "cell_type": "code",
      "source": [
        "k_to_test = list(np.arange(1,50))\n",
        "k_to_test[:10]"
      ],
      "metadata": {
        "colab": {
          "base_uri": "https://localhost:8080/"
        },
        "id": "IpT_pT3yi06b",
        "outputId": "5410c51a-587d-4b45-8cd1-37a40d37f30f"
      },
      "execution_count": 239,
      "outputs": [
        {
          "output_type": "execute_result",
          "data": {
            "text/plain": [
              "[1, 2, 3, 4, 5, 6, 7, 8, 9, 10]"
            ]
          },
          "metadata": {},
          "execution_count": 239
        }
      ]
    },
    {
      "cell_type": "code",
      "source": [
        "scores= []\n",
        "for k in k_to_test:\n",
        "    knn= KNeighborsClassifier(n_neighbors= k)\n",
        "    knn.fit(x_train,y_train)\n",
        "    scores.append(accuracy_score(y_test,knn.predict(x_test)))\n",
        "\n",
        "plt.figure(figsize= (15,6))\n",
        "sns.lineplot(k_to_test,scores)\n",
        "plt.show()"
      ],
      "metadata": {
        "id": "wSQIH367hFcZ",
        "colab": {
          "base_uri": "https://localhost:8080/",
          "height": 374
        },
        "outputId": "8eb06c4c-cd56-4bda-d727-bda34d70e191"
      },
      "execution_count": 240,
      "outputs": [
        {
          "output_type": "display_data",
          "data": {
            "text/plain": [
              "<Figure size 1080x432 with 1 Axes>"
            ],
            "image/png": "[encoded data removed]"
          },
          "metadata": {}
        }
      ]
    },
    {
      "cell_type": "code",
      "source": [
        "best_k = np.argmax(scores) + 1\n",
        "best_k"
      ],
      "metadata": {
        "id": "5tWZcCyGjEw2",
        "colab": {
          "base_uri": "https://localhost:8080/"
        },
        "outputId": "686b361d-53f6-46b7-aac2-13add0a98cd5"
      },
      "execution_count": 204,
      "outputs": [
        {
          "output_type": "execute_result",
          "data": {
            "text/plain": [
              "25"
            ]
          },
          "metadata": {},
          "execution_count": 204
        }
      ]
    },
    {
      "cell_type": "code",
      "source": [
        "knn= KNeighborsClassifier(n_neighbors= best_k)\n",
        "knn.fit(x_train,y_train)\n",
        "knnpred = knn.predict(x_test)\n",
        "print(f\"accuracy score: \",accuracy_score(y_test,knnpred))"
      ],
      "metadata": {
        "colab": {
          "base_uri": "https://localhost:8080/"
        },
        "id": "clZ41c4vjTar",
        "outputId": "e265ab38-4fee-4eea-e200-48ab69ed4ad6"
      },
      "execution_count": 249,
      "outputs": [
        {
          "output_type": "stream",
          "name": "stdout",
          "text": [
            "accuracy score:  0.7987012987012987\n"
          ]
        }
      ]
    },
    {
      "cell_type": "code",
      "source": [
        "def classification_report_and_interpretation(y_test,y_pred, verbose = True):\n",
        "    report = classification_report(y_test,y_pred)\n",
        "    print(report)\n",
        "    dict_report = classification_report(y_test,y_pred,output_dict=True)\n",
        "    df_classification_report = pd.DataFrame(dict_report).transpose()\n",
        "    #print(df_classification_report)\n",
        "\n",
        "    \n",
        "    accuracy = df_classification_report[\"f1-score\"][\"accuracy\"]\n",
        "    support_0 =  int(df_classification_report[\"support\"][0])\n",
        "    support_1 =  int(df_classification_report[\"support\"][1])\n",
        "\n",
        "    precision_0 = df_classification_report[\"precision\"][0]\n",
        "    precision_1 = df_classification_report[\"precision\"][1]\n",
        "    recall_0 = df_classification_report[\"recall\"][0]\n",
        "    recall_1 = df_classification_report[\"recall\"][1]\n",
        "    f1_score_0 = df_classification_report[\"f1-score\"][0]\n",
        "    f1_score_1 = df_classification_report[\"f1-score\"][1]\n",
        "\n",
        "    if verbose:\n",
        "        print(\"---\")\n",
        "        print(f\"Precision 0 : Of all the people that the model predicted had no diabetes, only {precision_0:.0%} actually has it.\")\n",
        "        print(f\"Precision 1 : Of all the people that the model predicted had diabetes, only {precision_1:.0%} actually didn't have it.\")\n",
        "        \n",
        "        print(f\"Recall 0    : Of all the people with no diabetes [{support_0}], the model predicted this outcome correctly for {recall_0:.0%} of them.\")\n",
        "        print(f\"Recall 1    : Of all the people with diabetes [{support_1}], the model predicted this outcome correctly for {recall_1:.0%} of them.\")\n",
        "        \n",
        "        if f1_score_1 < 0.6:\n",
        "            print(\"F1-Score : /!\\ Since this value is not very close to 1, this tells us that the model does a poor job of predicting whether individuals have diabetes or not.\")\n",
        "        print(\"---\")\n",
        "    return accuracy, precision_1, recall_1 ,f1_score_1\n",
        "\n",
        "accuracy_, _ , recall_, _ = classification_report_and_interpretation(y_test,knnpred)"
      ],
      "metadata": {
        "colab": {
          "base_uri": "https://localhost:8080/"
        },
        "id": "HqLiGxlqjfjm",
        "outputId": "d942773f-c815-480f-d470-fc9f62e68ed1"
      },
      "execution_count": 263,
      "outputs": [
        {
          "output_type": "stream",
          "name": "stdout",
          "text": [
            "              precision    recall  f1-score   support\n",
            "\n",
            "           0       0.80      0.90      0.85        96\n",
            "           1       0.79      0.64      0.70        58\n",
            "\n",
            "    accuracy                           0.80       154\n",
            "   macro avg       0.80      0.77      0.78       154\n",
            "weighted avg       0.80      0.80      0.79       154\n",
            "\n",
            "---\n",
            "Precision 0 : Of all the people that the model predicted had no diabetes, only 80% actually has it.\n",
            "Precision 1 : Of all the people that the model predicted had diabetes, only 79% actually didn't have it.\n",
            "Recall 0    : Of all the people with no diabetes [96], the model predicted this outcome correctly for 90% of them.\n",
            "Recall 1    : Of all the people with diabetes [58], the model predicted this outcome correctly for 64% of them.\n",
            "---\n"
          ]
        }
      ]
    },
    {
      "cell_type": "code",
      "source": [
        "models_metrics_results.append({\"model\" : \"KNN\", \"accuracy\" : accuracy_, \"recall\" : recall_ })"
      ],
      "metadata": {
        "id": "N8GX3Qp3UOHW"
      },
      "execution_count": 207,
      "outputs": []
    },
    {
      "cell_type": "markdown",
      "source": [
        "### 🤖 Logistic Regression"
      ],
      "metadata": {
        "id": "u7CHDKnarIZ6"
      }
    },
    {
      "cell_type": "code",
      "source": [
        "lr= LogisticRegression()\n",
        "lr.fit(x_train,y_train)\n",
        "lrpred= lr.predict(x_test)\n",
        "print(f\"accuracy score: \",accuracy_score(y_test,lrpred))"
      ],
      "metadata": {
        "colab": {
          "base_uri": "https://localhost:8080/"
        },
        "id": "cGkFkTNvlVB8",
        "outputId": "b34e7cd4-bbd1-4249-e3a7-7c2fea8aac83"
      },
      "execution_count": 208,
      "outputs": [
        {
          "output_type": "stream",
          "name": "stdout",
          "text": [
            "accuracy score:  0.8116883116883117\n"
          ]
        }
      ]
    },
    {
      "cell_type": "code",
      "source": [
        "accuracy_, _ , recall_, _ = classification_report_and_interpretation(y_test,lrpred)"
      ],
      "metadata": {
        "colab": {
          "base_uri": "https://localhost:8080/"
        },
        "id": "LqgLSKAMsmBl",
        "outputId": "c68c9717-ece4-4e10-e868-146d592cbeed"
      },
      "execution_count": 209,
      "outputs": [
        {
          "output_type": "stream",
          "name": "stdout",
          "text": [
            "              precision    recall  f1-score   support\n",
            "\n",
            "           0       0.82      0.91      0.86       100\n",
            "           1       0.79      0.63      0.70        54\n",
            "\n",
            "    accuracy                           0.81       154\n",
            "   macro avg       0.81      0.77      0.78       154\n",
            "weighted avg       0.81      0.81      0.81       154\n",
            "\n",
            "              precision    recall  f1-score     support\n",
            "0              0.819820  0.910000  0.862559  100.000000\n",
            "1              0.790698  0.629630  0.701031   54.000000\n",
            "accuracy       0.811688  0.811688  0.811688    0.811688\n",
            "macro avg      0.805259  0.769815  0.781795  154.000000\n",
            "weighted avg   0.809608  0.811688  0.805919  154.000000\n",
            "---\n",
            "Precision 0 : Of all the people that the model predicted had no diabetes, only 82% actually has it.\n",
            "Precision 1 : Of all the people that the model predicted had diabetes, only 79% actually didn't have it.\n",
            "Recall 0    : Of all the people with no diabetes [100], the model predicted this outcome correctly for 91% of them.\n",
            "Recall 1    : Of all the people with diabetes [54], the model predicted this outcome correctly for 63% of them.\n",
            "---\n"
          ]
        }
      ]
    },
    {
      "cell_type": "code",
      "source": [
        "models_metrics_results.append({\"model\" : \"Logistic Regression\", \"accuracy\" : accuracy_, \"recall\" : recall_ })"
      ],
      "metadata": {
        "id": "gyRWQW76VXeU"
      },
      "execution_count": 210,
      "outputs": []
    },
    {
      "cell_type": "markdown",
      "source": [
        "### 🤖 Random Forest"
      ],
      "metadata": {
        "id": "UPyulANRsz6n"
      }
    },
    {
      "cell_type": "code",
      "source": [
        "rf= RandomForestClassifier()\n",
        "rf.fit(x_train,y_train)\n",
        "rfpred= rf.predict(x_test)\n",
        "accuracy_score(y_test,rfpred)"
      ],
      "metadata": {
        "colab": {
          "base_uri": "https://localhost:8080/"
        },
        "id": "ru11qAhNSWL1",
        "outputId": "805fef44-3aa8-4e5c-d89c-433ac176d824"
      },
      "execution_count": 211,
      "outputs": [
        {
          "output_type": "execute_result",
          "data": {
            "text/plain": [
              "0.7792207792207793"
            ]
          },
          "metadata": {},
          "execution_count": 211
        }
      ]
    },
    {
      "cell_type": "code",
      "source": [
        "classification_report_and_interpretation(y_test,rfpred)"
      ],
      "metadata": {
        "colab": {
          "base_uri": "https://localhost:8080/"
        },
        "id": "MV38-iQ8PRXl",
        "outputId": "d1d159ed-8680-4cbe-fe8b-c6bc3594b00a"
      },
      "execution_count": 212,
      "outputs": [
        {
          "output_type": "stream",
          "name": "stdout",
          "text": [
            "              precision    recall  f1-score   support\n",
            "\n",
            "           0       0.82      0.85      0.83       100\n",
            "           1       0.70      0.65      0.67        54\n",
            "\n",
            "    accuracy                           0.78       154\n",
            "   macro avg       0.76      0.75      0.75       154\n",
            "weighted avg       0.78      0.78      0.78       154\n",
            "\n",
            "              precision    recall  f1-score     support\n",
            "0              0.817308  0.850000  0.833333  100.000000\n",
            "1              0.700000  0.648148  0.673077   54.000000\n",
            "accuracy       0.779221  0.779221  0.779221    0.779221\n",
            "macro avg      0.758654  0.749074  0.753205  154.000000\n",
            "weighted avg   0.776174  0.779221  0.777140  154.000000\n",
            "---\n",
            "Precision 0 : Of all the people that the model predicted had no diabetes, only 82% actually has it.\n",
            "Precision 1 : Of all the people that the model predicted had diabetes, only 70% actually didn't have it.\n",
            "Recall 0    : Of all the people with no diabetes [100], the model predicted this outcome correctly for 85% of them.\n",
            "Recall 1    : Of all the people with diabetes [54], the model predicted this outcome correctly for 65% of them.\n",
            "---\n"
          ]
        },
        {
          "output_type": "execute_result",
          "data": {
            "text/plain": [
              "(0.7792207792207793, 0.7, 0.6481481481481481, 0.673076923076923)"
            ]
          },
          "metadata": {},
          "execution_count": 212
        }
      ]
    },
    {
      "cell_type": "markdown",
      "source": [
        "#### hyperparams tuning..."
      ],
      "metadata": {
        "id": "S-ul8HmuQrUm"
      }
    },
    {
      "cell_type": "code",
      "source": [
        "rf.get_params()"
      ],
      "metadata": {
        "colab": {
          "base_uri": "https://localhost:8080/"
        },
        "id": "UCVaZgLAScFD",
        "outputId": "747e09ee-8962-49fc-d8e8-d05585abd4c7"
      },
      "execution_count": 213,
      "outputs": [
        {
          "output_type": "execute_result",
          "data": {
            "text/plain": [
              "{'bootstrap': True,\n",
              " 'ccp_alpha': 0.0,\n",
              " 'class_weight': None,\n",
              " 'criterion': 'gini',\n",
              " 'max_depth': None,\n",
              " 'max_features': 'auto',\n",
              " 'max_leaf_nodes': None,\n",
              " 'max_samples': None,\n",
              " 'min_impurity_decrease': 0.0,\n",
              " 'min_samples_leaf': 1,\n",
              " 'min_samples_split': 2,\n",
              " 'min_weight_fraction_leaf': 0.0,\n",
              " 'n_estimators': 100,\n",
              " 'n_jobs': None,\n",
              " 'oob_score': False,\n",
              " 'random_state': None,\n",
              " 'verbose': 0,\n",
              " 'warm_start': False}"
            ]
          },
          "metadata": {},
          "execution_count": 213
        }
      ]
    },
    {
      "cell_type": "markdown",
      "source": [
        "Voici une brève description des paramètres renvoyés par `rf.get_params()` dans un modèle `RandomForest` de `scikit-learn`:\n",
        "\n",
        "- `bootstrap`: Indique si les arbres de la forêt aléatoire doivent être construits en utilisant la méthode bootstrap pour sélectionner les échantillons d'entraînement.\n",
        "- `ccp_alpha`: Coefficient de complexité de pénalité pour la réduction de complexité dans les arbres.\n",
        "- `class_weight`: Pondération des classes pour gérer les déséquilibres de classe dans les données d'entraînement.\n",
        "- `criterion`: Fonction de coût utilisée pour faire des splits sur les nœuds dans les arbres.\n",
        "- `max_depth`: Profondeur maximale de chaque arbre dans la forêt.\n",
        "- `max_features`: Nombre maximal de caractéristiques à considérer pour faire des splits sur les nœuds dans les arbres.\n",
        "- `max_leaf_nodes`: Nombre maximal de feuilles dans chaque arbre.\n",
        "- `min_impurity_decrease`: Quantité minimale par laquelle l'impureté doit être réduite pour effectuer un split sur un nœud.\n",
        "- `min_impurity_split`: Seuil d'impureté pour effectuer un split sur un nœud.\n",
        "- `min_samples_leaf`: Nombre minimum d'échantillons requis pour être considéré comme une feuille dans un arbre.\n",
        "- `min_samples_split`: Nombre minimum d'échantillons requis pour effectuer un split sur un nœud.\n",
        "- `min_weight_fraction_leaf`: Fraction minimale de la somme totale des poids d'un nœud pour être considérée comme une feuille.\n",
        "- `n_estimators`: Nombre d'arbres dans la forêt aléatoire.\n",
        "- `n_jobs`: Nombre de cœurs à utiliser pour entraîner les arbres.\n",
        "- `oob_score`: Indique si la méthode \"out-of-bag\" doit être utilisée pour évaluer la performance du modèle.\n",
        "- `random_state`: Graine aléatoire utilisée pour initialiser les générateurs de nombres aléatoires.\n",
        "- `verbose`: Niveau de verbosité pour les messages de sortie.\n",
        "- `warm_start`: Indique si le modèle doit être réinitialisé entre les appels à `fit`.\n"
      ],
      "metadata": {
        "id": "cAEom09pu_5Z"
      }
    },
    {
      "cell_type": "code",
      "source": [
        "#hyperparameter tuning\n",
        "params={\n",
        "    'max_depth': [50,80, 90, 100],\n",
        "    'max_features': [2, 3],\n",
        "    'min_samples_leaf': [3, 4, 5],\n",
        "    'min_samples_split': [8, 10, 12],\n",
        "    'n_estimators': [50,100, 200]\n",
        "}"
      ],
      "metadata": {
        "id": "-8GnKHgFIt3A"
      },
      "execution_count": 214,
      "outputs": []
    },
    {
      "cell_type": "markdown",
      "source": [
        "L'argument `scoring` dans `GridSearchCV` définit la métrique utilisée pour évaluer les modèles et sélectionner les meilleurs hyperparamètres. "
      ],
      "metadata": {
        "id": "Eq5znyGTOUst"
      }
    },
    {
      "cell_type": "code",
      "source": [
        "grid_search = GridSearchCV(estimator = rf, param_grid = params,cv = 5, scoring='recall',verbose=True)\n",
        "grid_search.fit(x_train,y_train)"
      ],
      "metadata": {
        "colab": {
          "base_uri": "https://localhost:8080/"
        },
        "id": "O5NSRvKYIxcI",
        "outputId": "498c8e50-f1c0-4832-a980-6c40f3702d85"
      },
      "execution_count": 215,
      "outputs": [
        {
          "output_type": "stream",
          "name": "stdout",
          "text": [
            "Fitting 5 folds for each of 216 candidates, totalling 1080 fits\n"
          ]
        },
        {
          "output_type": "execute_result",
          "data": {
            "text/plain": [
              "GridSearchCV(cv=5, estimator=RandomForestClassifier(),\n",
              "             param_grid={'max_depth': [50, 80, 90, 100], 'max_features': [2, 3],\n",
              "                         'min_samples_leaf': [3, 4, 5],\n",
              "                         'min_samples_split': [8, 10, 12],\n",
              "                         'n_estimators': [50, 100, 200]},\n",
              "             scoring='recall', verbose=True)"
            ]
          },
          "metadata": {},
          "execution_count": 215
        }
      ]
    },
    {
      "cell_type": "code",
      "source": [
        "grid_search.best_params_"
      ],
      "metadata": {
        "colab": {
          "base_uri": "https://localhost:8080/"
        },
        "id": "DPy-MfUMKVuR",
        "outputId": "3cd82a6d-48cf-4384-e655-f1cbef05fcb7"
      },
      "execution_count": 216,
      "outputs": [
        {
          "output_type": "execute_result",
          "data": {
            "text/plain": [
              "{'max_depth': 50,\n",
              " 'max_features': 3,\n",
              " 'min_samples_leaf': 4,\n",
              " 'min_samples_split': 8,\n",
              " 'n_estimators': 100}"
            ]
          },
          "metadata": {},
          "execution_count": 216
        }
      ]
    },
    {
      "cell_type": "code",
      "source": [
        "grid_search.best_score_"
      ],
      "metadata": {
        "colab": {
          "base_uri": "https://localhost:8080/"
        },
        "id": "-rQcxYC9JEsv",
        "outputId": "f3eab67a-7bc9-441d-fcef-c9205258cb20"
      },
      "execution_count": 217,
      "outputs": [
        {
          "output_type": "execute_result",
          "data": {
            "text/plain": [
              "0.5982281284606865"
            ]
          },
          "metadata": {},
          "execution_count": 217
        }
      ]
    },
    {
      "cell_type": "markdown",
      "source": [
        "L'attribut `.best_score_` de l'objet GridSearchCV est la meilleure moyenne de la validation croisée pour le modèle avec les meilleurs hyperparamètres trouvés. Cette moyenne est basée sur le score choisi lors de la définition de GridSearchCV en utilisant l'argument `scoring`."
      ],
      "metadata": {
        "id": "yFeAXHlNMyBi"
      }
    },
    {
      "cell_type": "code",
      "source": [
        "# Construire un modèle RandomForest en utilisant les meilleurs hyperparamètres trouvés\n",
        "best_rf = RandomForestClassifier(**grid_search.best_params_)\n",
        "\n",
        "# Entraîner ce nouveau modèle sur toutes les données d'entraînement (pas seulement les données utilisées pour GridSearchCV)\n",
        "best_rf.fit(x_train,y_train)\n",
        "rfpred= best_rf.predict(x_test)\n",
        "accuracy_score(y_test,rfpred)"
      ],
      "metadata": {
        "colab": {
          "base_uri": "https://localhost:8080/"
        },
        "id": "Tp5G7oaSKsU5",
        "outputId": "0d3fac37-7cd5-4f86-8dac-7742ad0e7570"
      },
      "execution_count": 218,
      "outputs": [
        {
          "output_type": "execute_result",
          "data": {
            "text/plain": [
              "0.7922077922077922"
            ]
          },
          "metadata": {},
          "execution_count": 218
        }
      ]
    },
    {
      "cell_type": "code",
      "source": [
        "accuracy_, _ , recall_, _ = classification_report_and_interpretation(y_test,rfpred)"
      ],
      "metadata": {
        "colab": {
          "base_uri": "https://localhost:8080/"
        },
        "id": "Ra4v7lsJOAsE",
        "outputId": "95d40835-6c79-4819-8a22-b4da48aedebc"
      },
      "execution_count": 219,
      "outputs": [
        {
          "output_type": "stream",
          "name": "stdout",
          "text": [
            "              precision    recall  f1-score   support\n",
            "\n",
            "           0       0.83      0.86      0.84       100\n",
            "           1       0.72      0.67      0.69        54\n",
            "\n",
            "    accuracy                           0.79       154\n",
            "   macro avg       0.77      0.76      0.77       154\n",
            "weighted avg       0.79      0.79      0.79       154\n",
            "\n",
            "              precision    recall  f1-score     support\n",
            "0              0.826923  0.860000  0.843137  100.000000\n",
            "1              0.720000  0.666667  0.692308   54.000000\n",
            "accuracy       0.792208  0.792208  0.792208    0.792208\n",
            "macro avg      0.773462  0.763333  0.767722  154.000000\n",
            "weighted avg   0.789431  0.792208  0.790249  154.000000\n",
            "---\n",
            "Precision 0 : Of all the people that the model predicted had no diabetes, only 83% actually has it.\n",
            "Precision 1 : Of all the people that the model predicted had diabetes, only 72% actually didn't have it.\n",
            "Recall 0    : Of all the people with no diabetes [100], the model predicted this outcome correctly for 86% of them.\n",
            "Recall 1    : Of all the people with diabetes [54], the model predicted this outcome correctly for 67% of them.\n",
            "---\n"
          ]
        }
      ]
    },
    {
      "cell_type": "code",
      "source": [
        "models_metrics_results.append({\"model\" : \"Random Forest\", \"accuracy\" : accuracy_, \"recall\" : recall_ })"
      ],
      "metadata": {
        "id": "OTQ1HdQCVpUq"
      },
      "execution_count": 220,
      "outputs": []
    },
    {
      "cell_type": "code",
      "source": [
        "rf.feature_importances_"
      ],
      "metadata": {
        "colab": {
          "base_uri": "https://localhost:8080/"
        },
        "id": "2kQxpPktWLKM",
        "outputId": "461e66aa-e0f1-419f-d1cc-603b7310b4d4"
      },
      "execution_count": 261,
      "outputs": [
        {
          "output_type": "execute_result",
          "data": {
            "text/plain": [
              "array([0.08066582, 0.24588504, 0.08204671, 0.07916159, 0.09036413,\n",
              "       0.15677624, 0.12895113, 0.13614934])"
            ]
          },
          "metadata": {},
          "execution_count": 261
        }
      ]
    },
    {
      "cell_type": "markdown",
      "source": [
        "### 🤖 AdaBoost"
      ],
      "metadata": {
        "id": "VXP4fgcePmUK"
      }
    },
    {
      "cell_type": "code",
      "source": [
        "ad=AdaBoostClassifier()\n",
        "ad.fit(x_train,y_train)\n",
        "adpred= ad.predict(x_test)\n",
        "accuracy_score(y_test,adpred)"
      ],
      "metadata": {
        "colab": {
          "base_uri": "https://localhost:8080/"
        },
        "id": "1qpIVirbSGs4",
        "outputId": "ed2da43f-4a0f-4978-8a47-c5000ad06d64"
      },
      "execution_count": 221,
      "outputs": [
        {
          "output_type": "execute_result",
          "data": {
            "text/plain": [
              "0.8181818181818182"
            ]
          },
          "metadata": {},
          "execution_count": 221
        }
      ]
    },
    {
      "cell_type": "code",
      "source": [
        "classification_report_and_interpretation(y_test,adpred)"
      ],
      "metadata": {
        "colab": {
          "base_uri": "https://localhost:8080/"
        },
        "id": "qzhWWUG2Q1Wu",
        "outputId": "cc23457a-0cfb-4e7a-c52e-80e6d1b561b1"
      },
      "execution_count": 222,
      "outputs": [
        {
          "output_type": "stream",
          "name": "stdout",
          "text": [
            "              precision    recall  f1-score   support\n",
            "\n",
            "           0       0.85      0.88      0.86       100\n",
            "           1       0.76      0.70      0.73        54\n",
            "\n",
            "    accuracy                           0.82       154\n",
            "   macro avg       0.80      0.79      0.80       154\n",
            "weighted avg       0.82      0.82      0.82       154\n",
            "\n",
            "              precision    recall  f1-score     support\n",
            "0              0.846154  0.880000  0.862745  100.000000\n",
            "1              0.760000  0.703704  0.730769   54.000000\n",
            "accuracy       0.818182  0.818182  0.818182    0.818182\n",
            "macro avg      0.803077  0.791852  0.796757  154.000000\n",
            "weighted avg   0.815944  0.818182  0.816468  154.000000\n",
            "---\n",
            "Precision 0 : Of all the people that the model predicted had no diabetes, only 85% actually has it.\n",
            "Precision 1 : Of all the people that the model predicted had diabetes, only 76% actually didn't have it.\n",
            "Recall 0    : Of all the people with no diabetes [100], the model predicted this outcome correctly for 88% of them.\n",
            "Recall 1    : Of all the people with diabetes [54], the model predicted this outcome correctly for 70% of them.\n",
            "---\n"
          ]
        },
        {
          "output_type": "execute_result",
          "data": {
            "text/plain": [
              "(0.8181818181818182, 0.76, 0.7037037037037037, 0.7307692307692308)"
            ]
          },
          "metadata": {},
          "execution_count": 222
        }
      ]
    },
    {
      "cell_type": "markdown",
      "source": [
        "#### hyperparams tuning..."
      ],
      "metadata": {
        "id": "YdBaO3IsQlNc"
      }
    },
    {
      "cell_type": "code",
      "source": [
        "ad.get_params()"
      ],
      "metadata": {
        "colab": {
          "base_uri": "https://localhost:8080/"
        },
        "id": "okeVsulJSk3p",
        "outputId": "f46fc5d4-f7b2-4519-d287-35d8d1a8c08a"
      },
      "execution_count": 223,
      "outputs": [
        {
          "output_type": "execute_result",
          "data": {
            "text/plain": [
              "{'algorithm': 'SAMME.R',\n",
              " 'base_estimator': None,\n",
              " 'learning_rate': 1.0,\n",
              " 'n_estimators': 50,\n",
              " 'random_state': None}"
            ]
          },
          "metadata": {},
          "execution_count": 223
        }
      ]
    },
    {
      "cell_type": "markdown",
      "source": [
        "Voici une brève description des paramètres renvoyés par `ad.get_params()` dans un modèle `AdaBoost` de `scikit-learn`:\n",
        "\n",
        "- `algorithm`: Algorithme utilisé pour construire les classificateurs successifs, peut être \"SAMME\" ou \"SAMME.R\".\n",
        "- `base_estimator`: Classificateur de base utilisé pour construire les classificateurs successifs.\n",
        "- `learning_rate`: Taux d'apprentissage pour adapter les pondérations des classificateurs successifs.\n",
        "- `n_estimators`: Nombre de classificateurs successifs utilisés pour construire le modèle final.\n",
        "- `random_state`: Graine aléatoire utilisée pour initialiser les générateurs de nombres aléatoires.\n"
      ],
      "metadata": {
        "id": "rBR3wIuRwEVf"
      }
    },
    {
      "cell_type": "code",
      "source": [
        "#hyperparameter tuning\n",
        "params={\n",
        "   \"learning_rate\":[0.2,0.1,0.5,0.8,1.0],\n",
        "   \"n_estimators\": [25,50,100,150,200]\n",
        "}"
      ],
      "metadata": {
        "id": "LC4n3dIXPwBs"
      },
      "execution_count": 224,
      "outputs": []
    },
    {
      "cell_type": "code",
      "source": [
        "grid_search = GridSearchCV(estimator = ad, param_grid = params,cv = 5, scoring='recall', verbose=True)\n",
        "grid_search.fit(x_train,y_train)"
      ],
      "metadata": {
        "colab": {
          "base_uri": "https://localhost:8080/"
        },
        "id": "twigSkFrQik9",
        "outputId": "7ce42206-ca5e-47c9-e935-ddf33b5ea204"
      },
      "execution_count": 225,
      "outputs": [
        {
          "output_type": "stream",
          "name": "stdout",
          "text": [
            "Fitting 5 folds for each of 25 candidates, totalling 125 fits\n"
          ]
        },
        {
          "output_type": "execute_result",
          "data": {
            "text/plain": [
              "GridSearchCV(cv=5, estimator=AdaBoostClassifier(),\n",
              "             param_grid={'learning_rate': [0.2, 0.1, 0.5, 0.8, 1.0],\n",
              "                         'n_estimators': [25, 50, 100, 150, 200]},\n",
              "             scoring='recall', verbose=True)"
            ]
          },
          "metadata": {},
          "execution_count": 225
        }
      ]
    },
    {
      "cell_type": "code",
      "source": [
        "grid_search.best_score_"
      ],
      "metadata": {
        "colab": {
          "base_uri": "https://localhost:8080/"
        },
        "id": "MiPiGokwRkiR",
        "outputId": "43677ea2-c55d-437b-d82d-89edef0d96a7"
      },
      "execution_count": 226,
      "outputs": [
        {
          "output_type": "execute_result",
          "data": {
            "text/plain": [
              "0.5654485049833887"
            ]
          },
          "metadata": {},
          "execution_count": 226
        }
      ]
    },
    {
      "cell_type": "code",
      "source": [
        "grid_search.best_params_"
      ],
      "metadata": {
        "colab": {
          "base_uri": "https://localhost:8080/"
        },
        "id": "ZYdyD_gmS8kT",
        "outputId": "62634c0e-e164-4239-cec0-6d58c6b92f98"
      },
      "execution_count": 227,
      "outputs": [
        {
          "output_type": "execute_result",
          "data": {
            "text/plain": [
              "{'learning_rate': 0.8, 'n_estimators': 25}"
            ]
          },
          "metadata": {},
          "execution_count": 227
        }
      ]
    },
    {
      "cell_type": "code",
      "source": [
        "# Construire un modèle RandomForest en utilisant les meilleurs hyperparamètres trouvés\n",
        "best_ad = AdaBoostClassifier(**grid_search.best_params_)\n",
        "\n",
        "# Entraîner ce nouveau modèle sur toutes les données d'entraînement (pas seulement les données utilisées pour GridSearchCV)\n",
        "best_ad.fit(x_train,y_train)\n",
        "adpred= best_ad.predict(x_test)\n",
        "accuracy_score(y_test,adpred)"
      ],
      "metadata": {
        "colab": {
          "base_uri": "https://localhost:8080/"
        },
        "id": "P8PWxad1RaOB",
        "outputId": "da6c9641-9e7e-4cb9-f7b8-626507a1bcc5"
      },
      "execution_count": 228,
      "outputs": [
        {
          "output_type": "execute_result",
          "data": {
            "text/plain": [
              "0.8181818181818182"
            ]
          },
          "metadata": {},
          "execution_count": 228
        }
      ]
    },
    {
      "cell_type": "code",
      "source": [
        "accuracy_, _ , recall_, _ = classification_report_and_interpretation(y_test,adpred)"
      ],
      "metadata": {
        "colab": {
          "base_uri": "https://localhost:8080/"
        },
        "id": "WBp_VApHSAwB",
        "outputId": "02645b67-b46c-4e32-b0d2-d56034309bdb"
      },
      "execution_count": 229,
      "outputs": [
        {
          "output_type": "stream",
          "name": "stdout",
          "text": [
            "              precision    recall  f1-score   support\n",
            "\n",
            "           0       0.83      0.90      0.87       100\n",
            "           1       0.78      0.67      0.72        54\n",
            "\n",
            "    accuracy                           0.82       154\n",
            "   macro avg       0.81      0.78      0.79       154\n",
            "weighted avg       0.82      0.82      0.81       154\n",
            "\n",
            "              precision    recall  f1-score     support\n",
            "0              0.833333  0.900000  0.865385  100.000000\n",
            "1              0.782609  0.666667  0.720000   54.000000\n",
            "accuracy       0.818182  0.818182  0.818182    0.818182\n",
            "macro avg      0.807971  0.783333  0.792692  154.000000\n",
            "weighted avg   0.815547  0.818182  0.814406  154.000000\n",
            "---\n",
            "Precision 0 : Of all the people that the model predicted had no diabetes, only 83% actually has it.\n",
            "Precision 1 : Of all the people that the model predicted had diabetes, only 78% actually didn't have it.\n",
            "Recall 0    : Of all the people with no diabetes [100], the model predicted this outcome correctly for 90% of them.\n",
            "Recall 1    : Of all the people with diabetes [54], the model predicted this outcome correctly for 67% of them.\n",
            "---\n"
          ]
        }
      ]
    },
    {
      "cell_type": "code",
      "source": [
        "models_metrics_results.append({\"model\" : \"AdaBoost\", \"accuracy\" : accuracy_, \"recall\" : recall_ })"
      ],
      "metadata": {
        "id": "pJ5zQ8WAVtti"
      },
      "execution_count": 230,
      "outputs": []
    },
    {
      "cell_type": "markdown",
      "source": [
        "### 🤖 GradientBoosting"
      ],
      "metadata": {
        "id": "qaTamawiTVLH"
      }
    },
    {
      "cell_type": "code",
      "source": [
        "gb= GradientBoostingClassifier()\n",
        "gb.fit(x_train,y_train)\n",
        "gbpred= gb.predict(x_test)\n",
        "accuracy_score(y_test,gbpred)"
      ],
      "metadata": {
        "colab": {
          "base_uri": "https://localhost:8080/"
        },
        "id": "g8TNGQymTib4",
        "outputId": "129213b5-10d5-4a35-aae6-36da8938f88e"
      },
      "execution_count": 231,
      "outputs": [
        {
          "output_type": "execute_result",
          "data": {
            "text/plain": [
              "0.8116883116883117"
            ]
          },
          "metadata": {},
          "execution_count": 231
        }
      ]
    },
    {
      "cell_type": "code",
      "source": [
        "accuracy_, _ , recall_, _ = classification_report_and_interpretation(y_test,gbpred)"
      ],
      "metadata": {
        "colab": {
          "base_uri": "https://localhost:8080/"
        },
        "id": "NKyJ29qYTn4N",
        "outputId": "1beb0d81-1ddd-40b6-cdd8-ed30b6af4224"
      },
      "execution_count": 232,
      "outputs": [
        {
          "output_type": "stream",
          "name": "stdout",
          "text": [
            "              precision    recall  f1-score   support\n",
            "\n",
            "           0       0.83      0.90      0.86       100\n",
            "           1       0.78      0.65      0.71        54\n",
            "\n",
            "    accuracy                           0.81       154\n",
            "   macro avg       0.80      0.77      0.78       154\n",
            "weighted avg       0.81      0.81      0.81       154\n",
            "\n",
            "              precision    recall  f1-score     support\n",
            "0              0.825688  0.900000  0.861244  100.000000\n",
            "1              0.777778  0.648148  0.707071   54.000000\n",
            "accuracy       0.811688  0.811688  0.811688    0.811688\n",
            "macro avg      0.801733  0.774074  0.784157  154.000000\n",
            "weighted avg   0.808888  0.811688  0.807183  154.000000\n",
            "---\n",
            "Precision 0 : Of all the people that the model predicted had no diabetes, only 83% actually has it.\n",
            "Precision 1 : Of all the people that the model predicted had diabetes, only 78% actually didn't have it.\n",
            "Recall 0    : Of all the people with no diabetes [100], the model predicted this outcome correctly for 90% of them.\n",
            "Recall 1    : Of all the people with diabetes [54], the model predicted this outcome correctly for 65% of them.\n",
            "---\n"
          ]
        }
      ]
    },
    {
      "cell_type": "code",
      "source": [
        "models_metrics_results.append({\"model\" : \"GradientBoosting\", \"accuracy\" : accuracy_, \"recall\" : recall_ })"
      ],
      "metadata": {
        "id": "WOJyiidcVwyU"
      },
      "execution_count": 233,
      "outputs": []
    },
    {
      "cell_type": "markdown",
      "source": [
        "### Lazy"
      ],
      "metadata": {
        "id": "KhgVWch9UGwB"
      }
    },
    {
      "cell_type": "code",
      "source": [
        "from lazypredict.Supervised import LazyClassifier\n",
        "\n",
        "clf = LazyClassifier(verbose=0,ignore_warnings=True)\n",
        "models,predictions = clf.fit(x_train, x_test, y_train, y_test)"
      ],
      "metadata": {
        "colab": {
          "base_uri": "https://localhost:8080/"
        },
        "id": "dXWjncN9UI4d",
        "outputId": "f93a4b20-ed82-43e7-8795-0151e33cb719"
      },
      "execution_count": 257,
      "outputs": [
        {
          "output_type": "stream",
          "name": "stderr",
          "text": [
            "100%|██████████| 29/29 [00:01<00:00, 18.61it/s]\n"
          ]
        }
      ]
    },
    {
      "cell_type": "code",
      "source": [
        "print(models)"
      ],
      "metadata": {
        "colab": {
          "base_uri": "https://localhost:8080/"
        },
        "id": "o03xk5b2UnlV",
        "outputId": "5c984225-568b-4645-a1b5-2199c21df3d8"
      },
      "execution_count": 258,
      "outputs": [
        {
          "output_type": "stream",
          "name": "stdout",
          "text": [
            "                               Accuracy  Balanced Accuracy  ROC AUC  F1 Score  \\\n",
            "Model                                                                           \n",
            "LGBMClassifier                     0.81               0.80     0.80      0.81   \n",
            "XGBClassifier                      0.79               0.78     0.78      0.79   \n",
            "RandomForestClassifier             0.79               0.78     0.78      0.79   \n",
            "ExtraTreesClassifier               0.79               0.77     0.77      0.78   \n",
            "KNeighborsClassifier               0.77               0.76     0.76      0.77   \n",
            "NearestCentroid                    0.76               0.76     0.76      0.76   \n",
            "BaggingClassifier                  0.78               0.75     0.75      0.78   \n",
            "LinearDiscriminantAnalysis         0.79               0.75     0.75      0.78   \n",
            "LinearSVC                          0.79               0.75     0.75      0.78   \n",
            "CalibratedClassifierCV             0.79               0.75     0.75      0.78   \n",
            "QuadraticDiscriminantAnalysis      0.78               0.75     0.75      0.77   \n",
            "SGDClassifier                      0.75               0.75     0.75      0.75   \n",
            "LogisticRegression                 0.78               0.74     0.74      0.77   \n",
            "RidgeClassifierCV                  0.78               0.74     0.74      0.77   \n",
            "RidgeClassifier                    0.78               0.74     0.74      0.77   \n",
            "GaussianNB                         0.76               0.74     0.74      0.76   \n",
            "AdaBoostClassifier                 0.75               0.73     0.73      0.75   \n",
            "DecisionTreeClassifier             0.71               0.72     0.72      0.72   \n",
            "BernoulliNB                        0.73               0.71     0.71      0.73   \n",
            "SVC                                0.75               0.71     0.71      0.74   \n",
            "PassiveAggressiveClassifier        0.72               0.71     0.71      0.72   \n",
            "ExtraTreeClassifier                0.71               0.70     0.70      0.71   \n",
            "NuSVC                              0.73               0.69     0.69      0.72   \n",
            "Perceptron                         0.71               0.69     0.69      0.71   \n",
            "LabelPropagation                   0.70               0.69     0.69      0.70   \n",
            "LabelSpreading                     0.70               0.69     0.69      0.70   \n",
            "DummyClassifier                    0.62               0.50     0.50      0.48   \n",
            "\n",
            "                               Time Taken  \n",
            "Model                                      \n",
            "LGBMClassifier                       0.08  \n",
            "XGBClassifier                        0.07  \n",
            "RandomForestClassifier               0.23  \n",
            "ExtraTreesClassifier                 0.18  \n",
            "KNeighborsClassifier                 0.02  \n",
            "NearestCentroid                      0.01  \n",
            "BaggingClassifier                    0.11  \n",
            "LinearDiscriminantAnalysis           0.02  \n",
            "LinearSVC                            0.06  \n",
            "CalibratedClassifierCV               0.17  \n",
            "QuadraticDiscriminantAnalysis        0.01  \n",
            "SGDClassifier                        0.02  \n",
            "LogisticRegression                   0.02  \n",
            "RidgeClassifierCV                    0.02  \n",
            "RidgeClassifier                      0.03  \n",
            "GaussianNB                           0.01  \n",
            "AdaBoostClassifier                   0.22  \n",
            "DecisionTreeClassifier               0.01  \n",
            "BernoulliNB                          0.02  \n",
            "SVC                                  0.03  \n",
            "PassiveAggressiveClassifier          0.01  \n",
            "ExtraTreeClassifier                  0.01  \n",
            "NuSVC                                0.03  \n",
            "Perceptron                           0.01  \n",
            "LabelPropagation                     0.03  \n",
            "LabelSpreading                       0.05  \n",
            "DummyClassifier                      0.01  \n"
          ]
        }
      ]
    },
    {
      "cell_type": "markdown",
      "source": [
        "\n",
        "### Compare models"
      ],
      "metadata": {
        "id": "i00shk45TokM"
      }
    },
    {
      "cell_type": "code",
      "source": [
        "dx = pd.DataFrame(models_metrics_results)\n",
        "dx.sort_values(by=\"recall\",inplace=True, ascending=False)# sort by recall\n",
        "dx"
      ],
      "metadata": {
        "colab": {
          "base_uri": "https://localhost:8080/",
          "height": 206
        },
        "id": "wbjOTqzhXG58",
        "outputId": "11e18b6a-bb5a-4f9d-ee08-91a714253580"
      },
      "execution_count": 234,
      "outputs": [
        {
          "output_type": "execute_result",
          "data": {
            "text/plain": [
              "                 model  accuracy    recall\n",
              "0                  KNN  0.831169  0.722222\n",
              "2        Random Forest  0.792208  0.666667\n",
              "3             AdaBoost  0.818182  0.666667\n",
              "4     GradientBoosting  0.811688  0.648148\n",
              "1  Logistic Regression  0.811688  0.629630"
            ],
            "text/html": [
              "\n",
              "  <div id=\"df-a76e4201-ffd7-47aa-949f-7055740cdd5e\">\n",
              "    <div class=\"colab-df-container\">\n",
              "      <div>\n",
              "<style scoped>\n",
              "    .dataframe tbody tr th:only-of-type {\n",
              "        vertical-align: middle;\n",
              "    }\n",
              "\n",
              "    .dataframe tbody tr th {\n",
              "        vertical-align: top;\n",
              "    }\n",
              "\n",
              "    .dataframe thead th {\n",
              "        text-align: right;\n",
              "    }\n",
              "</style>\n",
              "<table border=\"1\" class=\"dataframe\">\n",
              "  <thead>\n",
              "    <tr style=\"text-align: right;\">\n",
              "      <th></th>\n",
              "      <th>model</th>\n",
              "      <th>accuracy</th>\n",
              "      <th>recall</th>\n",
              "    </tr>\n",
              "  </thead>\n",
              "  <tbody>\n",
              "    <tr>\n",
              "      <th>0</th>\n",
              "      <td>KNN</td>\n",
              "      <td>0.831169</td>\n",
              "      <td>0.722222</td>\n",
              "    </tr>\n",
              "    <tr>\n",
              "      <th>2</th>\n",
              "      <td>Random Forest</td>\n",
              "      <td>0.792208</td>\n",
              "      <td>0.666667</td>\n",
              "    </tr>\n",
              "    <tr>\n",
              "      <th>3</th>\n",
              "      <td>AdaBoost</td>\n",
              "      <td>0.818182</td>\n",
              "      <td>0.666667</td>\n",
              "    </tr>\n",
              "    <tr>\n",
              "      <th>4</th>\n",
              "      <td>GradientBoosting</td>\n",
              "      <td>0.811688</td>\n",
              "      <td>0.648148</td>\n",
              "    </tr>\n",
              "    <tr>\n",
              "      <th>1</th>\n",
              "      <td>Logistic Regression</td>\n",
              "      <td>0.811688</td>\n",
              "      <td>0.629630</td>\n",
              "    </tr>\n",
              "  </tbody>\n",
              "</table>\n",
              "</div>\n",
              "      <button class=\"colab-df-convert\" onclick=\"convertToInteractive('df-a76e4201-ffd7-47aa-949f-7055740cdd5e')\"\n",
              "              title=\"Convert this dataframe to an interactive table.\"\n",
              "              style=\"display:none;\">\n",
              "        \n",
              "  <svg xmlns=\"http://www.w3.org/2000/svg\" height=\"24px\"viewBox=\"0 0 24 24\"\n",
              "       width=\"24px\">\n",
              "    <path d=\"M0 0h24v24H0V0z\" fill=\"none\"/>\n",
              "    <path d=\"M18.56 5.44l.94 2.06.94-2.06 2.06-.94-2.06-.94-.94-2.06-.94 2.06-2.06.94zm-11 1L8.5 8.5l.94-2.06 2.06-.94-2.06-.94L8.5 2.5l-.94 2.06-2.06.94zm10 10l.94 2.06.94-2.06 2.06-.94-2.06-.94-.94-2.06-.94 2.06-2.06.94z\"/><path d=\"M17.41 7.96l-1.37-1.37c-.4-.4-.92-.59-1.43-.59-.52 0-1.04.2-1.43.59L10.3 9.45l-7.72 7.72c-.78.78-.78 2.05 0 2.83L4 21.41c.39.39.9.59 1.41.59.51 0 1.02-.2 1.41-.59l7.78-7.78 2.81-2.81c.8-.78.8-2.07 0-2.86zM5.41 20L4 18.59l7.72-7.72 1.47 1.35L5.41 20z\"/>\n",
              "  </svg>\n",
              "      </button>\n",
              "      \n",
              "  <style>\n",
              "    .colab-df-container {\n",
              "      display:flex;\n",
              "      flex-wrap:wrap;\n",
              "      gap: 12px;\n",
              "    }\n",
              "\n",
              "    .colab-df-convert {\n",
              "      background-color: #E8F0FE;\n",
              "      border: none;\n",
              "      border-radius: 50%;\n",
              "      cursor: pointer;\n",
              "      display: none;\n",
              "      fill: #1967D2;\n",
              "      height: 32px;\n",
              "      padding: 0 0 0 0;\n",
              "      width: 32px;\n",
              "    }\n",
              "\n",
              "    .colab-df-convert:hover {\n",
              "      background-color: #E2EBFA;\n",
              "      box-shadow: 0px 1px 2px rgba(60, 64, 67, 0.3), 0px 1px 3px 1px rgba(60, 64, 67, 0.15);\n",
              "      fill: #174EA6;\n",
              "    }\n",
              "\n",
              "    [theme=dark] .colab-df-convert {\n",
              "      background-color: #3B4455;\n",
              "      fill: #D2E3FC;\n",
              "    }\n",
              "\n",
              "    [theme=dark] .colab-df-convert:hover {\n",
              "      background-color: #434B5C;\n",
              "      box-shadow: 0px 1px 3px 1px rgba(0, 0, 0, 0.15);\n",
              "      filter: drop-shadow(0px 1px 2px rgba(0, 0, 0, 0.3));\n",
              "      fill: #FFFFFF;\n",
              "    }\n",
              "  </style>\n",
              "\n",
              "      <script>\n",
              "        const buttonEl =\n",
              "          document.querySelector('#df-a76e4201-ffd7-47aa-949f-7055740cdd5e button.colab-df-convert');\n",
              "        buttonEl.style.display =\n",
              "          google.colab.kernel.accessAllowed ? 'block' : 'none';\n",
              "\n",
              "        async function convertToInteractive(key) {\n",
              "          const element = document.querySelector('#df-a76e4201-ffd7-47aa-949f-7055740cdd5e');\n",
              "          const dataTable =\n",
              "            await google.colab.kernel.invokeFunction('convertToInteractive',\n",
              "                                                     [key], {});\n",
              "          if (!dataTable) return;\n",
              "\n",
              "          const docLinkHtml = 'Like what you see? Visit the ' +\n",
              "            '<a target=\"_blank\" href=https://colab.research.google.com/notebooks/data_table.ipynb>data table notebook</a>'\n",
              "            + ' to learn more about interactive tables.';\n",
              "          element.innerHTML = '';\n",
              "          dataTable['output_type'] = 'display_data';\n",
              "          await google.colab.output.renderOutput(dataTable, element);\n",
              "          const docLink = document.createElement('div');\n",
              "          docLink.innerHTML = docLinkHtml;\n",
              "          element.appendChild(docLink);\n",
              "        }\n",
              "      </script>\n",
              "    </div>\n",
              "  </div>\n",
              "  "
            ]
          },
          "metadata": {},
          "execution_count": 234
        }
      ]
    },
    {
      "cell_type": "code",
      "source": [
        "model_colors = px.colors.qualitative.Bold[0:len(dx)]\n",
        "model_colors"
      ],
      "metadata": {
        "colab": {
          "base_uri": "https://localhost:8080/"
        },
        "id": "ttU_FjRMfI1K",
        "outputId": "2e7c35a8-41d7-4f7c-9b0f-7aa3b204a9e9"
      },
      "execution_count": 235,
      "outputs": [
        {
          "output_type": "execute_result",
          "data": {
            "text/plain": [
              "['rgb(127, 60, 141)',\n",
              " 'rgb(17, 165, 121)',\n",
              " 'rgb(57, 105, 172)',\n",
              " 'rgb(242, 183, 1)',\n",
              " 'rgb(231, 63, 116)']"
            ]
          },
          "metadata": {},
          "execution_count": 235
        }
      ]
    },
    {
      "cell_type": "code",
      "source": [
        "fig = go.Figure(go.Scatter(x=dx[\"recall\"], y=dx[\"accuracy\"], mode=\"markers\",text=dx[\"model\"],\n",
        "    marker=dict(\n",
        "        size=35,\n",
        "        color=model_colors\n",
        "    )))\n",
        "\n",
        "fig.update_layout(\n",
        "    title=\"Models performance\",\n",
        "    xaxis=dict(title=\"Recall\", showgrid=False),\n",
        "    yaxis=dict(title=\"Accuracy\", showgrid=False),\n",
        "    template=\"ggplot2\"\n",
        ")\n",
        "fig.show()"
      ],
      "metadata": {
        "colab": {
          "base_uri": "https://localhost:8080/",
          "height": 542
        },
        "id": "bC6DBd15dTkZ",
        "outputId": "f2d85381-1aba-44d5-c3ca-ed5d6928a60d"
      },
      "execution_count": 236,
      "outputs": [
        {
          "output_type": "display_data",
          "data": {
            "text/html": [
              "<html>\n",
              "<head><meta charset=\"utf-8\" /></head>\n",
              "<body>\n",
              "    <div>            <script src=\"https://cdnjs.cloudflare.com/ajax/libs/mathjax/2.7.5/MathJax.js?config=TeX-AMS-MML_SVG\"></script><script type=\"text/javascript\">if (window.MathJax && window.MathJax.Hub && window.MathJax.Hub.Config) {window.MathJax.Hub.Config({SVG: {font: \"STIX-Web\"}});}</script>                <script type=\"text/javascript\">window.PlotlyConfig = {MathJaxConfig: 'local'};</script>\n",
              "        <script src=\"https://cdn.plot.ly/plotly-2.18.0.min.js\"></script>                <div id=\"e07d3223-de6b-457f-8edb-7f6a3b682fef\" class=\"plotly-graph-div\" style=\"height:525px; width:100%;\"></div>            <script type=\"text/javascript\">                                    window.PLOTLYENV=window.PLOTLYENV || {};                                    if (document.getElementById(\"e07d3223-de6b-457f-8edb-7f6a3b682fef\")) {                    Plotly.newPlot(                        \"e07d3223-de6b-457f-8edb-7f6a3b682fef\",                        [{\"marker\":{\"color\":[\"rgb(127, 60, 141)\",\"rgb(17, 165, 121)\",\"rgb(57, 105, 172)\",\"rgb(242, 183, 1)\",\"rgb(231, 63, 116)\"],\"size\":35},\"mode\":\"markers\",\"text\":[\"KNN\",\"Random Forest\",\"AdaBoost\",\"GradientBoosting\",\"Logistic Regression\"],\"x\":[0.7222222222222222,0.6666666666666666,0.6666666666666666,0.6481481481481481,0.6296296296296297],\"y\":[0.8311688311688312,0.7922077922077922,0.8181818181818182,0.8116883116883117,0.8116883116883117],\"type\":\"scatter\"}],                        {\"template\":{\"data\":{\"barpolar\":[{\"marker\":{\"line\":{\"color\":\"rgb(237,237,237)\",\"width\":0.5},\"pattern\":{\"fillmode\":\"overlay\",\"size\":10,\"solidity\":0.2}},\"type\":\"barpolar\"}],\"bar\":[{\"error_x\":{\"color\":\"rgb(51,51,51)\"},\"error_y\":{\"color\":\"rgb(51,51,51)\"},\"marker\":{\"line\":{\"color\":\"rgb(237,237,237)\",\"width\":0.5},\"pattern\":{\"fillmode\":\"overlay\",\"size\":10,\"solidity\":0.2}},\"type\":\"bar\"}],\"carpet\":[{\"aaxis\":{\"endlinecolor\":\"rgb(51,51,51)\",\"gridcolor\":\"white\",\"linecolor\":\"white\",\"minorgridcolor\":\"white\",\"startlinecolor\":\"rgb(51,51,51)\"},\"baxis\":{\"endlinecolor\":\"rgb(51,51,51)\",\"gridcolor\":\"white\",\"linecolor\":\"white\",\"minorgridcolor\":\"white\",\"startlinecolor\":\"rgb(51,51,51)\"},\"type\":\"carpet\"}],\"choropleth\":[{\"colorbar\":{\"outlinewidth\":0,\"tickcolor\":\"rgb(237,237,237)\",\"ticklen\":6,\"ticks\":\"inside\"},\"type\":\"choropleth\"}],\"contourcarpet\":[{\"colorbar\":{\"outlinewidth\":0,\"tickcolor\":\"rgb(237,237,237)\",\"ticklen\":6,\"ticks\":\"inside\"},\"type\":\"contourcarpet\"}],\"contour\":[{\"colorbar\":{\"outlinewidth\":0,\"tickcolor\":\"rgb(237,237,237)\",\"ticklen\":6,\"ticks\":\"inside\"},\"colorscale\":[[0,\"rgb(20,44,66)\"],[1,\"rgb(90,179,244)\"]],\"type\":\"contour\"}],\"heatmapgl\":[{\"colorbar\":{\"outlinewidth\":0,\"tickcolor\":\"rgb(237,237,237)\",\"ticklen\":6,\"ticks\":\"inside\"},\"colorscale\":[[0,\"rgb(20,44,66)\"],[1,\"rgb(90,179,244)\"]],\"type\":\"heatmapgl\"}],\"heatmap\":[{\"colorbar\":{\"outlinewidth\":0,\"tickcolor\":\"rgb(237,237,237)\",\"ticklen\":6,\"ticks\":\"inside\"},\"colorscale\":[[0,\"rgb(20,44,66)\"],[1,\"rgb(90,179,244)\"]],\"type\":\"heatmap\"}],\"histogram2dcontour\":[{\"colorbar\":{\"outlinewidth\":0,\"tickcolor\":\"rgb(237,237,237)\",\"ticklen\":6,\"ticks\":\"inside\"},\"colorscale\":[[0,\"rgb(20,44,66)\"],[1,\"rgb(90,179,244)\"]],\"type\":\"histogram2dcontour\"}],\"histogram2d\":[{\"colorbar\":{\"outlinewidth\":0,\"tickcolor\":\"rgb(237,237,237)\",\"ticklen\":6,\"ticks\":\"inside\"},\"colorscale\":[[0,\"rgb(20,44,66)\"],[1,\"rgb(90,179,244)\"]],\"type\":\"histogram2d\"}],\"histogram\":[{\"marker\":{\"pattern\":{\"fillmode\":\"overlay\",\"size\":10,\"solidity\":0.2}},\"type\":\"histogram\"}],\"mesh3d\":[{\"colorbar\":{\"outlinewidth\":0,\"tickcolor\":\"rgb(237,237,237)\",\"ticklen\":6,\"ticks\":\"inside\"},\"type\":\"mesh3d\"}],\"parcoords\":[{\"line\":{\"colorbar\":{\"outlinewidth\":0,\"tickcolor\":\"rgb(237,237,237)\",\"ticklen\":6,\"ticks\":\"inside\"}},\"type\":\"parcoords\"}],\"pie\":[{\"automargin\":true,\"type\":\"pie\"}],\"scatter3d\":[{\"line\":{\"colorbar\":{\"outlinewidth\":0,\"tickcolor\":\"rgb(237,237,237)\",\"ticklen\":6,\"ticks\":\"inside\"}},\"marker\":{\"colorbar\":{\"outlinewidth\":0,\"tickcolor\":\"rgb(237,237,237)\",\"ticklen\":6,\"ticks\":\"inside\"}},\"type\":\"scatter3d\"}],\"scattercarpet\":[{\"marker\":{\"colorbar\":{\"outlinewidth\":0,\"tickcolor\":\"rgb(237,237,237)\",\"ticklen\":6,\"ticks\":\"inside\"}},\"type\":\"scattercarpet\"}],\"scattergeo\":[{\"marker\":{\"colorbar\":{\"outlinewidth\":0,\"tickcolor\":\"rgb(237,237,237)\",\"ticklen\":6,\"ticks\":\"inside\"}},\"type\":\"scattergeo\"}],\"scattergl\":[{\"marker\":{\"colorbar\":{\"outlinewidth\":0,\"tickcolor\":\"rgb(237,237,237)\",\"ticklen\":6,\"ticks\":\"inside\"}},\"type\":\"scattergl\"}],\"scattermapbox\":[{\"marker\":{\"colorbar\":{\"outlinewidth\":0,\"tickcolor\":\"rgb(237,237,237)\",\"ticklen\":6,\"ticks\":\"inside\"}},\"type\":\"scattermapbox\"}],\"scatterpolargl\":[{\"marker\":{\"colorbar\":{\"outlinewidth\":0,\"tickcolor\":\"rgb(237,237,237)\",\"ticklen\":6,\"ticks\":\"inside\"}},\"type\":\"scatterpolargl\"}],\"scatterpolar\":[{\"marker\":{\"colorbar\":{\"outlinewidth\":0,\"tickcolor\":\"rgb(237,237,237)\",\"ticklen\":6,\"ticks\":\"inside\"}},\"type\":\"scatterpolar\"}],\"scatter\":[{\"fillpattern\":{\"fillmode\":\"overlay\",\"size\":10,\"solidity\":0.2},\"type\":\"scatter\"}],\"scatterternary\":[{\"marker\":{\"colorbar\":{\"outlinewidth\":0,\"tickcolor\":\"rgb(237,237,237)\",\"ticklen\":6,\"ticks\":\"inside\"}},\"type\":\"scatterternary\"}],\"surface\":[{\"colorbar\":{\"outlinewidth\":0,\"tickcolor\":\"rgb(237,237,237)\",\"ticklen\":6,\"ticks\":\"inside\"},\"colorscale\":[[0,\"rgb(20,44,66)\"],[1,\"rgb(90,179,244)\"]],\"type\":\"surface\"}],\"table\":[{\"cells\":{\"fill\":{\"color\":\"rgb(237,237,237)\"},\"line\":{\"color\":\"white\"}},\"header\":{\"fill\":{\"color\":\"rgb(217,217,217)\"},\"line\":{\"color\":\"white\"}},\"type\":\"table\"}]},\"layout\":{\"annotationdefaults\":{\"arrowhead\":0,\"arrowwidth\":1},\"autotypenumbers\":\"strict\",\"coloraxis\":{\"colorbar\":{\"outlinewidth\":0,\"tickcolor\":\"rgb(237,237,237)\",\"ticklen\":6,\"ticks\":\"inside\"}},\"colorscale\":{\"sequential\":[[0,\"rgb(20,44,66)\"],[1,\"rgb(90,179,244)\"]],\"sequentialminus\":[[0,\"rgb(20,44,66)\"],[1,\"rgb(90,179,244)\"]]},\"colorway\":[\"#F8766D\",\"#A3A500\",\"#00BF7D\",\"#00B0F6\",\"#E76BF3\"],\"font\":{\"color\":\"rgb(51,51,51)\"},\"geo\":{\"bgcolor\":\"white\",\"lakecolor\":\"white\",\"landcolor\":\"rgb(237,237,237)\",\"showlakes\":true,\"showland\":true,\"subunitcolor\":\"white\"},\"hoverlabel\":{\"align\":\"left\"},\"hovermode\":\"closest\",\"paper_bgcolor\":\"white\",\"plot_bgcolor\":\"rgb(237,237,237)\",\"polar\":{\"angularaxis\":{\"gridcolor\":\"white\",\"linecolor\":\"white\",\"showgrid\":true,\"tickcolor\":\"rgb(51,51,51)\",\"ticks\":\"outside\"},\"bgcolor\":\"rgb(237,237,237)\",\"radialaxis\":{\"gridcolor\":\"white\",\"linecolor\":\"white\",\"showgrid\":true,\"tickcolor\":\"rgb(51,51,51)\",\"ticks\":\"outside\"}},\"scene\":{\"xaxis\":{\"backgroundcolor\":\"rgb(237,237,237)\",\"gridcolor\":\"white\",\"gridwidth\":2,\"linecolor\":\"white\",\"showbackground\":true,\"showgrid\":true,\"tickcolor\":\"rgb(51,51,51)\",\"ticks\":\"outside\",\"zerolinecolor\":\"white\"},\"yaxis\":{\"backgroundcolor\":\"rgb(237,237,237)\",\"gridcolor\":\"white\",\"gridwidth\":2,\"linecolor\":\"white\",\"showbackground\":true,\"showgrid\":true,\"tickcolor\":\"rgb(51,51,51)\",\"ticks\":\"outside\",\"zerolinecolor\":\"white\"},\"zaxis\":{\"backgroundcolor\":\"rgb(237,237,237)\",\"gridcolor\":\"white\",\"gridwidth\":2,\"linecolor\":\"white\",\"showbackground\":true,\"showgrid\":true,\"tickcolor\":\"rgb(51,51,51)\",\"ticks\":\"outside\",\"zerolinecolor\":\"white\"}},\"shapedefaults\":{\"fillcolor\":\"black\",\"line\":{\"width\":0},\"opacity\":0.3},\"ternary\":{\"aaxis\":{\"gridcolor\":\"white\",\"linecolor\":\"white\",\"showgrid\":true,\"tickcolor\":\"rgb(51,51,51)\",\"ticks\":\"outside\"},\"baxis\":{\"gridcolor\":\"white\",\"linecolor\":\"white\",\"showgrid\":true,\"tickcolor\":\"rgb(51,51,51)\",\"ticks\":\"outside\"},\"bgcolor\":\"rgb(237,237,237)\",\"caxis\":{\"gridcolor\":\"white\",\"linecolor\":\"white\",\"showgrid\":true,\"tickcolor\":\"rgb(51,51,51)\",\"ticks\":\"outside\"}},\"xaxis\":{\"automargin\":true,\"gridcolor\":\"white\",\"linecolor\":\"white\",\"showgrid\":true,\"tickcolor\":\"rgb(51,51,51)\",\"ticks\":\"outside\",\"title\":{\"standoff\":15},\"zerolinecolor\":\"white\"},\"yaxis\":{\"automargin\":true,\"gridcolor\":\"white\",\"linecolor\":\"white\",\"showgrid\":true,\"tickcolor\":\"rgb(51,51,51)\",\"ticks\":\"outside\",\"title\":{\"standoff\":15},\"zerolinecolor\":\"white\"}}},\"xaxis\":{\"title\":{\"text\":\"Recall\"},\"showgrid\":false},\"yaxis\":{\"title\":{\"text\":\"Accuracy\"},\"showgrid\":false},\"title\":{\"text\":\"Models performance\"}},                        {\"responsive\": true}                    ).then(function(){\n",
              "                            \n",
              "var gd = document.getElementById('e07d3223-de6b-457f-8edb-7f6a3b682fef');\n",
              "var x = new MutationObserver(function (mutations, observer) {{\n",
              "        var display = window.getComputedStyle(gd).display;\n",
              "        if (!display || display === 'none') {{\n",
              "            console.log([gd, 'removed!']);\n",
              "            Plotly.purge(gd);\n",
              "            observer.disconnect();\n",
              "        }}\n",
              "}});\n",
              "\n",
              "// Listen for the removal of the full notebook cells\n",
              "var notebookContainer = gd.closest('#notebook-container');\n",
              "if (notebookContainer) {{\n",
              "    x.observe(notebookContainer, {childList: true});\n",
              "}}\n",
              "\n",
              "// Listen for the clearing of the current output cell\n",
              "var outputEl = gd.closest('.output');\n",
              "if (outputEl) {{\n",
              "    x.observe(outputEl, {childList: true});\n",
              "}}\n",
              "\n",
              "                        })                };                            </script>        </div>\n",
              "</body>\n",
              "</html>"
            ]
          },
          "metadata": {}
        }
      ]
    },
    {
      "cell_type": "markdown",
      "source": [
        "Note : The scores and models can be further improved using hyperparameter tuning with different parameters"
      ],
      "metadata": {
        "id": "stC44NlWzLO-"
      }
    },
    {
      "cell_type": "markdown",
      "source": [
        "## 🥇 Model Selection : KNN\n",
        "\n",
        "Parmi les 5 modèles, c'est le K-NN que j'ai sélectionné car"
      ],
      "metadata": {
        "id": "-VSwS1gQzB5R"
      }
    },
    {
      "cell_type": "code",
      "source": [
        "knn"
      ],
      "metadata": {
        "colab": {
          "base_uri": "https://localhost:8080/"
        },
        "id": "gxQjFAxLSlur",
        "outputId": "95bdbd76-9cb1-442a-bd14-08871805206b"
      },
      "execution_count": 243,
      "outputs": [
        {
          "output_type": "execute_result",
          "data": {
            "text/plain": [
              "KNeighborsClassifier(n_neighbors=49)"
            ]
          },
          "metadata": {},
          "execution_count": 243
        }
      ]
    },
    {
      "cell_type": "code",
      "source": [
        "knn.fit(x_train,y_train)\n",
        "init_accuracy, _ , recall_, _ = classification_report_and_interpretation(y_test,knn.predict(x_test))"
      ],
      "metadata": {
        "colab": {
          "base_uri": "https://localhost:8080/"
        },
        "id": "kz3w9fGDYJEn",
        "outputId": "050ba6fd-7b37-4929-a31d-79c05435545c"
      },
      "execution_count": 471,
      "outputs": [
        {
          "output_type": "stream",
          "name": "stdout",
          "text": [
            "              precision    recall  f1-score   support\n",
            "\n",
            "           0       0.80      0.88      0.84       119\n",
            "           1       0.77      0.64      0.70        73\n",
            "\n",
            "    accuracy                           0.79       192\n",
            "   macro avg       0.79      0.76      0.77       192\n",
            "weighted avg       0.79      0.79      0.79       192\n",
            "\n",
            "---\n",
            "Precision 0 : Of all the people that the model predicted had no diabetes, only 80% actually has it.\n",
            "Precision 1 : Of all the people that the model predicted had diabetes, only 77% actually didn't have it.\n",
            "Recall 0    : Of all the people with no diabetes [119], the model predicted this outcome correctly for 88% of them.\n",
            "Recall 1    : Of all the people with diabetes [73], the model predicted this outcome correctly for 64% of them.\n",
            "---\n"
          ]
        }
      ]
    },
    {
      "cell_type": "code",
      "source": [
        "knn.fit(x_train_aug,y_train_aug)\n",
        "init_accuracy, _ , recall_, _ = classification_report_and_interpretation(y_test,knn.predict(x_test))"
      ],
      "metadata": {
        "colab": {
          "base_uri": "https://localhost:8080/"
        },
        "id": "D3LSjDSkugOf",
        "outputId": "51b6d39c-5a99-4061-87b7-7315fb68bd05"
      },
      "execution_count": 472,
      "outputs": [
        {
          "output_type": "stream",
          "name": "stdout",
          "text": [
            "              precision    recall  f1-score   support\n",
            "\n",
            "           0       0.88      0.78      0.83       119\n",
            "           1       0.70      0.82      0.75        73\n",
            "\n",
            "    accuracy                           0.80       192\n",
            "   macro avg       0.79      0.80      0.79       192\n",
            "weighted avg       0.81      0.80      0.80       192\n",
            "\n",
            "---\n",
            "Precision 0 : Of all the people that the model predicted had no diabetes, only 88% actually has it.\n",
            "Precision 1 : Of all the people that the model predicted had diabetes, only 70% actually didn't have it.\n",
            "Recall 0    : Of all the people with no diabetes [119], the model predicted this outcome correctly for 78% of them.\n",
            "Recall 1    : Of all the people with diabetes [73], the model predicted this outcome correctly for 82% of them.\n",
            "---\n"
          ]
        }
      ]
    },
    {
      "cell_type": "markdown",
      "source": [
        "il est possible d'obtenir une approximation de **l'importance des variables** en effectuant une analyse en série sur chaque variable.\n",
        "\n",
        "L'idée est de **mesurer l'impact sur les prédictions** lorsque vous retirez une variable à la fois. **Si l'exclusion d'une variable entraîne une baisse significative** de la performance du modèle, cela suggère que **cette variable est importante** pour la prédiction."
      ],
      "metadata": {
        "id": "hs0-ozM3W2Xu"
      }
    },
    {
      "cell_type": "code",
      "source": [
        "def vars_importance_analysis(model,x_train, y_train, x_test, y_test, metric_focus = \"recall\"):\n",
        "\n",
        "    if metric_focus == \"accuracy\":\n",
        "        score = accuracy_score\n",
        "    elif metric_focus == \"recall\":\n",
        "        score = recall_score\n",
        "    elif metric_focus == \"precision\":\n",
        "        score = precision_score\n",
        "    else:\n",
        "        score = accuracy_score\n",
        "        metric_focus = \"accuracy\"\n",
        "\n",
        "\n",
        "    knn.fit(x_train,y_train)\n",
        "    init_accuracy = score(y_test, knn.predict(x_test))\n",
        "\n",
        "    # l'accuracy initiale\n",
        "    print(f\"{metric_focus.capitalize()} initiale : {init_accuracy:.2f} \" )\n",
        "\n",
        "    # mesure de l'accuracy après l'exclusion de chaque feature\n",
        "    mesures = {}\n",
        "    for feature in x_train.columns:\n",
        "        x_train_temp = x_train.drop(feature, axis=1)\n",
        "        knn.fit(x_train_temp,y_train)\n",
        "\n",
        "        x_test_temp = x_test.drop(feature, axis=1)\n",
        "        accuracy_temp = score(y_test, knn.predict(x_test_temp))\n",
        "        mesures[feature] = accuracy_temp \n",
        "\n",
        "    for feature, accuracy_temp in sorted(mesures.items(),key=lambda x: x[1]):\n",
        "        p = (init_accuracy - accuracy_temp) / init_accuracy\n",
        "        print(f\"{metric_focus.capitalize()} après l'exclusion de la feature '{feature}' : {accuracy_temp:.2f} ({p :.1%})\")\n",
        "        \n",
        "vars_importance_analysis(knn,x_train,y_train,x_test,y_test)"
      ],
      "metadata": {
        "colab": {
          "base_uri": "https://localhost:8080/"
        },
        "id": "5SWOnj4vXDLV",
        "outputId": "3f69f323-1439-4f6a-8040-1ccb7f2d186f"
      },
      "execution_count": 473,
      "outputs": [
        {
          "output_type": "stream",
          "name": "stdout",
          "text": [
            "Recall initiale : 0.64 \n",
            "Recall après l'exclusion de la feature 'Glucose' : 0.45 (29.8%)\n",
            "Recall après l'exclusion de la feature 'BloodPressure' : 0.59 (8.5%)\n",
            "Recall après l'exclusion de la feature 'Insulin' : 0.59 (8.5%)\n",
            "Recall après l'exclusion de la feature 'SkinThickness' : 0.60 (6.4%)\n",
            "Recall après l'exclusion de la feature 'BMI' : 0.60 (6.4%)\n",
            "Recall après l'exclusion de la feature 'DiabetesPedigreeFunction' : 0.62 (4.3%)\n",
            "Recall après l'exclusion de la feature 'Age' : 0.62 (4.3%)\n",
            "Recall après l'exclusion de la feature 'Pregnancies' : 0.68 (-6.4%)\n"
          ]
        }
      ]
    },
    {
      "cell_type": "markdown",
      "source": [
        "Le glucose est la variable la plus importante\n",
        "ce qui n'est pas illogique"
      ],
      "metadata": {
        "id": "hh6Lz4Y0g7dH"
      }
    },
    {
      "cell_type": "code",
      "source": [
        "vars_importance_analysis(knn,x_train_aug,y_train_aug,x_test,y_test)"
      ],
      "metadata": {
        "colab": {
          "base_uri": "https://localhost:8080/"
        },
        "id": "6dRQJV4dgRZc",
        "outputId": "b97f3b4e-496c-43b6-d9e3-1419d86511e7"
      },
      "execution_count": 474,
      "outputs": [
        {
          "output_type": "stream",
          "name": "stdout",
          "text": [
            "Recall initiale : 0.82 \n",
            "Recall après l'exclusion de la feature 'Glucose' : 0.68 (16.7%)\n",
            "Recall après l'exclusion de la feature 'Age' : 0.75 (8.3%)\n",
            "Recall après l'exclusion de la feature 'BloodPressure' : 0.77 (6.7%)\n",
            "Recall après l'exclusion de la feature 'SkinThickness' : 0.78 (5.0%)\n",
            "Recall après l'exclusion de la feature 'Pregnancies' : 0.79 (3.3%)\n",
            "Recall après l'exclusion de la feature 'Insulin' : 0.79 (3.3%)\n",
            "Recall après l'exclusion de la feature 'BMI' : 0.82 (0.0%)\n",
            "Recall après l'exclusion de la feature 'DiabetesPedigreeFunction' : 0.82 (0.0%)\n"
          ]
        }
      ]
    },
    {
      "cell_type": "markdown",
      "source": [
        "#### Conclusion #Marketing"
      ],
      "metadata": {
        "id": "5TQnhNDMhECH"
      }
    },
    {
      "cell_type": "markdown",
      "source": [
        "> Le modèle est très bon pour prédire les gens qui n'ont pas le diabète. J'imagine bien mon modèle être utiliser par les medecins car ils leurs permettra de gagner du temps en éliminant rapidement les gens qui n'ont pas de diabète pour sure."
      ],
      "metadata": {
        "id": "VCbyWMKzSosJ"
      }
    },
    {
      "cell_type": "markdown",
      "source": [
        "# TODO\n",
        "\n",
        "- sur le training afficher la vrai valeur et la prédiction pour voir les biais, voir ce qu'il arrive à bien classifier, esayer de comprendre pk ça il arrive bien a class, donne des pitestes : faire fct qui affiche les indivu là où il se trompte\n",
        "\n",
        "voir important c des variables dans la construction des modèle, ar importance, VIP p\n",
        "\n",
        "pas importante, donc plutot que eliminer\n",
        "\n",
        "\n",
        "atttetin oversamplit alors que missing values  0qiuel ets le model quia rriv à elimitner le plus e pa=tin\n",
        "\n",
        "mette le sueli le plus vbas possible pour etre de  \n",
        "bouger le seuil pour afficher plus de1 quoi\n",
        "\n"
      ],
      "metadata": {
        "id": "v2ofbqbWW9Zu"
      }
    }
  ]
}